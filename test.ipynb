{
 "cells": [
  {
   "cell_type": "code",
   "execution_count": 1,
   "id": "878105ac-2e1f-4537-acd9-9ee2e8d96234",
   "metadata": {},
   "outputs": [
    {
     "name": "stdout",
     "output_type": "stream",
     "text": [
      "“The world as we have created it is a process of our thinking. It cannot be changed without changing our thinking.” — Albert Einstein\n",
      "“It is our choices, Harry, that show what we truly are, far more than our abilities.” — J.K. Rowling\n",
      "“There are only two ways to live your life. One is as though nothing is a miracle. The other is as though everything is a miracle.” — Albert Einstein\n",
      "“The person, be it gentleman or lady, who has not pleasure in a good novel, must be intolerably stupid.” — Jane Austen\n",
      "“Imperfection is beauty, madness is genius and it's better to be absolutely ridiculous than absolutely boring.” — Marilyn Monroe\n",
      "“Try not to become a man of success. Rather become a man of value.” — Albert Einstein\n",
      "“It is better to be hated for what you are than to be loved for what you are not.” — André Gide\n",
      "“I have not failed. I've just found 10,000 ways that won't work.” — Thomas A. Edison\n",
      "“A woman is like a tea bag; you never know how strong it is until it's in hot water.” — Eleanor Roosevelt\n",
      "“A day without sunshine is like, you know, night.” — Steve Martin\n"
     ]
    }
   ],
   "source": [
    "import requests\n",
    "from bs4 import BeautifulSoup\n",
    "\n",
    "# 1. URL 설정\n",
    "url = \"http://quotes.toscrape.com/page/1/\"\n",
    "\n",
    "# 2. HTTP 요청\n",
    "response = requests.get(url)\n",
    "soup = BeautifulSoup(response.text, \"html.parser\")\n",
    "\n",
    "# 3. 명언과 저자 추출\n",
    "quotes = soup.find_all(\"div\", class_=\"quote\")\n",
    "\n",
    "for quote in quotes:\n",
    "    text = quote.find(\"span\", class_=\"text\").get_text()\n",
    "    author = quote.find(\"small\", class_=\"author\").get_text()\n",
    "    print(f\"{text} — {author}\")"
   ]
  },
  {
   "cell_type": "markdown",
   "id": "0e2b9260-bb00-4d3c-bdbd-4ca4dd2ebf61",
   "metadata": {},
   "source": [
    "# NY Times 웹 크롤링 (API)"
   ]
  },
  {
   "cell_type": "code",
   "execution_count": null,
   "id": "6474b351-219b-444b-9c9f-252afcc6b06a",
   "metadata": {},
   "outputs": [
    {
     "data": {
      "text/html": [
       "<div>\n",
       "<style scoped>\n",
       "    .dataframe tbody tr th:only-of-type {\n",
       "        vertical-align: middle;\n",
       "    }\n",
       "\n",
       "    .dataframe tbody tr th {\n",
       "        vertical-align: top;\n",
       "    }\n",
       "\n",
       "    .dataframe thead th {\n",
       "        text-align: right;\n",
       "    }\n",
       "</style>\n",
       "<table border=\"1\" class=\"dataframe\">\n",
       "  <thead>\n",
       "    <tr style=\"text-align: right;\">\n",
       "      <th></th>\n",
       "      <th>uri</th>\n",
       "      <th>url</th>\n",
       "      <th>id</th>\n",
       "      <th>asset_id</th>\n",
       "      <th>source</th>\n",
       "      <th>published_date</th>\n",
       "      <th>updated</th>\n",
       "      <th>section</th>\n",
       "      <th>subsection</th>\n",
       "      <th>nytdsection</th>\n",
       "      <th>...</th>\n",
       "      <th>byline</th>\n",
       "      <th>type</th>\n",
       "      <th>title</th>\n",
       "      <th>abstract</th>\n",
       "      <th>des_facet</th>\n",
       "      <th>org_facet</th>\n",
       "      <th>per_facet</th>\n",
       "      <th>geo_facet</th>\n",
       "      <th>media</th>\n",
       "      <th>eta_id</th>\n",
       "    </tr>\n",
       "  </thead>\n",
       "  <tbody>\n",
       "    <tr>\n",
       "      <th>0</th>\n",
       "      <td>nyt://article/145cfe92-7c5f-5da3-8ecf-6167d2e7...</td>\n",
       "      <td>https://www.nytimes.com/2025/06/17/nyregion/br...</td>\n",
       "      <td>100000010234457</td>\n",
       "      <td>100000010234457</td>\n",
       "      <td>New York Times</td>\n",
       "      <td>2025-06-17</td>\n",
       "      <td>2025-06-17 18:49:31</td>\n",
       "      <td>New York</td>\n",
       "      <td></td>\n",
       "      <td>new york</td>\n",
       "      <td>...</td>\n",
       "      <td>By Luis Ferré-Sadurní</td>\n",
       "      <td>Article</td>\n",
       "      <td>Brad Lander Is Arrested by ICE Agents at Immig...</td>\n",
       "      <td>Mr. Lander, the New York City comptroller and ...</td>\n",
       "      <td>[Immigration and Emigration, Elections, Mayors]</td>\n",
       "      <td>[Immigration and Customs Enforcement (US), Off...</td>\n",
       "      <td>[Lander, Brad]</td>\n",
       "      <td>[]</td>\n",
       "      <td>[{'type': 'image', 'subtype': 'photo', 'captio...</td>\n",
       "      <td>0</td>\n",
       "    </tr>\n",
       "    <tr>\n",
       "      <th>1</th>\n",
       "      <td>nyt://article/a172f7c2-ed0d-55e8-9d2d-1bf83d8b...</td>\n",
       "      <td>https://www.nytimes.com/2025/06/16/us/politics...</td>\n",
       "      <td>100000010231464</td>\n",
       "      <td>100000010231464</td>\n",
       "      <td>New York Times</td>\n",
       "      <td>2025-06-16</td>\n",
       "      <td>2025-06-17 13:54:30</td>\n",
       "      <td>U.S.</td>\n",
       "      <td>Politics</td>\n",
       "      <td>u.s.</td>\n",
       "      <td>...</td>\n",
       "      <td>By David E. Sanger and Jonathan Swan</td>\n",
       "      <td>Article</td>\n",
       "      <td>Trump’s Iran Choice: Last-Chance Diplomacy or ...</td>\n",
       "      <td>Iranian officials have warned that U.S. partic...</td>\n",
       "      <td>[United States Politics and Government, United...</td>\n",
       "      <td>[Republican Party]</td>\n",
       "      <td>[Trump, Donald J, Araghchi, Abbas, Netanyahu, ...</td>\n",
       "      <td>[Fordo (Iran), Iran, Israel, Middle East]</td>\n",
       "      <td>[{'type': 'image', 'subtype': 'photo', 'captio...</td>\n",
       "      <td>0</td>\n",
       "    </tr>\n",
       "    <tr>\n",
       "      <th>2</th>\n",
       "      <td>nyt://article/6f64f0f2-b59d-5eb7-bedd-068afcab...</td>\n",
       "      <td>https://www.nytimes.com/2025/06/17/business/ta...</td>\n",
       "      <td>100000010221064</td>\n",
       "      <td>100000010221064</td>\n",
       "      <td>New York Times</td>\n",
       "      <td>2025-06-17</td>\n",
       "      <td>2025-06-17 12:03:45</td>\n",
       "      <td>Business</td>\n",
       "      <td></td>\n",
       "      <td>business</td>\n",
       "      <td>...</td>\n",
       "      <td>By Alexandra Stevenson</td>\n",
       "      <td>Article</td>\n",
       "      <td>China Is Unleashing a New Export Shock on the ...</td>\n",
       "      <td>As President Trump’s tariffs close off the U.S...</td>\n",
       "      <td>[Customs (Tariff), International Trade and Wor...</td>\n",
       "      <td>[]</td>\n",
       "      <td>[Trump, Donald J]</td>\n",
       "      <td>[China, United States, Brazil, Europe, Far Eas...</td>\n",
       "      <td>[{'type': 'image', 'subtype': 'photo', 'captio...</td>\n",
       "      <td>0</td>\n",
       "    </tr>\n",
       "    <tr>\n",
       "      <th>3</th>\n",
       "      <td>nyt://article/71d8f577-633a-5b5a-ba44-03bd579d...</td>\n",
       "      <td>https://www.nytimes.com/2025/06/16/us/politics...</td>\n",
       "      <td>100000010232194</td>\n",
       "      <td>100000010232194</td>\n",
       "      <td>New York Times</td>\n",
       "      <td>2025-06-16</td>\n",
       "      <td>2025-06-17 13:37:41</td>\n",
       "      <td>U.S.</td>\n",
       "      <td>Politics</td>\n",
       "      <td>u.s.</td>\n",
       "      <td>...</td>\n",
       "      <td>By Charlie Savage and Edward Wong</td>\n",
       "      <td>Article</td>\n",
       "      <td>36 More Countries May Be Added to Trump’s Trav...</td>\n",
       "      <td>The administration gave the nations 60 days to...</td>\n",
       "      <td>[United States International Relations, Trump ...</td>\n",
       "      <td>[State Department]</td>\n",
       "      <td>[Trump, Donald J]</td>\n",
       "      <td>[Africa, Angola, Antigua and Barbuda, Benin, B...</td>\n",
       "      <td>[{'type': 'image', 'subtype': 'photo', 'captio...</td>\n",
       "      <td>0</td>\n",
       "    </tr>\n",
       "    <tr>\n",
       "      <th>4</th>\n",
       "      <td>nyt://article/fe8035de-cdf2-537f-bbc3-64e7bc3f...</td>\n",
       "      <td>https://www.nytimes.com/2025/06/17/us/politics...</td>\n",
       "      <td>100000010230990</td>\n",
       "      <td>100000010230990</td>\n",
       "      <td>New York Times</td>\n",
       "      <td>2025-06-17</td>\n",
       "      <td>2025-06-17 13:10:42</td>\n",
       "      <td>U.S.</td>\n",
       "      <td>Politics</td>\n",
       "      <td>u.s.</td>\n",
       "      <td>...</td>\n",
       "      <td>By Jonathan Swan, Maggie Haberman, Mark Mazzet...</td>\n",
       "      <td>Article</td>\n",
       "      <td>How Trump Shifted on Iran Under Pressure From ...</td>\n",
       "      <td>President Trump spent the first months of his ...</td>\n",
       "      <td>[Iran-Israel Proxy Conflict, International Rel...</td>\n",
       "      <td>[]</td>\n",
       "      <td>[Netanyahu, Benjamin, Trump, Donald J, Witkoff...</td>\n",
       "      <td>[Iran, Israel]</td>\n",
       "      <td>[{'type': 'image', 'subtype': 'photo', 'captio...</td>\n",
       "      <td>0</td>\n",
       "    </tr>\n",
       "    <tr>\n",
       "      <th>5</th>\n",
       "      <td>nyt://article/6a02d3cd-b67b-502c-99d3-2a5f6ab1...</td>\n",
       "      <td>https://www.nytimes.com/2025/06/17/opinion/tru...</td>\n",
       "      <td>100000010232657</td>\n",
       "      <td>100000010232657</td>\n",
       "      <td>New York Times</td>\n",
       "      <td>2025-06-17</td>\n",
       "      <td>2025-06-17 18:03:18</td>\n",
       "      <td>Opinion</td>\n",
       "      <td></td>\n",
       "      <td>opinion</td>\n",
       "      <td>...</td>\n",
       "      <td>By Thomas B. Edsall</td>\n",
       "      <td>Article</td>\n",
       "      <td>Could the Third Time Be the Charm on Impeachme...</td>\n",
       "      <td>There are many legitimate reasons to try Trump...</td>\n",
       "      <td>[United States Politics and Government, Freedo...</td>\n",
       "      <td>[Republican Party]</td>\n",
       "      <td>[Trump, Donald J]</td>\n",
       "      <td>[United States]</td>\n",
       "      <td>[{'type': 'image', 'subtype': 'photo', 'captio...</td>\n",
       "      <td>0</td>\n",
       "    </tr>\n",
       "    <tr>\n",
       "      <th>6</th>\n",
       "      <td>nyt://article/65749417-97aa-5bf3-bebd-cc23769d...</td>\n",
       "      <td>https://www.nytimes.com/2025/06/17/arts/televi...</td>\n",
       "      <td>100000010219694</td>\n",
       "      <td>100000010219694</td>\n",
       "      <td>New York Times</td>\n",
       "      <td>2025-06-17</td>\n",
       "      <td>2025-06-17 18:02:48</td>\n",
       "      <td>Arts</td>\n",
       "      <td>Television</td>\n",
       "      <td>arts</td>\n",
       "      <td>...</td>\n",
       "      <td>By The New York Times</td>\n",
       "      <td>Article</td>\n",
       "      <td>The Best TV Shows of 2025, So Far</td>\n",
       "      <td>Returning hits like “Severance” and “The White...</td>\n",
       "      <td>[Television]</td>\n",
       "      <td>[]</td>\n",
       "      <td>[]</td>\n",
       "      <td>[]</td>\n",
       "      <td>[{'type': 'image', 'subtype': 'photo', 'captio...</td>\n",
       "      <td>0</td>\n",
       "    </tr>\n",
       "    <tr>\n",
       "      <th>7</th>\n",
       "      <td>nyt://article/2669488d-d9cb-55f4-ab80-4cd4fe29...</td>\n",
       "      <td>https://www.nytimes.com/2025/06/16/us/politics...</td>\n",
       "      <td>100000010232181</td>\n",
       "      <td>100000010232181</td>\n",
       "      <td>New York Times</td>\n",
       "      <td>2025-06-16</td>\n",
       "      <td>2025-06-16 22:38:13</td>\n",
       "      <td>U.S.</td>\n",
       "      <td>Politics</td>\n",
       "      <td>u.s.</td>\n",
       "      <td>...</td>\n",
       "      <td>By Annie Karni and Megan Mineiro</td>\n",
       "      <td>Article</td>\n",
       "      <td>Mike Lee Draws Outrage for Posts Blaming Assas...</td>\n",
       "      <td>The Republican senator from Utah suggested in ...</td>\n",
       "      <td>[United States Politics and Government, Assass...</td>\n",
       "      <td>[]</td>\n",
       "      <td>[Hortman, Melissa (1970-2025), Hoffman, John A...</td>\n",
       "      <td>[Minnesota, Utah]</td>\n",
       "      <td>[{'type': 'image', 'subtype': 'photo', 'captio...</td>\n",
       "      <td>0</td>\n",
       "    </tr>\n",
       "    <tr>\n",
       "      <th>8</th>\n",
       "      <td>nyt://article/261fb30e-f039-5732-93e7-622c2d7b...</td>\n",
       "      <td>https://www.nytimes.com/2025/06/17/magazine/ai...</td>\n",
       "      <td>100000010211093</td>\n",
       "      <td>100000010211093</td>\n",
       "      <td>New York Times</td>\n",
       "      <td>2025-06-17</td>\n",
       "      <td>2025-06-17 13:19:31</td>\n",
       "      <td>Magazine</td>\n",
       "      <td></td>\n",
       "      <td>magazine</td>\n",
       "      <td>...</td>\n",
       "      <td>By Robert Capps</td>\n",
       "      <td>Article</td>\n",
       "      <td>A.I. Might Take Your Job. Here Are 22 New Ones...</td>\n",
       "      <td>In a few key areas, humans will be more essent...</td>\n",
       "      <td>[Artificial Intelligence, Innovation, Labor an...</td>\n",
       "      <td>[]</td>\n",
       "      <td>[]</td>\n",
       "      <td>[]</td>\n",
       "      <td>[]</td>\n",
       "      <td>0</td>\n",
       "    </tr>\n",
       "    <tr>\n",
       "      <th>9</th>\n",
       "      <td>nyt://article/52228e2d-9135-5835-aedc-3ec8a3d1...</td>\n",
       "      <td>https://www.nytimes.com/2025/06/16/us/politics...</td>\n",
       "      <td>100000010232057</td>\n",
       "      <td>100000010232057</td>\n",
       "      <td>New York Times</td>\n",
       "      <td>2025-06-16</td>\n",
       "      <td>2025-06-17 12:45:07</td>\n",
       "      <td>U.S.</td>\n",
       "      <td>Politics</td>\n",
       "      <td>u.s.</td>\n",
       "      <td>...</td>\n",
       "      <td>By Helene Cooper, Eric Schmitt and Samuel Gran...</td>\n",
       "      <td>Article</td>\n",
       "      <td>Iran’s Best-Protected Nuclear Site Is Deep Und...</td>\n",
       "      <td>Only the U.S. military has the 30,000-pound bo...</td>\n",
       "      <td>[Defense and Military Forces, War and Armed Co...</td>\n",
       "      <td>[]</td>\n",
       "      <td>[Trump, Donald J]</td>\n",
       "      <td>[Iran, Israel]</td>\n",
       "      <td>[{'type': 'image', 'subtype': 'photo', 'captio...</td>\n",
       "      <td>0</td>\n",
       "    </tr>\n",
       "    <tr>\n",
       "      <th>10</th>\n",
       "      <td>nyt://article/d90aba6b-e506-5fe4-80fb-2eae4c9d...</td>\n",
       "      <td>https://www.nytimes.com/2025/06/16/world/canad...</td>\n",
       "      <td>100000010232796</td>\n",
       "      <td>100000010232796</td>\n",
       "      <td>New York Times</td>\n",
       "      <td>2025-06-16</td>\n",
       "      <td>2025-06-17 12:33:12</td>\n",
       "      <td>World</td>\n",
       "      <td>Canada</td>\n",
       "      <td>world</td>\n",
       "      <td>...</td>\n",
       "      <td>By Erica L. Green and Zolan Kanno-Youngs</td>\n",
       "      <td>Article</td>\n",
       "      <td>Trump Renews Embrace of Putin Amid Rift With A...</td>\n",
       "      <td>President Trump opened his remarks at the Grou...</td>\n",
       "      <td>[United States International Relations, Intern...</td>\n",
       "      <td>[Group of Seven]</td>\n",
       "      <td>[Trump, Donald J, Putin, Vladimir V]</td>\n",
       "      <td>[Canada, United States, Great Britain, Russia,...</td>\n",
       "      <td>[{'type': 'image', 'subtype': 'photo', 'captio...</td>\n",
       "      <td>0</td>\n",
       "    </tr>\n",
       "    <tr>\n",
       "      <th>11</th>\n",
       "      <td>nyt://article/732e4824-46c7-55a9-9d2c-c140948a...</td>\n",
       "      <td>https://www.nytimes.com/2025/06/17/us/politics...</td>\n",
       "      <td>100000010233882</td>\n",
       "      <td>100000010233882</td>\n",
       "      <td>New York Times</td>\n",
       "      <td>2025-06-17</td>\n",
       "      <td>2025-06-17 12:18:15</td>\n",
       "      <td>U.S.</td>\n",
       "      <td>Politics</td>\n",
       "      <td>u.s.</td>\n",
       "      <td>...</td>\n",
       "      <td>By Lisa Lerer</td>\n",
       "      <td>Article</td>\n",
       "      <td>Obama Steps Back Into Public Eye at a Stormy P...</td>\n",
       "      <td>He will appear on Tuesday evening in Hartford,...</td>\n",
       "      <td>[United States Politics and Government]</td>\n",
       "      <td>[Democratic Party]</td>\n",
       "      <td>[Obama, Barack, Richardson, Heather Cox, Trump...</td>\n",
       "      <td>[Hartford (Conn)]</td>\n",
       "      <td>[{'type': 'image', 'subtype': 'photo', 'captio...</td>\n",
       "      <td>0</td>\n",
       "    </tr>\n",
       "    <tr>\n",
       "      <th>12</th>\n",
       "      <td>nyt://article/a6de1632-2a16-5d6c-8d6a-6007dd57...</td>\n",
       "      <td>https://www.nytimes.com/2025/06/16/opinion/tru...</td>\n",
       "      <td>100000010231450</td>\n",
       "      <td>100000010231450</td>\n",
       "      <td>New York Times</td>\n",
       "      <td>2025-06-16</td>\n",
       "      <td>2025-06-16 22:20:18</td>\n",
       "      <td>Opinion</td>\n",
       "      <td></td>\n",
       "      <td>opinion</td>\n",
       "      <td>...</td>\n",
       "      <td>By Thomas L. Friedman</td>\n",
       "      <td>Article</td>\n",
       "      <td>The Smart Way for Trump to End the Israel-Iran...</td>\n",
       "      <td>President Trump has a chance to create the bes...</td>\n",
       "      <td>[Israel-Gaza War (2023- ), United States Inter...</td>\n",
       "      <td>[]</td>\n",
       "      <td>[Trump, Donald J, Netanyahu, Benjamin]</td>\n",
       "      <td>[Gaza Strip, Iran, Israel]</td>\n",
       "      <td>[{'type': 'image', 'subtype': 'photo', 'captio...</td>\n",
       "      <td>0</td>\n",
       "    </tr>\n",
       "    <tr>\n",
       "      <th>13</th>\n",
       "      <td>nyt://article/d48f0a7c-cc0b-501b-b2aa-c68ed691...</td>\n",
       "      <td>https://www.nytimes.com/2025/06/17/nyregion/ne...</td>\n",
       "      <td>100000010199461</td>\n",
       "      <td>100000010199461</td>\n",
       "      <td>New York Times</td>\n",
       "      <td>2025-06-17</td>\n",
       "      <td>2025-06-17 13:12:39</td>\n",
       "      <td>New York</td>\n",
       "      <td></td>\n",
       "      <td>new york</td>\n",
       "      <td>...</td>\n",
       "      <td>By Sarah Maslin Nir</td>\n",
       "      <td>Article</td>\n",
       "      <td>They Said She Was Home-Schooled. She Said She ...</td>\n",
       "      <td>A teenage girl fled her home last month after ...</td>\n",
       "      <td>[Child Abuse and Neglect, Home Schooling, Poli...</td>\n",
       "      <td>[Department of Children and Families (NJ)]</td>\n",
       "      <td>[Spencer, Brenda (1986- )]</td>\n",
       "      <td>[Blackwood (NJ), Camden County (NJ), New Jersey]</td>\n",
       "      <td>[{'type': 'image', 'subtype': 'photo', 'captio...</td>\n",
       "      <td>0</td>\n",
       "    </tr>\n",
       "    <tr>\n",
       "      <th>14</th>\n",
       "      <td>nyt://article/f5b40786-7df6-5e20-9a5a-62439989...</td>\n",
       "      <td>https://www.nytimes.com/2025/06/17/nyregion/pr...</td>\n",
       "      <td>100000010222036</td>\n",
       "      <td>100000010222036</td>\n",
       "      <td>New York Times</td>\n",
       "      <td>2025-06-17</td>\n",
       "      <td>2025-06-17 11:51:27</td>\n",
       "      <td>New York</td>\n",
       "      <td></td>\n",
       "      <td>new york</td>\n",
       "      <td>...</td>\n",
       "      <td>By Tracey Tully</td>\n",
       "      <td>Article</td>\n",
       "      <td>A Senator’s Fall From Grace Ends in a Grim Fed...</td>\n",
       "      <td>For decades, Robert Menendez, 71, was one of N...</td>\n",
       "      <td>[Corruption (Institutional), Bribery and Kickb...</td>\n",
       "      <td>[Federal Correctional Institution, Schuylkill]</td>\n",
       "      <td>[Menendez, Robert, Menendez, Nadine, Trump, Do...</td>\n",
       "      <td>[New Jersey, Pennsylvania]</td>\n",
       "      <td>[{'type': 'image', 'subtype': 'photo', 'captio...</td>\n",
       "      <td>0</td>\n",
       "    </tr>\n",
       "    <tr>\n",
       "      <th>15</th>\n",
       "      <td>nyt://article/d12fdd6b-2fa3-59be-b6ba-2773ed1a...</td>\n",
       "      <td>https://www.nytimes.com/2025/06/17/opinion/ezr...</td>\n",
       "      <td>100000010228120</td>\n",
       "      <td>100000010228120</td>\n",
       "      <td>New York Times</td>\n",
       "      <td>2025-06-17</td>\n",
       "      <td>2025-06-17 10:50:19</td>\n",
       "      <td>Opinion</td>\n",
       "      <td></td>\n",
       "      <td>opinion</td>\n",
       "      <td>...</td>\n",
       "      <td>By Ezra Klein</td>\n",
       "      <td>Article</td>\n",
       "      <td>Sarah McBride on Why the Left Lost on Trans Ri...</td>\n",
       "      <td>Representative Sarah McBride reckons with the ...</td>\n",
       "      <td>[United States Politics and Government, Transg...</td>\n",
       "      <td>[]</td>\n",
       "      <td>[McBride, Sarah (1990- )]</td>\n",
       "      <td>[]</td>\n",
       "      <td>[{'type': 'image', 'subtype': 'photo', 'captio...</td>\n",
       "      <td>0</td>\n",
       "    </tr>\n",
       "    <tr>\n",
       "      <th>16</th>\n",
       "      <td>nyt://article/423fd172-cd82-5277-8dbb-245764b8...</td>\n",
       "      <td>https://www.nytimes.com/2025/06/17/us/politics...</td>\n",
       "      <td>100000010231519</td>\n",
       "      <td>100000010231519</td>\n",
       "      <td>New York Times</td>\n",
       "      <td>2025-06-17</td>\n",
       "      <td>2025-06-17 09:32:35</td>\n",
       "      <td>U.S.</td>\n",
       "      <td>Politics</td>\n",
       "      <td>u.s.</td>\n",
       "      <td>...</td>\n",
       "      <td>By Reid J. Epstein</td>\n",
       "      <td>Article</td>\n",
       "      <td>Republicans Fight Uphill in Virginia Race That...</td>\n",
       "      <td>The Democratic candidate for governor, Abigail...</td>\n",
       "      <td>[Elections, Governors, United States Politics ...</td>\n",
       "      <td>[Democratic Party, Republican Party]</td>\n",
       "      <td>[Spanberger, Abigail, Earle-Sears, Winsome, Tr...</td>\n",
       "      <td>[Virginia]</td>\n",
       "      <td>[{'type': 'image', 'subtype': 'photo', 'captio...</td>\n",
       "      <td>0</td>\n",
       "    </tr>\n",
       "    <tr>\n",
       "      <th>17</th>\n",
       "      <td>nyt://article/1632026a-a5a0-5097-be45-9c49a648...</td>\n",
       "      <td>https://www.nytimes.com/2025/06/16/opinion/tru...</td>\n",
       "      <td>100000010232096</td>\n",
       "      <td>100000010232096</td>\n",
       "      <td>New York Times</td>\n",
       "      <td>2025-06-16</td>\n",
       "      <td>2025-06-17 09:17:47</td>\n",
       "      <td>Opinion</td>\n",
       "      <td></td>\n",
       "      <td>opinion</td>\n",
       "      <td>...</td>\n",
       "      <td>By Michelle Goldberg</td>\n",
       "      <td>Article</td>\n",
       "      <td>Trump Has Reawakened the Resistance</td>\n",
       "      <td>Huge protests dwarfed the administration’s sad...</td>\n",
       "      <td>[United States Politics and Government, Demons...</td>\n",
       "      <td>[Democratic Party]</td>\n",
       "      <td>[Trump, Donald J]</td>\n",
       "      <td>[Los Angeles (Calif), United States]</td>\n",
       "      <td>[{'type': 'image', 'subtype': 'photo', 'captio...</td>\n",
       "      <td>0</td>\n",
       "    </tr>\n",
       "    <tr>\n",
       "      <th>18</th>\n",
       "      <td>nyt://article/e4e04a2e-cbbd-51d8-b054-c3702036...</td>\n",
       "      <td>https://www.nytimes.com/2025/06/17/world/europ...</td>\n",
       "      <td>100000010233718</td>\n",
       "      <td>100000010233718</td>\n",
       "      <td>New York Times</td>\n",
       "      <td>2025-06-17</td>\n",
       "      <td>2025-06-17 09:07:33</td>\n",
       "      <td>World</td>\n",
       "      <td>Europe</td>\n",
       "      <td>world</td>\n",
       "      <td>...</td>\n",
       "      <td>By Mark Landler</td>\n",
       "      <td>Article</td>\n",
       "      <td>Starmer Picks Up Trump’s Papers, and 2 Small P...</td>\n",
       "      <td>The British prime minister scrambled at Presid...</td>\n",
       "      <td>[International Relations, United States Politi...</td>\n",
       "      <td>[Group of Seven]</td>\n",
       "      <td>[Starmer, Keir, Trump, Donald J]</td>\n",
       "      <td>[Alberta (Canada), Europe, Canada, Great Brita...</td>\n",
       "      <td>[]</td>\n",
       "      <td>0</td>\n",
       "    </tr>\n",
       "    <tr>\n",
       "      <th>19</th>\n",
       "      <td>nyt://article/605f31e9-92a4-516d-a41b-9608eead...</td>\n",
       "      <td>https://www.nytimes.com/2025/06/16/dining/jame...</td>\n",
       "      <td>100000010232498</td>\n",
       "      <td>100000010232498</td>\n",
       "      <td>New York Times</td>\n",
       "      <td>2025-06-16</td>\n",
       "      <td>2025-06-17 19:51:59</td>\n",
       "      <td>Food</td>\n",
       "      <td></td>\n",
       "      <td>food</td>\n",
       "      <td>...</td>\n",
       "      <td>By Julia Moskin</td>\n",
       "      <td>Article</td>\n",
       "      <td>Here Are the 2025 James Beard Restaurant Award...</td>\n",
       "      <td>Toni Tipton-Martin, Jungsik Yim and the restau...</td>\n",
       "      <td>[Restaurants, Chefs, Awards, Decorations and H...</td>\n",
       "      <td>[Antica Terra Winery, Beard, James, Foundation...</td>\n",
       "      <td>[]</td>\n",
       "      <td>[Chicago (Ill)]</td>\n",
       "      <td>[{'type': 'image', 'subtype': 'photo', 'captio...</td>\n",
       "      <td>0</td>\n",
       "    </tr>\n",
       "  </tbody>\n",
       "</table>\n",
       "<p>20 rows × 22 columns</p>\n",
       "</div>"
      ],
      "text/plain": [
       "                                                  uri  \\\n",
       "0   nyt://article/145cfe92-7c5f-5da3-8ecf-6167d2e7...   \n",
       "1   nyt://article/a172f7c2-ed0d-55e8-9d2d-1bf83d8b...   \n",
       "2   nyt://article/6f64f0f2-b59d-5eb7-bedd-068afcab...   \n",
       "3   nyt://article/71d8f577-633a-5b5a-ba44-03bd579d...   \n",
       "4   nyt://article/fe8035de-cdf2-537f-bbc3-64e7bc3f...   \n",
       "5   nyt://article/6a02d3cd-b67b-502c-99d3-2a5f6ab1...   \n",
       "6   nyt://article/65749417-97aa-5bf3-bebd-cc23769d...   \n",
       "7   nyt://article/2669488d-d9cb-55f4-ab80-4cd4fe29...   \n",
       "8   nyt://article/261fb30e-f039-5732-93e7-622c2d7b...   \n",
       "9   nyt://article/52228e2d-9135-5835-aedc-3ec8a3d1...   \n",
       "10  nyt://article/d90aba6b-e506-5fe4-80fb-2eae4c9d...   \n",
       "11  nyt://article/732e4824-46c7-55a9-9d2c-c140948a...   \n",
       "12  nyt://article/a6de1632-2a16-5d6c-8d6a-6007dd57...   \n",
       "13  nyt://article/d48f0a7c-cc0b-501b-b2aa-c68ed691...   \n",
       "14  nyt://article/f5b40786-7df6-5e20-9a5a-62439989...   \n",
       "15  nyt://article/d12fdd6b-2fa3-59be-b6ba-2773ed1a...   \n",
       "16  nyt://article/423fd172-cd82-5277-8dbb-245764b8...   \n",
       "17  nyt://article/1632026a-a5a0-5097-be45-9c49a648...   \n",
       "18  nyt://article/e4e04a2e-cbbd-51d8-b054-c3702036...   \n",
       "19  nyt://article/605f31e9-92a4-516d-a41b-9608eead...   \n",
       "\n",
       "                                                  url               id  \\\n",
       "0   https://www.nytimes.com/2025/06/17/nyregion/br...  100000010234457   \n",
       "1   https://www.nytimes.com/2025/06/16/us/politics...  100000010231464   \n",
       "2   https://www.nytimes.com/2025/06/17/business/ta...  100000010221064   \n",
       "3   https://www.nytimes.com/2025/06/16/us/politics...  100000010232194   \n",
       "4   https://www.nytimes.com/2025/06/17/us/politics...  100000010230990   \n",
       "5   https://www.nytimes.com/2025/06/17/opinion/tru...  100000010232657   \n",
       "6   https://www.nytimes.com/2025/06/17/arts/televi...  100000010219694   \n",
       "7   https://www.nytimes.com/2025/06/16/us/politics...  100000010232181   \n",
       "8   https://www.nytimes.com/2025/06/17/magazine/ai...  100000010211093   \n",
       "9   https://www.nytimes.com/2025/06/16/us/politics...  100000010232057   \n",
       "10  https://www.nytimes.com/2025/06/16/world/canad...  100000010232796   \n",
       "11  https://www.nytimes.com/2025/06/17/us/politics...  100000010233882   \n",
       "12  https://www.nytimes.com/2025/06/16/opinion/tru...  100000010231450   \n",
       "13  https://www.nytimes.com/2025/06/17/nyregion/ne...  100000010199461   \n",
       "14  https://www.nytimes.com/2025/06/17/nyregion/pr...  100000010222036   \n",
       "15  https://www.nytimes.com/2025/06/17/opinion/ezr...  100000010228120   \n",
       "16  https://www.nytimes.com/2025/06/17/us/politics...  100000010231519   \n",
       "17  https://www.nytimes.com/2025/06/16/opinion/tru...  100000010232096   \n",
       "18  https://www.nytimes.com/2025/06/17/world/europ...  100000010233718   \n",
       "19  https://www.nytimes.com/2025/06/16/dining/jame...  100000010232498   \n",
       "\n",
       "           asset_id          source published_date              updated  \\\n",
       "0   100000010234457  New York Times     2025-06-17  2025-06-17 18:49:31   \n",
       "1   100000010231464  New York Times     2025-06-16  2025-06-17 13:54:30   \n",
       "2   100000010221064  New York Times     2025-06-17  2025-06-17 12:03:45   \n",
       "3   100000010232194  New York Times     2025-06-16  2025-06-17 13:37:41   \n",
       "4   100000010230990  New York Times     2025-06-17  2025-06-17 13:10:42   \n",
       "5   100000010232657  New York Times     2025-06-17  2025-06-17 18:03:18   \n",
       "6   100000010219694  New York Times     2025-06-17  2025-06-17 18:02:48   \n",
       "7   100000010232181  New York Times     2025-06-16  2025-06-16 22:38:13   \n",
       "8   100000010211093  New York Times     2025-06-17  2025-06-17 13:19:31   \n",
       "9   100000010232057  New York Times     2025-06-16  2025-06-17 12:45:07   \n",
       "10  100000010232796  New York Times     2025-06-16  2025-06-17 12:33:12   \n",
       "11  100000010233882  New York Times     2025-06-17  2025-06-17 12:18:15   \n",
       "12  100000010231450  New York Times     2025-06-16  2025-06-16 22:20:18   \n",
       "13  100000010199461  New York Times     2025-06-17  2025-06-17 13:12:39   \n",
       "14  100000010222036  New York Times     2025-06-17  2025-06-17 11:51:27   \n",
       "15  100000010228120  New York Times     2025-06-17  2025-06-17 10:50:19   \n",
       "16  100000010231519  New York Times     2025-06-17  2025-06-17 09:32:35   \n",
       "17  100000010232096  New York Times     2025-06-16  2025-06-17 09:17:47   \n",
       "18  100000010233718  New York Times     2025-06-17  2025-06-17 09:07:33   \n",
       "19  100000010232498  New York Times     2025-06-16  2025-06-17 19:51:59   \n",
       "\n",
       "     section  subsection nytdsection  ...  \\\n",
       "0   New York                new york  ...   \n",
       "1       U.S.    Politics        u.s.  ...   \n",
       "2   Business                business  ...   \n",
       "3       U.S.    Politics        u.s.  ...   \n",
       "4       U.S.    Politics        u.s.  ...   \n",
       "5    Opinion                 opinion  ...   \n",
       "6       Arts  Television        arts  ...   \n",
       "7       U.S.    Politics        u.s.  ...   \n",
       "8   Magazine                magazine  ...   \n",
       "9       U.S.    Politics        u.s.  ...   \n",
       "10     World      Canada       world  ...   \n",
       "11      U.S.    Politics        u.s.  ...   \n",
       "12   Opinion                 opinion  ...   \n",
       "13  New York                new york  ...   \n",
       "14  New York                new york  ...   \n",
       "15   Opinion                 opinion  ...   \n",
       "16      U.S.    Politics        u.s.  ...   \n",
       "17   Opinion                 opinion  ...   \n",
       "18     World      Europe       world  ...   \n",
       "19      Food                    food  ...   \n",
       "\n",
       "                                               byline     type  \\\n",
       "0                               By Luis Ferré-Sadurní  Article   \n",
       "1                By David E. Sanger and Jonathan Swan  Article   \n",
       "2                              By Alexandra Stevenson  Article   \n",
       "3                   By Charlie Savage and Edward Wong  Article   \n",
       "4   By Jonathan Swan, Maggie Haberman, Mark Mazzet...  Article   \n",
       "5                                 By Thomas B. Edsall  Article   \n",
       "6                               By The New York Times  Article   \n",
       "7                    By Annie Karni and Megan Mineiro  Article   \n",
       "8                                     By Robert Capps  Article   \n",
       "9   By Helene Cooper, Eric Schmitt and Samuel Gran...  Article   \n",
       "10           By Erica L. Green and Zolan Kanno-Youngs  Article   \n",
       "11                                      By Lisa Lerer  Article   \n",
       "12                              By Thomas L. Friedman  Article   \n",
       "13                                By Sarah Maslin Nir  Article   \n",
       "14                                    By Tracey Tully  Article   \n",
       "15                                      By Ezra Klein  Article   \n",
       "16                                 By Reid J. Epstein  Article   \n",
       "17                               By Michelle Goldberg  Article   \n",
       "18                                    By Mark Landler  Article   \n",
       "19                                    By Julia Moskin  Article   \n",
       "\n",
       "                                                title  \\\n",
       "0   Brad Lander Is Arrested by ICE Agents at Immig...   \n",
       "1   Trump’s Iran Choice: Last-Chance Diplomacy or ...   \n",
       "2   China Is Unleashing a New Export Shock on the ...   \n",
       "3   36 More Countries May Be Added to Trump’s Trav...   \n",
       "4   How Trump Shifted on Iran Under Pressure From ...   \n",
       "5   Could the Third Time Be the Charm on Impeachme...   \n",
       "6                   The Best TV Shows of 2025, So Far   \n",
       "7   Mike Lee Draws Outrage for Posts Blaming Assas...   \n",
       "8   A.I. Might Take Your Job. Here Are 22 New Ones...   \n",
       "9   Iran’s Best-Protected Nuclear Site Is Deep Und...   \n",
       "10  Trump Renews Embrace of Putin Amid Rift With A...   \n",
       "11  Obama Steps Back Into Public Eye at a Stormy P...   \n",
       "12  The Smart Way for Trump to End the Israel-Iran...   \n",
       "13  They Said She Was Home-Schooled. She Said She ...   \n",
       "14  A Senator’s Fall From Grace Ends in a Grim Fed...   \n",
       "15  Sarah McBride on Why the Left Lost on Trans Ri...   \n",
       "16  Republicans Fight Uphill in Virginia Race That...   \n",
       "17                Trump Has Reawakened the Resistance   \n",
       "18  Starmer Picks Up Trump’s Papers, and 2 Small P...   \n",
       "19  Here Are the 2025 James Beard Restaurant Award...   \n",
       "\n",
       "                                             abstract  \\\n",
       "0   Mr. Lander, the New York City comptroller and ...   \n",
       "1   Iranian officials have warned that U.S. partic...   \n",
       "2   As President Trump’s tariffs close off the U.S...   \n",
       "3   The administration gave the nations 60 days to...   \n",
       "4   President Trump spent the first months of his ...   \n",
       "5   There are many legitimate reasons to try Trump...   \n",
       "6   Returning hits like “Severance” and “The White...   \n",
       "7   The Republican senator from Utah suggested in ...   \n",
       "8   In a few key areas, humans will be more essent...   \n",
       "9   Only the U.S. military has the 30,000-pound bo...   \n",
       "10  President Trump opened his remarks at the Grou...   \n",
       "11  He will appear on Tuesday evening in Hartford,...   \n",
       "12  President Trump has a chance to create the bes...   \n",
       "13  A teenage girl fled her home last month after ...   \n",
       "14  For decades, Robert Menendez, 71, was one of N...   \n",
       "15  Representative Sarah McBride reckons with the ...   \n",
       "16  The Democratic candidate for governor, Abigail...   \n",
       "17  Huge protests dwarfed the administration’s sad...   \n",
       "18  The British prime minister scrambled at Presid...   \n",
       "19  Toni Tipton-Martin, Jungsik Yim and the restau...   \n",
       "\n",
       "                                            des_facet  \\\n",
       "0     [Immigration and Emigration, Elections, Mayors]   \n",
       "1   [United States Politics and Government, United...   \n",
       "2   [Customs (Tariff), International Trade and Wor...   \n",
       "3   [United States International Relations, Trump ...   \n",
       "4   [Iran-Israel Proxy Conflict, International Rel...   \n",
       "5   [United States Politics and Government, Freedo...   \n",
       "6                                        [Television]   \n",
       "7   [United States Politics and Government, Assass...   \n",
       "8   [Artificial Intelligence, Innovation, Labor an...   \n",
       "9   [Defense and Military Forces, War and Armed Co...   \n",
       "10  [United States International Relations, Intern...   \n",
       "11            [United States Politics and Government]   \n",
       "12  [Israel-Gaza War (2023- ), United States Inter...   \n",
       "13  [Child Abuse and Neglect, Home Schooling, Poli...   \n",
       "14  [Corruption (Institutional), Bribery and Kickb...   \n",
       "15  [United States Politics and Government, Transg...   \n",
       "16  [Elections, Governors, United States Politics ...   \n",
       "17  [United States Politics and Government, Demons...   \n",
       "18  [International Relations, United States Politi...   \n",
       "19  [Restaurants, Chefs, Awards, Decorations and H...   \n",
       "\n",
       "                                            org_facet  \\\n",
       "0   [Immigration and Customs Enforcement (US), Off...   \n",
       "1                                  [Republican Party]   \n",
       "2                                                  []   \n",
       "3                                  [State Department]   \n",
       "4                                                  []   \n",
       "5                                  [Republican Party]   \n",
       "6                                                  []   \n",
       "7                                                  []   \n",
       "8                                                  []   \n",
       "9                                                  []   \n",
       "10                                   [Group of Seven]   \n",
       "11                                 [Democratic Party]   \n",
       "12                                                 []   \n",
       "13         [Department of Children and Families (NJ)]   \n",
       "14     [Federal Correctional Institution, Schuylkill]   \n",
       "15                                                 []   \n",
       "16               [Democratic Party, Republican Party]   \n",
       "17                                 [Democratic Party]   \n",
       "18                                   [Group of Seven]   \n",
       "19  [Antica Terra Winery, Beard, James, Foundation...   \n",
       "\n",
       "                                            per_facet  \\\n",
       "0                                      [Lander, Brad]   \n",
       "1   [Trump, Donald J, Araghchi, Abbas, Netanyahu, ...   \n",
       "2                                   [Trump, Donald J]   \n",
       "3                                   [Trump, Donald J]   \n",
       "4   [Netanyahu, Benjamin, Trump, Donald J, Witkoff...   \n",
       "5                                   [Trump, Donald J]   \n",
       "6                                                  []   \n",
       "7   [Hortman, Melissa (1970-2025), Hoffman, John A...   \n",
       "8                                                  []   \n",
       "9                                   [Trump, Donald J]   \n",
       "10               [Trump, Donald J, Putin, Vladimir V]   \n",
       "11  [Obama, Barack, Richardson, Heather Cox, Trump...   \n",
       "12             [Trump, Donald J, Netanyahu, Benjamin]   \n",
       "13                         [Spencer, Brenda (1986- )]   \n",
       "14  [Menendez, Robert, Menendez, Nadine, Trump, Do...   \n",
       "15                          [McBride, Sarah (1990- )]   \n",
       "16  [Spanberger, Abigail, Earle-Sears, Winsome, Tr...   \n",
       "17                                  [Trump, Donald J]   \n",
       "18                   [Starmer, Keir, Trump, Donald J]   \n",
       "19                                                 []   \n",
       "\n",
       "                                            geo_facet  \\\n",
       "0                                                  []   \n",
       "1           [Fordo (Iran), Iran, Israel, Middle East]   \n",
       "2   [China, United States, Brazil, Europe, Far Eas...   \n",
       "3   [Africa, Angola, Antigua and Barbuda, Benin, B...   \n",
       "4                                      [Iran, Israel]   \n",
       "5                                     [United States]   \n",
       "6                                                  []   \n",
       "7                                   [Minnesota, Utah]   \n",
       "8                                                  []   \n",
       "9                                      [Iran, Israel]   \n",
       "10  [Canada, United States, Great Britain, Russia,...   \n",
       "11                                  [Hartford (Conn)]   \n",
       "12                         [Gaza Strip, Iran, Israel]   \n",
       "13   [Blackwood (NJ), Camden County (NJ), New Jersey]   \n",
       "14                         [New Jersey, Pennsylvania]   \n",
       "15                                                 []   \n",
       "16                                         [Virginia]   \n",
       "17               [Los Angeles (Calif), United States]   \n",
       "18  [Alberta (Canada), Europe, Canada, Great Brita...   \n",
       "19                                    [Chicago (Ill)]   \n",
       "\n",
       "                                                media eta_id  \n",
       "0   [{'type': 'image', 'subtype': 'photo', 'captio...      0  \n",
       "1   [{'type': 'image', 'subtype': 'photo', 'captio...      0  \n",
       "2   [{'type': 'image', 'subtype': 'photo', 'captio...      0  \n",
       "3   [{'type': 'image', 'subtype': 'photo', 'captio...      0  \n",
       "4   [{'type': 'image', 'subtype': 'photo', 'captio...      0  \n",
       "5   [{'type': 'image', 'subtype': 'photo', 'captio...      0  \n",
       "6   [{'type': 'image', 'subtype': 'photo', 'captio...      0  \n",
       "7   [{'type': 'image', 'subtype': 'photo', 'captio...      0  \n",
       "8                                                  []      0  \n",
       "9   [{'type': 'image', 'subtype': 'photo', 'captio...      0  \n",
       "10  [{'type': 'image', 'subtype': 'photo', 'captio...      0  \n",
       "11  [{'type': 'image', 'subtype': 'photo', 'captio...      0  \n",
       "12  [{'type': 'image', 'subtype': 'photo', 'captio...      0  \n",
       "13  [{'type': 'image', 'subtype': 'photo', 'captio...      0  \n",
       "14  [{'type': 'image', 'subtype': 'photo', 'captio...      0  \n",
       "15  [{'type': 'image', 'subtype': 'photo', 'captio...      0  \n",
       "16  [{'type': 'image', 'subtype': 'photo', 'captio...      0  \n",
       "17  [{'type': 'image', 'subtype': 'photo', 'captio...      0  \n",
       "18                                                 []      0  \n",
       "19  [{'type': 'image', 'subtype': 'photo', 'captio...      0  \n",
       "\n",
       "[20 rows x 22 columns]"
      ]
     },
     "execution_count": 4,
     "metadata": {},
     "output_type": "execute_result"
    }
   ],
   "source": [
    "import requests\n",
    "import pandas as pd\n",
    "\n",
    "API_KEY = \"\"\n",
    "\n",
    "url = 'https://api.nytimes.com/svc/mostpopular/v2/viewed/1.json'\n",
    "params = {\n",
    "    \"api-key\" : API_KEY\n",
    "}\n",
    "\n",
    "response = requests.get(url, params=params)\n",
    "\n",
    "data = response.json()\n",
    "df = pd.json_normalize(data['results'])\n",
    "df\n"
   ]
  },
  {
   "cell_type": "markdown",
   "id": "39f51d04-c3f4-4869-962b-c6ef2d9b7fc4",
   "metadata": {},
   "source": [
    "# 단일 학교의 1일 급식 정보 가져오기"
   ]
  },
  {
   "cell_type": "code",
   "execution_count": null,
   "id": "a89a8d94-678f-407a-a07c-2e3593fcc423",
   "metadata": {},
   "outputs": [
    {
     "name": "stdout",
     "output_type": "stream",
     "text": [
      "학교 이름 조회 예정 : 교육청=B10, 학교코드=7021105\n",
      "응답코드 : 200\n",
      "학교명: 서울이문초등학교\n"
     ]
    },
    {
     "data": {
      "text/plain": [
       "'서울이문초등학교'"
      ]
     },
     "execution_count": 21,
     "metadata": {},
     "output_type": "execute_result"
    }
   ],
   "source": [
    "import requests\n",
    "import pandas as pd\n",
    "\n",
    "EDU_CODE = 'B10'\n",
    "SCHOOL_CODE = '7021105'\n",
    "API_KEY = ''\n",
    "TARGET_DATE ='20241030' # 수요일\n",
    "\n",
    "# 학교의 이름 가져오는 함수\n",
    "def get_school_name(edu_code, school_code):\n",
    "    print(f'학교 이름 조회 예정 : 교육청={edu_code}, 학교코드={school_code}')\n",
    "    url = 'https://open.neis.go.kr/hub/schoolInfo'\n",
    "    params = {\n",
    "        'KEY' : API_KEY,\n",
    "        'Type' : 'json',\n",
    "        'ATPT_OFCDC_SC_CODE' : edu_code,\n",
    "        'SD_SCHUL_CODE' : school_code\n",
    "    }\n",
    "    try:\n",
    "        res = requests.get(url, params=params, timeout=5)\n",
    "        print(f\"응답코드 : {res.status_code}\")\n",
    "        if res.status_code == 200:\n",
    "            data = res.json()\n",
    "            if \"schoolInfo\" in data:\n",
    "                # 여기 코드가 핵심\n",
    "                name = data[\"schoolInfo\"][1][\"row\"][0][\"SCHUL_NM\"]\n",
    "                print(f\"학교명: {name}\")\n",
    "                return name\n",
    "            else:\n",
    "                print(\"해당 학교는 존재하지 않음\", data)\n",
    "        else:\n",
    "            print(\"응답 실패:\", res.text)\n",
    "    except Exception as e:\n",
    "        print(f\"학교명 정보 조회 오류 : {e}\")\n",
    "    return \"학교명 조회 불가\"\n",
    "    \n",
    "get_school_name(EDU_CODE, SCHOOL_CODE)\n"
   ]
  },
  {
   "cell_type": "code",
   "execution_count": 10,
   "id": "e953ec6a-79eb-49ab-9870-ddc29f070102",
   "metadata": {},
   "outputs": [
    {
     "name": "stdout",
     "output_type": "stream",
     "text": [
      "학교 이름 조회 예정 : 교육청=B10, 학교코드=7021105\n",
      "응답코드 : 200\n",
      "학교명: 서울이문초등학교\n",
      "급식 정보 조회 중: 날짜=20241030\n",
      "mealService 응답코드: 200\n",
      "급식 데이터 수: 1\n",
      "수집된 행 수: 1\n",
      "  교육청코드     학교코드       학교명      급식일자 식사명  \\\n",
      "0   B10  7021105  서울이문초등학교  20241030  중식   \n",
      "\n",
      "                                                급식식단  \n",
      "0  해물죽 (9.13.17.18)<br/>로제스파게티(우유) (1.2.5.6.12.13...  \n",
      "CSV 저장 완료: 서울_초등학교_급식_20241030.csv\n"
     ]
    }
   ],
   "source": [
    "def get_meal_info(edu_code, school_code):\n",
    "    print(f\"급식 정보 조회 중: 날짜={TARGET_DATE}\")\n",
    "    url = \"https://open.neis.go.kr/hub/mealServiceDietInfo\"\n",
    "    params = {\n",
    "        \"KEY\": API_KEY,\n",
    "        \"Type\": \"json\",\n",
    "        \"ATPT_OFCDC_SC_CODE\": edu_code,\n",
    "        \"SD_SCHUL_CODE\": school_code,\n",
    "        \"MLSV_YMD\": TARGET_DATE\n",
    "    }\n",
    "    try:\n",
    "        res = requests.get(url, params=params, timeout=5)\n",
    "        print(f\"mealService 응답코드: {res.status_code}\")\n",
    "        if res.status_code == 200:\n",
    "            data = res.json()\n",
    "            if \"mealServiceDietInfo\" in data:\n",
    "                print(f\"급식 데이터 수: {len(data['mealServiceDietInfo'][1]['row'])}\")\n",
    "                return data[\"mealServiceDietInfo\"][1][\"row\"]\n",
    "            else:\n",
    "                print(\"mealServiceDietInfo 키 없음:\", data)\n",
    "        else:\n",
    "            print(\"응답 실패:\", res.text)\n",
    "    except Exception as e:\n",
    "        print(f\"급식 정보 조회 오류: {e}\")\n",
    "    return []\n",
    "\n",
    "# 데이터 수집\n",
    "school_name = get_school_name(EDU_CODE, SCHOOL_CODE)\n",
    "meals = get_meal_info(EDU_CODE, SCHOOL_CODE)\n",
    "\n",
    "data = []\n",
    "for meal in meals:\n",
    "    data.append({\n",
    "        \"교육청코드\": EDU_CODE,\n",
    "        \"학교코드\": SCHOOL_CODE,\n",
    "        \"학교명\": school_name,\n",
    "        \"급식일자\": meal.get(\"MLSV_YMD\"),\n",
    "        \"식사명\": meal.get(\"MMEAL_SC_NM\"),\n",
    "        \"급식식단\": meal.get(\"DDISH_NM\")\n",
    "    })\n",
    "\n",
    "df = pd.DataFrame(data)\n",
    "print(\"수집된 행 수:\", len(df))\n",
    "print(df.head())\n",
    "\n",
    "df.to_csv(\"서울_초등학교_급식_20241030.csv\", index=False, encoding=\"utf-8-sig\")\n",
    "print(\"CSV 저장 완료: 서울_초등학교_급식_20241030.csv\")"
   ]
  },
  {
   "cell_type": "markdown",
   "id": "aa665720-bad8-44a5-8c67-72d9518ecc13",
   "metadata": {},
   "source": [
    "# 1개의 학교 한달간 데이터 수집\n",
    "- 날짜만 변경"
   ]
  },
  {
   "cell_type": "code",
   "execution_count": 17,
   "id": "a172f98f-68b8-447d-aed2-6bb831e8367b",
   "metadata": {},
   "outputs": [
    {
     "data": {
      "text/plain": [
       "('20250519', '20250618')"
      ]
     },
     "execution_count": 17,
     "metadata": {},
     "output_type": "execute_result"
    }
   ],
   "source": [
    "from datetime import datetime, timedelta\n",
    "today = datetime.today()\n",
    "one_month_ago = today - timedelta(days=30)\n",
    "FROM_DATE = one_month_ago.strftime('%Y%m%d')\n",
    "TO_DATE = today.strftime('%Y%m%d')\n",
    "\n",
    "FROM_DATE, TO_DATE"
   ]
  },
  {
   "cell_type": "code",
   "execution_count": null,
   "id": "515284fa-8918-45d9-958a-b2d39e334487",
   "metadata": {},
   "outputs": [
    {
     "name": "stdout",
     "output_type": "stream",
     "text": [
      "학교 이름 조회 예정 : 교육청=B10, 학교코드=7021105\n",
      "응답코드 : 200\n",
      "학교명: 서울이문초등학교\n",
      "급식 정보 조회 중: 날짜=20241030\n",
      "mealService 응답코드: 200\n",
      "급식 데이터 수: 21\n",
      "수집된 행 수: 21\n",
      "  교육청코드     학교코드       학교명      급식일자 식사명  \\\n",
      "0   B10  7021105  서울이문초등학교  20250519  중식   \n",
      "1   B10  7021105  서울이문초등학교  20250520  중식   \n",
      "2   B10  7021105  서울이문초등학교  20250521  중식   \n",
      "3   B10  7021105  서울이문초등학교  20250522  중식   \n",
      "4   B10  7021105  서울이문초등학교  20250523  중식   \n",
      "\n",
      "                                                급식식단  \n",
      "0  차수수밥* <br/>김치콩나물국^ (5.6.9)<br/>오이볶음 (5)<br/>순살...  \n",
      "1  강황밥 <br/>감자옹심이국 (5.6.17)<br/>미역줄기볶음* (5)<br/>오...  \n",
      "2  부지갱이나물밥&양념장 (5.6.13)<br/>북어계란국* (1.5.6)<br/>비름...  \n",
      "3  귀리밥* <br/>호박잎된장국y (5.6.18)<br/>참나물무침* (5.6)<br...  \n",
      "4  발아현미밥 <br/>어묵국y (1.2.5.6.7.8.13.16.18)<br/>고춧잎...  \n"
     ]
    }
   ],
   "source": [
    "import requests\n",
    "import pandas as pd \n",
    "from datetime import datetime, timedelta\n",
    "\n",
    "# 교육청 및 학교 코드\n",
    "EDU_CODE = 'B10'\n",
    "SCHOOL_CODE = '7021105'\n",
    "API_KEY = ''\n",
    "\n",
    "\n",
    "# 최근 한달 기간 설정\n",
    "today = datetime.today()\n",
    "one_month_ago = today - timedelta(days=30)\n",
    "FROM_DATE = one_month_ago.strftime('%Y%m%d')\n",
    "TO_DATE = today.strftime('%Y%m%d')\n",
    "\n",
    "# 학교의 이름 가져오는 함수 \n",
    "def get_school_name(edu_code, school_code):\n",
    "    print(f'학교 이름 조회 예정 : 교육청={edu_code}, 학교코드={school_code}')\n",
    "    url = 'https://open.neis.go.kr/hub/schoolInfo'\n",
    "    params = {\n",
    "        'KEY': API_KEY, \n",
    "        'Type' : 'json', \n",
    "        'ATPT_OFCDC_SC_CODE' : edu_code, \n",
    "        'SD_SCHUL_CODE' : school_code\n",
    "    }\n",
    "    try:\n",
    "        res = requests.get(url, params=params, timeout=5)\n",
    "        print(f\"응답코드 : {res.status_code}\")\n",
    "        if res.status_code == 200:\n",
    "            data = res.json()\n",
    "            if \"schoolInfo\" in data:\n",
    "                # 여기코드가 핵심\n",
    "                # name = data[\"schoolInfo\"][1][\"row\"][0][\"SCHUL_NM\"]\n",
    "                name = data['schoolInfo'][1]['row'][0]['SCHUL_NM']\n",
    "                print(f\"학교명: {name}\")\n",
    "                return name\n",
    "            else:\n",
    "                print(\"해당학교는 존재하지 않음\", data)\n",
    "        else:\n",
    "            print(\"응답 실패:\", res.text)\n",
    "    except Exception as e:\n",
    "        print(f\"학교명 정보 조회 오류 : {e}\")\n",
    "    return \"학교명조회불가\"\n",
    "    \n",
    "def get_meal_info(edu_code, school_code, from_date, to_date):\n",
    "    print(f\"급식 정보 조회 중: 날짜={TARGET_DATE}\")\n",
    "    url = \"https://open.neis.go.kr/hub/mealServiceDietInfo\"\n",
    "    params = {\n",
    "        \"KEY\": API_KEY,\n",
    "        \"Type\": \"json\",\n",
    "        \"ATPT_OFCDC_SC_CODE\": edu_code,\n",
    "        \"SD_SCHUL_CODE\": school_code,\n",
    "        \"MLSV_FROM_YMD\": from_date, \n",
    "        \"MLSV_TO_YMD\" : to_date, \n",
    "        \"pIndex\" : 1, \n",
    "        \"pSize\" : 100\n",
    "    }\n",
    "    try:\n",
    "        res = requests.get(url, params=params, timeout=5)\n",
    "        print(f\"mealService 응답코드: {res.status_code}\")\n",
    "        if res.status_code == 200:\n",
    "            data = res.json()\n",
    "            if \"mealServiceDietInfo\" in data:\n",
    "                print(f\"급식 데이터 수: {len(data['mealServiceDietInfo'][1]['row'])}\")\n",
    "                return data[\"mealServiceDietInfo\"][1][\"row\"]\n",
    "            else:\n",
    "                print(\"mealServiceDietInfo 키 없음:\", data)\n",
    "        else:\n",
    "            print(\"응답 실패:\", res.text)\n",
    "    except Exception as e:\n",
    "        print(f\"급식 정보 조회 오류: {e}\")\n",
    "    return []\n",
    "\n",
    "# 데이터 수집\n",
    "school_name = get_school_name(EDU_CODE, SCHOOL_CODE)\n",
    "meals = get_meal_info(EDU_CODE, SCHOOL_CODE, FROM_DATE, TO_DATE)\n",
    "\n",
    "data = []\n",
    "for meal in meals:\n",
    "    data.append({\n",
    "        \"교육청코드\": EDU_CODE,\n",
    "        \"학교코드\": SCHOOL_CODE,\n",
    "        \"학교명\": school_name,\n",
    "        \"급식일자\": meal.get(\"MLSV_YMD\"),\n",
    "        \"식사명\": meal.get(\"MMEAL_SC_NM\"),\n",
    "        \"급식식단\": meal.get(\"DDISH_NM\")\n",
    "    })\n",
    "\n",
    "df = pd.DataFrame(data)\n",
    "print(\"수집된 행 수:\", len(df))\n",
    "print(df.head())\n",
    "\n",
    "# df.to_csv(\"서울_초등학교_급식_20241030.csv\", index=False, encoding=\"utf-8-sig\")\n",
    "# print(\"CSV 저장 완료: 서울_초등학교_급식_20241030.csv\")"
   ]
  },
  {
   "cell_type": "markdown",
   "id": "b89d479d-e97f-439f-9361-74e3721182f2",
   "metadata": {},
   "source": [
    "# 서울에 있는 모든 고등학교 최근 1개월 데이터 수집\n",
    "- 가장 중요한 건, 학교명과 학교코드가 필요"
   ]
  },
  {
   "cell_type": "code",
   "execution_count": null,
   "id": "7b8def0d-6a2e-4b67-a526-6b5c22003983",
   "metadata": {},
   "outputs": [
    {
     "name": "stdout",
     "output_type": "stream",
     "text": [
      "응답코드 : 200\n"
     ]
    },
    {
     "data": {
      "text/plain": [
       "178"
      ]
     },
     "execution_count": 37,
     "metadata": {},
     "output_type": "execute_result"
    }
   ],
   "source": [
    "import requests \n",
    "import pandas as pd \n",
    "from datetime import datetime, timedelta \n",
    "from tqdm import tqdm\n",
    "import time \n",
    "\n",
    "# 교육청 및 학교 코드\n",
    "EDU_CODE = 'B10'\n",
    "API_KEY = ''\n",
    "\n",
    "\n",
    "# 최근 한달 기간 설정\n",
    "today = datetime.today()\n",
    "one_month_ago = today - timedelta(days=30)\n",
    "FROM_DATE = one_month_ago.strftime('%Y%m%d')\n",
    "TO_DATE = today.strftime('%Y%m%d')\n",
    "\n",
    "# 고등학교만 조회\n",
    "def get_highschools(edu_code):\n",
    "    url = 'https://open.neis.go.kr/hub/schoolInfo'\n",
    "    params = {\n",
    "        'KEY': API_KEY, \n",
    "        'Type' : 'json', \n",
    "        'ATPT_OFCDC_SC_CODE' : edu_code, \n",
    "        'pIndex': 1, \n",
    "        'pSize': 1000\n",
    "    }\n",
    "    highschools = []\n",
    "    try:\n",
    "        res = requests.get(url, params=params, timeout=5)\n",
    "        print(f\"응답코드 : {res.status_code}\")\n",
    "        if res.status_code == 200 and 'schoolInfo' in res.json():\n",
    "            rows = res.json()['schoolInfo'][1]['row']\n",
    "            for row in rows:\n",
    "                if row.get('SCHUL_KND_SC_NM') == '고등학교':\n",
    "                    highschools.append((row['SD_SCHUL_CODE'], row['SCHUL_NM']))\n",
    "                else:\n",
    "                    pass\n",
    "        else:\n",
    "            print(\"200은 뜨나, schoolinfo은 없음\")\n",
    "    except Exception as e:\n",
    "        print(\"고등학교 목록 오류: {e}\")\n",
    "    return highschools\n",
    "\n",
    "len(get_highschools(EDU_CODE))"
   ]
  },
  {
   "cell_type": "code",
   "execution_count": 20,
   "id": "3ed70c66-633e-406a-8679-a4ed9b593f02",
   "metadata": {},
   "outputs": [
    {
     "name": "stdout",
     "output_type": "stream",
     "text": [
      "응답코드 : 200\n"
     ]
    },
    {
     "name": "stderr",
     "output_type": "stream",
     "text": [
      "고등학교 급식 조회:   0%|                      | 0/178 [00:00<?, ?it/s]"
     ]
    },
    {
     "name": "stdout",
     "output_type": "stream",
     "text": [
      "7010057 가락고등학교\n",
      "급식 정보 조회 중: 날짜=20241030\n",
      "mealService 응답코드: 200\n",
      "급식 데이터 수: 21\n"
     ]
    },
    {
     "name": "stderr",
     "output_type": "stream",
     "text": [
      "고등학교 급식 조회:   1%|              | 1/178 [00:00<00:31,  5.68it/s]"
     ]
    },
    {
     "name": "stdout",
     "output_type": "stream",
     "text": [
      "7011169 가재울고등학교\n",
      "급식 정보 조회 중: 날짜=20241030\n"
     ]
    },
    {
     "name": "stderr",
     "output_type": "stream",
     "text": [
      "고등학교 급식 조회:   1%|▏             | 2/178 [00:00<00:33,  5.22it/s]"
     ]
    },
    {
     "name": "stdout",
     "output_type": "stream",
     "text": [
      "mealService 응답코드: 200\n",
      "급식 데이터 수: 21\n",
      "7010117 강동고등학교\n",
      "급식 정보 조회 중: 날짜=20241030\n",
      "mealService 응답코드: 200\n",
      "급식 데이터 수: 41\n"
     ]
    },
    {
     "name": "stderr",
     "output_type": "stream",
     "text": [
      "고등학교 급식 조회:   2%|▏             | 3/178 [00:00<00:34,  5.01it/s]"
     ]
    },
    {
     "name": "stdout",
     "output_type": "stream",
     "text": [
      "7010118 강서고등학교\n",
      "급식 정보 조회 중: 날짜=20241030\n",
      "mealService 응답코드: 200\n",
      "급식 데이터 수: 42\n"
     ]
    },
    {
     "name": "stderr",
     "output_type": "stream",
     "text": [
      "고등학교 급식 조회:   3%|▍             | 5/178 [00:00<00:34,  5.05it/s]"
     ]
    },
    {
     "name": "stdout",
     "output_type": "stream",
     "text": [
      "7010958 강일고등학교\n",
      "급식 정보 조회 중: 날짜=20241030\n",
      "mealService 응답코드: 200\n",
      "급식 데이터 수: 21\n",
      "7010058 개포고등학교\n",
      "급식 정보 조회 중: 날짜=20241030\n",
      "mealService 응답코드: 200\n",
      "급식 데이터 수: 21\n"
     ]
    },
    {
     "name": "stderr",
     "output_type": "stream",
     "text": [
      "고등학교 급식 조회:   4%|▌             | 7/178 [00:01<00:35,  4.88it/s]"
     ]
    },
    {
     "name": "stdout",
     "output_type": "stream",
     "text": [
      "7010119 건국대학교사범대학부속고등학교\n",
      "급식 정보 조회 중: 날짜=20241030\n",
      "mealService 응답코드: 200\n",
      "급식 데이터 수: 41\n"
     ]
    },
    {
     "name": "stderr",
     "output_type": "stream",
     "text": [
      "고등학교 급식 조회:   4%|▋             | 8/178 [00:01<00:34,  4.92it/s]"
     ]
    },
    {
     "name": "stdout",
     "output_type": "stream",
     "text": [
      "7010059 경기고등학교\n",
      "급식 정보 조회 중: 날짜=20241030\n",
      "mealService 응답코드: 200\n",
      "급식 데이터 수: 36\n",
      "7010271 경기기계공업고등학교\n",
      "급식 정보 조회 중: 날짜=20241030\n",
      "mealService 응답코드: 200\n",
      "급식 데이터 수: 59\n"
     ]
    },
    {
     "name": "stderr",
     "output_type": "stream",
     "text": [
      "고등학교 급식 조회:   5%|▋             | 9/178 [00:01<00:37,  4.50it/s]"
     ]
    },
    {
     "name": "stdout",
     "output_type": "stream",
     "text": [
      "7010272 경기상업고등학교\n",
      "급식 정보 조회 중: 날짜=20241030\n",
      "mealService 응답코드: 200\n",
      "급식 데이터 수: 20\n"
     ]
    },
    {
     "name": "stderr",
     "output_type": "stream",
     "text": [
      "고등학교 급식 조회:   6%|▊            | 11/178 [00:02<00:36,  4.53it/s]"
     ]
    },
    {
     "name": "stdout",
     "output_type": "stream",
     "text": [
      "7010060 경기여자고등학교\n",
      "급식 정보 조회 중: 날짜=20241030\n",
      "mealService 응답코드: 200\n",
      "급식 데이터 수: 21\n",
      "7010061 경동고등학교\n",
      "급식 정보 조회 중: 날짜=20241030\n",
      "mealService 응답코드: 200\n",
      "급식 데이터 수: 21\n"
     ]
    },
    {
     "name": "stderr",
     "output_type": "stream",
     "text": [
      "고등학교 급식 조회:   7%|▉            | 13/178 [00:02<00:36,  4.56it/s]"
     ]
    },
    {
     "name": "stdout",
     "output_type": "stream",
     "text": [
      "7010120 경문고등학교\n",
      "급식 정보 조회 중: 날짜=20241030\n",
      "mealService 응답코드: 200\n",
      "급식 데이터 수: 21\n"
     ]
    },
    {
     "name": "stderr",
     "output_type": "stream",
     "text": [
      "고등학교 급식 조회:   8%|█            | 14/178 [00:02<00:34,  4.73it/s]"
     ]
    },
    {
     "name": "stdout",
     "output_type": "stream",
     "text": [
      "7010062 경복고등학교\n",
      "급식 정보 조회 중: 날짜=20241030\n",
      "mealService 응답코드: 200\n",
      "급식 데이터 수: 21\n"
     ]
    },
    {
     "name": "stderr",
     "output_type": "stream",
     "text": [
      "고등학교 급식 조회:   8%|█            | 15/178 [00:03<00:33,  4.87it/s]"
     ]
    },
    {
     "name": "stdout",
     "output_type": "stream",
     "text": [
      "7010835 경복비즈니스고등학교\n",
      "급식 정보 조회 중: 날짜=20241030\n",
      "mealService 응답코드: 200\n",
      "급식 데이터 수: 36\n"
     ]
    },
    {
     "name": "stderr",
     "output_type": "stream",
     "text": [
      "고등학교 급식 조회:   9%|█▏           | 16/178 [00:03<00:33,  4.91it/s]"
     ]
    },
    {
     "name": "stdout",
     "output_type": "stream",
     "text": [
      "7010122 경복여자고등학교\n",
      "급식 정보 조회 중: 날짜=20241030\n",
      "mealService 응답코드: 200\n",
      "급식 데이터 수: 36\n"
     ]
    },
    {
     "name": "stderr",
     "output_type": "stream",
     "text": [
      "고등학교 급식 조회:  10%|█▏           | 17/178 [00:03<00:31,  5.04it/s]"
     ]
    },
    {
     "name": "stdout",
     "output_type": "stream",
     "text": [
      "7010124 경성고등학교\n",
      "급식 정보 조회 중: 날짜=20241030\n",
      "mealService 응답코드: 200\n",
      "급식 데이터 수: 21\n",
      "7010125 경신고등학교\n",
      "급식 정보 조회 중: 날짜=20241030\n",
      "mealService 응답코드: 200\n",
      "급식 데이터 수: 37\n"
     ]
    },
    {
     "name": "stderr",
     "output_type": "stream",
     "text": [
      "고등학교 급식 조회:  11%|█▍           | 19/178 [00:03<00:31,  5.01it/s]"
     ]
    },
    {
     "name": "stdout",
     "output_type": "stream",
     "text": [
      "7010563 경인고등학교\n",
      "급식 정보 조회 중: 날짜=20241030\n",
      "mealService 응답코드: 200\n",
      "급식 데이터 수: 21\n",
      "7010698 경일고등학교\n",
      "급식 정보 조회 중: 날짜=20241030\n",
      "mealService 응답코드: 200\n",
      "급식 데이터 수: 21\n"
     ]
    },
    {
     "name": "stderr",
     "output_type": "stream",
     "text": [
      "고등학교 급식 조회:  11%|█▍           | 20/178 [00:04<00:33,  4.69it/s]"
     ]
    },
    {
     "name": "stdout",
     "output_type": "stream",
     "text": [
      "7010126 경희고등학교\n",
      "급식 정보 조회 중: 날짜=20241030\n",
      "mealService 응답코드: 200\n",
      "급식 데이터 수: 41\n"
     ]
    },
    {
     "name": "stderr",
     "output_type": "stream",
     "text": [
      "고등학교 급식 조회:  12%|█▌           | 22/178 [00:04<00:32,  4.79it/s]"
     ]
    },
    {
     "name": "stdout",
     "output_type": "stream",
     "text": [
      "7010127 경희여자고등학교\n",
      "급식 정보 조회 중: 날짜=20241030\n",
      "mealService 응답코드: 200\n",
      "급식 데이터 수: 38\n",
      "7011312 계성고등학교\n",
      "급식 정보 조회 중: 날짜=20241030\n",
      "mealService 응답코드: 200\n",
      "급식 데이터 수: 37\n"
     ]
    },
    {
     "name": "stderr",
     "output_type": "stream",
     "text": [
      "고등학교 급식 조회:  13%|█▊           | 24/178 [00:05<00:33,  4.57it/s]"
     ]
    },
    {
     "name": "stdout",
     "output_type": "stream",
     "text": [
      "7010797 고려대학교사범대학부속고등학교\n",
      "급식 정보 조회 중: 날짜=20241030\n",
      "mealService 응답코드: 200\n",
      "급식 데이터 수: 21\n",
      "7011487 고명외식고등학교\n",
      "급식 정보 조회 중: 날짜=20241030\n",
      "mealService 응답코드: 200\n",
      "급식 데이터 수: 20\n"
     ]
    },
    {
     "name": "stderr",
     "output_type": "stream",
     "text": [
      "고등학교 급식 조회:  15%|█▉           | 26/178 [00:05<00:31,  4.77it/s]"
     ]
    },
    {
     "name": "stdout",
     "output_type": "stream",
     "text": [
      "7010063 고척고등학교\n",
      "급식 정보 조회 중: 날짜=20241030\n",
      "mealService 응답코드: 200\n",
      "급식 데이터 수: 21\n"
     ]
    },
    {
     "name": "stderr",
     "output_type": "stream",
     "text": [
      "고등학교 급식 조회:  15%|█▉           | 27/178 [00:05<00:30,  4.98it/s]"
     ]
    },
    {
     "name": "stdout",
     "output_type": "stream",
     "text": [
      "7010064 공항고등학교\n",
      "급식 정보 조회 중: 날짜=20241030\n",
      "mealService 응답코드: 200\n",
      "급식 데이터 수: 20\n",
      "7010065 관악고등학교\n",
      "급식 정보 조회 중: 날짜=20241030\n"
     ]
    },
    {
     "name": "stderr",
     "output_type": "stream",
     "text": [
      "고등학교 급식 조회:  16%|██           | 28/178 [00:05<00:29,  5.16it/s]"
     ]
    },
    {
     "name": "stdout",
     "output_type": "stream",
     "text": [
      "mealService 응답코드: 200\n",
      "급식 데이터 수: 21\n",
      "7010066 광남고등학교\n",
      "급식 정보 조회 중: 날짜=20241030\n"
     ]
    },
    {
     "name": "stderr",
     "output_type": "stream",
     "text": [
      "고등학교 급식 조회:  16%|██           | 29/178 [00:06<00:30,  4.88it/s]"
     ]
    },
    {
     "name": "stdout",
     "output_type": "stream",
     "text": [
      "mealService 응답코드: 200\n",
      "급식 데이터 수: 40\n",
      "7010131 광문고등학교\n",
      "급식 정보 조회 중: 날짜=20241030\n"
     ]
    },
    {
     "name": "stderr",
     "output_type": "stream",
     "text": [
      "고등학교 급식 조회:  17%|██▏          | 30/178 [00:06<00:31,  4.70it/s]"
     ]
    },
    {
     "name": "stdout",
     "output_type": "stream",
     "text": [
      "mealService 응답코드: 200\n",
      "급식 데이터 수: 33\n",
      "7010132 광성고등학교\n",
      "급식 정보 조회 중: 날짜=20241030\n"
     ]
    },
    {
     "name": "stderr",
     "output_type": "stream",
     "text": [
      "고등학교 급식 조회:  17%|██▎          | 31/178 [00:06<00:32,  4.52it/s]"
     ]
    },
    {
     "name": "stdout",
     "output_type": "stream",
     "text": [
      "mealService 응답코드: 200\n",
      "급식 데이터 수: 59\n",
      "7010133 광신고등학교\n",
      "급식 정보 조회 중: 날짜=20241030\n"
     ]
    },
    {
     "name": "stderr",
     "output_type": "stream",
     "text": [
      "고등학교 급식 조회:  18%|██▎          | 32/178 [00:06<00:34,  4.27it/s]"
     ]
    },
    {
     "name": "stdout",
     "output_type": "stream",
     "text": [
      "mealService 응답코드: 200\n",
      "급식 데이터 수: 21\n",
      "7011488 광신방송예술고등학교\n",
      "급식 정보 조회 중: 날짜=20241030\n",
      "mealService 응답코드: 200\n",
      "급식 데이터 수: 8\n"
     ]
    },
    {
     "name": "stderr",
     "output_type": "stream",
     "text": [
      "고등학교 급식 조회:  19%|██▍          | 33/178 [00:06<00:32,  4.42it/s]"
     ]
    },
    {
     "name": "stdout",
     "output_type": "stream",
     "text": [
      "7010067 광양고등학교\n",
      "급식 정보 조회 중: 날짜=20241030\n",
      "mealService 응답코드: 200\n",
      "급식 데이터 수: 20\n"
     ]
    },
    {
     "name": "stderr",
     "output_type": "stream",
     "text": [
      "고등학교 급식 조회:  19%|██▍          | 34/178 [00:07<00:32,  4.43it/s]"
     ]
    },
    {
     "name": "stdout",
     "output_type": "stream",
     "text": [
      "7010134 광영고등학교\n",
      "급식 정보 조회 중: 날짜=20241030\n",
      "mealService 응답코드: 200\n",
      "급식 데이터 수: 21\n"
     ]
    },
    {
     "name": "stderr",
     "output_type": "stream",
     "text": [
      "고등학교 급식 조회:  20%|██▌          | 35/178 [00:07<00:31,  4.54it/s]"
     ]
    },
    {
     "name": "stdout",
     "output_type": "stream",
     "text": [
      "7010135 광영여자고등학교\n",
      "급식 정보 조회 중: 날짜=20241030\n",
      "mealService 응답코드: 200\n",
      "급식 데이터 수: 37\n"
     ]
    },
    {
     "name": "stderr",
     "output_type": "stream",
     "text": [
      "고등학교 급식 조회:  21%|██▋          | 37/178 [00:07<00:30,  4.59it/s]"
     ]
    },
    {
     "name": "stdout",
     "output_type": "stream",
     "text": [
      "7011505 광운인공지능고등학교\n",
      "급식 정보 조회 중: 날짜=20241030\n",
      "mealService 응답코드: 200\n",
      "급식 데이터 수: 18\n"
     ]
    },
    {
     "name": "stderr",
     "output_type": "stream",
     "text": [
      "고등학교 급식 조회:  21%|██▊          | 38/178 [00:08<00:29,  4.81it/s]"
     ]
    },
    {
     "name": "stdout",
     "output_type": "stream",
     "text": [
      "7010068 구로고등학교\n",
      "급식 정보 조회 중: 날짜=20241030\n",
      "mealService 응답코드: 200\n",
      "급식 데이터 수: 21\n"
     ]
    },
    {
     "name": "stderr",
     "output_type": "stream",
     "text": [
      "고등학교 급식 조회:  22%|██▊          | 39/178 [00:08<00:29,  4.78it/s]"
     ]
    },
    {
     "name": "stdout",
     "output_type": "stream",
     "text": [
      "7011111 구암고등학교\n",
      "급식 정보 조회 중: 날짜=20241030\n",
      "mealService 응답코드: 200\n",
      "급식 데이터 수: 21\n",
      "7010069 구일고등학교\n",
      "급식 정보 조회 중: 날짜=20241030\n",
      "mealService 응답코드: 200\n",
      "급식 데이터 수: 21\n"
     ]
    },
    {
     "name": "stderr",
     "output_type": "stream",
     "text": [
      "고등학교 급식 조회:  23%|██▉          | 41/178 [00:08<00:28,  4.85it/s]"
     ]
    },
    {
     "name": "stdout",
     "output_type": "stream",
     "text": [
      "7010827 구현고등학교\n",
      "급식 정보 조회 중: 날짜=20241030\n",
      "mealService 응답코드: 200\n",
      "급식 데이터 수: 21\n",
      "1371661 국립국악고등학교\n",
      "급식 정보 조회 중: 날짜=20241030\n",
      "mealService 응답코드: 200\n",
      "급식 데이터 수: 21\n"
     ]
    },
    {
     "name": "stderr",
     "output_type": "stream",
     "text": [
      "고등학교 급식 조회:  24%|███          | 42/178 [00:08<00:28,  4.77it/s]"
     ]
    },
    {
     "name": "stdout",
     "output_type": "stream",
     "text": [
      "1371663 국립전통예술고등학교\n",
      "급식 정보 조회 중: 날짜=20241030\n",
      "mealService 응답코드: 200\n",
      "급식 데이터 수: 37\n"
     ]
    },
    {
     "name": "stderr",
     "output_type": "stream",
     "text": [
      "고등학교 급식 조회:  25%|███▏         | 44/178 [00:09<00:28,  4.73it/s]"
     ]
    },
    {
     "name": "stdout",
     "output_type": "stream",
     "text": [
      "7010071 금옥여자고등학교\n",
      "급식 정보 조회 중: 날짜=20241030\n",
      "mealService 응답코드: 200\n",
      "급식 데이터 수: 21\n"
     ]
    },
    {
     "name": "stderr",
     "output_type": "stream",
     "text": [
      "고등학교 급식 조회:  25%|███▎         | 45/178 [00:09<00:27,  4.83it/s]"
     ]
    },
    {
     "name": "stdout",
     "output_type": "stream",
     "text": [
      "7010072 금천고등학교\n",
      "급식 정보 조회 중: 날짜=20241030\n",
      "mealService 응답코드: 200\n",
      "급식 데이터 수: 21\n"
     ]
    },
    {
     "name": "stderr",
     "output_type": "stream",
     "text": [
      "고등학교 급식 조회:  26%|███▎         | 46/178 [00:09<00:26,  4.92it/s]"
     ]
    },
    {
     "name": "stdout",
     "output_type": "stream",
     "text": [
      "7011319 금호고등학교\n",
      "급식 정보 조회 중: 날짜=20241030\n",
      "mealService 응답코드: 200\n",
      "급식 데이터 수: 21\n",
      "7010136 남강고등학교\n",
      "급식 정보 조회 중: 날짜=20241030\n",
      "mealService 응답코드: 200\n",
      "급식 데이터 수: 39\n"
     ]
    },
    {
     "name": "stderr",
     "output_type": "stream",
     "text": [
      "고등학교 급식 조회:  27%|███▌         | 48/178 [00:10<00:26,  4.99it/s]"
     ]
    },
    {
     "name": "stdout",
     "output_type": "stream",
     "text": [
      "7010564 노원고등학교\n",
      "급식 정보 조회 중: 날짜=20241030\n",
      "mealService 응답코드: 200\n",
      "급식 데이터 수: 21\n"
     ]
    },
    {
     "name": "stderr",
     "output_type": "stream",
     "text": [
      "고등학교 급식 조회:  28%|███▌         | 49/178 [00:10<00:25,  5.05it/s]"
     ]
    },
    {
     "name": "stdout",
     "output_type": "stream",
     "text": [
      "7010589 누원고등학교\n",
      "급식 정보 조회 중: 날짜=20241030\n",
      "mealService 응답코드: 200\n",
      "급식 데이터 수: 21\n"
     ]
    },
    {
     "name": "stderr",
     "output_type": "stream",
     "text": [
      "고등학교 급식 조회:  28%|███▋         | 50/178 [00:10<00:25,  5.10it/s]"
     ]
    },
    {
     "name": "stdout",
     "output_type": "stream",
     "text": [
      "7011489 단국대학교부속소프트웨어고등학교\n",
      "급식 정보 조회 중: 날짜=20241030\n",
      "mealService 응답코드: 200\n",
      "급식 데이터 수: 21\n"
     ]
    },
    {
     "name": "stderr",
     "output_type": "stream",
     "text": [
      "고등학교 급식 조회:  29%|███▋         | 51/178 [00:10<00:24,  5.15it/s]"
     ]
    },
    {
     "name": "stdout",
     "output_type": "stream",
     "text": [
      "7010137 단국대학교사범대학부속고등학교\n",
      "급식 정보 조회 중: 날짜=20241030\n",
      "mealService 응답코드: 200\n",
      "급식 데이터 수: 21\n"
     ]
    },
    {
     "name": "stderr",
     "output_type": "stream",
     "text": [
      "고등학교 급식 조회:  29%|███▊         | 52/178 [00:10<00:25,  5.04it/s]"
     ]
    },
    {
     "name": "stdout",
     "output_type": "stream",
     "text": [
      "7010073 당곡고등학교\n",
      "급식 정보 조회 중: 날짜=20241030\n",
      "mealService 응답코드: 200\n",
      "급식 데이터 수: 41\n"
     ]
    },
    {
     "name": "stderr",
     "output_type": "stream",
     "text": [
      "고등학교 급식 조회:  30%|███▊         | 53/178 [00:11<00:24,  5.04it/s]"
     ]
    },
    {
     "name": "stdout",
     "output_type": "stream",
     "text": [
      "7011507 대경생활과학고등학교\n",
      "급식 정보 조회 중: 날짜=20241030\n",
      "mealService 응답코드: 200\n",
      "급식 데이터 수: 21\n",
      "7010138 대광고등학교\n",
      "급식 정보 조회 중: 날짜=20241030\n",
      "mealService 응답코드: 200\n",
      "급식 데이터 수: 42\n"
     ]
    },
    {
     "name": "stderr",
     "output_type": "stream",
     "text": [
      "고등학교 급식 조회:  31%|████         | 55/178 [00:11<00:25,  4.81it/s]"
     ]
    },
    {
     "name": "stdout",
     "output_type": "stream",
     "text": [
      "7010833 대동세무고등학교\n",
      "급식 정보 조회 중: 날짜=20241030\n",
      "mealService 응답코드: 200\n",
      "급식 데이터 수: 21\n"
     ]
    },
    {
     "name": "stderr",
     "output_type": "stream",
     "text": [
      "고등학교 급식 조회:  31%|████         | 56/178 [00:11<00:25,  4.88it/s]"
     ]
    },
    {
     "name": "stdout",
     "output_type": "stream",
     "text": [
      "7010139 대성고등학교\n",
      "급식 정보 조회 중: 날짜=20241030\n",
      "mealService 응답코드: 200\n",
      "급식 데이터 수: 21\n"
     ]
    },
    {
     "name": "stderr",
     "output_type": "stream",
     "text": [
      "고등학교 급식 조회:  32%|████▏        | 57/178 [00:11<00:24,  4.90it/s]"
     ]
    },
    {
     "name": "stdout",
     "output_type": "stream",
     "text": [
      "7010140 대신고등학교\n",
      "급식 정보 조회 중: 날짜=20241030\n",
      "mealService 응답코드: 200\n",
      "급식 데이터 수: 21\n",
      "7010074 대영고등학교\n",
      "급식 정보 조회 중: 날짜=20241030\n",
      "mealService 응답코드: 200\n",
      "급식 데이터 수: 21\n"
     ]
    },
    {
     "name": "stderr",
     "output_type": "stream",
     "text": [
      "고등학교 급식 조회:  33%|████▏        | 58/178 [00:12<00:24,  4.88it/s]"
     ]
    },
    {
     "name": "stdout",
     "output_type": "stream",
     "text": [
      "7010141 대원고등학교\n",
      "급식 정보 조회 중: 날짜=20241030\n",
      "mealService 응답코드: 200\n",
      "급식 데이터 수: 35\n"
     ]
    },
    {
     "name": "stderr",
     "output_type": "stream",
     "text": [
      "고등학교 급식 조회:  34%|████▍        | 60/178 [00:12<00:25,  4.61it/s]"
     ]
    },
    {
     "name": "stdout",
     "output_type": "stream",
     "text": [
      "7010142 대원여자고등학교\n",
      "급식 정보 조회 중: 날짜=20241030\n",
      "mealService 응답코드: 200\n",
      "급식 데이터 수: 35\n",
      "7010143 대원외국어고등학교\n",
      "급식 정보 조회 중: 날짜=20241030\n",
      "mealService 응답코드: 200\n",
      "급식 데이터 수: 35\n"
     ]
    },
    {
     "name": "stderr",
     "output_type": "stream",
     "text": [
      "고등학교 급식 조회:  35%|████▌        | 62/178 [00:13<00:24,  4.69it/s]"
     ]
    },
    {
     "name": "stdout",
     "output_type": "stream",
     "text": [
      "7010144 대일고등학교\n",
      "급식 정보 조회 중: 날짜=20241030\n",
      "mealService 응답코드: 200\n",
      "급식 데이터 수: 21\n"
     ]
    },
    {
     "name": "stderr",
     "output_type": "stream",
     "text": [
      "고등학교 급식 조회:  35%|████▌        | 63/178 [00:13<00:23,  4.89it/s]"
     ]
    },
    {
     "name": "stdout",
     "output_type": "stream",
     "text": [
      "7011186 대일관광고등학교\n",
      "급식 정보 조회 중: 날짜=20241030\n",
      "mealService 응답코드: 200\n",
      "급식 데이터 수: 21\n",
      "7010145 대일외국어고등학교\n",
      "급식 정보 조회 중: 날짜=20241030\n"
     ]
    },
    {
     "name": "stderr",
     "output_type": "stream",
     "text": [
      "고등학교 급식 조회:  36%|████▋        | 64/178 [00:13<00:25,  4.54it/s]"
     ]
    },
    {
     "name": "stdout",
     "output_type": "stream",
     "text": [
      "mealService 응답코드: 200\n",
      "급식 데이터 수: 59\n",
      "7010146 대진고등학교\n",
      "급식 정보 조회 중: 날짜=20241030\n"
     ]
    },
    {
     "name": "stderr",
     "output_type": "stream",
     "text": [
      "고등학교 급식 조회:  37%|████▋        | 65/178 [00:13<00:24,  4.60it/s]"
     ]
    },
    {
     "name": "stdout",
     "output_type": "stream",
     "text": [
      "mealService 응답코드: 200\n",
      "급식 데이터 수: 39\n",
      "7010740 대진디자인고등학교\n",
      "급식 정보 조회 중: 날짜=20241030\n",
      "mealService 응답코드: 200\n",
      "급식 데이터 수: 20\n"
     ]
    },
    {
     "name": "stderr",
     "output_type": "stream",
     "text": [
      "고등학교 급식 조회:  37%|████▊        | 66/178 [00:13<00:23,  4.71it/s]"
     ]
    },
    {
     "name": "stdout",
     "output_type": "stream",
     "text": [
      "7010147 대진여자고등학교\n",
      "급식 정보 조회 중: 날짜=20241030\n",
      "mealService 응답코드: 200\n",
      "급식 데이터 수: 41\n"
     ]
    },
    {
     "name": "stderr",
     "output_type": "stream",
     "text": [
      "고등학교 급식 조회:  38%|████▉        | 68/178 [00:14<00:23,  4.72it/s]"
     ]
    },
    {
     "name": "stdout",
     "output_type": "stream",
     "text": [
      "7010148 덕성여자고등학교\n",
      "급식 정보 조회 중: 날짜=20241030\n",
      "mealService 응답코드: 200\n",
      "급식 데이터 수: 36\n"
     ]
    },
    {
     "name": "stderr",
     "output_type": "stream",
     "text": [
      "고등학교 급식 조회:  39%|█████        | 69/178 [00:14<00:22,  4.95it/s]"
     ]
    },
    {
     "name": "stdout",
     "output_type": "stream",
     "text": [
      "7010808 덕수고등학교\n",
      "급식 정보 조회 중: 날짜=20241030\n",
      "mealService 응답코드: 200\n",
      "급식 데이터 수: 21\n"
     ]
    },
    {
     "name": "stderr",
     "output_type": "stream",
     "text": [
      "고등학교 급식 조회:  39%|█████        | 70/178 [00:14<00:21,  4.92it/s]"
     ]
    },
    {
     "name": "stdout",
     "output_type": "stream",
     "text": [
      "7010149 덕원여자고등학교\n",
      "급식 정보 조회 중: 날짜=20241030\n",
      "mealService 응답코드: 200\n",
      "급식 데이터 수: 41\n",
      "7010150 덕원예술고등학교\n",
      "급식 정보 조회 중: 날짜=20241030\n",
      "mealService 응답코드: 200\n",
      "급식 데이터 수: 41\n"
     ]
    },
    {
     "name": "stderr",
     "output_type": "stream",
     "text": [
      "고등학교 급식 조회:  40%|█████▏       | 71/178 [00:14<00:22,  4.76it/s]"
     ]
    },
    {
     "name": "stdout",
     "output_type": "stream",
     "text": [
      "7010317 덕일전자공업고등학교\n",
      "급식 정보 조회 중: 날짜=20241030\n",
      "mealService 응답코드: 200\n",
      "급식 데이터 수: 20\n"
     ]
    },
    {
     "name": "stderr",
     "output_type": "stream",
     "text": [
      "고등학교 급식 조회:  40%|█████▎       | 72/178 [00:15<00:22,  4.78it/s]"
     ]
    },
    {
     "name": "stdout",
     "output_type": "stream",
     "text": [
      "7011318 도선고등학교\n",
      "급식 정보 조회 중: 날짜=20241030\n",
      "mealService 응답코드: 200\n",
      "급식 데이터 수: 21\n"
     ]
    },
    {
     "name": "stderr",
     "output_type": "stream",
     "text": [
      "고등학교 급식 조회:  42%|█████▍       | 74/178 [00:15<00:21,  4.79it/s]"
     ]
    },
    {
     "name": "stdout",
     "output_type": "stream",
     "text": [
      "7010560 독산고등학교\n",
      "급식 정보 조회 중: 날짜=20241030\n",
      "mealService 응답코드: 200\n",
      "급식 데이터 수: 20\n",
      "7011586 동국대학교사범대학부속가람고등학교\n",
      "급식 정보 조회 중: 날짜=20241030\n",
      "mealService 응답코드: 200\n",
      "급식 데이터 수: 42\n"
     ]
    },
    {
     "name": "stderr",
     "output_type": "stream",
     "text": [
      "고등학교 급식 조회:  42%|█████▍       | 75/178 [00:15<00:21,  4.73it/s]"
     ]
    },
    {
     "name": "stdout",
     "output_type": "stream",
     "text": [
      "7010151 동국대학교사범대학부속고등학교\n",
      "급식 정보 조회 중: 날짜=20241030\n",
      "mealService 응답코드: 200\n",
      "급식 데이터 수: 40\n"
     ]
    },
    {
     "name": "stderr",
     "output_type": "stream",
     "text": [
      "고등학교 급식 조회:  43%|█████▌       | 77/178 [00:16<00:20,  4.89it/s]"
     ]
    },
    {
     "name": "stdout",
     "output_type": "stream",
     "text": [
      "7010152 동덕여자고등학교\n",
      "급식 정보 조회 중: 날짜=20241030\n",
      "mealService 응답코드: 200\n",
      "급식 데이터 수: 21\n"
     ]
    },
    {
     "name": "stderr",
     "output_type": "stream",
     "text": [
      "고등학교 급식 조회:  44%|█████▋       | 78/178 [00:16<00:19,  5.07it/s]"
     ]
    },
    {
     "name": "stdout",
     "output_type": "stream",
     "text": [
      "7011490 동명생활경영고등학교\n",
      "급식 정보 조회 중: 날짜=20241030\n",
      "mealService 응답코드: 200\n",
      "급식 데이터 수: 20\n",
      "7010153 동명여자고등학교\n",
      "급식 정보 조회 중: 날짜=20241030\n"
     ]
    },
    {
     "name": "stderr",
     "output_type": "stream",
     "text": [
      "고등학교 급식 조회:  44%|█████▊       | 79/178 [00:16<00:18,  5.22it/s]"
     ]
    },
    {
     "name": "stdout",
     "output_type": "stream",
     "text": [
      "mealService 응답코드: 200\n",
      "급식 데이터 수: 20\n",
      "7010154 동북고등학교\n",
      "급식 정보 조회 중: 날짜=20241030\n"
     ]
    },
    {
     "name": "stderr",
     "output_type": "stream",
     "text": [
      "고등학교 급식 조회:  45%|█████▊       | 80/178 [00:16<00:19,  4.98it/s]"
     ]
    },
    {
     "name": "stdout",
     "output_type": "stream",
     "text": [
      "mealService 응답코드: 200\n",
      "급식 데이터 수: 38\n",
      "7010155 동성고등학교\n",
      "급식 정보 조회 중: 날짜=20241030\n"
     ]
    },
    {
     "name": "stderr",
     "output_type": "stream",
     "text": [
      "고등학교 급식 조회:  46%|█████▉       | 81/178 [00:17<00:20,  4.71it/s]"
     ]
    },
    {
     "name": "stdout",
     "output_type": "stream",
     "text": [
      "mealService 응답코드: 200\n",
      "급식 데이터 수: 63\n",
      "7010965 동양고등학교\n",
      "급식 정보 조회 중: 날짜=20241030\n"
     ]
    },
    {
     "name": "stderr",
     "output_type": "stream",
     "text": [
      "고등학교 급식 조회:  46%|█████▉       | 82/178 [00:17<00:20,  4.65it/s]"
     ]
    },
    {
     "name": "stdout",
     "output_type": "stream",
     "text": [
      "mealService 응답코드: 200\n",
      "급식 데이터 수: 37\n",
      "7010156 동일여자고등학교\n",
      "급식 정보 조회 중: 날짜=20241030\n"
     ]
    },
    {
     "name": "stderr",
     "output_type": "stream",
     "text": [
      "고등학교 급식 조회:  47%|██████       | 83/178 [00:17<00:22,  4.30it/s]"
     ]
    },
    {
     "name": "stdout",
     "output_type": "stream",
     "text": [
      "mealService 응답코드: 200\n",
      "급식 데이터 수: 20\n",
      "7010075 동작고등학교\n",
      "급식 정보 조회 중: 날짜=20241030\n"
     ]
    },
    {
     "name": "stderr",
     "output_type": "stream",
     "text": [
      "고등학교 급식 조회:  47%|██████▏      | 84/178 [00:17<00:21,  4.32it/s]"
     ]
    },
    {
     "name": "stdout",
     "output_type": "stream",
     "text": [
      "mealService 응답코드: 200\n",
      "급식 데이터 수: 20\n",
      "7010076 둔촌고등학교\n",
      "급식 정보 조회 중: 날짜=20241030\n"
     ]
    },
    {
     "name": "stderr",
     "output_type": "stream",
     "text": [
      "고등학교 급식 조회:  48%|██████▏      | 85/178 [00:17<00:21,  4.35it/s]"
     ]
    },
    {
     "name": "stdout",
     "output_type": "stream",
     "text": [
      "mealService 응답코드: 200\n",
      "급식 데이터 수: 21\n",
      "7010700 등촌고등학교\n",
      "급식 정보 조회 중: 날짜=20241030\n"
     ]
    },
    {
     "name": "stderr",
     "output_type": "stream",
     "text": [
      "고등학교 급식 조회:  48%|██████▎      | 86/178 [00:18<00:20,  4.45it/s]"
     ]
    },
    {
     "name": "stdout",
     "output_type": "stream",
     "text": [
      "mealService 응답코드: 200\n",
      "급식 데이터 수: 21\n",
      "7010908 리라아트고등학교\n",
      "급식 정보 조회 중: 날짜=20241030\n"
     ]
    },
    {
     "name": "stderr",
     "output_type": "stream",
     "text": [
      "고등학교 급식 조회:  49%|██████▎      | 87/178 [00:18<00:20,  4.54it/s]"
     ]
    },
    {
     "name": "stdout",
     "output_type": "stream",
     "text": [
      "mealService 응답코드: 200\n",
      "급식 데이터 수: 19\n",
      "7010157 마포고등학교\n",
      "급식 정보 조회 중: 날짜=20241030\n"
     ]
    },
    {
     "name": "stderr",
     "output_type": "stream",
     "text": [
      "고등학교 급식 조회:  49%|██████▍      | 88/178 [00:18<00:20,  4.48it/s]"
     ]
    },
    {
     "name": "stdout",
     "output_type": "stream",
     "text": [
      "mealService 응답코드: 200\n",
      "급식 데이터 수: 21\n",
      "7010077 면목고등학교\n",
      "급식 정보 조회 중: 날짜=20241030\n",
      "mealService 응답코드: 200\n",
      "급식 데이터 수: 22\n"
     ]
    },
    {
     "name": "stderr",
     "output_type": "stream",
     "text": [
      "고등학교 급식 조회:  51%|██████▌      | 90/178 [00:18<00:18,  4.81it/s]"
     ]
    },
    {
     "name": "stdout",
     "output_type": "stream",
     "text": [
      "7010158 명덕고등학교\n",
      "급식 정보 조회 중: 날짜=20241030\n",
      "mealService 응답코드: 200\n",
      "급식 데이터 수: 69\n",
      "7010159 명덕여자고등학교\n",
      "급식 정보 조회 중: 날짜=20241030\n",
      "mealService 응답코드: 200\n",
      "급식 데이터 수: 69\n"
     ]
    },
    {
     "name": "stderr",
     "output_type": "stream",
     "text": [
      "고등학교 급식 조회:  51%|██████▋      | 91/178 [00:19<00:18,  4.77it/s]"
     ]
    },
    {
     "name": "stdout",
     "output_type": "stream",
     "text": [
      "7010160 명덕외국어고등학교\n",
      "급식 정보 조회 중: 날짜=20241030\n",
      "mealService 응답코드: 200\n",
      "급식 데이터 수: 69\n"
     ]
    },
    {
     "name": "stderr",
     "output_type": "stream",
     "text": [
      "고등학교 급식 조회:  52%|██████▊      | 93/178 [00:19<00:17,  4.75it/s]"
     ]
    },
    {
     "name": "stdout",
     "output_type": "stream",
     "text": [
      "7010078 명일여자고등학교\n",
      "급식 정보 조회 중: 날짜=20241030\n",
      "mealService 응답코드: 200\n",
      "급식 데이터 수: 21\n",
      "7010163 명지고등학교\n",
      "급식 정보 조회 중: 날짜=20241030\n",
      "mealService 응답코드: 200\n",
      "급식 데이터 수: 41\n"
     ]
    },
    {
     "name": "stderr",
     "output_type": "stream",
     "text": [
      "고등학교 급식 조회:  53%|██████▊      | 94/178 [00:19<00:17,  4.69it/s]"
     ]
    },
    {
     "name": "stdout",
     "output_type": "stream",
     "text": [
      "7010744 목동고등학교\n",
      "급식 정보 조회 중: 날짜=20241030\n",
      "mealService 응답코드: 200\n",
      "급식 데이터 수: 41\n"
     ]
    },
    {
     "name": "stderr",
     "output_type": "stream",
     "text": [
      "고등학교 급식 조회:  54%|███████      | 96/178 [00:20<00:16,  5.01it/s]"
     ]
    },
    {
     "name": "stdout",
     "output_type": "stream",
     "text": [
      "7010079 무학여자고등학교\n",
      "급식 정보 조회 중: 날짜=20241030\n",
      "mealService 응답코드: 200\n",
      "mealServiceDietInfo 키 없음: {'RESULT': {'CODE': 'INFO-200', 'MESSAGE': '해당하는 데이터가 없습니다.'}}\n",
      "7010166 문일고등학교\n",
      "급식 정보 조회 중: 날짜=20241030\n"
     ]
    },
    {
     "name": "stderr",
     "output_type": "stream",
     "text": [
      "고등학교 급식 조회:  54%|███████      | 97/178 [00:20<00:17,  4.58it/s]"
     ]
    },
    {
     "name": "stdout",
     "output_type": "stream",
     "text": [
      "mealService 응답코드: 200\n",
      "급식 데이터 수: 42\n",
      "7010701 문정고등학교\n",
      "급식 정보 조회 중: 날짜=20241030\n",
      "mealService 응답코드: 200\n",
      "급식 데이터 수: 21\n"
     ]
    },
    {
     "name": "stderr",
     "output_type": "stream",
     "text": [
      "고등학교 급식 조회:  56%|███████▏     | 99/178 [00:20<00:16,  4.92it/s]"
     ]
    },
    {
     "name": "stdout",
     "output_type": "stream",
     "text": [
      "7010959 문현고등학교\n",
      "급식 정보 조회 중: 날짜=20241030\n",
      "mealService 응답코드: 200\n",
      "급식 데이터 수: 20\n",
      "7010591 미래산업과학고등학교\n",
      "급식 정보 조회 중: 날짜=20241030\n"
     ]
    },
    {
     "name": "stderr",
     "output_type": "stream",
     "text": [
      "고등학교 급식 조회:  56%|██████▋     | 100/178 [00:21<00:15,  4.88it/s]"
     ]
    },
    {
     "name": "stdout",
     "output_type": "stream",
     "text": [
      "mealService 응답코드: 200\n",
      "급식 데이터 수: 21\n",
      "7011569 미림마이스터고등학교\n",
      "급식 정보 조회 중: 날짜=20241030\n"
     ]
    },
    {
     "name": "stderr",
     "output_type": "stream",
     "text": [
      "고등학교 급식 조회:  57%|██████▊     | 101/178 [00:21<00:16,  4.75it/s]"
     ]
    },
    {
     "name": "stdout",
     "output_type": "stream",
     "text": [
      "mealService 응답코드: 200\n",
      "급식 데이터 수: 58\n",
      "7010167 미림여자고등학교\n",
      "급식 정보 조회 중: 날짜=20241030\n"
     ]
    },
    {
     "name": "stderr",
     "output_type": "stream",
     "text": [
      "고등학교 급식 조회:  57%|██████▉     | 102/178 [00:21<00:16,  4.74it/s]"
     ]
    },
    {
     "name": "stdout",
     "output_type": "stream",
     "text": [
      "mealService 응답코드: 200\n",
      "급식 데이터 수: 58\n",
      "7010080 반포고등학교\n",
      "급식 정보 조회 중: 날짜=20241030\n"
     ]
    },
    {
     "name": "stderr",
     "output_type": "stream",
     "text": [
      "고등학교 급식 조회:  58%|██████▉     | 103/178 [00:21<00:16,  4.64it/s]"
     ]
    },
    {
     "name": "stdout",
     "output_type": "stream",
     "text": [
      "mealService 응답코드: 200\n",
      "급식 데이터 수: 21\n",
      "7010590 방산고등학교\n",
      "급식 정보 조회 중: 날짜=20241030\n",
      "mealService 응답코드: 200\n",
      "급식 데이터 수: 21\n"
     ]
    },
    {
     "name": "stderr",
     "output_type": "stream",
     "text": [
      "고등학교 급식 조회:  58%|███████     | 104/178 [00:21<00:15,  4.69it/s]"
     ]
    },
    {
     "name": "stdout",
     "output_type": "stream",
     "text": [
      "7010168 배명고등학교\n",
      "급식 정보 조회 중: 날짜=20241030\n",
      "mealService 응답코드: 200\n",
      "급식 데이터 수: 62\n"
     ]
    },
    {
     "name": "stderr",
     "output_type": "stream",
     "text": [
      "고등학교 급식 조회:  59%|███████     | 105/178 [00:22<00:16,  4.50it/s]"
     ]
    },
    {
     "name": "stdout",
     "output_type": "stream",
     "text": [
      "7010169 배문고등학교\n",
      "급식 정보 조회 중: 날짜=20241030\n",
      "mealService 응답코드: 200\n",
      "급식 데이터 수: 38\n"
     ]
    },
    {
     "name": "stderr",
     "output_type": "stream",
     "text": [
      "고등학교 급식 조회:  60%|███████▏    | 106/178 [00:22<00:16,  4.39it/s]"
     ]
    },
    {
     "name": "stdout",
     "output_type": "stream",
     "text": [
      "7010170 배재고등학교\n",
      "급식 정보 조회 중: 날짜=20241030\n"
     ]
    },
    {
     "name": "stderr",
     "output_type": "stream",
     "text": [
      "고등학교 급식 조회:  60%|███████▏    | 107/178 [00:22<00:22,  3.17it/s]"
     ]
    },
    {
     "name": "stdout",
     "output_type": "stream",
     "text": [
      "mealService 응답코드: 200\n",
      "급식 데이터 수: 62\n",
      "7010171 배화여자고등학교\n",
      "급식 정보 조회 중: 날짜=20241030\n"
     ]
    },
    {
     "name": "stderr",
     "output_type": "stream",
     "text": [
      "고등학교 급식 조회:  61%|███████▎    | 108/178 [00:23<00:20,  3.49it/s]"
     ]
    },
    {
     "name": "stdout",
     "output_type": "stream",
     "text": [
      "mealService 응답코드: 200\n",
      "급식 데이터 수: 41\n",
      "7010172 백암고등학교\n",
      "급식 정보 조회 중: 날짜=20241030\n"
     ]
    },
    {
     "name": "stderr",
     "output_type": "stream",
     "text": [
      "고등학교 급식 조회:  61%|███████▎    | 109/178 [00:23<00:19,  3.63it/s]"
     ]
    },
    {
     "name": "stdout",
     "output_type": "stream",
     "text": [
      "mealService 응답코드: 200\n",
      "급식 데이터 수: 35\n",
      "7010173 보성고등학교\n",
      "급식 정보 조회 중: 날짜=20241030\n"
     ]
    },
    {
     "name": "stderr",
     "output_type": "stream",
     "text": [
      "고등학교 급식 조회:  62%|███████▍    | 110/178 [00:23<00:19,  3.56it/s]"
     ]
    },
    {
     "name": "stdout",
     "output_type": "stream",
     "text": [
      "mealService 응답코드: 200\n",
      "급식 데이터 수: 38\n",
      "7010174 보성여자고등학교\n",
      "급식 정보 조회 중: 날짜=20241030\n",
      "mealService 응답코드: 200\n",
      "급식 데이터 수: 21\n"
     ]
    },
    {
     "name": "stderr",
     "output_type": "stream",
     "text": [
      "고등학교 급식 조회:  62%|███████▍    | 111/178 [00:23<00:17,  3.84it/s]"
     ]
    },
    {
     "name": "stdout",
     "output_type": "stream",
     "text": [
      "7010813 보인고등학교\n",
      "급식 정보 조회 중: 날짜=20241030\n",
      "mealService 응답코드: 200\n",
      "급식 데이터 수: 59\n"
     ]
    },
    {
     "name": "stderr",
     "output_type": "stream",
     "text": [
      "고등학교 급식 조회:  63%|███████▌    | 112/178 [00:24<00:17,  3.73it/s]"
     ]
    },
    {
     "name": "stdout",
     "output_type": "stream",
     "text": [
      "7010736 불암고등학교\n",
      "급식 정보 조회 중: 날짜=20241030\n",
      "mealService 응답코드: 200\n",
      "급식 데이터 수: 21\n"
     ]
    },
    {
     "name": "stderr",
     "output_type": "stream",
     "text": [
      "고등학교 급식 조회:  63%|███████▌    | 113/178 [00:24<00:16,  3.85it/s]"
     ]
    },
    {
     "name": "stdout",
     "output_type": "stream",
     "text": [
      "7010985 삼각산고등학교\n",
      "급식 정보 조회 중: 날짜=20241030\n",
      "mealService 응답코드: 200\n",
      "급식 데이터 수: 19\n"
     ]
    },
    {
     "name": "stderr",
     "output_type": "stream",
     "text": [
      "고등학교 급식 조회:  64%|███████▋    | 114/178 [00:24<00:15,  4.02it/s]"
     ]
    },
    {
     "name": "stdout",
     "output_type": "stream",
     "text": [
      "7010081 삼성고등학교\n",
      "급식 정보 조회 중: 날짜=20241030\n",
      "mealService 응답코드: 200\n",
      "급식 데이터 수: 21\n"
     ]
    },
    {
     "name": "stderr",
     "output_type": "stream",
     "text": [
      "고등학교 급식 조회:  65%|███████▊    | 116/178 [00:25<00:14,  4.32it/s]"
     ]
    },
    {
     "name": "stdout",
     "output_type": "stream",
     "text": [
      "7010082 상계고등학교\n",
      "급식 정보 조회 중: 날짜=20241030\n",
      "mealService 응답코드: 200\n",
      "급식 데이터 수: 20\n"
     ]
    },
    {
     "name": "stderr",
     "output_type": "stream",
     "text": [
      "고등학교 급식 조회:  66%|███████▉    | 117/178 [00:25<00:13,  4.53it/s]"
     ]
    },
    {
     "name": "stdout",
     "output_type": "stream",
     "text": [
      "7010593 상명고등학교\n",
      "급식 정보 조회 중: 날짜=20241030\n",
      "mealService 응답코드: 200\n",
      "급식 데이터 수: 21\n"
     ]
    },
    {
     "name": "stderr",
     "output_type": "stream",
     "text": [
      "고등학교 급식 조회:  66%|███████▉    | 118/178 [00:25<00:12,  4.74it/s]"
     ]
    },
    {
     "name": "stdout",
     "output_type": "stream",
     "text": [
      "7010178 상명대학교사범대학부속여자고등학교\n",
      "급식 정보 조회 중: 날짜=20241030\n",
      "mealService 응답코드: 200\n",
      "급식 데이터 수: 21\n"
     ]
    },
    {
     "name": "stderr",
     "output_type": "stream",
     "text": [
      "고등학교 급식 조회:  67%|████████    | 119/178 [00:25<00:11,  4.92it/s]"
     ]
    },
    {
     "name": "stdout",
     "output_type": "stream",
     "text": [
      "7010179 상문고등학교\n",
      "급식 정보 조회 중: 날짜=20241030\n",
      "mealService 응답코드: 200\n",
      "급식 데이터 수: 20\n",
      "7010806 상암고등학교\n",
      "급식 정보 조회 중: 날짜=20241030\n"
     ]
    },
    {
     "name": "stderr",
     "output_type": "stream",
     "text": [
      "고등학교 급식 조회:  67%|████████    | 120/178 [00:25<00:11,  5.11it/s]"
     ]
    },
    {
     "name": "stdout",
     "output_type": "stream",
     "text": [
      "mealService 응답코드: 200\n",
      "급식 데이터 수: 21\n",
      "7010916 상일미디어고등학교\n",
      "급식 정보 조회 중: 날짜=20241030\n",
      "mealService 응답코드: 200\n",
      "급식 데이터 수: 21\n"
     ]
    },
    {
     "name": "stderr",
     "output_type": "stream",
     "text": [
      "고등학교 급식 조회:  69%|████████▏   | 122/178 [00:26<00:10,  5.23it/s]"
     ]
    },
    {
     "name": "stdout",
     "output_type": "stream",
     "text": [
      "7010181 상일여자고등학교\n",
      "급식 정보 조회 중: 날짜=20241030\n",
      "mealService 응답코드: 200\n",
      "급식 데이터 수: 21\n",
      "7010182 서라벌고등학교\n",
      "급식 정보 조회 중: 날짜=20241030\n",
      "mealService 응답코드: 200\n",
      "급식 데이터 수: 35\n"
     ]
    },
    {
     "name": "stderr",
     "output_type": "stream",
     "text": [
      "고등학교 급식 조회:  69%|████████▎   | 123/178 [00:26<00:10,  5.05it/s]"
     ]
    },
    {
     "name": "stdout",
     "output_type": "stream",
     "text": [
      "7010183 서문여자고등학교\n",
      "급식 정보 조회 중: 날짜=20241030\n",
      "mealService 응답코드: 200\n",
      "급식 데이터 수: 37\n"
     ]
    },
    {
     "name": "stderr",
     "output_type": "stream",
     "text": [
      "고등학교 급식 조회:  70%|████████▎   | 124/178 [00:26<00:11,  4.65it/s]"
     ]
    },
    {
     "name": "stdout",
     "output_type": "stream",
     "text": [
      "7010721 서서울생활과학고등학교\n",
      "급식 정보 조회 중: 날짜=20241030\n",
      "mealService 응답코드: 200\n",
      "급식 데이터 수: 20\n"
     ]
    },
    {
     "name": "stderr",
     "output_type": "stream",
     "text": [
      "고등학교 급식 조회:  70%|████████▍   | 125/178 [00:26<00:11,  4.63it/s]"
     ]
    },
    {
     "name": "stdout",
     "output_type": "stream",
     "text": [
      "7010083 서울고등학교\n",
      "급식 정보 조회 중: 날짜=20241030\n",
      "mealService 응답코드: 200\n",
      "급식 데이터 수: 41\n"
     ]
    },
    {
     "name": "stderr",
     "output_type": "stream",
     "text": [
      "고등학교 급식 조회:  71%|████████▌   | 127/178 [00:27<00:11,  4.61it/s]"
     ]
    },
    {
     "name": "stdout",
     "output_type": "stream",
     "text": [
      "7010278 서울공업고등학교\n",
      "급식 정보 조회 중: 날짜=20241030\n",
      "mealService 응답코드: 200\n",
      "급식 데이터 수: 19\n",
      "7010906 서울공연예술고등학교\n",
      "급식 정보 조회 중: 날짜=20241030\n",
      "mealService 응답코드: 200\n",
      "급식 데이터 수: 21\n"
     ]
    },
    {
     "name": "stderr",
     "output_type": "stream",
     "text": [
      "고등학교 급식 조회:  72%|████████▋   | 129/178 [00:27<00:10,  4.68it/s]"
     ]
    },
    {
     "name": "stdout",
     "output_type": "stream",
     "text": [
      "7010084 서울과학고등학교\n",
      "급식 정보 조회 중: 날짜=20241030\n",
      "mealService 응답코드: 200\n",
      "급식 데이터 수: 60\n"
     ]
    },
    {
     "name": "stderr",
     "output_type": "stream",
     "text": [
      "고등학교 급식 조회:  73%|████████▊   | 130/178 [00:28<00:10,  4.78it/s]"
     ]
    },
    {
     "name": "stdout",
     "output_type": "stream",
     "text": [
      "7010739 서울관광고등학교\n",
      "급식 정보 조회 중: 날짜=20241030\n",
      "mealService 응답코드: 200\n",
      "급식 데이터 수: 19\n",
      "7010817 서울국제고등학교\n",
      "급식 정보 조회 중: 날짜=20241030\n",
      "mealService 응답코드: 200\n",
      "급식 데이터 수: 58\n"
     ]
    },
    {
     "name": "stderr",
     "output_type": "stream",
     "text": [
      "고등학교 급식 조회:  74%|████████▊   | 131/178 [00:28<00:10,  4.30it/s]"
     ]
    },
    {
     "name": "stdout",
     "output_type": "stream",
     "text": [
      "7010964 서울금융고등학교\n",
      "급식 정보 조회 중: 날짜=20241030\n",
      "mealService 응답코드: 200\n",
      "급식 데이터 수: 20\n"
     ]
    },
    {
     "name": "stderr",
     "output_type": "stream",
     "text": [
      "고등학교 급식 조회:  75%|████████▉   | 133/178 [00:28<00:09,  4.59it/s]"
     ]
    },
    {
     "name": "stdout",
     "output_type": "stream",
     "text": [
      "7011109 서울대학교사범대학부설고등학교\n",
      "급식 정보 조회 중: 날짜=20241030\n",
      "mealService 응답코드: 200\n",
      "급식 데이터 수: 21\n",
      "7011180 서울도시과학기술고등학교\n",
      "급식 정보 조회 중: 날짜=20241030\n",
      "mealService 응답코드: 200\n",
      "급식 데이터 수: 54\n"
     ]
    },
    {
     "name": "stderr",
     "output_type": "stream",
     "text": [
      "고등학교 급식 조회:  76%|█████████   | 135/178 [00:29<00:08,  4.87it/s]"
     ]
    },
    {
     "name": "stdout",
     "output_type": "stream",
     "text": [
      "7011539 서울동구고등학교\n",
      "급식 정보 조회 중: 날짜=20241030\n",
      "mealService 응답코드: 200\n",
      "급식 데이터 수: 19\n",
      "7011494 서울동산고등학교\n",
      "급식 정보 조회 중: 날짜=20241030\n",
      "mealService 응답코드: 200\n",
      "급식 데이터 수: 21\n"
     ]
    },
    {
     "name": "stderr",
     "output_type": "stream",
     "text": [
      "고등학교 급식 조회:  77%|█████████▏  | 137/178 [00:29<00:08,  4.96it/s]"
     ]
    },
    {
     "name": "stdout",
     "output_type": "stream",
     "text": [
      "7010741 서울디자인고등학교\n",
      "급식 정보 조회 중: 날짜=20241030\n",
      "mealService 응답코드: 200\n",
      "급식 데이터 수: 21\n",
      "7011585 서울디지털콘텐츠고등학교\n",
      "급식 정보 조회 중: 날짜=20241030\n",
      "mealService 응답코드: 200\n",
      "급식 데이터 수: 21\n"
     ]
    },
    {
     "name": "stderr",
     "output_type": "stream",
     "text": [
      "고등학교 급식 조회:  78%|█████████▎  | 138/178 [00:29<00:08,  4.75it/s]"
     ]
    },
    {
     "name": "stdout",
     "output_type": "stream",
     "text": [
      "7010572 서울디지텍고등학교\n",
      "급식 정보 조회 중: 날짜=20241030\n",
      "mealService 응답코드: 200\n",
      "급식 데이터 수: 21\n"
     ]
    },
    {
     "name": "stderr",
     "output_type": "stream",
     "text": [
      "고등학교 급식 조회:  78%|█████████▎  | 139/178 [00:29<00:08,  4.52it/s]"
     ]
    },
    {
     "name": "stdout",
     "output_type": "stream",
     "text": [
      "7010738 서울로봇고등학교\n",
      "급식 정보 조회 중: 날짜=20241030\n"
     ]
    },
    {
     "name": "stderr",
     "output_type": "stream",
     "text": [
      "고등학교 급식 조회:  79%|█████████▍  | 140/178 [00:30<00:09,  4.07it/s]"
     ]
    },
    {
     "name": "stdout",
     "output_type": "stream",
     "text": [
      "mealService 응답코드: 200\n",
      "급식 데이터 수: 62\n",
      "7011506 서울매그넷고등학교\n",
      "급식 정보 조회 중: 날짜=20241030\n",
      "mealService 응답코드: 200\n",
      "급식 데이터 수: 20\n"
     ]
    },
    {
     "name": "stderr",
     "output_type": "stream",
     "text": [
      "고등학교 급식 조회:  80%|█████████▌  | 142/178 [00:30<00:07,  4.57it/s]"
     ]
    },
    {
     "name": "stdout",
     "output_type": "stream",
     "text": [
      "7010697 서울문영여자고등학교\n",
      "급식 정보 조회 중: 날짜=20241030\n",
      "mealService 응답코드: 200\n",
      "급식 데이터 수: 41\n"
     ]
    },
    {
     "name": "stderr",
     "output_type": "stream",
     "text": [
      "고등학교 급식 조회:  80%|█████████▋  | 143/178 [00:30<00:07,  4.70it/s]"
     ]
    },
    {
     "name": "stdout",
     "output_type": "stream",
     "text": [
      "7010888 서울문화고등학교\n",
      "급식 정보 조회 중: 날짜=20241030\n",
      "mealService 응답코드: 200\n",
      "급식 데이터 수: 19\n"
     ]
    },
    {
     "name": "stderr",
     "output_type": "stream",
     "text": [
      "고등학교 급식 조회:  81%|█████████▋  | 144/178 [00:31<00:06,  4.90it/s]"
     ]
    },
    {
     "name": "stdout",
     "output_type": "stream",
     "text": [
      "7010185 서울미술고등학교\n",
      "급식 정보 조회 중: 날짜=20241030\n",
      "mealService 응답코드: 200\n",
      "급식 데이터 수: 18\n",
      "7011575 서울반도체고등학교\n",
      "급식 정보 조회 중: 날짜=20241030\n"
     ]
    },
    {
     "name": "stderr",
     "output_type": "stream",
     "text": [
      "고등학교 급식 조회:  81%|█████████▊  | 145/178 [00:31<00:06,  4.74it/s]"
     ]
    },
    {
     "name": "stdout",
     "output_type": "stream",
     "text": [
      "mealService 응답코드: 200\n",
      "급식 데이터 수: 21\n",
      "7010836 서울방송고등학교\n",
      "급식 정보 조회 중: 날짜=20241030\n",
      "mealService 응답코드: 200\n",
      "급식 데이터 수: 20\n"
     ]
    },
    {
     "name": "stderr",
     "output_type": "stream",
     "text": [
      "고등학교 급식 조회:  83%|█████████▉  | 147/178 [00:31<00:06,  5.14it/s]"
     ]
    },
    {
     "name": "stdout",
     "output_type": "stream",
     "text": [
      "7011584 서울백영고등학교\n",
      "급식 정보 조회 중: 날짜=20241030\n",
      "mealService 응답코드: 200\n",
      "급식 데이터 수: 17\n"
     ]
    },
    {
     "name": "stderr",
     "output_type": "stream",
     "text": [
      "고등학교 급식 조회:  83%|█████████▉  | 148/178 [00:31<00:05,  5.16it/s]"
     ]
    },
    {
     "name": "stdout",
     "output_type": "stream",
     "text": [
      "7010186 서울세종고등학교\n",
      "급식 정보 조회 중: 날짜=20241030\n",
      "mealService 응답코드: 200\n",
      "급식 데이터 수: 21\n"
     ]
    },
    {
     "name": "stderr",
     "output_type": "stream",
     "text": [
      "고등학교 급식 조회:  84%|██████████  | 149/178 [00:31<00:05,  5.26it/s]"
     ]
    },
    {
     "name": "stdout",
     "output_type": "stream",
     "text": [
      "7011492 서울신정고등학교\n",
      "급식 정보 조회 중: 날짜=20241030\n",
      "mealService 응답코드: 200\n",
      "급식 데이터 수: 21\n",
      "7010960 서울아이티고등학교\n",
      "급식 정보 조회 중: 날짜=20241030\n",
      "mealService 응답코드: 200\n",
      "급식 데이터 수: 21\n"
     ]
    },
    {
     "name": "stderr",
     "output_type": "stream",
     "text": [
      "고등학교 급식 조회:  84%|██████████  | 150/178 [00:32<00:05,  4.90it/s]"
     ]
    },
    {
     "name": "stdout",
     "output_type": "stream",
     "text": [
      "7010085 서울여자고등학교\n",
      "급식 정보 조회 중: 날짜=20241030\n",
      "mealService 응답코드: 200\n",
      "급식 데이터 수: 41\n"
     ]
    },
    {
     "name": "stderr",
     "output_type": "stream",
     "text": [
      "고등학교 급식 조회:  85%|██████████▏ | 151/178 [00:32<00:05,  4.69it/s]"
     ]
    },
    {
     "name": "stdout",
     "output_type": "stream",
     "text": [
      "7010340 서울여자상업고등학교\n",
      "급식 정보 조회 중: 날짜=20241030\n",
      "mealService 응답코드: 200\n",
      "급식 데이터 수: 20\n"
     ]
    },
    {
     "name": "stderr",
     "output_type": "stream",
     "text": [
      "고등학교 급식 조회:  85%|██████████▏ | 152/178 [00:32<00:05,  4.48it/s]"
     ]
    },
    {
     "name": "stdout",
     "output_type": "stream",
     "text": [
      "7010795 서울영상고등학교\n",
      "급식 정보 조회 중: 날짜=20241030\n"
     ]
    },
    {
     "name": "stderr",
     "output_type": "stream",
     "text": [
      "고등학교 급식 조회:  86%|██████████▎ | 153/178 [00:33<00:06,  3.93it/s]"
     ]
    },
    {
     "name": "stdout",
     "output_type": "stream",
     "text": [
      "mealService 응답코드: 200\n",
      "급식 데이터 수: 55\n",
      "7010187 서울예술고등학교\n",
      "급식 정보 조회 중: 날짜=20241030\n"
     ]
    },
    {
     "name": "stderr",
     "output_type": "stream",
     "text": [
      "고등학교 급식 조회:  87%|██████████▍ | 154/178 [00:33<00:05,  4.02it/s]"
     ]
    },
    {
     "name": "stdout",
     "output_type": "stream",
     "text": [
      "mealService 응답코드: 200\n",
      "급식 데이터 수: 30\n",
      "7010188 서울외국어고등학교\n",
      "급식 정보 조회 중: 날짜=20241030\n"
     ]
    },
    {
     "name": "stderr",
     "output_type": "stream",
     "text": [
      "고등학교 급식 조회:  87%|██████████▍ | 155/178 [00:33<00:05,  4.04it/s]"
     ]
    },
    {
     "name": "stdout",
     "output_type": "stream",
     "text": [
      "mealService 응답코드: 200\n",
      "급식 데이터 수: 37\n",
      "7011558 서울웹툰애니메이션고등학교\n",
      "급식 정보 조회 중: 날짜=20241030\n"
     ]
    },
    {
     "name": "stderr",
     "output_type": "stream",
     "text": [
      "고등학교 급식 조회:  88%|██████████▌ | 156/178 [00:33<00:05,  4.20it/s]"
     ]
    },
    {
     "name": "stdout",
     "output_type": "stream",
     "text": [
      "mealService 응답코드: 200\n",
      "급식 데이터 수: 18\n",
      "7011486 서울의료보건고등학교\n",
      "급식 정보 조회 중: 날짜=20241030\n",
      "mealService 응답코드: 200\n",
      "급식 데이터 수: 21\n"
     ]
    },
    {
     "name": "stderr",
     "output_type": "stream",
     "text": [
      "고등학교 급식 조회:  88%|██████████▌ | 157/178 [00:33<00:04,  4.38it/s]"
     ]
    },
    {
     "name": "stdout",
     "output_type": "stream",
     "text": [
      "7011498 서울인공지능고등학교\n",
      "급식 정보 조회 중: 날짜=20241030\n",
      "mealService 응답코드: 200\n",
      "급식 데이터 수: 21\n"
     ]
    },
    {
     "name": "stderr",
     "output_type": "stream",
     "text": [
      "고등학교 급식 조회:  89%|██████████▋ | 159/178 [00:34<00:04,  4.46it/s]"
     ]
    },
    {
     "name": "stdout",
     "output_type": "stream",
     "text": [
      "7011513 서울정화고등학교\n",
      "급식 정보 조회 중: 날짜=20241030\n",
      "mealService 응답코드: 200\n",
      "급식 데이터 수: 21\n"
     ]
    },
    {
     "name": "stderr",
     "output_type": "stream",
     "text": [
      "고등학교 급식 조회:  90%|██████████▊ | 160/178 [00:34<00:03,  4.54it/s]"
     ]
    },
    {
     "name": "stdout",
     "output_type": "stream",
     "text": [
      "7010086 서울체육고등학교\n",
      "급식 정보 조회 중: 날짜=20241030\n",
      "mealService 응답코드: 200\n",
      "급식 데이터 수: 52\n",
      "7011213 서울컨벤션고등학교\n",
      "급식 정보 조회 중: 날짜=20241030\n",
      "mealService 응답코드: 200\n",
      "급식 데이터 수: 21\n"
     ]
    },
    {
     "name": "stderr",
     "output_type": "stream",
     "text": [
      "고등학교 급식 조회:  90%|██████████▊ | 161/178 [00:34<00:03,  4.60it/s]"
     ]
    },
    {
     "name": "stdout",
     "output_type": "stream",
     "text": [
      "7011491 서일문화예술고등학교\n",
      "급식 정보 조회 중: 날짜=20241030\n",
      "mealService 응답코드: 200\n",
      "급식 데이터 수: 16\n"
     ]
    },
    {
     "name": "stderr",
     "output_type": "stream",
     "text": [
      "고등학교 급식 조회:  92%|██████████▉ | 163/178 [00:35<00:03,  4.70it/s]"
     ]
    },
    {
     "name": "stdout",
     "output_type": "stream",
     "text": [
      "7010087 서초고등학교\n",
      "급식 정보 조회 중: 날짜=20241030\n",
      "mealService 응답코드: 200\n",
      "급식 데이터 수: 19\n"
     ]
    },
    {
     "name": "stderr",
     "output_type": "stream",
     "text": [
      "고등학교 급식 조회:  92%|███████████ | 164/178 [00:35<00:02,  4.85it/s]"
     ]
    },
    {
     "name": "stdout",
     "output_type": "stream",
     "text": [
      "7010088 석관고등학교\n",
      "급식 정보 조회 중: 날짜=20241030\n",
      "mealService 응답코드: 200\n",
      "급식 데이터 수: 21\n",
      "7010189 선덕고등학교\n",
      "급식 정보 조회 중: 날짜=20241030\n",
      "mealService 응답코드: 200\n",
      "급식 데이터 수: 43\n"
     ]
    },
    {
     "name": "stderr",
     "output_type": "stream",
     "text": [
      "고등학교 급식 조회:  93%|███████████ | 165/178 [00:35<00:02,  4.69it/s]"
     ]
    },
    {
     "name": "stdout",
     "output_type": "stream",
     "text": [
      "7010536 선린인터넷고등학교\n",
      "급식 정보 조회 중: 날짜=20241030\n",
      "mealService 응답코드: 200\n",
      "급식 데이터 수: 19\n"
     ]
    },
    {
     "name": "stderr",
     "output_type": "stream",
     "text": [
      "고등학교 급식 조회:  93%|███████████▏| 166/178 [00:35<00:02,  4.68it/s]"
     ]
    },
    {
     "name": "stdout",
     "output_type": "stream",
     "text": [
      "7010984 선사고등학교\n",
      "급식 정보 조회 중: 날짜=20241030\n",
      "mealService 응답코드: 200\n",
      "급식 데이터 수: 21\n"
     ]
    },
    {
     "name": "stderr",
     "output_type": "stream",
     "text": [
      "고등학교 급식 조회:  94%|███████████▎| 168/178 [00:36<00:02,  4.64it/s]"
     ]
    },
    {
     "name": "stdout",
     "output_type": "stream",
     "text": [
      "7010734 선유고등학교\n",
      "급식 정보 조회 중: 날짜=20241030\n",
      "mealService 응답코드: 200\n",
      "급식 데이터 수: 20\n"
     ]
    },
    {
     "name": "stderr",
     "output_type": "stream",
     "text": [
      "고등학교 급식 조회:  95%|███████████▍| 169/178 [00:36<00:01,  4.82it/s]"
     ]
    },
    {
     "name": "stdout",
     "output_type": "stream",
     "text": [
      "7011508 선일빅데이터고등학교\n",
      "급식 정보 조회 중: 날짜=20241030\n",
      "mealService 응답코드: 200\n",
      "급식 데이터 수: 21\n"
     ]
    },
    {
     "name": "stderr",
     "output_type": "stream",
     "text": [
      "고등학교 급식 조회:  96%|███████████▍| 170/178 [00:36<00:01,  4.93it/s]"
     ]
    },
    {
     "name": "stdout",
     "output_type": "stream",
     "text": [
      "7010190 선일여자고등학교\n",
      "급식 정보 조회 중: 날짜=20241030\n",
      "mealService 응답코드: 200\n",
      "급식 데이터 수: 21\n",
      "7010191 선정고등학교\n",
      "급식 정보 조회 중: 날짜=20241030\n",
      "mealService 응답코드: 200\n",
      "급식 데이터 수: 40\n"
     ]
    },
    {
     "name": "stderr",
     "output_type": "stream",
     "text": [
      "고등학교 급식 조회:  97%|███████████▌| 172/178 [00:37<00:01,  4.77it/s]"
     ]
    },
    {
     "name": "stdout",
     "output_type": "stream",
     "text": [
      "7011315 선정국제관광고등학교\n",
      "급식 정보 조회 중: 날짜=20241030\n",
      "mealService 응답코드: 200\n",
      "급식 데이터 수: 40\n",
      "7010192 선화예술고등학교\n",
      "급식 정보 조회 중: 날짜=20241030\n",
      "mealService 응답코드: 200\n",
      "급식 데이터 수: 62\n"
     ]
    },
    {
     "name": "stderr",
     "output_type": "stream",
     "text": [
      "고등학교 급식 조회:  98%|███████████▋| 174/178 [00:37<00:00,  4.97it/s]"
     ]
    },
    {
     "name": "stdout",
     "output_type": "stream",
     "text": [
      "7010193 성남고등학교\n",
      "급식 정보 조회 중: 날짜=20241030\n",
      "mealService 응답코드: 200\n",
      "급식 데이터 수: 19\n",
      "7011179 성덕고등학교\n",
      "급식 정보 조회 중: 날짜=20241030\n"
     ]
    },
    {
     "name": "stderr",
     "output_type": "stream",
     "text": [
      "고등학교 급식 조회:  98%|███████████▊| 175/178 [00:37<00:00,  5.03it/s]"
     ]
    },
    {
     "name": "stdout",
     "output_type": "stream",
     "text": [
      "mealService 응답코드: 200\n",
      "급식 데이터 수: 21\n",
      "7010089 성동고등학교\n",
      "급식 정보 조회 중: 날짜=20241030\n",
      "mealService 응답코드: 200\n",
      "급식 데이터 수: 20\n"
     ]
    },
    {
     "name": "stderr",
     "output_type": "stream",
     "text": [
      "고등학교 급식 조회:  99%|███████████▊| 176/178 [00:37<00:00,  5.11it/s]"
     ]
    },
    {
     "name": "stdout",
     "output_type": "stream",
     "text": [
      "7010737 성동공업고등학교\n",
      "급식 정보 조회 중: 날짜=20241030\n",
      "mealService 응답코드: 200\n",
      "급식 데이터 수: 38\n"
     ]
    },
    {
     "name": "stderr",
     "output_type": "stream",
     "text": [
      "고등학교 급식 조회: 100%|████████████| 178/178 [00:38<00:00,  4.95it/s]"
     ]
    },
    {
     "name": "stdout",
     "output_type": "stream",
     "text": [
      "7010889 성동글로벌경영고등학교\n",
      "급식 정보 조회 중: 날짜=20241030\n",
      "mealService 응답코드: 200\n",
      "급식 데이터 수: 19\n"
     ]
    },
    {
     "name": "stderr",
     "output_type": "stream",
     "text": [
      "고등학교 급식 조회: 100%|████████████| 178/178 [00:38<00:00,  4.64it/s]"
     ]
    },
    {
     "name": "stdout",
     "output_type": "stream",
     "text": [
      "수집된 급식 행 수: 5222\n",
      "  교육청코드     학교코드     학교명      급식일자 식사명  \\\n",
      "0   B10  7010057  가락고등학교  20250519  중식   \n",
      "1   B10  7010057  가락고등학교  20250520  중식   \n",
      "2   B10  7010057  가락고등학교  20250521  중식   \n",
      "3   B10  7010057  가락고등학교  20250522  중식   \n",
      "4   B10  7010057  가락고등학교  20250523  중식   \n",
      "\n",
      "                                                급식식단  \n",
      "0  쌀밥 <br/>소고기미역국 (2.5.6.15.16.18)<br/>돼지갈비찜 (5.6...  \n",
      "1  쇠고기콩나물밥 (5.6.16)<br/>물만두국 (1.2.5.6.10.15.16.18...  \n",
      "2  새우볶음밥 (1.5.6.8.9.13.18)<br/>씨앗호떡파이 (1.2.3.5.6)...  \n",
      "3  쌀밥 <br/>볶음우동 (5.6.8.9.13.15.17.18)<br/>zero초코파...  \n",
      "4  현미밥 <br/>어묵국 (1.2.5.6.15.16.18)<br/>마라찜닭 (5.6....  \n"
     ]
    },
    {
     "name": "stderr",
     "output_type": "stream",
     "text": [
      "\n"
     ]
    }
   ],
   "source": [
    "highschool_list = get_highschools(EDU_CODE)\n",
    "\n",
    "# 최근 한달 기간 설정\n",
    "today = datetime.today()\n",
    "one_month_ago = today - timedelta(days=30)\n",
    "FROM_DATE = one_month_ago.strftime('%Y%m%d')\n",
    "TO_DATE = today.strftime('%Y%m%d')\n",
    "\n",
    "def get_meal_info(edu_code, school_code, from_date, to_date):\n",
    "    print(f\"급식 정보 조회 중: 날짜={TARGET_DATE}\")\n",
    "    url = \"https://open.neis.go.kr/hub/mealServiceDietInfo\"\n",
    "    params = {\n",
    "        \"KEY\": API_KEY,\n",
    "        \"Type\": \"json\",\n",
    "        \"ATPT_OFCDC_SC_CODE\": edu_code,\n",
    "        \"SD_SCHUL_CODE\": school_code,\n",
    "        \"MLSV_FROM_YMD\": from_date, \n",
    "        \"MLSV_TO_YMD\" : to_date, \n",
    "        \"pIndex\" : 1, \n",
    "        \"pSize\" : 100\n",
    "    }\n",
    "    try:\n",
    "        res = requests.get(url, params=params, timeout=5)\n",
    "        print(f\"mealService 응답코드: {res.status_code}\")\n",
    "        if res.status_code == 200:\n",
    "            data = res.json()\n",
    "            if \"mealServiceDietInfo\" in data:\n",
    "                print(f\"급식 데이터 수: {len(data['mealServiceDietInfo'][1]['row'])}\")\n",
    "                return data[\"mealServiceDietInfo\"][1][\"row\"]\n",
    "            else:\n",
    "                print(\"mealServiceDietInfo 키 없음:\", data)\n",
    "        else:\n",
    "            print(\"응답 실패:\", res.text)\n",
    "    except Exception as e:\n",
    "        print(f\"급식 정보 조회 오류: {e}\")\n",
    "    return []\n",
    "\n",
    "all_data = []\n",
    "for school_code, school_name in tqdm(highschool_list, desc=\"고등학교 급식 조회\"):\n",
    "    print(school_code, school_name)\n",
    "    meals = get_meal_info(EDU_CODE, school_code, FROM_DATE, TO_DATE)\n",
    "    for meal in meals:\n",
    "        all_data.append({\n",
    "            \"교육청코드\": EDU_CODE,\n",
    "            \"학교코드\": school_code,\n",
    "            \"학교명\": school_name,\n",
    "            \"급식일자\": meal.get(\"MLSV_YMD\"),\n",
    "            \"식사명\": meal.get(\"MMEAL_SC_NM\"),\n",
    "            \"급식식단\": meal.get(\"DDISH_NM\")\n",
    "        })\n",
    "    time.sleep(0.1)\n",
    "\n",
    "# 저장\n",
    "df = pd.DataFrame(all_data)\n",
    "print(\"수집된 급식 행 수:\", len(df))\n",
    "print(df.head())"
   ]
  },
  {
   "cell_type": "markdown",
   "id": "4098f070-41b9-499b-8d19-f5a15ef5de5a",
   "metadata": {},
   "source": [
    "# 4교시 미션\n",
    "- 전국 시도 교육청 기반으로 고등학교 전체 급식데이터 수집\n",
    "- ChatGPT 사용하지 않고 진행 (반복 반복 조건ㄴ, 기초문법 확장 개념)"
   ]
  },
  {
   "cell_type": "code",
   "execution_count": null,
   "id": "f264dd31-2f84-4019-8b30-b9d00a1771bf",
   "metadata": {},
   "outputs": [
    {
     "name": "stdout",
     "output_type": "stream",
     "text": [
      "급식 정보 조회 중: 날짜=20241030\n",
      "mealService 응답코드: 200\n",
      "급식 데이터 수: 1\n",
      "수집된 행 수: 1\n",
      "  교육청코드     학교코드          학교명      급식일자 식사명  \\\n",
      "0   B10  7021105  성동글로벌경영고등학교  20241030  중식   \n",
      "\n",
      "                                                급식식단  \n",
      "0  해물죽 (9.13.17.18)<br/>로제스파게티(우유) (1.2.5.6.12.13...  \n"
     ]
    }
   ],
   "source": [
    "EDU_CODES = [\n",
    "    \"B10\", \"C10\", \"D10\", \"E10\", \"F10\", \"G10\", \"H10\", \"I10\", \"J10\",\n",
    "    \"K10\", \"M10\", \"N10\", \"P10\", \"Q10\", \"R10\", \"S10\", \"T10\"\n",
    "]\n",
    "API_KEY = ''\n",
    "\n",
    "def get_meal_info(edu_code, school_code):\n",
    "    print(f\"급식 정보 조회 중: 날짜={TARGET_DATE}\")\n",
    "    url = \"https://open.neis.go.kr/hub/mealServiceDietInfo\"\n",
    "    params = {\n",
    "        \"KEY\": API_KEY,\n",
    "        \"Type\": \"json\",\n",
    "        \"ATPT_OFCDC_SC_CODE\": edu_code,\n",
    "        \"SD_SCHUL_CODE\": school_code,\n",
    "        \"MLSV_YMD\": TARGET_DATE\n",
    "    }\n",
    "    try:\n",
    "        res = requests.get(url, params=params, timeout=5)\n",
    "        print(f\"mealService 응답코드: {res.status_code}\")\n",
    "        if res.status_code == 200:\n",
    "            data = res.json()\n",
    "            if \"mealServiceDietInfo\" in data:\n",
    "                print(f\"급식 데이터 수: {len(data['mealServiceDietInfo'][1]['row'])}\")\n",
    "                return data[\"mealServiceDietInfo\"][1][\"row\"]\n",
    "            else:\n",
    "                print(\"mealServiceDietInfo 키 없음:\", data)\n",
    "        else:\n",
    "            print(\"응답 실패:\", res.text)\n",
    "    except Exception as e:\n",
    "        print(f\"급식 정보 조회 오류: {e}\")\n",
    "    return []\n",
    "\n",
    "# 데이터 수집\n",
    "# school_name = get_school_name(EDU_CODE, SCHOOL_CODE)\n",
    "meals = get_meal_info(EDU_CODE, SCHOOL_CODE)\n",
    "\n",
    "data = []\n",
    "for meal in meals:\n",
    "    data.append({\n",
    "        \"교육청코드\": EDU_CODE,\n",
    "        \"학교코드\": SCHOOL_CODE,\n",
    "        \"학교명\": school_name,\n",
    "        \"급식일자\": meal.get(\"MLSV_YMD\"),\n",
    "        \"식사명\": meal.get(\"MMEAL_SC_NM\"),\n",
    "        \"급식식단\": meal.get(\"DDISH_NM\")\n",
    "    })\n",
    "\n",
    "df = pd.DataFrame(data)\n",
    "print(\"수집된 행 수:\", len(df))\n",
    "print(df.head())"
   ]
  },
  {
   "cell_type": "code",
   "execution_count": 34,
   "id": "65b145f8-44f0-4635-a5af-34bc3c4bc0bf",
   "metadata": {},
   "outputs": [
    {
     "name": "stdout",
     "output_type": "stream",
     "text": [
      "응답코드 : 200\n",
      "응답코드 : 200\n",
      "응답코드 : 200\n",
      "응답코드 : 200\n",
      "응답코드 : 200\n",
      "응답코드 : 200\n",
      "응답코드 : 200\n",
      "응답코드 : 200\n",
      "응답코드 : 200\n",
      "응답코드 : 200\n",
      "응답코드 : 200\n",
      "응답코드 : 200\n",
      "응답코드 : 200\n",
      "응답코드 : 200\n",
      "응답코드 : 200\n",
      "응답코드 : 200\n",
      "응답코드 : 200\n"
     ]
    },
    {
     "data": {
      "text/plain": [
       "30"
      ]
     },
     "execution_count": 34,
     "metadata": {},
     "output_type": "execute_result"
    }
   ],
   "source": [
    "EDU_CODES = [\n",
    "    \"B10\", \"C10\", \"D10\", \"E10\", \"F10\", \"G10\", \"H10\", \"I10\", \"J10\",\n",
    "    \"K10\", \"M10\", \"N10\", \"P10\", \"Q10\", \"R10\", \"S10\", \"T10\"\n",
    "]\n",
    "API_KEY = 'ecc58f6a108445979d01997362d73f6b'\n",
    "\n",
    "all_data = []\n",
    "\n",
    "# 전체 EDU_CODES에 대해 for LOOP\n",
    "for EDU_CODE in EDU_CODES:\n",
    "    highschool_list = get_highschools(EDU_CODE)\n",
    "\n",
    "len(highschool_list)"
   ]
  },
  {
   "cell_type": "code",
   "execution_count": null,
   "id": "72c7993e-7580-4bda-b46c-9901996a5871",
   "metadata": {},
   "outputs": [
    {
     "name": "stdout",
     "output_type": "stream",
     "text": [
      "응답코드 : 200\n"
     ]
    },
    {
     "name": "stderr",
     "output_type": "stream",
     "text": [
      "[B10] 고등학교 급식 조회:   1%|        | 1/178 [00:00<00:28,  6.28it/s]"
     ]
    },
    {
     "name": "stdout",
     "output_type": "stream",
     "text": [
      "7010057 가락고등학교\n",
      "급식 정보 조회 중: 날짜=20241030\n",
      "mealService 응답코드: 200\n",
      "급식 데이터 수: 1\n",
      "7011169 가재울고등학교\n",
      "급식 정보 조회 중: 날짜=20241030\n"
     ]
    },
    {
     "name": "stderr",
     "output_type": "stream",
     "text": [
      "[B10] 고등학교 급식 조회:   1%|        | 2/178 [00:00<00:29,  6.07it/s]"
     ]
    },
    {
     "name": "stdout",
     "output_type": "stream",
     "text": [
      "mealService 응답코드: 200\n",
      "급식 데이터 수: 1\n",
      "7010117 강동고등학교\n",
      "급식 정보 조회 중: 날짜=20241030\n",
      "mealService 응답코드: 200\n",
      "급식 데이터 수: 2\n"
     ]
    },
    {
     "name": "stderr",
     "output_type": "stream",
     "text": [
      "[B10] 고등학교 급식 조회:   2%|▏       | 4/178 [00:00<00:29,  5.91it/s]"
     ]
    },
    {
     "name": "stdout",
     "output_type": "stream",
     "text": [
      "7010118 강서고등학교\n",
      "급식 정보 조회 중: 날짜=20241030\n",
      "mealService 응답코드: 200\n",
      "급식 데이터 수: 2\n",
      "7010958 강일고등학교\n",
      "급식 정보 조회 중: 날짜=20241030\n"
     ]
    },
    {
     "name": "stderr",
     "output_type": "stream",
     "text": [
      "[B10] 고등학교 급식 조회:   3%|▏       | 5/178 [00:00<00:29,  5.86it/s]"
     ]
    },
    {
     "name": "stdout",
     "output_type": "stream",
     "text": [
      "mealService 응답코드: 200\n",
      "급식 데이터 수: 1\n",
      "7010058 개포고등학교\n",
      "급식 정보 조회 중: 날짜=20241030\n",
      "mealService 응답코드: 200\n",
      "급식 데이터 수: 1\n"
     ]
    },
    {
     "name": "stderr",
     "output_type": "stream",
     "text": [
      "[B10] 고등학교 급식 조회:   4%|▎       | 7/178 [00:01<00:29,  5.87it/s]"
     ]
    },
    {
     "name": "stdout",
     "output_type": "stream",
     "text": [
      "7010119 건국대학교사범대학부속고등학교\n",
      "급식 정보 조회 중: 날짜=20241030\n",
      "mealService 응답코드: 200\n",
      "급식 데이터 수: 2\n"
     ]
    },
    {
     "name": "stderr",
     "output_type": "stream",
     "text": [
      "[B10] 고등학교 급식 조회:   4%|▎       | 8/178 [00:01<00:28,  5.89it/s]"
     ]
    },
    {
     "name": "stdout",
     "output_type": "stream",
     "text": [
      "7010059 경기고등학교\n",
      "급식 정보 조회 중: 날짜=20241030\n",
      "mealService 응답코드: 200\n",
      "급식 데이터 수: 2\n",
      "7010271 경기기계공업고등학교\n",
      "급식 정보 조회 중: 날짜=20241030\n"
     ]
    },
    {
     "name": "stderr",
     "output_type": "stream",
     "text": [
      "[B10] 고등학교 급식 조회:   5%|▍       | 9/178 [00:01<00:28,  5.84it/s]"
     ]
    },
    {
     "name": "stdout",
     "output_type": "stream",
     "text": [
      "mealService 응답코드: 200\n",
      "급식 데이터 수: 3\n",
      "7010272 경기상업고등학교\n",
      "급식 정보 조회 중: 날짜=20241030\n",
      "mealService 응답코드: 200\n",
      "급식 데이터 수: 1\n"
     ]
    },
    {
     "name": "stderr",
     "output_type": "stream",
     "text": [
      "[B10] 고등학교 급식 조회:   6%|▍      | 11/178 [00:01<00:28,  5.84it/s]"
     ]
    },
    {
     "name": "stdout",
     "output_type": "stream",
     "text": [
      "7010060 경기여자고등학교\n",
      "급식 정보 조회 중: 날짜=20241030\n",
      "mealService 응답코드: 200\n",
      "급식 데이터 수: 1\n",
      "7010061 경동고등학교\n",
      "급식 정보 조회 중: 날짜=20241030\n"
     ]
    },
    {
     "name": "stderr",
     "output_type": "stream",
     "text": [
      "[B10] 고등학교 급식 조회:   7%|▍      | 12/178 [00:02<00:28,  5.91it/s]"
     ]
    },
    {
     "name": "stdout",
     "output_type": "stream",
     "text": [
      "mealService 응답코드: 200\n",
      "급식 데이터 수: 1\n",
      "7010120 경문고등학교\n",
      "급식 정보 조회 중: 날짜=20241030\n",
      "mealService 응답코드: 200\n",
      "급식 데이터 수: 1\n"
     ]
    },
    {
     "name": "stderr",
     "output_type": "stream",
     "text": [
      "[B10] 고등학교 급식 조회:   8%|▌      | 14/178 [00:02<00:27,  5.97it/s]"
     ]
    },
    {
     "name": "stdout",
     "output_type": "stream",
     "text": [
      "7010062 경복고등학교\n",
      "급식 정보 조회 중: 날짜=20241030\n",
      "mealService 응답코드: 200\n",
      "급식 데이터 수: 1\n",
      "7010835 경복비즈니스고등학교\n",
      "급식 정보 조회 중: 날짜=20241030\n"
     ]
    },
    {
     "name": "stderr",
     "output_type": "stream",
     "text": [
      "[B10] 고등학교 급식 조회:   8%|▌      | 15/178 [00:02<00:27,  6.01it/s]"
     ]
    },
    {
     "name": "stdout",
     "output_type": "stream",
     "text": [
      "mealService 응답코드: 200\n",
      "mealServiceDietInfo 키 없음: {'RESULT': {'CODE': 'INFO-200', 'MESSAGE': '해당하는 데이터가 없습니다.'}}\n",
      "7010122 경복여자고등학교\n",
      "급식 정보 조회 중: 날짜=20241030\n",
      "mealService 응답코드: 200\n",
      "급식 데이터 수: 1\n"
     ]
    },
    {
     "name": "stderr",
     "output_type": "stream",
     "text": [
      "[B10] 고등학교 급식 조회:  10%|▋      | 17/178 [00:02<00:27,  5.90it/s]"
     ]
    },
    {
     "name": "stdout",
     "output_type": "stream",
     "text": [
      "7010124 경성고등학교\n",
      "급식 정보 조회 중: 날짜=20241030\n",
      "mealService 응답코드: 200\n",
      "급식 데이터 수: 1\n",
      "7010125 경신고등학교\n",
      "급식 정보 조회 중: 날짜=20241030\n"
     ]
    },
    {
     "name": "stderr",
     "output_type": "stream",
     "text": [
      "[B10] 고등학교 급식 조회:  10%|▋      | 18/178 [00:03<00:28,  5.63it/s]"
     ]
    },
    {
     "name": "stdout",
     "output_type": "stream",
     "text": [
      "mealService 응답코드: 200\n",
      "급식 데이터 수: 2\n",
      "7010563 경인고등학교\n",
      "급식 정보 조회 중: 날짜=20241030\n",
      "mealService 응답코드: 200\n",
      "급식 데이터 수: 1\n"
     ]
    },
    {
     "name": "stderr",
     "output_type": "stream",
     "text": [
      "[B10] 고등학교 급식 조회:  11%|▊      | 20/178 [00:03<00:28,  5.48it/s]"
     ]
    },
    {
     "name": "stdout",
     "output_type": "stream",
     "text": [
      "7010698 경일고등학교\n",
      "급식 정보 조회 중: 날짜=20241030\n",
      "mealService 응답코드: 200\n",
      "급식 데이터 수: 1\n"
     ]
    },
    {
     "name": "stderr",
     "output_type": "stream",
     "text": [
      "[B10] 고등학교 급식 조회:  12%|▊      | 21/178 [00:03<00:27,  5.66it/s]"
     ]
    },
    {
     "name": "stdout",
     "output_type": "stream",
     "text": [
      "7010126 경희고등학교\n",
      "급식 정보 조회 중: 날짜=20241030\n",
      "mealService 응답코드: 200\n",
      "급식 데이터 수: 2\n",
      "7010127 경희여자고등학교\n",
      "급식 정보 조회 중: 날짜=20241030\n"
     ]
    },
    {
     "name": "stderr",
     "output_type": "stream",
     "text": [
      "[B10] 고등학교 급식 조회:  12%|▊      | 22/178 [00:03<00:28,  5.53it/s]"
     ]
    },
    {
     "name": "stdout",
     "output_type": "stream",
     "text": [
      "mealService 응답코드: 200\n",
      "급식 데이터 수: 1\n",
      "7011312 계성고등학교\n",
      "급식 정보 조회 중: 날짜=20241030\n",
      "mealService 응답코드: 200\n",
      "급식 데이터 수: 1\n"
     ]
    },
    {
     "name": "stderr",
     "output_type": "stream",
     "text": [
      "[B10] 고등학교 급식 조회:  13%|▉      | 24/178 [00:04<00:27,  5.56it/s]"
     ]
    },
    {
     "name": "stdout",
     "output_type": "stream",
     "text": [
      "7010797 고려대학교사범대학부속고등학교\n",
      "급식 정보 조회 중: 날짜=20241030\n",
      "mealService 응답코드: 200\n",
      "급식 데이터 수: 1\n",
      "7011487 고명외식고등학교\n",
      "급식 정보 조회 중: 날짜=20241030\n"
     ]
    },
    {
     "name": "stderr",
     "output_type": "stream",
     "text": [
      "[B10] 고등학교 급식 조회:  14%|▉      | 25/178 [00:04<00:27,  5.55it/s]"
     ]
    },
    {
     "name": "stdout",
     "output_type": "stream",
     "text": [
      "mealService 응답코드: 200\n",
      "급식 데이터 수: 1\n",
      "7010063 고척고등학교\n",
      "급식 정보 조회 중: 날짜=20241030\n",
      "mealService 응답코드: 200\n",
      "급식 데이터 수: 1\n"
     ]
    },
    {
     "name": "stderr",
     "output_type": "stream",
     "text": [
      "[B10] 고등학교 급식 조회:  15%|█      | 27/178 [00:04<00:26,  5.79it/s]"
     ]
    },
    {
     "name": "stdout",
     "output_type": "stream",
     "text": [
      "7010064 공항고등학교\n",
      "급식 정보 조회 중: 날짜=20241030\n",
      "mealService 응답코드: 200\n",
      "급식 데이터 수: 1\n",
      "7010065 관악고등학교\n",
      "급식 정보 조회 중: 날짜=20241030\n"
     ]
    },
    {
     "name": "stderr",
     "output_type": "stream",
     "text": [
      "[B10] 고등학교 급식 조회:  16%|█      | 28/178 [00:04<00:26,  5.58it/s]"
     ]
    },
    {
     "name": "stdout",
     "output_type": "stream",
     "text": [
      "mealService 응답코드: 200\n",
      "급식 데이터 수: 1\n",
      "7010066 광남고등학교\n",
      "급식 정보 조회 중: 날짜=20241030\n"
     ]
    },
    {
     "name": "stderr",
     "output_type": "stream",
     "text": [
      "[B10] 고등학교 급식 조회:  16%|█▏     | 29/178 [00:05<00:27,  5.38it/s]"
     ]
    },
    {
     "name": "stdout",
     "output_type": "stream",
     "text": [
      "mealService 응답코드: 200\n",
      "급식 데이터 수: 2\n",
      "7010131 광문고등학교\n",
      "급식 정보 조회 중: 날짜=20241030\n"
     ]
    },
    {
     "name": "stderr",
     "output_type": "stream",
     "text": [
      "[B10] 고등학교 급식 조회:  17%|█▏     | 30/178 [00:05<00:28,  5.16it/s]"
     ]
    },
    {
     "name": "stdout",
     "output_type": "stream",
     "text": [
      "mealService 응답코드: 200\n",
      "급식 데이터 수: 1\n",
      "7010132 광성고등학교\n",
      "급식 정보 조회 중: 날짜=20241030\n",
      "mealService 응답코드: 200\n",
      "급식 데이터 수: 3\n"
     ]
    },
    {
     "name": "stderr",
     "output_type": "stream",
     "text": [
      "[B10] 고등학교 급식 조회:  18%|█▎     | 32/178 [00:05<00:26,  5.46it/s]"
     ]
    },
    {
     "name": "stdout",
     "output_type": "stream",
     "text": [
      "7010133 광신고등학교\n",
      "급식 정보 조회 중: 날짜=20241030\n",
      "mealService 응답코드: 200\n",
      "급식 데이터 수: 1\n",
      "7011488 광신방송예술고등학교\n",
      "급식 정보 조회 중: 날짜=20241030\n"
     ]
    },
    {
     "name": "stderr",
     "output_type": "stream",
     "text": [
      "[B10] 고등학교 급식 조회:  19%|█▎     | 33/178 [00:05<00:27,  5.34it/s]"
     ]
    },
    {
     "name": "stdout",
     "output_type": "stream",
     "text": [
      "mealService 응답코드: 200\n",
      "급식 데이터 수: 1\n",
      "7010067 광양고등학교\n",
      "급식 정보 조회 중: 날짜=20241030\n",
      "mealService 응답코드: 200\n",
      "급식 데이터 수: 1\n"
     ]
    },
    {
     "name": "stderr",
     "output_type": "stream",
     "text": [
      "[B10] 고등학교 급식 조회:  20%|█▍     | 35/178 [00:06<00:24,  5.74it/s]"
     ]
    },
    {
     "name": "stdout",
     "output_type": "stream",
     "text": [
      "7010134 광영고등학교\n",
      "급식 정보 조회 중: 날짜=20241030\n",
      "mealService 응답코드: 200\n",
      "급식 데이터 수: 1\n",
      "7010135 광영여자고등학교\n",
      "급식 정보 조회 중: 날짜=20241030\n"
     ]
    },
    {
     "name": "stderr",
     "output_type": "stream",
     "text": [
      "[B10] 고등학교 급식 조회:  20%|█▍     | 36/178 [00:06<00:24,  5.73it/s]"
     ]
    },
    {
     "name": "stdout",
     "output_type": "stream",
     "text": [
      "mealService 응답코드: 200\n",
      "급식 데이터 수: 1\n",
      "7011505 광운인공지능고등학교\n",
      "급식 정보 조회 중: 날짜=20241030\n",
      "mealService 응답코드: 200\n",
      "급식 데이터 수: 1\n"
     ]
    },
    {
     "name": "stderr",
     "output_type": "stream",
     "text": [
      "[B10] 고등학교 급식 조회:  21%|█▍     | 38/178 [00:06<00:24,  5.62it/s]"
     ]
    },
    {
     "name": "stdout",
     "output_type": "stream",
     "text": [
      "7010068 구로고등학교\n",
      "급식 정보 조회 중: 날짜=20241030\n",
      "mealService 응답코드: 200\n",
      "급식 데이터 수: 1\n"
     ]
    },
    {
     "name": "stderr",
     "output_type": "stream",
     "text": [
      "[B10] 고등학교 급식 조회:  22%|█▌     | 39/178 [00:06<00:25,  5.49it/s]"
     ]
    },
    {
     "name": "stdout",
     "output_type": "stream",
     "text": [
      "7011111 구암고등학교\n",
      "급식 정보 조회 중: 날짜=20241030\n",
      "mealService 응답코드: 200\n",
      "급식 데이터 수: 1\n"
     ]
    },
    {
     "name": "stderr",
     "output_type": "stream",
     "text": [
      "[B10] 고등학교 급식 조회:  22%|█▌     | 40/178 [00:07<00:25,  5.47it/s]"
     ]
    },
    {
     "name": "stdout",
     "output_type": "stream",
     "text": [
      "7010069 구일고등학교\n",
      "급식 정보 조회 중: 날짜=20241030\n",
      "mealService 응답코드: 200\n",
      "급식 데이터 수: 1\n"
     ]
    },
    {
     "name": "stderr",
     "output_type": "stream",
     "text": [
      "[B10] 고등학교 급식 조회:  23%|█▌     | 41/178 [00:07<00:24,  5.64it/s]"
     ]
    },
    {
     "name": "stdout",
     "output_type": "stream",
     "text": [
      "7010827 구현고등학교\n",
      "급식 정보 조회 중: 날짜=20241030\n",
      "mealService 응답코드: 200\n",
      "급식 데이터 수: 1\n",
      "1371661 국립국악고등학교\n",
      "급식 정보 조회 중: 날짜=20241030\n"
     ]
    },
    {
     "name": "stderr",
     "output_type": "stream",
     "text": [
      "[B10] 고등학교 급식 조회:  24%|█▋     | 42/178 [00:07<00:24,  5.65it/s]"
     ]
    },
    {
     "name": "stdout",
     "output_type": "stream",
     "text": [
      "mealService 응답코드: 200\n",
      "급식 데이터 수: 1\n",
      "1371663 국립전통예술고등학교\n",
      "급식 정보 조회 중: 날짜=20241030\n",
      "mealService 응답코드: 200\n",
      "급식 데이터 수: 2\n"
     ]
    },
    {
     "name": "stderr",
     "output_type": "stream",
     "text": [
      "[B10] 고등학교 급식 조회:  25%|█▋     | 44/178 [00:07<00:23,  5.68it/s]"
     ]
    },
    {
     "name": "stdout",
     "output_type": "stream",
     "text": [
      "7010071 금옥여자고등학교\n",
      "급식 정보 조회 중: 날짜=20241030\n",
      "mealService 응답코드: 200\n",
      "급식 데이터 수: 1\n",
      "7010072 금천고등학교\n",
      "급식 정보 조회 중: 날짜=20241030\n"
     ]
    },
    {
     "name": "stderr",
     "output_type": "stream",
     "text": [
      "[B10] 고등학교 급식 조회:  25%|█▊     | 45/178 [00:07<00:23,  5.77it/s]"
     ]
    },
    {
     "name": "stdout",
     "output_type": "stream",
     "text": [
      "mealService 응답코드: 200\n",
      "급식 데이터 수: 1\n",
      "7011319 금호고등학교\n",
      "급식 정보 조회 중: 날짜=20241030\n",
      "mealService 응답코드: 200\n",
      "급식 데이터 수: 1\n"
     ]
    },
    {
     "name": "stderr",
     "output_type": "stream",
     "text": [
      "[B10] 고등학교 급식 조회:  26%|█▊     | 47/178 [00:08<00:22,  5.91it/s]"
     ]
    },
    {
     "name": "stdout",
     "output_type": "stream",
     "text": [
      "7010136 남강고등학교\n",
      "급식 정보 조회 중: 날짜=20241030\n",
      "mealService 응답코드: 200\n",
      "급식 데이터 수: 1\n",
      "7010564 노원고등학교\n",
      "급식 정보 조회 중: 날짜=20241030\n"
     ]
    },
    {
     "name": "stderr",
     "output_type": "stream",
     "text": [
      "[B10] 고등학교 급식 조회:  27%|█▉     | 48/178 [00:08<00:21,  5.95it/s]"
     ]
    },
    {
     "name": "stdout",
     "output_type": "stream",
     "text": [
      "mealService 응답코드: 200\n",
      "급식 데이터 수: 1\n",
      "7010589 누원고등학교\n",
      "급식 정보 조회 중: 날짜=20241030\n",
      "mealService 응답코드: 200\n",
      "급식 데이터 수: 1\n"
     ]
    },
    {
     "name": "stderr",
     "output_type": "stream",
     "text": [
      "[B10] 고등학교 급식 조회:  28%|█▉     | 50/178 [00:08<00:22,  5.73it/s]"
     ]
    },
    {
     "name": "stdout",
     "output_type": "stream",
     "text": [
      "7011489 단국대학교부속소프트웨어고등학교\n",
      "급식 정보 조회 중: 날짜=20241030\n",
      "mealService 응답코드: 200\n",
      "급식 데이터 수: 1\n",
      "7010137 단국대학교사범대학부속고등학교\n",
      "급식 정보 조회 중: 날짜=20241030\n"
     ]
    },
    {
     "name": "stderr",
     "output_type": "stream",
     "text": [
      "[B10] 고등학교 급식 조회:  29%|██     | 51/178 [00:08<00:22,  5.67it/s]"
     ]
    },
    {
     "name": "stdout",
     "output_type": "stream",
     "text": [
      "mealService 응답코드: 200\n",
      "급식 데이터 수: 1\n",
      "7010073 당곡고등학교\n",
      "급식 정보 조회 중: 날짜=20241030\n",
      "mealService 응답코드: 200\n",
      "급식 데이터 수: 1\n"
     ]
    },
    {
     "name": "stderr",
     "output_type": "stream",
     "text": [
      "[B10] 고등학교 급식 조회:  30%|██     | 53/178 [00:09<00:22,  5.58it/s]"
     ]
    },
    {
     "name": "stdout",
     "output_type": "stream",
     "text": [
      "7011507 대경생활과학고등학교\n",
      "급식 정보 조회 중: 날짜=20241030\n",
      "mealService 응답코드: 200\n",
      "급식 데이터 수: 1\n",
      "7010138 대광고등학교\n",
      "급식 정보 조회 중: 날짜=20241030\n"
     ]
    },
    {
     "name": "stderr",
     "output_type": "stream",
     "text": [
      "[B10] 고등학교 급식 조회:  30%|██     | 54/178 [00:09<00:21,  5.74it/s]"
     ]
    },
    {
     "name": "stdout",
     "output_type": "stream",
     "text": [
      "mealService 응답코드: 200\n",
      "급식 데이터 수: 2\n",
      "7010833 대동세무고등학교\n",
      "급식 정보 조회 중: 날짜=20241030\n",
      "mealService 응답코드: 200\n",
      "급식 데이터 수: 1\n"
     ]
    },
    {
     "name": "stderr",
     "output_type": "stream",
     "text": [
      "[B10] 고등학교 급식 조회:  31%|██▏    | 56/178 [00:09<00:21,  5.66it/s]"
     ]
    },
    {
     "name": "stdout",
     "output_type": "stream",
     "text": [
      "7010139 대성고등학교\n",
      "급식 정보 조회 중: 날짜=20241030\n",
      "mealService 응답코드: 200\n",
      "급식 데이터 수: 1\n"
     ]
    },
    {
     "name": "stderr",
     "output_type": "stream",
     "text": [
      "[B10] 고등학교 급식 조회:  32%|██▏    | 57/178 [00:10<00:21,  5.58it/s]"
     ]
    },
    {
     "name": "stdout",
     "output_type": "stream",
     "text": [
      "7010140 대신고등학교\n",
      "급식 정보 조회 중: 날짜=20241030\n",
      "mealService 응답코드: 200\n",
      "급식 데이터 수: 1\n"
     ]
    },
    {
     "name": "stderr",
     "output_type": "stream",
     "text": [
      "[B10] 고등학교 급식 조회:  33%|██▎    | 58/178 [00:10<00:21,  5.50it/s]"
     ]
    },
    {
     "name": "stdout",
     "output_type": "stream",
     "text": [
      "7010074 대영고등학교\n",
      "급식 정보 조회 중: 날짜=20241030\n",
      "mealService 응답코드: 200\n",
      "급식 데이터 수: 1\n"
     ]
    },
    {
     "name": "stderr",
     "output_type": "stream",
     "text": [
      "[B10] 고등학교 급식 조회:  33%|██▎    | 59/178 [00:10<00:21,  5.44it/s]"
     ]
    },
    {
     "name": "stdout",
     "output_type": "stream",
     "text": [
      "7010141 대원고등학교\n",
      "급식 정보 조회 중: 날짜=20241030\n",
      "mealService 응답코드: 200\n",
      "급식 데이터 수: 1\n"
     ]
    },
    {
     "name": "stderr",
     "output_type": "stream",
     "text": [
      "[B10] 고등학교 급식 조회:  34%|██▎    | 60/178 [00:10<00:21,  5.58it/s]"
     ]
    },
    {
     "name": "stdout",
     "output_type": "stream",
     "text": [
      "7010142 대원여자고등학교\n",
      "급식 정보 조회 중: 날짜=20241030\n",
      "mealService 응답코드: 200\n",
      "급식 데이터 수: 1\n",
      "7010143 대원외국어고등학교\n",
      "급식 정보 조회 중: 날짜=20241030\n"
     ]
    },
    {
     "name": "stderr",
     "output_type": "stream",
     "text": [
      "[B10] 고등학교 급식 조회:  34%|██▍    | 61/178 [00:10<00:21,  5.56it/s]"
     ]
    },
    {
     "name": "stdout",
     "output_type": "stream",
     "text": [
      "mealService 응답코드: 200\n",
      "급식 데이터 수: 1\n",
      "7010144 대일고등학교\n",
      "급식 정보 조회 중: 날짜=20241030\n",
      "mealService 응답코드: 200\n",
      "급식 데이터 수: 1\n"
     ]
    },
    {
     "name": "stderr",
     "output_type": "stream",
     "text": [
      "[B10] 고등학교 급식 조회:  35%|██▍    | 63/178 [00:11<00:20,  5.59it/s]"
     ]
    },
    {
     "name": "stdout",
     "output_type": "stream",
     "text": [
      "7011186 대일관광고등학교\n",
      "급식 정보 조회 중: 날짜=20241030\n",
      "mealService 응답코드: 200\n",
      "급식 데이터 수: 1\n",
      "7010145 대일외국어고등학교\n",
      "급식 정보 조회 중: 날짜=20241030\n"
     ]
    },
    {
     "name": "stderr",
     "output_type": "stream",
     "text": [
      "[B10] 고등학교 급식 조회:  36%|██▌    | 64/178 [00:11<00:20,  5.69it/s]"
     ]
    },
    {
     "name": "stdout",
     "output_type": "stream",
     "text": [
      "mealService 응답코드: 200\n",
      "급식 데이터 수: 3\n",
      "7010146 대진고등학교\n",
      "급식 정보 조회 중: 날짜=20241030\n",
      "mealService 응답코드: 200\n",
      "급식 데이터 수: 2\n"
     ]
    },
    {
     "name": "stderr",
     "output_type": "stream",
     "text": [
      "[B10] 고등학교 급식 조회:  37%|██▌    | 66/178 [00:11<00:19,  5.79it/s]"
     ]
    },
    {
     "name": "stdout",
     "output_type": "stream",
     "text": [
      "7010740 대진디자인고등학교\n",
      "급식 정보 조회 중: 날짜=20241030\n",
      "mealService 응답코드: 200\n",
      "급식 데이터 수: 1\n",
      "7010147 대진여자고등학교\n",
      "급식 정보 조회 중: 날짜=20241030\n"
     ]
    },
    {
     "name": "stderr",
     "output_type": "stream",
     "text": [
      "[B10] 고등학교 급식 조회:  38%|██▋    | 67/178 [00:11<00:18,  5.88it/s]"
     ]
    },
    {
     "name": "stdout",
     "output_type": "stream",
     "text": [
      "mealService 응답코드: 200\n",
      "급식 데이터 수: 2\n",
      "7010148 덕성여자고등학교\n",
      "급식 정보 조회 중: 날짜=20241030\n",
      "mealService 응답코드: 200\n",
      "급식 데이터 수: 2\n"
     ]
    },
    {
     "name": "stderr",
     "output_type": "stream",
     "text": [
      "[B10] 고등학교 급식 조회:  39%|██▋    | 69/178 [00:12<00:18,  5.82it/s]"
     ]
    },
    {
     "name": "stdout",
     "output_type": "stream",
     "text": [
      "7010808 덕수고등학교\n",
      "급식 정보 조회 중: 날짜=20241030\n",
      "mealService 응답코드: 200\n",
      "급식 데이터 수: 1\n"
     ]
    },
    {
     "name": "stderr",
     "output_type": "stream",
     "text": [
      "[B10] 고등학교 급식 조회:  39%|██▊    | 70/178 [00:12<00:18,  5.83it/s]"
     ]
    },
    {
     "name": "stdout",
     "output_type": "stream",
     "text": [
      "7010149 덕원여자고등학교\n",
      "급식 정보 조회 중: 날짜=20241030\n",
      "mealService 응답코드: 200\n",
      "급식 데이터 수: 1\n",
      "7010150 덕원예술고등학교\n",
      "급식 정보 조회 중: 날짜=20241030\n"
     ]
    },
    {
     "name": "stderr",
     "output_type": "stream",
     "text": [
      "[B10] 고등학교 급식 조회:  40%|██▊    | 71/178 [00:12<00:18,  5.69it/s]"
     ]
    },
    {
     "name": "stdout",
     "output_type": "stream",
     "text": [
      "mealService 응답코드: 200\n",
      "급식 데이터 수: 1\n",
      "7010317 덕일전자공업고등학교\n",
      "급식 정보 조회 중: 날짜=20241030\n",
      "mealService 응답코드: 200\n",
      "급식 데이터 수: 1\n"
     ]
    },
    {
     "name": "stderr",
     "output_type": "stream",
     "text": [
      "[B10] 고등학교 급식 조회:  41%|██▊    | 73/178 [00:12<00:18,  5.81it/s]"
     ]
    },
    {
     "name": "stdout",
     "output_type": "stream",
     "text": [
      "7011318 도선고등학교\n",
      "급식 정보 조회 중: 날짜=20241030\n",
      "mealService 응답코드: 200\n",
      "급식 데이터 수: 1\n",
      "7010560 독산고등학교\n",
      "급식 정보 조회 중: 날짜=20241030\n"
     ]
    },
    {
     "name": "stderr",
     "output_type": "stream",
     "text": [
      "[B10] 고등학교 급식 조회:  42%|██▉    | 74/178 [00:12<00:17,  5.85it/s]"
     ]
    },
    {
     "name": "stdout",
     "output_type": "stream",
     "text": [
      "mealService 응답코드: 200\n",
      "급식 데이터 수: 1\n",
      "7011586 동국대학교사범대학부속가람고등학교\n",
      "급식 정보 조회 중: 날짜=20241030\n",
      "mealService 응답코드: 200\n",
      "mealServiceDietInfo 키 없음: {'RESULT': {'CODE': 'INFO-200', 'MESSAGE': '해당하는 데이터가 없습니다.'}}\n"
     ]
    },
    {
     "name": "stderr",
     "output_type": "stream",
     "text": [
      "[B10] 고등학교 급식 조회:  43%|██▉    | 76/178 [00:13<00:17,  5.91it/s]"
     ]
    },
    {
     "name": "stdout",
     "output_type": "stream",
     "text": [
      "7010151 동국대학교사범대학부속고등학교\n",
      "급식 정보 조회 중: 날짜=20241030\n",
      "mealService 응답코드: 200\n",
      "급식 데이터 수: 2\n",
      "7010152 동덕여자고등학교\n",
      "급식 정보 조회 중: 날짜=20241030\n"
     ]
    },
    {
     "name": "stderr",
     "output_type": "stream",
     "text": [
      "[B10] 고등학교 급식 조회:  43%|███    | 77/178 [00:13<00:17,  5.91it/s]"
     ]
    },
    {
     "name": "stdout",
     "output_type": "stream",
     "text": [
      "mealService 응답코드: 200\n",
      "급식 데이터 수: 1\n",
      "7011490 동명생활경영고등학교\n",
      "급식 정보 조회 중: 날짜=20241030\n",
      "mealService 응답코드: 200\n",
      "급식 데이터 수: 1\n"
     ]
    },
    {
     "name": "stderr",
     "output_type": "stream",
     "text": [
      "[B10] 고등학교 급식 조회:  44%|███    | 79/178 [00:13<00:16,  5.97it/s]"
     ]
    },
    {
     "name": "stdout",
     "output_type": "stream",
     "text": [
      "7010153 동명여자고등학교\n",
      "급식 정보 조회 중: 날짜=20241030\n",
      "mealService 응답코드: 200\n",
      "급식 데이터 수: 1\n",
      "7010154 동북고등학교\n",
      "급식 정보 조회 중: 날짜=20241030\n"
     ]
    },
    {
     "name": "stderr",
     "output_type": "stream",
     "text": [
      "[B10] 고등학교 급식 조회:  45%|███▏   | 80/178 [00:13<00:16,  5.96it/s]"
     ]
    },
    {
     "name": "stdout",
     "output_type": "stream",
     "text": [
      "mealService 응답코드: 200\n",
      "급식 데이터 수: 2\n",
      "7010155 동성고등학교\n",
      "급식 정보 조회 중: 날짜=20241030\n",
      "mealService 응답코드: 200\n",
      "급식 데이터 수: 3\n"
     ]
    },
    {
     "name": "stderr",
     "output_type": "stream",
     "text": [
      "[B10] 고등학교 급식 조회:  46%|███▏   | 82/178 [00:14<00:16,  5.93it/s]"
     ]
    },
    {
     "name": "stdout",
     "output_type": "stream",
     "text": [
      "7010965 동양고등학교\n",
      "급식 정보 조회 중: 날짜=20241030\n",
      "mealService 응답코드: 200\n",
      "급식 데이터 수: 1\n",
      "7010156 동일여자고등학교\n",
      "급식 정보 조회 중: 날짜=20241030\n"
     ]
    },
    {
     "name": "stderr",
     "output_type": "stream",
     "text": [
      "[B10] 고등학교 급식 조회:  47%|███▎   | 83/178 [00:14<00:16,  5.79it/s]"
     ]
    },
    {
     "name": "stdout",
     "output_type": "stream",
     "text": [
      "mealService 응답코드: 200\n",
      "급식 데이터 수: 1\n",
      "7010075 동작고등학교\n",
      "급식 정보 조회 중: 날짜=20241030\n",
      "mealService 응답코드: 200\n",
      "급식 데이터 수: 1\n"
     ]
    },
    {
     "name": "stderr",
     "output_type": "stream",
     "text": [
      "[B10] 고등학교 급식 조회:  48%|███▎   | 85/178 [00:14<00:15,  5.85it/s]"
     ]
    },
    {
     "name": "stdout",
     "output_type": "stream",
     "text": [
      "7010076 둔촌고등학교\n",
      "급식 정보 조회 중: 날짜=20241030\n",
      "mealService 응답코드: 200\n",
      "급식 데이터 수: 1\n",
      "7010700 등촌고등학교\n",
      "급식 정보 조회 중: 날짜=20241030\n"
     ]
    },
    {
     "name": "stderr",
     "output_type": "stream",
     "text": [
      "[B10] 고등학교 급식 조회:  48%|███▍   | 86/178 [00:15<00:15,  5.80it/s]"
     ]
    },
    {
     "name": "stdout",
     "output_type": "stream",
     "text": [
      "mealService 응답코드: 200\n",
      "급식 데이터 수: 1\n",
      "7010908 리라아트고등학교\n",
      "급식 정보 조회 중: 날짜=20241030\n",
      "mealService 응답코드: 200\n",
      "급식 데이터 수: 1\n"
     ]
    },
    {
     "name": "stderr",
     "output_type": "stream",
     "text": [
      "[B10] 고등학교 급식 조회:  49%|███▍   | 88/178 [00:15<00:15,  5.65it/s]"
     ]
    },
    {
     "name": "stdout",
     "output_type": "stream",
     "text": [
      "7010157 마포고등학교\n",
      "급식 정보 조회 중: 날짜=20241030\n",
      "mealService 응답코드: 200\n",
      "급식 데이터 수: 1\n"
     ]
    },
    {
     "name": "stderr",
     "output_type": "stream",
     "text": [
      "[B10] 고등학교 급식 조회:  50%|███▌   | 89/178 [00:15<00:15,  5.79it/s]"
     ]
    },
    {
     "name": "stdout",
     "output_type": "stream",
     "text": [
      "7010077 면목고등학교\n",
      "급식 정보 조회 중: 날짜=20241030\n",
      "mealService 응답코드: 200\n",
      "급식 데이터 수: 1\n",
      "7010158 명덕고등학교\n",
      "급식 정보 조회 중: 날짜=20241030\n"
     ]
    },
    {
     "name": "stderr",
     "output_type": "stream",
     "text": [
      "[B10] 고등학교 급식 조회:  51%|███▌   | 90/178 [00:15<00:15,  5.70it/s]"
     ]
    },
    {
     "name": "stdout",
     "output_type": "stream",
     "text": [
      "mealService 응답코드: 200\n",
      "급식 데이터 수: 3\n",
      "7010159 명덕여자고등학교\n",
      "급식 정보 조회 중: 날짜=20241030\n",
      "mealService 응답코드: 200\n",
      "급식 데이터 수: 3\n"
     ]
    },
    {
     "name": "stderr",
     "output_type": "stream",
     "text": [
      "[B10] 고등학교 급식 조회:  52%|███▌   | 92/178 [00:16<00:14,  5.77it/s]"
     ]
    },
    {
     "name": "stdout",
     "output_type": "stream",
     "text": [
      "7010160 명덕외국어고등학교\n",
      "급식 정보 조회 중: 날짜=20241030\n",
      "mealService 응답코드: 200\n",
      "급식 데이터 수: 3\n",
      "7010078 명일여자고등학교\n",
      "급식 정보 조회 중: 날짜=20241030\n"
     ]
    },
    {
     "name": "stderr",
     "output_type": "stream",
     "text": [
      "[B10] 고등학교 급식 조회:  52%|███▋   | 93/178 [00:16<00:14,  5.86it/s]"
     ]
    },
    {
     "name": "stdout",
     "output_type": "stream",
     "text": [
      "mealService 응답코드: 200\n",
      "급식 데이터 수: 1\n",
      "7010163 명지고등학교\n",
      "급식 정보 조회 중: 날짜=20241030\n",
      "mealService 응답코드: 200\n",
      "급식 데이터 수: 1\n"
     ]
    },
    {
     "name": "stderr",
     "output_type": "stream",
     "text": [
      "[B10] 고등학교 급식 조회:  53%|███▋   | 95/178 [00:16<00:14,  5.90it/s]"
     ]
    },
    {
     "name": "stdout",
     "output_type": "stream",
     "text": [
      "7010744 목동고등학교\n",
      "급식 정보 조회 중: 날짜=20241030\n",
      "mealService 응답코드: 200\n",
      "급식 데이터 수: 2\n",
      "7010079 무학여자고등학교\n",
      "급식 정보 조회 중: 날짜=20241030\n"
     ]
    },
    {
     "name": "stderr",
     "output_type": "stream",
     "text": [
      "[B10] 고등학교 급식 조회:  54%|███▊   | 96/178 [00:16<00:13,  5.97it/s]"
     ]
    },
    {
     "name": "stdout",
     "output_type": "stream",
     "text": [
      "mealService 응답코드: 200\n",
      "급식 데이터 수: 1\n",
      "7010166 문일고등학교\n",
      "급식 정보 조회 중: 날짜=20241030\n",
      "mealService 응답코드: 200\n",
      "급식 데이터 수: 2\n"
     ]
    },
    {
     "name": "stderr",
     "output_type": "stream",
     "text": [
      "[B10] 고등학교 급식 조회:  55%|███▊   | 98/178 [00:17<00:13,  6.09it/s]"
     ]
    },
    {
     "name": "stdout",
     "output_type": "stream",
     "text": [
      "7010701 문정고등학교\n",
      "급식 정보 조회 중: 날짜=20241030\n",
      "mealService 응답코드: 200\n",
      "급식 데이터 수: 1\n",
      "7010959 문현고등학교\n",
      "급식 정보 조회 중: 날짜=20241030\n"
     ]
    },
    {
     "name": "stderr",
     "output_type": "stream",
     "text": [
      "[B10] 고등학교 급식 조회:  56%|███▉   | 99/178 [00:17<00:12,  6.09it/s]"
     ]
    },
    {
     "name": "stdout",
     "output_type": "stream",
     "text": [
      "mealService 응답코드: 200\n",
      "급식 데이터 수: 1\n",
      "7010591 미래산업과학고등학교\n",
      "급식 정보 조회 중: 날짜=20241030\n",
      "mealService 응답코드: 200\n",
      "급식 데이터 수: 1\n"
     ]
    },
    {
     "name": "stderr",
     "output_type": "stream",
     "text": [
      "[B10] 고등학교 급식 조회:  57%|███▍  | 101/178 [00:17<00:13,  5.88it/s]"
     ]
    },
    {
     "name": "stdout",
     "output_type": "stream",
     "text": [
      "7011569 미림마이스터고등학교\n",
      "급식 정보 조회 중: 날짜=20241030\n",
      "mealService 응답코드: 200\n",
      "급식 데이터 수: 3\n",
      "7010167 미림여자고등학교\n",
      "급식 정보 조회 중: 날짜=20241030\n"
     ]
    },
    {
     "name": "stderr",
     "output_type": "stream",
     "text": [
      "[B10] 고등학교 급식 조회:  57%|███▍  | 102/178 [00:17<00:13,  5.68it/s]"
     ]
    },
    {
     "name": "stdout",
     "output_type": "stream",
     "text": [
      "mealService 응답코드: 200\n",
      "mealServiceDietInfo 키 없음: {'RESULT': {'CODE': 'INFO-200', 'MESSAGE': '해당하는 데이터가 없습니다.'}}\n",
      "7010080 반포고등학교\n",
      "급식 정보 조회 중: 날짜=20241030\n",
      "mealService 응답코드: 200\n",
      "급식 데이터 수: 1\n"
     ]
    },
    {
     "name": "stderr",
     "output_type": "stream",
     "text": [
      "[B10] 고등학교 급식 조회:  58%|███▌  | 104/178 [00:18<00:12,  5.71it/s]"
     ]
    },
    {
     "name": "stdout",
     "output_type": "stream",
     "text": [
      "7010590 방산고등학교\n",
      "급식 정보 조회 중: 날짜=20241030\n",
      "mealService 응답코드: 200\n",
      "급식 데이터 수: 1\n",
      "7010168 배명고등학교\n",
      "급식 정보 조회 중: 날짜=20241030\n"
     ]
    },
    {
     "name": "stderr",
     "output_type": "stream",
     "text": [
      "[B10] 고등학교 급식 조회:  59%|███▌  | 105/178 [00:18<00:12,  5.80it/s]"
     ]
    },
    {
     "name": "stdout",
     "output_type": "stream",
     "text": [
      "mealService 응답코드: 200\n",
      "급식 데이터 수: 3\n",
      "7010169 배문고등학교\n",
      "급식 정보 조회 중: 날짜=20241030\n",
      "mealService 응답코드: 200\n",
      "급식 데이터 수: 2\n"
     ]
    },
    {
     "name": "stderr",
     "output_type": "stream",
     "text": [
      "[B10] 고등학교 급식 조회:  60%|███▌  | 107/178 [00:18<00:12,  5.86it/s]"
     ]
    },
    {
     "name": "stdout",
     "output_type": "stream",
     "text": [
      "7010170 배재고등학교\n",
      "급식 정보 조회 중: 날짜=20241030\n",
      "mealService 응답코드: 200\n",
      "급식 데이터 수: 3\n",
      "7010171 배화여자고등학교\n",
      "급식 정보 조회 중: 날짜=20241030\n"
     ]
    },
    {
     "name": "stderr",
     "output_type": "stream",
     "text": [
      "[B10] 고등학교 급식 조회:  61%|███▋  | 108/178 [00:18<00:12,  5.83it/s]"
     ]
    },
    {
     "name": "stdout",
     "output_type": "stream",
     "text": [
      "mealService 응답코드: 200\n",
      "급식 데이터 수: 2\n",
      "7010172 백암고등학교\n",
      "급식 정보 조회 중: 날짜=20241030\n",
      "mealService 응답코드: 200\n",
      "급식 데이터 수: 1\n"
     ]
    },
    {
     "name": "stderr",
     "output_type": "stream",
     "text": [
      "[B10] 고등학교 급식 조회:  62%|███▋  | 110/178 [00:19<00:11,  5.94it/s]"
     ]
    },
    {
     "name": "stdout",
     "output_type": "stream",
     "text": [
      "7010173 보성고등학교\n",
      "급식 정보 조회 중: 날짜=20241030\n",
      "mealService 응답코드: 200\n",
      "급식 데이터 수: 2\n",
      "7010174 보성여자고등학교\n",
      "급식 정보 조회 중: 날짜=20241030\n"
     ]
    },
    {
     "name": "stderr",
     "output_type": "stream",
     "text": [
      "[B10] 고등학교 급식 조회:  62%|███▋  | 111/178 [00:19<00:11,  5.79it/s]"
     ]
    },
    {
     "name": "stdout",
     "output_type": "stream",
     "text": [
      "mealService 응답코드: 200\n",
      "급식 데이터 수: 2\n",
      "7010813 보인고등학교\n",
      "급식 정보 조회 중: 날짜=20241030\n",
      "mealService 응답코드: 200\n",
      "급식 데이터 수: 3\n"
     ]
    },
    {
     "name": "stderr",
     "output_type": "stream",
     "text": [
      "[B10] 고등학교 급식 조회:  63%|███▊  | 113/178 [00:19<00:11,  5.84it/s]"
     ]
    },
    {
     "name": "stdout",
     "output_type": "stream",
     "text": [
      "7010736 불암고등학교\n",
      "급식 정보 조회 중: 날짜=20241030\n",
      "mealService 응답코드: 200\n",
      "급식 데이터 수: 1\n",
      "7010985 삼각산고등학교\n",
      "급식 정보 조회 중: 날짜=20241030\n"
     ]
    },
    {
     "name": "stderr",
     "output_type": "stream",
     "text": [
      "[B10] 고등학교 급식 조회:  64%|███▊  | 114/178 [00:19<00:10,  5.89it/s]"
     ]
    },
    {
     "name": "stdout",
     "output_type": "stream",
     "text": [
      "mealService 응답코드: 200\n",
      "급식 데이터 수: 1\n",
      "7010081 삼성고등학교\n",
      "급식 정보 조회 중: 날짜=20241030\n",
      "mealService 응답코드: 200\n",
      "급식 데이터 수: 1\n"
     ]
    },
    {
     "name": "stderr",
     "output_type": "stream",
     "text": [
      "[B10] 고등학교 급식 조회:  65%|███▉  | 116/178 [00:20<00:10,  5.82it/s]"
     ]
    },
    {
     "name": "stdout",
     "output_type": "stream",
     "text": [
      "7010082 상계고등학교\n",
      "급식 정보 조회 중: 날짜=20241030\n",
      "mealService 응답코드: 200\n",
      "급식 데이터 수: 1\n"
     ]
    },
    {
     "name": "stderr",
     "output_type": "stream",
     "text": [
      "[B10] 고등학교 급식 조회:  66%|███▉  | 117/178 [00:20<00:10,  5.71it/s]"
     ]
    },
    {
     "name": "stdout",
     "output_type": "stream",
     "text": [
      "7010593 상명고등학교\n",
      "급식 정보 조회 중: 날짜=20241030\n",
      "mealService 응답코드: 200\n",
      "급식 데이터 수: 1\n"
     ]
    },
    {
     "name": "stderr",
     "output_type": "stream",
     "text": [
      "[B10] 고등학교 급식 조회:  66%|███▉  | 118/178 [00:20<00:10,  5.77it/s]"
     ]
    },
    {
     "name": "stdout",
     "output_type": "stream",
     "text": [
      "7010178 상명대학교사범대학부속여자고등학교\n",
      "급식 정보 조회 중: 날짜=20241030\n",
      "mealService 응답코드: 200\n",
      "급식 데이터 수: 1\n",
      "7010179 상문고등학교\n",
      "급식 정보 조회 중: 날짜=20241030\n"
     ]
    },
    {
     "name": "stderr",
     "output_type": "stream",
     "text": [
      "[B10] 고등학교 급식 조회:  67%|████  | 119/178 [00:20<00:10,  5.88it/s]"
     ]
    },
    {
     "name": "stdout",
     "output_type": "stream",
     "text": [
      "mealService 응답코드: 200\n",
      "급식 데이터 수: 1\n",
      "7010806 상암고등학교\n",
      "급식 정보 조회 중: 날짜=20241030\n",
      "mealService 응답코드: 200\n",
      "급식 데이터 수: 1\n"
     ]
    },
    {
     "name": "stderr",
     "output_type": "stream",
     "text": [
      "[B10] 고등학교 급식 조회:  68%|████  | 121/178 [00:21<00:09,  5.79it/s]"
     ]
    },
    {
     "name": "stdout",
     "output_type": "stream",
     "text": [
      "7010916 상일미디어고등학교\n",
      "급식 정보 조회 중: 날짜=20241030\n",
      "mealService 응답코드: 200\n",
      "급식 데이터 수: 1\n",
      "7010181 상일여자고등학교\n",
      "급식 정보 조회 중: 날짜=20241030\n"
     ]
    },
    {
     "name": "stderr",
     "output_type": "stream",
     "text": [
      "[B10] 고등학교 급식 조회:  69%|████  | 122/178 [00:21<00:09,  5.80it/s]"
     ]
    },
    {
     "name": "stdout",
     "output_type": "stream",
     "text": [
      "mealService 응답코드: 200\n",
      "급식 데이터 수: 1\n",
      "7010182 서라벌고등학교\n",
      "급식 정보 조회 중: 날짜=20241030\n",
      "mealService 응답코드: 200\n",
      "급식 데이터 수: 2\n"
     ]
    },
    {
     "name": "stderr",
     "output_type": "stream",
     "text": [
      "[B10] 고등학교 급식 조회:  70%|████▏ | 124/178 [00:21<00:09,  5.98it/s]"
     ]
    },
    {
     "name": "stdout",
     "output_type": "stream",
     "text": [
      "7010183 서문여자고등학교\n",
      "급식 정보 조회 중: 날짜=20241030\n",
      "mealService 응답코드: 200\n",
      "급식 데이터 수: 2\n",
      "7010721 서서울생활과학고등학교\n",
      "급식 정보 조회 중: 날짜=20241030\n"
     ]
    },
    {
     "name": "stderr",
     "output_type": "stream",
     "text": [
      "[B10] 고등학교 급식 조회:  70%|████▏ | 125/178 [00:21<00:09,  5.87it/s]"
     ]
    },
    {
     "name": "stdout",
     "output_type": "stream",
     "text": [
      "mealService 응답코드: 200\n",
      "급식 데이터 수: 1\n",
      "7010083 서울고등학교\n",
      "급식 정보 조회 중: 날짜=20241030\n",
      "mealService 응답코드: 200\n",
      "급식 데이터 수: 2\n"
     ]
    },
    {
     "name": "stderr",
     "output_type": "stream",
     "text": [
      "[B10] 고등학교 급식 조회:  71%|████▎ | 127/178 [00:22<00:08,  5.85it/s]"
     ]
    },
    {
     "name": "stdout",
     "output_type": "stream",
     "text": [
      "7010278 서울공업고등학교\n",
      "급식 정보 조회 중: 날짜=20241030\n",
      "mealService 응답코드: 200\n",
      "급식 데이터 수: 1\n",
      "7010906 서울공연예술고등학교\n",
      "급식 정보 조회 중: 날짜=20241030\n"
     ]
    },
    {
     "name": "stderr",
     "output_type": "stream",
     "text": [
      "[B10] 고등학교 급식 조회:  72%|████▎ | 128/178 [00:22<00:08,  5.86it/s]"
     ]
    },
    {
     "name": "stdout",
     "output_type": "stream",
     "text": [
      "mealService 응답코드: 200\n",
      "급식 데이터 수: 1\n",
      "7010084 서울과학고등학교\n",
      "급식 정보 조회 중: 날짜=20241030\n",
      "mealService 응답코드: 200\n",
      "급식 데이터 수: 3\n"
     ]
    },
    {
     "name": "stderr",
     "output_type": "stream",
     "text": [
      "[B10] 고등학교 급식 조회:  73%|████▍ | 130/178 [00:22<00:08,  5.99it/s]"
     ]
    },
    {
     "name": "stdout",
     "output_type": "stream",
     "text": [
      "7010739 서울관광고등학교\n",
      "급식 정보 조회 중: 날짜=20241030\n",
      "mealService 응답코드: 200\n",
      "급식 데이터 수: 1\n",
      "7010817 서울국제고등학교\n",
      "급식 정보 조회 중: 날짜=20241030\n"
     ]
    },
    {
     "name": "stderr",
     "output_type": "stream",
     "text": [
      "[B10] 고등학교 급식 조회:  74%|████▍ | 131/178 [00:22<00:07,  6.03it/s]"
     ]
    },
    {
     "name": "stdout",
     "output_type": "stream",
     "text": [
      "mealService 응답코드: 200\n",
      "급식 데이터 수: 3\n",
      "7010964 서울금융고등학교\n",
      "급식 정보 조회 중: 날짜=20241030\n",
      "mealService 응답코드: 200\n",
      "급식 데이터 수: 1\n"
     ]
    },
    {
     "name": "stderr",
     "output_type": "stream",
     "text": [
      "[B10] 고등학교 급식 조회:  75%|████▍ | 133/178 [00:23<00:07,  5.87it/s]"
     ]
    },
    {
     "name": "stdout",
     "output_type": "stream",
     "text": [
      "7011109 서울대학교사범대학부설고등학교\n",
      "급식 정보 조회 중: 날짜=20241030\n",
      "mealService 응답코드: 200\n",
      "급식 데이터 수: 1\n",
      "7011180 서울도시과학기술고등학교\n",
      "급식 정보 조회 중: 날짜=20241030\n"
     ]
    },
    {
     "name": "stderr",
     "output_type": "stream",
     "text": [
      "[B10] 고등학교 급식 조회:  75%|████▌ | 134/178 [00:23<00:07,  5.90it/s]"
     ]
    },
    {
     "name": "stdout",
     "output_type": "stream",
     "text": [
      "mealService 응답코드: 200\n",
      "급식 데이터 수: 3\n",
      "7011539 서울동구고등학교\n",
      "급식 정보 조회 중: 날짜=20241030\n",
      "mealService 응답코드: 200\n",
      "급식 데이터 수: 1\n"
     ]
    },
    {
     "name": "stderr",
     "output_type": "stream",
     "text": [
      "[B10] 고등학교 급식 조회:  76%|████▌ | 136/178 [00:23<00:07,  5.94it/s]"
     ]
    },
    {
     "name": "stdout",
     "output_type": "stream",
     "text": [
      "7011494 서울동산고등학교\n",
      "급식 정보 조회 중: 날짜=20241030\n",
      "mealService 응답코드: 200\n",
      "급식 데이터 수: 1\n",
      "7010741 서울디자인고등학교\n",
      "급식 정보 조회 중: 날짜=20241030\n"
     ]
    },
    {
     "name": "stderr",
     "output_type": "stream",
     "text": [
      "[B10] 고등학교 급식 조회:  77%|████▌ | 137/178 [00:23<00:06,  6.05it/s]"
     ]
    },
    {
     "name": "stdout",
     "output_type": "stream",
     "text": [
      "mealService 응답코드: 200\n",
      "급식 데이터 수: 1\n",
      "7011585 서울디지털콘텐츠고등학교\n",
      "급식 정보 조회 중: 날짜=20241030\n",
      "mealService 응답코드: 200\n",
      "mealServiceDietInfo 키 없음: {'RESULT': {'CODE': 'INFO-200', 'MESSAGE': '해당하는 데이터가 없습니다.'}}\n"
     ]
    },
    {
     "name": "stderr",
     "output_type": "stream",
     "text": [
      "[B10] 고등학교 급식 조회:  78%|████▋ | 139/178 [00:24<00:06,  5.99it/s]"
     ]
    },
    {
     "name": "stdout",
     "output_type": "stream",
     "text": [
      "7010572 서울디지텍고등학교\n",
      "급식 정보 조회 중: 날짜=20241030\n",
      "mealService 응답코드: 200\n",
      "급식 데이터 수: 1\n",
      "7010738 서울로봇고등학교\n",
      "급식 정보 조회 중: 날짜=20241030\n"
     ]
    },
    {
     "name": "stderr",
     "output_type": "stream",
     "text": [
      "[B10] 고등학교 급식 조회:  79%|████▋ | 140/178 [00:24<00:06,  5.91it/s]"
     ]
    },
    {
     "name": "stdout",
     "output_type": "stream",
     "text": [
      "mealService 응답코드: 200\n",
      "급식 데이터 수: 3\n",
      "7011506 서울매그넷고등학교\n",
      "급식 정보 조회 중: 날짜=20241030\n",
      "mealService 응답코드: 200\n",
      "급식 데이터 수: 1\n"
     ]
    },
    {
     "name": "stderr",
     "output_type": "stream",
     "text": [
      "[B10] 고등학교 급식 조회:  80%|████▊ | 142/178 [00:24<00:06,  5.86it/s]"
     ]
    },
    {
     "name": "stdout",
     "output_type": "stream",
     "text": [
      "7010697 서울문영여자고등학교\n",
      "급식 정보 조회 중: 날짜=20241030\n",
      "mealService 응답코드: 200\n",
      "급식 데이터 수: 2\n",
      "7010888 서울문화고등학교\n",
      "급식 정보 조회 중: 날짜=20241030\n"
     ]
    },
    {
     "name": "stderr",
     "output_type": "stream",
     "text": [
      "[B10] 고등학교 급식 조회:  80%|████▊ | 143/178 [00:24<00:06,  5.82it/s]"
     ]
    },
    {
     "name": "stdout",
     "output_type": "stream",
     "text": [
      "mealService 응답코드: 200\n",
      "급식 데이터 수: 1\n",
      "7010185 서울미술고등학교\n",
      "급식 정보 조회 중: 날짜=20241030\n",
      "mealService 응답코드: 200\n",
      "급식 데이터 수: 1\n"
     ]
    },
    {
     "name": "stderr",
     "output_type": "stream",
     "text": [
      "[B10] 고등학교 급식 조회:  81%|████▉ | 145/178 [00:25<00:05,  5.75it/s]"
     ]
    },
    {
     "name": "stdout",
     "output_type": "stream",
     "text": [
      "7011575 서울반도체고등학교\n",
      "급식 정보 조회 중: 날짜=20241030\n",
      "mealService 응답코드: 200\n",
      "급식 데이터 수: 1\n",
      "7010836 서울방송고등학교\n",
      "급식 정보 조회 중: 날짜=20241030\n"
     ]
    },
    {
     "name": "stderr",
     "output_type": "stream",
     "text": [
      "[B10] 고등학교 급식 조회:  82%|████▉ | 146/178 [00:25<00:05,  5.84it/s]"
     ]
    },
    {
     "name": "stdout",
     "output_type": "stream",
     "text": [
      "mealService 응답코드: 200\n",
      "급식 데이터 수: 1\n",
      "7011584 서울백영고등학교\n",
      "급식 정보 조회 중: 날짜=20241030\n",
      "mealService 응답코드: 200\n",
      "mealServiceDietInfo 키 없음: {'RESULT': {'CODE': 'INFO-200', 'MESSAGE': '해당하는 데이터가 없습니다.'}}\n"
     ]
    },
    {
     "name": "stderr",
     "output_type": "stream",
     "text": [
      "[B10] 고등학교 급식 조회:  83%|████▉ | 148/178 [00:25<00:05,  5.96it/s]"
     ]
    },
    {
     "name": "stdout",
     "output_type": "stream",
     "text": [
      "7010186 서울세종고등학교\n",
      "급식 정보 조회 중: 날짜=20241030\n",
      "mealService 응답코드: 200\n",
      "급식 데이터 수: 1\n",
      "7011492 서울신정고등학교\n",
      "급식 정보 조회 중: 날짜=20241030\n"
     ]
    },
    {
     "name": "stderr",
     "output_type": "stream",
     "text": [
      "[B10] 고등학교 급식 조회:  84%|█████ | 149/178 [00:25<00:04,  5.94it/s]"
     ]
    },
    {
     "name": "stdout",
     "output_type": "stream",
     "text": [
      "mealService 응답코드: 200\n",
      "급식 데이터 수: 1\n",
      "7010960 서울아이티고등학교\n",
      "급식 정보 조회 중: 날짜=20241030\n",
      "mealService 응답코드: 200\n",
      "급식 데이터 수: 1\n"
     ]
    },
    {
     "name": "stderr",
     "output_type": "stream",
     "text": [
      "[B10] 고등학교 급식 조회:  85%|█████ | 151/178 [00:26<00:04,  6.00it/s]"
     ]
    },
    {
     "name": "stdout",
     "output_type": "stream",
     "text": [
      "7010085 서울여자고등학교\n",
      "급식 정보 조회 중: 날짜=20241030\n",
      "mealService 응답코드: 200\n",
      "급식 데이터 수: 2\n",
      "7010340 서울여자상업고등학교\n",
      "급식 정보 조회 중: 날짜=20241030\n"
     ]
    },
    {
     "name": "stderr",
     "output_type": "stream",
     "text": [
      "[B10] 고등학교 급식 조회:  85%|█████ | 152/178 [00:26<00:04,  5.93it/s]"
     ]
    },
    {
     "name": "stdout",
     "output_type": "stream",
     "text": [
      "mealService 응답코드: 200\n",
      "급식 데이터 수: 1\n",
      "7010795 서울영상고등학교\n",
      "급식 정보 조회 중: 날짜=20241030\n",
      "mealService 응답코드: 200\n",
      "급식 데이터 수: 3\n"
     ]
    },
    {
     "name": "stderr",
     "output_type": "stream",
     "text": [
      "[B10] 고등학교 급식 조회:  87%|█████▏| 154/178 [00:26<00:03,  6.00it/s]"
     ]
    },
    {
     "name": "stdout",
     "output_type": "stream",
     "text": [
      "7010187 서울예술고등학교\n",
      "급식 정보 조회 중: 날짜=20241030\n",
      "mealService 응답코드: 200\n",
      "급식 데이터 수: 1\n",
      "7010188 서울외국어고등학교\n",
      "급식 정보 조회 중: 날짜=20241030\n"
     ]
    },
    {
     "name": "stderr",
     "output_type": "stream",
     "text": [
      "[B10] 고등학교 급식 조회:  87%|█████▏| 155/178 [00:26<00:03,  5.96it/s]"
     ]
    },
    {
     "name": "stdout",
     "output_type": "stream",
     "text": [
      "mealService 응답코드: 200\n",
      "급식 데이터 수: 1\n",
      "7011558 서울웹툰애니메이션고등학교\n",
      "급식 정보 조회 중: 날짜=20241030\n",
      "mealService 응답코드: 200\n",
      "급식 데이터 수: 1\n"
     ]
    },
    {
     "name": "stderr",
     "output_type": "stream",
     "text": [
      "[B10] 고등학교 급식 조회:  88%|█████▎| 157/178 [00:27<00:03,  5.88it/s]"
     ]
    },
    {
     "name": "stdout",
     "output_type": "stream",
     "text": [
      "7011486 서울의료보건고등학교\n",
      "급식 정보 조회 중: 날짜=20241030\n",
      "mealService 응답코드: 200\n",
      "급식 데이터 수: 1\n",
      "7011498 서울인공지능고등학교\n",
      "급식 정보 조회 중: 날짜=20241030\n"
     ]
    },
    {
     "name": "stderr",
     "output_type": "stream",
     "text": [
      "[B10] 고등학교 급식 조회:  89%|█████▎| 158/178 [00:27<00:03,  5.76it/s]"
     ]
    },
    {
     "name": "stdout",
     "output_type": "stream",
     "text": [
      "mealService 응답코드: 200\n",
      "급식 데이터 수: 1\n",
      "7011513 서울정화고등학교\n",
      "급식 정보 조회 중: 날짜=20241030\n",
      "mealService 응답코드: 200\n",
      "급식 데이터 수: 1\n"
     ]
    },
    {
     "name": "stderr",
     "output_type": "stream",
     "text": [
      "[B10] 고등학교 급식 조회:  90%|█████▍| 160/178 [00:27<00:03,  5.72it/s]"
     ]
    },
    {
     "name": "stdout",
     "output_type": "stream",
     "text": [
      "7010086 서울체육고등학교\n",
      "급식 정보 조회 중: 날짜=20241030\n",
      "mealService 응답코드: 200\n",
      "급식 데이터 수: 3\n",
      "7011213 서울컨벤션고등학교\n",
      "급식 정보 조회 중: 날짜=20241030\n"
     ]
    },
    {
     "name": "stderr",
     "output_type": "stream",
     "text": [
      "[B10] 고등학교 급식 조회:  90%|█████▍| 161/178 [00:27<00:02,  5.79it/s]"
     ]
    },
    {
     "name": "stdout",
     "output_type": "stream",
     "text": [
      "mealService 응답코드: 200\n",
      "mealServiceDietInfo 키 없음: {'RESULT': {'CODE': 'INFO-200', 'MESSAGE': '해당하는 데이터가 없습니다.'}}\n",
      "7011491 서일문화예술고등학교\n",
      "급식 정보 조회 중: 날짜=20241030\n",
      "mealService 응답코드: 200\n",
      "급식 데이터 수: 1\n"
     ]
    },
    {
     "name": "stderr",
     "output_type": "stream",
     "text": [
      "[B10] 고등학교 급식 조회:  92%|█████▍| 163/178 [00:28<00:02,  5.75it/s]"
     ]
    },
    {
     "name": "stdout",
     "output_type": "stream",
     "text": [
      "7010087 서초고등학교\n",
      "급식 정보 조회 중: 날짜=20241030\n",
      "mealService 응답코드: 200\n",
      "급식 데이터 수: 1\n",
      "7010088 석관고등학교\n",
      "급식 정보 조회 중: 날짜=20241030\n"
     ]
    },
    {
     "name": "stderr",
     "output_type": "stream",
     "text": [
      "[B10] 고등학교 급식 조회:  92%|█████▌| 164/178 [00:28<00:02,  5.62it/s]"
     ]
    },
    {
     "name": "stdout",
     "output_type": "stream",
     "text": [
      "mealService 응답코드: 200\n",
      "급식 데이터 수: 1\n",
      "7010189 선덕고등학교\n",
      "급식 정보 조회 중: 날짜=20241030\n",
      "mealService 응답코드: 200\n",
      "급식 데이터 수: 1\n"
     ]
    },
    {
     "name": "stderr",
     "output_type": "stream",
     "text": [
      "[B10] 고등학교 급식 조회:  93%|█████▌| 166/178 [00:28<00:02,  5.63it/s]"
     ]
    },
    {
     "name": "stdout",
     "output_type": "stream",
     "text": [
      "7010536 선린인터넷고등학교\n",
      "급식 정보 조회 중: 날짜=20241030\n",
      "mealService 응답코드: 200\n",
      "급식 데이터 수: 1\n"
     ]
    },
    {
     "name": "stderr",
     "output_type": "stream",
     "text": [
      "[B10] 고등학교 급식 조회:  94%|█████▋| 167/178 [00:28<00:01,  5.70it/s]"
     ]
    },
    {
     "name": "stdout",
     "output_type": "stream",
     "text": [
      "7010984 선사고등학교\n",
      "급식 정보 조회 중: 날짜=20241030\n",
      "mealService 응답코드: 200\n",
      "급식 데이터 수: 1\n",
      "7010734 선유고등학교\n",
      "급식 정보 조회 중: 날짜=20241030\n"
     ]
    },
    {
     "name": "stderr",
     "output_type": "stream",
     "text": [
      "[B10] 고등학교 급식 조회:  94%|█████▋| 168/178 [00:29<00:01,  5.70it/s]"
     ]
    },
    {
     "name": "stdout",
     "output_type": "stream",
     "text": [
      "mealService 응답코드: 200\n",
      "급식 데이터 수: 1\n",
      "7011508 선일빅데이터고등학교\n",
      "급식 정보 조회 중: 날짜=20241030\n"
     ]
    },
    {
     "name": "stderr",
     "output_type": "stream",
     "text": [
      "[B10] 고등학교 급식 조회:  95%|█████▋| 169/178 [00:29<00:01,  5.54it/s]"
     ]
    },
    {
     "name": "stdout",
     "output_type": "stream",
     "text": [
      "mealService 응답코드: 200\n",
      "mealServiceDietInfo 키 없음: {'RESULT': {'CODE': 'INFO-200', 'MESSAGE': '해당하는 데이터가 없습니다.'}}\n",
      "7010190 선일여자고등학교\n",
      "급식 정보 조회 중: 날짜=20241030\n",
      "mealService 응답코드: 200\n",
      "급식 데이터 수: 1\n"
     ]
    },
    {
     "name": "stderr",
     "output_type": "stream",
     "text": [
      "[B10] 고등학교 급식 조회:  96%|█████▊| 171/178 [00:29<00:01,  5.77it/s]"
     ]
    },
    {
     "name": "stdout",
     "output_type": "stream",
     "text": [
      "7010191 선정고등학교\n",
      "급식 정보 조회 중: 날짜=20241030\n",
      "mealService 응답코드: 200\n",
      "급식 데이터 수: 3\n",
      "7011315 선정국제관광고등학교\n",
      "급식 정보 조회 중: 날짜=20241030\n"
     ]
    },
    {
     "name": "stderr",
     "output_type": "stream",
     "text": [
      "[B10] 고등학교 급식 조회:  97%|█████▊| 172/178 [00:29<00:01,  5.59it/s]"
     ]
    },
    {
     "name": "stdout",
     "output_type": "stream",
     "text": [
      "mealService 응답코드: 200\n",
      "급식 데이터 수: 3\n",
      "7010192 선화예술고등학교\n",
      "급식 정보 조회 중: 날짜=20241030\n",
      "mealService 응답코드: 200\n",
      "급식 데이터 수: 3\n"
     ]
    },
    {
     "name": "stderr",
     "output_type": "stream",
     "text": [
      "[B10] 고등학교 급식 조회:  98%|█████▊| 174/178 [00:30<00:00,  5.89it/s]"
     ]
    },
    {
     "name": "stdout",
     "output_type": "stream",
     "text": [
      "7010193 성남고등학교\n",
      "급식 정보 조회 중: 날짜=20241030\n",
      "mealService 응답코드: 200\n",
      "급식 데이터 수: 1\n",
      "7011179 성덕고등학교\n",
      "급식 정보 조회 중: 날짜=20241030\n"
     ]
    },
    {
     "name": "stderr",
     "output_type": "stream",
     "text": [
      "[B10] 고등학교 급식 조회:  98%|█████▉| 175/178 [00:30<00:00,  5.95it/s]"
     ]
    },
    {
     "name": "stdout",
     "output_type": "stream",
     "text": [
      "mealService 응답코드: 200\n",
      "급식 데이터 수: 1\n",
      "7010089 성동고등학교\n",
      "급식 정보 조회 중: 날짜=20241030\n",
      "mealService 응답코드: 200\n",
      "급식 데이터 수: 1\n"
     ]
    },
    {
     "name": "stderr",
     "output_type": "stream",
     "text": [
      "[B10] 고등학교 급식 조회:  99%|█████▉| 177/178 [00:30<00:00,  5.89it/s]"
     ]
    },
    {
     "name": "stdout",
     "output_type": "stream",
     "text": [
      "7010737 성동공업고등학교\n",
      "급식 정보 조회 중: 날짜=20241030\n",
      "mealService 응답코드: 200\n",
      "급식 데이터 수: 1\n",
      "7010889 성동글로벌경영고등학교\n",
      "급식 정보 조회 중: 날짜=20241030\n"
     ]
    },
    {
     "name": "stderr",
     "output_type": "stream",
     "text": [
      "[B10] 고등학교 급식 조회: 100%|██████| 178/178 [00:30<00:00,  5.79it/s]\n"
     ]
    },
    {
     "name": "stdout",
     "output_type": "stream",
     "text": [
      "mealService 응답코드: 200\n",
      "급식 데이터 수: 1\n",
      "응답코드 : 200\n"
     ]
    },
    {
     "name": "stderr",
     "output_type": "stream",
     "text": [
      "[C10] 고등학교 급식 조회:   1%|        | 1/143 [00:00<00:25,  5.67it/s]"
     ]
    },
    {
     "name": "stdout",
     "output_type": "stream",
     "text": [
      "7150119 가야고등학교\n",
      "급식 정보 조회 중: 날짜=20241030\n",
      "mealService 응답코드: 200\n",
      "급식 데이터 수: 2\n",
      "7150084 개금고등학교\n",
      "급식 정보 조회 중: 날짜=20241030\n"
     ]
    },
    {
     "name": "stderr",
     "output_type": "stream",
     "text": [
      "[C10] 고등학교 급식 조회:   1%|        | 2/143 [00:00<00:23,  6.00it/s]"
     ]
    },
    {
     "name": "stdout",
     "output_type": "stream",
     "text": [
      "mealService 응답코드: 200\n",
      "급식 데이터 수: 2\n",
      "7150396 개성고등학교\n",
      "급식 정보 조회 중: 날짜=20241030\n",
      "mealService 응답코드: 200\n",
      "급식 데이터 수: 2\n"
     ]
    },
    {
     "name": "stderr",
     "output_type": "stream",
     "text": [
      "[C10] 고등학교 급식 조회:   3%|▏       | 4/143 [00:00<00:23,  5.81it/s]"
     ]
    },
    {
     "name": "stdout",
     "output_type": "stream",
     "text": [
      "7150120 건국고등학교\n",
      "급식 정보 조회 중: 날짜=20241030\n",
      "mealService 응답코드: 200\n",
      "급식 데이터 수: 2\n",
      "7150085 경남고등학교\n",
      "급식 정보 조회 중: 날짜=20241030\n"
     ]
    },
    {
     "name": "stderr",
     "output_type": "stream",
     "text": [
      "[C10] 고등학교 급식 조회:   3%|▎       | 5/143 [00:00<00:23,  5.82it/s]"
     ]
    },
    {
     "name": "stdout",
     "output_type": "stream",
     "text": [
      "mealService 응답코드: 200\n",
      "급식 데이터 수: 2\n",
      "7150166 경남공업고등학교\n",
      "급식 정보 조회 중: 날짜=20241030\n",
      "mealService 응답코드: 200\n",
      "급식 데이터 수: 3\n"
     ]
    },
    {
     "name": "stderr",
     "output_type": "stream",
     "text": [
      "[C10] 고등학교 급식 조회:   5%|▍       | 7/143 [00:01<00:22,  6.07it/s]"
     ]
    },
    {
     "name": "stdout",
     "output_type": "stream",
     "text": [
      "7150086 경남여자고등학교\n",
      "급식 정보 조회 중: 날짜=20241030\n",
      "mealService 응답코드: 200\n",
      "급식 데이터 수: 3\n",
      "7150429 경성전자고등학교\n",
      "급식 정보 조회 중: 날짜=20241030\n"
     ]
    },
    {
     "name": "stderr",
     "output_type": "stream",
     "text": [
      "[C10] 고등학교 급식 조회:   6%|▍       | 8/143 [00:01<00:22,  5.87it/s]"
     ]
    },
    {
     "name": "stdout",
     "output_type": "stream",
     "text": [
      "mealService 응답코드: 200\n",
      "급식 데이터 수: 1\n",
      "7150121 경원고등학교\n",
      "급식 정보 조회 중: 날짜=20241030\n",
      "mealService 응답코드: 200\n",
      "급식 데이터 수: 2\n"
     ]
    },
    {
     "name": "stderr",
     "output_type": "stream",
     "text": [
      "[C10] 고등학교 급식 조회:   7%|▍      | 10/143 [00:01<00:23,  5.66it/s]"
     ]
    },
    {
     "name": "stdout",
     "output_type": "stream",
     "text": [
      "7150423 경일고등학교\n",
      "급식 정보 조회 중: 날짜=20241030\n",
      "mealService 응답코드: 200\n",
      "급식 데이터 수: 3\n",
      "7150122 경혜여자고등학교\n",
      "급식 정보 조회 중: 날짜=20241030\n"
     ]
    },
    {
     "name": "stderr",
     "output_type": "stream",
     "text": [
      "[C10] 고등학교 급식 조회:   8%|▌      | 11/143 [00:01<00:22,  5.78it/s]"
     ]
    },
    {
     "name": "stdout",
     "output_type": "stream",
     "text": [
      "mealService 응답코드: 200\n",
      "급식 데이터 수: 1\n",
      "7150623 계성여자고등학교\n",
      "급식 정보 조회 중: 날짜=20241030\n",
      "mealService 응답코드: 200\n",
      "급식 데이터 수: 1\n"
     ]
    },
    {
     "name": "stderr",
     "output_type": "stream",
     "text": [
      "[C10] 고등학교 급식 조회:   9%|▋      | 13/143 [00:02<00:22,  5.67it/s]"
     ]
    },
    {
     "name": "stdout",
     "output_type": "stream",
     "text": [
      "7150123 광명고등학교\n",
      "급식 정보 조회 중: 날짜=20241030\n",
      "mealService 응답코드: 200\n",
      "급식 데이터 수: 2\n"
     ]
    },
    {
     "name": "stderr",
     "output_type": "stream",
     "text": [
      "[C10] 고등학교 급식 조회:  10%|▋      | 14/143 [00:02<00:22,  5.72it/s]"
     ]
    },
    {
     "name": "stdout",
     "output_type": "stream",
     "text": [
      "7150087 구덕고등학교\n",
      "급식 정보 조회 중: 날짜=20241030\n",
      "mealService 응답코드: 200\n",
      "급식 데이터 수: 2\n",
      "7150372 금곡고등학교\n",
      "급식 정보 조회 중: 날짜=20241030\n"
     ]
    },
    {
     "name": "stderr",
     "output_type": "stream",
     "text": [
      "[C10] 고등학교 급식 조회:  10%|▋      | 15/143 [00:02<00:22,  5.81it/s]"
     ]
    },
    {
     "name": "stdout",
     "output_type": "stream",
     "text": [
      "mealService 응답코드: 200\n",
      "급식 데이터 수: 2\n",
      "7150424 금명여자고등학교\n",
      "급식 정보 조회 중: 날짜=20241030\n",
      "mealService 응답코드: 200\n",
      "급식 데이터 수: 1\n"
     ]
    },
    {
     "name": "stderr",
     "output_type": "stream",
     "text": [
      "[C10] 고등학교 급식 조회:  12%|▊      | 17/143 [00:02<00:21,  5.76it/s]"
     ]
    },
    {
     "name": "stdout",
     "output_type": "stream",
     "text": [
      "7150738 금샘고등학교\n",
      "급식 정보 조회 중: 날짜=20241030\n",
      "mealService 응답코드: 200\n",
      "급식 데이터 수: 1\n",
      "7150124 금성고등학교\n",
      "급식 정보 조회 중: 날짜=20241030\n"
     ]
    },
    {
     "name": "stderr",
     "output_type": "stream",
     "text": [
      "[C10] 고등학교 급식 조회:  13%|▉      | 18/143 [00:03<00:21,  5.75it/s]"
     ]
    },
    {
     "name": "stdout",
     "output_type": "stream",
     "text": [
      "mealService 응답코드: 200\n",
      "급식 데이터 수: 2\n",
      "7150090 금정고등학교\n",
      "급식 정보 조회 중: 날짜=20241030\n",
      "mealService 응답코드: 200\n",
      "급식 데이터 수: 2\n"
     ]
    },
    {
     "name": "stderr",
     "output_type": "stream",
     "text": [
      "[C10] 고등학교 급식 조회:  14%|▉      | 20/143 [00:03<00:21,  5.65it/s]"
     ]
    },
    {
     "name": "stdout",
     "output_type": "stream",
     "text": [
      "7150091 금정여자고등학교\n",
      "급식 정보 조회 중: 날짜=20241030\n",
      "mealService 응답코드: 200\n",
      "급식 데이터 수: 2\n"
     ]
    },
    {
     "name": "stderr",
     "output_type": "stream",
     "text": [
      "[C10] 고등학교 급식 조회:  15%|█      | 21/143 [00:03<00:21,  5.75it/s]"
     ]
    },
    {
     "name": "stdout",
     "output_type": "stream",
     "text": [
      "7150089 기장고등학교\n",
      "급식 정보 조회 중: 날짜=20241030\n",
      "mealService 응답코드: 200\n",
      "급식 데이터 수: 3\n",
      "7150092 낙동고등학교\n",
      "급식 정보 조회 중: 날짜=20241030\n"
     ]
    },
    {
     "name": "stderr",
     "output_type": "stream",
     "text": [
      "[C10] 고등학교 급식 조회:  15%|█      | 22/143 [00:03<00:21,  5.53it/s]"
     ]
    },
    {
     "name": "stdout",
     "output_type": "stream",
     "text": [
      "mealService 응답코드: 200\n",
      "급식 데이터 수: 1\n",
      "7150093 남산고등학교\n",
      "급식 정보 조회 중: 날짜=20241030\n",
      "mealService 응답코드: 200\n",
      "급식 데이터 수: 2\n"
     ]
    },
    {
     "name": "stderr",
     "output_type": "stream",
     "text": [
      "[C10] 고등학교 급식 조회:  17%|█▏     | 24/143 [00:04<00:20,  5.76it/s]"
     ]
    },
    {
     "name": "stdout",
     "output_type": "stream",
     "text": [
      "7150125 남성여자고등학교\n",
      "급식 정보 조회 중: 날짜=20241030\n",
      "mealService 응답코드: 200\n",
      "급식 데이터 수: 1\n",
      "7150094 내성고등학교\n",
      "급식 정보 조회 중: 날짜=20241030\n"
     ]
    },
    {
     "name": "stderr",
     "output_type": "stream",
     "text": [
      "[C10] 고등학교 급식 조회:  17%|█▏     | 25/143 [00:04<00:20,  5.89it/s]"
     ]
    },
    {
     "name": "stdout",
     "output_type": "stream",
     "text": [
      "mealService 응답코드: 200\n",
      "급식 데이터 수: 1\n",
      "7150095 다대고등학교\n",
      "급식 정보 조회 중: 날짜=20241030\n",
      "mealService 응답코드: 200\n",
      "급식 데이터 수: 1\n"
     ]
    },
    {
     "name": "stderr",
     "output_type": "stream",
     "text": [
      "[C10] 고등학교 급식 조회:  19%|█▎     | 27/143 [00:04<00:19,  6.00it/s]"
     ]
    },
    {
     "name": "stdout",
     "output_type": "stream",
     "text": [
      "7150624 대광고등학교\n",
      "급식 정보 조회 중: 날짜=20241030\n",
      "mealService 응답코드: 200\n",
      "급식 데이터 수: 1\n",
      "7150126 대덕여자고등학교\n",
      "급식 정보 조회 중: 날짜=20241030\n"
     ]
    },
    {
     "name": "stderr",
     "output_type": "stream",
     "text": [
      "[C10] 고등학교 급식 조회:  20%|█▎     | 28/143 [00:04<00:19,  5.95it/s]"
     ]
    },
    {
     "name": "stdout",
     "output_type": "stream",
     "text": [
      "mealService 응답코드: 200\n",
      "급식 데이터 수: 2\n",
      "7150127 대동고등학교\n",
      "급식 정보 조회 중: 날짜=20241030\n",
      "mealService 응답코드: 200\n",
      "급식 데이터 수: 2\n"
     ]
    },
    {
     "name": "stderr",
     "output_type": "stream",
     "text": [
      "[C10] 고등학교 급식 조회:  21%|█▍     | 30/143 [00:05<00:19,  5.88it/s]"
     ]
    },
    {
     "name": "stdout",
     "output_type": "stream",
     "text": [
      "7150128 대명여자고등학교\n",
      "급식 정보 조회 중: 날짜=20241030\n",
      "mealService 응답코드: 200\n",
      "급식 데이터 수: 2\n",
      "7150626 대양고등학교\n",
      "급식 정보 조회 중: 날짜=20241030\n"
     ]
    },
    {
     "name": "stderr",
     "output_type": "stream",
     "text": [
      "[C10] 고등학교 급식 조회:  22%|█▌     | 31/143 [00:05<00:19,  5.67it/s]"
     ]
    },
    {
     "name": "stdout",
     "output_type": "stream",
     "text": [
      "mealService 응답코드: 200\n",
      "급식 데이터 수: 1\n",
      "7150129 대연고등학교\n",
      "급식 정보 조회 중: 날짜=20241030\n",
      "mealService 응답코드: 200\n",
      "급식 데이터 수: 2\n"
     ]
    },
    {
     "name": "stderr",
     "output_type": "stream",
     "text": [
      "[C10] 고등학교 급식 조회:  23%|█▌     | 33/143 [00:05<00:18,  5.84it/s]"
     ]
    },
    {
     "name": "stdout",
     "output_type": "stream",
     "text": [
      "7150597 대진전자통신고등학교\n",
      "급식 정보 조회 중: 날짜=20241030\n",
      "mealService 응답코드: 200\n",
      "급식 데이터 수: 1\n",
      "7150096 덕문고등학교\n",
      "급식 정보 조회 중: 날짜=20241030\n"
     ]
    },
    {
     "name": "stderr",
     "output_type": "stream",
     "text": [
      "[C10] 고등학교 급식 조회:  24%|█▋     | 34/143 [00:05<00:18,  5.81it/s]"
     ]
    },
    {
     "name": "stdout",
     "output_type": "stream",
     "text": [
      "mealService 응답코드: 200\n",
      "급식 데이터 수: 3\n",
      "7150130 덕문여자고등학교\n",
      "급식 정보 조회 중: 날짜=20241030\n",
      "mealService 응답코드: 200\n",
      "급식 데이터 수: 2\n"
     ]
    },
    {
     "name": "stderr",
     "output_type": "stream",
     "text": [
      "[C10] 고등학교 급식 조회:  24%|█▋     | 35/143 [00:06<00:18,  5.81it/s]"
     ]
    },
    {
     "name": "stdout",
     "output_type": "stream",
     "text": [
      "7150131 데레사여자고등학교\n",
      "급식 정보 조회 중: 날짜=20241030\n",
      "mealService 응답코드: 200\n",
      "급식 데이터 수: 2\n"
     ]
    },
    {
     "name": "stderr",
     "output_type": "stream",
     "text": [
      "[C10] 고등학교 급식 조회:  25%|█▊     | 36/143 [00:06<00:20,  5.33it/s]"
     ]
    },
    {
     "name": "stdout",
     "output_type": "stream",
     "text": [
      "7150097 동래고등학교\n",
      "급식 정보 조회 중: 날짜=20241030\n",
      "mealService 응답코드: 200\n",
      "급식 데이터 수: 1\n"
     ]
    },
    {
     "name": "stderr",
     "output_type": "stream",
     "text": [
      "[C10] 고등학교 급식 조회:  27%|█▊     | 38/143 [00:06<00:21,  4.94it/s]"
     ]
    },
    {
     "name": "stdout",
     "output_type": "stream",
     "text": [
      "7150132 동래여자고등학교\n",
      "급식 정보 조회 중: 날짜=20241030\n",
      "mealService 응답코드: 200\n",
      "급식 데이터 수: 2\n",
      "7150170 동래원예고등학교\n",
      "급식 정보 조회 중: 날짜=20241030\n"
     ]
    },
    {
     "name": "stderr",
     "output_type": "stream",
     "text": [
      "[C10] 고등학교 급식 조회:  27%|█▉     | 39/143 [00:06<00:19,  5.22it/s]"
     ]
    },
    {
     "name": "stdout",
     "output_type": "stream",
     "text": [
      "mealService 응답코드: 200\n",
      "급식 데이터 수: 1\n",
      "7150620 동명공업고등학교\n",
      "급식 정보 조회 중: 날짜=20241030\n",
      "mealService 응답코드: 200\n",
      "급식 데이터 수: 1\n"
     ]
    },
    {
     "name": "stderr",
     "output_type": "stream",
     "text": [
      "[C10] 고등학교 급식 조회:  29%|██     | 41/143 [00:07<00:18,  5.50it/s]"
     ]
    },
    {
     "name": "stdout",
     "output_type": "stream",
     "text": [
      "7150133 동아고등학교\n",
      "급식 정보 조회 중: 날짜=20241030\n",
      "mealService 응답코드: 200\n",
      "급식 데이터 수: 2\n"
     ]
    },
    {
     "name": "stderr",
     "output_type": "stream",
     "text": [
      "[C10] 고등학교 급식 조회:  29%|██     | 42/143 [00:07<00:17,  5.66it/s]"
     ]
    },
    {
     "name": "stdout",
     "output_type": "stream",
     "text": [
      "7150198 동아공업고등학교\n",
      "급식 정보 조회 중: 날짜=20241030\n",
      "mealService 응답코드: 200\n",
      "급식 데이터 수: 1\n",
      "7150739 동의고등학교\n",
      "급식 정보 조회 중: 날짜=20241030\n"
     ]
    },
    {
     "name": "stderr",
     "output_type": "stream",
     "text": [
      "[C10] 고등학교 급식 조회:  30%|██     | 43/143 [00:07<00:17,  5.68it/s]"
     ]
    },
    {
     "name": "stdout",
     "output_type": "stream",
     "text": [
      "mealService 응답코드: 200\n",
      "급식 데이터 수: 1\n",
      "7150134 동인고등학교\n",
      "급식 정보 조회 중: 날짜=20241030\n",
      "mealService 응답코드: 200\n",
      "급식 데이터 수: 2\n"
     ]
    },
    {
     "name": "stderr",
     "output_type": "stream",
     "text": [
      "[C10] 고등학교 급식 조회:  31%|██▏    | 45/143 [00:07<00:17,  5.50it/s]"
     ]
    },
    {
     "name": "stdout",
     "output_type": "stream",
     "text": [
      "7150431 동주여자고등학교\n",
      "급식 정보 조회 중: 날짜=20241030\n",
      "mealService 응답코드: 200\n",
      "급식 데이터 수: 1\n"
     ]
    },
    {
     "name": "stderr",
     "output_type": "stream",
     "text": [
      "[C10] 고등학교 급식 조회:  32%|██▎    | 46/143 [00:08<00:17,  5.50it/s]"
     ]
    },
    {
     "name": "stdout",
     "output_type": "stream",
     "text": [
      "7150135 동천고등학교\n",
      "급식 정보 조회 중: 날짜=20241030\n",
      "mealService 응답코드: 200\n",
      "급식 데이터 수: 2\n"
     ]
    },
    {
     "name": "stderr",
     "output_type": "stream",
     "text": [
      "[C10] 고등학교 급식 조회:  33%|██▎    | 47/143 [00:08<00:17,  5.59it/s]"
     ]
    },
    {
     "name": "stdout",
     "output_type": "stream",
     "text": [
      "7150363 만덕고등학교\n",
      "급식 정보 조회 중: 날짜=20241030\n",
      "mealService 응답코드: 200\n",
      "급식 데이터 수: 2\n",
      "7150451 명호고등학교\n",
      "급식 정보 조회 중: 날짜=20241030\n"
     ]
    },
    {
     "name": "stderr",
     "output_type": "stream",
     "text": [
      "[C10] 고등학교 급식 조회:  34%|██▎    | 48/143 [00:08<00:16,  5.67it/s]"
     ]
    },
    {
     "name": "stdout",
     "output_type": "stream",
     "text": [
      "mealService 응답코드: 200\n",
      "급식 데이터 수: 2\n",
      "7150098 문현여자고등학교\n",
      "급식 정보 조회 중: 날짜=20241030\n",
      "mealService 응답코드: 200\n",
      "급식 데이터 수: 2\n"
     ]
    },
    {
     "name": "stderr",
     "output_type": "stream",
     "text": [
      "[C10] 고등학교 급식 조회:  35%|██▍    | 50/143 [00:08<00:16,  5.79it/s]"
     ]
    },
    {
     "name": "stdout",
     "output_type": "stream",
     "text": [
      "7150383 반여고등학교\n",
      "급식 정보 조회 중: 날짜=20241030\n",
      "mealService 응답코드: 200\n",
      "급식 데이터 수: 2\n",
      "7150136 배정고등학교\n",
      "급식 정보 조회 중: 날짜=20241030\n"
     ]
    },
    {
     "name": "stderr",
     "output_type": "stream",
     "text": [
      "[C10] 고등학교 급식 조회:  36%|██▍    | 51/143 [00:08<00:15,  5.79it/s]"
     ]
    },
    {
     "name": "stdout",
     "output_type": "stream",
     "text": [
      "mealService 응답코드: 200\n",
      "급식 데이터 수: 2\n",
      "7150625 배정미래고등학교\n",
      "급식 정보 조회 중: 날짜=20241030\n",
      "mealService 응답코드: 200\n",
      "급식 데이터 수: 1\n"
     ]
    },
    {
     "name": "stderr",
     "output_type": "stream",
     "text": [
      "[C10] 고등학교 급식 조회:  37%|██▌    | 53/143 [00:09<00:15,  5.73it/s]"
     ]
    },
    {
     "name": "stdout",
     "output_type": "stream",
     "text": [
      "7150397 부경고등학교\n",
      "급식 정보 조회 중: 날짜=20241030\n",
      "mealService 응답코드: 200\n",
      "급식 데이터 수: 3\n"
     ]
    },
    {
     "name": "stderr",
     "output_type": "stream",
     "text": [
      "[C10] 고등학교 급식 조회:  38%|██▋    | 54/143 [00:09<00:15,  5.60it/s]"
     ]
    },
    {
     "name": "stdout",
     "output_type": "stream",
     "text": [
      "7150099 부산강서고등학교\n",
      "급식 정보 조회 중: 날짜=20241030\n",
      "mealService 응답코드: 200\n",
      "급식 데이터 수: 1\n"
     ]
    },
    {
     "name": "stderr",
     "output_type": "stream",
     "text": [
      "[C10] 고등학교 급식 조회:  38%|██▋    | 55/143 [00:09<00:15,  5.64it/s]"
     ]
    },
    {
     "name": "stdout",
     "output_type": "stream",
     "text": [
      "7150100 부산고등학교\n",
      "급식 정보 조회 중: 날짜=20241030\n",
      "mealService 응답코드: 200\n",
      "급식 데이터 수: 3\n",
      "7150171 부산공업고등학교\n",
      "급식 정보 조회 중: 날짜=20241030\n"
     ]
    },
    {
     "name": "stderr",
     "output_type": "stream",
     "text": [
      "[C10] 고등학교 급식 조회:  39%|██▋    | 56/143 [00:09<00:14,  5.80it/s]"
     ]
    },
    {
     "name": "stdout",
     "output_type": "stream",
     "text": [
      "mealService 응답코드: 200\n",
      "mealServiceDietInfo 키 없음: {'RESULT': {'CODE': 'INFO-200', 'MESSAGE': '해당하는 데이터가 없습니다.'}}\n",
      "7150459 부산과학고등학교\n",
      "급식 정보 조회 중: 날짜=20241030\n",
      "mealService 응답코드: 200\n",
      "급식 데이터 수: 3\n"
     ]
    },
    {
     "name": "stderr",
     "output_type": "stream",
     "text": [
      "[C10] 고등학교 급식 조회:  41%|██▊    | 58/143 [00:10<00:14,  5.86it/s]"
     ]
    },
    {
     "name": "stdout",
     "output_type": "stream",
     "text": [
      "7150422 부산관광고등학교\n",
      "급식 정보 조회 중: 날짜=20241030\n",
      "mealService 응답코드: 200\n",
      "급식 데이터 수: 1\n",
      "7150369 부산국제고등학교\n",
      "급식 정보 조회 중: 날짜=20241030\n"
     ]
    },
    {
     "name": "stderr",
     "output_type": "stream",
     "text": [
      "[C10] 고등학교 급식 조회:  41%|██▉    | 59/143 [00:10<00:14,  5.88it/s]"
     ]
    },
    {
     "name": "stdout",
     "output_type": "stream",
     "text": [
      "mealService 응답코드: 200\n",
      "급식 데이터 수: 3\n",
      "1421117 부산기계공업고등학교\n",
      "급식 정보 조회 중: 날짜=20241030\n",
      "mealService 응답코드: 200\n",
      "급식 데이터 수: 3\n"
     ]
    },
    {
     "name": "stderr",
     "output_type": "stream",
     "text": [
      "[C10] 고등학교 급식 조회:  42%|██▉    | 60/143 [00:10<00:14,  5.88it/s]"
     ]
    },
    {
     "name": "stdout",
     "output_type": "stream",
     "text": [
      "7150102 부산남고등학교\n",
      "급식 정보 조회 중: 날짜=20241030\n",
      "mealService 응답코드: 200\n",
      "급식 데이터 수: 2\n"
     ]
    },
    {
     "name": "stderr",
     "output_type": "stream",
     "text": [
      "[C10] 고등학교 급식 조회:  43%|███    | 62/143 [00:10<00:13,  5.83it/s]"
     ]
    },
    {
     "name": "stdout",
     "output_type": "stream",
     "text": [
      "7150743 부산남고등학교임시교육시설\n",
      "급식 정보 조회 중: 날짜=20241030\n",
      "mealService 응답코드: 200\n",
      "mealServiceDietInfo 키 없음: {'RESULT': {'CODE': 'INFO-200', 'MESSAGE': '해당하는 데이터가 없습니다.'}}\n",
      "7150103 부산남일고등학교\n",
      "급식 정보 조회 중: 날짜=20241030\n"
     ]
    },
    {
     "name": "stderr",
     "output_type": "stream",
     "text": [
      "[C10] 고등학교 급식 조회:  44%|███    | 63/143 [00:11<00:13,  5.88it/s]"
     ]
    },
    {
     "name": "stdout",
     "output_type": "stream",
     "text": [
      "mealService 응답코드: 200\n",
      "급식 데이터 수: 2\n",
      "7150137 부산대저고등학교\n",
      "급식 정보 조회 중: 날짜=20241030\n",
      "mealService 응답코드: 200\n",
      "급식 데이터 수: 1\n"
     ]
    },
    {
     "name": "stderr",
     "output_type": "stream",
     "text": [
      "[C10] 고등학교 급식 조회:  45%|███▏   | 65/143 [00:11<00:13,  5.87it/s]"
     ]
    },
    {
     "name": "stdout",
     "output_type": "stream",
     "text": [
      "7005103 부산대학교사범대학부설고등학교\n",
      "급식 정보 조회 중: 날짜=20241030\n",
      "mealService 응답코드: 200\n",
      "급식 데이터 수: 2\n",
      "7150138 부산동고등학교\n",
      "급식 정보 조회 중: 날짜=20241030\n"
     ]
    },
    {
     "name": "stderr",
     "output_type": "stream",
     "text": [
      "[C10] 고등학교 급식 조회:  46%|███▏   | 66/143 [00:11<00:13,  5.88it/s]"
     ]
    },
    {
     "name": "stdout",
     "output_type": "stream",
     "text": [
      "mealService 응답코드: 200\n",
      "급식 데이터 수: 2\n",
      "7150139 부산동성고등학교\n",
      "급식 정보 조회 중: 날짜=20241030\n",
      "mealService 응답코드: 200\n",
      "급식 데이터 수: 2\n"
     ]
    },
    {
     "name": "stderr",
     "output_type": "stream",
     "text": [
      "[C10] 고등학교 급식 조회:  48%|███▎   | 68/143 [00:11<00:12,  5.81it/s]"
     ]
    },
    {
     "name": "stdout",
     "output_type": "stream",
     "text": [
      "7150104 부산동여자고등학교\n",
      "급식 정보 조회 중: 날짜=20241030\n",
      "mealService 응답코드: 200\n",
      "급식 데이터 수: 2\n",
      "7150345 부산디지털고등학교\n",
      "급식 정보 조회 중: 날짜=20241030\n"
     ]
    },
    {
     "name": "stderr",
     "output_type": "stream",
     "text": [
      "[C10] 고등학교 급식 조회:  48%|███▍   | 69/143 [00:12<00:12,  5.75it/s]"
     ]
    },
    {
     "name": "stdout",
     "output_type": "stream",
     "text": [
      "mealService 응답코드: 200\n",
      "급식 데이터 수: 1\n",
      "7150421 부산마케팅고등학교\n",
      "급식 정보 조회 중: 날짜=20241030\n",
      "mealService 응답코드: 200\n",
      "급식 데이터 수: 2\n"
     ]
    },
    {
     "name": "stderr",
     "output_type": "stream",
     "text": [
      "[C10] 고등학교 급식 조회:  50%|███▍   | 71/143 [00:12<00:12,  5.83it/s]"
     ]
    },
    {
     "name": "stdout",
     "output_type": "stream",
     "text": [
      "7150456 부산문화여자고등학교\n",
      "급식 정보 조회 중: 날짜=20241030\n",
      "mealService 응답코드: 200\n",
      "급식 데이터 수: 1\n"
     ]
    },
    {
     "name": "stderr",
     "output_type": "stream",
     "text": [
      "[C10] 고등학교 급식 조회:  50%|███▌   | 72/143 [00:12<00:11,  5.92it/s]"
     ]
    },
    {
     "name": "stdout",
     "output_type": "stream",
     "text": [
      "7150420 부산백양고등학교\n",
      "급식 정보 조회 중: 날짜=20241030\n",
      "mealService 응답코드: 200\n",
      "급식 데이터 수: 1\n",
      "7150533 부산보건고등학교\n",
      "급식 정보 조회 중: 날짜=20241030\n"
     ]
    },
    {
     "name": "stderr",
     "output_type": "stream",
     "text": [
      "[C10] 고등학교 급식 조회:  51%|███▌   | 73/143 [00:12<00:12,  5.83it/s]"
     ]
    },
    {
     "name": "stdout",
     "output_type": "stream",
     "text": [
      "mealService 응답코드: 200\n",
      "급식 데이터 수: 1\n",
      "7150105 부산서여자고등학교\n",
      "급식 정보 조회 중: 날짜=20241030\n",
      "mealService 응답코드: 200\n",
      "급식 데이터 수: 2\n"
     ]
    },
    {
     "name": "stderr",
     "output_type": "stream",
     "text": [
      "[C10] 고등학교 급식 조회:  52%|███▋   | 75/143 [00:13<00:12,  5.45it/s]"
     ]
    },
    {
     "name": "stdout",
     "output_type": "stream",
     "text": [
      "7150659 부산센텀여자고등학교\n",
      "급식 정보 조회 중: 날짜=20241030\n",
      "mealService 응답코드: 200\n",
      "급식 데이터 수: 2\n"
     ]
    },
    {
     "name": "stderr",
     "output_type": "stream",
     "text": [
      "[C10] 고등학교 급식 조회:  53%|███▋   | 76/143 [00:13<00:12,  5.53it/s]"
     ]
    },
    {
     "name": "stdout",
     "output_type": "stream",
     "text": [
      "7150658 부산소프트웨어마이스터고등학교\n",
      "급식 정보 조회 중: 날짜=20241030\n",
      "mealService 응답코드: 200\n",
      "급식 데이터 수: 3\n",
      "7150106 부산여자고등학교\n",
      "급식 정보 조회 중: 날짜=20241030\n"
     ]
    },
    {
     "name": "stderr",
     "output_type": "stream",
     "text": [
      "[C10] 고등학교 급식 조회:  54%|███▊   | 77/143 [00:13<00:11,  5.60it/s]"
     ]
    },
    {
     "name": "stdout",
     "output_type": "stream",
     "text": [
      "mealService 응답코드: 200\n",
      "급식 데이터 수: 2\n",
      "7150207 부산여자상업고등학교\n",
      "급식 정보 조회 중: 날짜=20241030\n",
      "mealService 응답코드: 200\n",
      "급식 데이터 수: 1\n"
     ]
    },
    {
     "name": "stderr",
     "output_type": "stream",
     "text": [
      "[C10] 고등학교 급식 조회:  55%|███▊   | 79/143 [00:13<00:11,  5.76it/s]"
     ]
    },
    {
     "name": "stdout",
     "output_type": "stream",
     "text": [
      "7150426 부산영상예술고등학교\n",
      "급식 정보 조회 중: 날짜=20241030\n",
      "mealService 응답코드: 200\n",
      "급식 데이터 수: 1\n",
      "7150140 부산예술고등학교\n",
      "급식 정보 조회 중: 날짜=20241030\n"
     ]
    },
    {
     "name": "stderr",
     "output_type": "stream",
     "text": [
      "[C10] 고등학교 급식 조회:  56%|███▉   | 80/143 [00:14<00:10,  5.83it/s]"
     ]
    },
    {
     "name": "stdout",
     "output_type": "stream",
     "text": [
      "mealService 응답코드: 200\n",
      "급식 데이터 수: 2\n",
      "7150141 부산외국어고등학교\n",
      "급식 정보 조회 중: 날짜=20241030\n",
      "mealService 응답코드: 200\n",
      "급식 데이터 수: 2\n"
     ]
    },
    {
     "name": "stderr",
     "output_type": "stream",
     "text": [
      "[C10] 고등학교 급식 조회:  57%|████   | 82/143 [00:14<00:10,  5.99it/s]"
     ]
    },
    {
     "name": "stdout",
     "output_type": "stream",
     "text": [
      "7150532 부산일과학고등학교\n",
      "급식 정보 조회 중: 날짜=20241030\n",
      "mealService 응답코드: 200\n",
      "급식 데이터 수: 3\n",
      "7150747 부산자동차마이스터고등학교\n",
      "급식 정보 조회 중: 날짜=20241030\n"
     ]
    },
    {
     "name": "stderr",
     "output_type": "stream",
     "text": [
      "[C10] 고등학교 급식 조회:  58%|████   | 83/143 [00:14<00:10,  5.99it/s]"
     ]
    },
    {
     "name": "stdout",
     "output_type": "stream",
     "text": [
      "mealService 응답코드: 200\n",
      "mealServiceDietInfo 키 없음: {'RESULT': {'CODE': 'INFO-200', 'MESSAGE': '해당하는 데이터가 없습니다.'}}\n",
      "7150365 부산장안고등학교\n",
      "급식 정보 조회 중: 날짜=20241030\n",
      "mealService 응답코드: 200\n",
      "급식 데이터 수: 3\n"
     ]
    },
    {
     "name": "stderr",
     "output_type": "stream",
     "text": [
      "[C10] 고등학교 급식 조회:  59%|████▏  | 85/143 [00:14<00:09,  5.89it/s]"
     ]
    },
    {
     "name": "stdout",
     "output_type": "stream",
     "text": [
      "7150177 부산전자공업고등학교\n",
      "급식 정보 조회 중: 날짜=20241030\n",
      "mealService 응답코드: 200\n",
      "급식 데이터 수: 1\n",
      "7150348 부산정보고등학교\n",
      "급식 정보 조회 중: 날짜=20241030\n"
     ]
    },
    {
     "name": "stderr",
     "output_type": "stream",
     "text": [
      "[C10] 고등학교 급식 조회:  60%|████▏  | 86/143 [00:15<00:09,  5.84it/s]"
     ]
    },
    {
     "name": "stdout",
     "output_type": "stream",
     "text": [
      "mealService 응답코드: 200\n",
      "급식 데이터 수: 1\n",
      "7150208 부산정보관광고등학교\n",
      "급식 정보 조회 중: 날짜=20241030\n",
      "mealService 응답코드: 200\n",
      "급식 데이터 수: 1\n"
     ]
    },
    {
     "name": "stderr",
     "output_type": "stream",
     "text": [
      "[C10] 고등학교 급식 조회:  62%|████▎  | 88/143 [00:15<00:09,  5.90it/s]"
     ]
    },
    {
     "name": "stdout",
     "output_type": "stream",
     "text": [
      "7150107 부산중앙고등학교\n",
      "급식 정보 조회 중: 날짜=20241030\n",
      "mealService 응답코드: 200\n",
      "급식 데이터 수: 2\n",
      "7150108 부산중앙여자고등학교\n",
      "급식 정보 조회 중: 날짜=20241030\n"
     ]
    },
    {
     "name": "stderr",
     "output_type": "stream",
     "text": [
      "[C10] 고등학교 급식 조회:  62%|████▎  | 89/143 [00:15<00:09,  5.94it/s]"
     ]
    },
    {
     "name": "stdout",
     "output_type": "stream",
     "text": [
      "mealService 응답코드: 200\n",
      "급식 데이터 수: 2\n",
      "7150109 부산진고등학교\n",
      "급식 정보 조회 중: 날짜=20241030\n",
      "mealService 응답코드: 200\n",
      "급식 데이터 수: 1\n"
     ]
    },
    {
     "name": "stderr",
     "output_type": "stream",
     "text": [
      "[C10] 고등학교 급식 조회:  64%|████▍  | 91/143 [00:15<00:08,  5.83it/s]"
     ]
    },
    {
     "name": "stdout",
     "output_type": "stream",
     "text": [
      "7150142 부산진여자고등학교\n",
      "급식 정보 조회 중: 날짜=20241030\n",
      "mealService 응답코드: 200\n",
      "급식 데이터 수: 2\n",
      "7150178 부산진여자상업고등학교\n",
      "급식 정보 조회 중: 날짜=20241030\n"
     ]
    },
    {
     "name": "stderr",
     "output_type": "stream",
     "text": [
      "[C10] 고등학교 급식 조회:  64%|████▌  | 92/143 [00:16<00:08,  5.87it/s]"
     ]
    },
    {
     "name": "stdout",
     "output_type": "stream",
     "text": [
      "mealService 응답코드: 200\n",
      "급식 데이터 수: 1\n",
      "7150110 부산체육고등학교\n",
      "급식 정보 조회 중: 날짜=20241030\n"
     ]
    },
    {
     "name": "stderr",
     "output_type": "stream",
     "text": [
      "[C10] 고등학교 급식 조회:  65%|████▌  | 93/143 [00:16<00:08,  5.62it/s]"
     ]
    },
    {
     "name": "stdout",
     "output_type": "stream",
     "text": [
      "mealService 응답코드: 200\n",
      "급식 데이터 수: 2\n",
      "7150337 부산컴퓨터과학고등학교\n",
      "급식 정보 조회 중: 날짜=20241030\n",
      "mealService 응답코드: 200\n",
      "급식 데이터 수: 1\n"
     ]
    },
    {
     "name": "stderr",
     "output_type": "stream",
     "text": [
      "[C10] 고등학교 급식 조회:  66%|████▋  | 95/143 [00:16<00:08,  5.77it/s]"
     ]
    },
    {
     "name": "stdout",
     "output_type": "stream",
     "text": [
      "7150737 부산항공고등학교\n",
      "급식 정보 조회 중: 날짜=20241030\n",
      "mealService 응답코드: 200\n",
      "급식 데이터 수: 3\n",
      "7150746 부산해군과학기술고등학교\n",
      "급식 정보 조회 중: 날짜=20241030\n"
     ]
    },
    {
     "name": "stderr",
     "output_type": "stream",
     "text": [
      "[C10] 고등학교 급식 조회:  67%|████▋  | 96/143 [00:16<00:07,  5.89it/s]"
     ]
    },
    {
     "name": "stdout",
     "output_type": "stream",
     "text": [
      "mealService 응답코드: 200\n",
      "mealServiceDietInfo 키 없음: {'RESULT': {'CODE': 'INFO-200', 'MESSAGE': '해당하는 데이터가 없습니다.'}}\n",
      "1192068 부산해사고등학교\n",
      "급식 정보 조회 중: 날짜=20241030\n",
      "mealService 응답코드: 200\n",
      "급식 데이터 수: 3\n"
     ]
    },
    {
     "name": "stderr",
     "output_type": "stream",
     "text": [
      "[C10] 고등학교 급식 조회:  69%|████▊  | 98/143 [00:17<00:07,  5.91it/s]"
     ]
    },
    {
     "name": "stdout",
     "output_type": "stream",
     "text": [
      "7150143 부일외국어고등학교\n",
      "급식 정보 조회 중: 날짜=20241030\n",
      "mealService 응답코드: 200\n",
      "급식 데이터 수: 3\n",
      "7150346 부일전자디자인고등학교\n",
      "급식 정보 조회 중: 날짜=20241030\n"
     ]
    },
    {
     "name": "stderr",
     "output_type": "stream",
     "text": [
      "[C10] 고등학교 급식 조회:  69%|████▊  | 99/143 [00:17<00:07,  5.92it/s]"
     ]
    },
    {
     "name": "stdout",
     "output_type": "stream",
     "text": [
      "mealService 응답코드: 200\n",
      "급식 데이터 수: 3\n",
      "7150111 부흥고등학교\n",
      "급식 정보 조회 중: 날짜=20241030\n",
      "mealService 응답코드: 200\n",
      "급식 데이터 수: 2\n"
     ]
    },
    {
     "name": "stderr",
     "output_type": "stream",
     "text": [
      "[C10] 고등학교 급식 조회:  71%|████▏ | 101/143 [00:17<00:07,  5.96it/s]"
     ]
    },
    {
     "name": "stdout",
     "output_type": "stream",
     "text": [
      "7150371 분포고등학교\n",
      "급식 정보 조회 중: 날짜=20241030\n",
      "mealService 응답코드: 200\n",
      "급식 데이터 수: 2\n",
      "7150144 브니엘고등학교\n",
      "급식 정보 조회 중: 날짜=20241030\n"
     ]
    },
    {
     "name": "stderr",
     "output_type": "stream",
     "text": [
      "[C10] 고등학교 급식 조회:  71%|████▎ | 102/143 [00:17<00:06,  5.94it/s]"
     ]
    },
    {
     "name": "stdout",
     "output_type": "stream",
     "text": [
      "mealService 응답코드: 200\n",
      "급식 데이터 수: 2\n",
      "7150145 브니엘여자고등학교\n",
      "급식 정보 조회 중: 날짜=20241030\n",
      "mealService 응답코드: 200\n",
      "급식 데이터 수: 2\n"
     ]
    },
    {
     "name": "stderr",
     "output_type": "stream",
     "text": [
      "[C10] 고등학교 급식 조회:  73%|████▎ | 104/143 [00:18<00:06,  5.80it/s]"
     ]
    },
    {
     "name": "stdout",
     "output_type": "stream",
     "text": [
      "7150592 브니엘예술고등학교\n",
      "급식 정보 조회 중: 날짜=20241030\n",
      "mealService 응답코드: 200\n",
      "급식 데이터 수: 3\n",
      "7150425 사상고등학교\n",
      "급식 정보 조회 중: 날짜=20241030\n"
     ]
    },
    {
     "name": "stderr",
     "output_type": "stream",
     "text": [
      "[C10] 고등학교 급식 조회:  73%|████▍ | 105/143 [00:18<00:06,  5.91it/s]"
     ]
    },
    {
     "name": "stdout",
     "output_type": "stream",
     "text": [
      "mealService 응답코드: 200\n",
      "급식 데이터 수: 1\n",
      "7150112 사직고등학교\n",
      "급식 정보 조회 중: 날짜=20241030\n",
      "mealService 응답코드: 200\n",
      "급식 데이터 수: 2\n"
     ]
    },
    {
     "name": "stderr",
     "output_type": "stream",
     "text": [
      "[C10] 고등학교 급식 조회:  75%|████▍ | 107/143 [00:18<00:05,  6.06it/s]"
     ]
    },
    {
     "name": "stdout",
     "output_type": "stream",
     "text": [
      "7150146 사직여자고등학교\n",
      "급식 정보 조회 중: 날짜=20241030\n",
      "mealService 응답코드: 200\n",
      "급식 데이터 수: 2\n",
      "7150147 삼성여자고등학교\n",
      "급식 정보 조회 중: 날짜=20241030\n"
     ]
    },
    {
     "name": "stderr",
     "output_type": "stream",
     "text": [
      "[C10] 고등학교 급식 조회:  76%|████▌ | 108/143 [00:18<00:05,  6.11it/s]"
     ]
    },
    {
     "name": "stdout",
     "output_type": "stream",
     "text": [
      "mealService 응답코드: 200\n",
      "mealServiceDietInfo 키 없음: {'RESULT': {'CODE': 'INFO-200', 'MESSAGE': '해당하는 데이터가 없습니다.'}}\n",
      "7150430 삼정고등학교\n",
      "급식 정보 조회 중: 날짜=20241030\n",
      "mealService 응답코드: 200\n",
      "급식 데이터 수: 2\n"
     ]
    },
    {
     "name": "stderr",
     "output_type": "stream",
     "text": [
      "[C10] 고등학교 급식 조회:  77%|████▌ | 110/143 [00:19<00:05,  5.97it/s]"
     ]
    },
    {
     "name": "stdout",
     "output_type": "stream",
     "text": [
      "7150148 성도고등학교\n",
      "급식 정보 조회 중: 날짜=20241030\n",
      "mealService 응답코드: 200\n",
      "급식 데이터 수: 2\n"
     ]
    },
    {
     "name": "stderr",
     "output_type": "stream",
     "text": [
      "[C10] 고등학교 급식 조회:  78%|████▋ | 111/143 [00:19<00:05,  5.88it/s]"
     ]
    },
    {
     "name": "stdout",
     "output_type": "stream",
     "text": [
      "7150149 성모여자고등학교\n",
      "급식 정보 조회 중: 날짜=20241030\n",
      "mealService 응답코드: 200\n",
      "급식 데이터 수: 2\n",
      "7150150 성일여자고등학교\n",
      "급식 정보 조회 중: 날짜=20241030\n"
     ]
    },
    {
     "name": "stderr",
     "output_type": "stream",
     "text": [
      "[C10] 고등학교 급식 조회:  78%|████▋ | 112/143 [00:19<00:05,  5.88it/s]"
     ]
    },
    {
     "name": "stdout",
     "output_type": "stream",
     "text": [
      "mealService 응답코드: 200\n",
      "급식 데이터 수: 2\n",
      "7150455 성지고등학교\n",
      "급식 정보 조회 중: 날짜=20241030\n",
      "mealService 응답코드: 200\n",
      "급식 데이터 수: 2\n"
     ]
    },
    {
     "name": "stderr",
     "output_type": "stream",
     "text": [
      "[C10] 고등학교 급식 조회:  80%|████▊ | 114/143 [00:19<00:05,  5.71it/s]"
     ]
    },
    {
     "name": "stdout",
     "output_type": "stream",
     "text": [
      "7150660 세연고등학교\n",
      "급식 정보 조회 중: 날짜=20241030\n",
      "mealService 응답코드: 200\n",
      "급식 데이터 수: 1\n",
      "7150622 세정고등학교\n",
      "급식 정보 조회 중: 날짜=20241030\n"
     ]
    },
    {
     "name": "stderr",
     "output_type": "stream",
     "text": [
      "[C10] 고등학교 급식 조회:  80%|████▊ | 115/143 [00:19<00:04,  5.67it/s]"
     ]
    },
    {
     "name": "stdout",
     "output_type": "stream",
     "text": [
      "mealService 응답코드: 200\n",
      "급식 데이터 수: 1\n",
      "7150428 센텀고등학교\n",
      "급식 정보 조회 중: 날짜=20241030\n",
      "mealService 응답코드: 200\n",
      "급식 데이터 수: 2\n"
     ]
    },
    {
     "name": "stderr",
     "output_type": "stream",
     "text": [
      "[C10] 고등학교 급식 조회:  82%|████▉ | 117/143 [00:20<00:04,  5.65it/s]"
     ]
    },
    {
     "name": "stdout",
     "output_type": "stream",
     "text": [
      "7150114 신도고등학교\n",
      "급식 정보 조회 중: 날짜=20241030\n",
      "mealService 응답코드: 200\n",
      "급식 데이터 수: 2\n",
      "7150452 신정고등학교\n",
      "급식 정보 조회 중: 날짜=20241030\n"
     ]
    },
    {
     "name": "stderr",
     "output_type": "stream",
     "text": [
      "[C10] 고등학교 급식 조회:  83%|████▉ | 118/143 [00:20<00:04,  5.73it/s]"
     ]
    },
    {
     "name": "stdout",
     "output_type": "stream",
     "text": [
      "mealService 응답코드: 200\n",
      "급식 데이터 수: 2\n",
      "7150115 양운고등학교\n",
      "급식 정보 조회 중: 날짜=20241030\n",
      "mealService 응답코드: 200\n",
      "급식 데이터 수: 2\n"
     ]
    },
    {
     "name": "stderr",
     "output_type": "stream",
     "text": [
      "[C10] 고등학교 급식 조회:  84%|█████ | 120/143 [00:20<00:03,  5.89it/s]"
     ]
    },
    {
     "name": "stdout",
     "output_type": "stream",
     "text": [
      "7150152 양정고등학교\n",
      "급식 정보 조회 중: 날짜=20241030\n",
      "mealService 응답코드: 200\n",
      "급식 데이터 수: 2\n",
      "7150405 연제고등학교\n",
      "급식 정보 조회 중: 날짜=20241030\n"
     ]
    },
    {
     "name": "stderr",
     "output_type": "stream",
     "text": [
      "[C10] 고등학교 급식 조회:  85%|█████ | 121/143 [00:20<00:03,  5.87it/s]"
     ]
    },
    {
     "name": "stdout",
     "output_type": "stream",
     "text": [
      "mealService 응답코드: 200\n",
      "급식 데이터 수: 2\n",
      "7150116 영도여자고등학교\n",
      "급식 정보 조회 중: 날짜=20241030\n",
      "mealService 응답코드: 200\n",
      "급식 데이터 수: 2\n"
     ]
    },
    {
     "name": "stderr",
     "output_type": "stream",
     "text": [
      "[C10] 고등학교 급식 조회:  86%|█████▏| 123/143 [00:21<00:03,  5.93it/s]"
     ]
    },
    {
     "name": "stdout",
     "output_type": "stream",
     "text": [
      "7150621 영산고등학교\n",
      "급식 정보 조회 중: 날짜=20241030\n",
      "mealService 응답코드: 200\n",
      "급식 데이터 수: 1\n",
      "7150153 예문여자고등학교\n",
      "급식 정보 조회 중: 날짜=20241030\n"
     ]
    },
    {
     "name": "stderr",
     "output_type": "stream",
     "text": [
      "[C10] 고등학교 급식 조회:  87%|█████▏| 124/143 [00:21<00:03,  5.66it/s]"
     ]
    },
    {
     "name": "stdout",
     "output_type": "stream",
     "text": [
      "mealService 응답코드: 200\n",
      "급식 데이터 수: 2\n",
      "7150154 용인고등학교\n",
      "급식 정보 조회 중: 날짜=20241030\n",
      "mealService 응답코드: 200\n",
      "급식 데이터 수: 2\n"
     ]
    },
    {
     "name": "stderr",
     "output_type": "stream",
     "text": [
      "[C10] 고등학교 급식 조회:  88%|█████▎| 126/143 [00:21<00:02,  5.90it/s]"
     ]
    },
    {
     "name": "stdout",
     "output_type": "stream",
     "text": [
      "7150344 이사벨고등학교\n",
      "급식 정보 조회 중: 날짜=20241030\n",
      "mealService 응답코드: 200\n",
      "급식 데이터 수: 2\n",
      "7150341 장안제일고등학교\n",
      "급식 정보 조회 중: 날짜=20241030\n"
     ]
    },
    {
     "name": "stderr",
     "output_type": "stream",
     "text": [
      "[C10] 고등학교 급식 조회:  89%|█████▎| 127/143 [00:22<00:02,  5.95it/s]"
     ]
    },
    {
     "name": "stdout",
     "output_type": "stream",
     "text": [
      "mealService 응답코드: 200\n",
      "급식 데이터 수: 3\n",
      "7150580 정관고등학교\n",
      "급식 정보 조회 중: 날짜=20241030\n",
      "mealService 응답코드: 200\n",
      "급식 데이터 수: 2\n"
     ]
    },
    {
     "name": "stderr",
     "output_type": "stream",
     "text": [
      "[C10] 고등학교 급식 조회:  90%|█████▍| 129/143 [00:22<00:02,  6.00it/s]"
     ]
    },
    {
     "name": "stdout",
     "output_type": "stream",
     "text": [
      "7150117 주례여자고등학교\n",
      "급식 정보 조회 중: 날짜=20241030\n",
      "mealService 응답코드: 200\n",
      "급식 데이터 수: 1\n",
      "7150157 지산고등학교\n",
      "급식 정보 조회 중: 날짜=20241030\n"
     ]
    },
    {
     "name": "stderr",
     "output_type": "stream",
     "text": [
      "[C10] 고등학교 급식 조회:  91%|█████▍| 130/143 [00:22<00:02,  5.99it/s]"
     ]
    },
    {
     "name": "stdout",
     "output_type": "stream",
     "text": [
      "mealService 응답코드: 200\n",
      "급식 데이터 수: 2\n",
      "7150118 충렬고등학교\n",
      "급식 정보 조회 중: 날짜=20241030\n",
      "mealService 응답코드: 200\n",
      "급식 데이터 수: 1\n"
     ]
    },
    {
     "name": "stderr",
     "output_type": "stream",
     "text": [
      "[C10] 고등학교 급식 조회:  92%|█████▌| 132/143 [00:22<00:01,  5.98it/s]"
     ]
    },
    {
     "name": "stdout",
     "output_type": "stream",
     "text": [
      "7150158 학산여자고등학교\n",
      "급식 정보 조회 중: 날짜=20241030\n",
      "mealService 응답코드: 200\n",
      "급식 데이터 수: 2\n",
      "7150400 한국과학영재학교\n",
      "급식 정보 조회 중: 날짜=20241030\n"
     ]
    },
    {
     "name": "stderr",
     "output_type": "stream",
     "text": [
      "[C10] 고등학교 급식 조회:  93%|█████▌| 133/143 [00:23<00:01,  5.91it/s]"
     ]
    },
    {
     "name": "stdout",
     "output_type": "stream",
     "text": [
      "mealService 응답코드: 200\n",
      "mealServiceDietInfo 키 없음: {'RESULT': {'CODE': 'INFO-200', 'MESSAGE': '해당하는 데이터가 없습니다.'}}\n",
      "7150579 한국조형예술고등학교\n",
      "급식 정보 조회 중: 날짜=20241030\n",
      "mealService 응답코드: 200\n",
      "급식 데이터 수: 3\n"
     ]
    },
    {
     "name": "stderr",
     "output_type": "stream",
     "text": [
      "[C10] 고등학교 급식 조회:  94%|█████▋| 135/143 [00:23<00:01,  5.80it/s]"
     ]
    },
    {
     "name": "stdout",
     "output_type": "stream",
     "text": [
      "7150598 한얼고등학교\n",
      "급식 정보 조회 중: 날짜=20241030\n",
      "mealService 응답코드: 200\n",
      "급식 데이터 수: 1\n",
      "7150404 해강고등학교\n",
      "급식 정보 조회 중: 날짜=20241030\n"
     ]
    },
    {
     "name": "stderr",
     "output_type": "stream",
     "text": [
      "[C10] 고등학교 급식 조회:  95%|█████▋| 136/143 [00:23<00:01,  5.88it/s]"
     ]
    },
    {
     "name": "stdout",
     "output_type": "stream",
     "text": [
      "mealService 응답코드: 200\n",
      "급식 데이터 수: 2\n",
      "7150159 해동고등학교\n",
      "급식 정보 조회 중: 날짜=20241030\n",
      "mealService 응답코드: 200\n",
      "급식 데이터 수: 2\n"
     ]
    },
    {
     "name": "stderr",
     "output_type": "stream",
     "text": [
      "[C10] 고등학교 급식 조회:  97%|█████▊| 138/143 [00:23<00:00,  5.90it/s]"
     ]
    },
    {
     "name": "stdout",
     "output_type": "stream",
     "text": [
      "7150160 해운대고등학교\n",
      "급식 정보 조회 중: 날짜=20241030\n",
      "mealService 응답코드: 200\n",
      "급식 데이터 수: 3\n",
      "7150367 해운대관광고등학교\n",
      "급식 정보 조회 중: 날짜=20241030\n"
     ]
    },
    {
     "name": "stderr",
     "output_type": "stream",
     "text": [
      "[C10] 고등학교 급식 조회:  97%|█████▊| 139/143 [00:24<00:00,  5.85it/s]"
     ]
    },
    {
     "name": "stdout",
     "output_type": "stream",
     "text": [
      "mealService 응답코드: 200\n",
      "급식 데이터 수: 1\n",
      "7150161 해운대여자고등학교\n",
      "급식 정보 조회 중: 날짜=20241030\n",
      "mealService 응답코드: 200\n",
      "급식 데이터 수: 2\n"
     ]
    },
    {
     "name": "stderr",
     "output_type": "stream",
     "text": [
      "[C10] 고등학교 급식 조회:  99%|█████▉| 141/143 [00:24<00:00,  5.80it/s]"
     ]
    },
    {
     "name": "stdout",
     "output_type": "stream",
     "text": [
      "7150162 혜광고등학교\n",
      "급식 정보 조회 중: 날짜=20241030\n",
      "mealService 응답코드: 200\n",
      "급식 데이터 수: 2\n",
      "7150163 혜화여자고등학교\n",
      "급식 정보 조회 중: 날짜=20241030\n"
     ]
    },
    {
     "name": "stderr",
     "output_type": "stream",
     "text": [
      "[C10] 고등학교 급식 조회:  99%|█████▉| 142/143 [00:24<00:00,  5.90it/s]"
     ]
    },
    {
     "name": "stdout",
     "output_type": "stream",
     "text": [
      "mealService 응답코드: 200\n",
      "급식 데이터 수: 2\n",
      "7150364 화명고등학교\n",
      "급식 정보 조회 중: 날짜=20241030\n",
      "mealService 응답코드: 200\n",
      "급식 데이터 수: 2\n"
     ]
    },
    {
     "name": "stderr",
     "output_type": "stream",
     "text": [
      "[C10] 고등학교 급식 조회: 100%|██████| 143/143 [00:24<00:00,  5.79it/s]\n"
     ]
    },
    {
     "name": "stdout",
     "output_type": "stream",
     "text": [
      "응답코드 : 200\n"
     ]
    },
    {
     "name": "stderr",
     "output_type": "stream",
     "text": [
      "[D10] 고등학교 급식 조회:   1%|         | 1/97 [00:00<00:16,  5.87it/s]"
     ]
    },
    {
     "name": "stdout",
     "output_type": "stream",
     "text": [
      "7240223 강동고등학교\n",
      "급식 정보 조회 중: 날짜=20241030\n",
      "mealService 응답코드: 200\n",
      "급식 데이터 수: 1\n",
      "7240068 강북고등학교\n",
      "급식 정보 조회 중: 날짜=20241030\n"
     ]
    },
    {
     "name": "stderr",
     "output_type": "stream",
     "text": [
      "[D10] 고등학교 급식 조회:   2%|▏        | 2/97 [00:00<00:15,  5.94it/s]"
     ]
    },
    {
     "name": "stdout",
     "output_type": "stream",
     "text": [
      "mealService 응답코드: 200\n",
      "급식 데이터 수: 1\n",
      "7240053 경덕여자고등학교\n",
      "급식 정보 조회 중: 날짜=20241030\n",
      "mealService 응답코드: 200\n",
      "급식 데이터 수: 1\n"
     ]
    },
    {
     "name": "stderr",
     "output_type": "stream",
     "text": [
      "[D10] 고등학교 급식 조회:   4%|▎        | 4/97 [00:00<00:15,  6.04it/s]"
     ]
    },
    {
     "name": "stdout",
     "output_type": "stream",
     "text": [
      "7240069 경명여자고등학교\n",
      "급식 정보 조회 중: 날짜=20241030\n",
      "mealService 응답코드: 200\n",
      "mealServiceDietInfo 키 없음: {'RESULT': {'CODE': 'INFO-200', 'MESSAGE': '해당하는 데이터가 없습니다.'}}\n",
      "7240054 경북고등학교\n",
      "급식 정보 조회 중: 날짜=20241030\n"
     ]
    },
    {
     "name": "stderr",
     "output_type": "stream",
     "text": [
      "[D10] 고등학교 급식 조회:   5%|▍        | 5/97 [00:00<00:15,  6.08it/s]"
     ]
    },
    {
     "name": "stdout",
     "output_type": "stream",
     "text": [
      "mealService 응답코드: 200\n",
      "급식 데이터 수: 1\n",
      "7240123 경북공업고등학교\n",
      "급식 정보 조회 중: 날짜=20241030\n",
      "mealService 응답코드: 200\n",
      "mealServiceDietInfo 키 없음: {'RESULT': {'CODE': 'INFO-200', 'MESSAGE': '해당하는 데이터가 없습니다.'}}\n"
     ]
    },
    {
     "name": "stderr",
     "output_type": "stream",
     "text": [
      "[D10] 고등학교 급식 조회:   7%|▋        | 7/97 [00:01<00:15,  5.99it/s]"
     ]
    },
    {
     "name": "stdout",
     "output_type": "stream",
     "text": [
      "7240107 경북기계공업고등학교\n",
      "급식 정보 조회 중: 날짜=20241030\n",
      "mealService 응답코드: 200\n",
      "급식 데이터 수: 3\n"
     ]
    },
    {
     "name": "stderr",
     "output_type": "stream",
     "text": [
      "[D10] 고등학교 급식 조회:   8%|▋        | 8/97 [00:01<00:14,  5.96it/s]"
     ]
    },
    {
     "name": "stdout",
     "output_type": "stream",
     "text": [
      "7004180 경북대학교사범대학부설고등학교\n",
      "급식 정보 조회 중: 날짜=20241030\n",
      "mealService 응답코드: 200\n",
      "급식 데이터 수: 1\n",
      "7240055 경북여자고등학교\n",
      "급식 정보 조회 중: 날짜=20241030\n"
     ]
    },
    {
     "name": "stderr",
     "output_type": "stream",
     "text": [
      "[D10] 고등학교 급식 조회:   9%|▊        | 9/97 [00:01<00:15,  5.87it/s]"
     ]
    },
    {
     "name": "stdout",
     "output_type": "stream",
     "text": [
      "mealService 응답코드: 200\n",
      "급식 데이터 수: 1\n",
      "7240296 경북여자상업고등학교\n",
      "급식 정보 조회 중: 날짜=20241030\n",
      "mealService 응답코드: 200\n",
      "급식 데이터 수: 1\n"
     ]
    },
    {
     "name": "stderr",
     "output_type": "stream",
     "text": [
      "[D10] 고등학교 급식 조회:  11%|▉       | 11/97 [00:01<00:15,  5.67it/s]"
     ]
    },
    {
     "name": "stdout",
     "output_type": "stream",
     "text": [
      "7240070 경북예술고등학교\n",
      "급식 정보 조회 중: 날짜=20241030\n",
      "mealService 응답코드: 200\n",
      "mealServiceDietInfo 키 없음: {'RESULT': {'CODE': 'INFO-200', 'MESSAGE': '해당하는 데이터가 없습니다.'}}\n"
     ]
    },
    {
     "name": "stderr",
     "output_type": "stream",
     "text": [
      "[D10] 고등학교 급식 조회:  12%|▉       | 12/97 [00:02<00:14,  5.80it/s]"
     ]
    },
    {
     "name": "stdout",
     "output_type": "stream",
     "text": [
      "7240071 경상고등학교\n",
      "급식 정보 조회 중: 날짜=20241030\n",
      "mealService 응답코드: 200\n",
      "급식 데이터 수: 2\n",
      "7240126 경상공업고등학교\n",
      "급식 정보 조회 중: 날짜=20241030\n"
     ]
    },
    {
     "name": "stderr",
     "output_type": "stream",
     "text": [
      "[D10] 고등학교 급식 조회:  13%|█       | 13/97 [00:02<00:14,  5.90it/s]"
     ]
    },
    {
     "name": "stdout",
     "output_type": "stream",
     "text": [
      "mealService 응답코드: 200\n",
      "급식 데이터 수: 1\n",
      "7240072 경상여자고등학교\n",
      "급식 정보 조회 중: 날짜=20241030\n",
      "mealService 응답코드: 200\n",
      "급식 데이터 수: 1\n"
     ]
    },
    {
     "name": "stderr",
     "output_type": "stream",
     "text": [
      "[D10] 고등학교 급식 조회:  15%|█▏      | 15/97 [00:02<00:13,  5.89it/s]"
     ]
    },
    {
     "name": "stdout",
     "output_type": "stream",
     "text": [
      "7240073 경신고등학교\n",
      "급식 정보 조회 중: 날짜=20241030\n",
      "mealService 응답코드: 200\n",
      "급식 데이터 수: 1\n",
      "7240074 경원고등학교\n",
      "급식 정보 조회 중: 날짜=20241030\n"
     ]
    },
    {
     "name": "stderr",
     "output_type": "stream",
     "text": [
      "[D10] 고등학교 급식 조회:  16%|█▎      | 16/97 [00:02<00:14,  5.63it/s]"
     ]
    },
    {
     "name": "stdout",
     "output_type": "stream",
     "text": [
      "mealService 응답코드: 200\n",
      "급식 데이터 수: 1\n",
      "7240075 경일여자고등학교\n",
      "급식 정보 조회 중: 날짜=20241030\n",
      "mealService 응답코드: 200\n",
      "급식 데이터 수: 1\n"
     ]
    },
    {
     "name": "stderr",
     "output_type": "stream",
     "text": [
      "[D10] 고등학교 급식 조회:  19%|█▍      | 18/97 [00:03<00:13,  5.78it/s]"
     ]
    },
    {
     "name": "stdout",
     "output_type": "stream",
     "text": [
      "7240076 경화여자고등학교\n",
      "급식 정보 조회 중: 날짜=20241030\n",
      "mealService 응답코드: 200\n",
      "급식 데이터 수: 1\n",
      "7240078 계성고등학교\n",
      "급식 정보 조회 중: 날짜=20241030\n"
     ]
    },
    {
     "name": "stderr",
     "output_type": "stream",
     "text": [
      "[D10] 고등학교 급식 조회:  20%|█▌      | 19/97 [00:03<00:13,  5.86it/s]"
     ]
    },
    {
     "name": "stdout",
     "output_type": "stream",
     "text": [
      "mealService 응답코드: 200\n",
      "급식 데이터 수: 3\n",
      "7240056 구암고등학교\n",
      "급식 정보 조회 중: 날짜=20241030\n",
      "mealService 응답코드: 200\n",
      "급식 데이터 수: 1\n"
     ]
    },
    {
     "name": "stderr",
     "output_type": "stream",
     "text": [
      "[D10] 고등학교 급식 조회:  22%|█▋      | 21/97 [00:03<00:12,  5.99it/s]"
     ]
    },
    {
     "name": "stdout",
     "output_type": "stream",
     "text": [
      "7240459 군위고등학교\n",
      "급식 정보 조회 중: 날짜=20241030\n",
      "mealService 응답코드: 200\n",
      "급식 데이터 수: 3\n",
      "7240080 능인고등학교\n",
      "급식 정보 조회 중: 날짜=20241030\n"
     ]
    },
    {
     "name": "stderr",
     "output_type": "stream",
     "text": [
      "[D10] 고등학교 급식 조회:  23%|█▊      | 22/97 [00:03<00:13,  5.73it/s]"
     ]
    },
    {
     "name": "stdout",
     "output_type": "stream",
     "text": [
      "mealService 응답코드: 200\n",
      "급식 데이터 수: 1\n",
      "7240057 다사고등학교\n",
      "급식 정보 조회 중: 날짜=20241030\n",
      "mealService 응답코드: 200\n",
      "급식 데이터 수: 3\n"
     ]
    },
    {
     "name": "stderr",
     "output_type": "stream",
     "text": [
      "[D10] 고등학교 급식 조회:  25%|█▉      | 24/97 [00:04<00:12,  5.84it/s]"
     ]
    },
    {
     "name": "stdout",
     "output_type": "stream",
     "text": [
      "7240224 달구벌고등학교\n",
      "급식 정보 조회 중: 날짜=20241030\n",
      "mealService 응답코드: 200\n",
      "급식 데이터 수: 3\n",
      "7240081 달서고등학교\n",
      "급식 정보 조회 중: 날짜=20241030\n"
     ]
    },
    {
     "name": "stderr",
     "output_type": "stream",
     "text": [
      "[D10] 고등학교 급식 조회:  26%|██      | 25/97 [00:04<00:12,  5.91it/s]"
     ]
    },
    {
     "name": "stdout",
     "output_type": "stream",
     "text": [
      "mealService 응답코드: 200\n",
      "급식 데이터 수: 2\n",
      "7240058 달성고등학교\n",
      "급식 정보 조회 중: 날짜=20241030\n",
      "mealService 응답코드: 200\n",
      "급식 데이터 수: 1\n"
     ]
    },
    {
     "name": "stderr",
     "output_type": "stream",
     "text": [
      "[D10] 고등학교 급식 조회:  28%|██▏     | 27/97 [00:04<00:11,  5.91it/s]"
     ]
    },
    {
     "name": "stdout",
     "output_type": "stream",
     "text": [
      "7240082 대건고등학교\n",
      "급식 정보 조회 중: 날짜=20241030\n",
      "mealService 응답코드: 200\n",
      "급식 데이터 수: 3\n",
      "7240205 대곡고등학교\n",
      "급식 정보 조회 중: 날짜=20241030\n"
     ]
    },
    {
     "name": "stderr",
     "output_type": "stream",
     "text": [
      "[D10] 고등학교 급식 조회:  29%|██▎     | 28/97 [00:04<00:11,  6.00it/s]"
     ]
    },
    {
     "name": "stdout",
     "output_type": "stream",
     "text": [
      "mealService 응답코드: 200\n",
      "급식 데이터 수: 1\n",
      "7240059 대구고등학교\n",
      "급식 정보 조회 중: 날짜=20241030\n",
      "mealService 응답코드: 200\n",
      "급식 데이터 수: 1\n"
     ]
    },
    {
     "name": "stderr",
     "output_type": "stream",
     "text": [
      "[D10] 고등학교 급식 조회:  31%|██▍     | 30/97 [00:05<00:11,  5.97it/s]"
     ]
    },
    {
     "name": "stdout",
     "output_type": "stream",
     "text": [
      "7240111 대구공업고등학교\n",
      "급식 정보 조회 중: 날짜=20241030\n",
      "mealService 응답코드: 200\n",
      "급식 데이터 수: 1\n",
      "7240453 대구공업고등학교 테크노폴리스 캠퍼스\n",
      "급식 정보 조회 중: 날짜=20241030\n"
     ]
    },
    {
     "name": "stderr",
     "output_type": "stream",
     "text": [
      "[D10] 고등학교 급식 조회:  32%|██▌     | 31/97 [00:05<00:11,  5.93it/s]"
     ]
    },
    {
     "name": "stdout",
     "output_type": "stream",
     "text": [
      "mealService 응답코드: 200\n",
      "급식 데이터 수: 1\n",
      "7240060 대구과학고등학교\n",
      "급식 정보 조회 중: 날짜=20241030\n",
      "mealService 응답코드: 200\n",
      "급식 데이터 수: 3\n"
     ]
    },
    {
     "name": "stderr",
     "output_type": "stream",
     "text": [
      "[D10] 고등학교 급식 조회:  34%|██▋     | 33/97 [00:05<00:10,  5.86it/s]"
     ]
    },
    {
     "name": "stdout",
     "output_type": "stream",
     "text": [
      "7240452 대구과학기술고등학교\n",
      "급식 정보 조회 중: 날짜=20241030\n",
      "mealService 응답코드: 200\n",
      "급식 데이터 수: 1\n",
      "7240219 대구관광고등학교\n",
      "급식 정보 조회 중: 날짜=20241030\n"
     ]
    },
    {
     "name": "stderr",
     "output_type": "stream",
     "text": [
      "[D10] 고등학교 급식 조회:  35%|██▊     | 34/97 [00:05<00:10,  5.80it/s]"
     ]
    },
    {
     "name": "stdout",
     "output_type": "stream",
     "text": [
      "mealService 응답코드: 200\n",
      "급식 데이터 수: 1\n",
      "7240450 대구국제고등학교\n",
      "급식 정보 조회 중: 날짜=20241030\n",
      "mealService 응답코드: 200\n",
      "급식 데이터 수: 3\n"
     ]
    },
    {
     "name": "stderr",
     "output_type": "stream",
     "text": [
      "[D10] 고등학교 급식 조회:  37%|██▉     | 36/97 [00:06<00:10,  5.83it/s]"
     ]
    },
    {
     "name": "stdout",
     "output_type": "stream",
     "text": [
      "7240213 대구남산고등학교\n",
      "급식 정보 조회 중: 날짜=20241030\n",
      "mealService 응답코드: 200\n",
      "급식 데이터 수: 1\n",
      "7240400 대구농업마이스터고등학교\n",
      "급식 정보 조회 중: 날짜=20241030\n"
     ]
    },
    {
     "name": "stderr",
     "output_type": "stream",
     "text": [
      "[D10] 고등학교 급식 조회:  38%|███     | 37/97 [00:06<00:10,  5.66it/s]"
     ]
    },
    {
     "name": "stdout",
     "output_type": "stream",
     "text": [
      "mealService 응답코드: 200\n",
      "급식 데이터 수: 3\n",
      "7240217 대구동부고등학교\n",
      "급식 정보 조회 중: 날짜=20241030\n",
      "mealService 응답코드: 200\n",
      "급식 데이터 수: 1\n"
     ]
    },
    {
     "name": "stderr",
     "output_type": "stream",
     "text": [
      "[D10] 고등학교 급식 조회:  40%|███▏    | 39/97 [00:06<00:10,  5.62it/s]"
     ]
    },
    {
     "name": "stdout",
     "output_type": "stream",
     "text": [
      "7240514 대구반도체마이스터고등학교\n",
      "급식 정보 조회 중: 날짜=20241030\n",
      "mealService 응답코드: 200\n",
      "mealServiceDietInfo 키 없음: {'RESULT': {'CODE': 'INFO-200', 'MESSAGE': '해당하는 데이터가 없습니다.'}}\n",
      "7240401 대구보건고등학교\n",
      "급식 정보 조회 중: 날짜=20241030\n"
     ]
    },
    {
     "name": "stderr",
     "output_type": "stream",
     "text": [
      "[D10] 고등학교 급식 조회:  41%|███▎    | 40/97 [00:06<00:09,  5.78it/s]"
     ]
    },
    {
     "name": "stdout",
     "output_type": "stream",
     "text": [
      "mealService 응답코드: 200\n",
      "급식 데이터 수: 1\n",
      "7240215 대구상원고등학교\n",
      "급식 정보 조회 중: 날짜=20241030\n",
      "mealService 응답코드: 200\n",
      "급식 데이터 수: 1\n"
     ]
    },
    {
     "name": "stderr",
     "output_type": "stream",
     "text": [
      "[D10] 고등학교 급식 조회:  43%|███▍    | 42/97 [00:07<00:09,  5.87it/s]"
     ]
    },
    {
     "name": "stdout",
     "output_type": "stream",
     "text": [
      "7240061 대구서부고등학교\n",
      "급식 정보 조회 중: 날짜=20241030\n",
      "mealService 응답코드: 200\n",
      "급식 데이터 수: 1\n",
      "7240454 대구소프트웨어마이스터고등학교\n",
      "급식 정보 조회 중: 날짜=20241030\n"
     ]
    },
    {
     "name": "stderr",
     "output_type": "stream",
     "text": [
      "[D10] 고등학교 급식 조회:  44%|███▌    | 43/97 [00:07<00:09,  5.89it/s]"
     ]
    },
    {
     "name": "stdout",
     "output_type": "stream",
     "text": [
      "mealService 응답코드: 200\n",
      "급식 데이터 수: 3\n",
      "7240062 대구여자고등학교\n",
      "급식 정보 조회 중: 날짜=20241030\n",
      "mealService 응답코드: 200\n",
      "급식 데이터 수: 1\n"
     ]
    },
    {
     "name": "stderr",
     "output_type": "stream",
     "text": [
      "[D10] 고등학교 급식 조회:  46%|███▋    | 45/97 [00:07<00:08,  5.92it/s]"
     ]
    },
    {
     "name": "stdout",
     "output_type": "stream",
     "text": [
      "7240295 대구여자상업고등학교\n",
      "급식 정보 조회 중: 날짜=20241030\n",
      "mealService 응답코드: 200\n",
      "급식 데이터 수: 1\n",
      "7240063 대구외국어고등학교\n",
      "급식 정보 조회 중: 날짜=20241030\n"
     ]
    },
    {
     "name": "stderr",
     "output_type": "stream",
     "text": [
      "[D10] 고등학교 급식 조회:  47%|███▊    | 46/97 [00:07<00:08,  5.99it/s]"
     ]
    },
    {
     "name": "stdout",
     "output_type": "stream",
     "text": [
      "mealService 응답코드: 200\n",
      "급식 데이터 수: 3\n",
      "7240331 대구일과학고등학교\n",
      "급식 정보 조회 중: 날짜=20241030\n",
      "mealService 응답코드: 200\n",
      "급식 데이터 수: 3\n"
     ]
    },
    {
     "name": "stderr",
     "output_type": "stream",
     "text": [
      "[D10] 고등학교 급식 조회:  49%|███▉    | 48/97 [00:08<00:08,  5.79it/s]"
     ]
    },
    {
     "name": "stdout",
     "output_type": "stream",
     "text": [
      "7240372 대구일마이스터고등학교\n",
      "급식 정보 조회 중: 날짜=20241030\n",
      "mealService 응답코드: 200\n",
      "급식 데이터 수: 3\n",
      "7240183 대구제일고등학교\n",
      "급식 정보 조회 중: 날짜=20241030\n"
     ]
    },
    {
     "name": "stderr",
     "output_type": "stream",
     "text": [
      "[D10] 고등학교 급식 조회:  51%|████    | 49/97 [00:08<00:08,  5.89it/s]"
     ]
    },
    {
     "name": "stdout",
     "output_type": "stream",
     "text": [
      "mealService 응답코드: 200\n",
      "mealServiceDietInfo 키 없음: {'RESULT': {'CODE': 'INFO-200', 'MESSAGE': '해당하는 데이터가 없습니다.'}}\n",
      "7240293 대구제일여자상업고등학교\n",
      "급식 정보 조회 중: 날짜=20241030\n",
      "mealService 응답코드: 200\n",
      "급식 데이터 수: 1\n"
     ]
    },
    {
     "name": "stderr",
     "output_type": "stream",
     "text": [
      "[D10] 고등학교 급식 조회:  53%|████▏   | 51/97 [00:08<00:07,  6.00it/s]"
     ]
    },
    {
     "name": "stdout",
     "output_type": "stream",
     "text": [
      "7240294 대구중앙고등학교\n",
      "급식 정보 조회 중: 날짜=20241030\n",
      "mealService 응답코드: 200\n",
      "급식 데이터 수: 1\n",
      "7240206 대구체육고등학교\n",
      "급식 정보 조회 중: 날짜=20241030\n"
     ]
    },
    {
     "name": "stderr",
     "output_type": "stream",
     "text": [
      "[D10] 고등학교 급식 조회:  54%|████▎   | 52/97 [00:08<00:07,  6.04it/s]"
     ]
    },
    {
     "name": "stdout",
     "output_type": "stream",
     "text": [
      "mealService 응답코드: 200\n",
      "급식 데이터 수: 3\n",
      "7240462 대구하이텍고등학교\n",
      "급식 정보 조회 중: 날짜=20241030\n",
      "mealService 응답코드: 200\n",
      "급식 데이터 수: 1\n"
     ]
    },
    {
     "name": "stderr",
     "output_type": "stream",
     "text": [
      "[D10] 고등학교 급식 조회:  56%|████▍   | 54/97 [00:09<00:07,  6.04it/s]"
     ]
    },
    {
     "name": "stdout",
     "output_type": "stream",
     "text": [
      "7240084 대구혜화여자고등학교\n",
      "급식 정보 조회 중: 날짜=20241030\n",
      "mealService 응답코드: 200\n",
      "급식 데이터 수: 1\n",
      "7240085 대륜고등학교\n",
      "급식 정보 조회 중: 날짜=20241030\n"
     ]
    },
    {
     "name": "stderr",
     "output_type": "stream",
     "text": [
      "[D10] 고등학교 급식 조회:  57%|████▌   | 55/97 [00:09<00:07,  5.91it/s]"
     ]
    },
    {
     "name": "stdout",
     "output_type": "stream",
     "text": [
      "mealService 응답코드: 200\n",
      "급식 데이터 수: 1\n",
      "7240216 대원고등학교\n",
      "급식 정보 조회 중: 날짜=20241030\n",
      "mealService 응답코드: 200\n",
      "급식 데이터 수: 1\n"
     ]
    },
    {
     "name": "stderr",
     "output_type": "stream",
     "text": [
      "[D10] 고등학교 급식 조회:  59%|████▋   | 57/97 [00:09<00:06,  5.94it/s]"
     ]
    },
    {
     "name": "stdout",
     "output_type": "stream",
     "text": [
      "7240133 대중금속공업고등학교\n",
      "급식 정보 조회 중: 날짜=20241030\n",
      "mealService 응답코드: 200\n",
      "급식 데이터 수: 3\n",
      "7240271 대진고등학교\n",
      "급식 정보 조회 중: 날짜=20241030\n"
     ]
    },
    {
     "name": "stderr",
     "output_type": "stream",
     "text": [
      "[D10] 고등학교 급식 조회:  60%|████▊   | 58/97 [00:09<00:06,  5.94it/s]"
     ]
    },
    {
     "name": "stdout",
     "output_type": "stream",
     "text": [
      "mealService 응답코드: 200\n",
      "급식 데이터 수: 1\n",
      "7240086 덕원고등학교\n",
      "급식 정보 조회 중: 날짜=20241030\n",
      "mealService 응답코드: 200\n",
      "급식 데이터 수: 1\n"
     ]
    },
    {
     "name": "stderr",
     "output_type": "stream",
     "text": [
      "[D10] 고등학교 급식 조회:  62%|████▉   | 60/97 [00:10<00:06,  5.90it/s]"
     ]
    },
    {
     "name": "stdout",
     "output_type": "stream",
     "text": [
      "7240203 도원고등학교\n",
      "급식 정보 조회 중: 날짜=20241030\n",
      "mealService 응답코드: 200\n",
      "급식 데이터 수: 1\n",
      "7240222 동문고등학교\n",
      "급식 정보 조회 중: 날짜=20241030\n"
     ]
    },
    {
     "name": "stderr",
     "output_type": "stream",
     "text": [
      "[D10] 고등학교 급식 조회:  63%|█████   | 61/97 [00:10<00:06,  5.77it/s]"
     ]
    },
    {
     "name": "stdout",
     "output_type": "stream",
     "text": [
      "mealService 응답코드: 200\n",
      "급식 데이터 수: 1\n",
      "7240272 매천고등학교\n",
      "급식 정보 조회 중: 날짜=20241030\n",
      "mealService 응답코드: 200\n",
      "mealServiceDietInfo 키 없음: {'RESULT': {'CODE': 'INFO-200', 'MESSAGE': '해당하는 데이터가 없습니다.'}}\n"
     ]
    },
    {
     "name": "stderr",
     "output_type": "stream",
     "text": [
      "[D10] 고등학교 급식 조회:  65%|█████▏  | 63/97 [00:10<00:05,  5.96it/s]"
     ]
    },
    {
     "name": "stdout",
     "output_type": "stream",
     "text": [
      "7240394 비슬고등학교\n",
      "급식 정보 조회 중: 날짜=20241030\n",
      "mealService 응답코드: 200\n",
      "급식 데이터 수: 1\n",
      "7240356 상서고등학교\n",
      "급식 정보 조회 중: 날짜=20241030\n"
     ]
    },
    {
     "name": "stderr",
     "output_type": "stream",
     "text": [
      "[D10] 고등학교 급식 조회:  66%|█████▎  | 64/97 [00:10<00:05,  5.75it/s]"
     ]
    },
    {
     "name": "stdout",
     "output_type": "stream",
     "text": [
      "mealService 응답코드: 200\n",
      "급식 데이터 수: 1\n",
      "7240187 상인고등학교\n",
      "급식 정보 조회 중: 날짜=20241030\n",
      "mealService 응답코드: 200\n",
      "급식 데이터 수: 1\n"
     ]
    },
    {
     "name": "stderr",
     "output_type": "stream",
     "text": [
      "[D10] 고등학교 급식 조회:  68%|█████▍  | 66/97 [00:11<00:05,  5.86it/s]"
     ]
    },
    {
     "name": "stdout",
     "output_type": "stream",
     "text": [
      "7240090 성광고등학교\n",
      "급식 정보 조회 중: 날짜=20241030\n",
      "mealService 응답코드: 200\n",
      "급식 데이터 수: 1\n",
      "7240204 성산고등학교\n",
      "급식 정보 조회 중: 날짜=20241030\n"
     ]
    },
    {
     "name": "stderr",
     "output_type": "stream",
     "text": [
      "[D10] 고등학교 급식 조회:  69%|█████▌  | 67/97 [00:11<00:05,  5.84it/s]"
     ]
    },
    {
     "name": "stdout",
     "output_type": "stream",
     "text": [
      "mealService 응답코드: 200\n",
      "급식 데이터 수: 1\n",
      "7240064 성서고등학교\n",
      "급식 정보 조회 중: 날짜=20241030\n",
      "mealService 응답코드: 200\n",
      "급식 데이터 수: 1\n"
     ]
    },
    {
     "name": "stderr",
     "output_type": "stream",
     "text": [
      "[D10] 고등학교 급식 조회:  71%|█████▋  | 69/97 [00:11<00:04,  5.96it/s]"
     ]
    },
    {
     "name": "stdout",
     "output_type": "stream",
     "text": [
      "7240091 성화여자고등학교\n",
      "급식 정보 조회 중: 날짜=20241030\n",
      "mealService 응답코드: 200\n",
      "급식 데이터 수: 1\n",
      "7240092 송현여자고등학교\n",
      "급식 정보 조회 중: 날짜=20241030\n"
     ]
    },
    {
     "name": "stderr",
     "output_type": "stream",
     "text": [
      "[D10] 고등학교 급식 조회:  72%|█████▊  | 70/97 [00:11<00:04,  6.02it/s]"
     ]
    },
    {
     "name": "stdout",
     "output_type": "stream",
     "text": [
      "mealService 응답코드: 200\n",
      "급식 데이터 수: 1\n",
      "7240259 수성고등학교\n",
      "급식 정보 조회 중: 날짜=20241030\n",
      "mealService 응답코드: 200\n",
      "급식 데이터 수: 1\n"
     ]
    },
    {
     "name": "stderr",
     "output_type": "stream",
     "text": [
      "[D10] 고등학교 급식 조회:  74%|█████▉  | 72/97 [00:12<00:04,  6.17it/s]"
     ]
    },
    {
     "name": "stdout",
     "output_type": "stream",
     "text": [
      "7240065 시지고등학교\n",
      "급식 정보 조회 중: 날짜=20241030\n",
      "mealService 응답코드: 200\n",
      "급식 데이터 수: 1\n",
      "7240218 신명고등학교\n",
      "급식 정보 조회 중: 날짜=20241030\n"
     ]
    },
    {
     "name": "stderr",
     "output_type": "stream",
     "text": [
      "[D10] 고등학교 급식 조회:  75%|██████  | 73/97 [00:12<00:03,  6.12it/s]"
     ]
    },
    {
     "name": "stdout",
     "output_type": "stream",
     "text": [
      "mealService 응답코드: 200\n",
      "급식 데이터 수: 1\n",
      "7240094 심인고등학교\n",
      "급식 정보 조회 중: 날짜=20241030\n",
      "mealService 응답코드: 200\n",
      "급식 데이터 수: 1\n"
     ]
    },
    {
     "name": "stderr",
     "output_type": "stream",
     "text": [
      "[D10] 고등학교 급식 조회:  77%|██████▏ | 75/97 [00:12<00:03,  6.03it/s]"
     ]
    },
    {
     "name": "stdout",
     "output_type": "stream",
     "text": [
      "7240095 영남고등학교\n",
      "급식 정보 조회 중: 날짜=20241030\n",
      "mealService 응답코드: 200\n",
      "급식 데이터 수: 2\n",
      "7240144 영남공업고등학교\n",
      "급식 정보 조회 중: 날짜=20241030\n"
     ]
    },
    {
     "name": "stderr",
     "output_type": "stream",
     "text": [
      "[D10] 고등학교 급식 조회:  78%|██████▎ | 76/97 [00:12<00:03,  6.09it/s]"
     ]
    },
    {
     "name": "stdout",
     "output_type": "stream",
     "text": [
      "mealService 응답코드: 200\n",
      "급식 데이터 수: 1\n",
      "7240096 영송여자고등학교\n",
      "급식 정보 조회 중: 날짜=20241030\n",
      "mealService 응답코드: 200\n",
      "급식 데이터 수: 1\n"
     ]
    },
    {
     "name": "stderr",
     "output_type": "stream",
     "text": [
      "[D10] 고등학교 급식 조회:  80%|██████▍ | 78/97 [00:13<00:03,  6.08it/s]"
     ]
    },
    {
     "name": "stdout",
     "output_type": "stream",
     "text": [
      "7240097 영신고등학교\n",
      "급식 정보 조회 중: 날짜=20241030\n",
      "mealService 응답코드: 200\n",
      "급식 데이터 수: 3\n",
      "7240098 영진고등학교\n",
      "급식 정보 조회 중: 날짜=20241030\n"
     ]
    },
    {
     "name": "stderr",
     "output_type": "stream",
     "text": [
      "[D10] 고등학교 급식 조회:  81%|██████▌ | 79/97 [00:13<00:02,  6.13it/s]"
     ]
    },
    {
     "name": "stdout",
     "output_type": "stream",
     "text": [
      "mealService 응답코드: 200\n",
      "급식 데이터 수: 1\n",
      "7240099 오성고등학교\n",
      "급식 정보 조회 중: 날짜=20241030\n",
      "mealService 응답코드: 200\n",
      "급식 데이터 수: 1\n"
     ]
    },
    {
     "name": "stderr",
     "output_type": "stream",
     "text": [
      "[D10] 고등학교 급식 조회:  84%|██████▋ | 81/97 [00:13<00:02,  6.10it/s]"
     ]
    },
    {
     "name": "stdout",
     "output_type": "stream",
     "text": [
      "7240182 와룡고등학교\n",
      "급식 정보 조회 중: 날짜=20241030\n",
      "mealService 응답코드: 200\n",
      "급식 데이터 수: 1\n",
      "7240188 운암고등학교\n",
      "급식 정보 조회 중: 날짜=20241030\n"
     ]
    },
    {
     "name": "stderr",
     "output_type": "stream",
     "text": [
      "[D10] 고등학교 급식 조회:  85%|██████▊ | 82/97 [00:13<00:02,  6.14it/s]"
     ]
    },
    {
     "name": "stdout",
     "output_type": "stream",
     "text": [
      "mealService 응답코드: 200\n",
      "급식 데이터 수: 1\n",
      "7240100 원화여자고등학교\n",
      "급식 정보 조회 중: 날짜=20241030\n",
      "mealService 응답코드: 200\n",
      "급식 데이터 수: 1\n"
     ]
    },
    {
     "name": "stderr",
     "output_type": "stream",
     "text": [
      "[D10] 고등학교 급식 조회:  87%|██████▉ | 84/97 [00:14<00:02,  6.04it/s]"
     ]
    },
    {
     "name": "stdout",
     "output_type": "stream",
     "text": [
      "7240101 정동고등학교\n",
      "급식 정보 조회 중: 날짜=20241030\n",
      "mealService 응답코드: 200\n",
      "급식 데이터 수: 1\n",
      "7240102 정화여자고등학교\n",
      "급식 정보 조회 중: 날짜=20241030\n"
     ]
    },
    {
     "name": "stderr",
     "output_type": "stream",
     "text": [
      "[D10] 고등학교 급식 조회:  88%|███████ | 85/97 [00:14<00:01,  6.03it/s]"
     ]
    },
    {
     "name": "stdout",
     "output_type": "stream",
     "text": [
      "mealService 응답코드: 200\n",
      "급식 데이터 수: 1\n",
      "7240402 조일고등학교\n",
      "급식 정보 조회 중: 날짜=20241030\n",
      "mealService 응답코드: 200\n",
      "급식 데이터 수: 1\n"
     ]
    },
    {
     "name": "stderr",
     "output_type": "stream",
     "text": [
      "[D10] 고등학교 급식 조회:  90%|███████▏| 87/97 [00:14<00:01,  6.11it/s]"
     ]
    },
    {
     "name": "stdout",
     "output_type": "stream",
     "text": [
      "7240103 청구고등학교\n",
      "급식 정보 조회 중: 날짜=20241030\n",
      "mealService 응답코드: 200\n",
      "급식 데이터 수: 1\n",
      "7240282 칠성고등학교\n",
      "급식 정보 조회 중: 날짜=20241030\n"
     ]
    },
    {
     "name": "stderr",
     "output_type": "stream",
     "text": [
      "[D10] 고등학교 급식 조회:  91%|███████▎| 88/97 [00:14<00:01,  6.01it/s]"
     ]
    },
    {
     "name": "stdout",
     "output_type": "stream",
     "text": [
      "mealService 응답코드: 200\n",
      "mealServiceDietInfo 키 없음: {'RESULT': {'CODE': 'INFO-200', 'MESSAGE': '해당하는 데이터가 없습니다.'}}\n",
      "7240189 포산고등학교\n",
      "급식 정보 조회 중: 날짜=20241030\n",
      "mealService 응답코드: 200\n",
      "급식 데이터 수: 3\n"
     ]
    },
    {
     "name": "stderr",
     "output_type": "stream",
     "text": [
      "[D10] 고등학교 급식 조회:  93%|███████▍| 90/97 [00:15<00:01,  5.83it/s]"
     ]
    },
    {
     "name": "stdout",
     "output_type": "stream",
     "text": [
      "7240207 학남고등학교\n",
      "급식 정보 조회 중: 날짜=20241030\n",
      "mealService 응답코드: 200\n",
      "급식 데이터 수: 1\n",
      "7240273 함지고등학교\n",
      "급식 정보 조회 중: 날짜=20241030\n"
     ]
    },
    {
     "name": "stderr",
     "output_type": "stream",
     "text": [
      "[D10] 고등학교 급식 조회:  94%|███████▌| 91/97 [00:15<00:01,  5.73it/s]"
     ]
    },
    {
     "name": "stdout",
     "output_type": "stream",
     "text": [
      "mealService 응답코드: 200\n",
      "급식 데이터 수: 1\n",
      "7240104 현풍고등학교\n",
      "급식 정보 조회 중: 날짜=20241030\n",
      "mealService 응답코드: 200\n",
      "급식 데이터 수: 3\n"
     ]
    },
    {
     "name": "stderr",
     "output_type": "stream",
     "text": [
      "[D10] 고등학교 급식 조회:  96%|███████▋| 93/97 [00:15<00:00,  5.73it/s]"
     ]
    },
    {
     "name": "stdout",
     "output_type": "stream",
     "text": [
      "7240105 협성고등학교\n",
      "급식 정보 조회 중: 날짜=20241030\n",
      "mealService 응답코드: 200\n",
      "급식 데이터 수: 1\n",
      "7240283 호산고등학교\n",
      "급식 정보 조회 중: 날짜=20241030\n"
     ]
    },
    {
     "name": "stderr",
     "output_type": "stream",
     "text": [
      "[D10] 고등학교 급식 조회:  97%|███████▊| 94/97 [00:15<00:00,  5.69it/s]"
     ]
    },
    {
     "name": "stdout",
     "output_type": "stream",
     "text": [
      "mealService 응답코드: 200\n",
      "급식 데이터 수: 1\n",
      "7240209 화원고등학교\n",
      "급식 정보 조회 중: 날짜=20241030\n",
      "mealService 응답코드: 200\n",
      "급식 데이터 수: 1\n"
     ]
    },
    {
     "name": "stderr",
     "output_type": "stream",
     "text": [
      "[D10] 고등학교 급식 조회:  99%|███████▉| 96/97 [00:16<00:00,  5.71it/s]"
     ]
    },
    {
     "name": "stdout",
     "output_type": "stream",
     "text": [
      "7240458 효령고등학교\n",
      "급식 정보 조회 중: 날짜=20241030\n",
      "mealService 응답코드: 200\n",
      "mealServiceDietInfo 키 없음: {'RESULT': {'CODE': 'INFO-200', 'MESSAGE': '해당하는 데이터가 없습니다.'}}\n",
      "7240106 효성여자고등학교\n",
      "급식 정보 조회 중: 날짜=20241030\n"
     ]
    },
    {
     "name": "stderr",
     "output_type": "stream",
     "text": [
      "[D10] 고등학교 급식 조회: 100%|████████| 97/97 [00:16<00:00,  5.90it/s]\n"
     ]
    },
    {
     "name": "stdout",
     "output_type": "stream",
     "text": [
      "mealService 응답코드: 200\n",
      "급식 데이터 수: 1\n",
      "응답코드 : 200\n"
     ]
    },
    {
     "name": "stderr",
     "output_type": "stream",
     "text": [
      "[E10] 고등학교 급식 조회:   1%|        | 1/128 [00:00<00:20,  6.11it/s]"
     ]
    },
    {
     "name": "stdout",
     "output_type": "stream",
     "text": [
      "7310207 가림고등학교\n",
      "급식 정보 조회 중: 날짜=20241030\n",
      "mealService 응답코드: 200\n",
      "급식 데이터 수: 1\n",
      "7310035 가정고등학교\n",
      "급식 정보 조회 중: 날짜=20241030\n"
     ]
    },
    {
     "name": "stderr",
     "output_type": "stream",
     "text": [
      "[E10] 고등학교 급식 조회:   2%|▏       | 2/128 [00:00<00:21,  5.85it/s]"
     ]
    },
    {
     "name": "stdout",
     "output_type": "stream",
     "text": [
      "mealService 응답코드: 200\n",
      "급식 데이터 수: 1\n",
      "7310217 가좌고등학교\n",
      "급식 정보 조회 중: 날짜=20241030\n",
      "mealService 응답코드: 200\n",
      "급식 데이터 수: 1\n"
     ]
    },
    {
     "name": "stderr",
     "output_type": "stream",
     "text": [
      "[E10] 고등학교 급식 조회:   3%|▎       | 4/128 [00:00<00:21,  5.79it/s]"
     ]
    },
    {
     "name": "stdout",
     "output_type": "stream",
     "text": [
      "7310346 강남영상미디어고등학교\n",
      "급식 정보 조회 중: 날짜=20241030\n",
      "mealService 응답코드: 200\n",
      "급식 데이터 수: 3\n",
      "7310036 강화고등학교\n",
      "급식 정보 조회 중: 날짜=20241030\n"
     ]
    },
    {
     "name": "stderr",
     "output_type": "stream",
     "text": [
      "[E10] 고등학교 급식 조회:   4%|▎       | 5/128 [00:00<00:20,  5.91it/s]"
     ]
    },
    {
     "name": "stdout",
     "output_type": "stream",
     "text": [
      "mealService 응답코드: 200\n",
      "급식 데이터 수: 3\n",
      "7310201 강화여자고등학교\n",
      "급식 정보 조회 중: 날짜=20241030\n",
      "mealService 응답코드: 200\n",
      "급식 데이터 수: 3\n"
     ]
    },
    {
     "name": "stderr",
     "output_type": "stream",
     "text": [
      "[E10] 고등학교 급식 조회:   5%|▍       | 7/128 [00:01<00:20,  5.88it/s]"
     ]
    },
    {
     "name": "stdout",
     "output_type": "stream",
     "text": [
      "7310203 검단고등학교\n",
      "급식 정보 조회 중: 날짜=20241030\n",
      "mealService 응답코드: 200\n",
      "급식 데이터 수: 1\n",
      "7310037 계산고등학교\n",
      "급식 정보 조회 중: 날짜=20241030\n"
     ]
    },
    {
     "name": "stderr",
     "output_type": "stream",
     "text": [
      "[E10] 고등학교 급식 조회:   6%|▌       | 8/128 [00:01<00:20,  5.96it/s]"
     ]
    },
    {
     "name": "stdout",
     "output_type": "stream",
     "text": [
      "mealService 응답코드: 200\n",
      "급식 데이터 수: 1\n",
      "7310090 계산공업고등학교\n",
      "급식 정보 조회 중: 날짜=20241030\n",
      "mealService 응답코드: 200\n",
      "급식 데이터 수: 1\n"
     ]
    },
    {
     "name": "stderr",
     "output_type": "stream",
     "text": [
      "[E10] 고등학교 급식 조회:   8%|▌      | 10/128 [00:01<00:19,  6.09it/s]"
     ]
    },
    {
     "name": "stdout",
     "output_type": "stream",
     "text": [
      "7310038 계산여자고등학교\n",
      "급식 정보 조회 중: 날짜=20241030\n",
      "mealService 응답코드: 200\n",
      "급식 데이터 수: 1\n",
      "7310039 계양고등학교\n",
      "급식 정보 조회 중: 날짜=20241030\n"
     ]
    },
    {
     "name": "stderr",
     "output_type": "stream",
     "text": [
      "[E10] 고등학교 급식 조회:   9%|▌      | 11/128 [00:01<00:19,  5.86it/s]"
     ]
    },
    {
     "name": "stdout",
     "output_type": "stream",
     "text": [
      "mealService 응답코드: 200\n",
      "급식 데이터 수: 1\n",
      "7310067 광성고등학교\n",
      "급식 정보 조회 중: 날짜=20241030\n",
      "mealService 응답코드: 200\n",
      "급식 데이터 수: 1\n"
     ]
    },
    {
     "name": "stderr",
     "output_type": "stream",
     "text": [
      "[E10] 고등학교 급식 조회:  10%|▋      | 13/128 [00:02<00:20,  5.60it/s]"
     ]
    },
    {
     "name": "stdout",
     "output_type": "stream",
     "text": [
      "7310189 교동고등학교\n",
      "급식 정보 조회 중: 날짜=20241030\n",
      "mealService 응답코드: 200\n",
      "급식 데이터 수: 1\n"
     ]
    },
    {
     "name": "stderr",
     "output_type": "stream",
     "text": [
      "[E10] 고등학교 급식 조회:  11%|▊      | 14/128 [00:02<00:20,  5.69it/s]"
     ]
    },
    {
     "name": "stdout",
     "output_type": "stream",
     "text": [
      "7310069 대인고등학교\n",
      "급식 정보 조회 중: 날짜=20241030\n",
      "mealService 응답코드: 200\n",
      "급식 데이터 수: 2\n",
      "7310041 대청고등학교\n",
      "급식 정보 조회 중: 날짜=20241030\n"
     ]
    },
    {
     "name": "stderr",
     "output_type": "stream",
     "text": [
      "[E10] 고등학교 급식 조회:  12%|▊      | 15/128 [00:02<00:19,  5.77it/s]"
     ]
    },
    {
     "name": "stdout",
     "output_type": "stream",
     "text": [
      "mealService 응답코드: 200\n",
      "급식 데이터 수: 2\n",
      "7310070 덕신고등학교\n",
      "급식 정보 조회 중: 날짜=20241030\n",
      "mealService 응답코드: 200\n",
      "급식 데이터 수: 3\n"
     ]
    },
    {
     "name": "stderr",
     "output_type": "stream",
     "text": [
      "[E10] 고등학교 급식 조회:  13%|▉      | 17/128 [00:02<00:18,  5.89it/s]"
     ]
    },
    {
     "name": "stdout",
     "output_type": "stream",
     "text": [
      "7310042 덕적고등학교\n",
      "급식 정보 조회 중: 날짜=20241030\n",
      "mealService 응답코드: 200\n",
      "급식 데이터 수: 1\n",
      "7310220 도림고등학교\n",
      "급식 정보 조회 중: 날짜=20241030\n"
     ]
    },
    {
     "name": "stderr",
     "output_type": "stream",
     "text": [
      "[E10] 고등학교 급식 조회:  14%|▉      | 18/128 [00:03<00:18,  5.94it/s]"
     ]
    },
    {
     "name": "stdout",
     "output_type": "stream",
     "text": [
      "mealService 응답코드: 200\n",
      "급식 데이터 수: 1\n",
      "7310071 동산고등학교\n",
      "급식 정보 조회 중: 날짜=20241030\n",
      "mealService 응답코드: 200\n",
      "급식 데이터 수: 1\n"
     ]
    },
    {
     "name": "stderr",
     "output_type": "stream",
     "text": [
      "[E10] 고등학교 급식 조회:  16%|█      | 20/128 [00:03<00:18,  5.83it/s]"
     ]
    },
    {
     "name": "stdout",
     "output_type": "stream",
     "text": [
      "7310043 동인천고등학교\n",
      "급식 정보 조회 중: 날짜=20241030\n",
      "mealService 응답코드: 200\n",
      "급식 데이터 수: 1\n",
      "7310072 명신여자고등학교\n",
      "급식 정보 조회 중: 날짜=20241030\n"
     ]
    },
    {
     "name": "stderr",
     "output_type": "stream",
     "text": [
      "[E10] 고등학교 급식 조회:  16%|█▏     | 21/128 [00:03<00:18,  5.88it/s]"
     ]
    },
    {
     "name": "stdout",
     "output_type": "stream",
     "text": [
      "mealService 응답코드: 200\n",
      "급식 데이터 수: 1\n",
      "7310626 문곡고등학교\n",
      "급식 정보 조회 중: 날짜=20241030\n",
      "mealService 응답코드: 200\n",
      "급식 데이터 수: 1\n"
     ]
    },
    {
     "name": "stderr",
     "output_type": "stream",
     "text": [
      "[E10] 고등학교 급식 조회:  18%|█▎     | 23/128 [00:03<00:17,  5.95it/s]"
     ]
    },
    {
     "name": "stdout",
     "output_type": "stream",
     "text": [
      "7310073 문일여자고등학교\n",
      "급식 정보 조회 중: 날짜=20241030\n",
      "mealService 응답코드: 200\n",
      "급식 데이터 수: 1\n",
      "7310192 문학정보고등학교\n",
      "급식 정보 조회 중: 날짜=20241030\n"
     ]
    },
    {
     "name": "stderr",
     "output_type": "stream",
     "text": [
      "[E10] 고등학교 급식 조회:  19%|█▎     | 24/128 [00:04<00:17,  5.96it/s]"
     ]
    },
    {
     "name": "stdout",
     "output_type": "stream",
     "text": [
      "mealService 응답코드: 200\n",
      "급식 데이터 수: 1\n",
      "7310350 미추홀외국어고등학교\n",
      "급식 정보 조회 중: 날짜=20241030\n",
      "mealService 응답코드: 200\n",
      "급식 데이터 수: 3\n"
     ]
    },
    {
     "name": "stderr",
     "output_type": "stream",
     "text": [
      "[E10] 고등학교 급식 조회:  20%|█▍     | 26/128 [00:04<00:17,  5.77it/s]"
     ]
    },
    {
     "name": "stdout",
     "output_type": "stream",
     "text": [
      "7310427 박문여자고등학교\n",
      "급식 정보 조회 중: 날짜=20241030\n",
      "mealService 응답코드: 200\n",
      "급식 데이터 수: 1\n"
     ]
    },
    {
     "name": "stderr",
     "output_type": "stream",
     "text": [
      "[E10] 고등학교 급식 조회:  21%|█▍     | 27/128 [00:04<00:17,  5.75it/s]"
     ]
    },
    {
     "name": "stdout",
     "output_type": "stream",
     "text": [
      "7310403 백령고등학교\n",
      "급식 정보 조회 중: 날짜=20241030\n",
      "mealService 응답코드: 200\n",
      "급식 데이터 수: 1\n"
     ]
    },
    {
     "name": "stderr",
     "output_type": "stream",
     "text": [
      "[E10] 고등학교 급식 조회:  22%|█▌     | 28/128 [00:04<00:17,  5.87it/s]"
     ]
    },
    {
     "name": "stdout",
     "output_type": "stream",
     "text": [
      "7310044 백석고등학교\n",
      "급식 정보 조회 중: 날짜=20241030\n",
      "mealService 응답코드: 200\n",
      "급식 데이터 수: 1\n",
      "7310219 부개고등학교\n",
      "급식 정보 조회 중: 날짜=20241030\n"
     ]
    },
    {
     "name": "stderr",
     "output_type": "stream",
     "text": [
      "[E10] 고등학교 급식 조회:  23%|█▌     | 29/128 [00:04<00:16,  5.94it/s]"
     ]
    },
    {
     "name": "stdout",
     "output_type": "stream",
     "text": [
      "mealService 응답코드: 200\n",
      "급식 데이터 수: 1\n",
      "7310045 부개여자고등학교\n",
      "급식 정보 조회 중: 날짜=20241030\n",
      "mealService 응답코드: 200\n",
      "급식 데이터 수: 1\n"
     ]
    },
    {
     "name": "stderr",
     "output_type": "stream",
     "text": [
      "[E10] 고등학교 급식 조회:  24%|█▋     | 31/128 [00:05<00:16,  5.88it/s]"
     ]
    },
    {
     "name": "stdout",
     "output_type": "stream",
     "text": [
      "7310046 부광고등학교\n",
      "급식 정보 조회 중: 날짜=20241030\n",
      "mealService 응답코드: 200\n",
      "급식 데이터 수: 1\n",
      "7310047 부광여자고등학교\n",
      "급식 정보 조회 중: 날짜=20241030\n"
     ]
    },
    {
     "name": "stderr",
     "output_type": "stream",
     "text": [
      "[E10] 고등학교 급식 조회:  25%|█▊     | 32/128 [00:05<00:16,  5.93it/s]"
     ]
    },
    {
     "name": "stdout",
     "output_type": "stream",
     "text": [
      "mealService 응답코드: 200\n",
      "급식 데이터 수: 1\n",
      "7310048 부평고등학교\n",
      "급식 정보 조회 중: 날짜=20241030\n",
      "mealService 응답코드: 200\n",
      "급식 데이터 수: 1\n"
     ]
    },
    {
     "name": "stderr",
     "output_type": "stream",
     "text": [
      "[E10] 고등학교 급식 조회:  27%|█▊     | 34/128 [00:05<00:15,  5.97it/s]"
     ]
    },
    {
     "name": "stdout",
     "output_type": "stream",
     "text": [
      "7310093 부평공업고등학교\n",
      "급식 정보 조회 중: 날짜=20241030\n",
      "mealService 응답코드: 200\n",
      "급식 데이터 수: 1\n",
      "7310049 부평여자고등학교\n",
      "급식 정보 조회 중: 날짜=20241030\n"
     ]
    },
    {
     "name": "stderr",
     "output_type": "stream",
     "text": [
      "[E10] 고등학교 급식 조회:  27%|█▉     | 35/128 [00:05<00:15,  6.01it/s]"
     ]
    },
    {
     "name": "stdout",
     "output_type": "stream",
     "text": [
      "mealService 응답코드: 200\n",
      "급식 데이터 수: 1\n",
      "7310212 산마을고등학교\n",
      "급식 정보 조회 중: 날짜=20241030\n",
      "mealService 응답코드: 200\n",
      "급식 데이터 수: 3\n"
     ]
    },
    {
     "name": "stderr",
     "output_type": "stream",
     "text": [
      "[E10] 고등학교 급식 조회:  29%|██     | 37/128 [00:06<00:15,  5.98it/s]"
     ]
    },
    {
     "name": "stdout",
     "output_type": "stream",
     "text": [
      "7310190 삼산고등학교\n",
      "급식 정보 조회 중: 날짜=20241030\n",
      "mealService 응답코드: 200\n",
      "급식 데이터 수: 1\n",
      "7310050 서도고등학교\n",
      "급식 정보 조회 중: 날짜=20241030\n"
     ]
    },
    {
     "name": "stderr",
     "output_type": "stream",
     "text": [
      "[E10] 고등학교 급식 조회:  30%|██     | 38/128 [00:06<00:15,  5.85it/s]"
     ]
    },
    {
     "name": "stdout",
     "output_type": "stream",
     "text": [
      "mealService 응답코드: 200\n",
      "급식 데이터 수: 1\n",
      "7310204 서운고등학교\n",
      "급식 정보 조회 중: 날짜=20241030\n",
      "mealService 응답코드: 200\n",
      "급식 데이터 수: 1\n"
     ]
    },
    {
     "name": "stderr",
     "output_type": "stream",
     "text": [
      "[E10] 고등학교 급식 조회:  31%|██▏    | 40/128 [00:06<00:15,  5.72it/s]"
     ]
    },
    {
     "name": "stdout",
     "output_type": "stream",
     "text": [
      "7310075 서인천고등학교\n",
      "급식 정보 조회 중: 날짜=20241030\n",
      "mealService 응답코드: 200\n",
      "급식 데이터 수: 1\n"
     ]
    },
    {
     "name": "stderr",
     "output_type": "stream",
     "text": [
      "[E10] 고등학교 급식 조회:  32%|██▏    | 41/128 [00:06<00:14,  5.86it/s]"
     ]
    },
    {
     "name": "stdout",
     "output_type": "stream",
     "text": [
      "7310051 석정여자고등학교\n",
      "급식 정보 조회 중: 날짜=20241030\n",
      "mealService 응답코드: 200\n",
      "급식 데이터 수: 1\n",
      "7310052 선인고등학교\n",
      "급식 정보 조회 중: 날짜=20241030\n"
     ]
    },
    {
     "name": "stderr",
     "output_type": "stream",
     "text": [
      "[E10] 고등학교 급식 조회:  33%|██▎    | 42/128 [00:07<00:14,  5.91it/s]"
     ]
    },
    {
     "name": "stdout",
     "output_type": "stream",
     "text": [
      "mealService 응답코드: 200\n",
      "급식 데이터 수: 1\n",
      "7310077 세일고등학교\n",
      "급식 정보 조회 중: 날짜=20241030\n",
      "mealService 응답코드: 200\n",
      "급식 데이터 수: 2\n"
     ]
    },
    {
     "name": "stderr",
     "output_type": "stream",
     "text": [
      "[E10] 고등학교 급식 조회:  34%|██▍    | 44/128 [00:07<00:14,  5.99it/s]"
     ]
    },
    {
     "name": "stdout",
     "output_type": "stream",
     "text": [
      "7310078 송도고등학교\n",
      "급식 정보 조회 중: 날짜=20241030\n",
      "mealService 응답코드: 200\n",
      "급식 데이터 수: 2\n",
      "7310079 숭덕여자고등학교\n",
      "급식 정보 조회 중: 날짜=20241030\n"
     ]
    },
    {
     "name": "stderr",
     "output_type": "stream",
     "text": [
      "[E10] 고등학교 급식 조회:  35%|██▍    | 45/128 [00:07<00:13,  6.08it/s]"
     ]
    },
    {
     "name": "stdout",
     "output_type": "stream",
     "text": [
      "mealService 응답코드: 200\n",
      "급식 데이터 수: 2\n",
      "7310080 신명여자고등학교\n",
      "급식 정보 조회 중: 날짜=20241030\n",
      "mealService 응답코드: 200\n",
      "급식 데이터 수: 1\n"
     ]
    },
    {
     "name": "stderr",
     "output_type": "stream",
     "text": [
      "[E10] 고등학교 급식 조회:  37%|██▌    | 47/128 [00:07<00:13,  6.01it/s]"
     ]
    },
    {
     "name": "stdout",
     "output_type": "stream",
     "text": [
      "7310250 신송고등학교\n",
      "급식 정보 조회 중: 날짜=20241030\n",
      "mealService 응답코드: 200\n",
      "급식 데이터 수: 1\n",
      "7310214 안남고등학교\n",
      "급식 정보 조회 중: 날짜=20241030\n"
     ]
    },
    {
     "name": "stderr",
     "output_type": "stream",
     "text": [
      "[E10] 고등학교 급식 조회:  38%|██▋    | 48/128 [00:08<00:13,  6.03it/s]"
     ]
    },
    {
     "name": "stdout",
     "output_type": "stream",
     "text": [
      "mealService 응답코드: 200\n",
      "급식 데이터 수: 1\n",
      "7310053 연수고등학교\n",
      "급식 정보 조회 중: 날짜=20241030\n",
      "mealService 응답코드: 200\n",
      "급식 데이터 수: 1\n"
     ]
    },
    {
     "name": "stderr",
     "output_type": "stream",
     "text": [
      "[E10] 고등학교 급식 조회:  39%|██▋    | 50/128 [00:08<00:12,  6.15it/s]"
     ]
    },
    {
     "name": "stdout",
     "output_type": "stream",
     "text": [
      "7310054 연수여자고등학교\n",
      "급식 정보 조회 중: 날짜=20241030\n",
      "mealService 응답코드: 200\n",
      "급식 데이터 수: 1\n",
      "7310055 연평고등학교\n",
      "급식 정보 조회 중: 날짜=20241030\n"
     ]
    },
    {
     "name": "stderr",
     "output_type": "stream",
     "text": [
      "[E10] 고등학교 급식 조회:  40%|██▊    | 51/128 [00:08<00:12,  6.12it/s]"
     ]
    },
    {
     "name": "stdout",
     "output_type": "stream",
     "text": [
      "mealService 응답코드: 200\n",
      "급식 데이터 수: 1\n",
      "7310261 영종국제물류고등학교\n",
      "급식 정보 조회 중: 날짜=20241030\n",
      "mealService 응답코드: 200\n",
      "급식 데이터 수: 1\n"
     ]
    },
    {
     "name": "stderr",
     "output_type": "stream",
     "text": [
      "[E10] 고등학교 급식 조회:  41%|██▉    | 53/128 [00:08<00:12,  6.12it/s]"
     ]
    },
    {
     "name": "stdout",
     "output_type": "stream",
     "text": [
      "7310560 영화국제관광고등학교\n",
      "급식 정보 조회 중: 날짜=20241030\n",
      "mealService 응답코드: 200\n",
      "급식 데이터 수: 1\n",
      "7310216 옥련여자고등학교\n",
      "급식 정보 조회 중: 날짜=20241030\n"
     ]
    },
    {
     "name": "stderr",
     "output_type": "stream",
     "text": [
      "[E10] 고등학교 급식 조회:  42%|██▉    | 54/128 [00:09<00:12,  6.11it/s]"
     ]
    },
    {
     "name": "stdout",
     "output_type": "stream",
     "text": [
      "mealService 응답코드: 200\n",
      "급식 데이터 수: 1\n",
      "7310082 인명여자고등학교\n",
      "급식 정보 조회 중: 날짜=20241030\n",
      "mealService 응답코드: 200\n",
      "급식 데이터 수: 3\n"
     ]
    },
    {
     "name": "stderr",
     "output_type": "stream",
     "text": [
      "[E10] 고등학교 급식 조회:  44%|███    | 56/128 [00:09<00:11,  6.13it/s]"
     ]
    },
    {
     "name": "stdout",
     "output_type": "stream",
     "text": [
      "7310083 인성여자고등학교\n",
      "급식 정보 조회 중: 날짜=20241030\n",
      "mealService 응답코드: 200\n",
      "급식 데이터 수: 1\n",
      "7310056 인일여자고등학교\n",
      "급식 정보 조회 중: 날짜=20241030\n"
     ]
    },
    {
     "name": "stderr",
     "output_type": "stream",
     "text": [
      "[E10] 고등학교 급식 조회:  45%|███    | 57/128 [00:09<00:11,  6.01it/s]"
     ]
    },
    {
     "name": "stdout",
     "output_type": "stream",
     "text": [
      "mealService 응답코드: 200\n",
      "급식 데이터 수: 1\n",
      "7310084 인제고등학교\n",
      "급식 정보 조회 중: 날짜=20241030\n",
      "mealService 응답코드: 200\n",
      "급식 데이터 수: 1\n"
     ]
    },
    {
     "name": "stderr",
     "output_type": "stream",
     "text": [
      "[E10] 고등학교 급식 조회:  46%|███▏   | 59/128 [00:09<00:11,  6.03it/s]"
     ]
    },
    {
     "name": "stdout",
     "output_type": "stream",
     "text": [
      "7310057 인천고등학교\n",
      "급식 정보 조회 중: 날짜=20241030\n",
      "mealService 응답코드: 200\n",
      "급식 데이터 수: 1\n",
      "7310348 인천고잔고등학교\n",
      "급식 정보 조회 중: 날짜=20241030\n"
     ]
    },
    {
     "name": "stderr",
     "output_type": "stream",
     "text": [
      "[E10] 고등학교 급식 조회:  47%|███▎   | 60/128 [00:10<00:11,  5.90it/s]"
     ]
    },
    {
     "name": "stdout",
     "output_type": "stream",
     "text": [
      "mealService 응답코드: 200\n",
      "급식 데이터 수: 1\n",
      "7310205 인천공항고등학교\n",
      "급식 정보 조회 중: 날짜=20241030\n",
      "mealService 응답코드: 200\n",
      "급식 데이터 수: 1\n"
     ]
    },
    {
     "name": "stderr",
     "output_type": "stream",
     "text": [
      "[E10] 고등학교 급식 조회:  48%|███▍   | 62/128 [00:10<00:11,  5.93it/s]"
     ]
    },
    {
     "name": "stdout",
     "output_type": "stream",
     "text": [
      "7310058 인천과학고등학교\n",
      "급식 정보 조회 중: 날짜=20241030\n",
      "mealService 응답코드: 200\n",
      "급식 데이터 수: 3\n",
      "7310449 인천과학예술영재학교\n",
      "급식 정보 조회 중: 날짜=20241030\n"
     ]
    },
    {
     "name": "stderr",
     "output_type": "stream",
     "text": [
      "[E10] 고등학교 급식 조회:  49%|███▍   | 63/128 [00:10<00:11,  5.73it/s]"
     ]
    },
    {
     "name": "stdout",
     "output_type": "stream",
     "text": [
      "mealService 응답코드: 200\n",
      "급식 데이터 수: 3\n",
      "7310334 인천국제고등학교\n",
      "급식 정보 조회 중: 날짜=20241030\n",
      "mealService 응답코드: 200\n",
      "급식 데이터 수: 3\n"
     ]
    },
    {
     "name": "stderr",
     "output_type": "stream",
     "text": [
      "[E10] 고등학교 급식 조회:  51%|███▌   | 65/128 [00:10<00:10,  5.74it/s]"
     ]
    },
    {
     "name": "stdout",
     "output_type": "stream",
     "text": [
      "7310475 인천금융고등학교\n",
      "급식 정보 조회 중: 날짜=20241030\n",
      "mealService 응답코드: 200\n",
      "급식 데이터 수: 1\n"
     ]
    },
    {
     "name": "stderr",
     "output_type": "stream",
     "text": [
      "[E10] 고등학교 급식 조회:  52%|███▌   | 66/128 [00:11<00:10,  5.76it/s]"
     ]
    },
    {
     "name": "stdout",
     "output_type": "stream",
     "text": [
      "7310100 인천기계공업고등학교\n",
      "급식 정보 조회 중: 날짜=20241030\n",
      "mealService 응답코드: 200\n",
      "급식 데이터 수: 1\n",
      "7310059 인천남고등학교\n",
      "급식 정보 조회 중: 날짜=20241030\n"
     ]
    },
    {
     "name": "stderr",
     "output_type": "stream",
     "text": [
      "[E10] 고등학교 급식 조회:  52%|███▋   | 67/128 [00:11<00:11,  5.51it/s]"
     ]
    },
    {
     "name": "stdout",
     "output_type": "stream",
     "text": [
      "mealService 응답코드: 200\n",
      "급식 데이터 수: 1\n",
      "7310339 인천남동고등학교\n",
      "급식 정보 조회 중: 날짜=20241030\n",
      "mealService 응답코드: 200\n",
      "급식 데이터 수: 1\n"
     ]
    },
    {
     "name": "stderr",
     "output_type": "stream",
     "text": [
      "[E10] 고등학교 급식 조회:  54%|███▊   | 69/128 [00:11<00:10,  5.41it/s]"
     ]
    },
    {
     "name": "stdout",
     "output_type": "stream",
     "text": [
      "7310256 인천논현고등학교\n",
      "급식 정보 조회 중: 날짜=20241030\n",
      "mealService 응답코드: 200\n",
      "급식 데이터 수: 1\n",
      "7310068 인천대건고등학교\n",
      "급식 정보 조회 중: 날짜=20241030\n"
     ]
    },
    {
     "name": "stderr",
     "output_type": "stream",
     "text": [
      "[E10] 고등학교 급식 조회:  55%|███▊   | 70/128 [00:11<00:10,  5.63it/s]"
     ]
    },
    {
     "name": "stdout",
     "output_type": "stream",
     "text": [
      "mealService 응답코드: 200\n",
      "급식 데이터 수: 1\n",
      "7310563 인천대중예술고등학교\n",
      "급식 정보 조회 중: 날짜=20241030\n",
      "mealService 응답코드: 200\n",
      "급식 데이터 수: 1\n"
     ]
    },
    {
     "name": "stderr",
     "output_type": "stream",
     "text": [
      "[E10] 고등학교 급식 조회:  56%|███▉   | 72/128 [00:12<00:09,  5.80it/s]"
     ]
    },
    {
     "name": "stdout",
     "output_type": "stream",
     "text": [
      "7310191 인천디자인고등학교\n",
      "급식 정보 조회 중: 날짜=20241030\n",
      "mealService 응답코드: 200\n",
      "급식 데이터 수: 1\n",
      "7310452 인천마전고등학교\n",
      "급식 정보 조회 중: 날짜=20241030\n"
     ]
    },
    {
     "name": "stderr",
     "output_type": "stream",
     "text": [
      "[E10] 고등학교 급식 조회:  57%|███▉   | 73/128 [00:12<00:09,  5.77it/s]"
     ]
    },
    {
     "name": "stdout",
     "output_type": "stream",
     "text": [
      "mealService 응답코드: 200\n",
      "급식 데이터 수: 1\n",
      "7310332 인천만수고등학교\n",
      "급식 정보 조회 중: 날짜=20241030\n",
      "mealService 응답코드: 200\n",
      "급식 데이터 수: 1\n"
     ]
    },
    {
     "name": "stderr",
     "output_type": "stream",
     "text": [
      "[E10] 고등학교 급식 조회:  59%|████   | 75/128 [00:12<00:09,  5.85it/s]"
     ]
    },
    {
     "name": "stdout",
     "output_type": "stream",
     "text": [
      "7310480 인천미래생활고등학교\n",
      "급식 정보 조회 중: 날짜=20241030\n",
      "mealService 응답코드: 200\n",
      "급식 데이터 수: 1\n",
      "7310593 인천바이오과학고등학교\n",
      "급식 정보 조회 중: 날짜=20241030\n"
     ]
    },
    {
     "name": "stderr",
     "output_type": "stream",
     "text": [
      "[E10] 고등학교 급식 조회:  59%|████▏  | 76/128 [00:12<00:08,  5.90it/s]"
     ]
    },
    {
     "name": "stdout",
     "output_type": "stream",
     "text": [
      "mealService 응답코드: 200\n",
      "mealServiceDietInfo 키 없음: {'RESULT': {'CODE': 'INFO-200', 'MESSAGE': '해당하는 데이터가 없습니다.'}}\n",
      "7310624 인천반도체고등학교\n",
      "급식 정보 조회 중: 날짜=20241030\n",
      "mealService 응답코드: 200\n",
      "급식 데이터 수: 1\n"
     ]
    },
    {
     "name": "stderr",
     "output_type": "stream",
     "text": [
      "[E10] 고등학교 급식 조회:  61%|████▎  | 78/128 [00:13<00:08,  5.67it/s]"
     ]
    },
    {
     "name": "stdout",
     "output_type": "stream",
     "text": [
      "7310455 인천보건고등학교\n",
      "급식 정보 조회 중: 날짜=20241030\n",
      "mealService 응답코드: 200\n",
      "급식 데이터 수: 1\n",
      "7310248 인천부흥고등학교\n",
      "급식 정보 조회 중: 날짜=20241030\n"
     ]
    },
    {
     "name": "stderr",
     "output_type": "stream",
     "text": [
      "[E10] 고등학교 급식 조회:  62%|████▎  | 79/128 [00:13<00:08,  5.78it/s]"
     ]
    },
    {
     "name": "stdout",
     "output_type": "stream",
     "text": [
      "mealService 응답코드: 200\n",
      "급식 데이터 수: 1\n",
      "7310453 인천뷰티예술고등학교\n",
      "급식 정보 조회 중: 날짜=20241030\n",
      "mealService 응답코드: 200\n",
      "급식 데이터 수: 1\n"
     ]
    },
    {
     "name": "stderr",
     "output_type": "stream",
     "text": [
      "[E10] 고등학교 급식 조회:  63%|████▍  | 81/128 [00:13<00:08,  5.87it/s]"
     ]
    },
    {
     "name": "stdout",
     "output_type": "stream",
     "text": [
      "7310345 인천비즈니스고등학교\n",
      "급식 정보 조회 중: 날짜=20241030\n",
      "mealService 응답코드: 200\n",
      "급식 데이터 수: 1\n",
      "7310257 인천산곡고등학교\n",
      "급식 정보 조회 중: 날짜=20241030\n"
     ]
    },
    {
     "name": "stderr",
     "output_type": "stream",
     "text": [
      "[E10] 고등학교 급식 조회:  64%|████▍  | 82/128 [00:13<00:07,  5.87it/s]"
     ]
    },
    {
     "name": "stdout",
     "output_type": "stream",
     "text": [
      "mealService 응답코드: 200\n",
      "급식 데이터 수: 1\n",
      "7310342 인천상정고등학교\n",
      "급식 정보 조회 중: 날짜=20241030\n",
      "mealService 응답코드: 200\n",
      "급식 데이터 수: 1\n"
     ]
    },
    {
     "name": "stderr",
     "output_type": "stream",
     "text": [
      "[E10] 고등학교 급식 조회:  66%|████▌  | 84/128 [00:14<00:07,  5.81it/s]"
     ]
    },
    {
     "name": "stdout",
     "output_type": "stream",
     "text": [
      "7310193 인천생활과학고등학교\n",
      "급식 정보 조회 중: 날짜=20241030\n",
      "mealService 응답코드: 200\n",
      "급식 데이터 수: 1\n",
      "7310369 인천세원고등학교\n",
      "급식 정보 조회 중: 날짜=20241030\n"
     ]
    },
    {
     "name": "stderr",
     "output_type": "stream",
     "text": [
      "[E10] 고등학교 급식 조회:  66%|████▋  | 85/128 [00:14<00:07,  5.89it/s]"
     ]
    },
    {
     "name": "stdout",
     "output_type": "stream",
     "text": [
      "mealService 응답코드: 200\n",
      "급식 데이터 수: 1\n",
      "7310592 인천소방고등학교\n",
      "급식 정보 조회 중: 날짜=20241030\n",
      "mealService 응답코드: 200\n",
      "급식 데이터 수: 1\n"
     ]
    },
    {
     "name": "stderr",
     "output_type": "stream",
     "text": [
      "[E10] 고등학교 급식 조회:  68%|████▊  | 87/128 [00:14<00:06,  5.94it/s]"
     ]
    },
    {
     "name": "stdout",
     "output_type": "stream",
     "text": [
      "7310373 인천송천고등학교\n",
      "급식 정보 조회 중: 날짜=20241030\n",
      "mealService 응답코드: 200\n",
      "급식 데이터 수: 1\n",
      "7310333 인천신현고등학교\n",
      "급식 정보 조회 중: 날짜=20241030\n"
     ]
    },
    {
     "name": "stderr",
     "output_type": "stream",
     "text": [
      "[E10] 고등학교 급식 조회:  69%|████▊  | 88/128 [00:14<00:06,  5.82it/s]"
     ]
    },
    {
     "name": "stdout",
     "output_type": "stream",
     "text": [
      "mealService 응답코드: 200\n",
      "급식 데이터 수: 1\n",
      "7310598 인천아라고등학교\n",
      "급식 정보 조회 중: 날짜=20241030\n",
      "mealService 응답코드: 200\n",
      "급식 데이터 수: 1\n"
     ]
    },
    {
     "name": "stderr",
     "output_type": "stream",
     "text": [
      "[E10] 고등학교 급식 조회:  70%|████▉  | 90/128 [00:15<00:06,  5.69it/s]"
     ]
    },
    {
     "name": "stdout",
     "output_type": "stream",
     "text": [
      "7310060 인천여자고등학교\n",
      "급식 정보 조회 중: 날짜=20241030\n",
      "mealService 응답코드: 200\n",
      "급식 데이터 수: 1\n",
      "7310104 인천여자상업고등학교\n",
      "급식 정보 조회 중: 날짜=20241030\n"
     ]
    },
    {
     "name": "stderr",
     "output_type": "stream",
     "text": [
      "[E10] 고등학교 급식 조회:  71%|████▉  | 91/128 [00:15<00:06,  5.64it/s]"
     ]
    },
    {
     "name": "stdout",
     "output_type": "stream",
     "text": [
      "mealService 응답코드: 200\n",
      "급식 데이터 수: 1\n",
      "7310422 인천연송고등학교\n",
      "급식 정보 조회 중: 날짜=20241030\n",
      "mealService 응답코드: 200\n",
      "급식 데이터 수: 1\n"
     ]
    },
    {
     "name": "stderr",
     "output_type": "stream",
     "text": [
      "[E10] 고등학교 급식 조회:  73%|█████  | 93/128 [00:15<00:05,  5.88it/s]"
     ]
    },
    {
     "name": "stdout",
     "output_type": "stream",
     "text": [
      "7310259 인천영선고등학교\n",
      "급식 정보 조회 중: 날짜=20241030\n",
      "mealService 응답코드: 200\n",
      "급식 데이터 수: 1\n",
      "7310405 인천영종고등학교\n",
      "급식 정보 조회 중: 날짜=20241030\n"
     ]
    },
    {
     "name": "stderr",
     "output_type": "stream",
     "text": [
      "[E10] 고등학교 급식 조회:  73%|█████▏ | 94/128 [00:16<00:05,  5.72it/s]"
     ]
    },
    {
     "name": "stdout",
     "output_type": "stream",
     "text": [
      "mealService 응답코드: 200\n",
      "급식 데이터 수: 1\n",
      "7310383 인천영흥고등학교\n",
      "급식 정보 조회 중: 날짜=20241030\n",
      "mealService 응답코드: 200\n",
      "급식 데이터 수: 1\n"
     ]
    },
    {
     "name": "stderr",
     "output_type": "stream",
     "text": [
      "[E10] 고등학교 급식 조회:  75%|█████▎ | 96/128 [00:16<00:05,  5.84it/s]"
     ]
    },
    {
     "name": "stdout",
     "output_type": "stream",
     "text": [
      "7310061 인천예술고등학교\n",
      "급식 정보 조회 중: 날짜=20241030\n",
      "mealService 응답코드: 200\n",
      "급식 데이터 수: 1\n",
      "7310253 인천예일고등학교\n",
      "급식 정보 조회 중: 날짜=20241030\n"
     ]
    },
    {
     "name": "stderr",
     "output_type": "stream",
     "text": [
      "[E10] 고등학교 급식 조회:  76%|█████▎ | 97/128 [00:16<00:05,  5.92it/s]"
     ]
    },
    {
     "name": "stdout",
     "output_type": "stream",
     "text": [
      "mealService 응답코드: 200\n",
      "급식 데이터 수: 1\n",
      "7310242 인천외국어고등학교\n",
      "급식 정보 조회 중: 날짜=20241030\n",
      "mealService 응답코드: 200\n",
      "급식 데이터 수: 3\n"
     ]
    },
    {
     "name": "stderr",
     "output_type": "stream",
     "text": [
      "[E10] 고등학교 급식 조회:  77%|█████▍ | 99/128 [00:16<00:04,  5.82it/s]"
     ]
    },
    {
     "name": "stdout",
     "output_type": "stream",
     "text": [
      "7310260 인천원당고등학교\n",
      "급식 정보 조회 중: 날짜=20241030\n",
      "mealService 응답코드: 200\n",
      "급식 데이터 수: 1\n",
      "7310628 인천이음고등학교\n",
      "급식 정보 조회 중: 날짜=20241030\n"
     ]
    },
    {
     "name": "stderr",
     "output_type": "stream",
     "text": [
      "[E10] 고등학교 급식 조회:  78%|████▋ | 100/128 [00:17<00:04,  5.94it/s]"
     ]
    },
    {
     "name": "stdout",
     "output_type": "stream",
     "text": [
      "mealService 응답코드: 200\n",
      "mealServiceDietInfo 키 없음: {'RESULT': {'CODE': 'INFO-200', 'MESSAGE': '해당하는 데이터가 없습니다.'}}\n",
      "7310370 인천전자마이스터고등학교\n",
      "급식 정보 조회 중: 날짜=20241030\n",
      "mealService 응답코드: 200\n",
      "급식 데이터 수: 2\n"
     ]
    },
    {
     "name": "stderr",
     "output_type": "stream",
     "text": [
      "[E10] 고등학교 급식 조회:  80%|████▊ | 102/128 [00:17<00:04,  5.92it/s]"
     ]
    },
    {
     "name": "stdout",
     "output_type": "stream",
     "text": [
      "7310562 인천중산고등학교\n",
      "급식 정보 조회 중: 날짜=20241030\n",
      "mealService 응답코드: 200\n",
      "급식 데이터 수: 1\n",
      "7310625 인천중앙여자고등학교\n",
      "급식 정보 조회 중: 날짜=20241030\n"
     ]
    },
    {
     "name": "stderr",
     "output_type": "stream",
     "text": [
      "[E10] 고등학교 급식 조회:  80%|████▊ | 103/128 [00:17<00:04,  5.87it/s]"
     ]
    },
    {
     "name": "stdout",
     "output_type": "stream",
     "text": [
      "mealService 응답코드: 200\n",
      "급식 데이터 수: 1\n",
      "7310404 인천진산과학고등학교\n",
      "급식 정보 조회 중: 날짜=20241030\n",
      "mealService 응답코드: 200\n",
      "급식 데이터 수: 3\n"
     ]
    },
    {
     "name": "stderr",
     "output_type": "stream",
     "text": [
      "[E10] 고등학교 급식 조회:  81%|████▉ | 104/128 [00:17<00:04,  5.78it/s]"
     ]
    },
    {
     "name": "stdout",
     "output_type": "stream",
     "text": [
      "7310375 인천청라고등학교\n",
      "급식 정보 조회 중: 날짜=20241030\n",
      "mealService 응답코드: 200\n",
      "급식 데이터 수: 1\n"
     ]
    },
    {
     "name": "stderr",
     "output_type": "stream",
     "text": [
      "[E10] 고등학교 급식 조회:  83%|████▉ | 106/128 [00:18<00:03,  5.67it/s]"
     ]
    },
    {
     "name": "stdout",
     "output_type": "stream",
     "text": [
      "7310062 인천체육고등학교\n",
      "급식 정보 조회 중: 날짜=20241030\n",
      "mealService 응답코드: 200\n",
      "mealServiceDietInfo 키 없음: {'RESULT': {'CODE': 'INFO-200', 'MESSAGE': '해당하는 데이터가 없습니다.'}}\n",
      "7310374 인천초은고등학교\n",
      "급식 정보 조회 중: 날짜=20241030\n"
     ]
    },
    {
     "name": "stderr",
     "output_type": "stream",
     "text": [
      "[E10] 고등학교 급식 조회:  84%|█████ | 107/128 [00:18<00:03,  5.77it/s]"
     ]
    },
    {
     "name": "stdout",
     "output_type": "stream",
     "text": [
      "mealService 응답코드: 200\n",
      "급식 데이터 수: 1\n",
      "7310447 인천포스코고등학교\n",
      "급식 정보 조회 중: 날짜=20241030\n",
      "mealService 응답코드: 200\n",
      "급식 데이터 수: 1\n"
     ]
    },
    {
     "name": "stderr",
     "output_type": "stream",
     "text": [
      "[E10] 고등학교 급식 조회:  85%|█████ | 109/128 [00:18<00:03,  5.84it/s]"
     ]
    },
    {
     "name": "stdout",
     "output_type": "stream",
     "text": [
      "7310371 인천하늘고등학교\n",
      "급식 정보 조회 중: 날짜=20241030\n",
      "mealService 응답코드: 200\n",
      "급식 데이터 수: 3\n",
      "1192069 인천해사고등학교\n",
      "급식 정보 조회 중: 날짜=20241030\n"
     ]
    },
    {
     "name": "stderr",
     "output_type": "stream",
     "text": [
      "[E10] 고등학교 급식 조회:  86%|█████▏| 110/128 [00:18<00:03,  5.88it/s]"
     ]
    },
    {
     "name": "stdout",
     "output_type": "stream",
     "text": [
      "mealService 응답코드: 200\n",
      "급식 데이터 수: 3\n",
      "7310349 인천해송고등학교\n",
      "급식 정보 조회 중: 날짜=20241030\n",
      "mealService 응답코드: 200\n",
      "급식 데이터 수: 1\n"
     ]
    },
    {
     "name": "stderr",
     "output_type": "stream",
     "text": [
      "[E10] 고등학교 급식 조회:  88%|█████▎| 112/128 [00:19<00:02,  5.67it/s]"
     ]
    },
    {
     "name": "stdout",
     "output_type": "stream",
     "text": [
      "7310109 인천해양과학고등학교\n",
      "급식 정보 조회 중: 날짜=20241030\n",
      "mealService 응답코드: 200\n",
      "급식 데이터 수: 1\n",
      "7310423 인천해원고등학교\n",
      "급식 정보 조회 중: 날짜=20241030\n"
     ]
    },
    {
     "name": "stderr",
     "output_type": "stream",
     "text": [
      "[E10] 고등학교 급식 조회:  88%|█████▎| 113/128 [00:19<00:02,  5.79it/s]"
     ]
    },
    {
     "name": "stdout",
     "output_type": "stream",
     "text": [
      "mealService 응답코드: 200\n",
      "급식 데이터 수: 1\n",
      "7310252 인천효성고등학교\n",
      "급식 정보 조회 중: 날짜=20241030\n",
      "mealService 응답코드: 200\n",
      "급식 데이터 수: 1\n"
     ]
    },
    {
     "name": "stderr",
     "output_type": "stream",
     "text": [
      "[E10] 고등학교 급식 조회:  90%|█████▍| 115/128 [00:19<00:02,  5.53it/s]"
     ]
    },
    {
     "name": "stdout",
     "output_type": "stream",
     "text": [
      "7310479 인평자동차고등학교\n",
      "급식 정보 조회 중: 날짜=20241030\n",
      "mealService 응답코드: 200\n",
      "급식 데이터 수: 1\n"
     ]
    },
    {
     "name": "stderr",
     "output_type": "stream",
     "text": [
      "[E10] 고등학교 급식 조회:  91%|█████▍| 116/128 [00:19<00:02,  5.63it/s]"
     ]
    },
    {
     "name": "stdout",
     "output_type": "stream",
     "text": [
      "7310085 인하대학교사범대학부속고등학교\n",
      "급식 정보 조회 중: 날짜=20241030\n",
      "mealService 응답코드: 200\n",
      "급식 데이터 수: 1\n",
      "7310086 인항고등학교\n",
      "급식 정보 조회 중: 날짜=20241030\n"
     ]
    },
    {
     "name": "stderr",
     "output_type": "stream",
     "text": [
      "[E10] 고등학교 급식 조회:  91%|█████▍| 117/128 [00:20<00:01,  5.80it/s]"
     ]
    },
    {
     "name": "stdout",
     "output_type": "stream",
     "text": [
      "mealService 응답코드: 200\n",
      "급식 데이터 수: 1\n",
      "7310063 인화여자고등학교\n",
      "급식 정보 조회 중: 날짜=20241030\n",
      "mealService 응답코드: 200\n",
      "급식 데이터 수: 1\n"
     ]
    },
    {
     "name": "stderr",
     "output_type": "stream",
     "text": [
      "[E10] 고등학교 급식 조회:  93%|█████▌| 119/128 [00:20<00:01,  5.96it/s]"
     ]
    },
    {
     "name": "stdout",
     "output_type": "stream",
     "text": [
      "7310213 작전고등학교\n",
      "급식 정보 조회 중: 날짜=20241030\n",
      "mealService 응답코드: 200\n",
      "급식 데이터 수: 1\n",
      "7310241 작전여자고등학교\n",
      "급식 정보 조회 중: 날짜=20241030\n"
     ]
    },
    {
     "name": "stderr",
     "output_type": "stream",
     "text": [
      "[E10] 고등학교 급식 조회:  94%|█████▋| 120/128 [00:20<00:01,  5.73it/s]"
     ]
    },
    {
     "name": "stdout",
     "output_type": "stream",
     "text": [
      "mealService 응답코드: 200\n",
      "급식 데이터 수: 1\n",
      "7310627 재능고등학교\n",
      "급식 정보 조회 중: 날짜=20241030\n",
      "mealService 응답코드: 200\n",
      "급식 데이터 수: 1\n"
     ]
    },
    {
     "name": "stderr",
     "output_type": "stream",
     "text": [
      "[E10] 고등학교 급식 조회:  95%|█████▋| 122/128 [00:20<00:01,  5.94it/s]"
     ]
    },
    {
     "name": "stdout",
     "output_type": "stream",
     "text": [
      "7310372 정석항공과학고등학교\n",
      "급식 정보 조회 중: 날짜=20241030\n",
      "mealService 응답코드: 200\n",
      "급식 데이터 수: 1\n",
      "7310064 제물포고등학교\n",
      "급식 정보 조회 중: 날짜=20241030\n"
     ]
    },
    {
     "name": "stderr",
     "output_type": "stream",
     "text": [
      "[E10] 고등학교 급식 조회:  96%|█████▊| 123/128 [00:21<00:00,  5.74it/s]"
     ]
    },
    {
     "name": "stdout",
     "output_type": "stream",
     "text": [
      "mealService 응답코드: 200\n",
      "급식 데이터 수: 1\n",
      "7310246 제일고등학교\n",
      "급식 정보 조회 중: 날짜=20241030\n",
      "mealService 응답코드: 200\n",
      "급식 데이터 수: 1\n"
     ]
    },
    {
     "name": "stderr",
     "output_type": "stream",
     "text": [
      "[E10] 고등학교 급식 조회:  98%|█████▊| 125/128 [00:21<00:00,  5.62it/s]"
     ]
    },
    {
     "name": "stdout",
     "output_type": "stream",
     "text": [
      "7310065 학익고등학교\n",
      "급식 정보 조회 중: 날짜=20241030\n",
      "mealService 응답코드: 200\n",
      "급식 데이터 수: 1\n"
     ]
    },
    {
     "name": "stderr",
     "output_type": "stream",
     "text": [
      "[E10] 고등학교 급식 조회:  98%|█████▉| 126/128 [00:21<00:00,  5.72it/s]"
     ]
    },
    {
     "name": "stdout",
     "output_type": "stream",
     "text": [
      "7310066 학익여자고등학교\n",
      "급식 정보 조회 중: 날짜=20241030\n",
      "mealService 응답코드: 200\n",
      "급식 데이터 수: 1\n",
      "7310601 한국글로벌셰프고등학교\n",
      "급식 정보 조회 중: 날짜=20241030\n"
     ]
    },
    {
     "name": "stderr",
     "output_type": "stream",
     "text": [
      "[E10] 고등학교 급식 조회:  99%|█████▉| 127/128 [00:21<00:00,  5.70it/s]"
     ]
    },
    {
     "name": "stdout",
     "output_type": "stream",
     "text": [
      "mealService 응답코드: 200\n",
      "급식 데이터 수: 3\n",
      "7310454 한국주얼리고등학교\n",
      "급식 정보 조회 중: 날짜=20241030\n",
      "mealService 응답코드: 200\n",
      "급식 데이터 수: 1\n"
     ]
    },
    {
     "name": "stderr",
     "output_type": "stream",
     "text": [
      "[E10] 고등학교 급식 조회: 100%|██████| 128/128 [00:21<00:00,  5.84it/s]\n"
     ]
    },
    {
     "name": "stdout",
     "output_type": "stream",
     "text": [
      "응답코드 : 200\n"
     ]
    },
    {
     "name": "stderr",
     "output_type": "stream",
     "text": [
      "[F10] 고등학교 급식 조회:   1%|▏        | 1/71 [00:00<00:11,  5.84it/s]"
     ]
    },
    {
     "name": "stdout",
     "output_type": "stream",
     "text": [
      "7380041 고려고등학교\n",
      "급식 정보 조회 중: 날짜=20241030\n",
      "mealService 응답코드: 200\n",
      "급식 데이터 수: 2\n",
      "7380042 광덕고등학교\n",
      "급식 정보 조회 중: 날짜=20241030\n"
     ]
    },
    {
     "name": "stderr",
     "output_type": "stream",
     "text": [
      "[F10] 고등학교 급식 조회:   3%|▎        | 2/71 [00:00<00:11,  5.98it/s]"
     ]
    },
    {
     "name": "stdout",
     "output_type": "stream",
     "text": [
      "mealService 응답코드: 200\n",
      "급식 데이터 수: 2\n",
      "7380047 광일고등학교\n",
      "급식 정보 조회 중: 날짜=20241030\n",
      "mealService 응답코드: 200\n",
      "급식 데이터 수: 2\n"
     ]
    },
    {
     "name": "stderr",
     "output_type": "stream",
     "text": [
      "[F10] 고등학교 급식 조회:   4%|▍        | 3/71 [00:00<00:11,  5.88it/s]"
     ]
    },
    {
     "name": "stdout",
     "output_type": "stream",
     "text": [
      "7380048 광주경신여자고등학교\n",
      "급식 정보 조회 중: 날짜=20241030\n",
      "mealService 응답코드: 200\n",
      "급식 데이터 수: 2\n"
     ]
    },
    {
     "name": "stderr",
     "output_type": "stream",
     "text": [
      "[F10] 고등학교 급식 조회:   7%|▋        | 5/71 [00:00<00:12,  5.48it/s]"
     ]
    },
    {
     "name": "stdout",
     "output_type": "stream",
     "text": [
      "7380030 광주고등학교\n",
      "급식 정보 조회 중: 날짜=20241030\n",
      "mealService 응답코드: 200\n",
      "급식 데이터 수: 2\n"
     ]
    },
    {
     "name": "stderr",
     "output_type": "stream",
     "text": [
      "[F10] 고등학교 급식 조회:   8%|▊        | 6/71 [00:01<00:11,  5.62it/s]"
     ]
    },
    {
     "name": "stdout",
     "output_type": "stream",
     "text": [
      "7380146 광주공업고등학교\n",
      "급식 정보 조회 중: 날짜=20241030\n",
      "mealService 응답코드: 200\n",
      "급식 데이터 수: 1\n",
      "7380031 광주과학고등학교\n",
      "급식 정보 조회 중: 날짜=20241030\n"
     ]
    },
    {
     "name": "stderr",
     "output_type": "stream",
     "text": [
      "[F10] 고등학교 급식 조회:  10%|▉        | 7/71 [00:01<00:11,  5.53it/s]"
     ]
    },
    {
     "name": "stdout",
     "output_type": "stream",
     "text": [
      "mealService 응답코드: 200\n",
      "급식 데이터 수: 3\n",
      "7380049 광주대동고등학교\n",
      "급식 정보 조회 중: 날짜=20241030\n",
      "mealService 응답코드: 200\n",
      "급식 데이터 수: 2\n"
     ]
    },
    {
     "name": "stderr",
     "output_type": "stream",
     "text": [
      "[F10] 고등학교 급식 조회:  13%|█▏       | 9/71 [00:01<00:11,  5.51it/s]"
     ]
    },
    {
     "name": "stdout",
     "output_type": "stream",
     "text": [
      "7380127 광주동성고등학교\n",
      "급식 정보 조회 중: 날짜=20241030\n",
      "mealService 응답코드: 200\n",
      "급식 데이터 수: 2\n"
     ]
    },
    {
     "name": "stderr",
     "output_type": "stream",
     "text": [
      "[F10] 고등학교 급식 조회:  14%|█▏      | 10/71 [00:01<00:10,  5.60it/s]"
     ]
    },
    {
     "name": "stdout",
     "output_type": "stream",
     "text": [
      "7380050 광주동신고등학교\n",
      "급식 정보 조회 중: 날짜=20241030\n",
      "mealService 응답코드: 200\n",
      "급식 데이터 수: 2\n",
      "7380051 광주동신여자고등학교\n",
      "급식 정보 조회 중: 날짜=20241030\n"
     ]
    },
    {
     "name": "stderr",
     "output_type": "stream",
     "text": [
      "[F10] 고등학교 급식 조회:  15%|█▏      | 11/71 [00:01<00:10,  5.80it/s]"
     ]
    },
    {
     "name": "stdout",
     "output_type": "stream",
     "text": [
      "mealService 응답코드: 200\n",
      "급식 데이터 수: 2\n",
      "7380053 광주서석고등학교\n",
      "급식 정보 조회 중: 날짜=20241030\n",
      "mealService 응답코드: 200\n",
      "급식 데이터 수: 2\n"
     ]
    },
    {
     "name": "stderr",
     "output_type": "stream",
     "text": [
      "[F10] 고등학교 급식 조회:  18%|█▍      | 13/71 [00:02<00:09,  5.97it/s]"
     ]
    },
    {
     "name": "stdout",
     "output_type": "stream",
     "text": [
      "7380054 광주석산고등학교\n",
      "급식 정보 조회 중: 날짜=20241030\n",
      "mealService 응답코드: 200\n",
      "급식 데이터 수: 2\n",
      "7380292 광주소프트웨어마이스터고등학교\n",
      "급식 정보 조회 중: 날짜=20241030\n"
     ]
    },
    {
     "name": "stderr",
     "output_type": "stream",
     "text": [
      "[F10] 고등학교 급식 조회:  20%|█▌      | 14/71 [00:02<00:09,  5.91it/s]"
     ]
    },
    {
     "name": "stdout",
     "output_type": "stream",
     "text": [
      "mealService 응답코드: 200\n",
      "급식 데이터 수: 3\n",
      "7380055 광주수피아여자고등학교\n",
      "급식 정보 조회 중: 날짜=20241030\n",
      "mealService 응답코드: 200\n",
      "급식 데이터 수: 2\n"
     ]
    },
    {
     "name": "stderr",
     "output_type": "stream",
     "text": [
      "[F10] 고등학교 급식 조회:  23%|█▊      | 16/71 [00:02<00:09,  5.93it/s]"
     ]
    },
    {
     "name": "stdout",
     "output_type": "stream",
     "text": [
      "7380056 광주숭일고등학교\n",
      "급식 정보 조회 중: 날짜=20241030\n",
      "mealService 응답코드: 200\n",
      "급식 데이터 수: 2\n",
      "7380032 광주여자고등학교\n",
      "급식 정보 조회 중: 날짜=20241030\n"
     ]
    },
    {
     "name": "stderr",
     "output_type": "stream",
     "text": [
      "[F10] 고등학교 급식 조회:  24%|█▉      | 17/71 [00:02<00:09,  5.94it/s]"
     ]
    },
    {
     "name": "stdout",
     "output_type": "stream",
     "text": [
      "mealService 응답코드: 200\n",
      "급식 데이터 수: 1\n",
      "7380091 광주여자상업고등학교\n",
      "급식 정보 조회 중: 날짜=20241030\n",
      "mealService 응답코드: 200\n",
      "급식 데이터 수: 2\n"
     ]
    },
    {
     "name": "stderr",
     "output_type": "stream",
     "text": [
      "[F10] 고등학교 급식 조회:  27%|██▏     | 19/71 [00:03<00:08,  6.05it/s]"
     ]
    },
    {
     "name": "stdout",
     "output_type": "stream",
     "text": [
      "7380033 광주예술고등학교\n",
      "급식 정보 조회 중: 날짜=20241030\n",
      "mealService 응답코드: 200\n",
      "급식 데이터 수: 1\n",
      "7380057 광주인성고등학교\n",
      "급식 정보 조회 중: 날짜=20241030\n"
     ]
    },
    {
     "name": "stderr",
     "output_type": "stream",
     "text": [
      "[F10] 고등학교 급식 조회:  28%|██▎     | 20/71 [00:03<00:08,  6.07it/s]"
     ]
    },
    {
     "name": "stdout",
     "output_type": "stream",
     "text": [
      "mealService 응답코드: 200\n",
      "급식 데이터 수: 2\n",
      "7380353 광주자동화설비마이스터고등학교\n",
      "급식 정보 조회 중: 날짜=20241030\n",
      "mealService 응답코드: 200\n",
      "급식 데이터 수: 3\n"
     ]
    },
    {
     "name": "stderr",
     "output_type": "stream",
     "text": [
      "[F10] 고등학교 급식 조회:  31%|██▍     | 22/71 [00:03<00:08,  6.04it/s]"
     ]
    },
    {
     "name": "stdout",
     "output_type": "stream",
     "text": [
      "7380128 광주자연과학고등학교\n",
      "급식 정보 조회 중: 날짜=20241030\n",
      "mealService 응답코드: 200\n",
      "급식 데이터 수: 1\n",
      "7380083 광주전자공업고등학교\n",
      "급식 정보 조회 중: 날짜=20241030\n"
     ]
    },
    {
     "name": "stderr",
     "output_type": "stream",
     "text": [
      "[F10] 고등학교 급식 조회:  32%|██▌     | 23/71 [00:03<00:08,  5.81it/s]"
     ]
    },
    {
     "name": "stdout",
     "output_type": "stream",
     "text": [
      "mealService 응답코드: 200\n",
      "급식 데이터 수: 1\n",
      "7380034 광주제일고등학교\n",
      "급식 정보 조회 중: 날짜=20241030\n",
      "mealService 응답코드: 200\n",
      "급식 데이터 수: 1\n"
     ]
    },
    {
     "name": "stderr",
     "output_type": "stream",
     "text": [
      "[F10] 고등학교 급식 조회:  35%|██▊     | 25/71 [00:04<00:07,  5.93it/s]"
     ]
    },
    {
     "name": "stdout",
     "output_type": "stream",
     "text": [
      "7380059 광주진흥고등학교\n",
      "급식 정보 조회 중: 날짜=20241030\n",
      "mealService 응답코드: 200\n",
      "급식 데이터 수: 2\n",
      "7380035 광주체육고등학교\n",
      "급식 정보 조회 중: 날짜=20241030\n"
     ]
    },
    {
     "name": "stderr",
     "output_type": "stream",
     "text": [
      "[F10] 고등학교 급식 조회:  37%|██▉     | 26/71 [00:04<00:07,  5.84it/s]"
     ]
    },
    {
     "name": "stdout",
     "output_type": "stream",
     "text": [
      "mealService 응답코드: 200\n",
      "급식 데이터 수: 3\n",
      "7380291 광주푸른꿈창작학교\n",
      "급식 정보 조회 중: 날짜=20241030\n",
      "mealService 응답코드: 200\n",
      "급식 데이터 수: 1\n"
     ]
    },
    {
     "name": "stderr",
     "output_type": "stream",
     "text": [
      "[F10] 고등학교 급식 조회:  39%|███▏    | 28/71 [00:04<00:07,  6.02it/s]"
     ]
    },
    {
     "name": "stdout",
     "output_type": "stream",
     "text": [
      "7380060 국제고등학교\n",
      "급식 정보 조회 중: 날짜=20241030\n",
      "mealService 응답코드: 200\n",
      "급식 데이터 수: 2\n",
      "7380094 금파공업고등학교\n",
      "급식 정보 조회 중: 날짜=20241030\n"
     ]
    },
    {
     "name": "stderr",
     "output_type": "stream",
     "text": [
      "[F10] 고등학교 급식 조회:  41%|███▎    | 29/71 [00:04<00:06,  6.06it/s]"
     ]
    },
    {
     "name": "stdout",
     "output_type": "stream",
     "text": [
      "mealService 응답코드: 200\n",
      "급식 데이터 수: 1\n",
      "7380061 금호고등학교\n",
      "급식 정보 조회 중: 날짜=20241030\n",
      "mealService 응답코드: 200\n",
      "급식 데이터 수: 2\n"
     ]
    },
    {
     "name": "stderr",
     "output_type": "stream",
     "text": [
      "[F10] 고등학교 급식 조회:  44%|███▍    | 31/71 [00:05<00:06,  5.83it/s]"
     ]
    },
    {
     "name": "stdout",
     "output_type": "stream",
     "text": [
      "7380278 금호중앙여자고등학교\n",
      "급식 정보 조회 중: 날짜=20241030\n",
      "mealService 응답코드: 200\n",
      "급식 데이터 수: 2\n",
      "7380062 대광여자고등학교\n",
      "급식 정보 조회 중: 날짜=20241030\n"
     ]
    },
    {
     "name": "stderr",
     "output_type": "stream",
     "text": [
      "[F10] 고등학교 급식 조회:  45%|███▌    | 32/71 [00:05<00:06,  5.87it/s]"
     ]
    },
    {
     "name": "stdout",
     "output_type": "stream",
     "text": [
      "mealService 응답코드: 200\n",
      "급식 데이터 수: 2\n",
      "7380063 대성여자고등학교\n",
      "급식 정보 조회 중: 날짜=20241030\n",
      "mealService 응답코드: 200\n",
      "급식 데이터 수: 2\n"
     ]
    },
    {
     "name": "stderr",
     "output_type": "stream",
     "text": [
      "[F10] 고등학교 급식 조회:  48%|███▊    | 34/71 [00:05<00:06,  5.90it/s]"
     ]
    },
    {
     "name": "stdout",
     "output_type": "stream",
     "text": [
      "7380187 돈보스코학교\n",
      "급식 정보 조회 중: 날짜=20241030\n",
      "mealService 응답코드: 200\n",
      "급식 데이터 수: 1\n",
      "7380131 동명고등학교\n",
      "급식 정보 조회 중: 날짜=20241030\n"
     ]
    },
    {
     "name": "stderr",
     "output_type": "stream",
     "text": [
      "[F10] 고등학교 급식 조회:  49%|███▉    | 35/71 [00:05<00:05,  6.03it/s]"
     ]
    },
    {
     "name": "stdout",
     "output_type": "stream",
     "text": [
      "mealService 응답코드: 200\n",
      "급식 데이터 수: 3\n",
      "7380064 동아여자고등학교\n",
      "급식 정보 조회 중: 날짜=20241030\n",
      "mealService 응답코드: 200\n",
      "급식 데이터 수: 2\n"
     ]
    },
    {
     "name": "stderr",
     "output_type": "stream",
     "text": [
      "[F10] 고등학교 급식 조회:  52%|████▏   | 37/71 [00:06<00:05,  5.88it/s]"
     ]
    },
    {
     "name": "stdout",
     "output_type": "stream",
     "text": [
      "7380290 동일미래과학고등학교\n",
      "급식 정보 조회 중: 날짜=20241030\n",
      "mealService 응답코드: 200\n",
      "급식 데이터 수: 1\n"
     ]
    },
    {
     "name": "stderr",
     "output_type": "stream",
     "text": [
      "[F10] 고등학교 급식 조회:  54%|████▎   | 38/71 [00:06<00:05,  5.66it/s]"
     ]
    },
    {
     "name": "stdout",
     "output_type": "stream",
     "text": [
      "7380273 명진고등학교\n",
      "급식 정보 조회 중: 날짜=20241030\n",
      "mealService 응답코드: 200\n",
      "급식 데이터 수: 1\n"
     ]
    },
    {
     "name": "stderr",
     "output_type": "stream",
     "text": [
      "[F10] 고등학교 급식 조회:  55%|████▍   | 39/71 [00:06<00:05,  5.70it/s]"
     ]
    },
    {
     "name": "stdout",
     "output_type": "stream",
     "text": [
      "7380065 문성고등학교\n",
      "급식 정보 조회 중: 날짜=20241030\n",
      "mealService 응답코드: 200\n",
      "급식 데이터 수: 1\n",
      "7380180 문정여자고등학교\n",
      "급식 정보 조회 중: 날짜=20241030\n"
     ]
    },
    {
     "name": "stderr",
     "output_type": "stream",
     "text": [
      "[F10] 고등학교 급식 조회:  56%|████▌   | 40/71 [00:06<00:05,  5.61it/s]"
     ]
    },
    {
     "name": "stdout",
     "output_type": "stream",
     "text": [
      "mealService 응답코드: 200\n",
      "급식 데이터 수: 1\n",
      "7380148 보문고등학교\n",
      "급식 정보 조회 중: 날짜=20241030\n",
      "mealService 응답코드: 200\n",
      "급식 데이터 수: 2\n"
     ]
    },
    {
     "name": "stderr",
     "output_type": "stream",
     "text": [
      "[F10] 고등학교 급식 조회:  59%|████▋   | 42/71 [00:07<00:05,  5.66it/s]"
     ]
    },
    {
     "name": "stdout",
     "output_type": "stream",
     "text": [
      "7380326 비아고등학교\n",
      "급식 정보 조회 중: 날짜=20241030\n",
      "mealService 응답코드: 200\n",
      "급식 데이터 수: 1\n"
     ]
    },
    {
     "name": "stderr",
     "output_type": "stream",
     "text": [
      "[F10] 고등학교 급식 조회:  61%|████▊   | 43/71 [00:07<00:05,  5.53it/s]"
     ]
    },
    {
     "name": "stdout",
     "output_type": "stream",
     "text": [
      "7380196 빛고을고등학교\n",
      "급식 정보 조회 중: 날짜=20241030\n",
      "mealService 응답코드: 200\n",
      "급식 데이터 수: 1\n"
     ]
    },
    {
     "name": "stderr",
     "output_type": "stream",
     "text": [
      "[F10] 고등학교 급식 조회:  62%|████▉   | 44/71 [00:07<00:04,  5.69it/s]"
     ]
    },
    {
     "name": "stdout",
     "output_type": "stream",
     "text": [
      "7380067 살레시오고등학교\n",
      "급식 정보 조회 중: 날짜=20241030\n",
      "mealService 응답코드: 200\n",
      "급식 데이터 수: 2\n",
      "7380068 살레시오여자고등학교\n",
      "급식 정보 조회 중: 날짜=20241030\n"
     ]
    },
    {
     "name": "stderr",
     "output_type": "stream",
     "text": [
      "[F10] 고등학교 급식 조회:  63%|█████   | 45/71 [00:07<00:04,  5.79it/s]"
     ]
    },
    {
     "name": "stdout",
     "output_type": "stream",
     "text": [
      "mealService 응답코드: 200\n",
      "급식 데이터 수: 1\n",
      "7380132 상무고등학교\n",
      "급식 정보 조회 중: 날짜=20241030\n",
      "mealService 응답코드: 200\n",
      "급식 데이터 수: 1\n"
     ]
    },
    {
     "name": "stderr",
     "output_type": "stream",
     "text": [
      "[F10] 고등학교 급식 조회:  66%|█████▎  | 47/71 [00:08<00:04,  5.94it/s]"
     ]
    },
    {
     "name": "stdout",
     "output_type": "stream",
     "text": [
      "7380177 상일여자고등학교\n",
      "급식 정보 조회 중: 날짜=20241030\n",
      "mealService 응답코드: 200\n",
      "급식 데이터 수: 2\n",
      "7380258 새날학교\n",
      "급식 정보 조회 중: 날짜=20241030\n"
     ]
    },
    {
     "name": "stderr",
     "output_type": "stream",
     "text": [
      "[F10] 고등학교 급식 조회:  68%|█████▍  | 48/71 [00:08<00:03,  5.84it/s]"
     ]
    },
    {
     "name": "stdout",
     "output_type": "stream",
     "text": [
      "mealService 응답코드: 200\n",
      "급식 데이터 수: 1\n",
      "7380069 서강고등학교\n",
      "급식 정보 조회 중: 날짜=20241030\n",
      "mealService 응답코드: 200\n",
      "급식 데이터 수: 1\n"
     ]
    },
    {
     "name": "stderr",
     "output_type": "stream",
     "text": [
      "[F10] 고등학교 급식 조회:  70%|█████▋  | 50/71 [00:08<00:03,  5.84it/s]"
     ]
    },
    {
     "name": "stdout",
     "output_type": "stream",
     "text": [
      "7380149 서진여자고등학교\n",
      "급식 정보 조회 중: 날짜=20241030\n",
      "mealService 응답코드: 200\n",
      "급식 데이터 수: 1\n",
      "7380073 설월여자고등학교\n",
      "급식 정보 조회 중: 날짜=20241030\n"
     ]
    },
    {
     "name": "stderr",
     "output_type": "stream",
     "text": [
      "[F10] 고등학교 급식 조회:  72%|█████▋  | 51/71 [00:08<00:03,  5.63it/s]"
     ]
    },
    {
     "name": "stdout",
     "output_type": "stream",
     "text": [
      "mealService 응답코드: 200\n",
      "급식 데이터 수: 1\n",
      "7380260 성덕고등학교\n",
      "급식 정보 조회 중: 날짜=20241030\n",
      "mealService 응답코드: 200\n",
      "급식 데이터 수: 1\n"
     ]
    },
    {
     "name": "stderr",
     "output_type": "stream",
     "text": [
      "[F10] 고등학교 급식 조회:  75%|█████▉  | 53/71 [00:09<00:03,  5.93it/s]"
     ]
    },
    {
     "name": "stdout",
     "output_type": "stream",
     "text": [
      "7380070 송원고등학교\n",
      "급식 정보 조회 중: 날짜=20241030\n",
      "mealService 응답코드: 200\n",
      "급식 데이터 수: 2\n",
      "7380071 송원여자고등학교\n",
      "급식 정보 조회 중: 날짜=20241030\n"
     ]
    },
    {
     "name": "stderr",
     "output_type": "stream",
     "text": [
      "[F10] 고등학교 급식 조회:  76%|██████  | 54/71 [00:09<00:02,  6.01it/s]"
     ]
    },
    {
     "name": "stdout",
     "output_type": "stream",
     "text": [
      "mealService 응답코드: 200\n",
      "급식 데이터 수: 1\n",
      "7380158 송원여자상업고등학교\n",
      "급식 정보 조회 중: 날짜=20241030\n",
      "mealService 응답코드: 200\n",
      "급식 데이터 수: 1\n"
     ]
    },
    {
     "name": "stderr",
     "output_type": "stream",
     "text": [
      "[F10] 고등학교 급식 조회:  79%|██████▎ | 56/71 [00:09<00:02,  6.00it/s]"
     ]
    },
    {
     "name": "stdout",
     "output_type": "stream",
     "text": [
      "7380182 수완고등학교\n",
      "급식 정보 조회 중: 날짜=20241030\n",
      "mealService 응답코드: 200\n",
      "급식 데이터 수: 1\n",
      "7380072 숭덕고등학교\n",
      "급식 정보 조회 중: 날짜=20241030\n"
     ]
    },
    {
     "name": "stderr",
     "output_type": "stream",
     "text": [
      "[F10] 고등학교 급식 조회:  80%|██████▍ | 57/71 [00:09<00:02,  5.89it/s]"
     ]
    },
    {
     "name": "stdout",
     "output_type": "stream",
     "text": [
      "mealService 응답코드: 200\n",
      "급식 데이터 수: 2\n",
      "7380321 숭의과학기술고등학교\n",
      "급식 정보 조회 중: 날짜=20241030\n",
      "mealService 응답코드: 200\n",
      "급식 데이터 수: 1\n"
     ]
    },
    {
     "name": "stderr",
     "output_type": "stream",
     "text": [
      "[F10] 고등학교 급식 조회:  83%|██████▋ | 59/71 [00:10<00:02,  5.91it/s]"
     ]
    },
    {
     "name": "stdout",
     "output_type": "stream",
     "text": [
      "7380147 운남고등학교\n",
      "급식 정보 조회 중: 날짜=20241030\n",
      "mealService 응답코드: 200\n",
      "급식 데이터 수: 1\n",
      "7380181 장덕고등학교\n",
      "급식 정보 조회 중: 날짜=20241030\n"
     ]
    },
    {
     "name": "stderr",
     "output_type": "stream",
     "text": [
      "[F10] 고등학교 급식 조회:  85%|██████▊ | 60/71 [00:10<00:01,  5.77it/s]"
     ]
    },
    {
     "name": "stdout",
     "output_type": "stream",
     "text": [
      "mealService 응답코드: 200\n",
      "급식 데이터 수: 1\n",
      "7380037 전남고등학교\n",
      "급식 정보 조회 중: 날짜=20241030\n",
      "mealService 응답코드: 200\n",
      "급식 데이터 수: 2\n"
     ]
    },
    {
     "name": "stderr",
     "output_type": "stream",
     "text": [
      "[F10] 고등학교 급식 조회:  87%|██████▉ | 62/71 [00:10<00:01,  5.92it/s]"
     ]
    },
    {
     "name": "stdout",
     "output_type": "stream",
     "text": [
      "7380086 전남공업고등학교\n",
      "급식 정보 조회 중: 날짜=20241030\n",
      "mealService 응답코드: 200\n",
      "급식 데이터 수: 1\n",
      "7380029 전남대학교사범대학부설고등학교\n",
      "급식 정보 조회 중: 날짜=20241030\n"
     ]
    },
    {
     "name": "stderr",
     "output_type": "stream",
     "text": [
      "[F10] 고등학교 급식 조회:  89%|███████ | 63/71 [00:10<00:01,  5.95it/s]"
     ]
    },
    {
     "name": "stdout",
     "output_type": "stream",
     "text": [
      "mealService 응답코드: 200\n",
      "급식 데이터 수: 1\n",
      "7380039 전남여자고등학교\n",
      "급식 정보 조회 중: 날짜=20241030\n",
      "mealService 응답코드: 200\n",
      "급식 데이터 수: 1\n"
     ]
    },
    {
     "name": "stderr",
     "output_type": "stream",
     "text": [
      "[F10] 고등학교 급식 조회:  92%|███████▎| 65/71 [00:11<00:01,  5.72it/s]"
     ]
    },
    {
     "name": "stdout",
     "output_type": "stream",
     "text": [
      "7380097 전남여자상업고등학교\n",
      "급식 정보 조회 중: 날짜=20241030\n",
      "mealService 응답코드: 200\n",
      "급식 데이터 수: 1\n"
     ]
    },
    {
     "name": "stderr",
     "output_type": "stream",
     "text": [
      "[F10] 고등학교 급식 조회:  93%|███████▍| 66/71 [00:11<00:00,  5.68it/s]"
     ]
    },
    {
     "name": "stdout",
     "output_type": "stream",
     "text": [
      "7380075 정광고등학교\n",
      "급식 정보 조회 중: 날짜=20241030\n",
      "mealService 응답코드: 200\n",
      "급식 데이터 수: 2\n",
      "7380076 조선대학교부속고등학교\n",
      "급식 정보 조회 중: 날짜=20241030\n"
     ]
    },
    {
     "name": "stderr",
     "output_type": "stream",
     "text": [
      "[F10] 고등학교 급식 조회:  94%|███████▌| 67/71 [00:11<00:00,  5.79it/s]"
     ]
    },
    {
     "name": "stdout",
     "output_type": "stream",
     "text": [
      "mealService 응답코드: 200\n",
      "급식 데이터 수: 2\n",
      "7380077 조선대학교여자고등학교\n",
      "급식 정보 조회 중: 날짜=20241030\n",
      "mealService 응답코드: 200\n",
      "급식 데이터 수: 2\n"
     ]
    },
    {
     "name": "stderr",
     "output_type": "stream",
     "text": [
      "[F10] 고등학교 급식 조회:  97%|███████▊| 69/71 [00:11<00:00,  5.94it/s]"
     ]
    },
    {
     "name": "stdout",
     "output_type": "stream",
     "text": [
      "7380153 첨단고등학교\n",
      "급식 정보 조회 중: 날짜=20241030\n",
      "mealService 응답코드: 200\n",
      "급식 데이터 수: 1\n",
      "7380145 풍암고등학교\n",
      "급식 정보 조회 중: 날짜=20241030\n"
     ]
    },
    {
     "name": "stderr",
     "output_type": "stream",
     "text": [
      "[F10] 고등학교 급식 조회:  99%|███████▉| 70/71 [00:11<00:00,  5.89it/s]"
     ]
    },
    {
     "name": "stdout",
     "output_type": "stream",
     "text": [
      "mealService 응답코드: 200\n",
      "급식 데이터 수: 1\n",
      "7380078 호남삼육고등학교\n",
      "급식 정보 조회 중: 날짜=20241030\n",
      "mealService 응답코드: 200\n",
      "급식 데이터 수: 3\n"
     ]
    },
    {
     "name": "stderr",
     "output_type": "stream",
     "text": [
      "[F10] 고등학교 급식 조회: 100%|████████| 71/71 [00:12<00:00,  5.84it/s]\n"
     ]
    },
    {
     "name": "stdout",
     "output_type": "stream",
     "text": [
      "응답코드 : 200\n"
     ]
    },
    {
     "name": "stderr",
     "output_type": "stream",
     "text": [
      "[G10] 고등학교 급식 조회:   2%|▏        | 1/62 [00:00<00:10,  5.92it/s]"
     ]
    },
    {
     "name": "stdout",
     "output_type": "stream",
     "text": [
      "7430324 계룡디지텍고등학교\n",
      "급식 정보 조회 중: 날짜=20241030\n",
      "mealService 응답코드: 200\n",
      "급식 데이터 수: 1\n",
      "7430046 남대전고등학교\n",
      "급식 정보 조회 중: 날짜=20241030\n"
     ]
    },
    {
     "name": "stderr",
     "output_type": "stream",
     "text": [
      "[G10] 고등학교 급식 조회:   3%|▎        | 2/62 [00:00<00:10,  5.88it/s]"
     ]
    },
    {
     "name": "stdout",
     "output_type": "stream",
     "text": [
      "mealService 응답코드: 200\n",
      "급식 데이터 수: 2\n",
      "7430030 대덕고등학교\n",
      "급식 정보 조회 중: 날짜=20241030\n",
      "mealService 응답코드: 200\n",
      "급식 데이터 수: 2\n"
     ]
    },
    {
     "name": "stderr",
     "output_type": "stream",
     "text": [
      "[G10] 고등학교 급식 조회:   6%|▌        | 4/62 [00:00<00:09,  6.01it/s]"
     ]
    },
    {
     "name": "stdout",
     "output_type": "stream",
     "text": [
      "7430310 대덕소프트웨어마이스터고등학교\n",
      "급식 정보 조회 중: 날짜=20241030\n",
      "mealService 응답코드: 200\n",
      "급식 데이터 수: 3\n",
      "7430241 대전가오고등학교\n",
      "급식 정보 조회 중: 날짜=20241030\n"
     ]
    },
    {
     "name": "stderr",
     "output_type": "stream",
     "text": [
      "[G10] 고등학교 급식 조회:   8%|▋        | 5/62 [00:00<00:09,  6.00it/s]"
     ]
    },
    {
     "name": "stdout",
     "output_type": "stream",
     "text": [
      "mealService 응답코드: 200\n",
      "급식 데이터 수: 2\n",
      "7430031 대전고등학교\n",
      "급식 정보 조회 중: 날짜=20241030\n",
      "mealService 응답코드: 200\n",
      "급식 데이터 수: 3\n"
     ]
    },
    {
     "name": "stderr",
     "output_type": "stream",
     "text": [
      "[G10] 고등학교 급식 조회:  10%|▊        | 6/62 [00:01<00:09,  6.03it/s]"
     ]
    },
    {
     "name": "stdout",
     "output_type": "stream",
     "text": [
      "7430032 대전과학고등학교\n",
      "급식 정보 조회 중: 날짜=20241030\n",
      "mealService 응답코드: 200\n",
      "급식 데이터 수: 3\n"
     ]
    },
    {
     "name": "stderr",
     "output_type": "stream",
     "text": [
      "[G10] 고등학교 급식 조회:  13%|█▏       | 8/62 [00:01<00:09,  5.63it/s]"
     ]
    },
    {
     "name": "stdout",
     "output_type": "stream",
     "text": [
      "7430033 대전관저고등학교\n",
      "급식 정보 조회 중: 날짜=20241030\n",
      "mealService 응답코드: 200\n",
      "급식 데이터 수: 1\n"
     ]
    },
    {
     "name": "stderr",
     "output_type": "stream",
     "text": [
      "[G10] 고등학교 급식 조회:  15%|█▎       | 9/62 [00:01<00:09,  5.72it/s]"
     ]
    },
    {
     "name": "stdout",
     "output_type": "stream",
     "text": [
      "7430237 대전괴정고등학교\n",
      "급식 정보 조회 중: 날짜=20241030\n",
      "mealService 응답코드: 200\n",
      "급식 데이터 수: 2\n",
      "7430150 대전구봉고등학교\n",
      "급식 정보 조회 중: 날짜=20241030\n"
     ]
    },
    {
     "name": "stderr",
     "output_type": "stream",
     "text": [
      "[G10] 고등학교 급식 조회:  16%|█▎      | 10/62 [00:01<00:08,  5.79it/s]"
     ]
    },
    {
     "name": "stdout",
     "output_type": "stream",
     "text": [
      "mealService 응답코드: 200\n",
      "급식 데이터 수: 2\n",
      "7430252 대전국제통상고등학교\n",
      "급식 정보 조회 중: 날짜=20241030\n",
      "mealService 응답코드: 200\n",
      "급식 데이터 수: 1\n"
     ]
    },
    {
     "name": "stderr",
     "output_type": "stream",
     "text": [
      "[G10] 고등학교 급식 조회:  19%|█▌      | 12/62 [00:02<00:08,  5.95it/s]"
     ]
    },
    {
     "name": "stdout",
     "output_type": "stream",
     "text": [
      "7430143 대전노은고등학교\n",
      "급식 정보 조회 중: 날짜=20241030\n",
      "mealService 응답코드: 200\n",
      "급식 데이터 수: 2\n",
      "7430325 대전대성고등학교\n",
      "급식 정보 조회 중: 날짜=20241030\n"
     ]
    },
    {
     "name": "stderr",
     "output_type": "stream",
     "text": [
      "[G10] 고등학교 급식 조회:  21%|█▋      | 13/62 [00:02<00:08,  5.65it/s]"
     ]
    },
    {
     "name": "stdout",
     "output_type": "stream",
     "text": [
      "mealService 응답코드: 200\n",
      "급식 데이터 수: 3\n",
      "7430326 대전대성여자고등학교\n",
      "급식 정보 조회 중: 날짜=20241030\n",
      "mealService 응답코드: 200\n",
      "급식 데이터 수: 1\n"
     ]
    },
    {
     "name": "stderr",
     "output_type": "stream",
     "text": [
      "[G10] 고등학교 급식 조회:  24%|█▉      | 15/62 [00:02<00:08,  5.81it/s]"
     ]
    },
    {
     "name": "stdout",
     "output_type": "stream",
     "text": [
      "7430048 대전대신고등학교\n",
      "급식 정보 조회 중: 날짜=20241030\n",
      "mealService 응답코드: 200\n",
      "급식 데이터 수: 1\n",
      "7430351 대전도시과학고등학교\n",
      "급식 정보 조회 중: 날짜=20241030\n"
     ]
    },
    {
     "name": "stderr",
     "output_type": "stream",
     "text": [
      "[G10] 고등학교 급식 조회:  26%|██      | 16/62 [00:02<00:08,  5.63it/s]"
     ]
    },
    {
     "name": "stdout",
     "output_type": "stream",
     "text": [
      "mealService 응답코드: 200\n",
      "급식 데이터 수: 1\n",
      "7430290 대전도안고등학교\n",
      "급식 정보 조회 중: 날짜=20241030\n",
      "mealService 응답코드: 200\n",
      "급식 데이터 수: 1\n"
     ]
    },
    {
     "name": "stderr",
     "output_type": "stream",
     "text": [
      "[G10] 고등학교 급식 조회:  29%|██▎     | 18/62 [00:03<00:07,  5.84it/s]"
     ]
    },
    {
     "name": "stdout",
     "output_type": "stream",
     "text": [
      "7430049 대전동산고등학교\n",
      "급식 정보 조회 중: 날짜=20241030\n",
      "mealService 응답코드: 200\n",
      "급식 데이터 수: 2\n",
      "7430295 대전동신과학고등학교\n",
      "급식 정보 조회 중: 날짜=20241030\n"
     ]
    },
    {
     "name": "stderr",
     "output_type": "stream",
     "text": [
      "[G10] 고등학교 급식 조회:  31%|██▍     | 19/62 [00:03<00:07,  5.92it/s]"
     ]
    },
    {
     "name": "stdout",
     "output_type": "stream",
     "text": [
      "mealService 응답코드: 200\n",
      "급식 데이터 수: 3\n",
      "7430034 대전둔산여자고등학교\n",
      "급식 정보 조회 중: 날짜=20241030\n",
      "mealService 응답코드: 200\n",
      "급식 데이터 수: 2\n"
     ]
    },
    {
     "name": "stderr",
     "output_type": "stream",
     "text": [
      "[G10] 고등학교 급식 조회:  34%|██▋     | 21/62 [00:03<00:06,  5.95it/s]"
     ]
    },
    {
     "name": "stdout",
     "output_type": "stream",
     "text": [
      "7430142 대전둔원고등학교\n",
      "급식 정보 조회 중: 날짜=20241030\n",
      "mealService 응답코드: 200\n",
      "급식 데이터 수: 2\n",
      "7430035 대전만년고등학교\n",
      "급식 정보 조회 중: 날짜=20241030\n"
     ]
    },
    {
     "name": "stderr",
     "output_type": "stream",
     "text": [
      "[G10] 고등학교 급식 조회:  35%|██▊     | 22/62 [00:03<00:06,  5.90it/s]"
     ]
    },
    {
     "name": "stdout",
     "output_type": "stream",
     "text": [
      "mealService 응답코드: 200\n",
      "급식 데이터 수: 2\n",
      "7430238 대전반석고등학교\n",
      "급식 정보 조회 중: 날짜=20241030\n",
      "mealService 응답코드: 200\n",
      "급식 데이터 수: 2\n"
     ]
    },
    {
     "name": "stderr",
     "output_type": "stream",
     "text": [
      "[G10] 고등학교 급식 조회:  39%|███     | 24/62 [00:04<00:06,  5.74it/s]"
     ]
    },
    {
     "name": "stdout",
     "output_type": "stream",
     "text": [
      "7430253 대전복수고등학교\n",
      "급식 정보 조회 중: 날짜=20241030\n",
      "mealService 응답코드: 200\n",
      "급식 데이터 수: 2\n"
     ]
    },
    {
     "name": "stderr",
     "output_type": "stream",
     "text": [
      "[G10] 고등학교 급식 조회:  40%|███▏    | 25/62 [00:04<00:06,  5.82it/s]"
     ]
    },
    {
     "name": "stdout",
     "output_type": "stream",
     "text": [
      "7430329 대전생활과학고등학교\n",
      "급식 정보 조회 중: 날짜=20241030\n",
      "mealService 응답코드: 200\n",
      "급식 데이터 수: 1\n",
      "7430051 대전성모여자고등학교\n",
      "급식 정보 조회 중: 날짜=20241030\n"
     ]
    },
    {
     "name": "stderr",
     "output_type": "stream",
     "text": [
      "[G10] 고등학교 급식 조회:  42%|███▎    | 26/62 [00:04<00:06,  5.95it/s]"
     ]
    },
    {
     "name": "stdout",
     "output_type": "stream",
     "text": [
      "mealService 응답코드: 200\n",
      "급식 데이터 수: 2\n",
      "7430132 대전송촌고등학교\n",
      "급식 정보 조회 중: 날짜=20241030\n",
      "mealService 응답코드: 200\n",
      "급식 데이터 수: 2\n"
     ]
    },
    {
     "name": "stderr",
     "output_type": "stream",
     "text": [
      "[G10] 고등학교 급식 조회:  45%|███▌    | 28/62 [00:04<00:05,  5.69it/s]"
     ]
    },
    {
     "name": "stdout",
     "output_type": "stream",
     "text": [
      "7430133 대전신일여자고등학교\n",
      "급식 정보 조회 중: 날짜=20241030\n",
      "mealService 응답코드: 200\n",
      "급식 데이터 수: 1\n",
      "7430036 대전여자고등학교\n",
      "급식 정보 조회 중: 날짜=20241030\n"
     ]
    },
    {
     "name": "stderr",
     "output_type": "stream",
     "text": [
      "[G10] 고등학교 급식 조회:  47%|███▋    | 29/62 [00:04<00:05,  5.66it/s]"
     ]
    },
    {
     "name": "stdout",
     "output_type": "stream",
     "text": [
      "mealService 응답코드: 200\n",
      "급식 데이터 수: 2\n",
      "7430083 대전여자상업고등학교\n",
      "급식 정보 조회 중: 날짜=20241030\n",
      "mealService 응답코드: 200\n",
      "급식 데이터 수: 1\n"
     ]
    },
    {
     "name": "stderr",
     "output_type": "stream",
     "text": [
      "[G10] 고등학교 급식 조회:  50%|████    | 31/62 [00:05<00:05,  5.79it/s]"
     ]
    },
    {
     "name": "stdout",
     "output_type": "stream",
     "text": [
      "7430053 대전예술고등학교\n",
      "급식 정보 조회 중: 날짜=20241030\n",
      "mealService 응답코드: 200\n",
      "급식 데이터 수: 1\n",
      "7430037 대전외국어고등학교\n",
      "급식 정보 조회 중: 날짜=20241030\n"
     ]
    },
    {
     "name": "stderr",
     "output_type": "stream",
     "text": [
      "[G10] 고등학교 급식 조회:  52%|████▏   | 32/62 [00:05<00:05,  5.80it/s]"
     ]
    },
    {
     "name": "stdout",
     "output_type": "stream",
     "text": [
      "mealService 응답코드: 200\n",
      "급식 데이터 수: 3\n",
      "7430239 대전용산고등학교\n",
      "급식 정보 조회 중: 날짜=20241030\n",
      "mealService 응답코드: 200\n",
      "급식 데이터 수: 2\n"
     ]
    },
    {
     "name": "stderr",
     "output_type": "stream",
     "text": [
      "[G10] 고등학교 급식 조회:  55%|████▍   | 34/62 [00:05<00:04,  5.77it/s]"
     ]
    },
    {
     "name": "stdout",
     "output_type": "stream",
     "text": [
      "7430240 대전이문고등학교\n",
      "급식 정보 조회 중: 날짜=20241030\n",
      "mealService 응답코드: 200\n",
      "급식 데이터 수: 2\n",
      "7430148 대전전민고등학교\n",
      "급식 정보 조회 중: 날짜=20241030\n"
     ]
    },
    {
     "name": "stderr",
     "output_type": "stream",
     "text": [
      "[G10] 고등학교 급식 조회:  56%|████▌   | 35/62 [00:06<00:04,  5.66it/s]"
     ]
    },
    {
     "name": "stdout",
     "output_type": "stream",
     "text": [
      "mealService 응답코드: 200\n",
      "급식 데이터 수: 2\n",
      "7430311 대전전자디자인고등학교\n",
      "급식 정보 조회 중: 날짜=20241030\n",
      "mealService 응답코드: 200\n",
      "급식 데이터 수: 1\n"
     ]
    },
    {
     "name": "stderr",
     "output_type": "stream",
     "text": [
      "[G10] 고등학교 급식 조회:  60%|████▊   | 37/62 [00:06<00:04,  5.88it/s]"
     ]
    },
    {
     "name": "stdout",
     "output_type": "stream",
     "text": [
      "7430242 대전제일고등학교\n",
      "급식 정보 조회 중: 날짜=20241030\n",
      "mealService 응답코드: 200\n",
      "급식 데이터 수: 2\n",
      "7430052 대전중앙고등학교\n",
      "급식 정보 조회 중: 날짜=20241030\n"
     ]
    },
    {
     "name": "stderr",
     "output_type": "stream",
     "text": [
      "[G10] 고등학교 급식 조회:  61%|████▉   | 38/62 [00:06<00:04,  5.63it/s]"
     ]
    },
    {
     "name": "stdout",
     "output_type": "stream",
     "text": [
      "mealService 응답코드: 200\n",
      "급식 데이터 수: 1\n",
      "7430149 대전지족고등학교\n",
      "급식 정보 조회 중: 날짜=20241030\n",
      "mealService 응답코드: 200\n",
      "급식 데이터 수: 2\n"
     ]
    },
    {
     "name": "stderr",
     "output_type": "stream",
     "text": [
      "[G10] 고등학교 급식 조회:  65%|█████▏  | 40/62 [00:06<00:03,  5.89it/s]"
     ]
    },
    {
     "name": "stdout",
     "output_type": "stream",
     "text": [
      "7430038 대전체육고등학교\n",
      "급식 정보 조회 중: 날짜=20241030\n",
      "mealService 응답코드: 200\n",
      "급식 데이터 수: 3\n",
      "7430138 대전한빛고등학교\n",
      "급식 정보 조회 중: 날짜=20241030\n"
     ]
    },
    {
     "name": "stderr",
     "output_type": "stream",
     "text": [
      "[G10] 고등학교 급식 조회:  66%|█████▎  | 41/62 [00:07<00:03,  5.70it/s]"
     ]
    },
    {
     "name": "stdout",
     "output_type": "stream",
     "text": [
      "mealService 응답코드: 200\n",
      "급식 데이터 수: 3\n",
      "7430039 동대전고등학교\n",
      "급식 정보 조회 중: 날짜=20241030\n",
      "mealService 응답코드: 200\n",
      "급식 데이터 수: 2\n"
     ]
    },
    {
     "name": "stderr",
     "output_type": "stream",
     "text": [
      "[G10] 고등학교 급식 조회:  69%|█████▌  | 43/62 [00:07<00:03,  5.78it/s]"
     ]
    },
    {
     "name": "stdout",
     "output_type": "stream",
     "text": [
      "7430244 동방고등학교\n",
      "급식 정보 조회 중: 날짜=20241030\n",
      "mealService 응답코드: 200\n",
      "급식 데이터 수: 2\n",
      "7430256 동아마이스터고등학교\n",
      "급식 정보 조회 중: 날짜=20241030\n"
     ]
    },
    {
     "name": "stderr",
     "output_type": "stream",
     "text": [
      "[G10] 고등학교 급식 조회:  71%|█████▋  | 44/62 [00:07<00:03,  5.79it/s]"
     ]
    },
    {
     "name": "stdout",
     "output_type": "stream",
     "text": [
      "mealService 응답코드: 200\n",
      "급식 데이터 수: 3\n",
      "7430056 명석고등학교\n",
      "급식 정보 조회 중: 날짜=20241030\n",
      "mealService 응답코드: 200\n",
      "급식 데이터 수: 1\n"
     ]
    },
    {
     "name": "stderr",
     "output_type": "stream",
     "text": [
      "[G10] 고등학교 급식 조회:  74%|█████▉  | 46/62 [00:07<00:02,  5.77it/s]"
     ]
    },
    {
     "name": "stdout",
     "output_type": "stream",
     "text": [
      "7430057 보문고등학교\n",
      "급식 정보 조회 중: 날짜=20241030\n",
      "mealService 응답코드: 200\n",
      "급식 데이터 수: 2\n",
      "7430059 서대전고등학교\n",
      "급식 정보 조회 중: 날짜=20241030\n"
     ]
    },
    {
     "name": "stderr",
     "output_type": "stream",
     "text": [
      "[G10] 고등학교 급식 조회:  76%|██████  | 47/62 [00:08<00:02,  5.88it/s]"
     ]
    },
    {
     "name": "stdout",
     "output_type": "stream",
     "text": [
      "mealService 응답코드: 200\n",
      "급식 데이터 수: 1\n",
      "7430060 서대전여자고등학교\n",
      "급식 정보 조회 중: 날짜=20241030\n",
      "mealService 응답코드: 200\n",
      "급식 데이터 수: 2\n"
     ]
    },
    {
     "name": "stderr",
     "output_type": "stream",
     "text": [
      "[G10] 고등학교 급식 조회:  79%|██████▎ | 49/62 [00:08<00:02,  5.91it/s]"
     ]
    },
    {
     "name": "stdout",
     "output_type": "stream",
     "text": [
      "7430061 서일고등학교\n",
      "급식 정보 조회 중: 날짜=20241030\n",
      "mealService 응답코드: 200\n",
      "급식 데이터 수: 2\n",
      "7430062 서일여자고등학교\n",
      "급식 정보 조회 중: 날짜=20241030\n"
     ]
    },
    {
     "name": "stderr",
     "output_type": "stream",
     "text": [
      "[G10] 고등학교 급식 조회:  81%|██████▍ | 50/62 [00:08<00:02,  5.83it/s]"
     ]
    },
    {
     "name": "stdout",
     "output_type": "stream",
     "text": [
      "mealService 응답코드: 200\n",
      "급식 데이터 수: 2\n",
      "7430041 신탄진고등학교\n",
      "급식 정보 조회 중: 날짜=20241030\n",
      "mealService 응답코드: 200\n",
      "급식 데이터 수: 1\n"
     ]
    },
    {
     "name": "stderr",
     "output_type": "stream",
     "text": [
      "[G10] 고등학교 급식 조회:  84%|██████▋ | 52/62 [00:08<00:01,  5.82it/s]"
     ]
    },
    {
     "name": "stdout",
     "output_type": "stream",
     "text": [
      "7430140 우송고등학교\n",
      "급식 정보 조회 중: 날짜=20241030\n",
      "mealService 응답코드: 200\n",
      "급식 데이터 수: 1\n",
      "7430042 유성고등학교\n",
      "급식 정보 조회 중: 날짜=20241030\n"
     ]
    },
    {
     "name": "stderr",
     "output_type": "stream",
     "text": [
      "[G10] 고등학교 급식 조회:  85%|██████▊ | 53/62 [00:09<00:01,  5.81it/s]"
     ]
    },
    {
     "name": "stdout",
     "output_type": "stream",
     "text": [
      "mealService 응답코드: 200\n",
      "급식 데이터 수: 2\n",
      "7430135 유성생명과학고등학교\n",
      "급식 정보 조회 중: 날짜=20241030\n",
      "mealService 응답코드: 200\n",
      "급식 데이터 수: 1\n"
     ]
    },
    {
     "name": "stderr",
     "output_type": "stream",
     "text": [
      "[G10] 고등학교 급식 조회:  89%|███████ | 55/62 [00:09<00:01,  5.94it/s]"
     ]
    },
    {
     "name": "stdout",
     "output_type": "stream",
     "text": [
      "7430064 유성여자고등학교\n",
      "급식 정보 조회 중: 날짜=20241030\n",
      "mealService 응답코드: 200\n",
      "급식 데이터 수: 2\n",
      "7430065 중일고등학교\n",
      "급식 정보 조회 중: 날짜=20241030\n"
     ]
    },
    {
     "name": "stderr",
     "output_type": "stream",
     "text": [
      "[G10] 고등학교 급식 조회:  90%|███████▏| 56/62 [00:09<00:01,  5.89it/s]"
     ]
    },
    {
     "name": "stdout",
     "output_type": "stream",
     "text": [
      "mealService 응답코드: 200\n",
      "급식 데이터 수: 2\n",
      "7430066 청란여자고등학교\n",
      "급식 정보 조회 중: 날짜=20241030\n",
      "mealService 응답코드: 200\n",
      "급식 데이터 수: 2\n"
     ]
    },
    {
     "name": "stderr",
     "output_type": "stream",
     "text": [
      "[G10] 고등학교 급식 조회:  94%|███████▍| 58/62 [00:09<00:00,  5.91it/s]"
     ]
    },
    {
     "name": "stdout",
     "output_type": "stream",
     "text": [
      "7430043 충남고등학교\n",
      "급식 정보 조회 중: 날짜=20241030\n",
      "mealService 응답코드: 200\n",
      "급식 데이터 수: 2\n",
      "7430073 충남기계공업고등학교\n",
      "급식 정보 조회 중: 날짜=20241030\n"
     ]
    },
    {
     "name": "stderr",
     "output_type": "stream",
     "text": [
      "[G10] 고등학교 급식 조회:  95%|███████▌| 59/62 [00:10<00:00,  5.65it/s]"
     ]
    },
    {
     "name": "stdout",
     "output_type": "stream",
     "text": [
      "mealService 응답코드: 200\n",
      "급식 데이터 수: 3\n",
      "7430044 충남여자고등학교\n",
      "급식 정보 조회 중: 날짜=20241030\n",
      "mealService 응답코드: 200\n",
      "급식 데이터 수: 2\n"
     ]
    },
    {
     "name": "stderr",
     "output_type": "stream",
     "text": [
      "[G10] 고등학교 급식 조회:  98%|███████▊| 61/62 [00:10<00:00,  5.91it/s]"
     ]
    },
    {
     "name": "stdout",
     "output_type": "stream",
     "text": [
      "7430045 한밭고등학교\n",
      "급식 정보 조회 중: 날짜=20241030\n",
      "mealService 응답코드: 200\n",
      "급식 데이터 수: 2\n",
      "7430067 호수돈여자고등학교\n",
      "급식 정보 조회 중: 날짜=20241030\n"
     ]
    },
    {
     "name": "stderr",
     "output_type": "stream",
     "text": [
      "[G10] 고등학교 급식 조회: 100%|████████| 62/62 [00:10<00:00,  5.82it/s]\n"
     ]
    },
    {
     "name": "stdout",
     "output_type": "stream",
     "text": [
      "mealService 응답코드: 200\n",
      "급식 데이터 수: 2\n",
      "응답코드 : 200\n"
     ]
    },
    {
     "name": "stderr",
     "output_type": "stream",
     "text": [
      "[H10] 고등학교 급식 조회:   2%|▏        | 1/57 [00:00<00:09,  6.00it/s]"
     ]
    },
    {
     "name": "stdout",
     "output_type": "stream",
     "text": [
      "7480237 강동고등학교\n",
      "급식 정보 조회 중: 날짜=20241030\n",
      "mealService 응답코드: 200\n",
      "급식 데이터 수: 1\n",
      "7480124 남목고등학교\n",
      "급식 정보 조회 중: 날짜=20241030\n"
     ]
    },
    {
     "name": "stderr",
     "output_type": "stream",
     "text": [
      "[H10] 고등학교 급식 조회:   4%|▎        | 2/57 [00:00<00:09,  5.77it/s]"
     ]
    },
    {
     "name": "stdout",
     "output_type": "stream",
     "text": [
      "mealService 응답코드: 200\n",
      "급식 데이터 수: 1\n",
      "7480023 남창고등학교\n",
      "급식 정보 조회 중: 날짜=20241030\n",
      "mealService 응답코드: 200\n",
      "급식 데이터 수: 1\n"
     ]
    },
    {
     "name": "stderr",
     "output_type": "stream",
     "text": [
      "[H10] 고등학교 급식 조회:   7%|▋        | 4/57 [00:00<00:08,  5.95it/s]"
     ]
    },
    {
     "name": "stdout",
     "output_type": "stream",
     "text": [
      "7480126 다운고등학교\n",
      "급식 정보 조회 중: 날짜=20241030\n",
      "mealService 응답코드: 200\n",
      "급식 데이터 수: 1\n",
      "7480135 달천고등학교\n",
      "급식 정보 조회 중: 날짜=20241030\n"
     ]
    },
    {
     "name": "stderr",
     "output_type": "stream",
     "text": [
      "[H10] 고등학교 급식 조회:   9%|▊        | 5/57 [00:00<00:08,  5.99it/s]"
     ]
    },
    {
     "name": "stdout",
     "output_type": "stream",
     "text": [
      "mealService 응답코드: 200\n",
      "급식 데이터 수: 1\n",
      "7480069 대송고등학교\n",
      "급식 정보 조회 중: 날짜=20241030\n"
     ]
    },
    {
     "name": "stderr",
     "output_type": "stream",
     "text": [
      "[H10] 고등학교 급식 조회:  11%|▉        | 6/57 [00:01<00:10,  4.93it/s]"
     ]
    },
    {
     "name": "stdout",
     "output_type": "stream",
     "text": [
      "mealService 응답코드: 200\n",
      "급식 데이터 수: 1\n",
      "7480093 대현고등학교\n",
      "급식 정보 조회 중: 날짜=20241030\n"
     ]
    },
    {
     "name": "stderr",
     "output_type": "stream",
     "text": [
      "[H10] 고등학교 급식 조회:  12%|█        | 7/57 [00:01<00:10,  4.83it/s]"
     ]
    },
    {
     "name": "stdout",
     "output_type": "stream",
     "text": [
      "mealService 응답코드: 200\n",
      "급식 데이터 수: 1\n",
      "7480199 매곡고등학교\n",
      "급식 정보 조회 중: 날짜=20241030\n"
     ]
    },
    {
     "name": "stderr",
     "output_type": "stream",
     "text": [
      "[H10] 고등학교 급식 조회:  14%|█▎       | 8/57 [00:01<00:10,  4.83it/s]"
     ]
    },
    {
     "name": "stdout",
     "output_type": "stream",
     "text": [
      "mealService 응답코드: 200\n",
      "급식 데이터 수: 1\n",
      "7480107 무거고등학교\n",
      "급식 정보 조회 중: 날짜=20241030\n"
     ]
    },
    {
     "name": "stderr",
     "output_type": "stream",
     "text": [
      "[H10] 고등학교 급식 조회:  16%|█▍       | 9/57 [00:01<00:12,  3.97it/s]"
     ]
    },
    {
     "name": "stdout",
     "output_type": "stream",
     "text": [
      "mealService 응답코드: 200\n",
      "급식 데이터 수: 1\n",
      "7480070 무룡고등학교\n",
      "급식 정보 조회 중: 날짜=20241030\n"
     ]
    },
    {
     "name": "stderr",
     "output_type": "stream",
     "text": [
      "[H10] 고등학교 급식 조회:  18%|█▍      | 10/57 [00:02<00:11,  3.99it/s]"
     ]
    },
    {
     "name": "stdout",
     "output_type": "stream",
     "text": [
      "mealService 응답코드: 200\n",
      "급식 데이터 수: 1\n",
      "7480088 문수고등학교\n",
      "급식 정보 조회 중: 날짜=20241030\n",
      "mealService 응답코드: 200\n",
      "급식 데이터 수: 1\n"
     ]
    },
    {
     "name": "stderr",
     "output_type": "stream",
     "text": [
      "[H10] 고등학교 급식 조회:  21%|█▋      | 12/57 [00:02<00:10,  4.50it/s]"
     ]
    },
    {
     "name": "stdout",
     "output_type": "stream",
     "text": [
      "7480108 문현고등학교\n",
      "급식 정보 조회 중: 날짜=20241030\n",
      "mealService 응답코드: 200\n",
      "급식 데이터 수: 1\n",
      "7480024 방어진고등학교\n",
      "급식 정보 조회 중: 날짜=20241030\n",
      "mealService 응답코드: 200\n",
      "급식 데이터 수: 1\n"
     ]
    },
    {
     "name": "stderr",
     "output_type": "stream",
     "text": [
      "[H10] 고등학교 급식 조회:  25%|█▉      | 14/57 [00:02<00:09,  4.60it/s]"
     ]
    },
    {
     "name": "stdout",
     "output_type": "stream",
     "text": [
      "7480125 범서고등학교\n",
      "급식 정보 조회 중: 날짜=20241030\n",
      "mealService 응답코드: 200\n",
      "급식 데이터 수: 1\n"
     ]
    },
    {
     "name": "stderr",
     "output_type": "stream",
     "text": [
      "[H10] 고등학교 급식 조회:  26%|██      | 15/57 [00:03<00:08,  4.81it/s]"
     ]
    },
    {
     "name": "stdout",
     "output_type": "stream",
     "text": [
      "7480096 삼산고등학교\n",
      "급식 정보 조회 중: 날짜=20241030\n",
      "mealService 응답코드: 200\n",
      "급식 데이터 수: 1\n",
      "7480033 성광여자고등학교\n",
      "급식 정보 조회 중: 날짜=20241030\n",
      "mealService 응답코드: 200\n",
      "급식 데이터 수: 2\n"
     ]
    },
    {
     "name": "stderr",
     "output_type": "stream",
     "text": [
      "[H10] 고등학교 급식 조회:  28%|██▏     | 16/57 [00:03<00:08,  4.63it/s]"
     ]
    },
    {
     "name": "stdout",
     "output_type": "stream",
     "text": [
      "7480034 성신고등학교\n",
      "급식 정보 조회 중: 날짜=20241030\n",
      "mealService 응답코드: 200\n",
      "급식 데이터 수: 1\n"
     ]
    },
    {
     "name": "stderr",
     "output_type": "stream",
     "text": [
      "[H10] 고등학교 급식 조회:  30%|██▍     | 17/57 [00:03<00:08,  4.71it/s]"
     ]
    },
    {
     "name": "stdout",
     "output_type": "stream",
     "text": [
      "7480095 신선여자고등학교\n",
      "급식 정보 조회 중: 날짜=20241030\n"
     ]
    },
    {
     "name": "stderr",
     "output_type": "stream",
     "text": [
      "[H10] 고등학교 급식 조회:  32%|██▌     | 18/57 [00:03<00:09,  4.06it/s]"
     ]
    },
    {
     "name": "stdout",
     "output_type": "stream",
     "text": [
      "mealService 응답코드: 200\n",
      "급식 데이터 수: 1\n",
      "7480072 신정고등학교\n",
      "급식 정보 조회 중: 날짜=20241030\n"
     ]
    },
    {
     "name": "stderr",
     "output_type": "stream",
     "text": [
      "[H10] 고등학교 급식 조회:  33%|██▋     | 19/57 [00:04<00:09,  3.99it/s]"
     ]
    },
    {
     "name": "stdout",
     "output_type": "stream",
     "text": [
      "mealService 응답코드: 200\n",
      "급식 데이터 수: 1\n",
      "7480189 약사고등학교\n",
      "급식 정보 조회 중: 날짜=20241030\n"
     ]
    },
    {
     "name": "stderr",
     "output_type": "stream",
     "text": [
      "[H10] 고등학교 급식 조회:  35%|██▊     | 20/57 [00:04<00:08,  4.13it/s]"
     ]
    },
    {
     "name": "stdout",
     "output_type": "stream",
     "text": [
      "mealService 응답코드: 200\n",
      "급식 데이터 수: 1\n",
      "7480188 언양고등학교\n",
      "급식 정보 조회 중: 날짜=20241030\n",
      "mealService 응답코드: 200\n",
      "급식 데이터 수: 1\n"
     ]
    },
    {
     "name": "stderr",
     "output_type": "stream",
     "text": [
      "[H10] 고등학교 급식 조회:  37%|██▉     | 21/57 [00:04<00:08,  4.42it/s]"
     ]
    },
    {
     "name": "stdout",
     "output_type": "stream",
     "text": [
      "7480205 온산고등학교\n",
      "급식 정보 조회 중: 날짜=20241030\n",
      "mealService 응답코드: 200\n",
      "급식 데이터 수: 1\n"
     ]
    },
    {
     "name": "stderr",
     "output_type": "stream",
     "text": [
      "[H10] 고등학교 급식 조회:  40%|███▏    | 23/57 [00:04<00:07,  4.67it/s]"
     ]
    },
    {
     "name": "stdout",
     "output_type": "stream",
     "text": [
      "7480074 우신고등학교\n",
      "급식 정보 조회 중: 날짜=20241030\n",
      "mealService 응답코드: 200\n",
      "급식 데이터 수: 1\n"
     ]
    },
    {
     "name": "stderr",
     "output_type": "stream",
     "text": [
      "[H10] 고등학교 급식 조회:  42%|███▎    | 24/57 [00:05<00:06,  4.74it/s]"
     ]
    },
    {
     "name": "stdout",
     "output_type": "stream",
     "text": [
      "7480254 울산가온고등학교\n",
      "급식 정보 조회 중: 날짜=20241030\n",
      "mealService 응답코드: 200\n",
      "mealServiceDietInfo 키 없음: {'RESULT': {'CODE': 'INFO-200', 'MESSAGE': '해당하는 데이터가 없습니다.'}}\n",
      "7480142 울산강남고등학교\n",
      "급식 정보 조회 중: 날짜=20241030\n",
      "mealService 응답코드: 200\n",
      "급식 데이터 수: 1\n"
     ]
    },
    {
     "name": "stderr",
     "output_type": "stream",
     "text": [
      "[H10] 고등학교 급식 조회:  44%|███▌    | 25/57 [00:05<00:06,  4.69it/s]"
     ]
    },
    {
     "name": "stdout",
     "output_type": "stream",
     "text": [
      "7480075 울산경의고등학교\n",
      "급식 정보 조회 중: 날짜=20241030\n",
      "mealService 응답코드: 200\n",
      "급식 데이터 수: 1\n"
     ]
    },
    {
     "name": "stderr",
     "output_type": "stream",
     "text": [
      "[H10] 고등학교 급식 조회:  46%|███▋    | 26/57 [00:05<00:06,  4.68it/s]"
     ]
    },
    {
     "name": "stdout",
     "output_type": "stream",
     "text": [
      "7480035 울산고등학교\n",
      "급식 정보 조회 중: 날짜=20241030\n",
      "mealService 응답코드: 200\n",
      "급식 데이터 수: 1\n"
     ]
    },
    {
     "name": "stderr",
     "output_type": "stream",
     "text": [
      "[H10] 고등학교 급식 조회:  49%|███▉    | 28/57 [00:06<00:06,  4.77it/s]"
     ]
    },
    {
     "name": "stdout",
     "output_type": "stream",
     "text": [
      "7480044 울산공업고등학교\n",
      "급식 정보 조회 중: 날짜=20241030\n",
      "mealService 응답코드: 200\n",
      "급식 데이터 수: 1\n"
     ]
    },
    {
     "name": "stderr",
     "output_type": "stream",
     "text": [
      "[H10] 고등학교 급식 조회:  51%|████    | 29/57 [00:06<00:05,  5.08it/s]"
     ]
    },
    {
     "name": "stdout",
     "output_type": "stream",
     "text": [
      "7480110 울산과학고등학교\n",
      "급식 정보 조회 중: 날짜=20241030\n",
      "mealService 응답코드: 200\n",
      "급식 데이터 수: 3\n",
      "7480208 울산기술공업고등학교\n",
      "급식 정보 조회 중: 날짜=20241030\n"
     ]
    },
    {
     "name": "stderr",
     "output_type": "stream",
     "text": [
      "[H10] 고등학교 급식 조회:  53%|████▏   | 30/57 [00:06<00:05,  5.39it/s]"
     ]
    },
    {
     "name": "stdout",
     "output_type": "stream",
     "text": [
      "mealService 응답코드: 200\n",
      "급식 데이터 수: 1\n",
      "7480172 울산동천고등학교\n",
      "급식 정보 조회 중: 날짜=20241030\n"
     ]
    },
    {
     "name": "stderr",
     "output_type": "stream",
     "text": [
      "[H10] 고등학교 급식 조회:  54%|████▎   | 31/57 [00:06<00:05,  4.88it/s]"
     ]
    },
    {
     "name": "stdout",
     "output_type": "stream",
     "text": [
      "mealService 응답코드: 200\n",
      "급식 데이터 수: 1\n",
      "7480143 울산마이스터고등학교\n",
      "급식 정보 조회 중: 날짜=20241030\n",
      "mealService 응답코드: 200\n",
      "급식 데이터 수: 3\n"
     ]
    },
    {
     "name": "stderr",
     "output_type": "stream",
     "text": [
      "[H10] 고등학교 급식 조회:  58%|████▋   | 33/57 [00:06<00:04,  5.30it/s]"
     ]
    },
    {
     "name": "stdout",
     "output_type": "stream",
     "text": [
      "7480173 울산미용예술고등학교\n",
      "급식 정보 조회 중: 날짜=20241030\n",
      "mealService 응답코드: 200\n",
      "급식 데이터 수: 1\n",
      "7480190 울산산업고등학교\n",
      "급식 정보 조회 중: 날짜=20241030\n"
     ]
    },
    {
     "name": "stderr",
     "output_type": "stream",
     "text": [
      "[H10] 고등학교 급식 조회:  60%|████▊   | 34/57 [00:07<00:04,  5.43it/s]"
     ]
    },
    {
     "name": "stdout",
     "output_type": "stream",
     "text": [
      "mealService 응답코드: 200\n",
      "급식 데이터 수: 1\n",
      "7480252 울산삼일고등학교\n",
      "급식 정보 조회 중: 날짜=20241030\n",
      "mealService 응답코드: 200\n",
      "mealServiceDietInfo 키 없음: {'RESULT': {'CODE': 'INFO-200', 'MESSAGE': '해당하는 데이터가 없습니다.'}}\n"
     ]
    },
    {
     "name": "stderr",
     "output_type": "stream",
     "text": [
      "[H10] 고등학교 급식 조회:  63%|█████   | 36/57 [00:07<00:03,  5.60it/s]"
     ]
    },
    {
     "name": "stdout",
     "output_type": "stream",
     "text": [
      "7480198 울산상업고등학교\n",
      "급식 정보 조회 중: 날짜=20241030\n",
      "mealService 응답코드: 200\n",
      "급식 데이터 수: 1\n",
      "7480047 울산생활과학고등학교\n",
      "급식 정보 조회 중: 날짜=20241030\n"
     ]
    },
    {
     "name": "stderr",
     "output_type": "stream",
     "text": [
      "[H10] 고등학교 급식 조회:  65%|█████▏  | 37/57 [00:07<00:03,  5.57it/s]"
     ]
    },
    {
     "name": "stdout",
     "output_type": "stream",
     "text": [
      "mealService 응답코드: 200\n",
      "급식 데이터 수: 1\n",
      "7480191 울산스포츠과학고등학교\n",
      "급식 정보 조회 중: 날짜=20241030\n",
      "mealService 응답코드: 200\n",
      "급식 데이터 수: 3\n"
     ]
    },
    {
     "name": "stderr",
     "output_type": "stream",
     "text": [
      "[H10] 고등학교 급식 조회:  68%|█████▍  | 39/57 [00:08<00:03,  5.61it/s]"
     ]
    },
    {
     "name": "stdout",
     "output_type": "stream",
     "text": [
      "7480087 울산애니원고등학교\n",
      "급식 정보 조회 중: 날짜=20241030\n",
      "mealService 응답코드: 200\n",
      "급식 데이터 수: 3\n",
      "7480183 울산에너지고등학교\n",
      "급식 정보 조회 중: 날짜=20241030\n"
     ]
    },
    {
     "name": "stderr",
     "output_type": "stream",
     "text": [
      "[H10] 고등학교 급식 조회:  70%|█████▌  | 40/57 [00:08<00:03,  5.57it/s]"
     ]
    },
    {
     "name": "stdout",
     "output_type": "stream",
     "text": [
      "mealService 응답코드: 200\n",
      "급식 데이터 수: 1\n",
      "7480026 울산여자고등학교\n",
      "급식 정보 조회 중: 날짜=20241030\n",
      "mealService 응답코드: 200\n",
      "급식 데이터 수: 1\n"
     ]
    },
    {
     "name": "stderr",
     "output_type": "stream",
     "text": [
      "[H10] 고등학교 급식 조회:  74%|█████▉  | 42/57 [00:08<00:02,  5.83it/s]"
     ]
    },
    {
     "name": "stdout",
     "output_type": "stream",
     "text": [
      "7480048 울산여자상업고등학교\n",
      "급식 정보 조회 중: 날짜=20241030\n",
      "mealService 응답코드: 200\n",
      "급식 데이터 수: 1\n",
      "7480036 울산예술고등학교\n",
      "급식 정보 조회 중: 날짜=20241030\n"
     ]
    },
    {
     "name": "stderr",
     "output_type": "stream",
     "text": [
      "[H10] 고등학교 급식 조회:  75%|██████  | 43/57 [00:08<00:02,  5.91it/s]"
     ]
    },
    {
     "name": "stdout",
     "output_type": "stream",
     "text": [
      "mealService 응답코드: 200\n",
      "급식 데이터 수: 1\n",
      "7480141 울산외국어고등학교\n",
      "급식 정보 조회 중: 날짜=20241030\n",
      "mealService 응답코드: 200\n",
      "급식 데이터 수: 1\n"
     ]
    },
    {
     "name": "stderr",
     "output_type": "stream",
     "text": [
      "[H10] 고등학교 급식 조회:  79%|██████▎ | 45/57 [00:09<00:02,  5.90it/s]"
     ]
    },
    {
     "name": "stdout",
     "output_type": "stream",
     "text": [
      "7480037 울산제일고등학교\n",
      "급식 정보 조회 중: 날짜=20241030\n",
      "mealService 응답코드: 200\n",
      "급식 데이터 수: 1\n"
     ]
    },
    {
     "name": "stderr",
     "output_type": "stream",
     "text": [
      "[H10] 고등학교 급식 조회:  81%|██████▍ | 46/57 [00:09<00:01,  5.93it/s]"
     ]
    },
    {
     "name": "stdout",
     "output_type": "stream",
     "text": [
      "7480027 울산중앙고등학교\n",
      "급식 정보 조회 중: 날짜=20241030\n",
      "mealService 응답코드: 200\n",
      "급식 데이터 수: 1\n",
      "7480209 천상고등학교\n",
      "급식 정보 조회 중: 날짜=20241030\n"
     ]
    },
    {
     "name": "stderr",
     "output_type": "stream",
     "text": [
      "[H10] 고등학교 급식 조회:  82%|██████▌ | 47/57 [00:09<00:01,  6.03it/s]"
     ]
    },
    {
     "name": "stdout",
     "output_type": "stream",
     "text": [
      "mealService 응답코드: 200\n",
      "급식 데이터 수: 1\n",
      "7480029 학성고등학교\n",
      "급식 정보 조회 중: 날짜=20241030\n",
      "mealService 응답코드: 200\n",
      "급식 데이터 수: 1\n"
     ]
    },
    {
     "name": "stderr",
     "output_type": "stream",
     "text": [
      "[H10] 고등학교 급식 조회:  86%|██████▉ | 49/57 [00:09<00:01,  5.82it/s]"
     ]
    },
    {
     "name": "stdout",
     "output_type": "stream",
     "text": [
      "7480030 학성여자고등학교\n",
      "급식 정보 조회 중: 날짜=20241030\n",
      "mealService 응답코드: 200\n",
      "급식 데이터 수: 1\n"
     ]
    },
    {
     "name": "stderr",
     "output_type": "stream",
     "text": [
      "[H10] 고등학교 급식 조회:  88%|███████ | 50/57 [00:09<00:01,  5.83it/s]"
     ]
    },
    {
     "name": "stdout",
     "output_type": "stream",
     "text": [
      "7480094 함월고등학교\n",
      "급식 정보 조회 중: 날짜=20241030\n",
      "mealService 응답코드: 200\n",
      "급식 데이터 수: 1\n",
      "7480039 현대고등학교\n",
      "급식 정보 조회 중: 날짜=20241030\n"
     ]
    },
    {
     "name": "stderr",
     "output_type": "stream",
     "text": [
      "[H10] 고등학교 급식 조회:  89%|███████▏| 51/57 [00:10<00:01,  5.86it/s]"
     ]
    },
    {
     "name": "stdout",
     "output_type": "stream",
     "text": [
      "mealService 응답코드: 200\n",
      "급식 데이터 수: 1\n",
      "7480186 현대공업고등학교\n",
      "급식 정보 조회 중: 날짜=20241030\n",
      "mealService 응답코드: 200\n",
      "급식 데이터 수: 1\n"
     ]
    },
    {
     "name": "stderr",
     "output_type": "stream",
     "text": [
      "[H10] 고등학교 급식 조회:  93%|███████▍| 53/57 [00:10<00:00,  6.01it/s]"
     ]
    },
    {
     "name": "stdout",
     "output_type": "stream",
     "text": [
      "7480085 현대청운고등학교\n",
      "급식 정보 조회 중: 날짜=20241030\n",
      "mealService 응답코드: 200\n",
      "급식 데이터 수: 3\n",
      "7480109 호계고등학교\n",
      "급식 정보 조회 중: 날짜=20241030\n"
     ]
    },
    {
     "name": "stderr",
     "output_type": "stream",
     "text": [
      "[H10] 고등학교 급식 조회:  95%|███████▌| 54/57 [00:10<00:00,  5.97it/s]"
     ]
    },
    {
     "name": "stdout",
     "output_type": "stream",
     "text": [
      "mealService 응답코드: 200\n",
      "급식 데이터 수: 1\n",
      "7480171 화봉고등학교\n",
      "급식 정보 조회 중: 날짜=20241030\n",
      "mealService 응답코드: 200\n",
      "급식 데이터 수: 1\n"
     ]
    },
    {
     "name": "stderr",
     "output_type": "stream",
     "text": [
      "[H10] 고등학교 급식 조회:  98%|███████▊| 56/57 [00:10<00:00,  6.01it/s]"
     ]
    },
    {
     "name": "stdout",
     "output_type": "stream",
     "text": [
      "7480083 화암고등학교\n",
      "급식 정보 조회 중: 날짜=20241030\n",
      "mealService 응답코드: 200\n",
      "급식 데이터 수: 1\n",
      "7480073 효정고등학교\n",
      "급식 정보 조회 중: 날짜=20241030\n"
     ]
    },
    {
     "name": "stderr",
     "output_type": "stream",
     "text": [
      "[H10] 고등학교 급식 조회: 100%|████████| 57/57 [00:11<00:00,  5.15it/s]\n"
     ]
    },
    {
     "name": "stdout",
     "output_type": "stream",
     "text": [
      "mealService 응답코드: 200\n",
      "급식 데이터 수: 1\n",
      "응답코드 : 200\n"
     ]
    },
    {
     "name": "stderr",
     "output_type": "stream",
     "text": [
      "[I10] 고등학교 급식 조회:   5%|▍        | 1/22 [00:00<00:03,  5.60it/s]"
     ]
    },
    {
     "name": "stdout",
     "output_type": "stream",
     "text": [
      "9300178 고운고등학교\n",
      "급식 정보 조회 중: 날짜=20241030\n",
      "mealService 응답코드: 200\n",
      "급식 데이터 수: 2\n"
     ]
    },
    {
     "name": "stderr",
     "output_type": "stream",
     "text": [
      "[I10] 고등학교 급식 조회:   9%|▊        | 2/22 [00:00<00:03,  5.57it/s]"
     ]
    },
    {
     "name": "stdout",
     "output_type": "stream",
     "text": [
      "9300235 다정고등학교\n",
      "급식 정보 조회 중: 날짜=20241030\n",
      "mealService 응답코드: 200\n",
      "급식 데이터 수: 2\n",
      "9300107 도담고등학교\n",
      "급식 정보 조회 중: 날짜=20241030\n"
     ]
    },
    {
     "name": "stderr",
     "output_type": "stream",
     "text": [
      "[I10] 고등학교 급식 조회:  14%|█▏       | 3/22 [00:00<00:03,  5.70it/s]"
     ]
    },
    {
     "name": "stdout",
     "output_type": "stream",
     "text": [
      "mealService 응답코드: 200\n",
      "급식 데이터 수: 2\n",
      "9300177 두루고등학교\n",
      "급식 정보 조회 중: 날짜=20241030\n",
      "mealService 응답코드: 200\n",
      "급식 데이터 수: 2\n"
     ]
    },
    {
     "name": "stderr",
     "output_type": "stream",
     "text": [
      "[I10] 고등학교 급식 조회:  23%|██       | 5/22 [00:00<00:02,  5.74it/s]"
     ]
    },
    {
     "name": "stdout",
     "output_type": "stream",
     "text": [
      "9300265 반곡고등학교\n",
      "급식 정보 조회 중: 날짜=20241030\n",
      "mealService 응답코드: 200\n",
      "급식 데이터 수: 2\n",
      "9300191 보람고등학교\n",
      "급식 정보 조회 중: 날짜=20241030\n"
     ]
    },
    {
     "name": "stderr",
     "output_type": "stream",
     "text": [
      "[I10] 고등학교 급식 조회:  27%|██▍      | 6/22 [00:01<00:02,  5.88it/s]"
     ]
    },
    {
     "name": "stdout",
     "output_type": "stream",
     "text": [
      "mealService 응답코드: 200\n",
      "급식 데이터 수: 1\n",
      "9300219 새롬고등학교\n",
      "급식 정보 조회 중: 날짜=20241030\n",
      "mealService 응답코드: 200\n",
      "급식 데이터 수: 2\n"
     ]
    },
    {
     "name": "stderr",
     "output_type": "stream",
     "text": [
      "[I10] 고등학교 급식 조회:  36%|███▎     | 8/22 [00:01<00:02,  5.77it/s]"
     ]
    },
    {
     "name": "stdout",
     "output_type": "stream",
     "text": [
      "9300054 세종고등학교\n",
      "급식 정보 조회 중: 날짜=20241030\n",
      "mealService 응답코드: 200\n",
      "급식 데이터 수: 3\n"
     ]
    },
    {
     "name": "stderr",
     "output_type": "stream",
     "text": [
      "[I10] 고등학교 급식 조회:  41%|███▋     | 9/22 [00:01<00:02,  5.74it/s]"
     ]
    },
    {
     "name": "stdout",
     "output_type": "stream",
     "text": [
      "9300181 세종과학예술영재학교\n",
      "급식 정보 조회 중: 날짜=20241030\n",
      "mealService 응답코드: 200\n",
      "급식 데이터 수: 3\n",
      "9300108 세종국제고등학교\n",
      "급식 정보 조회 중: 날짜=20241030\n"
     ]
    },
    {
     "name": "stderr",
     "output_type": "stream",
     "text": [
      "[I10] 고등학교 급식 조회:  45%|███▋    | 10/22 [00:01<00:02,  5.72it/s]"
     ]
    },
    {
     "name": "stdout",
     "output_type": "stream",
     "text": [
      "mealService 응답코드: 200\n",
      "급식 데이터 수: 3\n",
      "9300278 세종대성고등학교\n",
      "급식 정보 조회 중: 날짜=20241030\n",
      "mealService 응답코드: 200\n",
      "급식 데이터 수: 3\n"
     ]
    },
    {
     "name": "stderr",
     "output_type": "stream",
     "text": [
      "[I10] 고등학교 급식 조회:  55%|████▎   | 12/22 [00:02<00:01,  5.77it/s]"
     ]
    },
    {
     "name": "stdout",
     "output_type": "stream",
     "text": [
      "9300329 세종미래고등학교\n",
      "급식 정보 조회 중: 날짜=20241030\n",
      "mealService 응답코드: 200\n",
      "급식 데이터 수: 3\n",
      "9300185 세종여자고등학교\n",
      "급식 정보 조회 중: 날짜=20241030\n"
     ]
    },
    {
     "name": "stderr",
     "output_type": "stream",
     "text": [
      "[I10] 고등학교 급식 조회:  59%|████▋   | 13/22 [00:02<00:01,  5.86it/s]"
     ]
    },
    {
     "name": "stdout",
     "output_type": "stream",
     "text": [
      "mealService 응답코드: 200\n",
      "급식 데이터 수: 3\n",
      "9300233 세종예술고등학교\n",
      "급식 정보 조회 중: 날짜=20241030\n"
     ]
    },
    {
     "name": "stderr",
     "output_type": "stream",
     "text": [
      "[I10] 고등학교 급식 조회:  64%|█████   | 14/22 [00:02<00:01,  5.66it/s]"
     ]
    },
    {
     "name": "stdout",
     "output_type": "stream",
     "text": [
      "mealService 응답코드: 200\n",
      "급식 데이터 수: 2\n",
      "9300266 세종장영실고등학교\n",
      "급식 정보 조회 중: 날짜=20241030\n",
      "mealService 응답코드: 200\n",
      "급식 데이터 수: 3\n"
     ]
    },
    {
     "name": "stderr",
     "output_type": "stream",
     "text": [
      "[I10] 고등학교 급식 조회:  73%|█████▊  | 16/22 [00:02<00:01,  5.74it/s]"
     ]
    },
    {
     "name": "stdout",
     "output_type": "stream",
     "text": [
      "9300357 세종캠퍼스고등학교\n",
      "급식 정보 조회 중: 날짜=20241030\n",
      "mealService 응답코드: 200\n",
      "mealServiceDietInfo 키 없음: {'RESULT': {'CODE': 'INFO-200', 'MESSAGE': '해당하는 데이터가 없습니다.'}}\n",
      "9300220 소담고등학교\n",
      "급식 정보 조회 중: 날짜=20241030\n"
     ]
    },
    {
     "name": "stderr",
     "output_type": "stream",
     "text": [
      "[I10] 고등학교 급식 조회:  77%|██████▏ | 17/22 [00:02<00:00,  5.78it/s]"
     ]
    },
    {
     "name": "stdout",
     "output_type": "stream",
     "text": [
      "mealService 응답코드: 200\n",
      "급식 데이터 수: 1\n",
      "9300117 아름고등학교\n",
      "급식 정보 조회 중: 날짜=20241030\n",
      "mealService 응답코드: 200\n",
      "급식 데이터 수: 2\n"
     ]
    },
    {
     "name": "stderr",
     "output_type": "stream",
     "text": [
      "[I10] 고등학교 급식 조회:  86%|██████▉ | 19/22 [00:03<00:00,  5.88it/s]"
     ]
    },
    {
     "name": "stdout",
     "output_type": "stream",
     "text": [
      "9300179 양지고등학교\n",
      "급식 정보 조회 중: 날짜=20241030\n",
      "mealService 응답코드: 200\n",
      "급식 데이터 수: 2\n",
      "9300180 종촌고등학교\n",
      "급식 정보 조회 중: 날짜=20241030\n"
     ]
    },
    {
     "name": "stderr",
     "output_type": "stream",
     "text": [
      "[I10] 고등학교 급식 조회:  91%|███████▎| 20/22 [00:03<00:00,  5.83it/s]"
     ]
    },
    {
     "name": "stdout",
     "output_type": "stream",
     "text": [
      "mealService 응답코드: 200\n",
      "급식 데이터 수: 2\n",
      "9300058 한솔고등학교\n",
      "급식 정보 조회 중: 날짜=20241030\n",
      "mealService 응답코드: 200\n",
      "급식 데이터 수: 3\n"
     ]
    },
    {
     "name": "stderr",
     "output_type": "stream",
     "text": [
      "[I10] 고등학교 급식 조회: 100%|████████| 22/22 [00:03<00:00,  5.72it/s]"
     ]
    },
    {
     "name": "stdout",
     "output_type": "stream",
     "text": [
      "9300270 해밀고등학교\n",
      "급식 정보 조회 중: 날짜=20241030\n",
      "mealService 응답코드: 200\n",
      "mealServiceDietInfo 키 없음: {'RESULT': {'CODE': 'INFO-200', 'MESSAGE': '해당하는 데이터가 없습니다.'}}\n"
     ]
    },
    {
     "name": "stderr",
     "output_type": "stream",
     "text": [
      "[I10] 고등학교 급식 조회: 100%|████████| 22/22 [00:03<00:00,  5.78it/s]\n"
     ]
    },
    {
     "name": "stdout",
     "output_type": "stream",
     "text": [
      "응답코드 : 200\n"
     ]
    },
    {
     "name": "stderr",
     "output_type": "stream",
     "text": [
      "[J10] 고등학교 급식 조회:   1%|        | 1/187 [00:00<00:30,  6.11it/s]"
     ]
    },
    {
     "name": "stdout",
     "output_type": "stream",
     "text": [
      "7530907 가온고등학교\n",
      "급식 정보 조회 중: 날짜=20241030\n",
      "mealService 응답코드: 200\n",
      "급식 데이터 수: 2\n",
      "7530974 가운고등학교\n",
      "급식 정보 조회 중: 날짜=20241030\n"
     ]
    },
    {
     "name": "stderr",
     "output_type": "stream",
     "text": [
      "[J10] 고등학교 급식 조회:   1%|        | 2/187 [00:00<00:32,  5.77it/s]"
     ]
    },
    {
     "name": "stdout",
     "output_type": "stream",
     "text": [
      "mealService 응답코드: 200\n",
      "급식 데이터 수: 1\n",
      "7530854 가좌고등학교\n",
      "급식 정보 조회 중: 날짜=20241030\n",
      "mealService 응답코드: 200\n",
      "급식 데이터 수: 1\n"
     ]
    },
    {
     "name": "stderr",
     "output_type": "stream",
     "text": [
      "[J10] 고등학교 급식 조회:   2%|▏       | 4/187 [00:00<00:31,  5.81it/s]"
     ]
    },
    {
     "name": "stdout",
     "output_type": "stream",
     "text": [
      "7530633 가평고등학교\n",
      "급식 정보 조회 중: 날짜=20241030\n",
      "mealService 응답코드: 200\n",
      "급식 데이터 수: 2\n",
      "7531270 갈매고등학교\n",
      "급식 정보 조회 중: 날짜=20241030\n"
     ]
    },
    {
     "name": "stderr",
     "output_type": "stream",
     "text": [
      "[J10] 고등학교 급식 조회:   3%|▏       | 5/187 [00:00<00:32,  5.61it/s]"
     ]
    },
    {
     "name": "stdout",
     "output_type": "stream",
     "text": [
      "mealService 응답코드: 200\n",
      "급식 데이터 수: 1\n",
      "7531390 감일고등학교\n",
      "급식 정보 조회 중: 날짜=20241030\n",
      "mealService 응답코드: 200\n",
      "급식 데이터 수: 1\n"
     ]
    },
    {
     "name": "stderr",
     "output_type": "stream",
     "text": [
      "[J10] 고등학교 급식 조회:   4%|▎       | 7/187 [00:01<00:31,  5.78it/s]"
     ]
    },
    {
     "name": "stdout",
     "output_type": "stream",
     "text": [
      "7531377 경기게임마이스터고등학교\n",
      "급식 정보 조회 중: 날짜=20241030\n",
      "mealService 응답코드: 200\n",
      "급식 데이터 수: 1\n",
      "7531275 경기경영고등학교\n",
      "급식 정보 조회 중: 날짜=20241030\n"
     ]
    },
    {
     "name": "stderr",
     "output_type": "stream",
     "text": [
      "[J10] 고등학교 급식 조회:   4%|▎       | 8/187 [00:01<00:30,  5.85it/s]"
     ]
    },
    {
     "name": "stdout",
     "output_type": "stream",
     "text": [
      "mealService 응답코드: 200\n",
      "급식 데이터 수: 1\n",
      "7530045 경기과학고등학교\n",
      "급식 정보 조회 중: 날짜=20241030\n",
      "mealService 응답코드: 200\n",
      "급식 데이터 수: 3\n"
     ]
    },
    {
     "name": "stderr",
     "output_type": "stream",
     "text": [
      "[J10] 고등학교 급식 조회:   5%|▎      | 10/187 [00:01<00:29,  5.96it/s]"
     ]
    },
    {
     "name": "stdout",
     "output_type": "stream",
     "text": [
      "7531056 경기관광고등학교\n",
      "급식 정보 조회 중: 날짜=20241030\n",
      "mealService 응답코드: 200\n",
      "급식 데이터 수: 3\n",
      "7530989 경기국제통상고등학교\n",
      "급식 정보 조회 중: 날짜=20241030\n"
     ]
    },
    {
     "name": "stderr",
     "output_type": "stream",
     "text": [
      "[J10] 고등학교 급식 조회:   6%|▍      | 11/187 [00:01<00:30,  5.86it/s]"
     ]
    },
    {
     "name": "stdout",
     "output_type": "stream",
     "text": [
      "mealService 응답코드: 200\n",
      "급식 데이터 수: 1\n",
      "7530551 경기대명고등학교\n",
      "급식 정보 조회 중: 날짜=20241030\n",
      "mealService 응답코드: 200\n",
      "mealServiceDietInfo 키 없음: {'RESULT': {'CODE': 'INFO-200', 'MESSAGE': '해당하는 데이터가 없습니다.'}}\n"
     ]
    },
    {
     "name": "stderr",
     "output_type": "stream",
     "text": [
      "[J10] 고등학교 급식 조회:   7%|▍      | 13/187 [00:02<00:29,  5.95it/s]"
     ]
    },
    {
     "name": "stdout",
     "output_type": "stream",
     "text": [
      "7530903 경기모바일과학고등학교\n",
      "급식 정보 조회 중: 날짜=20241030\n",
      "mealService 응답코드: 200\n",
      "급식 데이터 수: 1\n",
      "7530945 경기물류고등학교\n",
      "급식 정보 조회 중: 날짜=20241030\n"
     ]
    },
    {
     "name": "stderr",
     "output_type": "stream",
     "text": [
      "[J10] 고등학교 급식 조회:   7%|▌      | 14/187 [00:02<00:30,  5.72it/s]"
     ]
    },
    {
     "name": "stdout",
     "output_type": "stream",
     "text": [
      "mealService 응답코드: 200\n",
      "급식 데이터 수: 1\n",
      "7530851 경기북과학고등학교\n",
      "급식 정보 조회 중: 날짜=20241030\n",
      "mealService 응답코드: 200\n",
      "급식 데이터 수: 3\n"
     ]
    },
    {
     "name": "stderr",
     "output_type": "stream",
     "text": [
      "[J10] 고등학교 급식 조회:   9%|▌      | 16/187 [00:02<00:29,  5.87it/s]"
     ]
    },
    {
     "name": "stdout",
     "output_type": "stream",
     "text": [
      "7531380 경기스마트고등학교\n",
      "급식 정보 조회 중: 날짜=20241030\n",
      "mealService 응답코드: 200\n",
      "급식 데이터 수: 1\n",
      "7530943 경기영상과학고등학교\n",
      "급식 정보 조회 중: 날짜=20241030\n"
     ]
    },
    {
     "name": "stderr",
     "output_type": "stream",
     "text": [
      "[J10] 고등학교 급식 조회:   9%|▋      | 17/187 [00:02<00:29,  5.71it/s]"
     ]
    },
    {
     "name": "stdout",
     "output_type": "stream",
     "text": [
      "mealService 응답코드: 200\n",
      "급식 데이터 수: 1\n",
      "7530569 경기예술고등학교\n",
      "급식 정보 조회 중: 날짜=20241030\n",
      "mealService 응답코드: 200\n",
      "급식 데이터 수: 1\n"
     ]
    },
    {
     "name": "stderr",
     "output_type": "stream",
     "text": [
      "[J10] 고등학교 급식 조회:  10%|▋      | 19/187 [00:03<00:28,  5.81it/s]"
     ]
    },
    {
     "name": "stdout",
     "output_type": "stream",
     "text": [
      "7530909 경기외국어고등학교\n",
      "급식 정보 조회 중: 날짜=20241030\n",
      "mealService 응답코드: 200\n",
      "급식 데이터 수: 3\n"
     ]
    },
    {
     "name": "stderr",
     "output_type": "stream",
     "text": [
      "[J10] 고등학교 급식 조회:  11%|▋      | 20/187 [00:03<00:28,  5.93it/s]"
     ]
    },
    {
     "name": "stdout",
     "output_type": "stream",
     "text": [
      "7530908 경기자동차과학고등학교\n",
      "급식 정보 조회 중: 날짜=20241030\n",
      "mealService 응답코드: 200\n",
      "급식 데이터 수: 2\n",
      "7530937 경기창조고등학교\n",
      "급식 정보 조회 중: 날짜=20241030\n"
     ]
    },
    {
     "name": "stderr",
     "output_type": "stream",
     "text": [
      "[J10] 고등학교 급식 조회:  11%|▊      | 21/187 [00:03<00:27,  6.03it/s]"
     ]
    },
    {
     "name": "stdout",
     "output_type": "stream",
     "text": [
      "mealService 응답코드: 200\n",
      "급식 데이터 수: 1\n",
      "7530046 경기체육고등학교\n",
      "급식 정보 조회 중: 날짜=20241030\n",
      "mealService 응답코드: 200\n",
      "급식 데이터 수: 3\n"
     ]
    },
    {
     "name": "stderr",
     "output_type": "stream",
     "text": [
      "[J10] 고등학교 급식 조회:  12%|▊      | 23/187 [00:03<00:27,  5.97it/s]"
     ]
    },
    {
     "name": "stdout",
     "output_type": "stream",
     "text": [
      "7531378 경기폴리텍고등학교\n",
      "급식 정보 조회 중: 날짜=20241030\n",
      "mealService 응답코드: 200\n",
      "급식 데이터 수: 1\n",
      "7531382 경기항공고등학교\n",
      "급식 정보 조회 중: 날짜=20241030\n"
     ]
    },
    {
     "name": "stderr",
     "output_type": "stream",
     "text": [
      "[J10] 고등학교 급식 조회:  13%|▉      | 24/187 [00:04<00:27,  6.00it/s]"
     ]
    },
    {
     "name": "stdout",
     "output_type": "stream",
     "text": [
      "mealService 응답코드: 200\n",
      "급식 데이터 수: 1\n",
      "7530995 경민IT고등학교\n",
      "급식 정보 조회 중: 날짜=20241030\n",
      "mealService 응답코드: 200\n",
      "급식 데이터 수: 1\n"
     ]
    },
    {
     "name": "stderr",
     "output_type": "stream",
     "text": [
      "[J10] 고등학교 급식 조회:  14%|▉      | 26/187 [00:04<00:27,  5.86it/s]"
     ]
    },
    {
     "name": "stdout",
     "output_type": "stream",
     "text": [
      "7530141 경민고등학교\n",
      "급식 정보 조회 중: 날짜=20241030\n",
      "mealService 응답코드: 200\n",
      "급식 데이터 수: 1\n",
      "7531061 경민비즈니스고등학교\n",
      "급식 정보 조회 중: 날짜=20241030\n"
     ]
    },
    {
     "name": "stderr",
     "output_type": "stream",
     "text": [
      "[J10] 고등학교 급식 조회:  14%|█      | 27/187 [00:04<00:27,  5.88it/s]"
     ]
    },
    {
     "name": "stdout",
     "output_type": "stream",
     "text": [
      "mealService 응답코드: 200\n",
      "급식 데이터 수: 1\n",
      "7530143 경안고등학교\n",
      "급식 정보 조회 중: 날짜=20241030\n",
      "mealService 응답코드: 200\n",
      "급식 데이터 수: 1\n"
     ]
    },
    {
     "name": "stderr",
     "output_type": "stream",
     "text": [
      "[J10] 고등학교 급식 조회:  16%|█      | 29/187 [00:04<00:26,  5.90it/s]"
     ]
    },
    {
     "name": "stdout",
     "output_type": "stream",
     "text": [
      "7531055 경일관광경영고등학교\n",
      "급식 정보 조회 중: 날짜=20241030\n",
      "mealService 응답코드: 200\n",
      "급식 데이터 수: 1\n",
      "7530993 경화여자English Business고등학교\n",
      "급식 정보 조회 중: 날짜=20241030\n"
     ]
    },
    {
     "name": "stderr",
     "output_type": "stream",
     "text": [
      "[J10] 고등학교 급식 조회:  16%|█      | 30/187 [00:05<00:26,  5.85it/s]"
     ]
    },
    {
     "name": "stdout",
     "output_type": "stream",
     "text": [
      "mealService 응답코드: 200\n",
      "급식 데이터 수: 2\n",
      "7530535 경화여자고등학교\n",
      "급식 정보 조회 중: 날짜=20241030\n",
      "mealService 응답코드: 200\n",
      "급식 데이터 수: 2\n"
     ]
    },
    {
     "name": "stderr",
     "output_type": "stream",
     "text": [
      "[J10] 고등학교 급식 조회:  17%|█▏     | 32/187 [00:05<00:26,  5.93it/s]"
     ]
    },
    {
     "name": "stdout",
     "output_type": "stream",
     "text": [
      "7530047 계남고등학교\n",
      "급식 정보 조회 중: 날짜=20241030\n",
      "mealService 응답코드: 200\n",
      "급식 데이터 수: 1\n",
      "7530144 계원예술고등학교\n",
      "급식 정보 조회 중: 날짜=20241030\n"
     ]
    },
    {
     "name": "stderr",
     "output_type": "stream",
     "text": [
      "[J10] 고등학교 급식 조회:  18%|█▏     | 33/187 [00:05<00:27,  5.65it/s]"
     ]
    },
    {
     "name": "stdout",
     "output_type": "stream",
     "text": [
      "mealService 응답코드: 200\n",
      "급식 데이터 수: 2\n",
      "7531242 고림고등학교\n",
      "급식 정보 조회 중: 날짜=20241030\n",
      "mealService 응답코드: 200\n",
      "급식 데이터 수: 1\n"
     ]
    },
    {
     "name": "stderr",
     "output_type": "stream",
     "text": [
      "[J10] 고등학교 급식 조회:  19%|█▎     | 35/187 [00:06<00:26,  5.63it/s]"
     ]
    },
    {
     "name": "stdout",
     "output_type": "stream",
     "text": [
      "7530878 고색고등학교\n",
      "급식 정보 조회 중: 날짜=20241030\n",
      "mealService 응답코드: 200\n",
      "급식 데이터 수: 1\n",
      "7530576 고양고등학교\n",
      "급식 정보 조회 중: 날짜=20241030\n"
     ]
    },
    {
     "name": "stderr",
     "output_type": "stream",
     "text": [
      "[J10] 고등학교 급식 조회:  19%|█▎     | 36/187 [00:06<00:26,  5.73it/s]"
     ]
    },
    {
     "name": "stdout",
     "output_type": "stream",
     "text": [
      "mealService 응답코드: 200\n",
      "급식 데이터 수: 1\n",
      "7530977 고양국제고등학교\n",
      "급식 정보 조회 중: 날짜=20241030\n",
      "mealService 응답코드: 200\n",
      "급식 데이터 수: 3\n"
     ]
    },
    {
     "name": "stderr",
     "output_type": "stream",
     "text": [
      "[J10] 고등학교 급식 조회:  20%|█▍     | 38/187 [00:06<00:26,  5.70it/s]"
     ]
    },
    {
     "name": "stdout",
     "output_type": "stream",
     "text": [
      "7531099 고양동산고등학교\n",
      "급식 정보 조회 중: 날짜=20241030\n",
      "mealService 응답코드: 200\n",
      "급식 데이터 수: 1\n",
      "7530777 고양예술고등학교\n",
      "급식 정보 조회 중: 날짜=20241030\n"
     ]
    },
    {
     "name": "stderr",
     "output_type": "stream",
     "text": [
      "[J10] 고등학교 급식 조회:  21%|█▍     | 39/187 [00:06<00:25,  5.77it/s]"
     ]
    },
    {
     "name": "stdout",
     "output_type": "stream",
     "text": [
      "mealService 응답코드: 200\n",
      "급식 데이터 수: 1\n",
      "7530552 고양외국어고등학교\n",
      "급식 정보 조회 중: 날짜=20241030\n",
      "mealService 응답코드: 200\n",
      "급식 데이터 수: 3\n"
     ]
    },
    {
     "name": "stderr",
     "output_type": "stream",
     "text": [
      "[J10] 고등학교 급식 조회:  22%|█▌     | 41/187 [00:07<00:25,  5.65it/s]"
     ]
    },
    {
     "name": "stdout",
     "output_type": "stream",
     "text": [
      "7530892 고양일고등학교\n",
      "급식 정보 조회 중: 날짜=20241030\n",
      "mealService 응답코드: 200\n",
      "급식 데이터 수: 1\n"
     ]
    },
    {
     "name": "stderr",
     "output_type": "stream",
     "text": [
      "[J10] 고등학교 급식 조회:  22%|█▌     | 42/187 [00:07<00:25,  5.74it/s]"
     ]
    },
    {
     "name": "stdout",
     "output_type": "stream",
     "text": [
      "7530520 고잔고등학교\n",
      "급식 정보 조회 중: 날짜=20241030\n",
      "mealService 응답코드: 200\n",
      "급식 데이터 수: 1\n",
      "7531375 고촌고등학교\n",
      "급식 정보 조회 중: 날짜=20241030\n"
     ]
    },
    {
     "name": "stderr",
     "output_type": "stream",
     "text": [
      "[J10] 고등학교 급식 조회:  23%|█▌     | 43/187 [00:07<00:24,  5.78it/s]"
     ]
    },
    {
     "name": "stdout",
     "output_type": "stream",
     "text": [
      "mealService 응답코드: 200\n",
      "급식 데이터 수: 1\n",
      "7531239 곡정고등학교\n",
      "급식 정보 조회 중: 날짜=20241030\n",
      "mealService 응답코드: 200\n",
      "급식 데이터 수: 1\n"
     ]
    },
    {
     "name": "stderr",
     "output_type": "stream",
     "text": [
      "[J10] 고등학교 급식 조회:  24%|█▋     | 45/187 [00:07<00:24,  5.85it/s]"
     ]
    },
    {
     "name": "stdout",
     "output_type": "stream",
     "text": [
      "7530632 곤지암고등학교\n",
      "급식 정보 조회 중: 날짜=20241030\n",
      "mealService 응답코드: 200\n",
      "mealServiceDietInfo 키 없음: {'RESULT': {'CODE': 'INFO-200', 'MESSAGE': '해당하는 데이터가 없습니다.'}}\n",
      "7530048 과천고등학교\n",
      "급식 정보 조회 중: 날짜=20241030\n"
     ]
    },
    {
     "name": "stderr",
     "output_type": "stream",
     "text": [
      "[J10] 고등학교 급식 조회:  25%|█▋     | 46/187 [00:07<00:24,  5.84it/s]"
     ]
    },
    {
     "name": "stdout",
     "output_type": "stream",
     "text": [
      "mealService 응답코드: 200\n",
      "급식 데이터 수: 1\n",
      "7530145 과천여자고등학교\n",
      "급식 정보 조회 중: 날짜=20241030\n",
      "mealService 응답코드: 200\n",
      "급식 데이터 수: 2\n"
     ]
    },
    {
     "name": "stderr",
     "output_type": "stream",
     "text": [
      "[J10] 고등학교 급식 조회:  26%|█▊     | 48/187 [00:08<00:23,  5.99it/s]"
     ]
    },
    {
     "name": "stdout",
     "output_type": "stream",
     "text": [
      "7530146 과천외국어고등학교\n",
      "급식 정보 조회 중: 날짜=20241030\n",
      "mealService 응답코드: 200\n",
      "mealServiceDietInfo 키 없음: {'RESULT': {'CODE': 'INFO-200', 'MESSAGE': '해당하는 데이터가 없습니다.'}}\n",
      "7530469 과천중앙고등학교\n",
      "급식 정보 조회 중: 날짜=20241030\n"
     ]
    },
    {
     "name": "stderr",
     "output_type": "stream",
     "text": [
      "[J10] 고등학교 급식 조회:  26%|█▊     | 49/187 [00:08<00:24,  5.65it/s]"
     ]
    },
    {
     "name": "stdout",
     "output_type": "stream",
     "text": [
      "mealService 응답코드: 200\n",
      "급식 데이터 수: 1\n",
      "7530553 관양고등학교\n",
      "급식 정보 조회 중: 날짜=20241030\n",
      "mealService 응답코드: 200\n",
      "급식 데이터 수: 1\n"
     ]
    },
    {
     "name": "stderr",
     "output_type": "stream",
     "text": [
      "[J10] 고등학교 급식 조회:  27%|█▉     | 51/187 [00:08<00:23,  5.79it/s]"
     ]
    },
    {
     "name": "stdout",
     "output_type": "stream",
     "text": [
      "7530049 관인고등학교\n",
      "급식 정보 조회 중: 날짜=20241030\n",
      "mealService 응답코드: 200\n",
      "급식 데이터 수: 1\n",
      "7531040 광교고등학교\n",
      "급식 정보 조회 중: 날짜=20241030\n"
     ]
    },
    {
     "name": "stderr",
     "output_type": "stream",
     "text": [
      "[J10] 고등학교 급식 조회:  28%|█▉     | 52/187 [00:08<00:23,  5.78it/s]"
     ]
    },
    {
     "name": "stdout",
     "output_type": "stream",
     "text": [
      "mealService 응답코드: 200\n",
      "급식 데이터 수: 1\n",
      "7530885 광남고등학교\n",
      "급식 정보 조회 중: 날짜=20241030\n",
      "mealService 응답코드: 200\n",
      "급식 데이터 수: 1\n"
     ]
    },
    {
     "name": "stderr",
     "output_type": "stream",
     "text": [
      "[J10] 고등학교 급식 조회:  29%|██     | 54/187 [00:09<00:23,  5.69it/s]"
     ]
    },
    {
     "name": "stdout",
     "output_type": "stream",
     "text": [
      "7530934 광덕고등학교\n",
      "급식 정보 조회 중: 날짜=20241030\n",
      "mealService 응답코드: 200\n",
      "급식 데이터 수: 1\n",
      "7530542 광동고등학교\n",
      "급식 정보 조회 중: 날짜=20241030\n"
     ]
    },
    {
     "name": "stderr",
     "output_type": "stream",
     "text": [
      "[J10] 고등학교 급식 조회:  29%|██     | 55/187 [00:09<00:22,  5.80it/s]"
     ]
    },
    {
     "name": "stdout",
     "output_type": "stream",
     "text": [
      "mealService 응답코드: 200\n",
      "급식 데이터 수: 1\n",
      "7530050 광명고등학교\n",
      "급식 정보 조회 중: 날짜=20241030\n",
      "mealService 응답코드: 200\n",
      "급식 데이터 수: 1\n"
     ]
    },
    {
     "name": "stderr",
     "output_type": "stream",
     "text": [
      "[J10] 고등학교 급식 조회:  30%|██▏    | 57/187 [00:09<00:22,  5.89it/s]"
     ]
    },
    {
     "name": "stdout",
     "output_type": "stream",
     "text": [
      "7530051 광명북고등학교\n",
      "급식 정보 조회 중: 날짜=20241030\n",
      "mealService 응답코드: 200\n",
      "급식 데이터 수: 1\n",
      "7530053 광문고등학교\n",
      "급식 정보 조회 중: 날짜=20241030\n"
     ]
    },
    {
     "name": "stderr",
     "output_type": "stream",
     "text": [
      "[J10] 고등학교 급식 조회:  31%|██▏    | 58/187 [00:09<00:22,  5.85it/s]"
     ]
    },
    {
     "name": "stdout",
     "output_type": "stream",
     "text": [
      "mealService 응답코드: 200\n",
      "급식 데이터 수: 1\n",
      "7530521 광주고등학교\n",
      "급식 정보 조회 중: 날짜=20241030\n",
      "mealService 응답코드: 200\n",
      "급식 데이터 수: 1\n"
     ]
    },
    {
     "name": "stderr",
     "output_type": "stream",
     "text": [
      "[J10] 고등학교 급식 조회:  32%|██▏    | 60/187 [00:10<00:21,  5.93it/s]"
     ]
    },
    {
     "name": "stdout",
     "output_type": "stream",
     "text": [
      "7530786 광주중앙고등학교\n",
      "급식 정보 조회 중: 날짜=20241030\n",
      "mealService 응답코드: 200\n",
      "급식 데이터 수: 1\n",
      "7530838 광탄고등학교\n",
      "급식 정보 조회 중: 날짜=20241030\n"
     ]
    },
    {
     "name": "stderr",
     "output_type": "stream",
     "text": [
      "[J10] 고등학교 급식 조회:  33%|██▎    | 61/187 [00:10<00:21,  5.80it/s]"
     ]
    },
    {
     "name": "stdout",
     "output_type": "stream",
     "text": [
      "mealService 응답코드: 200\n",
      "급식 데이터 수: 1\n",
      "7531100 광휘고등학교\n",
      "급식 정보 조회 중: 날짜=20241030\n",
      "mealService 응답코드: 200\n",
      "급식 데이터 수: 1\n"
     ]
    },
    {
     "name": "stderr",
     "output_type": "stream",
     "text": [
      "[J10] 고등학교 급식 조회:  34%|██▎    | 63/187 [00:10<00:21,  5.88it/s]"
     ]
    },
    {
     "name": "stdout",
     "output_type": "stream",
     "text": [
      "7530774 교하고등학교\n",
      "급식 정보 조회 중: 날짜=20241030\n",
      "mealService 응답코드: 200\n",
      "급식 데이터 수: 1\n",
      "7530054 구리고등학교\n",
      "급식 정보 조회 중: 날짜=20241030\n"
     ]
    },
    {
     "name": "stderr",
     "output_type": "stream",
     "text": [
      "[J10] 고등학교 급식 조회:  34%|██▍    | 64/187 [00:10<00:20,  5.98it/s]"
     ]
    },
    {
     "name": "stdout",
     "output_type": "stream",
     "text": [
      "mealService 응답코드: 200\n",
      "급식 데이터 수: 1\n",
      "7530055 구리여자고등학교\n",
      "급식 정보 조회 중: 날짜=20241030\n",
      "mealService 응답코드: 200\n",
      "급식 데이터 수: 1\n"
     ]
    },
    {
     "name": "stderr",
     "output_type": "stream",
     "text": [
      "[J10] 고등학교 급식 조회:  35%|██▍    | 66/187 [00:11<00:20,  5.90it/s]"
     ]
    },
    {
     "name": "stdout",
     "output_type": "stream",
     "text": [
      "7530611 구성고등학교\n",
      "급식 정보 조회 중: 날짜=20241030\n",
      "mealService 응답코드: 200\n",
      "급식 데이터 수: 1\n"
     ]
    },
    {
     "name": "stderr",
     "output_type": "stream",
     "text": [
      "[J10] 고등학교 급식 조회:  36%|██▌    | 67/187 [00:11<00:20,  5.81it/s]"
     ]
    },
    {
     "name": "stdout",
     "output_type": "stream",
     "text": [
      "7530766 군서고등학교\n",
      "급식 정보 조회 중: 날짜=20241030\n",
      "mealService 응답코드: 200\n",
      "급식 데이터 수: 1\n",
      "7531293 군자디지털과학고등학교\n",
      "급식 정보 조회 중: 날짜=20241030\n"
     ]
    },
    {
     "name": "stderr",
     "output_type": "stream",
     "text": [
      "[J10] 고등학교 급식 조회:  36%|██▌    | 68/187 [00:11<00:21,  5.64it/s]"
     ]
    },
    {
     "name": "stdout",
     "output_type": "stream",
     "text": [
      "mealService 응답코드: 200\n",
      "급식 데이터 수: 1\n",
      "7530902 군포e비즈니스고등학교\n",
      "급식 정보 조회 중: 날짜=20241030\n",
      "mealService 응답코드: 200\n",
      "급식 데이터 수: 1\n"
     ]
    },
    {
     "name": "stderr",
     "output_type": "stream",
     "text": [
      "[J10] 고등학교 급식 조회:  37%|██▌    | 70/187 [00:12<00:20,  5.69it/s]"
     ]
    },
    {
     "name": "stdout",
     "output_type": "stream",
     "text": [
      "7530148 군포고등학교\n",
      "급식 정보 조회 중: 날짜=20241030\n",
      "mealService 응답코드: 200\n",
      "급식 데이터 수: 1\n",
      "7531272 군포중앙고등학교\n",
      "급식 정보 조회 중: 날짜=20241030\n"
     ]
    },
    {
     "name": "stderr",
     "output_type": "stream",
     "text": [
      "[J10] 고등학교 급식 조회:  38%|██▋    | 71/187 [00:12<00:20,  5.70it/s]"
     ]
    },
    {
     "name": "stdout",
     "output_type": "stream",
     "text": [
      "mealService 응답코드: 200\n",
      "급식 데이터 수: 1\n",
      "7530057 권선고등학교\n",
      "급식 정보 조회 중: 날짜=20241030\n",
      "mealService 응답코드: 200\n",
      "급식 데이터 수: 1\n"
     ]
    },
    {
     "name": "stderr",
     "output_type": "stream",
     "text": [
      "[J10] 고등학교 급식 조회:  39%|██▋    | 73/187 [00:12<00:19,  5.97it/s]"
     ]
    },
    {
     "name": "stdout",
     "output_type": "stream",
     "text": [
      "7531381 근명고등학교\n",
      "급식 정보 조회 중: 날짜=20241030\n",
      "mealService 응답코드: 200\n",
      "급식 데이터 수: 1\n",
      "7530629 금곡고등학교\n",
      "급식 정보 조회 중: 날짜=20241030\n"
     ]
    },
    {
     "name": "stderr",
     "output_type": "stream",
     "text": [
      "[J10] 고등학교 급식 조회:  40%|██▊    | 74/187 [00:12<00:19,  5.92it/s]"
     ]
    },
    {
     "name": "stdout",
     "output_type": "stream",
     "text": [
      "mealService 응답코드: 200\n",
      "급식 데이터 수: 1\n",
      "7530656 금촌고등학교\n",
      "급식 정보 조회 중: 날짜=20241030\n",
      "mealService 응답코드: 200\n",
      "급식 데이터 수: 1\n"
     ]
    },
    {
     "name": "stderr",
     "output_type": "stream",
     "text": [
      "[J10] 고등학교 급식 조회:  41%|██▊    | 76/187 [00:13<00:18,  5.94it/s]"
     ]
    },
    {
     "name": "stdout",
     "output_type": "stream",
     "text": [
      "7530522 기흥고등학교\n",
      "급식 정보 조회 중: 날짜=20241030\n",
      "mealService 응답코드: 200\n",
      "급식 데이터 수: 1\n",
      "7530058 김포고등학교\n",
      "급식 정보 조회 중: 날짜=20241030\n"
     ]
    },
    {
     "name": "stderr",
     "output_type": "stream",
     "text": [
      "[J10] 고등학교 급식 조회:  41%|██▉    | 77/187 [00:13<00:18,  5.89it/s]"
     ]
    },
    {
     "name": "stdout",
     "output_type": "stream",
     "text": [
      "mealService 응답코드: 200\n",
      "급식 데이터 수: 2\n",
      "7531517 김포과학기술고등학교\n",
      "급식 정보 조회 중: 날짜=20241030\n",
      "mealService 응답코드: 200\n",
      "mealServiceDietInfo 키 없음: {'RESULT': {'CODE': 'INFO-200', 'MESSAGE': '해당하는 데이터가 없습니다.'}}\n"
     ]
    },
    {
     "name": "stderr",
     "output_type": "stream",
     "text": [
      "[J10] 고등학교 급식 조회:  42%|██▉    | 79/187 [00:13<00:18,  5.96it/s]"
     ]
    },
    {
     "name": "stdout",
     "output_type": "stream",
     "text": [
      "7530745 김포외국어고등학교\n",
      "급식 정보 조회 중: 날짜=20241030\n",
      "mealService 응답코드: 200\n",
      "급식 데이터 수: 3\n",
      "7531149 김포제일고등학교\n",
      "급식 정보 조회 중: 날짜=20241030\n"
     ]
    },
    {
     "name": "stderr",
     "output_type": "stream",
     "text": [
      "[J10] 고등학교 급식 조회:  43%|██▉    | 80/187 [00:13<00:18,  5.94it/s]"
     ]
    },
    {
     "name": "stdout",
     "output_type": "stream",
     "text": [
      "mealService 응답코드: 200\n",
      "급식 데이터 수: 1\n",
      "7531530 김포호수고등학교\n",
      "급식 정보 조회 중: 날짜=20241030\n",
      "mealService 응답코드: 200\n",
      "mealServiceDietInfo 키 없음: {'RESULT': {'CODE': 'INFO-200', 'MESSAGE': '해당하는 데이터가 없습니다.'}}\n"
     ]
    },
    {
     "name": "stderr",
     "output_type": "stream",
     "text": [
      "[J10] 고등학교 급식 조회:  44%|███    | 82/187 [00:14<00:17,  5.98it/s]"
     ]
    },
    {
     "name": "stdout",
     "output_type": "stream",
     "text": [
      "7530880 나루고등학교\n",
      "급식 정보 조회 중: 날짜=20241030\n",
      "mealService 응답코드: 200\n",
      "급식 데이터 수: 1\n",
      "7530149 낙생고등학교\n",
      "급식 정보 조회 중: 날짜=20241030\n"
     ]
    },
    {
     "name": "stderr",
     "output_type": "stream",
     "text": [
      "[J10] 고등학교 급식 조회:  44%|███    | 83/187 [00:14<00:17,  5.92it/s]"
     ]
    },
    {
     "name": "stdout",
     "output_type": "stream",
     "text": [
      "mealService 응답코드: 200\n",
      "급식 데이터 수: 1\n",
      "7530783 남양고등학교\n",
      "급식 정보 조회 중: 날짜=20241030\n",
      "mealService 응답코드: 200\n",
      "mealServiceDietInfo 키 없음: {'RESULT': {'CODE': 'INFO-200', 'MESSAGE': '해당하는 데이터가 없습니다.'}}\n"
     ]
    },
    {
     "name": "stderr",
     "output_type": "stream",
     "text": [
      "[J10] 고등학교 급식 조회:  45%|███▏   | 85/187 [00:14<00:17,  5.98it/s]"
     ]
    },
    {
     "name": "stdout",
     "output_type": "stream",
     "text": [
      "7531425 남양주고등학교\n",
      "급식 정보 조회 중: 날짜=20241030\n",
      "mealService 응답코드: 200\n",
      "급식 데이터 수: 1\n",
      "7531376 남양주다산고등학교\n",
      "급식 정보 조회 중: 날짜=20241030\n"
     ]
    },
    {
     "name": "stderr",
     "output_type": "stream",
     "text": [
      "[J10] 고등학교 급식 조회:  46%|███▏   | 86/187 [00:14<00:17,  5.81it/s]"
     ]
    },
    {
     "name": "stdout",
     "output_type": "stream",
     "text": [
      "mealService 응답코드: 200\n",
      "급식 데이터 수: 1\n",
      "7530059 남한고등학교\n",
      "급식 정보 조회 중: 날짜=20241030\n",
      "mealService 응답코드: 200\n",
      "급식 데이터 수: 1\n"
     ]
    },
    {
     "name": "stderr",
     "output_type": "stream",
     "text": [
      "[J10] 고등학교 급식 조회:  47%|███▎   | 88/187 [00:15<00:16,  5.91it/s]"
     ]
    },
    {
     "name": "stdout",
     "output_type": "stream",
     "text": [
      "7531527 내손고등학교\n",
      "급식 정보 조회 중: 날짜=20241030\n",
      "mealService 응답코드: 200\n",
      "mealServiceDietInfo 키 없음: {'RESULT': {'CODE': 'INFO-200', 'MESSAGE': '해당하는 데이터가 없습니다.'}}\n",
      "7530625 늘푸른고등학교\n",
      "급식 정보 조회 중: 날짜=20241030\n"
     ]
    },
    {
     "name": "stderr",
     "output_type": "stream",
     "text": [
      "[J10] 고등학교 급식 조회:  48%|███▎   | 89/187 [00:15<00:16,  5.92it/s]"
     ]
    },
    {
     "name": "stdout",
     "output_type": "stream",
     "text": [
      "mealService 응답코드: 200\n",
      "급식 데이터 수: 1\n",
      "7530060 능곡고등학교\n",
      "급식 정보 조회 중: 날짜=20241030\n",
      "mealService 응답코드: 200\n",
      "급식 데이터 수: 1\n"
     ]
    },
    {
     "name": "stderr",
     "output_type": "stream",
     "text": [
      "[J10] 고등학교 급식 조회:  49%|███▍   | 91/187 [00:15<00:16,  5.72it/s]"
     ]
    },
    {
     "name": "stdout",
     "output_type": "stream",
     "text": [
      "7530942 능동고등학교\n",
      "급식 정보 조회 중: 날짜=20241030\n",
      "mealService 응답코드: 200\n",
      "급식 데이터 수: 1\n"
     ]
    },
    {
     "name": "stderr",
     "output_type": "stream",
     "text": [
      "[J10] 고등학교 급식 조회:  49%|███▍   | 92/187 [00:15<00:16,  5.83it/s]"
     ]
    },
    {
     "name": "stdout",
     "output_type": "stream",
     "text": [
      "7530608 다산고등학교\n",
      "급식 정보 조회 중: 날짜=20241030\n",
      "mealService 응답코드: 200\n",
      "급식 데이터 수: 1\n",
      "7530654 단원고등학교\n",
      "급식 정보 조회 중: 날짜=20241030\n"
     ]
    },
    {
     "name": "stderr",
     "output_type": "stream",
     "text": [
      "[J10] 고등학교 급식 조회:  50%|███▍   | 93/187 [00:15<00:15,  5.92it/s]"
     ]
    },
    {
     "name": "stdout",
     "output_type": "stream",
     "text": [
      "mealService 응답코드: 200\n",
      "급식 데이터 수: 1\n",
      "7530785 대부고등학교\n",
      "급식 정보 조회 중: 날짜=20241030\n",
      "mealService 응답코드: 200\n",
      "급식 데이터 수: 1\n"
     ]
    },
    {
     "name": "stderr",
     "output_type": "stream",
     "text": [
      "[J10] 고등학교 급식 조회:  51%|███▌   | 95/187 [00:16<00:15,  5.88it/s]"
     ]
    },
    {
     "name": "stdout",
     "output_type": "stream",
     "text": [
      "7530150 대신고등학교\n",
      "급식 정보 조회 중: 날짜=20241030\n",
      "mealService 응답코드: 200\n",
      "급식 데이터 수: 3\n",
      "7530824 대지고등학교\n",
      "급식 정보 조회 중: 날짜=20241030\n"
     ]
    },
    {
     "name": "stderr",
     "output_type": "stream",
     "text": [
      "[J10] 고등학교 급식 조회:  51%|███▌   | 96/187 [00:16<00:15,  5.71it/s]"
     ]
    },
    {
     "name": "stdout",
     "output_type": "stream",
     "text": [
      "mealService 응답코드: 200\n",
      "급식 데이터 수: 1\n",
      "7530554 대평고등학교\n",
      "급식 정보 조회 중: 날짜=20241030\n",
      "mealService 응답코드: 200\n",
      "급식 데이터 수: 1\n"
     ]
    },
    {
     "name": "stderr",
     "output_type": "stream",
     "text": [
      "[J10] 고등학교 급식 조회:  52%|███▋   | 98/187 [00:16<00:15,  5.91it/s]"
     ]
    },
    {
     "name": "stdout",
     "output_type": "stream",
     "text": [
      "7531042 대화고등학교\n",
      "급식 정보 조회 중: 날짜=20241030\n",
      "mealService 응답코드: 200\n",
      "급식 데이터 수: 1\n",
      "7530619 덕계고등학교\n",
      "급식 정보 조회 중: 날짜=20241030\n"
     ]
    },
    {
     "name": "stderr",
     "output_type": "stream",
     "text": [
      "[J10] 고등학교 급식 조회:  53%|███▋   | 99/187 [00:16<00:14,  5.88it/s]"
     ]
    },
    {
     "name": "stdout",
     "output_type": "stream",
     "text": [
      "mealService 응답코드: 200\n",
      "급식 데이터 수: 1\n",
      "7530555 덕산고등학교\n",
      "급식 정보 조회 중: 날짜=20241030\n",
      "mealService 응답코드: 200\n",
      "급식 데이터 수: 1\n"
     ]
    },
    {
     "name": "stderr",
     "output_type": "stream",
     "text": [
      "[J10] 고등학교 급식 조회:  54%|███▏  | 101/187 [00:17<00:14,  5.91it/s]"
     ]
    },
    {
     "name": "stdout",
     "output_type": "stream",
     "text": [
      "7530151 덕소고등학교\n",
      "급식 정보 조회 중: 날짜=20241030\n",
      "mealService 응답코드: 200\n",
      "급식 데이터 수: 1\n",
      "7531328 덕영고등학교\n",
      "급식 정보 조회 중: 날짜=20241030\n"
     ]
    },
    {
     "name": "stderr",
     "output_type": "stream",
     "text": [
      "[J10] 고등학교 급식 조회:  55%|███▎  | 102/187 [00:17<00:14,  5.88it/s]"
     ]
    },
    {
     "name": "stdout",
     "output_type": "stream",
     "text": [
      "mealService 응답코드: 200\n",
      "급식 데이터 수: 1\n",
      "7531043 덕이고등학교\n",
      "급식 정보 조회 중: 날짜=20241030\n",
      "mealService 응답코드: 200\n",
      "급식 데이터 수: 1\n"
     ]
    },
    {
     "name": "stderr",
     "output_type": "stream",
     "text": [
      "[J10] 고등학교 급식 조회:  56%|███▎  | 104/187 [00:17<00:13,  5.97it/s]"
     ]
    },
    {
     "name": "stdout",
     "output_type": "stream",
     "text": [
      "7530470 덕정고등학교\n",
      "급식 정보 조회 중: 날짜=20241030\n",
      "mealService 응답코드: 200\n",
      "급식 데이터 수: 1\n",
      "7530979 덕현고등학교\n",
      "급식 정보 조회 중: 날짜=20241030\n"
     ]
    },
    {
     "name": "stderr",
     "output_type": "stream",
     "text": [
      "[J10] 고등학교 급식 조회:  56%|███▎  | 105/187 [00:17<00:13,  5.92it/s]"
     ]
    },
    {
     "name": "stdout",
     "output_type": "stream",
     "text": [
      "mealService 응답코드: 200\n",
      "급식 데이터 수: 1\n",
      "7530857 도농고등학교\n",
      "급식 정보 조회 중: 날짜=20241030\n",
      "mealService 응답코드: 200\n",
      "급식 데이터 수: 1\n"
     ]
    },
    {
     "name": "stderr",
     "output_type": "stream",
     "text": [
      "[J10] 고등학교 급식 조회:  57%|███▍  | 107/187 [00:18<00:13,  6.09it/s]"
     ]
    },
    {
     "name": "stdout",
     "output_type": "stream",
     "text": [
      "7530471 도당고등학교\n",
      "급식 정보 조회 중: 날짜=20241030\n",
      "mealService 응답코드: 200\n",
      "급식 데이터 수: 1\n",
      "7531165 도래울고등학교\n",
      "급식 정보 조회 중: 날짜=20241030\n"
     ]
    },
    {
     "name": "stderr",
     "output_type": "stream",
     "text": [
      "[J10] 고등학교 급식 조회:  58%|███▍  | 108/187 [00:18<00:13,  5.88it/s]"
     ]
    },
    {
     "name": "stdout",
     "output_type": "stream",
     "text": [
      "mealService 응답코드: 200\n",
      "급식 데이터 수: 1\n",
      "7530523 돌마고등학교\n",
      "급식 정보 조회 중: 날짜=20241030\n",
      "mealService 응답코드: 200\n",
      "급식 데이터 수: 1\n"
     ]
    },
    {
     "name": "stderr",
     "output_type": "stream",
     "text": [
      "[J10] 고등학교 급식 조회:  59%|███▌  | 110/187 [00:18<00:12,  5.93it/s]"
     ]
    },
    {
     "name": "stdout",
     "output_type": "stream",
     "text": [
      "7530990 동광고등학교\n",
      "급식 정보 조회 중: 날짜=20241030\n",
      "mealService 응답코드: 200\n",
      "급식 데이터 수: 1\n",
      "7530999 동국대학교사범대학부속영석고등학교\n",
      "급식 정보 조회 중: 날짜=20241030\n"
     ]
    },
    {
     "name": "stderr",
     "output_type": "stream",
     "text": [
      "[J10] 고등학교 급식 조회:  59%|███▌  | 111/187 [00:18<00:13,  5.77it/s]"
     ]
    },
    {
     "name": "stdout",
     "output_type": "stream",
     "text": [
      "mealService 응답코드: 200\n",
      "급식 데이터 수: 1\n",
      "7530484 동남고등학교\n",
      "급식 정보 조회 중: 날짜=20241030\n",
      "mealService 응답코드: 200\n",
      "급식 데이터 수: 1\n"
     ]
    },
    {
     "name": "stderr",
     "output_type": "stream",
     "text": [
      "[J10] 고등학교 급식 조회:  60%|███▋  | 113/187 [00:19<00:13,  5.53it/s]"
     ]
    },
    {
     "name": "stdout",
     "output_type": "stream",
     "text": [
      "7530153 동두천고등학교\n",
      "급식 정보 조회 중: 날짜=20241030\n",
      "mealService 응답코드: 200\n",
      "급식 데이터 수: 1\n"
     ]
    },
    {
     "name": "stderr",
     "output_type": "stream",
     "text": [
      "[J10] 고등학교 급식 조회:  61%|███▋  | 114/187 [00:19<00:12,  5.65it/s]"
     ]
    },
    {
     "name": "stdout",
     "output_type": "stream",
     "text": [
      "7530655 동두천외국어고등학교\n",
      "급식 정보 조회 중: 날짜=20241030\n",
      "mealService 응답코드: 200\n",
      "급식 데이터 수: 3\n",
      "7530544 동두천중앙고등학교\n",
      "급식 정보 조회 중: 날짜=20241030\n"
     ]
    },
    {
     "name": "stderr",
     "output_type": "stream",
     "text": [
      "[J10] 고등학교 급식 조회:  61%|███▋  | 115/187 [00:19<00:12,  5.69it/s]"
     ]
    },
    {
     "name": "stdout",
     "output_type": "stream",
     "text": [
      "mealService 응답코드: 200\n",
      "급식 데이터 수: 1\n",
      "7530823 동백고등학교\n",
      "급식 정보 조회 중: 날짜=20241030\n",
      "mealService 응답코드: 200\n",
      "급식 데이터 수: 1\n"
     ]
    },
    {
     "name": "stderr",
     "output_type": "stream",
     "text": [
      "[J10] 고등학교 급식 조회:  63%|███▊  | 117/187 [00:20<00:12,  5.74it/s]"
     ]
    },
    {
     "name": "stdout",
     "output_type": "stream",
     "text": [
      "7530063 동안고등학교\n",
      "급식 정보 조회 중: 날짜=20241030\n",
      "mealService 응답코드: 200\n",
      "급식 데이터 수: 1\n",
      "7530154 동우여자고등학교\n",
      "급식 정보 조회 중: 날짜=20241030\n"
     ]
    },
    {
     "name": "stderr",
     "output_type": "stream",
     "text": [
      "[J10] 고등학교 급식 조회:  63%|███▊  | 118/187 [00:20<00:11,  5.77it/s]"
     ]
    },
    {
     "name": "stdout",
     "output_type": "stream",
     "text": [
      "mealService 응답코드: 200\n",
      "급식 데이터 수: 1\n",
      "7531598 동원동우고등학교\n",
      "급식 정보 조회 중: 날짜=20241030\n",
      "mealService 응답코드: 200\n",
      "mealServiceDietInfo 키 없음: {'RESULT': {'CODE': 'INFO-200', 'MESSAGE': '해당하는 데이터가 없습니다.'}}\n"
     ]
    },
    {
     "name": "stderr",
     "output_type": "stream",
     "text": [
      "[J10] 고등학교 급식 조회:  64%|███▊  | 120/187 [00:20<00:11,  5.69it/s]"
     ]
    },
    {
     "name": "stdout",
     "output_type": "stream",
     "text": [
      "7530327 동일공업고등학교\n",
      "급식 정보 조회 중: 날짜=20241030\n",
      "mealService 응답코드: 200\n",
      "급식 데이터 수: 1\n",
      "7530820 동탄고등학교\n",
      "급식 정보 조회 중: 날짜=20241030\n"
     ]
    },
    {
     "name": "stderr",
     "output_type": "stream",
     "text": [
      "[J10] 고등학교 급식 조회:  65%|███▉  | 121/187 [00:20<00:11,  5.68it/s]"
     ]
    },
    {
     "name": "stdout",
     "output_type": "stream",
     "text": [
      "mealService 응답코드: 200\n",
      "급식 데이터 수: 1\n",
      "7530976 동탄국제고등학교\n",
      "급식 정보 조회 중: 날짜=20241030\n",
      "mealService 응답코드: 200\n",
      "급식 데이터 수: 1\n"
     ]
    },
    {
     "name": "stderr",
     "output_type": "stream",
     "text": [
      "[J10] 고등학교 급식 조회:  66%|███▉  | 123/187 [00:21<00:11,  5.68it/s]"
     ]
    },
    {
     "name": "stdout",
     "output_type": "stream",
     "text": [
      "7531159 동탄중앙고등학교\n",
      "급식 정보 조회 중: 날짜=20241030\n",
      "mealService 응답코드: 200\n",
      "급식 데이터 수: 1\n"
     ]
    },
    {
     "name": "stderr",
     "output_type": "stream",
     "text": [
      "[J10] 고등학교 급식 조회:  66%|███▉  | 124/187 [00:21<00:10,  5.81it/s]"
     ]
    },
    {
     "name": "stdout",
     "output_type": "stream",
     "text": [
      "7530969 동패고등학교\n",
      "급식 정보 조회 중: 날짜=20241030\n",
      "mealService 응답코드: 200\n",
      "급식 데이터 수: 1\n",
      "7530156 동화고등학교\n",
      "급식 정보 조회 중: 날짜=20241030\n"
     ]
    },
    {
     "name": "stderr",
     "output_type": "stream",
     "text": [
      "[J10] 고등학교 급식 조회:  67%|████  | 125/187 [00:21<00:10,  5.83it/s]"
     ]
    },
    {
     "name": "stdout",
     "output_type": "stream",
     "text": [
      "mealService 응답코드: 200\n",
      "급식 데이터 수: 2\n",
      "7530485 두레자연고등학교\n",
      "급식 정보 조회 중: 날짜=20241030\n"
     ]
    },
    {
     "name": "stderr",
     "output_type": "stream",
     "text": [
      "[J10] 고등학교 급식 조회:  67%|████  | 126/187 [00:21<00:11,  5.52it/s]"
     ]
    },
    {
     "name": "stdout",
     "output_type": "stream",
     "text": [
      "mealService 응답코드: 200\n",
      "급식 데이터 수: 3\n",
      "7531257 두원공업고등학교\n",
      "급식 정보 조회 중: 날짜=20241030\n",
      "mealService 응답코드: 200\n",
      "급식 데이터 수: 2\n"
     ]
    },
    {
     "name": "stderr",
     "output_type": "stream",
     "text": [
      "[J10] 고등학교 급식 조회:  68%|████  | 128/187 [00:22<00:10,  5.60it/s]"
     ]
    },
    {
     "name": "stdout",
     "output_type": "stream",
     "text": [
      "7531294 라온고등학교\n",
      "급식 정보 조회 중: 날짜=20241030\n",
      "mealService 응답코드: 200\n",
      "급식 데이터 수: 2\n"
     ]
    },
    {
     "name": "stderr",
     "output_type": "stream",
     "text": [
      "[J10] 고등학교 급식 조회:  69%|████▏ | 129/187 [00:22<00:10,  5.58it/s]"
     ]
    },
    {
     "name": "stdout",
     "output_type": "stream",
     "text": [
      "7530972 마석고등학교\n",
      "급식 정보 조회 중: 날짜=20241030\n",
      "mealService 응답코드: 200\n",
      "급식 데이터 수: 1\n",
      "7530930 마송고등학교\n",
      "급식 정보 조회 중: 날짜=20241030\n"
     ]
    },
    {
     "name": "stderr",
     "output_type": "stream",
     "text": [
      "[J10] 고등학교 급식 조회:  70%|████▏ | 130/187 [00:22<00:09,  5.70it/s]"
     ]
    },
    {
     "name": "stdout",
     "output_type": "stream",
     "text": [
      "mealService 응답코드: 200\n",
      "급식 데이터 수: 1\n",
      "7530649 마장고등학교\n",
      "급식 정보 조회 중: 날짜=20241030\n",
      "mealService 응답코드: 200\n",
      "급식 데이터 수: 1\n"
     ]
    },
    {
     "name": "stderr",
     "output_type": "stream",
     "text": [
      "[J10] 고등학교 급식 조회:  71%|████▏ | 132/187 [00:22<00:09,  5.72it/s]"
     ]
    },
    {
     "name": "stdout",
     "output_type": "stream",
     "text": [
      "7530844 망포고등학교\n",
      "급식 정보 조회 중: 날짜=20241030\n",
      "mealService 응답코드: 200\n",
      "급식 데이터 수: 1\n",
      "7530845 매원고등학교\n",
      "급식 정보 조회 중: 날짜=20241030\n"
     ]
    },
    {
     "name": "stderr",
     "output_type": "stream",
     "text": [
      "[J10] 고등학교 급식 조회:  71%|████▎ | 133/187 [00:22<00:09,  5.74it/s]"
     ]
    },
    {
     "name": "stdout",
     "output_type": "stream",
     "text": [
      "mealService 응답코드: 200\n",
      "급식 데이터 수: 1\n",
      "7530652 매탄고등학교\n",
      "급식 정보 조회 중: 날짜=20241030\n",
      "mealService 응답코드: 200\n",
      "급식 데이터 수: 1\n"
     ]
    },
    {
     "name": "stderr",
     "output_type": "stream",
     "text": [
      "[J10] 고등학교 급식 조회:  72%|████▎ | 135/187 [00:23<00:09,  5.71it/s]"
     ]
    },
    {
     "name": "stdout",
     "output_type": "stream",
     "text": [
      "7530497 매향여자정보고등학교\n",
      "급식 정보 조회 중: 날짜=20241030\n",
      "mealService 응답코드: 200\n",
      "급식 데이터 수: 1\n"
     ]
    },
    {
     "name": "stderr",
     "output_type": "stream",
     "text": [
      "[J10] 고등학교 급식 조회:  73%|████▎ | 136/187 [00:23<00:08,  5.84it/s]"
     ]
    },
    {
     "name": "stdout",
     "output_type": "stream",
     "text": [
      "7531139 매홀고등학교\n",
      "급식 정보 조회 중: 날짜=20241030\n",
      "mealService 응답코드: 200\n",
      "급식 데이터 수: 1\n",
      "7530628 명문고등학교\n",
      "급식 정보 조회 중: 날짜=20241030\n"
     ]
    },
    {
     "name": "stderr",
     "output_type": "stream",
     "text": [
      "[J10] 고등학교 급식 조회:  73%|████▍ | 137/187 [00:23<00:08,  5.91it/s]"
     ]
    },
    {
     "name": "stdout",
     "output_type": "stream",
     "text": [
      "mealService 응답코드: 200\n",
      "급식 데이터 수: 1\n",
      "7531108 모락고등학교\n",
      "급식 정보 조회 중: 날짜=20241030\n",
      "mealService 응답코드: 200\n",
      "급식 데이터 수: 1\n"
     ]
    },
    {
     "name": "stderr",
     "output_type": "stream",
     "text": [
      "[J10] 고등학교 급식 조회:  74%|████▍ | 139/187 [00:23<00:08,  5.91it/s]"
     ]
    },
    {
     "name": "stdout",
     "output_type": "stream",
     "text": [
      "7531370 목감고등학교\n",
      "급식 정보 조회 중: 날짜=20241030\n",
      "mealService 응답코드: 200\n",
      "급식 데이터 수: 1\n",
      "7530064 무원고등학교\n",
      "급식 정보 조회 중: 날짜=20241030\n"
     ]
    },
    {
     "name": "stderr",
     "output_type": "stream",
     "text": [
      "[J10] 고등학교 급식 조회:  75%|████▍ | 140/187 [00:24<00:07,  5.88it/s]"
     ]
    },
    {
     "name": "stdout",
     "output_type": "stream",
     "text": [
      "mealService 응답코드: 200\n",
      "급식 데이터 수: 1\n",
      "7530065 문산고등학교\n",
      "급식 정보 조회 중: 날짜=20241030\n",
      "mealService 응답코드: 200\n",
      "급식 데이터 수: 1\n"
     ]
    },
    {
     "name": "stderr",
     "output_type": "stream",
     "text": [
      "[J10] 고등학교 급식 조회:  76%|████▌ | 142/187 [00:24<00:07,  5.96it/s]"
     ]
    },
    {
     "name": "stdout",
     "output_type": "stream",
     "text": [
      "7531236 문산수억고등학교\n",
      "급식 정보 조회 중: 날짜=20241030\n",
      "mealService 응답코드: 200\n",
      "급식 데이터 수: 1\n",
      "7530630 문산제일고등학교\n",
      "급식 정보 조회 중: 날짜=20241030\n"
     ]
    },
    {
     "name": "stderr",
     "output_type": "stream",
     "text": [
      "[J10] 고등학교 급식 조회:  76%|████▌ | 143/187 [00:24<00:07,  6.05it/s]"
     ]
    },
    {
     "name": "stdout",
     "output_type": "stream",
     "text": [
      "mealService 응답코드: 200\n",
      "급식 데이터 수: 1\n",
      "7531244 미사강변고등학교\n",
      "급식 정보 조회 중: 날짜=20241030\n",
      "mealService 응답코드: 200\n",
      "급식 데이터 수: 1\n"
     ]
    },
    {
     "name": "stderr",
     "output_type": "stream",
     "text": [
      "[J10] 고등학교 급식 조회:  78%|████▋ | 145/187 [00:24<00:07,  5.87it/s]"
     ]
    },
    {
     "name": "stdout",
     "output_type": "stream",
     "text": [
      "7531163 미사고등학교\n",
      "급식 정보 조회 중: 날짜=20241030\n",
      "mealService 응답코드: 200\n",
      "급식 데이터 수: 1\n",
      "7530847 반송고등학교\n",
      "급식 정보 조회 중: 날짜=20241030\n"
     ]
    },
    {
     "name": "stderr",
     "output_type": "stream",
     "text": [
      "[J10] 고등학교 급식 조회:  78%|████▋ | 146/187 [00:25<00:06,  5.97it/s]"
     ]
    },
    {
     "name": "stdout",
     "output_type": "stream",
     "text": [
      "mealService 응답코드: 200\n",
      "급식 데이터 수: 1\n",
      "7530933 발곡고등학교\n",
      "급식 정보 조회 중: 날짜=20241030\n",
      "mealService 응답코드: 200\n",
      "급식 데이터 수: 1\n"
     ]
    },
    {
     "name": "stderr",
     "output_type": "stream",
     "text": [
      "[J10] 고등학교 급식 조회:  79%|████▋ | 148/187 [00:25<00:06,  6.04it/s]"
     ]
    },
    {
     "name": "stdout",
     "output_type": "stream",
     "text": [
      "7530904 발안바이오과학고등학교\n",
      "급식 정보 조회 중: 날짜=20241030\n",
      "mealService 응답코드: 200\n",
      "급식 데이터 수: 1\n",
      "7531246 배곧고등학교\n",
      "급식 정보 조회 중: 날짜=20241030\n"
     ]
    },
    {
     "name": "stderr",
     "output_type": "stream",
     "text": [
      "[J10] 고등학교 급식 조회:  80%|████▊ | 149/187 [00:25<00:06,  6.01it/s]"
     ]
    },
    {
     "name": "stdout",
     "output_type": "stream",
     "text": [
      "mealService 응답코드: 200\n",
      "급식 데이터 수: 1\n",
      "7530066 백마고등학교\n",
      "급식 정보 조회 중: 날짜=20241030\n",
      "mealService 응답코드: 200\n",
      "급식 데이터 수: 1\n"
     ]
    },
    {
     "name": "stderr",
     "output_type": "stream",
     "text": [
      "[J10] 고등학교 급식 조회:  81%|████▊ | 151/187 [00:25<00:06,  5.74it/s]"
     ]
    },
    {
     "name": "stdout",
     "output_type": "stream",
     "text": [
      "7530067 백석고등학교\n",
      "급식 정보 조회 중: 날짜=20241030\n",
      "mealService 응답코드: 200\n",
      "급식 데이터 수: 1\n",
      "7531057 백송고등학교\n",
      "급식 정보 조회 중: 날짜=20241030\n",
      "mealService 응답코드: 200\n",
      "급식 데이터 수: 1\n"
     ]
    },
    {
     "name": "stderr",
     "output_type": "stream",
     "text": [
      "[J10] 고등학교 급식 조회:  82%|████▉ | 153/187 [00:26<00:06,  5.15it/s]"
     ]
    },
    {
     "name": "stdout",
     "output_type": "stream",
     "text": [
      "7530068 백신고등학교\n",
      "급식 정보 조회 중: 날짜=20241030\n",
      "mealService 응답코드: 200\n",
      "급식 데이터 수: 1\n",
      "7530650 백암고등학교\n",
      "급식 정보 조회 중: 날짜=20241030\n"
     ]
    },
    {
     "name": "stderr",
     "output_type": "stream",
     "text": [
      "[J10] 고등학교 급식 조회:  82%|████▉ | 154/187 [00:26<00:06,  5.29it/s]"
     ]
    },
    {
     "name": "stdout",
     "output_type": "stream",
     "text": [
      "mealService 응답코드: 200\n",
      "급식 데이터 수: 2\n",
      "7530472 백양고등학교\n",
      "급식 정보 조회 중: 날짜=20241030\n",
      "mealService 응답코드: 200\n",
      "급식 데이터 수: 1\n"
     ]
    },
    {
     "name": "stderr",
     "output_type": "stream",
     "text": [
      "[J10] 고등학교 급식 조회:  83%|█████ | 156/187 [00:26<00:05,  5.59it/s]"
     ]
    },
    {
     "name": "stdout",
     "output_type": "stream",
     "text": [
      "7530157 백영고등학교\n",
      "급식 정보 조회 중: 날짜=20241030\n",
      "mealService 응답코드: 200\n",
      "급식 데이터 수: 1\n",
      "7530069 백운고등학교\n",
      "급식 정보 조회 중: 날짜=20241030\n"
     ]
    },
    {
     "name": "stderr",
     "output_type": "stream",
     "text": [
      "[J10] 고등학교 급식 조회:  84%|█████ | 157/187 [00:27<00:05,  5.73it/s]"
     ]
    },
    {
     "name": "stdout",
     "output_type": "stream",
     "text": [
      "mealService 응답코드: 200\n",
      "급식 데이터 수: 1\n",
      "7530763 범박고등학교\n",
      "급식 정보 조회 중: 날짜=20241030\n",
      "mealService 응답코드: 200\n",
      "급식 데이터 수: 1\n"
     ]
    },
    {
     "name": "stderr",
     "output_type": "stream",
     "text": [
      "[J10] 고등학교 급식 조회:  85%|█████ | 159/187 [00:27<00:04,  5.67it/s]"
     ]
    },
    {
     "name": "stdout",
     "output_type": "stream",
     "text": [
      "7531247 별가람고등학교\n",
      "급식 정보 조회 중: 날짜=20241030\n",
      "mealService 응답코드: 200\n",
      "급식 데이터 수: 1\n",
      "7531113 별내고등학교\n",
      "급식 정보 조회 중: 날짜=20241030\n"
     ]
    },
    {
     "name": "stderr",
     "output_type": "stream",
     "text": [
      "[J10] 고등학교 급식 조회:  86%|█████▏| 160/187 [00:27<00:04,  5.49it/s]"
     ]
    },
    {
     "name": "stdout",
     "output_type": "stream",
     "text": [
      "mealService 응답코드: 200\n",
      "급식 데이터 수: 1\n",
      "7530627 병점고등학교\n",
      "급식 정보 조회 중: 날짜=20241030\n",
      "mealService 응답코드: 200\n",
      "급식 데이터 수: 1\n"
     ]
    },
    {
     "name": "stderr",
     "output_type": "stream",
     "text": [
      "[J10] 고등학교 급식 조회:  87%|█████▏| 162/187 [00:27<00:04,  5.66it/s]"
     ]
    },
    {
     "name": "stdout",
     "output_type": "stream",
     "text": [
      "7530882 보라고등학교\n",
      "급식 정보 조회 중: 날짜=20241030\n",
      "mealService 응답코드: 200\n",
      "급식 데이터 수: 1\n",
      "7530658 보정고등학교\n",
      "급식 정보 조회 중: 날짜=20241030\n"
     ]
    },
    {
     "name": "stderr",
     "output_type": "stream",
     "text": [
      "[J10] 고등학교 급식 조회:  87%|█████▏| 163/187 [00:28<00:04,  5.70it/s]"
     ]
    },
    {
     "name": "stdout",
     "output_type": "stream",
     "text": [
      "mealService 응답코드: 200\n",
      "급식 데이터 수: 1\n",
      "7530921 보평고등학교\n",
      "급식 정보 조회 중: 날짜=20241030\n",
      "mealService 응답코드: 200\n",
      "급식 데이터 수: 1\n"
     ]
    },
    {
     "name": "stderr",
     "output_type": "stream",
     "text": [
      "[J10] 고등학교 급식 조회:  88%|█████▎| 165/187 [00:28<00:03,  5.72it/s]"
     ]
    },
    {
     "name": "stdout",
     "output_type": "stream",
     "text": [
      "7530940 복정고등학교\n",
      "급식 정보 조회 중: 날짜=20241030\n",
      "mealService 응답코드: 200\n",
      "급식 데이터 수: 1\n"
     ]
    },
    {
     "name": "stderr",
     "output_type": "stream",
     "text": [
      "[J10] 고등학교 급식 조회:  89%|█████▎| 166/187 [00:28<00:03,  5.61it/s]"
     ]
    },
    {
     "name": "stdout",
     "output_type": "stream",
     "text": [
      "7530848 봉담고등학교\n",
      "급식 정보 조회 중: 날짜=20241030\n",
      "mealService 응답코드: 200\n",
      "급식 데이터 수: 1\n"
     ]
    },
    {
     "name": "stderr",
     "output_type": "stream",
     "text": [
      "[J10] 고등학교 급식 조회:  89%|█████▎| 167/187 [00:28<00:03,  5.74it/s]"
     ]
    },
    {
     "name": "stdout",
     "output_type": "stream",
     "text": [
      "7530825 봉일천고등학교\n",
      "급식 정보 조회 중: 날짜=20241030\n",
      "mealService 응답코드: 200\n",
      "급식 데이터 수: 1\n",
      "7531106 부곡고등학교\n",
      "급식 정보 조회 중: 날짜=20241030\n"
     ]
    },
    {
     "name": "stderr",
     "output_type": "stream",
     "text": [
      "[J10] 고등학교 급식 조회:  90%|█████▍| 168/187 [00:28<00:03,  5.83it/s]"
     ]
    },
    {
     "name": "stdout",
     "output_type": "stream",
     "text": [
      "mealService 응답코드: 200\n",
      "급식 데이터 수: 1\n",
      "7530070 부명고등학교\n",
      "급식 정보 조회 중: 날짜=20241030\n",
      "mealService 응답코드: 200\n",
      "급식 데이터 수: 1\n"
     ]
    },
    {
     "name": "stderr",
     "output_type": "stream",
     "text": [
      "[J10] 고등학교 급식 조회:  91%|█████▍| 170/187 [00:29<00:02,  5.75it/s]"
     ]
    },
    {
     "name": "stdout",
     "output_type": "stream",
     "text": [
      "7530575 부용고등학교\n",
      "급식 정보 조회 중: 날짜=20241030\n",
      "mealService 응답코드: 200\n",
      "급식 데이터 수: 1\n",
      "7530842 부원고등학교\n",
      "급식 정보 조회 중: 날짜=20241030\n"
     ]
    },
    {
     "name": "stderr",
     "output_type": "stream",
     "text": [
      "[J10] 고등학교 급식 조회:  91%|█████▍| 171/187 [00:29<00:02,  5.81it/s]"
     ]
    },
    {
     "name": "stdout",
     "output_type": "stream",
     "text": [
      "mealService 응답코드: 200\n",
      "급식 데이터 수: 1\n",
      "7530071 부천고등학교\n",
      "급식 정보 조회 중: 날짜=20241030\n",
      "mealService 응답코드: 200\n",
      "급식 데이터 수: 1\n"
     ]
    },
    {
     "name": "stderr",
     "output_type": "stream",
     "text": [
      "[J10] 고등학교 급식 조회:  93%|█████▌| 173/187 [00:29<00:02,  5.82it/s]"
     ]
    },
    {
     "name": "stdout",
     "output_type": "stream",
     "text": [
      "7530254 부천공업고등학교\n",
      "급식 정보 조회 중: 날짜=20241030\n",
      "mealService 응답코드: 200\n",
      "급식 데이터 수: 1\n",
      "7530072 부천북고등학교\n",
      "급식 정보 조회 중: 날짜=20241030\n"
     ]
    },
    {
     "name": "stderr",
     "output_type": "stream",
     "text": [
      "[J10] 고등학교 급식 조회:  93%|█████▌| 174/187 [00:30<00:02,  5.79it/s]"
     ]
    },
    {
     "name": "stdout",
     "output_type": "stream",
     "text": [
      "mealService 응답코드: 200\n",
      "급식 데이터 수: 1\n",
      "7530073 부천여자고등학교\n",
      "급식 정보 조회 중: 날짜=20241030\n",
      "mealService 응답코드: 200\n",
      "급식 데이터 수: 1\n"
     ]
    },
    {
     "name": "stderr",
     "output_type": "stream",
     "text": [
      "[J10] 고등학교 급식 조회:  94%|█████▋| 176/187 [00:30<00:01,  5.86it/s]"
     ]
    },
    {
     "name": "stdout",
     "output_type": "stream",
     "text": [
      "7530256 부천정보산업고등학교\n",
      "급식 정보 조회 중: 날짜=20241030\n",
      "mealService 응답코드: 200\n",
      "급식 데이터 수: 1\n",
      "7530074 부흥고등학교\n",
      "급식 정보 조회 중: 날짜=20241030\n"
     ]
    },
    {
     "name": "stderr",
     "output_type": "stream",
     "text": [
      "[J10] 고등학교 급식 조회:  95%|█████▋| 177/187 [00:30<00:01,  5.77it/s]"
     ]
    },
    {
     "name": "stdout",
     "output_type": "stream",
     "text": [
      "mealService 응답코드: 200\n",
      "급식 데이터 수: 1\n",
      "7531114 분당경영고등학교\n",
      "급식 정보 조회 중: 날짜=20241030\n",
      "mealService 응답코드: 200\n",
      "급식 데이터 수: 1\n"
     ]
    },
    {
     "name": "stderr",
     "output_type": "stream",
     "text": [
      "[J10] 고등학교 급식 조회:  96%|█████▋| 179/187 [00:30<00:01,  5.91it/s]"
     ]
    },
    {
     "name": "stdout",
     "output_type": "stream",
     "text": [
      "7530075 분당고등학교\n",
      "급식 정보 조회 중: 날짜=20241030\n",
      "mealService 응답코드: 200\n",
      "급식 데이터 수: 1\n",
      "7530160 분당대진고등학교\n",
      "급식 정보 조회 중: 날짜=20241030\n"
     ]
    },
    {
     "name": "stderr",
     "output_type": "stream",
     "text": [
      "[J10] 고등학교 급식 조회:  96%|█████▊| 180/187 [00:31<00:01,  5.97it/s]"
     ]
    },
    {
     "name": "stdout",
     "output_type": "stream",
     "text": [
      "mealService 응답코드: 200\n",
      "급식 데이터 수: 1\n",
      "7531423 분당아람고등학교\n",
      "급식 정보 조회 중: 날짜=20241030\n",
      "mealService 응답코드: 200\n",
      "급식 데이터 수: 1\n"
     ]
    },
    {
     "name": "stderr",
     "output_type": "stream",
     "text": [
      "[J10] 고등학교 급식 조회:  97%|█████▊| 182/187 [00:31<00:00,  5.91it/s]"
     ]
    },
    {
     "name": "stdout",
     "output_type": "stream",
     "text": [
      "7530598 분당영덕여자고등학교\n",
      "급식 정보 조회 중: 날짜=20241030\n",
      "mealService 응답코드: 200\n",
      "급식 데이터 수: 1\n",
      "7530076 분당중앙고등학교\n",
      "급식 정보 조회 중: 날짜=20241030\n"
     ]
    },
    {
     "name": "stderr",
     "output_type": "stream",
     "text": [
      "[J10] 고등학교 급식 조회:  98%|█████▊| 183/187 [00:31<00:00,  5.64it/s]"
     ]
    },
    {
     "name": "stdout",
     "output_type": "stream",
     "text": [
      "mealService 응답코드: 200\n",
      "급식 데이터 수: 1\n",
      "7530077 불곡고등학교\n",
      "급식 정보 조회 중: 날짜=20241030\n",
      "mealService 응답코드: 200\n",
      "급식 데이터 수: 1\n"
     ]
    },
    {
     "name": "stderr",
     "output_type": "stream",
     "text": [
      "[J10] 고등학교 급식 조회:  99%|█████▉| 185/187 [00:31<00:00,  5.62it/s]"
     ]
    },
    {
     "name": "stdout",
     "output_type": "stream",
     "text": [
      "7530603 비봉고등학교\n",
      "급식 정보 조회 중: 날짜=20241030\n",
      "mealService 응답코드: 200\n",
      "급식 데이터 수: 1\n"
     ]
    },
    {
     "name": "stderr",
     "output_type": "stream",
     "text": [
      "[J10] 고등학교 급식 조회:  99%|█████▉| 186/187 [00:32<00:00,  5.80it/s]"
     ]
    },
    {
     "name": "stdout",
     "output_type": "stream",
     "text": [
      "7531109 비전고등학교\n",
      "급식 정보 조회 중: 날짜=20241030\n",
      "mealService 응답코드: 200\n",
      "급식 데이터 수: 1\n",
      "7530474 사우고등학교\n",
      "급식 정보 조회 중: 날짜=20241030\n"
     ]
    },
    {
     "name": "stderr",
     "output_type": "stream",
     "text": [
      "[J10] 고등학교 급식 조회: 100%|██████| 187/187 [00:32<00:00,  5.80it/s]\n"
     ]
    },
    {
     "name": "stdout",
     "output_type": "stream",
     "text": [
      "mealService 응답코드: 200\n",
      "급식 데이터 수: 1\n",
      "응답코드 : 200\n"
     ]
    },
    {
     "name": "stderr",
     "output_type": "stream",
     "text": [
      "[K10] 고등학교 급식 조회:   0%|                | 0/116 [00:00<?, ?it/s]"
     ]
    },
    {
     "name": "stdout",
     "output_type": "stream",
     "text": [
      "7801089 가곡고등학교\n",
      "급식 정보 조회 중: 날짜=20241030\n",
      "mealService 응답코드: 200\n",
      "급식 데이터 수: 1\n"
     ]
    },
    {
     "name": "stderr",
     "output_type": "stream",
     "text": [
      "[K10] 고등학교 급식 조회:   2%|▏       | 2/116 [00:00<00:20,  5.61it/s]"
     ]
    },
    {
     "name": "stdout",
     "output_type": "stream",
     "text": [
      "7801090 간동고등학교\n",
      "급식 정보 조회 중: 날짜=20241030\n",
      "mealService 응답코드: 200\n",
      "급식 데이터 수: 1\n",
      "7801091 갑천고등학교\n",
      "급식 정보 조회 중: 날짜=20241030\n"
     ]
    },
    {
     "name": "stderr",
     "output_type": "stream",
     "text": [
      "[K10] 고등학교 급식 조회:   3%|▏       | 3/116 [00:00<00:19,  5.78it/s]"
     ]
    },
    {
     "name": "stdout",
     "output_type": "stream",
     "text": [
      "mealService 응답코드: 200\n",
      "급식 데이터 수: 1\n",
      "7801092 강릉고등학교\n",
      "급식 정보 조회 중: 날짜=20241030\n",
      "mealService 응답코드: 200\n",
      "급식 데이터 수: 3\n"
     ]
    },
    {
     "name": "stderr",
     "output_type": "stream",
     "text": [
      "[K10] 고등학교 급식 조회:   4%|▎       | 5/116 [00:00<00:18,  5.92it/s]"
     ]
    },
    {
     "name": "stdout",
     "output_type": "stream",
     "text": [
      "7801093 강릉명륜고등학교\n",
      "급식 정보 조회 중: 날짜=20241030\n",
      "mealService 응답코드: 200\n",
      "급식 데이터 수: 2\n",
      "7801094 강릉문성고등학교\n",
      "급식 정보 조회 중: 날짜=20241030\n"
     ]
    },
    {
     "name": "stderr",
     "output_type": "stream",
     "text": [
      "[K10] 고등학교 급식 조회:   5%|▍       | 6/116 [00:01<00:19,  5.77it/s]"
     ]
    },
    {
     "name": "stdout",
     "output_type": "stream",
     "text": [
      "mealService 응답코드: 200\n",
      "급식 데이터 수: 1\n",
      "7801095 강릉여자고등학교\n",
      "급식 정보 조회 중: 날짜=20241030\n",
      "mealService 응답코드: 200\n",
      "급식 데이터 수: 2\n"
     ]
    },
    {
     "name": "stderr",
     "output_type": "stream",
     "text": [
      "[K10] 고등학교 급식 조회:   7%|▌       | 8/116 [00:01<00:18,  5.73it/s]"
     ]
    },
    {
     "name": "stdout",
     "output_type": "stream",
     "text": [
      "7801096 강릉정보공업고등학교\n",
      "급식 정보 조회 중: 날짜=20241030\n",
      "mealService 응답코드: 200\n",
      "급식 데이터 수: 1\n"
     ]
    },
    {
     "name": "stderr",
     "output_type": "stream",
     "text": [
      "[K10] 고등학교 급식 조회:   8%|▌       | 9/116 [00:01<00:18,  5.80it/s]"
     ]
    },
    {
     "name": "stdout",
     "output_type": "stream",
     "text": [
      "7801097 강릉제일고등학교\n",
      "급식 정보 조회 중: 날짜=20241030\n",
      "mealService 응답코드: 200\n",
      "급식 데이터 수: 1\n",
      "7801099 강릉중앙고등학교\n",
      "급식 정보 조회 중: 날짜=20241030\n"
     ]
    },
    {
     "name": "stderr",
     "output_type": "stream",
     "text": [
      "[K10] 고등학교 급식 조회:   9%|▌      | 10/116 [00:01<00:18,  5.88it/s]"
     ]
    },
    {
     "name": "stdout",
     "output_type": "stream",
     "text": [
      "mealService 응답코드: 200\n",
      "급식 데이터 수: 1\n",
      "7801100 강원고등학교\n",
      "급식 정보 조회 중: 날짜=20241030\n",
      "mealService 응답코드: 200\n",
      "급식 데이터 수: 1\n"
     ]
    },
    {
     "name": "stderr",
     "output_type": "stream",
     "text": [
      "[K10] 고등학교 급식 조회:  10%|▋      | 12/116 [00:02<00:17,  5.96it/s]"
     ]
    },
    {
     "name": "stdout",
     "output_type": "stream",
     "text": [
      "7801101 강원과학고등학교\n",
      "급식 정보 조회 중: 날짜=20241030\n",
      "mealService 응답코드: 200\n",
      "급식 데이터 수: 3\n",
      "7004207 강원대학교사범대학부설고등학교\n",
      "급식 정보 조회 중: 날짜=20241030\n"
     ]
    },
    {
     "name": "stderr",
     "output_type": "stream",
     "text": [
      "[K10] 고등학교 급식 조회:  11%|▊      | 13/116 [00:02<00:17,  5.75it/s]"
     ]
    },
    {
     "name": "stdout",
     "output_type": "stream",
     "text": [
      "mealService 응답코드: 200\n",
      "급식 데이터 수: 1\n",
      "7801102 강원생명과학고등학교\n",
      "급식 정보 조회 중: 날짜=20241030\n",
      "mealService 응답코드: 200\n",
      "급식 데이터 수: 3\n"
     ]
    },
    {
     "name": "stderr",
     "output_type": "stream",
     "text": [
      "[K10] 고등학교 급식 조회:  13%|▉      | 15/116 [00:02<00:18,  5.61it/s]"
     ]
    },
    {
     "name": "stdout",
     "output_type": "stream",
     "text": [
      "7801103 강원생활과학고등학교\n",
      "급식 정보 조회 중: 날짜=20241030\n",
      "mealService 응답코드: 200\n",
      "급식 데이터 수: 3\n"
     ]
    },
    {
     "name": "stderr",
     "output_type": "stream",
     "text": [
      "[K10] 고등학교 급식 조회:  14%|▉      | 16/116 [00:02<00:17,  5.66it/s]"
     ]
    },
    {
     "name": "stdout",
     "output_type": "stream",
     "text": [
      "7801104 강원애니고등학교\n",
      "급식 정보 조회 중: 날짜=20241030\n",
      "mealService 응답코드: 200\n",
      "급식 데이터 수: 3\n",
      "7801105 강원예술고등학교\n",
      "급식 정보 조회 중: 날짜=20241030\n"
     ]
    },
    {
     "name": "stderr",
     "output_type": "stream",
     "text": [
      "[K10] 고등학교 급식 조회:  15%|█      | 17/116 [00:02<00:17,  5.74it/s]"
     ]
    },
    {
     "name": "stdout",
     "output_type": "stream",
     "text": [
      "mealService 응답코드: 200\n",
      "급식 데이터 수: 3\n",
      "7801106 강원외국어고등학교\n",
      "급식 정보 조회 중: 날짜=20241030\n",
      "mealService 응답코드: 200\n",
      "급식 데이터 수: 3\n"
     ]
    },
    {
     "name": "stderr",
     "output_type": "stream",
     "text": [
      "[K10] 고등학교 급식 조회:  16%|█▏     | 19/116 [00:03<00:16,  5.89it/s]"
     ]
    },
    {
     "name": "stdout",
     "output_type": "stream",
     "text": [
      "7801107 강원체육고등학교\n",
      "급식 정보 조회 중: 날짜=20241030\n",
      "mealService 응답코드: 200\n",
      "급식 데이터 수: 3\n",
      "7801108 강일여자고등학교\n",
      "급식 정보 조회 중: 날짜=20241030\n"
     ]
    },
    {
     "name": "stderr",
     "output_type": "stream",
     "text": [
      "[K10] 고등학교 급식 조회:  17%|█▏     | 20/116 [00:03<00:16,  5.87it/s]"
     ]
    },
    {
     "name": "stdout",
     "output_type": "stream",
     "text": [
      "mealService 응답코드: 200\n",
      "급식 데이터 수: 1\n",
      "7801109 거진고등학교\n",
      "급식 정보 조회 중: 날짜=20241030\n",
      "mealService 응답코드: 200\n",
      "급식 데이터 수: 1\n"
     ]
    },
    {
     "name": "stderr",
     "output_type": "stream",
     "text": [
      "[K10] 고등학교 급식 조회:  19%|█▎     | 22/116 [00:03<00:15,  5.91it/s]"
     ]
    },
    {
     "name": "stdout",
     "output_type": "stream",
     "text": [
      "7801110 경포고등학교\n",
      "급식 정보 조회 중: 날짜=20241030\n",
      "mealService 응답코드: 200\n",
      "급식 데이터 수: 1\n",
      "7801111 고성고등학교\n",
      "급식 정보 조회 중: 날짜=20241030\n"
     ]
    },
    {
     "name": "stderr",
     "output_type": "stream",
     "text": [
      "[K10] 고등학교 급식 조회:  20%|█▍     | 23/116 [00:03<00:15,  5.82it/s]"
     ]
    },
    {
     "name": "stdout",
     "output_type": "stream",
     "text": [
      "mealService 응답코드: 200\n",
      "급식 데이터 수: 3\n",
      "7801112 고한고등학교\n",
      "급식 정보 조회 중: 날짜=20241030\n",
      "mealService 응답코드: 200\n",
      "급식 데이터 수: 3\n"
     ]
    },
    {
     "name": "stderr",
     "output_type": "stream",
     "text": [
      "[K10] 고등학교 급식 조회:  22%|█▌     | 25/116 [00:04<00:15,  5.73it/s]"
     ]
    },
    {
     "name": "stdout",
     "output_type": "stream",
     "text": [
      "7801113 기린고등학교\n",
      "급식 정보 조회 중: 날짜=20241030\n",
      "mealService 응답코드: 200\n",
      "급식 데이터 수: 2\n"
     ]
    },
    {
     "name": "stderr",
     "output_type": "stream",
     "text": [
      "[K10] 고등학교 급식 조회:  22%|█▌     | 26/116 [00:04<00:15,  5.82it/s]"
     ]
    },
    {
     "name": "stdout",
     "output_type": "stream",
     "text": [
      "7801114 김화고등학교\n",
      "급식 정보 조회 중: 날짜=20241030\n",
      "mealService 응답코드: 200\n",
      "급식 데이터 수: 3\n",
      "7801115 김화공업고등학교\n",
      "급식 정보 조회 중: 날짜=20241030\n"
     ]
    },
    {
     "name": "stderr",
     "output_type": "stream",
     "text": [
      "[K10] 고등학교 급식 조회:  23%|█▋     | 27/116 [00:04<00:15,  5.82it/s]"
     ]
    },
    {
     "name": "stdout",
     "output_type": "stream",
     "text": [
      "mealService 응답코드: 200\n",
      "급식 데이터 수: 1\n",
      "7801116 내면고등학교\n",
      "급식 정보 조회 중: 날짜=20241030\n",
      "mealService 응답코드: 200\n",
      "급식 데이터 수: 1\n"
     ]
    },
    {
     "name": "stderr",
     "output_type": "stream",
     "text": [
      "[K10] 고등학교 급식 조회:  25%|█▊     | 29/116 [00:04<00:14,  5.82it/s]"
     ]
    },
    {
     "name": "stdout",
     "output_type": "stream",
     "text": [
      "7801117 대성고등학교\n",
      "급식 정보 조회 중: 날짜=20241030\n",
      "mealService 응답코드: 200\n",
      "급식 데이터 수: 1\n",
      "7801118 대진고등학교\n",
      "급식 정보 조회 중: 날짜=20241030\n"
     ]
    },
    {
     "name": "stderr",
     "output_type": "stream",
     "text": [
      "[K10] 고등학교 급식 조회:  26%|█▊     | 30/116 [00:05<00:14,  5.93it/s]"
     ]
    },
    {
     "name": "stdout",
     "output_type": "stream",
     "text": [
      "mealService 응답코드: 200\n",
      "급식 데이터 수: 1\n",
      "7801119 대화고등학교\n",
      "급식 정보 조회 중: 날짜=20241030\n",
      "mealService 응답코드: 200\n",
      "급식 데이터 수: 1\n"
     ]
    },
    {
     "name": "stderr",
     "output_type": "stream",
     "text": [
      "[K10] 고등학교 급식 조회:  28%|█▉     | 32/116 [00:05<00:14,  5.96it/s]"
     ]
    },
    {
     "name": "stdout",
     "output_type": "stream",
     "text": [
      "7801120 도계고등학교\n",
      "급식 정보 조회 중: 날짜=20241030\n",
      "mealService 응답코드: 200\n",
      "급식 데이터 수: 1\n",
      "7801121 도계전산정보고등학교\n",
      "급식 정보 조회 중: 날짜=20241030\n"
     ]
    },
    {
     "name": "stderr",
     "output_type": "stream",
     "text": [
      "[K10] 고등학교 급식 조회:  28%|█▉     | 33/116 [00:05<00:14,  5.74it/s]"
     ]
    },
    {
     "name": "stdout",
     "output_type": "stream",
     "text": [
      "mealService 응답코드: 200\n",
      "급식 데이터 수: 1\n",
      "7801122 동광산업과학고등학교\n",
      "급식 정보 조회 중: 날짜=20241030\n",
      "mealService 응답코드: 200\n",
      "급식 데이터 수: 3\n"
     ]
    },
    {
     "name": "stderr",
     "output_type": "stream",
     "text": [
      "[K10] 고등학교 급식 조회:  30%|██     | 35/116 [00:06<00:13,  5.82it/s]"
     ]
    },
    {
     "name": "stdout",
     "output_type": "stream",
     "text": [
      "7801123 동해광희고등학교\n",
      "급식 정보 조회 중: 날짜=20241030\n",
      "mealService 응답코드: 200\n",
      "급식 데이터 수: 1\n",
      "7801124 동해삼육고등학교\n",
      "급식 정보 조회 중: 날짜=20241030\n"
     ]
    },
    {
     "name": "stderr",
     "output_type": "stream",
     "text": [
      "[K10] 고등학교 급식 조회:  31%|██▏    | 36/116 [00:06<00:13,  5.79it/s]"
     ]
    },
    {
     "name": "stdout",
     "output_type": "stream",
     "text": [
      "mealService 응답코드: 200\n",
      "급식 데이터 수: 3\n",
      "7801125 동해상업고등학교\n",
      "급식 정보 조회 중: 날짜=20241030\n",
      "mealService 응답코드: 200\n",
      "급식 데이터 수: 3\n"
     ]
    },
    {
     "name": "stderr",
     "output_type": "stream",
     "text": [
      "[K10] 고등학교 급식 조회:  33%|██▎    | 38/116 [00:06<00:13,  5.99it/s]"
     ]
    },
    {
     "name": "stdout",
     "output_type": "stream",
     "text": [
      "7801126 둔내고등학교\n",
      "급식 정보 조회 중: 날짜=20241030\n",
      "mealService 응답코드: 200\n",
      "급식 데이터 수: 1\n",
      "7801127 마차고등학교\n",
      "급식 정보 조회 중: 날짜=20241030\n"
     ]
    },
    {
     "name": "stderr",
     "output_type": "stream",
     "text": [
      "[K10] 고등학교 급식 조회:  34%|██▎    | 39/116 [00:06<00:13,  5.77it/s]"
     ]
    },
    {
     "name": "stdout",
     "output_type": "stream",
     "text": [
      "mealService 응답코드: 200\n",
      "급식 데이터 수: 1\n",
      "7801128 묵호고등학교\n",
      "급식 정보 조회 중: 날짜=20241030\n",
      "mealService 응답코드: 200\n",
      "급식 데이터 수: 2\n"
     ]
    },
    {
     "name": "stderr",
     "output_type": "stream",
     "text": [
      "[K10] 고등학교 급식 조회:  35%|██▍    | 41/116 [00:07<00:12,  5.89it/s]"
     ]
    },
    {
     "name": "stdout",
     "output_type": "stream",
     "text": [
      "7801130 문막고등학교\n",
      "급식 정보 조회 중: 날짜=20241030\n",
      "mealService 응답코드: 200\n",
      "급식 데이터 수: 1\n",
      "7801131 미래고등학교\n",
      "급식 정보 조회 중: 날짜=20241030\n"
     ]
    },
    {
     "name": "stderr",
     "output_type": "stream",
     "text": [
      "[K10] 고등학교 급식 조회:  36%|██▌    | 42/116 [00:07<00:12,  5.81it/s]"
     ]
    },
    {
     "name": "stdout",
     "output_type": "stream",
     "text": [
      "mealService 응답코드: 200\n",
      "급식 데이터 수: 3\n",
      "7801132 민족사관고등학교\n",
      "급식 정보 조회 중: 날짜=20241030\n",
      "mealService 응답코드: 200\n",
      "급식 데이터 수: 3\n"
     ]
    },
    {
     "name": "stderr",
     "output_type": "stream",
     "text": [
      "[K10] 고등학교 급식 조회:  38%|██▋    | 44/116 [00:07<00:12,  5.80it/s]"
     ]
    },
    {
     "name": "stdout",
     "output_type": "stream",
     "text": [
      "7801133 봉의고등학교\n",
      "급식 정보 조회 중: 날짜=20241030\n",
      "mealService 응답코드: 200\n",
      "급식 데이터 수: 1\n",
      "7801134 봉평고등학교\n",
      "급식 정보 조회 중: 날짜=20241030\n"
     ]
    },
    {
     "name": "stderr",
     "output_type": "stream",
     "text": [
      "[K10] 고등학교 급식 조회:  39%|██▋    | 45/116 [00:07<00:12,  5.68it/s]"
     ]
    },
    {
     "name": "stdout",
     "output_type": "stream",
     "text": [
      "mealService 응답코드: 200\n",
      "급식 데이터 수: 1\n",
      "7801135 북원여자고등학교\n",
      "급식 정보 조회 중: 날짜=20241030\n",
      "mealService 응답코드: 200\n",
      "급식 데이터 수: 2\n"
     ]
    },
    {
     "name": "stderr",
     "output_type": "stream",
     "text": [
      "[K10] 고등학교 급식 조회:  41%|██▊    | 47/116 [00:08<00:11,  5.86it/s]"
     ]
    },
    {
     "name": "stdout",
     "output_type": "stream",
     "text": [
      "7801136 북평고등학교\n",
      "급식 정보 조회 중: 날짜=20241030\n",
      "mealService 응답코드: 200\n",
      "급식 데이터 수: 2\n",
      "7801137 북평여자고등학교\n",
      "급식 정보 조회 중: 날짜=20241030\n"
     ]
    },
    {
     "name": "stderr",
     "output_type": "stream",
     "text": [
      "[K10] 고등학교 급식 조회:  41%|██▉    | 48/116 [00:08<00:11,  5.84it/s]"
     ]
    },
    {
     "name": "stdout",
     "output_type": "stream",
     "text": [
      "mealService 응답코드: 200\n",
      "급식 데이터 수: 1\n",
      "7801138 사내고등학교\n",
      "급식 정보 조회 중: 날짜=20241030\n",
      "mealService 응답코드: 200\n",
      "급식 데이터 수: 1\n"
     ]
    },
    {
     "name": "stderr",
     "output_type": "stream",
     "text": [
      "[K10] 고등학교 급식 조회:  43%|███    | 50/116 [00:08<00:11,  5.84it/s]"
     ]
    },
    {
     "name": "stdout",
     "output_type": "stream",
     "text": [
      "7801139 사북고등학교\n",
      "급식 정보 조회 중: 날짜=20241030\n",
      "mealService 응답코드: 200\n",
      "급식 데이터 수: 3\n",
      "7801140 삼일고등학교\n",
      "급식 정보 조회 중: 날짜=20241030\n"
     ]
    },
    {
     "name": "stderr",
     "output_type": "stream",
     "text": [
      "[K10] 고등학교 급식 조회:  44%|███    | 51/116 [00:08<00:11,  5.85it/s]"
     ]
    },
    {
     "name": "stdout",
     "output_type": "stream",
     "text": [
      "mealService 응답코드: 200\n",
      "급식 데이터 수: 2\n",
      "7801141 삼척고등학교\n",
      "급식 정보 조회 중: 날짜=20241030\n",
      "mealService 응답코드: 200\n",
      "급식 데이터 수: 2\n"
     ]
    },
    {
     "name": "stderr",
     "output_type": "stream",
     "text": [
      "[K10] 고등학교 급식 조회:  46%|███▏   | 53/116 [00:09<00:10,  5.75it/s]"
     ]
    },
    {
     "name": "stdout",
     "output_type": "stream",
     "text": [
      "7801142 삼척여자고등학교\n",
      "급식 정보 조회 중: 날짜=20241030\n",
      "mealService 응답코드: 200\n",
      "급식 데이터 수: 1\n"
     ]
    },
    {
     "name": "stderr",
     "output_type": "stream",
     "text": [
      "[K10] 고등학교 급식 조회:  47%|███▎   | 54/116 [00:09<00:10,  5.77it/s]"
     ]
    },
    {
     "name": "stdout",
     "output_type": "stream",
     "text": [
      "7801143 상동고등학교\n",
      "급식 정보 조회 중: 날짜=20241030\n",
      "mealService 응답코드: 200\n",
      "급식 데이터 수: 1\n",
      "7801144 상지대관령고등학교\n",
      "급식 정보 조회 중: 날짜=20241030\n"
     ]
    },
    {
     "name": "stderr",
     "output_type": "stream",
     "text": [
      "[K10] 고등학교 급식 조회:  47%|███▎   | 55/116 [00:09<00:10,  5.70it/s]"
     ]
    },
    {
     "name": "stdout",
     "output_type": "stream",
     "text": [
      "mealService 응답코드: 200\n",
      "급식 데이터 수: 1\n",
      "7801145 상지여자고등학교\n",
      "급식 정보 조회 중: 날짜=20241030\n",
      "mealService 응답코드: 200\n",
      "급식 데이터 수: 2\n"
     ]
    },
    {
     "name": "stderr",
     "output_type": "stream",
     "text": [
      "[K10] 고등학교 급식 조회:  49%|███▍   | 57/116 [00:09<00:10,  5.76it/s]"
     ]
    },
    {
     "name": "stdout",
     "output_type": "stream",
     "text": [
      "7801146 서석고등학교\n",
      "급식 정보 조회 중: 날짜=20241030\n",
      "mealService 응답코드: 200\n",
      "급식 데이터 수: 2\n",
      "7801147 석정여자고등학교\n",
      "급식 정보 조회 중: 날짜=20241030\n"
     ]
    },
    {
     "name": "stderr",
     "output_type": "stream",
     "text": [
      "[K10] 고등학교 급식 조회:  50%|███▌   | 58/116 [00:09<00:09,  5.83it/s]"
     ]
    },
    {
     "name": "stdout",
     "output_type": "stream",
     "text": [
      "mealService 응답코드: 200\n",
      "급식 데이터 수: 2\n",
      "7801148 설악고등학교\n",
      "급식 정보 조회 중: 날짜=20241030\n"
     ]
    },
    {
     "name": "stderr",
     "output_type": "stream",
     "text": [
      "[K10] 고등학교 급식 조회:  51%|███▌   | 59/116 [00:10<00:10,  5.39it/s]"
     ]
    },
    {
     "name": "stdout",
     "output_type": "stream",
     "text": [
      "mealService 응답코드: 200\n",
      "급식 데이터 수: 3\n",
      "7801233 섬강고등학교\n",
      "급식 정보 조회 중: 날짜=20241030\n",
      "mealService 응답코드: 200\n",
      "mealServiceDietInfo 키 없음: {'RESULT': {'CODE': 'INFO-200', 'MESSAGE': '해당하는 데이터가 없습니다.'}}\n"
     ]
    },
    {
     "name": "stderr",
     "output_type": "stream",
     "text": [
      "[K10] 고등학교 급식 조회:  53%|███▋   | 61/116 [00:10<00:10,  5.35it/s]"
     ]
    },
    {
     "name": "stdout",
     "output_type": "stream",
     "text": [
      "7801150 성수고등학교\n",
      "급식 정보 조회 중: 날짜=20241030\n",
      "mealService 응답코드: 200\n",
      "급식 데이터 수: 1\n"
     ]
    },
    {
     "name": "stderr",
     "output_type": "stream",
     "text": [
      "[K10] 고등학교 급식 조회:  53%|███▋   | 62/116 [00:10<00:09,  5.57it/s]"
     ]
    },
    {
     "name": "stdout",
     "output_type": "stream",
     "text": [
      "7801151 성수여자고등학교\n",
      "급식 정보 조회 중: 날짜=20241030\n",
      "mealService 응답코드: 200\n",
      "급식 데이터 수: 1\n",
      "7801152 속초고등학교\n",
      "급식 정보 조회 중: 날짜=20241030\n"
     ]
    },
    {
     "name": "stderr",
     "output_type": "stream",
     "text": [
      "[K10] 고등학교 급식 조회:  54%|███▊   | 63/116 [00:10<00:09,  5.72it/s]"
     ]
    },
    {
     "name": "stdout",
     "output_type": "stream",
     "text": [
      "mealService 응답코드: 200\n",
      "급식 데이터 수: 1\n",
      "7801153 속초여자고등학교\n",
      "급식 정보 조회 중: 날짜=20241030\n",
      "mealService 응답코드: 200\n",
      "급식 데이터 수: 1\n"
     ]
    },
    {
     "name": "stderr",
     "output_type": "stream",
     "text": [
      "[K10] 고등학교 급식 조회:  56%|███▉   | 65/116 [00:11<00:08,  5.75it/s]"
     ]
    },
    {
     "name": "stdout",
     "output_type": "stream",
     "text": [
      "7801154 신남고등학교\n",
      "급식 정보 조회 중: 날짜=20241030\n",
      "mealService 응답코드: 200\n",
      "급식 데이터 수: 1\n"
     ]
    },
    {
     "name": "stderr",
     "output_type": "stream",
     "text": [
      "[K10] 고등학교 급식 조회:  57%|███▉   | 66/116 [00:11<00:08,  5.86it/s]"
     ]
    },
    {
     "name": "stdout",
     "output_type": "stream",
     "text": [
      "7801155 신철원고등학교\n",
      "급식 정보 조회 중: 날짜=20241030\n",
      "mealService 응답코드: 200\n",
      "급식 데이터 수: 3\n",
      "7801156 안흥고등학교\n",
      "급식 정보 조회 중: 날짜=20241030\n"
     ]
    },
    {
     "name": "stderr",
     "output_type": "stream",
     "text": [
      "[K10] 고등학교 급식 조회:  58%|████   | 67/116 [00:11<00:08,  5.87it/s]"
     ]
    },
    {
     "name": "stdout",
     "output_type": "stream",
     "text": [
      "mealService 응답코드: 200\n",
      "급식 데이터 수: 1\n",
      "7801157 양구고등학교\n",
      "급식 정보 조회 중: 날짜=20241030\n",
      "mealService 응답코드: 200\n",
      "급식 데이터 수: 3\n"
     ]
    },
    {
     "name": "stderr",
     "output_type": "stream",
     "text": [
      "[K10] 고등학교 급식 조회:  59%|████▏  | 69/116 [00:11<00:08,  5.69it/s]"
     ]
    },
    {
     "name": "stdout",
     "output_type": "stream",
     "text": [
      "7801158 양구여자고등학교\n",
      "급식 정보 조회 중: 날짜=20241030\n",
      "mealService 응답코드: 200\n",
      "급식 데이터 수: 3\n",
      "7801159 양양고등학교\n",
      "급식 정보 조회 중: 날짜=20241030\n"
     ]
    },
    {
     "name": "stderr",
     "output_type": "stream",
     "text": [
      "[K10] 고등학교 급식 조회:  60%|████▏  | 70/116 [00:12<00:07,  5.78it/s]"
     ]
    },
    {
     "name": "stdout",
     "output_type": "stream",
     "text": [
      "mealService 응답코드: 200\n",
      "급식 데이터 수: 3\n",
      "7801160 여량고등학교\n",
      "급식 정보 조회 중: 날짜=20241030\n"
     ]
    },
    {
     "name": "stderr",
     "output_type": "stream",
     "text": [
      "[K10] 고등학교 급식 조회:  61%|████▎  | 71/116 [00:12<00:08,  5.52it/s]"
     ]
    },
    {
     "name": "stdout",
     "output_type": "stream",
     "text": [
      "mealService 응답코드: 200\n",
      "급식 데이터 수: 1\n",
      "7801161 영서고등학교\n",
      "급식 정보 조회 중: 날짜=20241030\n",
      "mealService 응답코드: 200\n",
      "급식 데이터 수: 1\n"
     ]
    },
    {
     "name": "stderr",
     "output_type": "stream",
     "text": [
      "[K10] 고등학교 급식 조회:  63%|████▍  | 73/116 [00:12<00:07,  5.68it/s]"
     ]
    },
    {
     "name": "stdout",
     "output_type": "stream",
     "text": [
      "7801162 영월고등학교\n",
      "급식 정보 조회 중: 날짜=20241030\n",
      "mealService 응답코드: 200\n",
      "급식 데이터 수: 3\n",
      "7801163 원덕고등학교\n",
      "급식 정보 조회 중: 날짜=20241030\n"
     ]
    },
    {
     "name": "stderr",
     "output_type": "stream",
     "text": [
      "[K10] 고등학교 급식 조회:  64%|████▍  | 74/116 [00:12<00:07,  5.79it/s]"
     ]
    },
    {
     "name": "stdout",
     "output_type": "stream",
     "text": [
      "mealService 응답코드: 200\n",
      "급식 데이터 수: 1\n",
      "7801164 원주고등학교\n",
      "급식 정보 조회 중: 날짜=20241030\n",
      "mealService 응답코드: 200\n",
      "급식 데이터 수: 1\n"
     ]
    },
    {
     "name": "stderr",
     "output_type": "stream",
     "text": [
      "[K10] 고등학교 급식 조회:  66%|████▌  | 76/116 [00:13<00:06,  5.78it/s]"
     ]
    },
    {
     "name": "stdout",
     "output_type": "stream",
     "text": [
      "7801166 원주금융회계고등학교\n",
      "급식 정보 조회 중: 날짜=20241030\n",
      "mealService 응답코드: 200\n",
      "급식 데이터 수: 3\n",
      "7801167 원주삼육고등학교\n",
      "급식 정보 조회 중: 날짜=20241030\n"
     ]
    },
    {
     "name": "stderr",
     "output_type": "stream",
     "text": [
      "[K10] 고등학교 급식 조회:  66%|████▋  | 77/116 [00:13<00:06,  5.84it/s]"
     ]
    },
    {
     "name": "stdout",
     "output_type": "stream",
     "text": [
      "mealService 응답코드: 200\n",
      "급식 데이터 수: 3\n",
      "7801168 원주여자고등학교\n",
      "급식 정보 조회 중: 날짜=20241030\n",
      "mealService 응답코드: 200\n",
      "급식 데이터 수: 2\n"
     ]
    },
    {
     "name": "stderr",
     "output_type": "stream",
     "text": [
      "[K10] 고등학교 급식 조회:  68%|████▊  | 79/116 [00:13<00:06,  5.82it/s]"
     ]
    },
    {
     "name": "stdout",
     "output_type": "stream",
     "text": [
      "7801169 원주의료고등학교\n",
      "급식 정보 조회 중: 날짜=20241030\n",
      "mealService 응답코드: 200\n",
      "급식 데이터 수: 3\n",
      "7801170 원통고등학교\n",
      "급식 정보 조회 중: 날짜=20241030\n"
     ]
    },
    {
     "name": "stderr",
     "output_type": "stream",
     "text": [
      "[K10] 고등학교 급식 조회:  69%|████▊  | 80/116 [00:13<00:06,  5.76it/s]"
     ]
    },
    {
     "name": "stdout",
     "output_type": "stream",
     "text": [
      "mealService 응답코드: 200\n",
      "급식 데이터 수: 3\n",
      "7801171 유봉여자고등학교\n",
      "급식 정보 조회 중: 날짜=20241030\n"
     ]
    },
    {
     "name": "stderr",
     "output_type": "stream",
     "text": [
      "[K10] 고등학교 급식 조회:  70%|████▉  | 81/116 [00:14<00:06,  5.49it/s]"
     ]
    },
    {
     "name": "stdout",
     "output_type": "stream",
     "text": [
      "mealService 응답코드: 200\n",
      "급식 데이터 수: 1\n",
      "7801172 육민관고등학교\n",
      "급식 정보 조회 중: 날짜=20241030\n",
      "mealService 응답코드: 200\n",
      "급식 데이터 수: 1\n"
     ]
    },
    {
     "name": "stderr",
     "output_type": "stream",
     "text": [
      "[K10] 고등학교 급식 조회:  72%|█████  | 83/116 [00:14<00:06,  5.46it/s]"
     ]
    },
    {
     "name": "stdout",
     "output_type": "stream",
     "text": [
      "7801173 인제고등학교\n",
      "급식 정보 조회 중: 날짜=20241030\n",
      "mealService 응답코드: 200\n",
      "급식 데이터 수: 3\n"
     ]
    },
    {
     "name": "stderr",
     "output_type": "stream",
     "text": [
      "[K10] 고등학교 급식 조회:  72%|█████  | 84/116 [00:14<00:05,  5.52it/s]"
     ]
    },
    {
     "name": "stdout",
     "output_type": "stream",
     "text": [
      "7801174 임계고등학교\n",
      "급식 정보 조회 중: 날짜=20241030\n",
      "mealService 응답코드: 200\n",
      "급식 데이터 수: 3\n",
      "7801175 장성여자고등학교\n",
      "급식 정보 조회 중: 날짜=20241030\n"
     ]
    },
    {
     "name": "stderr",
     "output_type": "stream",
     "text": [
      "[K10] 고등학교 급식 조회:  73%|█████▏ | 85/116 [00:14<00:05,  5.58it/s]"
     ]
    },
    {
     "name": "stdout",
     "output_type": "stream",
     "text": [
      "mealService 응답코드: 200\n",
      "급식 데이터 수: 3\n",
      "7801209 전인고등학교\n",
      "급식 정보 조회 중: 날짜=20241030\n",
      "mealService 응답코드: 200\n",
      "급식 데이터 수: 3\n"
     ]
    },
    {
     "name": "stderr",
     "output_type": "stream",
     "text": [
      "[K10] 고등학교 급식 조회:  75%|█████▎ | 87/116 [00:15<00:05,  5.73it/s]"
     ]
    },
    {
     "name": "stdout",
     "output_type": "stream",
     "text": [
      "7801176 정선고등학교\n",
      "급식 정보 조회 중: 날짜=20241030\n",
      "mealService 응답코드: 200\n",
      "급식 데이터 수: 2\n",
      "7801177 정선정보공업고등학교\n",
      "급식 정보 조회 중: 날짜=20241030\n"
     ]
    },
    {
     "name": "stderr",
     "output_type": "stream",
     "text": [
      "[K10] 고등학교 급식 조회:  76%|█████▎ | 88/116 [00:15<00:05,  5.36it/s]"
     ]
    },
    {
     "name": "stdout",
     "output_type": "stream",
     "text": [
      "mealService 응답코드: 200\n",
      "급식 데이터 수: 3\n",
      "7801178 주문진고등학교\n",
      "급식 정보 조회 중: 날짜=20241030\n",
      "mealService 응답코드: 200\n",
      "급식 데이터 수: 1\n"
     ]
    },
    {
     "name": "stderr",
     "output_type": "stream",
     "text": [
      "[K10] 고등학교 급식 조회:  78%|█████▍ | 90/116 [00:15<00:04,  5.64it/s]"
     ]
    },
    {
     "name": "stdout",
     "output_type": "stream",
     "text": [
      "7801179 주천고등학교\n",
      "급식 정보 조회 중: 날짜=20241030\n",
      "mealService 응답코드: 200\n",
      "급식 데이터 수: 3\n",
      "7801180 진광고등학교\n",
      "급식 정보 조회 중: 날짜=20241030\n"
     ]
    },
    {
     "name": "stderr",
     "output_type": "stream",
     "text": [
      "[K10] 고등학교 급식 조회:  78%|█████▍ | 91/116 [00:15<00:04,  5.66it/s]"
     ]
    },
    {
     "name": "stdout",
     "output_type": "stream",
     "text": [
      "mealService 응답코드: 200\n",
      "mealServiceDietInfo 키 없음: {'RESULT': {'CODE': 'INFO-200', 'MESSAGE': '해당하는 데이터가 없습니다.'}}\n",
      "7801181 진부고등학교\n",
      "급식 정보 조회 중: 날짜=20241030\n",
      "mealService 응답코드: 200\n",
      "급식 데이터 수: 2\n"
     ]
    },
    {
     "name": "stderr",
     "output_type": "stream",
     "text": [
      "[K10] 고등학교 급식 조회:  80%|█████▌ | 93/116 [00:16<00:03,  5.79it/s]"
     ]
    },
    {
     "name": "stdout",
     "output_type": "stream",
     "text": [
      "7801182 철암고등학교\n",
      "급식 정보 조회 중: 날짜=20241030\n",
      "mealService 응답코드: 200\n",
      "급식 데이터 수: 1\n",
      "7801183 철원고등학교\n",
      "급식 정보 조회 중: 날짜=20241030\n"
     ]
    },
    {
     "name": "stderr",
     "output_type": "stream",
     "text": [
      "[K10] 고등학교 급식 조회:  81%|█████▋ | 94/116 [00:16<00:03,  5.79it/s]"
     ]
    },
    {
     "name": "stdout",
     "output_type": "stream",
     "text": [
      "mealService 응답코드: 200\n",
      "급식 데이터 수: 3\n",
      "7801184 철원여자고등학교\n",
      "급식 정보 조회 중: 날짜=20241030\n",
      "mealService 응답코드: 200\n",
      "급식 데이터 수: 2\n"
     ]
    },
    {
     "name": "stderr",
     "output_type": "stream",
     "text": [
      "[K10] 고등학교 급식 조회:  83%|█████▊ | 96/116 [00:16<00:03,  5.78it/s]"
     ]
    },
    {
     "name": "stdout",
     "output_type": "stream",
     "text": [
      "7801185 춘천고등학교\n",
      "급식 정보 조회 중: 날짜=20241030\n",
      "mealService 응답코드: 200\n",
      "급식 데이터 수: 2\n",
      "7801187 춘천기계공업고등학교\n",
      "급식 정보 조회 중: 날짜=20241030\n"
     ]
    },
    {
     "name": "stderr",
     "output_type": "stream",
     "text": [
      "[K10] 고등학교 급식 조회:  84%|█████▊ | 97/116 [00:16<00:03,  5.52it/s]"
     ]
    },
    {
     "name": "stdout",
     "output_type": "stream",
     "text": [
      "mealService 응답코드: 200\n",
      "급식 데이터 수: 3\n",
      "7801188 춘천여자고등학교\n",
      "급식 정보 조회 중: 날짜=20241030\n",
      "mealService 응답코드: 200\n",
      "급식 데이터 수: 1\n"
     ]
    },
    {
     "name": "stderr",
     "output_type": "stream",
     "text": [
      "[K10] 고등학교 급식 조회:  85%|█████▉ | 99/116 [00:17<00:02,  5.70it/s]"
     ]
    },
    {
     "name": "stdout",
     "output_type": "stream",
     "text": [
      "7801190 춘천한샘고등학교\n",
      "급식 정보 조회 중: 날짜=20241030\n",
      "mealService 응답코드: 200\n",
      "급식 데이터 수: 1\n",
      "7801191 치악고등학교\n",
      "급식 정보 조회 중: 날짜=20241030\n"
     ]
    },
    {
     "name": "stderr",
     "output_type": "stream",
     "text": [
      "[K10] 고등학교 급식 조회:  86%|█████▏| 100/116 [00:17<00:02,  5.72it/s]"
     ]
    },
    {
     "name": "stdout",
     "output_type": "stream",
     "text": [
      "mealService 응답코드: 200\n",
      "급식 데이터 수: 1\n",
      "7801193 팔렬고등학교\n",
      "급식 정보 조회 중: 날짜=20241030\n",
      "mealService 응답코드: 200\n",
      "급식 데이터 수: 3\n"
     ]
    },
    {
     "name": "stderr",
     "output_type": "stream",
     "text": [
      "[K10] 고등학교 급식 조회:  88%|█████▎| 102/116 [00:17<00:02,  5.63it/s]"
     ]
    },
    {
     "name": "stdout",
     "output_type": "stream",
     "text": [
      "7801194 평창고등학교\n",
      "급식 정보 조회 중: 날짜=20241030\n",
      "mealService 응답코드: 200\n",
      "급식 데이터 수: 2\n"
     ]
    },
    {
     "name": "stderr",
     "output_type": "stream",
     "text": [
      "[K10] 고등학교 급식 조회:  89%|█████▎| 103/116 [00:17<00:02,  5.65it/s]"
     ]
    },
    {
     "name": "stdout",
     "output_type": "stream",
     "text": [
      "7801195 한국소방마이스터고등학교\n",
      "급식 정보 조회 중: 날짜=20241030\n",
      "mealService 응답코드: 200\n",
      "급식 데이터 수: 2\n",
      "7801196 한국에너지마이스터고등학교\n",
      "급식 정보 조회 중: 날짜=20241030\n"
     ]
    },
    {
     "name": "stderr",
     "output_type": "stream",
     "text": [
      "[K10] 고등학교 급식 조회:  90%|█████▍| 104/116 [00:18<00:02,  5.49it/s]"
     ]
    },
    {
     "name": "stdout",
     "output_type": "stream",
     "text": [
      "mealService 응답코드: 200\n",
      "급식 데이터 수: 3\n",
      "7801228 한국항공고등학교\n",
      "급식 정보 조회 중: 날짜=20241030\n"
     ]
    },
    {
     "name": "stderr",
     "output_type": "stream",
     "text": [
      "[K10] 고등학교 급식 조회:  91%|█████▍| 105/116 [00:18<00:02,  5.20it/s]"
     ]
    },
    {
     "name": "stdout",
     "output_type": "stream",
     "text": [
      "mealService 응답코드: 200\n",
      "급식 데이터 수: 3\n",
      "7801197 함백고등학교\n",
      "급식 정보 조회 중: 날짜=20241030\n"
     ]
    },
    {
     "name": "stderr",
     "output_type": "stream",
     "text": [
      "[K10] 고등학교 급식 조회:  91%|█████▍| 106/116 [00:18<00:02,  4.95it/s]"
     ]
    },
    {
     "name": "stdout",
     "output_type": "stream",
     "text": [
      "mealService 응답코드: 200\n",
      "급식 데이터 수: 3\n",
      "7801198 현천고등학교\n",
      "급식 정보 조회 중: 날짜=20241030\n",
      "mealService 응답코드: 200\n",
      "급식 데이터 수: 3\n"
     ]
    },
    {
     "name": "stderr",
     "output_type": "stream",
     "text": [
      "[K10] 고등학교 급식 조회:  93%|█████▌| 108/116 [00:18<00:01,  5.14it/s]"
     ]
    },
    {
     "name": "stdout",
     "output_type": "stream",
     "text": [
      "7801199 홍천고등학교\n",
      "급식 정보 조회 중: 날짜=20241030\n",
      "mealService 응답코드: 200\n",
      "급식 데이터 수: 3\n"
     ]
    },
    {
     "name": "stderr",
     "output_type": "stream",
     "text": [
      "[K10] 고등학교 급식 조회:  94%|█████▋| 109/116 [00:19<00:01,  5.25it/s]"
     ]
    },
    {
     "name": "stdout",
     "output_type": "stream",
     "text": [
      "7801200 홍천농업고등학교\n",
      "급식 정보 조회 중: 날짜=20241030\n",
      "mealService 응답코드: 200\n",
      "급식 데이터 수: 3\n"
     ]
    },
    {
     "name": "stderr",
     "output_type": "stream",
     "text": [
      "[K10] 고등학교 급식 조회:  95%|█████▋| 110/116 [00:19<00:01,  5.41it/s]"
     ]
    },
    {
     "name": "stdout",
     "output_type": "stream",
     "text": [
      "7801201 홍천여자고등학교\n",
      "급식 정보 조회 중: 날짜=20241030\n",
      "mealService 응답코드: 200\n",
      "급식 데이터 수: 3\n",
      "7801202 화천고등학교\n",
      "급식 정보 조회 중: 날짜=20241030\n"
     ]
    },
    {
     "name": "stderr",
     "output_type": "stream",
     "text": [
      "[K10] 고등학교 급식 조회:  96%|█████▋| 111/116 [00:19<00:00,  5.65it/s]"
     ]
    },
    {
     "name": "stdout",
     "output_type": "stream",
     "text": [
      "mealService 응답코드: 200\n",
      "급식 데이터 수: 3\n",
      "7801203 화천정보산업고등학교\n",
      "급식 정보 조회 중: 날짜=20241030\n",
      "mealService 응답코드: 200\n",
      "급식 데이터 수: 1\n"
     ]
    },
    {
     "name": "stderr",
     "output_type": "stream",
     "text": [
      "[K10] 고등학교 급식 조회:  97%|█████▊| 113/116 [00:19<00:00,  5.42it/s]"
     ]
    },
    {
     "name": "stdout",
     "output_type": "stream",
     "text": [
      "7801204 황지고등학교\n",
      "급식 정보 조회 중: 날짜=20241030\n",
      "mealService 응답코드: 200\n",
      "급식 데이터 수: 3\n"
     ]
    },
    {
     "name": "stderr",
     "output_type": "stream",
     "text": [
      "[K10] 고등학교 급식 조회:  98%|█████▉| 114/116 [00:20<00:00,  5.53it/s]"
     ]
    },
    {
     "name": "stdout",
     "output_type": "stream",
     "text": [
      "7801206 황지정보산업고등학교\n",
      "급식 정보 조회 중: 날짜=20241030\n",
      "mealService 응답코드: 200\n",
      "급식 데이터 수: 1\n",
      "7801207 횡성고등학교\n",
      "급식 정보 조회 중: 날짜=20241030\n"
     ]
    },
    {
     "name": "stderr",
     "output_type": "stream",
     "text": [
      "[K10] 고등학교 급식 조회:  99%|█████▉| 115/116 [00:20<00:00,  5.67it/s]"
     ]
    },
    {
     "name": "stdout",
     "output_type": "stream",
     "text": [
      "mealService 응답코드: 200\n",
      "급식 데이터 수: 3\n",
      "7801208 횡성여자고등학교\n",
      "급식 정보 조회 중: 날짜=20241030\n",
      "mealService 응답코드: 200\n",
      "급식 데이터 수: 3\n"
     ]
    },
    {
     "name": "stderr",
     "output_type": "stream",
     "text": [
      "[K10] 고등학교 급식 조회: 100%|██████| 116/116 [00:20<00:00,  5.70it/s]\n"
     ]
    },
    {
     "name": "stdout",
     "output_type": "stream",
     "text": [
      "응답코드 : 200\n"
     ]
    },
    {
     "name": "stderr",
     "output_type": "stream",
     "text": [
      "[M10] 고등학교 급식 조회:   1%|         | 1/84 [00:00<00:13,  5.99it/s]"
     ]
    },
    {
     "name": "stdout",
     "output_type": "stream",
     "text": [
      "        (가칭)오송2고등학교\n",
      "급식 정보 조회 중: 날짜=20241030\n",
      "mealService 응답코드: 200\n",
      "mealServiceDietInfo 키 없음: {'RESULT': {'CODE': 'INFO-200', 'MESSAGE': '해당하는 데이터가 없습니다.'}}\n",
      "8000032 광혜원고등학교\n",
      "급식 정보 조회 중: 날짜=20241030\n"
     ]
    },
    {
     "name": "stderr",
     "output_type": "stream",
     "text": [
      "[M10] 고등학교 급식 조회:   2%|▏        | 2/84 [00:00<00:14,  5.72it/s]"
     ]
    },
    {
     "name": "stdout",
     "output_type": "stream",
     "text": [
      "mealService 응답코드: 200\n",
      "급식 데이터 수: 3\n",
      "8000033 괴산고등학교\n",
      "급식 정보 조회 중: 날짜=20241030\n",
      "mealService 응답코드: 200\n",
      "급식 데이터 수: 2\n"
     ]
    },
    {
     "name": "stderr",
     "output_type": "stream",
     "text": [
      "[M10] 고등학교 급식 조회:   5%|▍        | 4/84 [00:00<00:13,  5.80it/s]"
     ]
    },
    {
     "name": "stdout",
     "output_type": "stream",
     "text": [
      "8000308 국원고등학교\n",
      "급식 정보 조회 중: 날짜=20241030\n",
      "mealService 응답코드: 200\n",
      "급식 데이터 수: 3\n",
      "8000038 금천고등학교\n",
      "급식 정보 조회 중: 날짜=20241030\n"
     ]
    },
    {
     "name": "stderr",
     "output_type": "stream",
     "text": [
      "[M10] 고등학교 급식 조회:   6%|▌        | 5/84 [00:00<00:13,  5.84it/s]"
     ]
    },
    {
     "name": "stdout",
     "output_type": "stream",
     "text": [
      "mealService 응답코드: 200\n",
      "급식 데이터 수: 2\n",
      "8000040 단양고등학교\n",
      "급식 정보 조회 중: 날짜=20241030\n",
      "mealService 응답코드: 200\n",
      "급식 데이터 수: 3\n"
     ]
    },
    {
     "name": "stderr",
     "output_type": "stream",
     "text": [
      "[M10] 고등학교 급식 조회:   8%|▊        | 7/84 [00:01<00:12,  6.01it/s]"
     ]
    },
    {
     "name": "stdout",
     "output_type": "stream",
     "text": [
      "8000431 대금고등학교\n",
      "급식 정보 조회 중: 날짜=20241030\n",
      "mealService 응답코드: 200\n",
      "급식 데이터 수: 3\n",
      "8000135 대성여자상업고등학교\n",
      "급식 정보 조회 중: 날짜=20241030\n"
     ]
    },
    {
     "name": "stderr",
     "output_type": "stream",
     "text": [
      "[M10] 고등학교 급식 조회:  10%|▊        | 8/84 [00:01<00:12,  5.97it/s]"
     ]
    },
    {
     "name": "stdout",
     "output_type": "stream",
     "text": [
      "mealService 응답코드: 200\n",
      "급식 데이터 수: 1\n",
      "8000530 동성고등학교\n",
      "급식 정보 조회 중: 날짜=20241030\n",
      "mealService 응답코드: 200\n",
      "급식 데이터 수: 2\n"
     ]
    },
    {
     "name": "stderr",
     "output_type": "stream",
     "text": [
      "[M10] 고등학교 급식 조회:  12%|▉       | 10/84 [00:01<00:12,  6.04it/s]"
     ]
    },
    {
     "name": "stdout",
     "output_type": "stream",
     "text": [
      "8000183 매괴고등학교\n",
      "급식 정보 조회 중: 날짜=20241030\n",
      "mealService 응답코드: 200\n",
      "급식 데이터 수: 3\n",
      "8000085 보은고등학교\n",
      "급식 정보 조회 중: 날짜=20241030\n"
     ]
    },
    {
     "name": "stderr",
     "output_type": "stream",
     "text": [
      "[M10] 고등학교 급식 조회:  13%|█       | 11/84 [00:01<00:12,  5.99it/s]"
     ]
    },
    {
     "name": "stdout",
     "output_type": "stream",
     "text": [
      "mealService 응답코드: 200\n",
      "급식 데이터 수: 3\n",
      "8000046 보은여자고등학교\n",
      "급식 정보 조회 중: 날짜=20241030\n",
      "mealService 응답코드: 200\n",
      "급식 데이터 수: 2\n"
     ]
    },
    {
     "name": "stderr",
     "output_type": "stream",
     "text": [
      "[M10] 고등학교 급식 조회:  14%|█▏      | 12/84 [00:02<00:12,  5.90it/s]"
     ]
    },
    {
     "name": "stdout",
     "output_type": "stream",
     "text": [
      "8000212 봉명고등학교\n",
      "급식 정보 조회 중: 날짜=20241030\n",
      "mealService 응답코드: 200\n",
      "급식 데이터 수: 2\n"
     ]
    },
    {
     "name": "stderr",
     "output_type": "stream",
     "text": [
      "[M10] 고등학교 급식 조회:  17%|█▎      | 14/84 [00:02<00:12,  5.45it/s]"
     ]
    },
    {
     "name": "stdout",
     "output_type": "stream",
     "text": [
      "8000213 산남고등학교\n",
      "급식 정보 조회 중: 날짜=20241030\n",
      "mealService 응답코드: 200\n",
      "급식 데이터 수: 3\n",
      "8000047 상당고등학교\n",
      "급식 정보 조회 중: 날짜=20241030\n"
     ]
    },
    {
     "name": "stderr",
     "output_type": "stream",
     "text": [
      "[M10] 고등학교 급식 조회:  18%|█▍      | 15/84 [00:02<00:12,  5.50it/s]"
     ]
    },
    {
     "name": "stdout",
     "output_type": "stream",
     "text": [
      "mealService 응답코드: 200\n",
      "급식 데이터 수: 3\n",
      "8000199 서원고등학교\n",
      "급식 정보 조회 중: 날짜=20241030\n",
      "mealService 응답코드: 200\n",
      "급식 데이터 수: 3\n"
     ]
    },
    {
     "name": "stderr",
     "output_type": "stream",
     "text": [
      "[M10] 고등학교 급식 조회:  20%|█▌      | 17/84 [00:02<00:12,  5.49it/s]"
     ]
    },
    {
     "name": "stdout",
     "output_type": "stream",
     "text": [
      "8000376 서전고등학교\n",
      "급식 정보 조회 중: 날짜=20241030\n",
      "mealService 응답코드: 200\n",
      "급식 데이터 수: 3\n",
      "8000086 세광고등학교\n",
      "급식 정보 조회 중: 날짜=20241030\n"
     ]
    },
    {
     "name": "stderr",
     "output_type": "stream",
     "text": [
      "[M10] 고등학교 급식 조회:  21%|█▋      | 18/84 [00:03<00:11,  5.55it/s]"
     ]
    },
    {
     "name": "stdout",
     "output_type": "stream",
     "text": [
      "mealService 응답코드: 200\n",
      "급식 데이터 수: 3\n",
      "8000087 세명고등학교\n",
      "급식 정보 조회 중: 날짜=20241030\n",
      "mealService 응답코드: 200\n",
      "급식 데이터 수: 3\n"
     ]
    },
    {
     "name": "stderr",
     "output_type": "stream",
     "text": [
      "[M10] 고등학교 급식 조회:  24%|█▉      | 20/84 [00:03<00:11,  5.78it/s]"
     ]
    },
    {
     "name": "stdout",
     "output_type": "stream",
     "text": [
      "8000090 양업고등학교\n",
      "급식 정보 조회 중: 날짜=20241030\n",
      "mealService 응답코드: 200\n",
      "급식 데이터 수: 3\n",
      "8000268 양청고등학교\n",
      "급식 정보 조회 중: 날짜=20241030\n"
     ]
    },
    {
     "name": "stderr",
     "output_type": "stream",
     "text": [
      "[M10] 고등학교 급식 조회:  25%|██      | 21/84 [00:03<00:10,  5.80it/s]"
     ]
    },
    {
     "name": "stdout",
     "output_type": "stream",
     "text": [
      "mealService 응답코드: 200\n",
      "급식 데이터 수: 3\n",
      "8000048 영동고등학교\n",
      "급식 정보 조회 중: 날짜=20241030\n",
      "mealService 응답코드: 200\n",
      "급식 데이터 수: 2\n"
     ]
    },
    {
     "name": "stderr",
     "output_type": "stream",
     "text": [
      "[M10] 고등학교 급식 조회:  27%|██▏     | 23/84 [00:03<00:10,  6.01it/s]"
     ]
    },
    {
     "name": "stdout",
     "output_type": "stream",
     "text": [
      "8000508 영동미래고등학교\n",
      "급식 정보 조회 중: 날짜=20241030\n",
      "mealService 응답코드: 200\n",
      "급식 데이터 수: 2\n",
      "8000211 영동산업과학고등학교\n",
      "급식 정보 조회 중: 날짜=20241030\n"
     ]
    },
    {
     "name": "stderr",
     "output_type": "stream",
     "text": [
      "[M10] 고등학교 급식 조회:  29%|██▎     | 24/84 [00:04<00:10,  5.92it/s]"
     ]
    },
    {
     "name": "stdout",
     "output_type": "stream",
     "text": [
      "mealService 응답코드: 200\n",
      "급식 데이터 수: 2\n",
      "8000283 오송고등학교\n",
      "급식 정보 조회 중: 날짜=20241030\n",
      "mealService 응답코드: 200\n",
      "급식 데이터 수: 3\n"
     ]
    },
    {
     "name": "stderr",
     "output_type": "stream",
     "text": [
      "[M10] 고등학교 급식 조회:  31%|██▍     | 26/84 [00:04<00:09,  5.93it/s]"
     ]
    },
    {
     "name": "stdout",
     "output_type": "stream",
     "text": [
      "8000050 오창고등학교\n",
      "급식 정보 조회 중: 날짜=20241030\n",
      "mealService 응답코드: 200\n",
      "급식 데이터 수: 3\n",
      "8000051 옥천고등학교\n",
      "급식 정보 조회 중: 날짜=20241030\n"
     ]
    },
    {
     "name": "stderr",
     "output_type": "stream",
     "text": [
      "[M10] 고등학교 급식 조회:  32%|██▌     | 27/84 [00:04<00:09,  5.72it/s]"
     ]
    },
    {
     "name": "stdout",
     "output_type": "stream",
     "text": [
      "mealService 응답코드: 200\n",
      "급식 데이터 수: 3\n",
      "8000091 운호고등학교\n",
      "급식 정보 조회 중: 날짜=20241030\n",
      "mealService 응답코드: 200\n",
      "급식 데이터 수: 1\n"
     ]
    },
    {
     "name": "stderr",
     "output_type": "stream",
     "text": [
      "[M10] 고등학교 급식 조회:  35%|██▊     | 29/84 [00:05<00:09,  5.61it/s]"
     ]
    },
    {
     "name": "stdout",
     "output_type": "stream",
     "text": [
      "8000053 음성고등학교\n",
      "급식 정보 조회 중: 날짜=20241030\n",
      "mealService 응답코드: 200\n",
      "급식 데이터 수: 3\n",
      "8000093 일신여자고등학교\n",
      "급식 정보 조회 중: 날짜=20241030\n"
     ]
    },
    {
     "name": "stderr",
     "output_type": "stream",
     "text": [
      "[M10] 고등학교 급식 조회:  36%|██▊     | 30/84 [00:05<00:09,  5.79it/s]"
     ]
    },
    {
     "name": "stdout",
     "output_type": "stream",
     "text": [
      "mealService 응답코드: 200\n",
      "급식 데이터 수: 2\n",
      "8000057 제천고등학교\n",
      "급식 정보 조회 중: 날짜=20241030\n",
      "mealService 응답코드: 200\n",
      "급식 데이터 수: 3\n"
     ]
    },
    {
     "name": "stderr",
     "output_type": "stream",
     "text": [
      "[M10] 고등학교 급식 조회:  38%|███     | 32/84 [00:05<00:08,  5.78it/s]"
     ]
    },
    {
     "name": "stdout",
     "output_type": "stream",
     "text": [
      "8000207 제천디지털전자고등학교\n",
      "급식 정보 조회 중: 날짜=20241030\n",
      "mealService 응답코드: 200\n",
      "급식 데이터 수: 1\n",
      "8000210 제천산업고등학교\n",
      "급식 정보 조회 중: 날짜=20241030\n"
     ]
    },
    {
     "name": "stderr",
     "output_type": "stream",
     "text": [
      "[M10] 고등학교 급식 조회:  39%|███▏    | 33/84 [00:05<00:08,  5.69it/s]"
     ]
    },
    {
     "name": "stdout",
     "output_type": "stream",
     "text": [
      "mealService 응답코드: 200\n",
      "급식 데이터 수: 1\n",
      "8000121 제천상업고등학교\n",
      "급식 정보 조회 중: 날짜=20241030\n",
      "mealService 응답코드: 200\n",
      "급식 데이터 수: 1\n"
     ]
    },
    {
     "name": "stderr",
     "output_type": "stream",
     "text": [
      "[M10] 고등학교 급식 조회:  42%|███▎    | 35/84 [00:06<00:08,  5.77it/s]"
     ]
    },
    {
     "name": "stdout",
     "output_type": "stream",
     "text": [
      "8000058 제천여자고등학교\n",
      "급식 정보 조회 중: 날짜=20241030\n",
      "mealService 응답코드: 200\n",
      "급식 데이터 수: 2\n",
      "8000216 제천제일고등학교\n",
      "급식 정보 조회 중: 날짜=20241030\n"
     ]
    },
    {
     "name": "stderr",
     "output_type": "stream",
     "text": [
      "[M10] 고등학교 급식 조회:  43%|███▍    | 36/84 [00:06<00:08,  5.87it/s]"
     ]
    },
    {
     "name": "stdout",
     "output_type": "stream",
     "text": [
      "mealService 응답코드: 200\n",
      "급식 데이터 수: 3\n",
      "8000201 주성고등학교\n",
      "급식 정보 조회 중: 날짜=20241030\n",
      "mealService 응답코드: 200\n",
      "급식 데이터 수: 2\n"
     ]
    },
    {
     "name": "stderr",
     "output_type": "stream",
     "text": [
      "[M10] 고등학교 급식 조회:  45%|███▌    | 38/84 [00:06<00:07,  5.96it/s]"
     ]
    },
    {
     "name": "stdout",
     "output_type": "stream",
     "text": [
      "8000531 중앙탑고등학교\n",
      "급식 정보 조회 중: 날짜=20241030\n",
      "mealService 응답코드: 200\n",
      "mealServiceDietInfo 키 없음: {'RESULT': {'CODE': 'INFO-200', 'MESSAGE': '해당하는 데이터가 없습니다.'}}\n",
      "8000117 증평공업고등학교\n",
      "급식 정보 조회 중: 날짜=20241030\n"
     ]
    },
    {
     "name": "stderr",
     "output_type": "stream",
     "text": [
      "[M10] 고등학교 급식 조회:  46%|███▋    | 39/84 [00:06<00:07,  6.00it/s]"
     ]
    },
    {
     "name": "stdout",
     "output_type": "stream",
     "text": [
      "mealService 응답코드: 200\n",
      "급식 데이터 수: 1\n",
      "8000062 진천고등학교\n",
      "급식 정보 조회 중: 날짜=20241030\n",
      "mealService 응답코드: 200\n",
      "급식 데이터 수: 3\n"
     ]
    },
    {
     "name": "stderr",
     "output_type": "stream",
     "text": [
      "[M10] 고등학교 급식 조회:  49%|███▉    | 41/84 [00:07<00:07,  6.02it/s]"
     ]
    },
    {
     "name": "stdout",
     "output_type": "stream",
     "text": [
      "8000122 진천상업고등학교\n",
      "급식 정보 조회 중: 날짜=20241030\n",
      "mealService 응답코드: 200\n",
      "급식 데이터 수: 1\n",
      "8000064 청산고등학교\n",
      "급식 정보 조회 중: 날짜=20241030\n"
     ]
    },
    {
     "name": "stderr",
     "output_type": "stream",
     "text": [
      "[M10] 고등학교 급식 조회:  50%|████    | 42/84 [00:07<00:07,  5.74it/s]"
     ]
    },
    {
     "name": "stdout",
     "output_type": "stream",
     "text": [
      "mealService 응답코드: 200\n",
      "급식 데이터 수: 2\n",
      "8000096 청석고등학교\n",
      "급식 정보 조회 중: 날짜=20241030\n",
      "mealService 응답코드: 200\n",
      "급식 데이터 수: 2\n"
     ]
    },
    {
     "name": "stderr",
     "output_type": "stream",
     "text": [
      "[M10] 고등학교 급식 조회:  52%|████▏   | 44/84 [00:07<00:07,  5.69it/s]"
     ]
    },
    {
     "name": "stdout",
     "output_type": "stream",
     "text": [
      "8000214 청원고등학교\n",
      "급식 정보 조회 중: 날짜=20241030\n",
      "mealService 응답코드: 200\n",
      "급식 데이터 수: 2\n",
      "8000507 청주IT과학고등학교\n",
      "급식 정보 조회 중: 날짜=20241030\n"
     ]
    },
    {
     "name": "stderr",
     "output_type": "stream",
     "text": [
      "[M10] 고등학교 급식 조회:  54%|████▎   | 45/84 [00:07<00:06,  5.63it/s]"
     ]
    },
    {
     "name": "stdout",
     "output_type": "stream",
     "text": [
      "mealService 응답코드: 200\n",
      "급식 데이터 수: 1\n",
      "8000066 청주고등학교\n",
      "급식 정보 조회 중: 날짜=20241030\n",
      "mealService 응답코드: 200\n",
      "급식 데이터 수: 3\n"
     ]
    },
    {
     "name": "stderr",
     "output_type": "stream",
     "text": [
      "[M10] 고등학교 급식 조회:  56%|████▍   | 47/84 [00:08<00:06,  5.55it/s]"
     ]
    },
    {
     "name": "stdout",
     "output_type": "stream",
     "text": [
      "8000280 청주공업고등학교\n",
      "급식 정보 조회 중: 날짜=20241030\n",
      "mealService 응답코드: 200\n",
      "급식 데이터 수: 2\n"
     ]
    },
    {
     "name": "stderr",
     "output_type": "stream",
     "text": [
      "[M10] 고등학교 급식 조회:  57%|████▌   | 48/84 [00:08<00:06,  5.66it/s]"
     ]
    },
    {
     "name": "stdout",
     "output_type": "stream",
     "text": [
      "8000125 청주농업고등학교\n",
      "급식 정보 조회 중: 날짜=20241030\n",
      "mealService 응답코드: 200\n",
      "급식 데이터 수: 3\n",
      "8000195 청주대성고등학교\n",
      "급식 정보 조회 중: 날짜=20241030\n"
     ]
    },
    {
     "name": "stderr",
     "output_type": "stream",
     "text": [
      "[M10] 고등학교 급식 조회:  58%|████▋   | 49/84 [00:08<00:06,  5.69it/s]"
     ]
    },
    {
     "name": "stdout",
     "output_type": "stream",
     "text": [
      "mealService 응답코드: 200\n",
      "급식 데이터 수: 2\n",
      "8000203 청주신흥고등학교\n",
      "급식 정보 조회 중: 날짜=20241030\n",
      "mealService 응답코드: 200\n",
      "급식 데이터 수: 2\n"
     ]
    },
    {
     "name": "stderr",
     "output_type": "stream",
     "text": [
      "[M10] 고등학교 급식 조회:  61%|████▊   | 51/84 [00:08<00:06,  5.49it/s]"
     ]
    },
    {
     "name": "stdout",
     "output_type": "stream",
     "text": [
      "8000069 청주여자고등학교\n",
      "급식 정보 조회 중: 날짜=20241030\n",
      "mealService 응답코드: 200\n",
      "급식 데이터 수: 3\n"
     ]
    },
    {
     "name": "stderr",
     "output_type": "stream",
     "text": [
      "[M10] 고등학교 급식 조회:  62%|████▉   | 52/84 [00:09<00:05,  5.43it/s]"
     ]
    },
    {
     "name": "stdout",
     "output_type": "stream",
     "text": [
      "8000140 청주여자상업고등학교\n",
      "급식 정보 조회 중: 날짜=20241030\n",
      "mealService 응답코드: 200\n",
      "급식 데이터 수: 1\n"
     ]
    },
    {
     "name": "stderr",
     "output_type": "stream",
     "text": [
      "[M10] 고등학교 급식 조회:  63%|█████   | 53/84 [00:09<00:05,  5.69it/s]"
     ]
    },
    {
     "name": "stdout",
     "output_type": "stream",
     "text": [
      "8000070 청주외국어고등학교\n",
      "급식 정보 조회 중: 날짜=20241030\n",
      "mealService 응답코드: 200\n",
      "급식 데이터 수: 2\n",
      "8000072 청주중앙여자고등학교\n",
      "급식 정보 조회 중: 날짜=20241030\n"
     ]
    },
    {
     "name": "stderr",
     "output_type": "stream",
     "text": [
      "[M10] 고등학교 급식 조회:  64%|█████▏  | 54/84 [00:09<00:05,  5.70it/s]"
     ]
    },
    {
     "name": "stdout",
     "output_type": "stream",
     "text": [
      "mealService 응답코드: 200\n",
      "급식 데이터 수: 3\n",
      "8000430 청주하이텍고등학교\n",
      "급식 정보 조회 중: 날짜=20241030\n",
      "mealService 응답코드: 200\n",
      "급식 데이터 수: 1\n"
     ]
    },
    {
     "name": "stderr",
     "output_type": "stream",
     "text": [
      "[M10] 고등학교 급식 조회:  67%|█████▎  | 56/84 [00:09<00:04,  5.75it/s]"
     ]
    },
    {
     "name": "stdout",
     "output_type": "stream",
     "text": [
      "8000074 충북고등학교\n",
      "급식 정보 조회 중: 날짜=20241030\n",
      "mealService 응답코드: 200\n",
      "급식 데이터 수: 3\n",
      "8000127 충북공업고등학교\n",
      "급식 정보 조회 중: 날짜=20241030\n"
     ]
    },
    {
     "name": "stderr",
     "output_type": "stream",
     "text": [
      "[M10] 고등학교 급식 조회:  68%|█████▍  | 57/84 [00:09<00:04,  5.69it/s]"
     ]
    },
    {
     "name": "stdout",
     "output_type": "stream",
     "text": [
      "mealService 응답코드: 200\n",
      "급식 데이터 수: 3\n",
      "8000075 충북과학고등학교\n",
      "급식 정보 조회 중: 날짜=20241030\n",
      "mealService 응답코드: 200\n",
      "급식 데이터 수: 3\n"
     ]
    },
    {
     "name": "stderr",
     "output_type": "stream",
     "text": [
      "[M10] 고등학교 급식 조회:  70%|█████▌  | 59/84 [00:10<00:04,  5.57it/s]"
     ]
    },
    {
     "name": "stdout",
     "output_type": "stream",
     "text": [
      "7003892 충북대학교사범대학부설고등학교\n",
      "급식 정보 조회 중: 날짜=20241030\n",
      "mealService 응답코드: 200\n",
      "급식 데이터 수: 2\n"
     ]
    },
    {
     "name": "stderr",
     "output_type": "stream",
     "text": [
      "[M10] 고등학교 급식 조회:  71%|█████▋  | 60/84 [00:10<00:04,  5.73it/s]"
     ]
    },
    {
     "name": "stdout",
     "output_type": "stream",
     "text": [
      "8000237 충북반도체고등학교\n",
      "급식 정보 조회 중: 날짜=20241030\n",
      "mealService 응답코드: 200\n",
      "급식 데이터 수: 3\n",
      "8000527 충북비즈니스고등학교\n",
      "급식 정보 조회 중: 날짜=20241030\n"
     ]
    },
    {
     "name": "stderr",
     "output_type": "stream",
     "text": [
      "[M10] 고등학교 급식 조회:  73%|█████▊  | 61/84 [00:10<00:03,  5.81it/s]"
     ]
    },
    {
     "name": "stdout",
     "output_type": "stream",
     "text": [
      "mealService 응답코드: 200\n",
      "급식 데이터 수: 1\n",
      "8000384 충북산업과학고등학교\n",
      "급식 정보 조회 중: 날짜=20241030\n",
      "mealService 응답코드: 200\n",
      "급식 데이터 수: 1\n"
     ]
    },
    {
     "name": "stderr",
     "output_type": "stream",
     "text": [
      "[M10] 고등학교 급식 조회:  75%|██████  | 63/84 [00:10<00:03,  5.68it/s]"
     ]
    },
    {
     "name": "stdout",
     "output_type": "stream",
     "text": [
      "8000335 충북상업정보고등학교\n",
      "급식 정보 조회 중: 날짜=20241030\n",
      "mealService 응답코드: 200\n",
      "급식 데이터 수: 1\n"
     ]
    },
    {
     "name": "stderr",
     "output_type": "stream",
     "text": [
      "[M10] 고등학교 급식 조회:  76%|██████  | 64/84 [00:11<00:03,  5.76it/s]"
     ]
    },
    {
     "name": "stdout",
     "output_type": "stream",
     "text": [
      "8000383 충북생명산업고등학교\n",
      "급식 정보 조회 중: 날짜=20241030\n",
      "mealService 응답코드: 200\n",
      "급식 데이터 수: 3\n",
      "8000310 충북에너지고등학교\n",
      "급식 정보 조회 중: 날짜=20241030\n"
     ]
    },
    {
     "name": "stderr",
     "output_type": "stream",
     "text": [
      "[M10] 고등학교 급식 조회:  77%|██████▏ | 65/84 [00:11<00:03,  5.86it/s]"
     ]
    },
    {
     "name": "stdout",
     "output_type": "stream",
     "text": [
      "mealService 응답코드: 200\n",
      "급식 데이터 수: 3\n",
      "8000099 충북여자고등학교\n",
      "급식 정보 조회 중: 날짜=20241030\n",
      "mealService 응답코드: 200\n",
      "급식 데이터 수: 2\n"
     ]
    },
    {
     "name": "stderr",
     "output_type": "stream",
     "text": [
      "[M10] 고등학교 급식 조회:  80%|██████▍ | 67/84 [00:11<00:02,  5.85it/s]"
     ]
    },
    {
     "name": "stdout",
     "output_type": "stream",
     "text": [
      "8000076 충북예술고등학교\n",
      "급식 정보 조회 중: 날짜=20241030\n",
      "mealService 응답코드: 200\n",
      "급식 데이터 수: 2\n",
      "8000077 충북체육고등학교\n",
      "급식 정보 조회 중: 날짜=20241030\n"
     ]
    },
    {
     "name": "stderr",
     "output_type": "stream",
     "text": [
      "[M10] 고등학교 급식 조회:  81%|██████▍ | 68/84 [00:11<00:02,  5.77it/s]"
     ]
    },
    {
     "name": "stdout",
     "output_type": "stream",
     "text": [
      "mealService 응답코드: 200\n",
      "급식 데이터 수: 3\n",
      "8000100 충원고등학교\n",
      "급식 정보 조회 중: 날짜=20241030\n",
      "mealService 응답코드: 200\n",
      "급식 데이터 수: 3\n"
     ]
    },
    {
     "name": "stderr",
     "output_type": "stream",
     "text": [
      "[M10] 고등학교 급식 조회:  83%|██████▋ | 70/84 [00:12<00:02,  5.67it/s]"
     ]
    },
    {
     "name": "stdout",
     "output_type": "stream",
     "text": [
      "8000078 충주고등학교\n",
      "급식 정보 조회 중: 날짜=20241030\n",
      "mealService 응답코드: 200\n",
      "급식 데이터 수: 3\n"
     ]
    },
    {
     "name": "stderr",
     "output_type": "stream",
     "text": [
      "[M10] 고등학교 급식 조회:  85%|██████▊ | 71/84 [00:12<00:02,  5.81it/s]"
     ]
    },
    {
     "name": "stdout",
     "output_type": "stream",
     "text": [
      "8000129 충주공업고등학교\n",
      "급식 정보 조회 중: 날짜=20241030\n",
      "mealService 응답코드: 200\n",
      "급식 데이터 수: 1\n",
      "8000202 충주대원고등학교\n",
      "급식 정보 조회 중: 날짜=20241030\n"
     ]
    },
    {
     "name": "stderr",
     "output_type": "stream",
     "text": [
      "[M10] 고등학교 급식 조회:  86%|██████▊ | 72/84 [00:12<00:02,  5.88it/s]"
     ]
    },
    {
     "name": "stdout",
     "output_type": "stream",
     "text": [
      "mealService 응답코드: 200\n",
      "급식 데이터 수: 2\n",
      "8000141 충주상업고등학교\n",
      "급식 정보 조회 중: 날짜=20241030\n",
      "mealService 응답코드: 200\n",
      "급식 데이터 수: 1\n"
     ]
    },
    {
     "name": "stderr",
     "output_type": "stream",
     "text": [
      "[M10] 고등학교 급식 조회:  88%|███████ | 74/84 [00:12<00:01,  5.80it/s]"
     ]
    },
    {
     "name": "stdout",
     "output_type": "stream",
     "text": [
      "8000080 충주여자고등학교\n",
      "급식 정보 조회 중: 날짜=20241030\n",
      "mealService 응답코드: 200\n",
      "급식 데이터 수: 3\n"
     ]
    },
    {
     "name": "stderr",
     "output_type": "stream",
     "text": [
      "[M10] 고등학교 급식 조회:  89%|███████▏| 75/84 [00:13<00:01,  5.88it/s]"
     ]
    },
    {
     "name": "stdout",
     "output_type": "stream",
     "text": [
      "8000081 충주예성여자고등학교\n",
      "급식 정보 조회 중: 날짜=20241030\n",
      "mealService 응답코드: 200\n",
      "급식 데이터 수: 3\n",
      "8000281 충주중산고등학교\n",
      "급식 정보 조회 중: 날짜=20241030\n"
     ]
    },
    {
     "name": "stderr",
     "output_type": "stream",
     "text": [
      "[M10] 고등학교 급식 조회:  90%|███████▏| 76/84 [00:13<00:01,  5.96it/s]"
     ]
    },
    {
     "name": "stdout",
     "output_type": "stream",
     "text": [
      "mealService 응답코드: 200\n",
      "급식 데이터 수: 2\n",
      "8000309 학산고등학교\n",
      "급식 정보 조회 중: 날짜=20241030\n",
      "mealService 응답코드: 200\n",
      "급식 데이터 수: 2\n"
     ]
    },
    {
     "name": "stderr",
     "output_type": "stream",
     "text": [
      "[M10] 고등학교 급식 조회:  93%|███████▍| 78/84 [00:13<00:01,  5.96it/s]"
     ]
    },
    {
     "name": "stdout",
     "output_type": "stream",
     "text": [
      "7003851 한국교원대학교부설고등학교\n",
      "급식 정보 조회 중: 날짜=20241030\n",
      "mealService 응답코드: 200\n",
      "급식 데이터 수: 3\n",
      "8000287 한국바이오마이스터고등학교\n",
      "급식 정보 조회 중: 날짜=20241030\n"
     ]
    },
    {
     "name": "stderr",
     "output_type": "stream",
     "text": [
      "[M10] 고등학교 급식 조회:  94%|███████▌| 79/84 [00:13<00:00,  6.02it/s]"
     ]
    },
    {
     "name": "stdout",
     "output_type": "stream",
     "text": [
      "mealService 응답코드: 200\n",
      "급식 데이터 수: 3\n",
      "8000311 한국호텔관광고등학교\n",
      "급식 정보 조회 중: 날짜=20241030\n",
      "mealService 응답코드: 200\n",
      "급식 데이터 수: 3\n"
     ]
    },
    {
     "name": "stderr",
     "output_type": "stream",
     "text": [
      "[M10] 고등학교 급식 조회:  96%|███████▋| 81/84 [00:14<00:00,  5.73it/s]"
     ]
    },
    {
     "name": "stdout",
     "output_type": "stream",
     "text": [
      "8000269 한림디자인고등학교\n",
      "급식 정보 조회 중: 날짜=20241030\n",
      "mealService 응답코드: 200\n",
      "급식 데이터 수: 3\n"
     ]
    },
    {
     "name": "stderr",
     "output_type": "stream",
     "text": [
      "[M10] 고등학교 급식 조회:  98%|███████▊| 82/84 [00:14<00:00,  5.75it/s]"
     ]
    },
    {
     "name": "stdout",
     "output_type": "stream",
     "text": [
      "8000102 형석고등학교\n",
      "급식 정보 조회 중: 날짜=20241030\n",
      "mealService 응답코드: 200\n",
      "급식 데이터 수: 3\n",
      "8000082 황간고등학교\n",
      "급식 정보 조회 중: 날짜=20241030\n"
     ]
    },
    {
     "name": "stderr",
     "output_type": "stream",
     "text": [
      "[M10] 고등학교 급식 조회:  99%|███████▉| 83/84 [00:14<00:00,  5.80it/s]"
     ]
    },
    {
     "name": "stdout",
     "output_type": "stream",
     "text": [
      "mealService 응답코드: 200\n",
      "급식 데이터 수: 2\n",
      "8000200 흥덕고등학교\n",
      "급식 정보 조회 중: 날짜=20241030\n",
      "mealService 응답코드: 200\n",
      "급식 데이터 수: 2\n"
     ]
    },
    {
     "name": "stderr",
     "output_type": "stream",
     "text": [
      "[M10] 고등학교 급식 조회: 100%|████████| 84/84 [00:14<00:00,  5.77it/s]\n"
     ]
    },
    {
     "name": "stdout",
     "output_type": "stream",
     "text": [
      "응답코드 : 200\n"
     ]
    },
    {
     "name": "stderr",
     "output_type": "stream",
     "text": [
      "[N10] 고등학교 급식 조회:   1%|        | 1/118 [00:00<00:19,  6.15it/s]"
     ]
    },
    {
     "name": "stdout",
     "output_type": "stream",
     "text": [
      "8140032 갈산고등학교\n",
      "급식 정보 조회 중: 날짜=20241030\n",
      "mealService 응답코드: 200\n",
      "급식 데이터 수: 3\n",
      "8140034 강경고등학교\n",
      "급식 정보 조회 중: 날짜=20241030\n"
     ]
    },
    {
     "name": "stderr",
     "output_type": "stream",
     "text": [
      "[N10] 고등학교 급식 조회:   2%|▏       | 2/118 [00:00<00:20,  5.59it/s]"
     ]
    },
    {
     "name": "stdout",
     "output_type": "stream",
     "text": [
      "mealService 응답코드: 200\n",
      "mealServiceDietInfo 키 없음: {'RESULT': {'CODE': 'INFO-200', 'MESSAGE': '해당하는 데이터가 없습니다.'}}\n",
      "8140378 강경상업고등학교\n",
      "급식 정보 조회 중: 날짜=20241030\n",
      "mealService 응답코드: 200\n",
      "급식 데이터 수: 3\n"
     ]
    },
    {
     "name": "stderr",
     "output_type": "stream",
     "text": [
      "[N10] 고등학교 급식 조회:   3%|▎       | 4/118 [00:00<00:20,  5.64it/s]"
     ]
    },
    {
     "name": "stdout",
     "output_type": "stream",
     "text": [
      "8140360 건양대학교병설건양고등학교\n",
      "급식 정보 조회 중: 날짜=20241030\n",
      "mealService 응답코드: 200\n",
      "급식 데이터 수: 3\n",
      "8140237 계룡고등학교\n",
      "급식 정보 조회 중: 날짜=20241030\n"
     ]
    },
    {
     "name": "stderr",
     "output_type": "stream",
     "text": [
      "[N10] 고등학교 급식 조회:   4%|▎       | 5/118 [00:01<00:25,  4.39it/s]"
     ]
    },
    {
     "name": "stdout",
     "output_type": "stream",
     "text": [
      "mealService 응답코드: 200\n",
      "급식 데이터 수: 2\n",
      "8140036 공주고등학교\n",
      "급식 정보 조회 중: 날짜=20241030\n",
      "mealService 응답코드: 200\n",
      "급식 데이터 수: 3\n"
     ]
    },
    {
     "name": "stderr",
     "output_type": "stream",
     "text": [
      "[N10] 고등학교 급식 조회:   6%|▍       | 7/118 [00:01<00:22,  5.04it/s]"
     ]
    },
    {
     "name": "stdout",
     "output_type": "stream",
     "text": [
      "8140080 공주금성여자고등학교\n",
      "급식 정보 조회 중: 날짜=20241030\n",
      "mealService 응답코드: 200\n",
      "급식 데이터 수: 3\n",
      "8140347 공주마이스터고등학교\n",
      "급식 정보 조회 중: 날짜=20241030\n"
     ]
    },
    {
     "name": "stderr",
     "output_type": "stream",
     "text": [
      "[N10] 고등학교 급식 조회:   7%|▌       | 8/118 [00:01<00:20,  5.24it/s]"
     ]
    },
    {
     "name": "stdout",
     "output_type": "stream",
     "text": [
      "mealService 응답코드: 200\n",
      "급식 데이터 수: 3\n",
      "8140238 공주생명과학고등학교\n",
      "급식 정보 조회 중: 날짜=20241030\n",
      "mealService 응답코드: 200\n",
      "급식 데이터 수: 3\n"
     ]
    },
    {
     "name": "stderr",
     "output_type": "stream",
     "text": [
      "[N10] 고등학교 급식 조회:   8%|▌      | 10/118 [00:01<00:19,  5.56it/s]"
     ]
    },
    {
     "name": "stdout",
     "output_type": "stream",
     "text": [
      "8140037 공주여자고등학교\n",
      "급식 정보 조회 중: 날짜=20241030\n",
      "mealService 응답코드: 200\n",
      "급식 데이터 수: 3\n",
      "8140082 공주영명고등학교\n",
      "급식 정보 조회 중: 날짜=20241030\n"
     ]
    },
    {
     "name": "stderr",
     "output_type": "stream",
     "text": [
      "[N10] 고등학교 급식 조회:   9%|▋      | 11/118 [00:02<00:19,  5.54it/s]"
     ]
    },
    {
     "name": "stdout",
     "output_type": "stream",
     "text": [
      "mealService 응답코드: 200\n",
      "급식 데이터 수: 3\n",
      "8140196 공주정보고등학교\n",
      "급식 정보 조회 중: 날짜=20241030\n",
      "mealService 응답코드: 200\n",
      "급식 데이터 수: 3\n"
     ]
    },
    {
     "name": "stderr",
     "output_type": "stream",
     "text": [
      "[N10] 고등학교 급식 조회:  11%|▊      | 13/118 [00:02<00:19,  5.45it/s]"
     ]
    },
    {
     "name": "stdout",
     "output_type": "stream",
     "text": [
      "C035903 국립공주대학교사범대학부설고등학교\n",
      "급식 정보 조회 중: 날짜=20241030\n",
      "mealService 응답코드: 200\n",
      "급식 데이터 수: 3\n"
     ]
    },
    {
     "name": "stderr",
     "output_type": "stream",
     "text": [
      "[N10] 고등학교 급식 조회:  12%|▊      | 14/118 [00:02<00:18,  5.58it/s]"
     ]
    },
    {
     "name": "stdout",
     "output_type": "stream",
     "text": [
      "8140498 국방항공고등학교\n",
      "급식 정보 조회 중: 날짜=20241030\n",
      "mealService 응답코드: 200\n",
      "mealServiceDietInfo 키 없음: {'RESULT': {'CODE': 'INFO-200', 'MESSAGE': '해당하는 데이터가 없습니다.'}}\n",
      "8140038 금산고등학교\n",
      "급식 정보 조회 중: 날짜=20241030\n"
     ]
    },
    {
     "name": "stderr",
     "output_type": "stream",
     "text": [
      "[N10] 고등학교 급식 조회:  13%|▉      | 15/118 [00:02<00:18,  5.60it/s]"
     ]
    },
    {
     "name": "stdout",
     "output_type": "stream",
     "text": [
      "mealService 응답코드: 200\n",
      "급식 데이터 수: 3\n",
      "8140115 금산산업고등학교\n",
      "급식 정보 조회 중: 날짜=20241030\n",
      "mealService 응답코드: 200\n",
      "급식 데이터 수: 3\n"
     ]
    },
    {
     "name": "stderr",
     "output_type": "stream",
     "text": [
      "[N10] 고등학교 급식 조회:  14%|█      | 17/118 [00:03<00:17,  5.79it/s]"
     ]
    },
    {
     "name": "stdout",
     "output_type": "stream",
     "text": [
      "8140039 금산여자고등학교\n",
      "급식 정보 조회 중: 날짜=20241030\n",
      "mealService 응답코드: 200\n",
      "급식 데이터 수: 3\n",
      "8140343 금산하이텍고등학교\n",
      "급식 정보 조회 중: 날짜=20241030\n"
     ]
    },
    {
     "name": "stderr",
     "output_type": "stream",
     "text": [
      "[N10] 고등학교 급식 조회:  15%|█      | 18/118 [00:03<00:17,  5.86it/s]"
     ]
    },
    {
     "name": "stdout",
     "output_type": "stream",
     "text": [
      "mealService 응답코드: 200\n",
      "급식 데이터 수: 3\n",
      "8140040 논산고등학교\n",
      "급식 정보 조회 중: 날짜=20241030\n",
      "mealService 응답코드: 200\n",
      "급식 데이터 수: 2\n"
     ]
    },
    {
     "name": "stderr",
     "output_type": "stream",
     "text": [
      "[N10] 고등학교 급식 조회:  17%|█▏     | 20/118 [00:03<00:16,  5.80it/s]"
     ]
    },
    {
     "name": "stdout",
     "output_type": "stream",
     "text": [
      "8140085 논산대건고등학교\n",
      "급식 정보 조회 중: 날짜=20241030\n",
      "mealService 응답코드: 200\n",
      "급식 데이터 수: 3\n",
      "8140041 논산여자고등학교\n",
      "급식 정보 조회 중: 날짜=20241030\n"
     ]
    },
    {
     "name": "stderr",
     "output_type": "stream",
     "text": [
      "[N10] 고등학교 급식 조회:  18%|█▏     | 21/118 [00:03<00:16,  5.85it/s]"
     ]
    },
    {
     "name": "stdout",
     "output_type": "stream",
     "text": [
      "mealService 응답코드: 200\n",
      "급식 데이터 수: 3\n",
      "8140152 논산여자상업고등학교\n",
      "급식 정보 조회 중: 날짜=20241030\n",
      "mealService 응답코드: 200\n",
      "급식 데이터 수: 3\n"
     ]
    },
    {
     "name": "stderr",
     "output_type": "stream",
     "text": [
      "[N10] 고등학교 급식 조회:  19%|█▎     | 23/118 [00:04<00:16,  5.91it/s]"
     ]
    },
    {
     "name": "stdout",
     "output_type": "stream",
     "text": [
      "8140042 당진고등학교\n",
      "급식 정보 조회 중: 날짜=20241030\n",
      "mealService 응답코드: 200\n",
      "급식 데이터 수: 3\n",
      "8140118 당진정보고등학교\n",
      "급식 정보 조회 중: 날짜=20241030\n"
     ]
    },
    {
     "name": "stderr",
     "output_type": "stream",
     "text": [
      "[N10] 고등학교 급식 조회:  20%|█▍     | 24/118 [00:04<00:15,  5.89it/s]"
     ]
    },
    {
     "name": "stdout",
     "output_type": "stream",
     "text": [
      "mealService 응답코드: 200\n",
      "급식 데이터 수: 1\n",
      "8140254 대산고등학교\n",
      "급식 정보 조회 중: 날짜=20241030\n",
      "mealService 응답코드: 200\n",
      "급식 데이터 수: 3\n"
     ]
    },
    {
     "name": "stderr",
     "output_type": "stream",
     "text": [
      "[N10] 고등학교 급식 조회:  22%|█▌     | 26/118 [00:04<00:15,  5.84it/s]"
     ]
    },
    {
     "name": "stdout",
     "output_type": "stream",
     "text": [
      "8140044 대천고등학교\n",
      "급식 정보 조회 중: 날짜=20241030\n",
      "mealService 응답코드: 200\n",
      "급식 데이터 수: 3\n",
      "8140045 대천여자고등학교\n",
      "급식 정보 조회 중: 날짜=20241030\n"
     ]
    },
    {
     "name": "stderr",
     "output_type": "stream",
     "text": [
      "[N10] 고등학교 급식 조회:  23%|█▌     | 27/118 [00:04<00:15,  5.92it/s]"
     ]
    },
    {
     "name": "stdout",
     "output_type": "stream",
     "text": [
      "mealService 응답코드: 200\n",
      "급식 데이터 수: 3\n",
      "8140120 대천여자상업고등학교\n",
      "급식 정보 조회 중: 날짜=20241030\n",
      "mealService 응답코드: 200\n",
      "mealServiceDietInfo 키 없음: {'RESULT': {'CODE': 'INFO-200', 'MESSAGE': '해당하는 데이터가 없습니다.'}}\n"
     ]
    },
    {
     "name": "stderr",
     "output_type": "stream",
     "text": [
      "[N10] 고등학교 급식 조회:  25%|█▋     | 29/118 [00:05<00:15,  5.73it/s]"
     ]
    },
    {
     "name": "stdout",
     "output_type": "stream",
     "text": [
      "8140086 대흥고등학교\n",
      "급식 정보 조회 중: 날짜=20241030\n",
      "mealService 응답코드: 200\n",
      "급식 데이터 수: 3\n"
     ]
    },
    {
     "name": "stderr",
     "output_type": "stream",
     "text": [
      "[N10] 고등학교 급식 조회:  25%|█▊     | 30/118 [00:05<00:15,  5.78it/s]"
     ]
    },
    {
     "name": "stdout",
     "output_type": "stream",
     "text": [
      "8140046 덕산고등학교\n",
      "급식 정보 조회 중: 날짜=20241030\n",
      "mealService 응답코드: 200\n",
      "급식 데이터 수: 3\n",
      "8140048 만리포고등학교\n",
      "급식 정보 조회 중: 날짜=20241030\n"
     ]
    },
    {
     "name": "stderr",
     "output_type": "stream",
     "text": [
      "[N10] 고등학교 급식 조회:  26%|█▊     | 31/118 [00:05<00:15,  5.66it/s]"
     ]
    },
    {
     "name": "stdout",
     "output_type": "stream",
     "text": [
      "mealService 응답코드: 200\n",
      "급식 데이터 수: 1\n",
      "8140049 목천고등학교\n",
      "급식 정보 조회 중: 날짜=20241030\n",
      "mealService 응답코드: 200\n",
      "급식 데이터 수: 3\n"
     ]
    },
    {
     "name": "stderr",
     "output_type": "stream",
     "text": [
      "[N10] 고등학교 급식 조회:  28%|█▉     | 33/118 [00:05<00:14,  5.83it/s]"
     ]
    },
    {
     "name": "stdout",
     "output_type": "stream",
     "text": [
      "8140256 배방고등학교\n",
      "급식 정보 조회 중: 날짜=20241030\n",
      "mealService 응답코드: 200\n",
      "급식 데이터 수: 1\n",
      "8140050 병천고등학교\n",
      "급식 정보 조회 중: 날짜=20241030\n"
     ]
    },
    {
     "name": "stderr",
     "output_type": "stream",
     "text": [
      "[N10] 고등학교 급식 조회:  29%|██     | 34/118 [00:06<00:14,  5.80it/s]"
     ]
    },
    {
     "name": "stdout",
     "output_type": "stream",
     "text": [
      "mealService 응답코드: 200\n",
      "급식 데이터 수: 3\n",
      "8140087 복자여자고등학교\n",
      "급식 정보 조회 중: 날짜=20241030\n",
      "mealService 응답코드: 200\n",
      "급식 데이터 수: 2\n"
     ]
    },
    {
     "name": "stderr",
     "output_type": "stream",
     "text": [
      "[N10] 고등학교 급식 조회:  31%|██▏    | 36/118 [00:06<00:14,  5.75it/s]"
     ]
    },
    {
     "name": "stdout",
     "output_type": "stream",
     "text": [
      "8140051 부석고등학교\n",
      "급식 정보 조회 중: 날짜=20241030\n",
      "mealService 응답코드: 200\n",
      "급식 데이터 수: 3\n",
      "8140052 부여고등학교\n",
      "급식 정보 조회 중: 날짜=20241030\n"
     ]
    },
    {
     "name": "stderr",
     "output_type": "stream",
     "text": [
      "[N10] 고등학교 급식 조회:  31%|██▏    | 37/118 [00:06<00:13,  5.79it/s]"
     ]
    },
    {
     "name": "stdout",
     "output_type": "stream",
     "text": [
      "mealService 응답코드: 200\n",
      "급식 데이터 수: 3\n",
      "8140053 부여여자고등학교\n",
      "급식 정보 조회 중: 날짜=20241030\n",
      "mealService 응답코드: 200\n",
      "급식 데이터 수: 3\n"
     ]
    },
    {
     "name": "stderr",
     "output_type": "stream",
     "text": [
      "[N10] 고등학교 급식 조회:  33%|██▎    | 39/118 [00:06<00:13,  5.84it/s]"
     ]
    },
    {
     "name": "stdout",
     "output_type": "stream",
     "text": [
      "8140192 부여전자고등학교\n",
      "급식 정보 조회 중: 날짜=20241030\n",
      "mealService 응답코드: 200\n",
      "급식 데이터 수: 3\n",
      "8140193 부여정보고등학교\n",
      "급식 정보 조회 중: 날짜=20241030\n"
     ]
    },
    {
     "name": "stderr",
     "output_type": "stream",
     "text": [
      "[N10] 고등학교 급식 조회:  34%|██▎    | 40/118 [00:07<00:13,  5.88it/s]"
     ]
    },
    {
     "name": "stdout",
     "output_type": "stream",
     "text": [
      "mealService 응답코드: 200\n",
      "급식 데이터 수: 1\n",
      "8140270 북일고등학교\n",
      "급식 정보 조회 중: 날짜=20241030\n",
      "mealService 응답코드: 200\n",
      "급식 데이터 수: 3\n"
     ]
    },
    {
     "name": "stderr",
     "output_type": "stream",
     "text": [
      "[N10] 고등학교 급식 조회:  36%|██▍    | 42/118 [00:07<00:12,  5.88it/s]"
     ]
    },
    {
     "name": "stdout",
     "output_type": "stream",
     "text": [
      "8140271 북일여자고등학교\n",
      "급식 정보 조회 중: 날짜=20241030\n",
      "mealService 응답코드: 200\n",
      "급식 데이터 수: 3\n",
      "8140501 비전고등학교\n",
      "급식 정보 조회 중: 날짜=20241030\n"
     ]
    },
    {
     "name": "stderr",
     "output_type": "stream",
     "text": [
      "[N10] 고등학교 급식 조회:  36%|██▌    | 43/118 [00:07<00:12,  5.98it/s]"
     ]
    },
    {
     "name": "stdout",
     "output_type": "stream",
     "text": [
      "mealService 응답코드: 200\n",
      "mealServiceDietInfo 키 없음: {'RESULT': {'CODE': 'INFO-200', 'MESSAGE': '해당하는 데이터가 없습니다.'}}\n",
      "8140088 삽교고등학교\n",
      "급식 정보 조회 중: 날짜=20241030\n",
      "mealService 응답코드: 200\n",
      "급식 데이터 수: 3\n"
     ]
    },
    {
     "name": "stderr",
     "output_type": "stream",
     "text": [
      "[N10] 고등학교 급식 조회:  38%|██▋    | 45/118 [00:07<00:12,  5.99it/s]"
     ]
    },
    {
     "name": "stdout",
     "output_type": "stream",
     "text": [
      "8140089 서령고등학교\n",
      "급식 정보 조회 중: 날짜=20241030\n",
      "mealService 응답코드: 200\n",
      "급식 데이터 수: 3\n",
      "8140200 서산고등학교\n",
      "급식 정보 조회 중: 날짜=20241030\n"
     ]
    },
    {
     "name": "stderr",
     "output_type": "stream",
     "text": [
      "[N10] 고등학교 급식 조회:  39%|██▋    | 46/118 [00:08<00:12,  5.84it/s]"
     ]
    },
    {
     "name": "stdout",
     "output_type": "stream",
     "text": [
      "mealService 응답코드: 200\n",
      "급식 데이터 수: 3\n",
      "8140391 서산공업고등학교\n",
      "급식 정보 조회 중: 날짜=20241030\n",
      "mealService 응답코드: 200\n",
      "급식 데이터 수: 3\n"
     ]
    },
    {
     "name": "stderr",
     "output_type": "stream",
     "text": [
      "[N10] 고등학교 급식 조회:  41%|██▊    | 48/118 [00:08<00:11,  5.89it/s]"
     ]
    },
    {
     "name": "stdout",
     "output_type": "stream",
     "text": [
      "8140054 서산여자고등학교\n",
      "급식 정보 조회 중: 날짜=20241030\n",
      "mealService 응답코드: 200\n",
      "급식 데이터 수: 3\n",
      "8140260 서산중앙고등학교\n",
      "급식 정보 조회 중: 날짜=20241030\n"
     ]
    },
    {
     "name": "stderr",
     "output_type": "stream",
     "text": [
      "[N10] 고등학교 급식 조회:  42%|██▉    | 49/118 [00:08<00:11,  5.90it/s]"
     ]
    },
    {
     "name": "stdout",
     "output_type": "stream",
     "text": [
      "mealService 응답코드: 200\n",
      "급식 데이터 수: 3\n",
      "8140090 서야고등학교\n",
      "급식 정보 조회 중: 날짜=20241030\n",
      "mealService 응답코드: 200\n",
      "급식 데이터 수: 3\n"
     ]
    },
    {
     "name": "stderr",
     "output_type": "stream",
     "text": [
      "[N10] 고등학교 급식 조회:  43%|███    | 51/118 [00:08<00:11,  5.91it/s]"
     ]
    },
    {
     "name": "stdout",
     "output_type": "stream",
     "text": [
      "8140209 서일고등학교\n",
      "급식 정보 조회 중: 날짜=20241030\n",
      "mealService 응답코드: 200\n",
      "급식 데이터 수: 3\n",
      "8140055 서천고등학교\n",
      "급식 정보 조회 중: 날짜=20241030\n"
     ]
    },
    {
     "name": "stderr",
     "output_type": "stream",
     "text": [
      "[N10] 고등학교 급식 조회:  44%|███    | 52/118 [00:09<00:11,  5.90it/s]"
     ]
    },
    {
     "name": "stdout",
     "output_type": "stream",
     "text": [
      "mealService 응답코드: 200\n",
      "급식 데이터 수: 3\n",
      "8140056 서천여자고등학교\n",
      "급식 정보 조회 중: 날짜=20241030\n",
      "mealService 응답코드: 200\n",
      "급식 데이터 수: 3\n"
     ]
    },
    {
     "name": "stderr",
     "output_type": "stream",
     "text": [
      "[N10] 고등학교 급식 조회:  46%|███▏   | 54/118 [00:09<00:10,  6.06it/s]"
     ]
    },
    {
     "name": "stdout",
     "output_type": "stream",
     "text": [
      "8140217 서천여자정보고등학교\n",
      "급식 정보 조회 중: 날짜=20241030\n",
      "mealService 응답코드: 200\n",
      "급식 데이터 수: 3\n",
      "8140091 서해삼육고등학교\n",
      "급식 정보 조회 중: 날짜=20241030\n"
     ]
    },
    {
     "name": "stderr",
     "output_type": "stream",
     "text": [
      "[N10] 고등학교 급식 조회:  47%|███▎   | 55/118 [00:09<00:10,  6.05it/s]"
     ]
    },
    {
     "name": "stdout",
     "output_type": "stream",
     "text": [
      "mealService 응답코드: 200\n",
      "급식 데이터 수: 3\n",
      "8140266 설화고등학교\n",
      "급식 정보 조회 중: 날짜=20241030\n",
      "mealService 응답코드: 200\n",
      "급식 데이터 수: 3\n"
     ]
    },
    {
     "name": "stderr",
     "output_type": "stream",
     "text": [
      "[N10] 고등학교 급식 조회:  48%|███▍   | 57/118 [00:09<00:10,  5.91it/s]"
     ]
    },
    {
     "name": "stdout",
     "output_type": "stream",
     "text": [
      "8140057 성환고등학교\n",
      "급식 정보 조회 중: 날짜=20241030\n",
      "mealService 응답코드: 200\n",
      "급식 데이터 수: 3\n",
      "8140093 송악고등학교\n",
      "급식 정보 조회 중: 날짜=20241030\n"
     ]
    },
    {
     "name": "stderr",
     "output_type": "stream",
     "text": [
      "[N10] 고등학교 급식 조회:  49%|███▍   | 58/118 [00:10<00:10,  5.72it/s]"
     ]
    },
    {
     "name": "stdout",
     "output_type": "stream",
     "text": [
      "mealService 응답코드: 200\n",
      "급식 데이터 수: 2\n",
      "8140094 신평고등학교\n",
      "급식 정보 조회 중: 날짜=20241030\n",
      "mealService 응답코드: 200\n",
      "급식 데이터 수: 3\n"
     ]
    },
    {
     "name": "stderr",
     "output_type": "stream",
     "text": [
      "[N10] 고등학교 급식 조회:  51%|███▌   | 60/118 [00:10<00:10,  5.76it/s]"
     ]
    },
    {
     "name": "stdout",
     "output_type": "stream",
     "text": [
      "8140095 쌘뽈여자고등학교\n",
      "급식 정보 조회 중: 날짜=20241030\n",
      "mealService 응답코드: 200\n",
      "급식 데이터 수: 3\n",
      "8140096 아산고등학교\n",
      "급식 정보 조회 중: 날짜=20241030\n"
     ]
    },
    {
     "name": "stderr",
     "output_type": "stream",
     "text": [
      "[N10] 고등학교 급식 조회:  52%|███▌   | 61/118 [00:10<00:09,  5.71it/s]"
     ]
    },
    {
     "name": "stdout",
     "output_type": "stream",
     "text": [
      "mealService 응답코드: 200\n",
      "급식 데이터 수: 3\n",
      "8140472 아산스마트팩토리마이스터고등학교\n",
      "급식 정보 조회 중: 날짜=20241030\n",
      "mealService 응답코드: 200\n",
      "급식 데이터 수: 1\n"
     ]
    },
    {
     "name": "stderr",
     "output_type": "stream",
     "text": [
      "[N10] 고등학교 급식 조회:  53%|███▋   | 63/118 [00:10<00:09,  5.97it/s]"
     ]
    },
    {
     "name": "stdout",
     "output_type": "stream",
     "text": [
      "8140491 아산충무고등학교\n",
      "급식 정보 조회 중: 날짜=20241030\n",
      "mealService 응답코드: 200\n",
      "mealServiceDietInfo 키 없음: {'RESULT': {'CODE': 'INFO-200', 'MESSAGE': '해당하는 데이터가 없습니다.'}}\n",
      "8140058 안면고등학교\n",
      "급식 정보 조회 중: 날짜=20241030\n"
     ]
    },
    {
     "name": "stderr",
     "output_type": "stream",
     "text": [
      "[N10] 고등학교 급식 조회:  54%|███▊   | 64/118 [00:11<00:08,  6.00it/s]"
     ]
    },
    {
     "name": "stdout",
     "output_type": "stream",
     "text": [
      "mealService 응답코드: 200\n",
      "급식 데이터 수: 1\n",
      "8140098 연무고등학교\n",
      "급식 정보 조회 중: 날짜=20241030\n",
      "mealService 응답코드: 200\n",
      "급식 데이터 수: 3\n"
     ]
    },
    {
     "name": "stderr",
     "output_type": "stream",
     "text": [
      "[N10] 고등학교 급식 조회:  56%|███▉   | 66/118 [00:11<00:08,  5.94it/s]"
     ]
    },
    {
     "name": "stdout",
     "output_type": "stream",
     "text": [
      "8140482 연무마이스터고등학교\n",
      "급식 정보 조회 중: 날짜=20241030\n",
      "mealService 응답코드: 200\n",
      "급식 데이터 수: 3\n",
      "8140100 예산고등학교\n",
      "급식 정보 조회 중: 날짜=20241030\n"
     ]
    },
    {
     "name": "stderr",
     "output_type": "stream",
     "text": [
      "[N10] 고등학교 급식 조회:  57%|███▉   | 67/118 [00:11<00:08,  6.01it/s]"
     ]
    },
    {
     "name": "stdout",
     "output_type": "stream",
     "text": [
      "mealService 응답코드: 200\n",
      "급식 데이터 수: 3\n",
      "8140059 예산여자고등학교\n",
      "급식 정보 조회 중: 날짜=20241030\n"
     ]
    },
    {
     "name": "stderr",
     "output_type": "stream",
     "text": [
      "[N10] 고등학교 급식 조회:  58%|████   | 68/118 [00:11<00:08,  5.66it/s]"
     ]
    },
    {
     "name": "stdout",
     "output_type": "stream",
     "text": [
      "mealService 응답코드: 200\n",
      "급식 데이터 수: 3\n",
      "8140344 예산예화여자고등학교\n",
      "급식 정보 조회 중: 날짜=20241030\n",
      "mealService 응답코드: 200\n",
      "급식 데이터 수: 3\n"
     ]
    },
    {
     "name": "stderr",
     "output_type": "stream",
     "text": [
      "[N10] 고등학교 급식 조회:  58%|████   | 69/118 [00:12<00:08,  5.85it/s]"
     ]
    },
    {
     "name": "stdout",
     "output_type": "stream",
     "text": [
      "8140061 온양고등학교\n",
      "급식 정보 조회 중: 날짜=20241030\n",
      "mealService 응답코드: 200\n",
      "급식 데이터 수: 3\n"
     ]
    },
    {
     "name": "stderr",
     "output_type": "stream",
     "text": [
      "[N10] 고등학교 급식 조회:  60%|████▏  | 71/118 [00:12<00:08,  5.42it/s]"
     ]
    },
    {
     "name": "stdout",
     "output_type": "stream",
     "text": [
      "8140062 온양여자고등학교\n",
      "급식 정보 조회 중: 날짜=20241030\n",
      "mealService 응답코드: 200\n",
      "급식 데이터 수: 3\n"
     ]
    },
    {
     "name": "stderr",
     "output_type": "stream",
     "text": [
      "[N10] 고등학교 급식 조회:  61%|████▎  | 72/118 [00:12<00:08,  5.56it/s]"
     ]
    },
    {
     "name": "stdout",
     "output_type": "stream",
     "text": [
      "8140229 온양용화고등학교\n",
      "급식 정보 조회 중: 날짜=20241030\n",
      "mealService 응답코드: 200\n",
      "급식 데이터 수: 3\n",
      "8140063 용남고등학교\n",
      "급식 정보 조회 중: 날짜=20241030\n"
     ]
    },
    {
     "name": "stderr",
     "output_type": "stream",
     "text": [
      "[N10] 고등학교 급식 조회:  62%|████▎  | 73/118 [00:12<00:08,  5.59it/s]"
     ]
    },
    {
     "name": "stdout",
     "output_type": "stream",
     "text": [
      "mealService 응답코드: 200\n",
      "급식 데이터 수: 2\n",
      "8140064 웅천고등학교\n",
      "급식 정보 조회 중: 날짜=20241030\n",
      "mealService 응답코드: 200\n",
      "급식 데이터 수: 3\n"
     ]
    },
    {
     "name": "stderr",
     "output_type": "stream",
     "text": [
      "[N10] 고등학교 급식 조회:  64%|████▍  | 75/118 [00:13<00:07,  5.80it/s]"
     ]
    },
    {
     "name": "stdout",
     "output_type": "stream",
     "text": [
      "8140473 이순신고등학교\n",
      "급식 정보 조회 중: 날짜=20241030\n",
      "mealService 응답코드: 200\n",
      "mealServiceDietInfo 키 없음: {'RESULT': {'CODE': 'INFO-200', 'MESSAGE': '해당하는 데이터가 없습니다.'}}\n",
      "8140101 장항고등학교\n",
      "급식 정보 조회 중: 날짜=20241030\n"
     ]
    },
    {
     "name": "stderr",
     "output_type": "stream",
     "text": [
      "[N10] 고등학교 급식 조회:  64%|████▌  | 76/118 [00:13<00:07,  5.81it/s]"
     ]
    },
    {
     "name": "stdout",
     "output_type": "stream",
     "text": [
      "mealService 응답코드: 200\n",
      "급식 데이터 수: 3\n",
      "8140134 장항공업고등학교\n",
      "급식 정보 조회 중: 날짜=20241030\n",
      "mealService 응답코드: 200\n",
      "급식 데이터 수: 3\n"
     ]
    },
    {
     "name": "stderr",
     "output_type": "stream",
     "text": [
      "[N10] 고등학교 급식 조회:  66%|████▋  | 78/118 [00:13<00:06,  5.75it/s]"
     ]
    },
    {
     "name": "stdout",
     "output_type": "stream",
     "text": [
      "8140354 정산고등학교\n",
      "급식 정보 조회 중: 날짜=20241030\n",
      "mealService 응답코드: 200\n",
      "급식 데이터 수: 3\n"
     ]
    },
    {
     "name": "stderr",
     "output_type": "stream",
     "text": [
      "[N10] 고등학교 급식 조회:  67%|████▋  | 79/118 [00:13<00:06,  5.79it/s]"
     ]
    },
    {
     "name": "stdout",
     "output_type": "stream",
     "text": [
      "8140136 주산산업고등학교\n",
      "급식 정보 조회 중: 날짜=20241030\n",
      "mealService 응답코드: 200\n",
      "급식 데이터 수: 3\n",
      "8140104 천안고등학교\n",
      "급식 정보 조회 중: 날짜=20241030\n"
     ]
    },
    {
     "name": "stderr",
     "output_type": "stream",
     "text": [
      "[N10] 고등학교 급식 조회:  68%|████▋  | 80/118 [00:13<00:06,  5.87it/s]"
     ]
    },
    {
     "name": "stdout",
     "output_type": "stream",
     "text": [
      "mealService 응답코드: 200\n",
      "급식 데이터 수: 3\n",
      "8140139 천안공업고등학교\n",
      "급식 정보 조회 중: 날짜=20241030\n",
      "mealService 응답코드: 200\n",
      "급식 데이터 수: 1\n"
     ]
    },
    {
     "name": "stderr",
     "output_type": "stream",
     "text": [
      "[N10] 고등학교 급식 조회:  69%|████▊  | 82/118 [00:14<00:06,  5.73it/s]"
     ]
    },
    {
     "name": "stdout",
     "output_type": "stream",
     "text": [
      "8140213 천안두정고등학교\n",
      "급식 정보 조회 중: 날짜=20241030\n",
      "mealService 응답코드: 200\n",
      "급식 데이터 수: 2\n"
     ]
    },
    {
     "name": "stderr",
     "output_type": "stream",
     "text": [
      "[N10] 고등학교 급식 조회:  70%|████▉  | 83/118 [00:14<00:06,  5.67it/s]"
     ]
    },
    {
     "name": "stdout",
     "output_type": "stream",
     "text": [
      "8140387 천안불당고등학교\n",
      "급식 정보 조회 중: 날짜=20241030\n",
      "mealService 응답코드: 200\n",
      "급식 데이터 수: 2\n"
     ]
    },
    {
     "name": "stderr",
     "output_type": "stream",
     "text": [
      "[N10] 고등학교 급식 조회:  71%|████▉  | 84/118 [00:14<00:05,  5.81it/s]"
     ]
    },
    {
     "name": "stdout",
     "output_type": "stream",
     "text": [
      "8140358 천안상업고등학교\n",
      "급식 정보 조회 중: 날짜=20241030\n",
      "mealService 응답코드: 200\n",
      "급식 데이터 수: 1\n",
      "8140236 천안신당고등학교\n",
      "급식 정보 조회 중: 날짜=20241030\n"
     ]
    },
    {
     "name": "stderr",
     "output_type": "stream",
     "text": [
      "[N10] 고등학교 급식 조회:  72%|█████  | 85/118 [00:14<00:05,  5.87it/s]"
     ]
    },
    {
     "name": "stdout",
     "output_type": "stream",
     "text": [
      "mealService 응답코드: 200\n",
      "급식 데이터 수: 3\n",
      "8140219 천안쌍용고등학교\n",
      "급식 정보 조회 중: 날짜=20241030\n",
      "mealService 응답코드: 200\n",
      "급식 데이터 수: 2\n"
     ]
    },
    {
     "name": "stderr",
     "output_type": "stream",
     "text": [
      "[N10] 고등학교 급식 조회:  74%|█████▏ | 87/118 [00:15<00:05,  5.86it/s]"
     ]
    },
    {
     "name": "stdout",
     "output_type": "stream",
     "text": [
      "8140253 천안업성고등학교\n",
      "급식 정보 조회 중: 날짜=20241030\n",
      "mealService 응답코드: 200\n",
      "급식 데이터 수: 3\n",
      "8140069 천안여자고등학교\n",
      "급식 정보 조회 중: 날짜=20241030\n"
     ]
    },
    {
     "name": "stderr",
     "output_type": "stream",
     "text": [
      "[N10] 고등학교 급식 조회:  75%|█████▏ | 88/118 [00:15<00:05,  5.52it/s]"
     ]
    },
    {
     "name": "stdout",
     "output_type": "stream",
     "text": [
      "mealService 응답코드: 200\n",
      "급식 데이터 수: 3\n",
      "8140160 천안여자상업고등학교\n",
      "급식 정보 조회 중: 날짜=20241030\n",
      "mealService 응답코드: 200\n",
      "급식 데이터 수: 2\n"
     ]
    },
    {
     "name": "stderr",
     "output_type": "stream",
     "text": [
      "[N10] 고등학교 급식 조회:  76%|█████▎ | 90/118 [00:15<00:05,  5.57it/s]"
     ]
    },
    {
     "name": "stdout",
     "output_type": "stream",
     "text": [
      "8140246 천안오성고등학교\n",
      "급식 정보 조회 중: 날짜=20241030\n",
      "mealService 응답코드: 200\n",
      "급식 데이터 수: 2\n",
      "8140214 천안월봉고등학교\n",
      "급식 정보 조회 중: 날짜=20241030\n"
     ]
    },
    {
     "name": "stderr",
     "output_type": "stream",
     "text": [
      "[N10] 고등학교 급식 조회:  77%|█████▍ | 91/118 [00:15<00:04,  5.68it/s]"
     ]
    },
    {
     "name": "stdout",
     "output_type": "stream",
     "text": [
      "mealService 응답코드: 200\n",
      "급식 데이터 수: 2\n",
      "8140259 천안제일고등학교\n",
      "급식 정보 조회 중: 날짜=20241030\n",
      "mealService 응답코드: 200\n",
      "급식 데이터 수: 3\n"
     ]
    },
    {
     "name": "stderr",
     "output_type": "stream",
     "text": [
      "[N10] 고등학교 급식 조회:  79%|█████▌ | 93/118 [00:16<00:04,  5.59it/s]"
     ]
    },
    {
     "name": "stdout",
     "output_type": "stream",
     "text": [
      "8140070 천안중앙고등학교\n",
      "급식 정보 조회 중: 날짜=20241030\n",
      "mealService 응답코드: 200\n",
      "급식 데이터 수: 3\n",
      "8140265 천안청수고등학교\n",
      "급식 정보 조회 중: 날짜=20241030\n"
     ]
    },
    {
     "name": "stderr",
     "output_type": "stream",
     "text": [
      "[N10] 고등학교 급식 조회:  80%|█████▌ | 94/118 [00:16<00:04,  5.42it/s]"
     ]
    },
    {
     "name": "stdout",
     "output_type": "stream",
     "text": [
      "mealService 응답코드: 200\n",
      "급식 데이터 수: 2\n",
      "8140267 청양고등학교\n",
      "급식 정보 조회 중: 날짜=20241030\n",
      "mealService 응답코드: 200\n",
      "급식 데이터 수: 3\n"
     ]
    },
    {
     "name": "stderr",
     "output_type": "stream",
     "text": [
      "[N10] 고등학교 급식 조회:  81%|█████▋ | 96/118 [00:16<00:03,  5.56it/s]"
     ]
    },
    {
     "name": "stdout",
     "output_type": "stream",
     "text": [
      "8140071 충남과학고등학교\n",
      "급식 정보 조회 중: 날짜=20241030\n",
      "mealService 응답코드: 200\n",
      "급식 데이터 수: 3\n",
      "8140459 충남드론항공고등학교\n",
      "급식 정보 조회 중: 날짜=20241030\n"
     ]
    },
    {
     "name": "stderr",
     "output_type": "stream",
     "text": [
      "[N10] 고등학교 급식 조회:  82%|█████▊ | 97/118 [00:16<00:03,  5.57it/s]"
     ]
    },
    {
     "name": "stdout",
     "output_type": "stream",
     "text": [
      "mealService 응답코드: 200\n",
      "급식 데이터 수: 3\n",
      "8140359 충남디자인예술고등학교\n",
      "급식 정보 조회 중: 날짜=20241030\n",
      "mealService 응답코드: 200\n",
      "급식 데이터 수: 3\n"
     ]
    },
    {
     "name": "stderr",
     "output_type": "stream",
     "text": [
      "[N10] 고등학교 급식 조회:  84%|█████▊ | 99/118 [00:17<00:03,  5.71it/s]"
     ]
    },
    {
     "name": "stdout",
     "output_type": "stream",
     "text": [
      "8140499 충남반도체마이스터고등학교\n",
      "급식 정보 조회 중: 날짜=20241030\n",
      "mealService 응답코드: 200\n",
      "mealServiceDietInfo 키 없음: {'RESULT': {'CODE': 'INFO-200', 'MESSAGE': '해당하는 데이터가 없습니다.'}}\n",
      "8140366 충남삼성고등학교\n",
      "급식 정보 조회 중: 날짜=20241030\n"
     ]
    },
    {
     "name": "stderr",
     "output_type": "stream",
     "text": [
      "[N10] 고등학교 급식 조회:  85%|█████ | 100/118 [00:17<00:03,  5.71it/s]"
     ]
    },
    {
     "name": "stdout",
     "output_type": "stream",
     "text": [
      "mealService 응답코드: 200\n",
      "급식 데이터 수: 3\n",
      "8140072 충남예술고등학교\n",
      "급식 정보 조회 중: 날짜=20241030\n",
      "mealService 응답코드: 200\n",
      "급식 데이터 수: 3\n"
     ]
    },
    {
     "name": "stderr",
     "output_type": "stream",
     "text": [
      "[N10] 고등학교 급식 조회:  86%|█████▏| 102/118 [00:17<00:02,  5.84it/s]"
     ]
    },
    {
     "name": "stdout",
     "output_type": "stream",
     "text": [
      "8140252 충남외국어고등학교\n",
      "급식 정보 조회 중: 날짜=20241030\n",
      "mealService 응답코드: 200\n",
      "급식 데이터 수: 3\n",
      "8140195 충남인터넷고등학교\n",
      "급식 정보 조회 중: 날짜=20241030\n"
     ]
    },
    {
     "name": "stderr",
     "output_type": "stream",
     "text": [
      "[N10] 고등학교 급식 조회:  87%|█████▏| 103/118 [00:17<00:02,  5.80it/s]"
     ]
    },
    {
     "name": "stdout",
     "output_type": "stream",
     "text": [
      "mealService 응답코드: 200\n",
      "급식 데이터 수: 3\n",
      "8140073 충남체육고등학교\n",
      "급식 정보 조회 중: 날짜=20241030\n",
      "mealService 응답코드: 200\n",
      "mealServiceDietInfo 키 없음: {'RESULT': {'CODE': 'INFO-200', 'MESSAGE': '해당하는 데이터가 없습니다.'}}\n"
     ]
    },
    {
     "name": "stderr",
     "output_type": "stream",
     "text": [
      "[N10] 고등학교 급식 조회:  89%|█████▎| 105/118 [00:18<00:02,  5.89it/s]"
     ]
    },
    {
     "name": "stdout",
     "output_type": "stream",
     "text": [
      "8140206 충남해양과학고등학교\n",
      "급식 정보 조회 중: 날짜=20241030\n",
      "mealService 응답코드: 200\n",
      "급식 데이터 수: 3\n",
      "8140074 태안고등학교\n",
      "급식 정보 조회 중: 날짜=20241030\n"
     ]
    },
    {
     "name": "stderr",
     "output_type": "stream",
     "text": [
      "[N10] 고등학교 급식 조회:  90%|█████▍| 106/118 [00:18<00:02,  5.86it/s]"
     ]
    },
    {
     "name": "stdout",
     "output_type": "stream",
     "text": [
      "mealService 응답코드: 200\n",
      "급식 데이터 수: 3\n",
      "8140197 태안여자고등학교\n",
      "급식 정보 조회 중: 날짜=20241030\n",
      "mealService 응답코드: 200\n",
      "급식 데이터 수: 3\n"
     ]
    },
    {
     "name": "stderr",
     "output_type": "stream",
     "text": [
      "[N10] 고등학교 급식 조회:  92%|█████▍| 108/118 [00:18<00:01,  5.76it/s]"
     ]
    },
    {
     "name": "stdout",
     "output_type": "stream",
     "text": [
      "8140461 한국K-POP고등학교\n",
      "급식 정보 조회 중: 날짜=20241030\n",
      "mealService 응답코드: 200\n",
      "급식 데이터 수: 3\n"
     ]
    },
    {
     "name": "stderr",
     "output_type": "stream",
     "text": [
      "[N10] 고등학교 급식 조회:  92%|█████▌| 109/118 [00:19<00:01,  5.65it/s]"
     ]
    },
    {
     "name": "stdout",
     "output_type": "stream",
     "text": [
      "8140377 한국식품마이스터고등학교\n",
      "급식 정보 조회 중: 날짜=20241030\n",
      "mealService 응답코드: 200\n",
      "급식 데이터 수: 3\n",
      "8140500 한올고등학교\n",
      "급식 정보 조회 중: 날짜=20241030\n"
     ]
    },
    {
     "name": "stderr",
     "output_type": "stream",
     "text": [
      "[N10] 고등학교 급식 조회:  93%|█████▌| 110/118 [00:19<00:01,  5.68it/s]"
     ]
    },
    {
     "name": "stdout",
     "output_type": "stream",
     "text": [
      "mealService 응답코드: 200\n",
      "mealServiceDietInfo 키 없음: {'RESULT': {'CODE': 'INFO-200', 'MESSAGE': '해당하는 데이터가 없습니다.'}}\n",
      "8140107 한일고등학교\n",
      "급식 정보 조회 중: 날짜=20241030\n",
      "mealService 응답코드: 200\n",
      "급식 데이터 수: 3\n"
     ]
    },
    {
     "name": "stderr",
     "output_type": "stream",
     "text": [
      "[N10] 고등학교 급식 조회:  95%|█████▋| 112/118 [00:19<00:01,  5.81it/s]"
     ]
    },
    {
     "name": "stdout",
     "output_type": "stream",
     "text": [
      "8140460 합덕고등학교\n",
      "급식 정보 조회 중: 날짜=20241030\n",
      "mealService 응답코드: 200\n",
      "급식 데이터 수: 3\n",
      "8140262 합덕제철고등학교\n",
      "급식 정보 조회 중: 날짜=20241030\n"
     ]
    },
    {
     "name": "stderr",
     "output_type": "stream",
     "text": [
      "[N10] 고등학교 급식 조회:  96%|█████▋| 113/118 [00:19<00:00,  5.95it/s]"
     ]
    },
    {
     "name": "stdout",
     "output_type": "stream",
     "text": [
      "mealService 응답코드: 200\n",
      "급식 데이터 수: 3\n",
      "8140108 호서고등학교\n",
      "급식 정보 조회 중: 날짜=20241030\n",
      "mealService 응답코드: 200\n",
      "급식 데이터 수: 2\n"
     ]
    },
    {
     "name": "stderr",
     "output_type": "stream",
     "text": [
      "[N10] 고등학교 급식 조회:  97%|█████▊| 115/118 [00:20<00:00,  5.63it/s]"
     ]
    },
    {
     "name": "stdout",
     "output_type": "stream",
     "text": [
      "8140077 홍성고등학교\n",
      "급식 정보 조회 중: 날짜=20241030\n",
      "mealService 응답코드: 200\n",
      "급식 데이터 수: 3\n"
     ]
    },
    {
     "name": "stderr",
     "output_type": "stream",
     "text": [
      "[N10] 고등학교 급식 조회:  98%|█████▉| 116/118 [00:20<00:00,  5.61it/s]"
     ]
    },
    {
     "name": "stdout",
     "output_type": "stream",
     "text": [
      "8140220 홍성공업고등학교\n",
      "급식 정보 조회 중: 날짜=20241030\n",
      "mealService 응답코드: 200\n",
      "급식 데이터 수: 3\n"
     ]
    },
    {
     "name": "stderr",
     "output_type": "stream",
     "text": [
      "[N10] 고등학교 급식 조회:  99%|█████▉| 117/118 [00:20<00:00,  5.73it/s]"
     ]
    },
    {
     "name": "stdout",
     "output_type": "stream",
     "text": [
      "8140078 홍성여자고등학교\n",
      "급식 정보 조회 중: 날짜=20241030\n",
      "mealService 응답코드: 200\n",
      "급식 데이터 수: 3\n",
      "8140109 홍주고등학교\n",
      "급식 정보 조회 중: 날짜=20241030\n"
     ]
    },
    {
     "name": "stderr",
     "output_type": "stream",
     "text": [
      "[N10] 고등학교 급식 조회: 100%|██████| 118/118 [00:20<00:00,  5.73it/s]"
     ]
    },
    {
     "name": "stdout",
     "output_type": "stream",
     "text": [
      "mealService 응답코드: 200\n",
      "급식 데이터 수: 3\n"
     ]
    },
    {
     "name": "stderr",
     "output_type": "stream",
     "text": [
      "\n"
     ]
    },
    {
     "name": "stdout",
     "output_type": "stream",
     "text": [
      "응답코드 : 200\n"
     ]
    },
    {
     "name": "stderr",
     "output_type": "stream",
     "text": [
      "[P10] 고등학교 급식 조회:   1%|        | 1/133 [00:00<00:24,  5.46it/s]"
     ]
    },
    {
     "name": "stdout",
     "output_type": "stream",
     "text": [
      "8321199 강호항공고등학교\n",
      "급식 정보 조회 중: 날짜=20241030\n",
      "mealService 응답코드: 200\n",
      "급식 데이터 수: 3\n",
      "8321168 고산고등학교\n",
      "급식 정보 조회 중: 날짜=20241030\n"
     ]
    },
    {
     "name": "stderr",
     "output_type": "stream",
     "text": [
      "[P10] 고등학교 급식 조회:   2%|        | 2/133 [00:00<00:23,  5.65it/s]"
     ]
    },
    {
     "name": "stdout",
     "output_type": "stream",
     "text": [
      "mealService 응답코드: 200\n",
      "급식 데이터 수: 3\n",
      "8321197 고창고등학교\n",
      "급식 정보 조회 중: 날짜=20241030\n",
      "mealService 응답코드: 200\n",
      "급식 데이터 수: 3\n"
     ]
    },
    {
     "name": "stderr",
     "output_type": "stream",
     "text": [
      "[P10] 고등학교 급식 조회:   3%|▏       | 4/133 [00:00<00:22,  5.64it/s]"
     ]
    },
    {
     "name": "stdout",
     "output_type": "stream",
     "text": [
      "8321200 고창북고등학교\n",
      "급식 정보 조회 중: 날짜=20241030\n",
      "mealService 응답코드: 200\n",
      "급식 데이터 수: 3\n",
      "8321107 군산고등학교\n",
      "급식 정보 조회 중: 날짜=20241030\n"
     ]
    },
    {
     "name": "stderr",
     "output_type": "stream",
     "text": [
      "[P10] 고등학교 급식 조회:   4%|▎       | 5/133 [00:00<00:22,  5.76it/s]"
     ]
    },
    {
     "name": "stdout",
     "output_type": "stream",
     "text": [
      "mealService 응답코드: 200\n",
      "급식 데이터 수: 3\n",
      "8321109 군산기계공업고등학교\n",
      "급식 정보 조회 중: 날짜=20241030\n",
      "mealService 응답코드: 200\n",
      "급식 데이터 수: 3\n"
     ]
    },
    {
     "name": "stderr",
     "output_type": "stream",
     "text": [
      "[P10] 고등학교 급식 조회:   5%|▍       | 7/133 [00:01<00:21,  5.81it/s]"
     ]
    },
    {
     "name": "stdout",
     "output_type": "stream",
     "text": [
      "8321111 군산동고등학교\n",
      "급식 정보 조회 중: 날짜=20241030\n",
      "mealService 응답코드: 200\n",
      "급식 데이터 수: 3\n",
      "8321110 군산상일고등학교\n",
      "급식 정보 조회 중: 날짜=20241030\n"
     ]
    },
    {
     "name": "stderr",
     "output_type": "stream",
     "text": [
      "[P10] 고등학교 급식 조회:   6%|▍       | 8/133 [00:01<00:21,  5.88it/s]"
     ]
    },
    {
     "name": "stdout",
     "output_type": "stream",
     "text": [
      "mealService 응답코드: 200\n",
      "급식 데이터 수: 2\n",
      "8321108 군산여자고등학교\n",
      "급식 정보 조회 중: 날짜=20241030\n",
      "mealService 응답코드: 200\n",
      "급식 데이터 수: 3\n"
     ]
    },
    {
     "name": "stderr",
     "output_type": "stream",
     "text": [
      "[P10] 고등학교 급식 조회:   8%|▌      | 10/133 [00:01<00:20,  5.97it/s]"
     ]
    },
    {
     "name": "stdout",
     "output_type": "stream",
     "text": [
      "8321112 군산여자상업고등학교\n",
      "급식 정보 조회 중: 날짜=20241030\n",
      "mealService 응답코드: 200\n",
      "급식 데이터 수: 1\n",
      "8321118 군산영광여자고등학교\n",
      "급식 정보 조회 중: 날짜=20241030\n"
     ]
    },
    {
     "name": "stderr",
     "output_type": "stream",
     "text": [
      "[P10] 고등학교 급식 조회:   8%|▌      | 11/133 [00:01<00:20,  6.01it/s]"
     ]
    },
    {
     "name": "stdout",
     "output_type": "stream",
     "text": [
      "mealService 응답코드: 200\n",
      "급식 데이터 수: 2\n",
      "8321115 군산제일고등학교\n",
      "급식 정보 조회 중: 날짜=20241030\n",
      "mealService 응답코드: 200\n",
      "급식 데이터 수: 3\n"
     ]
    },
    {
     "name": "stderr",
     "output_type": "stream",
     "text": [
      "[P10] 고등학교 급식 조회:  10%|▋      | 13/133 [00:02<00:19,  6.05it/s]"
     ]
    },
    {
     "name": "stdout",
     "output_type": "stream",
     "text": [
      "8321116 군산중앙고등학교\n",
      "급식 정보 조회 중: 날짜=20241030\n",
      "mealService 응답코드: 200\n",
      "급식 데이터 수: 3\n",
      "8321117 군산중앙여자고등학교\n",
      "급식 정보 조회 중: 날짜=20241030\n"
     ]
    },
    {
     "name": "stderr",
     "output_type": "stream",
     "text": [
      "[P10] 고등학교 급식 조회:  11%|▋      | 14/133 [00:02<00:19,  6.06it/s]"
     ]
    },
    {
     "name": "stdout",
     "output_type": "stream",
     "text": [
      "mealService 응답코드: 200\n",
      "급식 데이터 수: 3\n",
      "8321236 글로벌학산고등학교\n",
      "급식 정보 조회 중: 날짜=20241030\n",
      "mealService 응답코드: 200\n",
      "급식 데이터 수: 3\n"
     ]
    },
    {
     "name": "stderr",
     "output_type": "stream",
     "text": [
      "[P10] 고등학교 급식 조회:  12%|▊      | 16/133 [00:02<00:19,  6.03it/s]"
     ]
    },
    {
     "name": "stdout",
     "output_type": "stream",
     "text": [
      "8321158 김제고등학교\n",
      "급식 정보 조회 중: 날짜=20241030\n",
      "mealService 응답코드: 200\n",
      "급식 데이터 수: 1\n",
      "8321160 김제농생명마이스터고등학교\n",
      "급식 정보 조회 중: 날짜=20241030\n"
     ]
    },
    {
     "name": "stderr",
     "output_type": "stream",
     "text": [
      "[P10] 고등학교 급식 조회:  13%|▉      | 17/133 [00:02<00:19,  6.03it/s]"
     ]
    },
    {
     "name": "stdout",
     "output_type": "stream",
     "text": [
      "mealService 응답코드: 200\n",
      "급식 데이터 수: 3\n",
      "8321162 김제서고등학교\n",
      "급식 정보 조회 중: 날짜=20241030\n",
      "mealService 응답코드: 200\n",
      "급식 데이터 수: 1\n"
     ]
    },
    {
     "name": "stderr",
     "output_type": "stream",
     "text": [
      "[P10] 고등학교 급식 조회:  14%|█      | 19/133 [00:03<00:18,  6.08it/s]"
     ]
    },
    {
     "name": "stdout",
     "output_type": "stream",
     "text": [
      "8321159 김제여자고등학교\n",
      "급식 정보 조회 중: 날짜=20241030\n",
      "mealService 응답코드: 200\n",
      "급식 데이터 수: 3\n",
      "8321125 남성고등학교\n",
      "급식 정보 조회 중: 날짜=20241030\n"
     ]
    },
    {
     "name": "stderr",
     "output_type": "stream",
     "text": [
      "[P10] 고등학교 급식 조회:  15%|█      | 20/133 [00:03<00:18,  6.03it/s]"
     ]
    },
    {
     "name": "stdout",
     "output_type": "stream",
     "text": [
      "mealService 응답코드: 200\n",
      "급식 데이터 수: 3\n",
      "8321149 남원고등학교\n",
      "급식 정보 조회 중: 날짜=20241030\n",
      "mealService 응답코드: 200\n",
      "급식 데이터 수: 3\n"
     ]
    },
    {
     "name": "stderr",
     "output_type": "stream",
     "text": [
      "[P10] 고등학교 급식 조회:  17%|█▏     | 22/133 [00:03<00:18,  5.98it/s]"
     ]
    },
    {
     "name": "stdout",
     "output_type": "stream",
     "text": [
      "8321155 남원국악예술고등학교\n",
      "급식 정보 조회 중: 날짜=20241030\n",
      "mealService 응답코드: 200\n",
      "급식 데이터 수: 3\n",
      "8321154 남원서진여자고등학교\n",
      "급식 정보 조회 중: 날짜=20241030\n"
     ]
    },
    {
     "name": "stderr",
     "output_type": "stream",
     "text": [
      "[P10] 고등학교 급식 조회:  17%|█▏     | 23/133 [00:03<00:18,  5.96it/s]"
     ]
    },
    {
     "name": "stdout",
     "output_type": "stream",
     "text": [
      "mealService 응답코드: 200\n",
      "급식 데이터 수: 3\n",
      "8321150 남원여자고등학교\n",
      "급식 정보 조회 중: 날짜=20241030\n",
      "mealService 응답코드: 200\n",
      "급식 데이터 수: 3\n"
     ]
    },
    {
     "name": "stderr",
     "output_type": "stream",
     "text": [
      "[P10] 고등학교 급식 조회:  19%|█▎     | 25/133 [00:04<00:17,  6.04it/s]"
     ]
    },
    {
     "name": "stdout",
     "output_type": "stream",
     "text": [
      "8321151 남원용성고등학교\n",
      "급식 정보 조회 중: 날짜=20241030\n",
      "mealService 응답코드: 200\n",
      "급식 데이터 수: 1\n",
      "8321156 남원제일고등학교\n",
      "급식 정보 조회 중: 날짜=20241030\n"
     ]
    },
    {
     "name": "stderr",
     "output_type": "stream",
     "text": [
      "[P10] 고등학교 급식 조회:  20%|█▎     | 26/133 [00:04<00:17,  5.97it/s]"
     ]
    },
    {
     "name": "stdout",
     "output_type": "stream",
     "text": [
      "mealService 응답코드: 200\n",
      "급식 데이터 수: 3\n",
      "8321163 덕암고등학교\n",
      "급식 정보 조회 중: 날짜=20241030\n",
      "mealService 응답코드: 200\n",
      "급식 데이터 수: 2\n"
     ]
    },
    {
     "name": "stderr",
     "output_type": "stream",
     "text": [
      "[P10] 고등학교 급식 조회:  21%|█▍     | 28/133 [00:04<00:18,  5.81it/s]"
     ]
    },
    {
     "name": "stdout",
     "output_type": "stream",
     "text": [
      "8321164 덕암정보고등학교\n",
      "급식 정보 조회 중: 날짜=20241030\n",
      "mealService 응답코드: 200\n",
      "급식 데이터 수: 1\n"
     ]
    },
    {
     "name": "stderr",
     "output_type": "stream",
     "text": [
      "[P10] 고등학교 급식 조회:  22%|█▌     | 29/133 [00:04<00:17,  5.92it/s]"
     ]
    },
    {
     "name": "stdout",
     "output_type": "stream",
     "text": [
      "8321194 동계고등학교\n",
      "급식 정보 조회 중: 날짜=20241030\n",
      "mealService 응답코드: 200\n",
      "급식 데이터 수: 3\n",
      "8321161 동국대학교사범대학부속금산고등학교\n",
      "급식 정보 조회 중: 날짜=20241030\n"
     ]
    },
    {
     "name": "stderr",
     "output_type": "stream",
     "text": [
      "[P10] 고등학교 급식 조회:  23%|█▌     | 30/133 [00:05<00:17,  5.89it/s]"
     ]
    },
    {
     "name": "stdout",
     "output_type": "stream",
     "text": [
      "mealService 응답코드: 200\n",
      "mealServiceDietInfo 키 없음: {'RESULT': {'CODE': 'INFO-200', 'MESSAGE': '해당하는 데이터가 없습니다.'}}\n",
      "8321089 동암고등학교\n",
      "급식 정보 조회 중: 날짜=20241030\n",
      "mealService 응답코드: 200\n",
      "급식 데이터 수: 3\n"
     ]
    },
    {
     "name": "stderr",
     "output_type": "stream",
     "text": [
      "[P10] 고등학교 급식 조회:  24%|█▋     | 32/133 [00:05<00:17,  5.86it/s]"
     ]
    },
    {
     "name": "stdout",
     "output_type": "stream",
     "text": [
      "8321179 마령고등학교\n",
      "급식 정보 조회 중: 날짜=20241030\n",
      "mealService 응답코드: 200\n",
      "급식 데이터 수: 1\n",
      "8321165 만경고등학교\n",
      "급식 정보 조회 중: 날짜=20241030\n"
     ]
    },
    {
     "name": "stderr",
     "output_type": "stream",
     "text": [
      "[P10] 고등학교 급식 조회:  25%|█▋     | 33/133 [00:05<00:17,  5.66it/s]"
     ]
    },
    {
     "name": "stdout",
     "output_type": "stream",
     "text": [
      "mealService 응답코드: 200\n",
      "급식 데이터 수: 3\n",
      "8321166 만경여자고등학교\n",
      "급식 정보 조회 중: 날짜=20241030\n",
      "mealService 응답코드: 200\n",
      "급식 데이터 수: 1\n"
     ]
    },
    {
     "name": "stderr",
     "output_type": "stream",
     "text": [
      "[P10] 고등학교 급식 조회:  26%|█▊     | 35/133 [00:05<00:16,  5.85it/s]"
     ]
    },
    {
     "name": "stdout",
     "output_type": "stream",
     "text": [
      "8321184 무주고등학교\n",
      "급식 정보 조회 중: 날짜=20241030\n",
      "mealService 응답코드: 200\n",
      "급식 데이터 수: 3\n",
      "8321183 무풍고등학교\n",
      "급식 정보 조회 중: 날짜=20241030\n"
     ]
    },
    {
     "name": "stderr",
     "output_type": "stream",
     "text": [
      "[P10] 고등학교 급식 조회:  27%|█▉     | 36/133 [00:06<00:16,  5.81it/s]"
     ]
    },
    {
     "name": "stdout",
     "output_type": "stream",
     "text": [
      "mealService 응답코드: 200\n",
      "급식 데이터 수: 1\n",
      "8321140 배영고등학교\n",
      "급식 정보 조회 중: 날짜=20241030\n",
      "mealService 응답코드: 200\n",
      "급식 데이터 수: 3\n"
     ]
    },
    {
     "name": "stderr",
     "output_type": "stream",
     "text": [
      "[P10] 고등학교 급식 조회:  29%|██     | 38/133 [00:06<00:16,  5.68it/s]"
     ]
    },
    {
     "name": "stdout",
     "output_type": "stream",
     "text": [
      "8321208 백산고등학교\n",
      "급식 정보 조회 중: 날짜=20241030\n",
      "mealService 응답코드: 200\n",
      "급식 데이터 수: 2\n",
      "8321238 백화고등학교\n",
      "급식 정보 조회 중: 날짜=20241030\n"
     ]
    },
    {
     "name": "stderr",
     "output_type": "stream",
     "text": [
      "[P10] 고등학교 급식 조회:  29%|██     | 39/133 [00:06<00:16,  5.77it/s]"
     ]
    },
    {
     "name": "stdout",
     "output_type": "stream",
     "text": [
      "mealService 응답코드: 200\n",
      "급식 데이터 수: 3\n",
      "8321203 부안고등학교\n",
      "급식 정보 조회 중: 날짜=20241030\n",
      "mealService 응답코드: 200\n",
      "급식 데이터 수: 3\n"
     ]
    },
    {
     "name": "stderr",
     "output_type": "stream",
     "text": [
      "[P10] 고등학교 급식 조회:  31%|██▏    | 41/133 [00:06<00:15,  5.80it/s]"
     ]
    },
    {
     "name": "stdout",
     "output_type": "stream",
     "text": [
      "8321209 부안여자고등학교\n",
      "급식 정보 조회 중: 날짜=20241030\n",
      "mealService 응답코드: 200\n",
      "급식 데이터 수: 2\n",
      "8321188 산서고등학교\n",
      "급식 정보 조회 중: 날짜=20241030\n"
     ]
    },
    {
     "name": "stderr",
     "output_type": "stream",
     "text": [
      "[P10] 고등학교 급식 조회:  32%|██▏    | 42/133 [00:07<00:15,  5.87it/s]"
     ]
    },
    {
     "name": "stdout",
     "output_type": "stream",
     "text": [
      "mealService 응답코드: 200\n",
      "급식 데이터 수: 1\n",
      "8321090 상산고등학교\n",
      "급식 정보 조회 중: 날짜=20241030\n",
      "mealService 응답코드: 200\n",
      "급식 데이터 수: 3\n"
     ]
    },
    {
     "name": "stderr",
     "output_type": "stream",
     "text": [
      "[P10] 고등학교 급식 조회:  33%|██▎    | 44/133 [00:07<00:15,  5.74it/s]"
     ]
    },
    {
     "name": "stdout",
     "output_type": "stream",
     "text": [
      "8321207 서림고등학교\n",
      "급식 정보 조회 중: 날짜=20241030\n",
      "mealService 응답코드: 200\n",
      "급식 데이터 수: 3\n",
      "8321141 서영여자고등학교\n",
      "급식 정보 조회 중: 날짜=20241030\n"
     ]
    },
    {
     "name": "stderr",
     "output_type": "stream",
     "text": [
      "[P10] 고등학교 급식 조회:  34%|██▎    | 45/133 [00:07<00:15,  5.73it/s]"
     ]
    },
    {
     "name": "stdout",
     "output_type": "stream",
     "text": [
      "mealService 응답코드: 200\n",
      "급식 데이터 수: 3\n",
      "8321181 설천고등학교\n",
      "급식 정보 조회 중: 날짜=20241030\n",
      "mealService 응답코드: 200\n",
      "급식 데이터 수: 3\n"
     ]
    },
    {
     "name": "stderr",
     "output_type": "stream",
     "text": [
      "[P10] 고등학교 급식 조회:  35%|██▍    | 47/133 [00:08<00:14,  5.85it/s]"
     ]
    },
    {
     "name": "stdout",
     "output_type": "stream",
     "text": [
      "8321157 성원고등학교\n",
      "급식 정보 조회 중: 날짜=20241030\n",
      "mealService 응답코드: 200\n",
      "급식 데이터 수: 3\n",
      "8321126 성일고등학교\n",
      "급식 정보 조회 중: 날짜=20241030\n"
     ]
    },
    {
     "name": "stderr",
     "output_type": "stream",
     "text": [
      "[P10] 고등학교 급식 조회:  36%|██▌    | 48/133 [00:08<00:14,  5.88it/s]"
     ]
    },
    {
     "name": "stdout",
     "output_type": "stream",
     "text": [
      "mealService 응답코드: 200\n",
      "급식 데이터 수: 2\n",
      "8321172 세인고등학교\n",
      "급식 정보 조회 중: 날짜=20241030\n",
      "mealService 응답코드: 200\n",
      "급식 데이터 수: 3\n"
     ]
    },
    {
     "name": "stderr",
     "output_type": "stream",
     "text": [
      "[P10] 고등학교 급식 조회:  38%|██▋    | 50/133 [00:08<00:13,  6.03it/s]"
     ]
    },
    {
     "name": "stdout",
     "output_type": "stream",
     "text": [
      "8321268 수소에너지고등학교\n",
      "급식 정보 조회 중: 날짜=20241030\n",
      "mealService 응답코드: 200\n",
      "mealServiceDietInfo 키 없음: {'RESULT': {'CODE': 'INFO-200', 'MESSAGE': '해당하는 데이터가 없습니다.'}}\n",
      "8321196 순창고등학교\n",
      "급식 정보 조회 중: 날짜=20241030\n"
     ]
    },
    {
     "name": "stderr",
     "output_type": "stream",
     "text": [
      "[P10] 고등학교 급식 조회:  38%|██▋    | 51/133 [00:08<00:13,  5.90it/s]"
     ]
    },
    {
     "name": "stdout",
     "output_type": "stream",
     "text": [
      "mealService 응답코드: 200\n",
      "급식 데이터 수: 3\n",
      "8321195 순창제일고등학교\n",
      "급식 정보 조회 중: 날짜=20241030\n",
      "mealService 응답코드: 200\n",
      "급식 데이터 수: 1\n"
     ]
    },
    {
     "name": "stderr",
     "output_type": "stream",
     "text": [
      "[P10] 고등학교 급식 조회:  40%|██▊    | 53/133 [00:09<00:13,  5.94it/s]"
     ]
    },
    {
     "name": "stdout",
     "output_type": "stream",
     "text": [
      "8321142 신태인고등학교\n",
      "급식 정보 조회 중: 날짜=20241030\n",
      "mealService 응답코드: 200\n",
      "급식 데이터 수: 3\n",
      "8321182 안성고등학교\n",
      "급식 정보 조회 중: 날짜=20241030\n"
     ]
    },
    {
     "name": "stderr",
     "output_type": "stream",
     "text": [
      "[P10] 고등학교 급식 조회:  41%|██▊    | 54/133 [00:09<00:14,  5.64it/s]"
     ]
    },
    {
     "name": "stdout",
     "output_type": "stream",
     "text": [
      "mealService 응답코드: 200\n",
      "급식 데이터 수: 3\n",
      "8321178 안천고등학교\n",
      "급식 정보 조회 중: 날짜=20241030\n",
      "mealService 응답코드: 200\n",
      "급식 데이터 수: 1\n"
     ]
    },
    {
     "name": "stderr",
     "output_type": "stream",
     "text": [
      "[P10] 고등학교 급식 조회:  42%|██▉    | 56/133 [00:09<00:13,  5.76it/s]"
     ]
    },
    {
     "name": "stdout",
     "output_type": "stream",
     "text": [
      "8321083 양현고등학교\n",
      "급식 정보 조회 중: 날짜=20241030\n",
      "mealService 응답코드: 200\n",
      "급식 데이터 수: 3\n",
      "8321122 여산고등학교\n",
      "급식 정보 조회 중: 날짜=20241030\n"
     ]
    },
    {
     "name": "stderr",
     "output_type": "stream",
     "text": [
      "[P10] 고등학교 급식 조회:  43%|███    | 57/133 [00:09<00:13,  5.72it/s]"
     ]
    },
    {
     "name": "stdout",
     "output_type": "stream",
     "text": [
      "mealService 응답코드: 200\n",
      "급식 데이터 수: 1\n",
      "8321092 완산고등학교\n",
      "급식 정보 조회 중: 날짜=20241030\n",
      "mealService 응답코드: 200\n",
      "급식 데이터 수: 3\n"
     ]
    },
    {
     "name": "stderr",
     "output_type": "stream",
     "text": [
      "[P10] 고등학교 급식 조회:  44%|███    | 59/133 [00:10<00:13,  5.57it/s]"
     ]
    },
    {
     "name": "stdout",
     "output_type": "stream",
     "text": [
      "8321093 완산여자고등학교\n",
      "급식 정보 조회 중: 날짜=20241030\n",
      "mealService 응답코드: 200\n",
      "급식 데이터 수: 1\n"
     ]
    },
    {
     "name": "stderr",
     "output_type": "stream",
     "text": [
      "[P10] 고등학교 급식 조회:  45%|███▏   | 60/133 [00:10<00:13,  5.55it/s]"
     ]
    },
    {
     "name": "stdout",
     "output_type": "stream",
     "text": [
      "8321173 완주고등학교\n",
      "급식 정보 조회 중: 날짜=20241030\n",
      "mealService 응답코드: 200\n",
      "급식 데이터 수: 2\n",
      "8321143 왕신여자고등학교\n",
      "급식 정보 조회 중: 날짜=20241030\n"
     ]
    },
    {
     "name": "stderr",
     "output_type": "stream",
     "text": [
      "[P10] 고등학교 급식 조회:  46%|███▏   | 61/133 [00:10<00:12,  5.69it/s]"
     ]
    },
    {
     "name": "stdout",
     "output_type": "stream",
     "text": [
      "mealService 응답코드: 200\n",
      "급식 데이터 수: 2\n",
      "8321094 우석고등학교\n",
      "급식 정보 조회 중: 날짜=20241030\n",
      "mealService 응답코드: 200\n",
      "급식 데이터 수: 3\n"
     ]
    },
    {
     "name": "stderr",
     "output_type": "stream",
     "text": [
      "[P10] 고등학교 급식 조회:  47%|███▎   | 63/133 [00:10<00:12,  5.60it/s]"
     ]
    },
    {
     "name": "stdout",
     "output_type": "stream",
     "text": [
      "8321127 원광고등학교\n",
      "급식 정보 조회 중: 날짜=20241030\n",
      "mealService 응답코드: 200\n",
      "급식 데이터 수: 3\n"
     ]
    },
    {
     "name": "stderr",
     "output_type": "stream",
     "text": [
      "[P10] 고등학교 급식 조회:  48%|███▎   | 64/133 [00:10<00:12,  5.65it/s]"
     ]
    },
    {
     "name": "stdout",
     "output_type": "stream",
     "text": [
      "8321129 원광보건고등학교\n",
      "급식 정보 조회 중: 날짜=20241030\n",
      "mealService 응답코드: 200\n",
      "급식 데이터 수: 3\n",
      "8321128 원광여자고등학교\n",
      "급식 정보 조회 중: 날짜=20241030\n"
     ]
    },
    {
     "name": "stderr",
     "output_type": "stream",
     "text": [
      "[P10] 고등학교 급식 조회:  49%|███▍   | 65/133 [00:11<00:11,  5.80it/s]"
     ]
    },
    {
     "name": "stdout",
     "output_type": "stream",
     "text": [
      "mealService 응답코드: 200\n",
      "급식 데이터 수: 3\n",
      "8321205 위도고등학교\n",
      "급식 정보 조회 중: 날짜=20241030\n",
      "mealService 응답코드: 200\n",
      "급식 데이터 수: 1\n"
     ]
    },
    {
     "name": "stderr",
     "output_type": "stream",
     "text": [
      "[P10] 고등학교 급식 조회:  50%|███▌   | 67/133 [00:11<00:11,  5.78it/s]"
     ]
    },
    {
     "name": "stdout",
     "output_type": "stream",
     "text": [
      "8321095 유일여자고등학교\n",
      "급식 정보 조회 중: 날짜=20241030\n",
      "mealService 응답코드: 200\n",
      "급식 데이터 수: 2\n",
      "8321119 이리고등학교\n",
      "급식 정보 조회 중: 날짜=20241030\n"
     ]
    },
    {
     "name": "stderr",
     "output_type": "stream",
     "text": [
      "[P10] 고등학교 급식 조회:  51%|███▌   | 68/133 [00:11<00:11,  5.85it/s]"
     ]
    },
    {
     "name": "stdout",
     "output_type": "stream",
     "text": [
      "mealService 응답코드: 200\n",
      "급식 데이터 수: 3\n",
      "8321121 이리공업고등학교\n",
      "급식 정보 조회 중: 날짜=20241030\n",
      "mealService 응답코드: 200\n",
      "급식 데이터 수: 3\n"
     ]
    },
    {
     "name": "stderr",
     "output_type": "stream",
     "text": [
      "[P10] 고등학교 급식 조회:  53%|███▋   | 70/133 [00:11<00:10,  5.77it/s]"
     ]
    },
    {
     "name": "stdout",
     "output_type": "stream",
     "text": [
      "8321130 이리남성여자고등학교\n",
      "급식 정보 조회 중: 날짜=20241030\n",
      "mealService 응답코드: 200\n",
      "급식 데이터 수: 3\n"
     ]
    },
    {
     "name": "stderr",
     "output_type": "stream",
     "text": [
      "[P10] 고등학교 급식 조회:  53%|███▋   | 71/133 [00:12<00:10,  5.89it/s]"
     ]
    },
    {
     "name": "stdout",
     "output_type": "stream",
     "text": [
      "8321120 이리여자고등학교\n",
      "급식 정보 조회 중: 날짜=20241030\n",
      "mealService 응답코드: 200\n",
      "급식 데이터 수: 3\n",
      "8321131 이일여자고등학교\n",
      "급식 정보 조회 중: 날짜=20241030\n"
     ]
    },
    {
     "name": "stderr",
     "output_type": "stream",
     "text": [
      "[P10] 고등학교 급식 조회:  54%|███▊   | 72/133 [00:12<00:10,  5.91it/s]"
     ]
    },
    {
     "name": "stdout",
     "output_type": "stream",
     "text": [
      "mealService 응답코드: 200\n",
      "급식 데이터 수: 3\n",
      "8321132 익산고등학교\n",
      "급식 정보 조회 중: 날짜=20241030\n",
      "mealService 응답코드: 200\n",
      "급식 데이터 수: 3\n"
     ]
    },
    {
     "name": "stderr",
     "output_type": "stream",
     "text": [
      "[P10] 고등학교 급식 조회:  56%|███▉   | 74/133 [00:12<00:09,  5.90it/s]"
     ]
    },
    {
     "name": "stdout",
     "output_type": "stream",
     "text": [
      "8321144 인상고등학교\n",
      "급식 정보 조회 중: 날짜=20241030\n",
      "mealService 응답코드: 200\n",
      "급식 데이터 수: 2\n",
      "8321152 인월고등학교\n",
      "급식 정보 조회 중: 날짜=20241030\n"
     ]
    },
    {
     "name": "stderr",
     "output_type": "stream",
     "text": [
      "[P10] 고등학교 급식 조회:  56%|███▉   | 75/133 [00:12<00:09,  5.96it/s]"
     ]
    },
    {
     "name": "stdout",
     "output_type": "stream",
     "text": [
      "mealService 응답코드: 200\n",
      "급식 데이터 수: 1\n",
      "8321191 임실고등학교\n",
      "급식 정보 조회 중: 날짜=20241030\n",
      "mealService 응답코드: 200\n",
      "급식 데이터 수: 3\n"
     ]
    },
    {
     "name": "stderr",
     "output_type": "stream",
     "text": [
      "[P10] 고등학교 급식 조회:  58%|████   | 77/133 [00:13<00:09,  5.99it/s]"
     ]
    },
    {
     "name": "stdout",
     "output_type": "stream",
     "text": [
      "8321237 자유고등학교\n",
      "급식 정보 조회 중: 날짜=20241030\n",
      "mealService 응답코드: 200\n",
      "급식 데이터 수: 3\n",
      "8321186 장수고등학교\n",
      "급식 정보 조회 중: 날짜=20241030\n"
     ]
    },
    {
     "name": "stderr",
     "output_type": "stream",
     "text": [
      "[P10] 고등학교 급식 조회:  59%|████   | 78/133 [00:13<00:09,  5.96it/s]"
     ]
    },
    {
     "name": "stdout",
     "output_type": "stream",
     "text": [
      "mealService 응답코드: 200\n",
      "급식 데이터 수: 3\n",
      "8321080 전라고등학교\n",
      "급식 정보 조회 중: 날짜=20241030\n",
      "mealService 응답코드: 200\n",
      "급식 데이터 수: 2\n"
     ]
    },
    {
     "name": "stderr",
     "output_type": "stream",
     "text": [
      "[P10] 고등학교 급식 조회:  60%|████▏  | 80/133 [00:13<00:08,  6.03it/s]"
     ]
    },
    {
     "name": "stdout",
     "output_type": "stream",
     "text": [
      "8321124 전북과학고등학교\n",
      "급식 정보 조회 중: 날짜=20241030\n",
      "mealService 응답코드: 200\n",
      "급식 데이터 수: 3\n",
      "1421118 전북기계공업고등학교\n",
      "급식 정보 조회 중: 날짜=20241030\n"
     ]
    },
    {
     "name": "stderr",
     "output_type": "stream",
     "text": [
      "[P10] 고등학교 급식 조회:  61%|████▎  | 81/133 [00:13<00:08,  6.01it/s]"
     ]
    },
    {
     "name": "stdout",
     "output_type": "stream",
     "text": [
      "mealService 응답코드: 200\n",
      "급식 데이터 수: 3\n",
      "7003982 전북대학교사범대학부설고등학교\n",
      "급식 정보 조회 중: 날짜=20241030\n",
      "mealService 응답코드: 200\n",
      "급식 데이터 수: 3\n"
     ]
    },
    {
     "name": "stderr",
     "output_type": "stream",
     "text": [
      "[P10] 고등학교 급식 조회:  62%|████▎  | 83/133 [00:14<00:08,  5.58it/s]"
     ]
    },
    {
     "name": "stdout",
     "output_type": "stream",
     "text": [
      "8321235 전북베이커리고등학교\n",
      "급식 정보 조회 중: 날짜=20241030\n",
      "mealService 응답코드: 200\n",
      "급식 데이터 수: 2\n"
     ]
    },
    {
     "name": "stderr",
     "output_type": "stream",
     "text": [
      "[P10] 고등학교 급식 조회:  63%|████▍  | 84/133 [00:14<00:08,  5.61it/s]"
     ]
    },
    {
     "name": "stdout",
     "output_type": "stream",
     "text": [
      "8321096 전북여자고등학교\n",
      "급식 정보 조회 중: 날짜=20241030\n",
      "mealService 응답코드: 200\n",
      "급식 데이터 수: 3\n",
      "8321114 전북외국어고등학교\n",
      "급식 정보 조회 중: 날짜=20241030\n"
     ]
    },
    {
     "name": "stderr",
     "output_type": "stream",
     "text": [
      "[P10] 고등학교 급식 조회:  64%|████▍  | 85/133 [00:14<00:08,  5.81it/s]"
     ]
    },
    {
     "name": "stdout",
     "output_type": "stream",
     "text": [
      "mealService 응답코드: 200\n",
      "급식 데이터 수: 3\n",
      "8321187 전북유니텍고등학교\n",
      "급식 정보 조회 중: 날짜=20241030\n",
      "mealService 응답코드: 200\n",
      "급식 데이터 수: 3\n"
     ]
    },
    {
     "name": "stderr",
     "output_type": "stream",
     "text": [
      "[P10] 고등학교 급식 조회:  65%|████▌  | 87/133 [00:14<00:07,  6.00it/s]"
     ]
    },
    {
     "name": "stdout",
     "output_type": "stream",
     "text": [
      "8321270 전북인공지능고등학교\n",
      "급식 정보 조회 중: 날짜=20241030\n",
      "mealService 응답코드: 200\n",
      "mealServiceDietInfo 키 없음: {'RESULT': {'CODE': 'INFO-200', 'MESSAGE': '해당하는 데이터가 없습니다.'}}\n",
      "8321133 전북제일고등학교\n",
      "급식 정보 조회 중: 날짜=20241030\n"
     ]
    },
    {
     "name": "stderr",
     "output_type": "stream",
     "text": [
      "[P10] 고등학교 급식 조회:  66%|████▋  | 88/133 [00:15<00:07,  6.12it/s]"
     ]
    },
    {
     "name": "stdout",
     "output_type": "stream",
     "text": [
      "mealService 응답코드: 200\n",
      "급식 데이터 수: 3\n",
      "8321171 전북체육고등학교\n",
      "급식 정보 조회 중: 날짜=20241030\n",
      "mealService 응답코드: 200\n",
      "급식 데이터 수: 3\n"
     ]
    },
    {
     "name": "stderr",
     "output_type": "stream",
     "text": [
      "[P10] 고등학교 급식 조회:  68%|████▋  | 90/133 [00:15<00:07,  5.90it/s]"
     ]
    },
    {
     "name": "stdout",
     "output_type": "stream",
     "text": [
      "8321234 전북펫고등학교\n",
      "급식 정보 조회 중: 날짜=20241030\n",
      "mealService 응답코드: 200\n",
      "급식 데이터 수: 1\n",
      "8321097 전일고등학교\n",
      "급식 정보 조회 중: 날짜=20241030\n"
     ]
    },
    {
     "name": "stderr",
     "output_type": "stream",
     "text": [
      "[P10] 고등학교 급식 조회:  68%|████▊  | 91/133 [00:15<00:07,  5.69it/s]"
     ]
    },
    {
     "name": "stdout",
     "output_type": "stream",
     "text": [
      "mealService 응답코드: 200\n",
      "급식 데이터 수: 3\n",
      "8321079 전주고등학교\n",
      "급식 정보 조회 중: 날짜=20241030\n",
      "mealService 응답코드: 200\n",
      "급식 데이터 수: 3\n"
     ]
    },
    {
     "name": "stderr",
     "output_type": "stream",
     "text": [
      "[P10] 고등학교 급식 조회:  70%|████▉  | 93/133 [00:15<00:06,  5.74it/s]"
     ]
    },
    {
     "name": "stdout",
     "output_type": "stream",
     "text": [
      "8321088 전주공업고등학교\n",
      "급식 정보 조회 중: 날짜=20241030\n",
      "mealService 응답코드: 200\n",
      "급식 데이터 수: 3\n",
      "8321098 전주근영여자고등학교\n",
      "급식 정보 조회 중: 날짜=20241030\n"
     ]
    },
    {
     "name": "stderr",
     "output_type": "stream",
     "text": [
      "[P10] 고등학교 급식 조회:  71%|████▉  | 94/133 [00:16<00:06,  5.69it/s]"
     ]
    },
    {
     "name": "stdout",
     "output_type": "stream",
     "text": [
      "mealService 응답코드: 200\n",
      "급식 데이터 수: 3\n",
      "8321099 전주기전여자고등학교\n",
      "급식 정보 조회 중: 날짜=20241030\n",
      "mealService 응답코드: 200\n",
      "급식 데이터 수: 3\n"
     ]
    },
    {
     "name": "stderr",
     "output_type": "stream",
     "text": [
      "[P10] 고등학교 급식 조회:  72%|█████  | 96/133 [00:16<00:06,  5.81it/s]"
     ]
    },
    {
     "name": "stdout",
     "output_type": "stream",
     "text": [
      "8321091 전주대학교사범대학부설고등학교\n",
      "급식 정보 조회 중: 날짜=20241030\n",
      "mealService 응답코드: 200\n",
      "급식 데이터 수: 3\n",
      "8321087 전주상업정보고등학교\n",
      "급식 정보 조회 중: 날짜=20241030\n"
     ]
    },
    {
     "name": "stderr",
     "output_type": "stream",
     "text": [
      "[P10] 고등학교 급식 조회:  73%|█████  | 97/133 [00:16<00:06,  5.60it/s]"
     ]
    },
    {
     "name": "stdout",
     "output_type": "stream",
     "text": [
      "mealService 응답코드: 200\n",
      "급식 데이터 수: 1\n",
      "8321085 전주생명과학고등학교\n",
      "급식 정보 조회 중: 날짜=20241030\n",
      "mealService 응답코드: 200\n",
      "급식 데이터 수: 1\n"
     ]
    },
    {
     "name": "stderr",
     "output_type": "stream",
     "text": [
      "[P10] 고등학교 급식 조회:  74%|█████▏ | 99/133 [00:16<00:06,  5.59it/s]"
     ]
    },
    {
     "name": "stdout",
     "output_type": "stream",
     "text": [
      "8321100 전주성심여자고등학교\n",
      "급식 정보 조회 중: 날짜=20241030\n",
      "mealService 응답코드: 200\n",
      "급식 데이터 수: 2\n"
     ]
    },
    {
     "name": "stderr",
     "output_type": "stream",
     "text": [
      "[P10] 고등학교 급식 조회:  75%|████▌ | 100/133 [00:17<00:05,  5.51it/s]"
     ]
    },
    {
     "name": "stdout",
     "output_type": "stream",
     "text": [
      "8321082 전주솔내고등학교\n",
      "급식 정보 조회 중: 날짜=20241030\n",
      "mealService 응답코드: 200\n",
      "급식 데이터 수: 3\n"
     ]
    },
    {
     "name": "stderr",
     "output_type": "stream",
     "text": [
      "[P10] 고등학교 급식 조회:  76%|████▌ | 101/133 [00:17<00:05,  5.55it/s]"
     ]
    },
    {
     "name": "stdout",
     "output_type": "stream",
     "text": [
      "8321101 전주신흥고등학교\n",
      "급식 정보 조회 중: 날짜=20241030\n",
      "mealService 응답코드: 200\n",
      "급식 데이터 수: 3\n",
      "8321081 전주여자고등학교\n",
      "급식 정보 조회 중: 날짜=20241030\n"
     ]
    },
    {
     "name": "stderr",
     "output_type": "stream",
     "text": [
      "[P10] 고등학교 급식 조회:  77%|████▌ | 102/133 [00:17<00:05,  5.65it/s]"
     ]
    },
    {
     "name": "stdout",
     "output_type": "stream",
     "text": [
      "mealService 응답코드: 200\n",
      "급식 데이터 수: 3\n",
      "8321102 전주영생고등학교\n",
      "급식 정보 조회 중: 날짜=20241030\n",
      "mealService 응답코드: 200\n",
      "급식 데이터 수: 1\n"
     ]
    },
    {
     "name": "stderr",
     "output_type": "stream",
     "text": [
      "[P10] 고등학교 급식 조회:  78%|████▋ | 104/133 [00:17<00:04,  5.92it/s]"
     ]
    },
    {
     "name": "stdout",
     "output_type": "stream",
     "text": [
      "8321174 전주예술고등학교\n",
      "급식 정보 조회 중: 날짜=20241030\n",
      "mealService 응답코드: 200\n",
      "급식 데이터 수: 3\n",
      "8321086 전주제일고등학교\n",
      "급식 정보 조회 중: 날짜=20241030\n"
     ]
    },
    {
     "name": "stderr",
     "output_type": "stream",
     "text": [
      "[P10] 고등학교 급식 조회:  79%|████▋ | 105/133 [00:17<00:04,  6.01it/s]"
     ]
    },
    {
     "name": "stdout",
     "output_type": "stream",
     "text": [
      "mealService 응답코드: 200\n",
      "급식 데이터 수: 3\n",
      "8321103 전주중앙여자고등학교\n",
      "급식 정보 조회 중: 날짜=20241030\n",
      "mealService 응답코드: 200\n",
      "급식 데이터 수: 2\n"
     ]
    },
    {
     "name": "stderr",
     "output_type": "stream",
     "text": [
      "[P10] 고등학교 급식 조회:  80%|████▊ | 107/133 [00:18<00:04,  6.01it/s]"
     ]
    },
    {
     "name": "stdout",
     "output_type": "stream",
     "text": [
      "8321104 전주한일고등학교\n",
      "급식 정보 조회 중: 날짜=20241030\n",
      "mealService 응답코드: 200\n",
      "급식 데이터 수: 3\n",
      "8321105 전주해성고등학교\n",
      "급식 정보 조회 중: 날짜=20241030\n"
     ]
    },
    {
     "name": "stderr",
     "output_type": "stream",
     "text": [
      "[P10] 고등학교 급식 조회:  81%|████▊ | 108/133 [00:18<00:04,  5.80it/s]"
     ]
    },
    {
     "name": "stdout",
     "output_type": "stream",
     "text": [
      "mealService 응답코드: 200\n",
      "급식 데이터 수: 3\n",
      "8321136 정읍고등학교\n",
      "급식 정보 조회 중: 날짜=20241030\n",
      "mealService 응답코드: 200\n",
      "급식 데이터 수: 3\n"
     ]
    },
    {
     "name": "stderr",
     "output_type": "stream",
     "text": [
      "[P10] 고등학교 급식 조회:  83%|████▉ | 110/133 [00:18<00:03,  5.80it/s]"
     ]
    },
    {
     "name": "stdout",
     "output_type": "stream",
     "text": [
      "8321137 정읍여자고등학교\n",
      "급식 정보 조회 중: 날짜=20241030\n",
      "mealService 응답코드: 200\n",
      "급식 데이터 수: 3\n",
      "8321138 정읍제일고등학교\n",
      "급식 정보 조회 중: 날짜=20241030\n"
     ]
    },
    {
     "name": "stderr",
     "output_type": "stream",
     "text": [
      "[P10] 고등학교 급식 조회:  83%|█████ | 111/133 [00:19<00:03,  5.91it/s]"
     ]
    },
    {
     "name": "stdout",
     "output_type": "stream",
     "text": [
      "mealService 응답코드: 200\n",
      "급식 데이터 수: 1\n",
      "8321145 정주고등학교\n",
      "급식 정보 조회 중: 날짜=20241030\n",
      "mealService 응답코드: 200\n",
      "mealServiceDietInfo 키 없음: {'RESULT': {'CODE': 'INFO-200', 'MESSAGE': '해당하는 데이터가 없습니다.'}}\n"
     ]
    },
    {
     "name": "stderr",
     "output_type": "stream",
     "text": [
      "[P10] 고등학교 급식 조회:  85%|█████ | 113/133 [00:19<00:03,  5.99it/s]"
     ]
    },
    {
     "name": "stdout",
     "output_type": "stream",
     "text": [
      "8321204 줄포자동차공업고등학교\n",
      "급식 정보 조회 중: 날짜=20241030\n",
      "mealService 응답코드: 200\n",
      "급식 데이터 수: 3\n",
      "8321167 지평선고등학교\n",
      "급식 정보 조회 중: 날짜=20241030\n"
     ]
    },
    {
     "name": "stderr",
     "output_type": "stream",
     "text": [
      "[P10] 고등학교 급식 조회:  86%|█████▏| 114/133 [00:19<00:03,  5.93it/s]"
     ]
    },
    {
     "name": "stdout",
     "output_type": "stream",
     "text": [
      "mealService 응답코드: 200\n",
      "급식 데이터 수: 3\n",
      "8321134 진경여자고등학교\n",
      "급식 정보 조회 중: 날짜=20241030\n",
      "mealService 응답코드: 200\n",
      "급식 데이터 수: 1\n"
     ]
    },
    {
     "name": "stderr",
     "output_type": "stream",
     "text": [
      "[P10] 고등학교 급식 조회:  87%|█████▏| 116/133 [00:19<00:02,  6.01it/s]"
     ]
    },
    {
     "name": "stdout",
     "output_type": "stream",
     "text": [
      "8321177 진안제일고등학교\n",
      "급식 정보 조회 중: 날짜=20241030\n",
      "mealService 응답코드: 200\n",
      "급식 데이터 수: 3\n",
      "8321139 칠보고등학교\n",
      "급식 정보 조회 중: 날짜=20241030\n"
     ]
    },
    {
     "name": "stderr",
     "output_type": "stream",
     "text": [
      "[P10] 고등학교 급식 조회:  88%|█████▎| 117/133 [00:20<00:02,  6.05it/s]"
     ]
    },
    {
     "name": "stdout",
     "output_type": "stream",
     "text": [
      "mealService 응답코드: 200\n",
      "급식 데이터 수: 1\n",
      "8321146 태인고등학교\n",
      "급식 정보 조회 중: 날짜=20241030\n",
      "mealService 응답코드: 200\n",
      "급식 데이터 수: 3\n"
     ]
    },
    {
     "name": "stderr",
     "output_type": "stream",
     "text": [
      "[P10] 고등학교 급식 조회:  89%|█████▎| 119/133 [00:20<00:02,  6.06it/s]"
     ]
    },
    {
     "name": "stdout",
     "output_type": "stream",
     "text": [
      "8321185 푸른꿈고등학교\n",
      "급식 정보 조회 중: 날짜=20241030\n",
      "mealService 응답코드: 200\n",
      "급식 데이터 수: 3\n",
      "8321175 한국게임과학고등학교\n",
      "급식 정보 조회 중: 날짜=20241030\n"
     ]
    },
    {
     "name": "stderr",
     "output_type": "stream",
     "text": [
      "[P10] 고등학교 급식 조회:  90%|█████▍| 120/133 [00:20<00:02,  5.94it/s]"
     ]
    },
    {
     "name": "stdout",
     "output_type": "stream",
     "text": [
      "mealService 응답코드: 200\n",
      "급식 데이터 수: 3\n",
      "8321153 한국경마축산고등학교\n",
      "급식 정보 조회 중: 날짜=20241030\n",
      "mealService 응답코드: 200\n",
      "급식 데이터 수: 3\n"
     ]
    },
    {
     "name": "stderr",
     "output_type": "stream",
     "text": [
      "[P10] 고등학교 급식 조회:  92%|█████▌| 122/133 [00:20<00:01,  5.87it/s]"
     ]
    },
    {
     "name": "stdout",
     "output_type": "stream",
     "text": [
      "8321233 한국기술부사관고등학교\n",
      "급식 정보 조회 중: 날짜=20241030\n",
      "mealService 응답코드: 200\n",
      "급식 데이터 수: 3\n",
      "8321190 한국마사고등학교\n",
      "급식 정보 조회 중: 날짜=20241030\n"
     ]
    },
    {
     "name": "stderr",
     "output_type": "stream",
     "text": [
      "[P10] 고등학교 급식 조회:  92%|█████▌| 123/133 [00:21<00:01,  5.93it/s]"
     ]
    },
    {
     "name": "stdout",
     "output_type": "stream",
     "text": [
      "mealService 응답코드: 200\n",
      "급식 데이터 수: 3\n",
      "8321084 한국전통문화고등학교\n",
      "급식 정보 조회 중: 날짜=20241030\n",
      "mealService 응답코드: 200\n",
      "급식 데이터 수: 3\n"
     ]
    },
    {
     "name": "stderr",
     "output_type": "stream",
     "text": [
      "[P10] 고등학교 급식 조회:  94%|█████▋| 125/133 [00:21<00:01,  5.94it/s]"
     ]
    },
    {
     "name": "stdout",
     "output_type": "stream",
     "text": [
      "8321193 한국치즈과학고등학교\n",
      "급식 정보 조회 중: 날짜=20241030\n",
      "mealService 응답코드: 200\n",
      "급식 데이터 수: 3\n",
      "8321180 한국한방고등학교\n",
      "급식 정보 조회 중: 날짜=20241030\n"
     ]
    },
    {
     "name": "stderr",
     "output_type": "stream",
     "text": [
      "[P10] 고등학교 급식 조회:  95%|█████▋| 126/133 [00:21<00:01,  6.06it/s]"
     ]
    },
    {
     "name": "stdout",
     "output_type": "stream",
     "text": [
      "mealService 응답코드: 200\n",
      "급식 데이터 수: 3\n",
      "8321113 한들고등학교\n",
      "급식 정보 조회 중: 날짜=20241030\n",
      "mealService 응답코드: 200\n",
      "급식 데이터 수: 1\n"
     ]
    },
    {
     "name": "stderr",
     "output_type": "stream",
     "text": [
      "[P10] 고등학교 급식 조회:  96%|█████▊| 128/133 [00:21<00:00,  6.13it/s]"
     ]
    },
    {
     "name": "stdout",
     "output_type": "stream",
     "text": [
      "8321169 한별고등학교\n",
      "급식 정보 조회 중: 날짜=20241030\n",
      "mealService 응답코드: 200\n",
      "급식 데이터 수: 3\n",
      "8321123 함열고등학교\n",
      "급식 정보 조회 중: 날짜=20241030\n"
     ]
    },
    {
     "name": "stderr",
     "output_type": "stream",
     "text": [
      "[P10] 고등학교 급식 조회:  97%|█████▊| 129/133 [00:22<00:00,  6.05it/s]"
     ]
    },
    {
     "name": "stdout",
     "output_type": "stream",
     "text": [
      "mealService 응답코드: 200\n",
      "급식 데이터 수: 1\n",
      "8321135 함열여자고등학교\n",
      "급식 정보 조회 중: 날짜=20241030\n",
      "mealService 응답코드: 200\n",
      "급식 데이터 수: 3\n"
     ]
    },
    {
     "name": "stderr",
     "output_type": "stream",
     "text": [
      "[P10] 고등학교 급식 조회:  98%|█████▉| 131/133 [00:22<00:00,  6.06it/s]"
     ]
    },
    {
     "name": "stdout",
     "output_type": "stream",
     "text": [
      "8321198 해리고등학교\n",
      "급식 정보 조회 중: 날짜=20241030\n",
      "mealService 응답코드: 200\n",
      "급식 데이터 수: 1\n",
      "8321148 호남고등학교\n",
      "급식 정보 조회 중: 날짜=20241030\n"
     ]
    },
    {
     "name": "stderr",
     "output_type": "stream",
     "text": [
      "[P10] 고등학교 급식 조회:  99%|█████▉| 132/133 [00:22<00:00,  5.74it/s]"
     ]
    },
    {
     "name": "stdout",
     "output_type": "stream",
     "text": [
      "mealService 응답코드: 200\n",
      "급식 데이터 수: 3\n",
      "8321106 호남제일고등학교\n",
      "급식 정보 조회 중: 날짜=20241030\n",
      "mealService 응답코드: 200\n",
      "급식 데이터 수: 3\n"
     ]
    },
    {
     "name": "stderr",
     "output_type": "stream",
     "text": [
      "[P10] 고등학교 급식 조회: 100%|██████| 133/133 [00:22<00:00,  5.86it/s]\n"
     ]
    },
    {
     "name": "stdout",
     "output_type": "stream",
     "text": [
      "응답코드 : 200\n"
     ]
    },
    {
     "name": "stderr",
     "output_type": "stream",
     "text": [
      "[Q10] 고등학교 급식 조회:   1%|        | 1/143 [00:00<00:23,  6.05it/s]"
     ]
    },
    {
     "name": "stdout",
     "output_type": "stream",
     "text": [
      "8490032 강진고등학교\n",
      "급식 정보 조회 중: 날짜=20241030\n",
      "mealService 응답코드: 200\n",
      "급식 데이터 수: 3\n",
      "8490245 고금고등학교\n",
      "급식 정보 조회 중: 날짜=20241030\n"
     ]
    },
    {
     "name": "stderr",
     "output_type": "stream",
     "text": [
      "[Q10] 고등학교 급식 조회:   1%|        | 2/143 [00:00<00:24,  5.79it/s]"
     ]
    },
    {
     "name": "stdout",
     "output_type": "stream",
     "text": [
      "mealService 응답코드: 200\n",
      "급식 데이터 수: 2\n",
      "8490033 고흥고등학교\n",
      "급식 정보 조회 중: 날짜=20241030\n",
      "mealService 응답코드: 200\n",
      "급식 데이터 수: 3\n"
     ]
    },
    {
     "name": "stderr",
     "output_type": "stream",
     "text": [
      "[Q10] 고등학교 급식 조회:   3%|▏       | 4/143 [00:00<00:25,  5.40it/s]"
     ]
    },
    {
     "name": "stdout",
     "output_type": "stream",
     "text": [
      "8490222 고흥도화고등학교\n",
      "급식 정보 조회 중: 날짜=20241030\n",
      "mealService 응답코드: 200\n",
      "급식 데이터 수: 3\n"
     ]
    },
    {
     "name": "stderr",
     "output_type": "stream",
     "text": [
      "[Q10] 고등학교 급식 조회:   3%|▎       | 5/143 [00:00<00:25,  5.49it/s]"
     ]
    },
    {
     "name": "stdout",
     "output_type": "stream",
     "text": [
      "8490323 고흥산업과학고등학교\n",
      "급식 정보 조회 중: 날짜=20241030\n",
      "mealService 응답코드: 200\n",
      "급식 데이터 수: 3\n",
      "8490035 곡성고등학교\n",
      "급식 정보 조회 중: 날짜=20241030\n"
     ]
    },
    {
     "name": "stderr",
     "output_type": "stream",
     "text": [
      "[Q10] 고등학교 급식 조회:   4%|▎       | 6/143 [00:01<00:24,  5.61it/s]"
     ]
    },
    {
     "name": "stdout",
     "output_type": "stream",
     "text": [
      "mealService 응답코드: 200\n",
      "급식 데이터 수: 3\n",
      "8490077 광남고등학교\n",
      "급식 정보 조회 중: 날짜=20241030\n",
      "mealService 응답코드: 200\n",
      "급식 데이터 수: 3\n"
     ]
    },
    {
     "name": "stderr",
     "output_type": "stream",
     "text": [
      "[Q10] 고등학교 급식 조회:   6%|▍       | 8/143 [00:01<00:23,  5.67it/s]"
     ]
    },
    {
     "name": "stdout",
     "output_type": "stream",
     "text": [
      "8490037 광양고등학교\n",
      "급식 정보 조회 중: 날짜=20241030\n",
      "mealService 응답코드: 200\n",
      "급식 데이터 수: 3\n"
     ]
    },
    {
     "name": "stderr",
     "output_type": "stream",
     "text": [
      "[Q10] 고등학교 급식 조회:   6%|▌       | 9/143 [00:01<00:23,  5.73it/s]"
     ]
    },
    {
     "name": "stdout",
     "output_type": "stream",
     "text": [
      "8490243 광양백운고등학교\n",
      "급식 정보 조회 중: 날짜=20241030\n",
      "mealService 응답코드: 200\n",
      "급식 데이터 수: 3\n",
      "8490038 광양여자고등학교\n",
      "급식 정보 조회 중: 날짜=20241030\n"
     ]
    },
    {
     "name": "stderr",
     "output_type": "stream",
     "text": [
      "[Q10] 고등학교 급식 조회:   7%|▍      | 10/143 [00:01<00:22,  5.82it/s]"
     ]
    },
    {
     "name": "stdout",
     "output_type": "stream",
     "text": [
      "mealService 응답코드: 200\n",
      "급식 데이터 수: 3\n",
      "8490078 광양제철고등학교\n",
      "급식 정보 조회 중: 날짜=20241030\n",
      "mealService 응답코드: 200\n",
      "급식 데이터 수: 3\n"
     ]
    },
    {
     "name": "stderr",
     "output_type": "stream",
     "text": [
      "[Q10] 고등학교 급식 조회:   8%|▌      | 12/143 [00:02<00:22,  5.89it/s]"
     ]
    },
    {
     "name": "stdout",
     "output_type": "stream",
     "text": [
      "8490433 광양하이텍고등학교\n",
      "급식 정보 조회 중: 날짜=20241030\n",
      "mealService 응답코드: 200\n",
      "급식 데이터 수: 1\n",
      "8490299 광영고등학교\n",
      "급식 정보 조회 중: 날짜=20241030\n"
     ]
    },
    {
     "name": "stderr",
     "output_type": "stream",
     "text": [
      "[Q10] 고등학교 급식 조회:   9%|▋      | 13/143 [00:02<00:22,  5.89it/s]"
     ]
    },
    {
     "name": "stdout",
     "output_type": "stream",
     "text": [
      "mealService 응답코드: 200\n",
      "급식 데이터 수: 3\n",
      "8490039 구례고등학교\n",
      "급식 정보 조회 중: 날짜=20241030\n",
      "mealService 응답코드: 200\n",
      "급식 데이터 수: 3\n"
     ]
    },
    {
     "name": "stderr",
     "output_type": "stream",
     "text": [
      "[Q10] 고등학교 급식 조회:  10%|▋      | 15/143 [00:02<00:21,  5.92it/s]"
     ]
    },
    {
     "name": "stdout",
     "output_type": "stream",
     "text": [
      "8490120 구림공업고등학교\n",
      "급식 정보 조회 중: 날짜=20241030\n",
      "mealService 응답코드: 200\n",
      "급식 데이터 수: 3\n",
      "8490079 금성고등학교\n",
      "급식 정보 조회 중: 날짜=20241030\n"
     ]
    },
    {
     "name": "stderr",
     "output_type": "stream",
     "text": [
      "[Q10] 고등학교 급식 조회:  11%|▊      | 16/143 [00:02<00:22,  5.67it/s]"
     ]
    },
    {
     "name": "stdout",
     "output_type": "stream",
     "text": [
      "mealService 응답코드: 200\n",
      "급식 데이터 수: 3\n",
      "8490040 나주고등학교\n",
      "급식 정보 조회 중: 날짜=20241030\n",
      "mealService 응답코드: 200\n",
      "급식 데이터 수: 3\n"
     ]
    },
    {
     "name": "stderr",
     "output_type": "stream",
     "text": [
      "[Q10] 고등학교 급식 조회:  13%|▉      | 18/143 [00:03<00:22,  5.61it/s]"
     ]
    },
    {
     "name": "stdout",
     "output_type": "stream",
     "text": [
      "8490169 나주공업고등학교\n",
      "급식 정보 조회 중: 날짜=20241030\n",
      "mealService 응답코드: 200\n",
      "급식 데이터 수: 3\n",
      "8490373 나주상업고등학교\n",
      "급식 정보 조회 중: 날짜=20241030\n"
     ]
    },
    {
     "name": "stderr",
     "output_type": "stream",
     "text": [
      "[Q10] 고등학교 급식 조회:  13%|▉      | 19/143 [00:03<00:21,  5.68it/s]"
     ]
    },
    {
     "name": "stdout",
     "output_type": "stream",
     "text": [
      "mealService 응답코드: 200\n",
      "급식 데이터 수: 3\n",
      "8490301 남악고등학교\n",
      "급식 정보 조회 중: 날짜=20241030\n",
      "mealService 응답코드: 200\n",
      "급식 데이터 수: 2\n"
     ]
    },
    {
     "name": "stderr",
     "output_type": "stream",
     "text": [
      "[Q10] 고등학교 급식 조회:  15%|█      | 21/143 [00:03<00:21,  5.80it/s]"
     ]
    },
    {
     "name": "stdout",
     "output_type": "stream",
     "text": [
      "8490289 노화고등학교\n",
      "급식 정보 조회 중: 날짜=20241030\n",
      "mealService 응답코드: 200\n",
      "급식 데이터 수: 3\n",
      "8490270 녹동고등학교\n",
      "급식 정보 조회 중: 날짜=20241030\n"
     ]
    },
    {
     "name": "stderr",
     "output_type": "stream",
     "text": [
      "[Q10] 고등학교 급식 조회:  15%|█      | 22/143 [00:03<00:20,  5.85it/s]"
     ]
    },
    {
     "name": "stdout",
     "output_type": "stream",
     "text": [
      "mealService 응답코드: 200\n",
      "급식 데이터 수: 3\n",
      "8490081 능주고등학교\n",
      "급식 정보 조회 중: 날짜=20241030\n",
      "mealService 응답코드: 200\n",
      "급식 데이터 수: 3\n"
     ]
    },
    {
     "name": "stderr",
     "output_type": "stream",
     "text": [
      "[Q10] 고등학교 급식 조회:  17%|█▏     | 24/143 [00:04<00:20,  5.92it/s]"
     ]
    },
    {
     "name": "stdout",
     "output_type": "stream",
     "text": [
      "8490375 다향고등학교\n",
      "급식 정보 조회 중: 날짜=20241030\n",
      "mealService 응답코드: 200\n",
      "급식 데이터 수: 3\n",
      "8490209 담양고등학교\n",
      "급식 정보 조회 중: 날짜=20241030\n"
     ]
    },
    {
     "name": "stderr",
     "output_type": "stream",
     "text": [
      "[Q10] 고등학교 급식 조회:  17%|█▏     | 25/143 [00:04<00:20,  5.83it/s]"
     ]
    },
    {
     "name": "stdout",
     "output_type": "stream",
     "text": [
      "mealService 응답코드: 200\n",
      "급식 데이터 수: 3\n",
      "8490124 담양공업고등학교\n",
      "급식 정보 조회 중: 날짜=20241030\n",
      "mealService 응답코드: 200\n",
      "급식 데이터 수: 3\n"
     ]
    },
    {
     "name": "stderr",
     "output_type": "stream",
     "text": [
      "[Q10] 고등학교 급식 조회:  19%|█▎     | 27/143 [00:04<00:19,  5.90it/s]"
     ]
    },
    {
     "name": "stdout",
     "output_type": "stream",
     "text": [
      "8490041 도초고등학교\n",
      "급식 정보 조회 중: 날짜=20241030\n",
      "mealService 응답코드: 200\n",
      "급식 데이터 수: 3\n",
      "8490320 매성고등학교\n",
      "급식 정보 조회 중: 날짜=20241030\n"
     ]
    },
    {
     "name": "stderr",
     "output_type": "stream",
     "text": [
      "[Q10] 고등학교 급식 조회:  20%|█▎     | 28/143 [00:04<00:20,  5.72it/s]"
     ]
    },
    {
     "name": "stdout",
     "output_type": "stream",
     "text": [
      "mealService 응답코드: 200\n",
      "급식 데이터 수: 2\n",
      "8490425 목상고등학교\n",
      "급식 정보 조회 중: 날짜=20241030\n",
      "mealService 응답코드: 200\n",
      "급식 데이터 수: 1\n"
     ]
    },
    {
     "name": "stderr",
     "output_type": "stream",
     "text": [
      "[Q10] 고등학교 급식 조회:  21%|█▍     | 30/143 [00:05<00:19,  5.92it/s]"
     ]
    },
    {
     "name": "stdout",
     "output_type": "stream",
     "text": [
      "8490043 목포고등학교\n",
      "급식 정보 조회 중: 날짜=20241030\n",
      "mealService 응답코드: 200\n",
      "급식 데이터 수: 3\n",
      "8490287 목포공업고등학교\n",
      "급식 정보 조회 중: 날짜=20241030\n"
     ]
    },
    {
     "name": "stderr",
     "output_type": "stream",
     "text": [
      "[Q10] 고등학교 급식 조회:  22%|█▌     | 31/143 [00:05<00:19,  5.84it/s]"
     ]
    },
    {
     "name": "stdout",
     "output_type": "stream",
     "text": [
      "mealService 응답코드: 200\n",
      "급식 데이터 수: 3\n",
      "8490082 목포덕인고등학교\n",
      "급식 정보 조회 중: 날짜=20241030\n",
      "mealService 응답코드: 200\n",
      "급식 데이터 수: 3\n"
     ]
    },
    {
     "name": "stderr",
     "output_type": "stream",
     "text": [
      "[Q10] 고등학교 급식 조회:  23%|█▌     | 33/143 [00:05<00:19,  5.71it/s]"
     ]
    },
    {
     "name": "stdout",
     "output_type": "stream",
     "text": [
      "8490083 목포마리아회고등학교\n",
      "급식 정보 조회 중: 날짜=20241030\n",
      "mealService 응답코드: 200\n",
      "급식 데이터 수: 3\n",
      "8490236 목포성신고등학교\n",
      "급식 정보 조회 중: 날짜=20241030\n"
     ]
    },
    {
     "name": "stderr",
     "output_type": "stream",
     "text": [
      "[Q10] 고등학교 급식 조회:  24%|█▋     | 34/143 [00:05<00:18,  5.80it/s]"
     ]
    },
    {
     "name": "stdout",
     "output_type": "stream",
     "text": [
      "mealService 응답코드: 200\n",
      "급식 데이터 수: 1\n",
      "8490044 목포여자고등학교\n",
      "급식 정보 조회 중: 날짜=20241030\n",
      "mealService 응답코드: 200\n",
      "급식 데이터 수: 1\n"
     ]
    },
    {
     "name": "stderr",
     "output_type": "stream",
     "text": [
      "[Q10] 고등학교 급식 조회:  25%|█▊     | 36/143 [00:06<00:17,  5.96it/s]"
     ]
    },
    {
     "name": "stdout",
     "output_type": "stream",
     "text": [
      "8490171 목포여자상업고등학교\n",
      "급식 정보 조회 중: 날짜=20241030\n",
      "mealService 응답코드: 200\n",
      "급식 데이터 수: 3\n",
      "8490085 목포정명여자고등학교\n",
      "급식 정보 조회 중: 날짜=20241030\n"
     ]
    },
    {
     "name": "stderr",
     "output_type": "stream",
     "text": [
      "[Q10] 고등학교 급식 조회:  26%|█▊     | 37/143 [00:06<00:17,  6.00it/s]"
     ]
    },
    {
     "name": "stdout",
     "output_type": "stream",
     "text": [
      "mealService 응답코드: 200\n",
      "급식 데이터 수: 3\n",
      "8490045 목포제일여자고등학교\n",
      "급식 정보 조회 중: 날짜=20241030\n",
      "mealService 응답코드: 200\n",
      "급식 데이터 수: 1\n"
     ]
    },
    {
     "name": "stderr",
     "output_type": "stream",
     "text": [
      "[Q10] 고등학교 급식 조회:  27%|█▉     | 39/143 [00:06<00:17,  5.84it/s]"
     ]
    },
    {
     "name": "stdout",
     "output_type": "stream",
     "text": [
      "8490273 목포중앙고등학교\n",
      "급식 정보 조회 중: 날짜=20241030\n",
      "mealService 응답코드: 200\n",
      "급식 데이터 수: 3\n",
      "8490086 목포혜인여자고등학교\n",
      "급식 정보 조회 중: 날짜=20241030\n"
     ]
    },
    {
     "name": "stderr",
     "output_type": "stream",
     "text": [
      "[Q10] 고등학교 급식 조회:  28%|█▉     | 40/143 [00:06<00:17,  5.79it/s]"
     ]
    },
    {
     "name": "stdout",
     "output_type": "stream",
     "text": [
      "mealService 응답코드: 200\n",
      "급식 데이터 수: 3\n",
      "8490087 목포홍일고등학교\n",
      "급식 정보 조회 중: 날짜=20241030\n",
      "mealService 응답코드: 200\n",
      "급식 데이터 수: 3\n"
     ]
    },
    {
     "name": "stderr",
     "output_type": "stream",
     "text": [
      "[Q10] 고등학교 급식 조회:  29%|██     | 42/143 [00:07<00:17,  5.94it/s]"
     ]
    },
    {
     "name": "stdout",
     "output_type": "stream",
     "text": [
      "8490223 무안고등학교\n",
      "급식 정보 조회 중: 날짜=20241030\n",
      "mealService 응답코드: 200\n",
      "급식 데이터 수: 3\n",
      "8490088 문태고등학교\n",
      "급식 정보 조회 중: 날짜=20241030\n"
     ]
    },
    {
     "name": "stderr",
     "output_type": "stream",
     "text": [
      "[Q10] 고등학교 급식 조회:  30%|██     | 43/143 [00:07<00:17,  5.84it/s]"
     ]
    },
    {
     "name": "stdout",
     "output_type": "stream",
     "text": [
      "mealService 응답코드: 200\n",
      "급식 데이터 수: 2\n",
      "8490288 문향고등학교\n",
      "급식 정보 조회 중: 날짜=20241030\n"
     ]
    },
    {
     "name": "stderr",
     "output_type": "stream",
     "text": [
      "[Q10] 고등학교 급식 조회:  31%|██▏    | 44/143 [00:07<00:18,  5.48it/s]"
     ]
    },
    {
     "name": "stdout",
     "output_type": "stream",
     "text": [
      "mealService 응답코드: 200\n",
      "급식 데이터 수: 3\n",
      "8490213 백제고등학교\n",
      "급식 정보 조회 중: 날짜=20241030\n",
      "mealService 응답코드: 200\n",
      "급식 데이터 수: 3\n"
     ]
    },
    {
     "name": "stderr",
     "output_type": "stream",
     "text": [
      "[Q10] 고등학교 급식 조회:  32%|██▎    | 46/143 [00:07<00:16,  5.75it/s]"
     ]
    },
    {
     "name": "stdout",
     "output_type": "stream",
     "text": [
      "8490089 벌교고등학교\n",
      "급식 정보 조회 중: 날짜=20241030\n",
      "mealService 응답코드: 200\n",
      "급식 데이터 수: 3\n",
      "8490413 벌교상업고등학교\n",
      "급식 정보 조회 중: 날짜=20241030\n"
     ]
    },
    {
     "name": "stderr",
     "output_type": "stream",
     "text": [
      "[Q10] 고등학교 급식 조회:  33%|██▎    | 47/143 [00:08<00:16,  5.78it/s]"
     ]
    },
    {
     "name": "stdout",
     "output_type": "stream",
     "text": [
      "mealService 응답코드: 200\n",
      "급식 데이터 수: 3\n",
      "8490090 벌교여자고등학교\n",
      "급식 정보 조회 중: 날짜=20241030\n",
      "mealService 응답코드: 200\n",
      "급식 데이터 수: 1\n"
     ]
    },
    {
     "name": "stderr",
     "output_type": "stream",
     "text": [
      "[Q10] 고등학교 급식 조회:  34%|██▍    | 49/143 [00:08<00:15,  5.89it/s]"
     ]
    },
    {
     "name": "stdout",
     "output_type": "stream",
     "text": [
      "8490272 법성고등학교\n",
      "급식 정보 조회 중: 날짜=20241030\n",
      "mealService 응답코드: 200\n",
      "급식 데이터 수: 3\n",
      "8490429 병영상업고등학교\n",
      "급식 정보 조회 중: 날짜=20241030\n"
     ]
    },
    {
     "name": "stderr",
     "output_type": "stream",
     "text": [
      "[Q10] 고등학교 급식 조회:  35%|██▍    | 50/143 [00:08<00:15,  5.92it/s]"
     ]
    },
    {
     "name": "stdout",
     "output_type": "stream",
     "text": [
      "mealService 응답코드: 200\n",
      "급식 데이터 수: 2\n",
      "8490047 보성고등학교\n",
      "급식 정보 조회 중: 날짜=20241030\n",
      "mealService 응답코드: 200\n",
      "급식 데이터 수: 3\n"
     ]
    },
    {
     "name": "stderr",
     "output_type": "stream",
     "text": [
      "[Q10] 고등학교 급식 조회:  36%|██▌    | 52/143 [00:08<00:15,  5.72it/s]"
     ]
    },
    {
     "name": "stdout",
     "output_type": "stream",
     "text": [
      "8490048 봉황고등학교\n",
      "급식 정보 조회 중: 날짜=20241030\n",
      "mealService 응답코드: 200\n",
      "급식 데이터 수: 3\n"
     ]
    },
    {
     "name": "stderr",
     "output_type": "stream",
     "text": [
      "[Q10] 고등학교 급식 조회:  37%|██▌    | 53/143 [00:09<00:15,  5.70it/s]"
     ]
    },
    {
     "name": "stdout",
     "output_type": "stream",
     "text": [
      "8490049 부영여자고등학교\n",
      "급식 정보 조회 중: 날짜=20241030\n",
      "mealService 응답코드: 200\n",
      "급식 데이터 수: 3\n",
      "8490576 삼계부사관고등학교\n",
      "급식 정보 조회 중: 날짜=20241030\n"
     ]
    },
    {
     "name": "stderr",
     "output_type": "stream",
     "text": [
      "[Q10] 고등학교 급식 조회:  38%|██▋    | 54/143 [00:09<00:15,  5.82it/s]"
     ]
    },
    {
     "name": "stdout",
     "output_type": "stream",
     "text": [
      "mealService 응답코드: 200\n",
      "급식 데이터 수: 3\n",
      "8490340 삼호고등학교\n",
      "급식 정보 조회 중: 날짜=20241030\n",
      "mealService 응답코드: 200\n",
      "급식 데이터 수: 3\n"
     ]
    },
    {
     "name": "stderr",
     "output_type": "stream",
     "text": [
      "[Q10] 고등학교 급식 조회:  39%|██▋    | 56/143 [00:09<00:14,  5.91it/s]"
     ]
    },
    {
     "name": "stdout",
     "output_type": "stream",
     "text": [
      "8490052 성전고등학교\n",
      "급식 정보 조회 중: 날짜=20241030\n",
      "mealService 응답코드: 200\n",
      "급식 데이터 수: 3\n",
      "8490427 송지고등학교\n",
      "급식 정보 조회 중: 날짜=20241030\n"
     ]
    },
    {
     "name": "stderr",
     "output_type": "stream",
     "text": [
      "[Q10] 고등학교 급식 조회:  40%|██▊    | 57/143 [00:09<00:14,  5.81it/s]"
     ]
    },
    {
     "name": "stdout",
     "output_type": "stream",
     "text": [
      "mealService 응답코드: 200\n",
      "급식 데이터 수: 3\n",
      "8490091 순천강남여자고등학교\n",
      "급식 정보 조회 중: 날짜=20241030\n",
      "mealService 응답코드: 200\n",
      "급식 데이터 수: 2\n"
     ]
    },
    {
     "name": "stderr",
     "output_type": "stream",
     "text": [
      "[Q10] 고등학교 급식 조회:  41%|██▉    | 59/143 [00:10<00:14,  5.73it/s]"
     ]
    },
    {
     "name": "stdout",
     "output_type": "stream",
     "text": [
      "8490054 순천고등학교\n",
      "급식 정보 조회 중: 날짜=20241030\n",
      "mealService 응답코드: 200\n",
      "급식 데이터 수: 3\n",
      "8490141 순천공업고등학교\n",
      "급식 정보 조회 중: 날짜=20241030\n"
     ]
    },
    {
     "name": "stderr",
     "output_type": "stream",
     "text": [
      "[Q10] 고등학교 급식 조회:  42%|██▉    | 60/143 [00:10<00:14,  5.70it/s]"
     ]
    },
    {
     "name": "stdout",
     "output_type": "stream",
     "text": [
      "mealService 응답코드: 200\n",
      "급식 데이터 수: 3\n",
      "8490092 순천금당고등학교\n",
      "급식 정보 조회 중: 날짜=20241030\n",
      "mealService 응답코드: 200\n",
      "급식 데이터 수: 2\n"
     ]
    },
    {
     "name": "stderr",
     "output_type": "stream",
     "text": [
      "[Q10] 고등학교 급식 조회:  43%|███    | 62/143 [00:10<00:14,  5.73it/s]"
     ]
    },
    {
     "name": "stdout",
     "output_type": "stream",
     "text": [
      "8490093 순천매산고등학교\n",
      "급식 정보 조회 중: 날짜=20241030\n",
      "mealService 응답코드: 200\n",
      "급식 데이터 수: 3\n",
      "8490094 순천매산여자고등학교\n",
      "급식 정보 조회 중: 날짜=20241030\n"
     ]
    },
    {
     "name": "stderr",
     "output_type": "stream",
     "text": [
      "[Q10] 고등학교 급식 조회:  44%|███    | 63/143 [00:10<00:14,  5.57it/s]"
     ]
    },
    {
     "name": "stdout",
     "output_type": "stream",
     "text": [
      "mealService 응답코드: 200\n",
      "급식 데이터 수: 3\n",
      "8490519 순천미래과학고등학교\n",
      "급식 정보 조회 중: 날짜=20241030\n",
      "mealService 응답코드: 200\n",
      "급식 데이터 수: 3\n"
     ]
    },
    {
     "name": "stderr",
     "output_type": "stream",
     "text": [
      "[Q10] 고등학교 급식 조회:  45%|███▏   | 65/143 [00:11<00:14,  5.52it/s]"
     ]
    },
    {
     "name": "stdout",
     "output_type": "stream",
     "text": [
      "8490339 순천복성고등학교\n",
      "급식 정보 조회 중: 날짜=20241030\n",
      "mealService 응답코드: 200\n",
      "급식 데이터 수: 2\n"
     ]
    },
    {
     "name": "stderr",
     "output_type": "stream",
     "text": [
      "[Q10] 고등학교 급식 조회:  46%|███▏   | 66/143 [00:11<00:13,  5.62it/s]"
     ]
    },
    {
     "name": "stdout",
     "output_type": "stream",
     "text": [
      "8490055 순천여자고등학교\n",
      "급식 정보 조회 중: 날짜=20241030\n",
      "mealService 응답코드: 200\n",
      "급식 데이터 수: 3\n",
      "8490230 순천제일고등학교\n",
      "급식 정보 조회 중: 날짜=20241030\n"
     ]
    },
    {
     "name": "stderr",
     "output_type": "stream",
     "text": [
      "[Q10] 고등학교 급식 조회:  47%|███▎   | 67/143 [00:11<00:13,  5.45it/s]"
     ]
    },
    {
     "name": "stdout",
     "output_type": "stream",
     "text": [
      "mealService 응답코드: 200\n",
      "급식 데이터 수: 1\n",
      "8490235 순천청암고등학교\n",
      "급식 정보 조회 중: 날짜=20241030\n",
      "mealService 응답코드: 200\n",
      "급식 데이터 수: 2\n"
     ]
    },
    {
     "name": "stderr",
     "output_type": "stream",
     "text": [
      "[Q10] 고등학교 급식 조회:  48%|███▍   | 69/143 [00:11<00:13,  5.68it/s]"
     ]
    },
    {
     "name": "stdout",
     "output_type": "stream",
     "text": [
      "8490291 순천팔마고등학교\n",
      "급식 정보 조회 중: 날짜=20241030\n",
      "mealService 응답코드: 200\n",
      "급식 데이터 수: 1\n",
      "8490214 순천효산고등학교\n",
      "급식 정보 조회 중: 날짜=20241030\n"
     ]
    },
    {
     "name": "stderr",
     "output_type": "stream",
     "text": [
      "[Q10] 고등학교 급식 조회:  49%|███▍   | 70/143 [00:12<00:13,  5.54it/s]"
     ]
    },
    {
     "name": "stdout",
     "output_type": "stream",
     "text": [
      "mealService 응답코드: 200\n",
      "급식 데이터 수: 3\n",
      "8490095 순천효천고등학교\n",
      "급식 정보 조회 중: 날짜=20241030\n",
      "mealService 응답코드: 200\n",
      "급식 데이터 수: 3\n"
     ]
    },
    {
     "name": "stderr",
     "output_type": "stream",
     "text": [
      "[Q10] 고등학교 급식 조회:  50%|███▌   | 72/143 [00:12<00:12,  5.65it/s]"
     ]
    },
    {
     "name": "stdout",
     "output_type": "stream",
     "text": [
      "8490417 신안해양과학고등학교\n",
      "급식 정보 조회 중: 날짜=20241030\n",
      "mealService 응답코드: 200\n",
      "급식 데이터 수: 3\n",
      "8490416 안좌고등학교\n",
      "급식 정보 조회 중: 날짜=20241030\n"
     ]
    },
    {
     "name": "stderr",
     "output_type": "stream",
     "text": [
      "[Q10] 고등학교 급식 조회:  51%|███▌   | 73/143 [00:12<00:12,  5.74it/s]"
     ]
    },
    {
     "name": "stdout",
     "output_type": "stream",
     "text": [
      "mealService 응답코드: 200\n",
      "급식 데이터 수: 3\n",
      "8490056 약산고등학교\n",
      "급식 정보 조회 중: 날짜=20241030\n"
     ]
    },
    {
     "name": "stderr",
     "output_type": "stream",
     "text": [
      "[Q10] 고등학교 급식 조회:  52%|███▌   | 74/143 [00:12<00:12,  5.43it/s]"
     ]
    },
    {
     "name": "stdout",
     "output_type": "stream",
     "text": [
      "mealService 응답코드: 200\n",
      "급식 데이터 수: 2\n",
      "8490057 여남고등학교\n",
      "급식 정보 조회 중: 날짜=20241030\n",
      "mealService 응답코드: 200\n",
      "급식 데이터 수: 3\n"
     ]
    },
    {
     "name": "stderr",
     "output_type": "stream",
     "text": [
      "[Q10] 고등학교 급식 조회:  53%|███▋   | 76/143 [00:13<00:11,  5.70it/s]"
     ]
    },
    {
     "name": "stdout",
     "output_type": "stream",
     "text": [
      "8490058 여수고등학교\n",
      "급식 정보 조회 중: 날짜=20241030\n",
      "mealService 응답코드: 200\n",
      "급식 데이터 수: 3\n",
      "8490177 여수공업고등학교\n",
      "급식 정보 조회 중: 날짜=20241030\n"
     ]
    },
    {
     "name": "stderr",
     "output_type": "stream",
     "text": [
      "[Q10] 고등학교 급식 조회:  54%|███▊   | 77/143 [00:13<00:11,  5.71it/s]"
     ]
    },
    {
     "name": "stdout",
     "output_type": "stream",
     "text": [
      "mealService 응답코드: 200\n",
      "급식 데이터 수: 1\n",
      "8490411 여수석유화학고등학교\n",
      "급식 정보 조회 중: 날짜=20241030\n",
      "mealService 응답코드: 200\n",
      "급식 데이터 수: 3\n"
     ]
    },
    {
     "name": "stderr",
     "output_type": "stream",
     "text": [
      "[Q10] 고등학교 급식 조회:  55%|███▊   | 79/143 [00:13<00:11,  5.76it/s]"
     ]
    },
    {
     "name": "stdout",
     "output_type": "stream",
     "text": [
      "8490059 여수여자고등학교\n",
      "급식 정보 조회 중: 날짜=20241030\n",
      "mealService 응답코드: 200\n",
      "급식 데이터 수: 3\n",
      "8490212 여수정보과학고등학교\n",
      "급식 정보 조회 중: 날짜=20241030\n"
     ]
    },
    {
     "name": "stderr",
     "output_type": "stream",
     "text": [
      "[Q10] 고등학교 급식 조회:  56%|███▉   | 80/143 [00:13<00:10,  5.78it/s]"
     ]
    },
    {
     "name": "stdout",
     "output_type": "stream",
     "text": [
      "mealService 응답코드: 200\n",
      "급식 데이터 수: 3\n",
      "8490096 여수중앙여자고등학교\n",
      "급식 정보 조회 중: 날짜=20241030\n",
      "mealService 응답코드: 200\n",
      "급식 데이터 수: 2\n"
     ]
    },
    {
     "name": "stderr",
     "output_type": "stream",
     "text": [
      "[Q10] 고등학교 급식 조회:  57%|████   | 82/143 [00:14<00:10,  5.89it/s]"
     ]
    },
    {
     "name": "stdout",
     "output_type": "stream",
     "text": [
      "8490286 여수충무고등학교\n",
      "급식 정보 조회 중: 날짜=20241030\n",
      "mealService 응답코드: 200\n",
      "급식 데이터 수: 3\n",
      "8490374 여수해양과학고등학교\n",
      "급식 정보 조회 중: 날짜=20241030\n"
     ]
    },
    {
     "name": "stderr",
     "output_type": "stream",
     "text": [
      "[Q10] 고등학교 급식 조회:  58%|████   | 83/143 [00:14<00:10,  5.69it/s]"
     ]
    },
    {
     "name": "stdout",
     "output_type": "stream",
     "text": [
      "mealService 응답코드: 200\n",
      "급식 데이터 수: 1\n",
      "8490215 여수화양고등학교\n",
      "급식 정보 조회 중: 날짜=20241030\n",
      "mealService 응답코드: 200\n",
      "급식 데이터 수: 3\n"
     ]
    },
    {
     "name": "stderr",
     "output_type": "stream",
     "text": [
      "[Q10] 고등학교 급식 조회:  59%|████▏  | 85/143 [00:14<00:10,  5.77it/s]"
     ]
    },
    {
     "name": "stdout",
     "output_type": "stream",
     "text": [
      "8490097 여양고등학교\n",
      "급식 정보 조회 중: 날짜=20241030\n",
      "mealService 응답코드: 200\n",
      "급식 데이터 수: 2\n",
      "8490060 여천고등학교\n",
      "급식 정보 조회 중: 날짜=20241030\n"
     ]
    },
    {
     "name": "stderr",
     "output_type": "stream",
     "text": [
      "[Q10] 고등학교 급식 조회:  60%|████▏  | 86/143 [00:14<00:09,  5.80it/s]"
     ]
    },
    {
     "name": "stdout",
     "output_type": "stream",
     "text": [
      "mealService 응답코드: 200\n",
      "급식 데이터 수: 2\n",
      "8490062 영광고등학교\n",
      "급식 정보 조회 중: 날짜=20241030\n",
      "mealService 응답코드: 200\n",
      "급식 데이터 수: 3\n"
     ]
    },
    {
     "name": "stderr",
     "output_type": "stream",
     "text": [
      "[Q10] 고등학교 급식 조회:  62%|████▎  | 88/143 [00:15<00:09,  5.77it/s]"
     ]
    },
    {
     "name": "stdout",
     "output_type": "stream",
     "text": [
      "8490428 영광공업고등학교\n",
      "급식 정보 조회 중: 날짜=20241030\n",
      "mealService 응답코드: 200\n",
      "급식 데이터 수: 3\n",
      "8490305 영광전자고등학교\n",
      "급식 정보 조회 중: 날짜=20241030\n"
     ]
    },
    {
     "name": "stderr",
     "output_type": "stream",
     "text": [
      "[Q10] 고등학교 급식 조회:  62%|████▎  | 89/143 [00:15<00:09,  5.80it/s]"
     ]
    },
    {
     "name": "stdout",
     "output_type": "stream",
     "text": [
      "mealService 응답코드: 200\n",
      "급식 데이터 수: 3\n",
      "8490325 영산고등학교\n",
      "급식 정보 조회 중: 날짜=20241030\n",
      "mealService 응답코드: 200\n",
      "급식 데이터 수: 3\n"
     ]
    },
    {
     "name": "stderr",
     "output_type": "stream",
     "text": [
      "[Q10] 고등학교 급식 조회:  64%|████▍  | 91/143 [00:15<00:09,  5.69it/s]"
     ]
    },
    {
     "name": "stdout",
     "output_type": "stream",
     "text": [
      "8490098 영산성지고등학교\n",
      "급식 정보 조회 중: 날짜=20241030\n",
      "mealService 응답코드: 200\n",
      "급식 데이터 수: 3\n",
      "8490063 영암고등학교\n",
      "급식 정보 조회 중: 날짜=20241030\n"
     ]
    },
    {
     "name": "stderr",
     "output_type": "stream",
     "text": [
      "[Q10] 고등학교 급식 조회:  64%|████▌  | 92/143 [00:16<00:08,  5.73it/s]"
     ]
    },
    {
     "name": "stdout",
     "output_type": "stream",
     "text": [
      "mealService 응답코드: 200\n",
      "급식 데이터 수: 3\n",
      "8490064 영암낭주고등학교\n",
      "급식 정보 조회 중: 날짜=20241030\n",
      "mealService 응답코드: 200\n",
      "급식 데이터 수: 3\n"
     ]
    },
    {
     "name": "stderr",
     "output_type": "stream",
     "text": [
      "[Q10] 고등학교 급식 조회:  66%|████▌  | 94/143 [00:16<00:08,  5.55it/s]"
     ]
    },
    {
     "name": "stdout",
     "output_type": "stream",
     "text": [
      "8490099 영암여자고등학교\n",
      "급식 정보 조회 중: 날짜=20241030\n",
      "mealService 응답코드: 200\n",
      "급식 데이터 수: 3\n",
      "8490100 영흥고등학교\n",
      "급식 정보 조회 중: 날짜=20241030\n"
     ]
    },
    {
     "name": "stderr",
     "output_type": "stream",
     "text": [
      "[Q10] 고등학교 급식 조회:  66%|████▋  | 95/143 [00:16<00:08,  5.47it/s]"
     ]
    },
    {
     "name": "stdout",
     "output_type": "stream",
     "text": [
      "mealService 응답코드: 200\n",
      "급식 데이터 수: 3\n",
      "8490101 예당고등학교\n",
      "급식 정보 조회 중: 날짜=20241030\n",
      "mealService 응답코드: 200\n",
      "급식 데이터 수: 3\n"
     ]
    },
    {
     "name": "stderr",
     "output_type": "stream",
     "text": [
      "[Q10] 고등학교 급식 조회:  68%|████▋  | 97/143 [00:16<00:08,  5.50it/s]"
     ]
    },
    {
     "name": "stdout",
     "output_type": "stream",
     "text": [
      "8490102 옥과고등학교\n",
      "급식 정보 조회 중: 날짜=20241030\n",
      "mealService 응답코드: 200\n",
      "급식 데이터 수: 3\n"
     ]
    },
    {
     "name": "stderr",
     "output_type": "stream",
     "text": [
      "[Q10] 고등학교 급식 조회:  69%|████▊  | 98/143 [00:17<00:08,  5.48it/s]"
     ]
    },
    {
     "name": "stdout",
     "output_type": "stream",
     "text": [
      "8490065 완도고등학교\n",
      "급식 정보 조회 중: 날짜=20241030\n",
      "mealService 응답코드: 200\n",
      "급식 데이터 수: 3\n"
     ]
    },
    {
     "name": "stderr",
     "output_type": "stream",
     "text": [
      "[Q10] 고등학교 급식 조회:  69%|████▊  | 99/143 [00:17<00:07,  5.63it/s]"
     ]
    },
    {
     "name": "stdout",
     "output_type": "stream",
     "text": [
      "8490066 완도금일고등학교\n",
      "급식 정보 조회 중: 날짜=20241030\n",
      "mealService 응답코드: 200\n",
      "급식 데이터 수: 2\n",
      "8490151 완도수산고등학교\n",
      "급식 정보 조회 중: 날짜=20241030\n"
     ]
    },
    {
     "name": "stderr",
     "output_type": "stream",
     "text": [
      "[Q10] 고등학교 급식 조회:  70%|████▏ | 100/143 [00:17<00:07,  5.65it/s]"
     ]
    },
    {
     "name": "stdout",
     "output_type": "stream",
     "text": [
      "mealService 응답코드: 200\n",
      "급식 데이터 수: 3\n",
      "8490377 임자고등학교\n",
      "급식 정보 조회 중: 날짜=20241030\n",
      "mealService 응답코드: 200\n",
      "급식 데이터 수: 2\n"
     ]
    },
    {
     "name": "stderr",
     "output_type": "stream",
     "text": [
      "[Q10] 고등학교 급식 조회:  71%|████▎ | 102/143 [00:17<00:07,  5.43it/s]"
     ]
    },
    {
     "name": "stdout",
     "output_type": "stream",
     "text": [
      "8490103 장성고등학교\n",
      "급식 정보 조회 중: 날짜=20241030\n",
      "mealService 응답코드: 200\n",
      "급식 데이터 수: 3\n"
     ]
    },
    {
     "name": "stderr",
     "output_type": "stream",
     "text": [
      "[Q10] 고등학교 급식 조회:  72%|████▎ | 103/143 [00:18<00:07,  5.59it/s]"
     ]
    },
    {
     "name": "stdout",
     "output_type": "stream",
     "text": [
      "8490458 장성하이텍고등학교\n",
      "급식 정보 조회 중: 날짜=20241030\n",
      "mealService 응답코드: 200\n",
      "급식 데이터 수: 3\n",
      "8490067 장흥고등학교\n",
      "급식 정보 조회 중: 날짜=20241030\n"
     ]
    },
    {
     "name": "stderr",
     "output_type": "stream",
     "text": [
      "[Q10] 고등학교 급식 조회:  73%|████▎ | 104/143 [00:18<00:06,  5.68it/s]"
     ]
    },
    {
     "name": "stdout",
     "output_type": "stream",
     "text": [
      "mealService 응답코드: 200\n",
      "급식 데이터 수: 3\n",
      "8490068 장흥관산고등학교\n",
      "급식 정보 조회 중: 날짜=20241030\n",
      "mealService 응답코드: 200\n",
      "급식 데이터 수: 3\n"
     ]
    },
    {
     "name": "stderr",
     "output_type": "stream",
     "text": [
      "[Q10] 고등학교 급식 조회:  74%|████▍ | 106/143 [00:18<00:06,  5.63it/s]"
     ]
    },
    {
     "name": "stdout",
     "output_type": "stream",
     "text": [
      "8490069 전남과학고등학교\n",
      "급식 정보 조회 중: 날짜=20241030\n",
      "mealService 응답코드: 200\n",
      "급식 데이터 수: 3\n",
      "8490376 전남기술과학고등학교\n",
      "급식 정보 조회 중: 날짜=20241030\n"
     ]
    },
    {
     "name": "stderr",
     "output_type": "stream",
     "text": [
      "[Q10] 고등학교 급식 조회:  75%|████▍ | 107/143 [00:18<00:06,  5.51it/s]"
     ]
    },
    {
     "name": "stdout",
     "output_type": "stream",
     "text": [
      "mealService 응답코드: 200\n",
      "급식 데이터 수: 3\n",
      "8490577 전남미래자동차고등학교\n",
      "급식 정보 조회 중: 날짜=20241030\n",
      "mealService 응답코드: 200\n",
      "급식 데이터 수: 3\n"
     ]
    },
    {
     "name": "stderr",
     "output_type": "stream",
     "text": [
      "[Q10] 고등학교 급식 조회:  76%|████▌ | 109/143 [00:19<00:05,  5.71it/s]"
     ]
    },
    {
     "name": "stdout",
     "output_type": "stream",
     "text": [
      "8490239 전남미용고등학교\n",
      "급식 정보 조회 중: 날짜=20241030\n",
      "mealService 응답코드: 200\n",
      "급식 데이터 수: 3\n",
      "8490319 전남보건고등학교\n",
      "급식 정보 조회 중: 날짜=20241030\n"
     ]
    },
    {
     "name": "stderr",
     "output_type": "stream",
     "text": [
      "[Q10] 고등학교 급식 조회:  77%|████▌ | 110/143 [00:19<00:05,  5.74it/s]"
     ]
    },
    {
     "name": "stdout",
     "output_type": "stream",
     "text": [
      "mealService 응답코드: 200\n",
      "급식 데이터 수: 3\n",
      "8490296 전남생명과학고등학교\n",
      "급식 정보 조회 중: 날짜=20241030\n",
      "mealService 응답코드: 200\n",
      "급식 데이터 수: 3\n"
     ]
    },
    {
     "name": "stderr",
     "output_type": "stream",
     "text": [
      "[Q10] 고등학교 급식 조회:  78%|████▋ | 112/143 [00:19<00:05,  5.86it/s]"
     ]
    },
    {
     "name": "stdout",
     "output_type": "stream",
     "text": [
      "8490516 전남에너지고등학교\n",
      "급식 정보 조회 중: 날짜=20241030\n",
      "mealService 응답코드: 200\n",
      "급식 데이터 수: 3\n",
      "8490180 전남예술고등학교\n",
      "급식 정보 조회 중: 날짜=20241030\n"
     ]
    },
    {
     "name": "stderr",
     "output_type": "stream",
     "text": [
      "[Q10] 고등학교 급식 조회:  79%|████▋ | 113/143 [00:19<00:05,  5.85it/s]"
     ]
    },
    {
     "name": "stdout",
     "output_type": "stream",
     "text": [
      "mealService 응답코드: 200\n",
      "급식 데이터 수: 3\n",
      "8490070 전남외국어고등학교\n",
      "급식 정보 조회 중: 날짜=20241030\n",
      "mealService 응답코드: 200\n",
      "급식 데이터 수: 3\n"
     ]
    },
    {
     "name": "stderr",
     "output_type": "stream",
     "text": [
      "[Q10] 고등학교 급식 조회:  80%|████▊ | 115/143 [00:20<00:04,  5.89it/s]"
     ]
    },
    {
     "name": "stdout",
     "output_type": "stream",
     "text": [
      "8490316 전남자연과학고등학교\n",
      "급식 정보 조회 중: 날짜=20241030\n",
      "mealService 응답코드: 200\n",
      "급식 데이터 수: 3\n",
      "8490290 전남조리과학고등학교\n",
      "급식 정보 조회 중: 날짜=20241030\n"
     ]
    },
    {
     "name": "stderr",
     "output_type": "stream",
     "text": [
      "[Q10] 고등학교 급식 조회:  81%|████▊ | 116/143 [00:20<00:04,  5.99it/s]"
     ]
    },
    {
     "name": "stdout",
     "output_type": "stream",
     "text": [
      "mealService 응답코드: 200\n",
      "급식 데이터 수: 3\n",
      "8490242 전남체육고등학교\n",
      "급식 정보 조회 중: 날짜=20241030\n",
      "mealService 응답코드: 200\n",
      "급식 데이터 수: 3\n"
     ]
    },
    {
     "name": "stderr",
     "output_type": "stream",
     "text": [
      "[Q10] 고등학교 급식 조회:  83%|████▉ | 118/143 [00:20<00:04,  5.83it/s]"
     ]
    },
    {
     "name": "stdout",
     "output_type": "stream",
     "text": [
      "8490227 조도고등학교\n",
      "급식 정보 조회 중: 날짜=20241030\n",
      "mealService 응답코드: 200\n",
      "급식 데이터 수: 1\n"
     ]
    },
    {
     "name": "stderr",
     "output_type": "stream",
     "text": [
      "[Q10] 고등학교 급식 조회:  83%|████▉ | 119/143 [00:20<00:04,  5.88it/s]"
     ]
    },
    {
     "name": "stdout",
     "output_type": "stream",
     "text": [
      "8490283 중마고등학교\n",
      "급식 정보 조회 중: 날짜=20241030\n",
      "mealService 응답코드: 200\n",
      "급식 데이터 수: 2\n",
      "8490248 지명고등학교\n",
      "급식 정보 조회 중: 날짜=20241030\n"
     ]
    },
    {
     "name": "stderr",
     "output_type": "stream",
     "text": [
      "[Q10] 고등학교 급식 조회:  84%|█████ | 120/143 [00:20<00:04,  5.62it/s]"
     ]
    },
    {
     "name": "stdout",
     "output_type": "stream",
     "text": [
      "mealService 응답코드: 200\n",
      "급식 데이터 수: 3\n",
      "8490104 진도고등학교\n",
      "급식 정보 조회 중: 날짜=20241030\n",
      "mealService 응답코드: 200\n",
      "급식 데이터 수: 3\n"
     ]
    },
    {
     "name": "stderr",
     "output_type": "stream",
     "text": [
      "[Q10] 고등학교 급식 조회:  85%|█████ | 122/143 [00:21<00:03,  5.70it/s]"
     ]
    },
    {
     "name": "stdout",
     "output_type": "stream",
     "text": [
      "8490415 진도국악고등학교\n",
      "급식 정보 조회 중: 날짜=20241030\n",
      "mealService 응답코드: 200\n",
      "급식 데이터 수: 3\n",
      "8490159 진도실업고등학교\n",
      "급식 정보 조회 중: 날짜=20241030\n"
     ]
    },
    {
     "name": "stderr",
     "output_type": "stream",
     "text": [
      "[Q10] 고등학교 급식 조회:  86%|█████▏| 123/143 [00:21<00:03,  5.76it/s]"
     ]
    },
    {
     "name": "stdout",
     "output_type": "stream",
     "text": [
      "mealService 응답코드: 200\n",
      "급식 데이터 수: 3\n",
      "8490276 진성여자고등학교\n",
      "급식 정보 조회 중: 날짜=20241030\n",
      "mealService 응답코드: 200\n",
      "급식 데이터 수: 1\n"
     ]
    },
    {
     "name": "stderr",
     "output_type": "stream",
     "text": [
      "[Q10] 고등학교 급식 조회:  87%|█████▏| 125/143 [00:21<00:03,  5.86it/s]"
     ]
    },
    {
     "name": "stdout",
     "output_type": "stream",
     "text": [
      "8490105 창평고등학교\n",
      "급식 정보 조회 중: 날짜=20241030\n",
      "mealService 응답코드: 200\n",
      "급식 데이터 수: 3\n",
      "8490220 하의고등학교\n",
      "급식 정보 조회 중: 날짜=20241030\n"
     ]
    },
    {
     "name": "stderr",
     "output_type": "stream",
     "text": [
      "[Q10] 고등학교 급식 조회:  88%|█████▎| 126/143 [00:21<00:02,  5.82it/s]"
     ]
    },
    {
     "name": "stdout",
     "output_type": "stream",
     "text": [
      "mealService 응답코드: 200\n",
      "급식 데이터 수: 1\n",
      "8490414 한국말산업고등학교\n",
      "급식 정보 조회 중: 날짜=20241030\n",
      "mealService 응답코드: 200\n",
      "급식 데이터 수: 3\n"
     ]
    },
    {
     "name": "stderr",
     "output_type": "stream",
     "text": [
      "[Q10] 고등학교 급식 조회:  90%|█████▎| 128/143 [00:22<00:02,  5.78it/s]"
     ]
    },
    {
     "name": "stdout",
     "output_type": "stream",
     "text": [
      "8490412 한국바둑고등학교\n",
      "급식 정보 조회 중: 날짜=20241030\n",
      "mealService 응답코드: 200\n",
      "급식 데이터 수: 3\n",
      "8490468 한국창의예술고등학교\n",
      "급식 정보 조회 중: 날짜=20241030\n"
     ]
    },
    {
     "name": "stderr",
     "output_type": "stream",
     "text": [
      "[Q10] 고등학교 급식 조회:  90%|█████▍| 129/143 [00:22<00:02,  5.82it/s]"
     ]
    },
    {
     "name": "stdout",
     "output_type": "stream",
     "text": [
      "mealService 응답코드: 200\n",
      "급식 데이터 수: 3\n",
      "8490295 한국항만물류고등학교\n",
      "급식 정보 조회 중: 날짜=20241030\n",
      "mealService 응답코드: 200\n",
      "급식 데이터 수: 3\n"
     ]
    },
    {
     "name": "stderr",
     "output_type": "stream",
     "text": [
      "[Q10] 고등학교 급식 조회:  92%|█████▍| 131/143 [00:22<00:02,  5.72it/s]"
     ]
    },
    {
     "name": "stdout",
     "output_type": "stream",
     "text": [
      "8490107 한빛고등학교\n",
      "급식 정보 조회 중: 날짜=20241030\n",
      "mealService 응답코드: 200\n",
      "급식 데이터 수: 3\n",
      "8490108 한영고등학교\n",
      "급식 정보 조회 중: 날짜=20241030\n"
     ]
    },
    {
     "name": "stderr",
     "output_type": "stream",
     "text": [
      "[Q10] 고등학교 급식 조회:  92%|█████▌| 132/143 [00:23<00:01,  5.72it/s]"
     ]
    },
    {
     "name": "stdout",
     "output_type": "stream",
     "text": [
      "mealService 응답코드: 200\n",
      "급식 데이터 수: 3\n",
      "8490363 한울고등학교\n",
      "급식 정보 조회 중: 날짜=20241030\n",
      "mealService 응답코드: 200\n",
      "급식 데이터 수: 3\n"
     ]
    },
    {
     "name": "stderr",
     "output_type": "stream",
     "text": [
      "[Q10] 고등학교 급식 조회:  94%|█████▌| 134/143 [00:23<00:01,  5.91it/s]"
     ]
    },
    {
     "name": "stdout",
     "output_type": "stream",
     "text": [
      "8490109 함평고등학교\n",
      "급식 정보 조회 중: 날짜=20241030\n",
      "mealService 응답코드: 200\n",
      "급식 데이터 수: 3\n",
      "8490224 함평골프고등학교\n",
      "급식 정보 조회 중: 날짜=20241030\n"
     ]
    },
    {
     "name": "stderr",
     "output_type": "stream",
     "text": [
      "[Q10] 고등학교 급식 조회:  94%|█████▋| 135/143 [00:23<00:01,  5.87it/s]"
     ]
    },
    {
     "name": "stdout",
     "output_type": "stream",
     "text": [
      "mealService 응답코드: 200\n",
      "급식 데이터 수: 3\n",
      "8490459 함평학다리고등학교\n",
      "급식 정보 조회 중: 날짜=20241030\n",
      "mealService 응답코드: 200\n",
      "급식 데이터 수: 3\n"
     ]
    },
    {
     "name": "stderr",
     "output_type": "stream",
     "text": [
      "[Q10] 고등학교 급식 조회:  96%|█████▋| 137/143 [00:23<00:01,  5.88it/s]"
     ]
    },
    {
     "name": "stdout",
     "output_type": "stream",
     "text": [
      "8490073 해남고등학교\n",
      "급식 정보 조회 중: 날짜=20241030\n",
      "mealService 응답코드: 200\n",
      "급식 데이터 수: 3\n",
      "8490164 해남공업고등학교\n",
      "급식 정보 조회 중: 날짜=20241030\n"
     ]
    },
    {
     "name": "stderr",
     "output_type": "stream",
     "text": [
      "[Q10] 고등학교 급식 조회:  97%|█████▊| 138/143 [00:24<00:00,  5.91it/s]"
     ]
    },
    {
     "name": "stdout",
     "output_type": "stream",
     "text": [
      "mealService 응답코드: 200\n",
      "급식 데이터 수: 3\n",
      "8490110 해룡고등학교\n",
      "급식 정보 조회 중: 날짜=20241030\n",
      "mealService 응답코드: 200\n",
      "mealServiceDietInfo 키 없음: {'RESULT': {'CODE': 'INFO-200', 'MESSAGE': '해당하는 데이터가 없습니다.'}}\n"
     ]
    },
    {
     "name": "stderr",
     "output_type": "stream",
     "text": [
      "[Q10] 고등학교 급식 조회:  98%|█████▊| 140/143 [00:24<00:00,  5.89it/s]"
     ]
    },
    {
     "name": "stdout",
     "output_type": "stream",
     "text": [
      "8490165 호남원예고등학교\n",
      "급식 정보 조회 중: 날짜=20241030\n",
      "mealService 응답코드: 200\n",
      "급식 데이터 수: 3\n"
     ]
    },
    {
     "name": "stderr",
     "output_type": "stream",
     "text": [
      "[Q10] 고등학교 급식 조회:  99%|█████▉| 141/143 [00:24<00:00,  5.77it/s]"
     ]
    },
    {
     "name": "stdout",
     "output_type": "stream",
     "text": [
      "8490076 화순고등학교\n",
      "급식 정보 조회 중: 날짜=20241030\n",
      "mealService 응답코드: 200\n",
      "급식 데이터 수: 3\n",
      "8490271 화순이양고등학교\n",
      "급식 정보 조회 중: 날짜=20241030\n"
     ]
    },
    {
     "name": "stderr",
     "output_type": "stream",
     "text": [
      "[Q10] 고등학교 급식 조회:  99%|█████▉| 142/143 [00:24<00:00,  5.78it/s]"
     ]
    },
    {
     "name": "stdout",
     "output_type": "stream",
     "text": [
      "mealService 응답코드: 200\n",
      "급식 데이터 수: 1\n",
      "8490111 화원고등학교\n",
      "급식 정보 조회 중: 날짜=20241030\n",
      "mealService 응답코드: 200\n",
      "급식 데이터 수: 3\n"
     ]
    },
    {
     "name": "stderr",
     "output_type": "stream",
     "text": [
      "[Q10] 고등학교 급식 조회: 100%|██████| 143/143 [00:24<00:00,  5.74it/s]\n"
     ]
    },
    {
     "name": "stdout",
     "output_type": "stream",
     "text": [
      "응답코드 : 200\n"
     ]
    },
    {
     "name": "stderr",
     "output_type": "stream",
     "text": [
      "[R10] 고등학교 급식 조회:   0%|                | 0/183 [00:00<?, ?it/s]"
     ]
    },
    {
     "name": "stdout",
     "output_type": "stream",
     "text": [
      "8750075 가은고등학교\n",
      "급식 정보 조회 중: 날짜=20241030\n",
      "mealService 응답코드: 200\n",
      "급식 데이터 수: 2\n"
     ]
    },
    {
     "name": "stderr",
     "output_type": "stream",
     "text": [
      "[R10] 고등학교 급식 조회:   1%|        | 2/183 [00:00<00:30,  5.92it/s]"
     ]
    },
    {
     "name": "stdout",
     "output_type": "stream",
     "text": [
      "8750474 강구정보고등학교\n",
      "급식 정보 조회 중: 날짜=20241030\n",
      "mealService 응답코드: 200\n",
      "급식 데이터 수: 1\n",
      "8750143 경구고등학교\n",
      "급식 정보 조회 중: 날짜=20241030\n"
     ]
    },
    {
     "name": "stderr",
     "output_type": "stream",
     "text": [
      "[R10] 고등학교 급식 조회:   2%|▏       | 3/183 [00:00<00:30,  5.94it/s]"
     ]
    },
    {
     "name": "stdout",
     "output_type": "stream",
     "text": [
      "mealService 응답코드: 200\n",
      "급식 데이터 수: 3\n",
      "8750813 경북골프경영고등학교\n",
      "급식 정보 조회 중: 날짜=20241030\n",
      "mealService 응답코드: 200\n",
      "급식 데이터 수: 3\n"
     ]
    },
    {
     "name": "stderr",
     "output_type": "stream",
     "text": [
      "[R10] 고등학교 급식 조회:   3%|▏       | 5/183 [00:00<00:31,  5.66it/s]"
     ]
    },
    {
     "name": "stdout",
     "output_type": "stream",
     "text": [
      "8750078 경북과학고등학교\n",
      "급식 정보 조회 중: 날짜=20241030\n",
      "mealService 응답코드: 200\n",
      "급식 데이터 수: 3\n"
     ]
    },
    {
     "name": "stderr",
     "output_type": "stream",
     "text": [
      "[R10] 고등학교 급식 조회:   3%|▎       | 6/183 [00:01<00:31,  5.67it/s]"
     ]
    },
    {
     "name": "stdout",
     "output_type": "stream",
     "text": [
      "8750627 경북과학기술고등학교\n",
      "급식 정보 조회 중: 날짜=20241030\n",
      "mealService 응답코드: 200\n",
      "급식 데이터 수: 1\n",
      "8750810 경북관광비즈니스고등학교\n",
      "급식 정보 조회 중: 날짜=20241030\n"
     ]
    },
    {
     "name": "stderr",
     "output_type": "stream",
     "text": [
      "[R10] 고등학교 급식 조회:   4%|▎       | 7/183 [00:01<00:30,  5.76it/s]"
     ]
    },
    {
     "name": "stdout",
     "output_type": "stream",
     "text": [
      "mealService 응답코드: 200\n",
      "급식 데이터 수: 1\n",
      "8750667 경북기계금속고등학교\n",
      "급식 정보 조회 중: 날짜=20241030\n",
      "mealService 응답코드: 200\n",
      "급식 데이터 수: 3\n"
     ]
    },
    {
     "name": "stderr",
     "output_type": "stream",
     "text": [
      "[R10] 고등학교 급식 조회:   5%|▍       | 9/183 [00:01<00:30,  5.62it/s]"
     ]
    },
    {
     "name": "stdout",
     "output_type": "stream",
     "text": [
      "8750758 경북기계명장고등학교\n",
      "급식 정보 조회 중: 날짜=20241030\n",
      "mealService 응답코드: 200\n",
      "급식 데이터 수: 3\n"
     ]
    },
    {
     "name": "stderr",
     "output_type": "stream",
     "text": [
      "[R10] 고등학교 급식 조회:   5%|▍      | 10/183 [00:01<00:30,  5.71it/s]"
     ]
    },
    {
     "name": "stdout",
     "output_type": "stream",
     "text": [
      "8750731 경북드론고등학교\n",
      "급식 정보 조회 중: 날짜=20241030\n",
      "mealService 응답코드: 200\n",
      "급식 데이터 수: 3\n",
      "8750805 경북바이오마이스터고등학교\n",
      "급식 정보 조회 중: 날짜=20241030\n"
     ]
    },
    {
     "name": "stderr",
     "output_type": "stream",
     "text": [
      "[R10] 고등학교 급식 조회:   6%|▍      | 11/183 [00:01<00:29,  5.83it/s]"
     ]
    },
    {
     "name": "stdout",
     "output_type": "stream",
     "text": [
      "mealService 응답코드: 200\n",
      "급식 데이터 수: 3\n",
      "8750444 경북생활과학고등학교\n",
      "급식 정보 조회 중: 날짜=20241030\n",
      "mealService 응답코드: 200\n",
      "급식 데이터 수: 3\n"
     ]
    },
    {
     "name": "stderr",
     "output_type": "stream",
     "text": [
      "[R10] 고등학교 급식 조회:   7%|▍      | 13/183 [00:02<00:29,  5.84it/s]"
     ]
    },
    {
     "name": "stdout",
     "output_type": "stream",
     "text": [
      "8750730 경북세무고등학교\n",
      "급식 정보 조회 중: 날짜=20241030\n",
      "mealService 응답코드: 200\n",
      "급식 데이터 수: 3\n"
     ]
    },
    {
     "name": "stderr",
     "output_type": "stream",
     "text": [
      "[R10] 고등학교 급식 조회:   8%|▌      | 14/183 [00:02<00:29,  5.79it/s]"
     ]
    },
    {
     "name": "stdout",
     "output_type": "stream",
     "text": [
      "8750829 경북소프트웨어마이스터고등학교\n",
      "급식 정보 조회 중: 날짜=20241030\n",
      "mealService 응답코드: 200\n",
      "mealServiceDietInfo 키 없음: {'RESULT': {'CODE': 'INFO-200', 'MESSAGE': '해당하는 데이터가 없습니다.'}}\n",
      "8750079 경북외국어고등학교\n",
      "급식 정보 조회 중: 날짜=20241030\n"
     ]
    },
    {
     "name": "stderr",
     "output_type": "stream",
     "text": [
      "[R10] 고등학교 급식 조회:   8%|▌      | 15/183 [00:02<00:29,  5.76it/s]"
     ]
    },
    {
     "name": "stdout",
     "output_type": "stream",
     "text": [
      "mealService 응답코드: 200\n",
      "급식 데이터 수: 3\n",
      "8750724 경북일고등학교\n",
      "급식 정보 조회 중: 날짜=20241030\n",
      "mealService 응답코드: 200\n",
      "급식 데이터 수: 3\n"
     ]
    },
    {
     "name": "stderr",
     "output_type": "stream",
     "text": [
      "[R10] 고등학교 급식 조회:   9%|▋      | 17/183 [00:02<00:28,  5.85it/s]"
     ]
    },
    {
     "name": "stdout",
     "output_type": "stream",
     "text": [
      "8750770 경북자연과학고등학교\n",
      "급식 정보 조회 중: 날짜=20241030\n",
      "mealService 응답코드: 200\n",
      "급식 데이터 수: 3\n",
      "8750726 경북조리과학고등학교\n",
      "급식 정보 조회 중: 날짜=20241030\n"
     ]
    },
    {
     "name": "stderr",
     "output_type": "stream",
     "text": [
      "[R10] 고등학교 급식 조회:  10%|▋      | 18/183 [00:03<00:27,  5.91it/s]"
     ]
    },
    {
     "name": "stdout",
     "output_type": "stream",
     "text": [
      "mealService 응답코드: 200\n",
      "급식 데이터 수: 3\n",
      "8750080 경북체육고등학교\n",
      "급식 정보 조회 중: 날짜=20241030\n",
      "mealService 응답코드: 200\n",
      "급식 데이터 수: 3\n"
     ]
    },
    {
     "name": "stderr",
     "output_type": "stream",
     "text": [
      "[R10] 고등학교 급식 조회:  11%|▊      | 20/183 [00:03<00:27,  5.85it/s]"
     ]
    },
    {
     "name": "stdout",
     "output_type": "stream",
     "text": [
      "8750644 경북하이텍고등학교\n",
      "급식 정보 조회 중: 날짜=20241030\n",
      "mealService 응답코드: 200\n",
      "급식 데이터 수: 2\n",
      "8750557 경북항공고등학교\n",
      "급식 정보 조회 중: 날짜=20241030\n"
     ]
    },
    {
     "name": "stderr",
     "output_type": "stream",
     "text": [
      "[R10] 고등학교 급식 조회:  11%|▊      | 21/183 [00:03<00:27,  5.88it/s]"
     ]
    },
    {
     "name": "stdout",
     "output_type": "stream",
     "text": [
      "mealService 응답코드: 200\n",
      "급식 데이터 수: 3\n",
      "8750776 경북휴먼테크고등학교\n",
      "급식 정보 조회 중: 날짜=20241030\n",
      "mealService 응답코드: 200\n",
      "급식 데이터 수: 3\n"
     ]
    },
    {
     "name": "stderr",
     "output_type": "stream",
     "text": [
      "[R10] 고등학교 급식 조회:  13%|▉      | 23/183 [00:03<00:27,  5.78it/s]"
     ]
    },
    {
     "name": "stdout",
     "output_type": "stream",
     "text": [
      "8750081 경산고등학교\n",
      "급식 정보 조회 중: 날짜=20241030\n",
      "mealService 응답코드: 200\n",
      "급식 데이터 수: 2\n"
     ]
    },
    {
     "name": "stderr",
     "output_type": "stream",
     "text": [
      "[R10] 고등학교 급식 조회:  13%|▉      | 24/183 [00:04<00:27,  5.79it/s]"
     ]
    },
    {
     "name": "stdout",
     "output_type": "stream",
     "text": [
      "8750555 경산과학고등학교\n",
      "급식 정보 조회 중: 날짜=20241030\n",
      "mealService 응답코드: 200\n",
      "급식 데이터 수: 3\n",
      "8750144 경산여자고등학교\n",
      "급식 정보 조회 중: 날짜=20241030\n"
     ]
    },
    {
     "name": "stderr",
     "output_type": "stream",
     "text": [
      "[R10] 고등학교 급식 조회:  14%|▉      | 25/183 [00:04<00:27,  5.73it/s]"
     ]
    },
    {
     "name": "stdout",
     "output_type": "stream",
     "text": [
      "mealService 응답코드: 200\n",
      "급식 데이터 수: 2\n",
      "8750771 경산제일고등학교\n",
      "급식 정보 조회 중: 날짜=20241030\n",
      "mealService 응답코드: 200\n",
      "급식 데이터 수: 3\n"
     ]
    },
    {
     "name": "stderr",
     "output_type": "stream",
     "text": [
      "[R10] 고등학교 급식 조회:  15%|█      | 27/183 [00:04<00:26,  5.95it/s]"
     ]
    },
    {
     "name": "stdout",
     "output_type": "stream",
     "text": [
      "8750145 경안고등학교\n",
      "급식 정보 조회 중: 날짜=20241030\n",
      "mealService 응답코드: 200\n",
      "급식 데이터 수: 3\n",
      "8750588 경안여자고등학교\n",
      "급식 정보 조회 중: 날짜=20241030\n"
     ]
    },
    {
     "name": "stderr",
     "output_type": "stream",
     "text": [
      "[R10] 고등학교 급식 조회:  15%|█      | 28/183 [00:04<00:25,  6.03it/s]"
     ]
    },
    {
     "name": "stdout",
     "output_type": "stream",
     "text": [
      "mealService 응답코드: 200\n",
      "급식 데이터 수: 3\n",
      "8750146 경일고등학교\n",
      "급식 정보 조회 중: 날짜=20241030\n",
      "mealService 응답코드: 200\n",
      "급식 데이터 수: 3\n"
     ]
    },
    {
     "name": "stderr",
     "output_type": "stream",
     "text": [
      "[R10] 고등학교 급식 조회:  16%|█▏     | 30/183 [00:05<00:25,  6.01it/s]"
     ]
    },
    {
     "name": "stdout",
     "output_type": "stream",
     "text": [
      "8750147 경주고등학교\n",
      "급식 정보 조회 중: 날짜=20241030\n",
      "mealService 응답코드: 200\n",
      "급식 데이터 수: 2\n",
      "8750225 경주공업고등학교\n",
      "급식 정보 조회 중: 날짜=20241030\n"
     ]
    },
    {
     "name": "stderr",
     "output_type": "stream",
     "text": [
      "[R10] 고등학교 급식 조회:  17%|█▏     | 31/183 [00:05<00:25,  5.94it/s]"
     ]
    },
    {
     "name": "stdout",
     "output_type": "stream",
     "text": [
      "mealService 응답코드: 200\n",
      "급식 데이터 수: 3\n",
      "8750446 경주디자인고등학교\n",
      "급식 정보 조회 중: 날짜=20241030\n",
      "mealService 응답코드: 200\n",
      "급식 데이터 수: 3\n"
     ]
    },
    {
     "name": "stderr",
     "output_type": "stream",
     "text": [
      "[R10] 고등학교 급식 조회:  18%|█▎     | 33/183 [00:05<00:25,  5.90it/s]"
     ]
    },
    {
     "name": "stdout",
     "output_type": "stream",
     "text": [
      "8750082 경주여자고등학교\n",
      "급식 정보 조회 중: 날짜=20241030\n",
      "mealService 응답코드: 200\n",
      "급식 데이터 수: 3\n",
      "8750457 경주여자정보고등학교\n",
      "급식 정보 조회 중: 날짜=20241030\n"
     ]
    },
    {
     "name": "stderr",
     "output_type": "stream",
     "text": [
      "[R10] 고등학교 급식 조회:  19%|█▎     | 34/183 [00:05<00:26,  5.71it/s]"
     ]
    },
    {
     "name": "stdout",
     "output_type": "stream",
     "text": [
      "mealService 응답코드: 200\n",
      "급식 데이터 수: 3\n",
      "8750772 경주예일고등학교\n",
      "급식 정보 조회 중: 날짜=20241030\n",
      "mealService 응답코드: 200\n",
      "급식 데이터 수: 3\n"
     ]
    },
    {
     "name": "stderr",
     "output_type": "stream",
     "text": [
      "[R10] 고등학교 급식 조회:  20%|█▍     | 36/183 [00:06<00:27,  5.42it/s]"
     ]
    },
    {
     "name": "stdout",
     "output_type": "stream",
     "text": [
      "8750433 경주정보고등학교\n",
      "급식 정보 조회 중: 날짜=20241030\n",
      "mealService 응답코드: 200\n",
      "급식 데이터 수: 3\n"
     ]
    },
    {
     "name": "stderr",
     "output_type": "stream",
     "text": [
      "[R10] 고등학교 급식 조회:  20%|█▍     | 37/183 [00:06<00:26,  5.56it/s]"
     ]
    },
    {
     "name": "stdout",
     "output_type": "stream",
     "text": [
      "8750148 경주화랑고등학교\n",
      "급식 정보 조회 중: 날짜=20241030\n",
      "mealService 응답코드: 200\n",
      "급식 데이터 수: 3\n",
      "8750083 계림고등학교\n",
      "급식 정보 조회 중: 날짜=20241030\n"
     ]
    },
    {
     "name": "stderr",
     "output_type": "stream",
     "text": [
      "[R10] 고등학교 급식 조회:  21%|█▍     | 38/183 [00:06<00:26,  5.48it/s]"
     ]
    },
    {
     "name": "stdout",
     "output_type": "stream",
     "text": [
      "mealService 응답코드: 200\n",
      "급식 데이터 수: 3\n",
      "8750084 구미고등학교\n",
      "급식 정보 조회 중: 날짜=20241030\n",
      "mealService 응답코드: 200\n",
      "급식 데이터 수: 3\n"
     ]
    },
    {
     "name": "stderr",
     "output_type": "stream",
     "text": [
      "[R10] 고등학교 급식 조회:  22%|█▌     | 40/183 [00:06<00:25,  5.68it/s]"
     ]
    },
    {
     "name": "stdout",
     "output_type": "stream",
     "text": [
      "8750754 구미산동고등학교\n",
      "급식 정보 조회 중: 날짜=20241030\n",
      "mealService 응답코드: 200\n",
      "급식 데이터 수: 2\n",
      "8750085 구미여자고등학교\n",
      "급식 정보 조회 중: 날짜=20241030\n"
     ]
    },
    {
     "name": "stderr",
     "output_type": "stream",
     "text": [
      "[R10] 고등학교 급식 조회:  22%|█▌     | 41/183 [00:07<00:26,  5.46it/s]"
     ]
    },
    {
     "name": "stdout",
     "output_type": "stream",
     "text": [
      "mealService 응답코드: 200\n",
      "급식 데이터 수: 3\n",
      "8750611 구미여자상업고등학교\n",
      "급식 정보 조회 중: 날짜=20241030\n",
      "mealService 응답코드: 200\n",
      "급식 데이터 수: 1\n"
     ]
    },
    {
     "name": "stderr",
     "output_type": "stream",
     "text": [
      "[R10] 고등학교 급식 조회:  23%|█▋     | 43/183 [00:07<00:26,  5.38it/s]"
     ]
    },
    {
     "name": "stdout",
     "output_type": "stream",
     "text": [
      "1421116 구미전자공업고등학교\n",
      "급식 정보 조회 중: 날짜=20241030\n",
      "mealService 응답코드: 200\n",
      "급식 데이터 수: 3\n"
     ]
    },
    {
     "name": "stderr",
     "output_type": "stream",
     "text": [
      "[R10] 고등학교 급식 조회:  24%|█▋     | 44/183 [00:07<00:25,  5.47it/s]"
     ]
    },
    {
     "name": "stdout",
     "output_type": "stream",
     "text": [
      "8750234 구미정보고등학교\n",
      "급식 정보 조회 중: 날짜=20241030\n",
      "mealService 응답코드: 200\n",
      "급식 데이터 수: 1\n"
     ]
    },
    {
     "name": "stderr",
     "output_type": "stream",
     "text": [
      "[R10] 고등학교 급식 조회:  25%|█▋     | 45/183 [00:07<00:24,  5.58it/s]"
     ]
    },
    {
     "name": "stdout",
     "output_type": "stream",
     "text": [
      "8750811 구미제일고등학교\n",
      "급식 정보 조회 중: 날짜=20241030\n",
      "mealService 응답코드: 200\n",
      "급식 데이터 수: 1\n",
      "8750151 근화여자고등학교\n",
      "급식 정보 조회 중: 날짜=20241030\n"
     ]
    },
    {
     "name": "stderr",
     "output_type": "stream",
     "text": [
      "[R10] 고등학교 급식 조회:  25%|█▊     | 46/183 [00:07<00:23,  5.75it/s]"
     ]
    },
    {
     "name": "stdout",
     "output_type": "stream",
     "text": [
      "mealService 응답코드: 200\n",
      "급식 데이터 수: 3\n",
      "8750088 금성고등학교\n",
      "급식 정보 조회 중: 날짜=20241030\n",
      "mealService 응답코드: 200\n",
      "급식 데이터 수: 1\n"
     ]
    },
    {
     "name": "stderr",
     "output_type": "stream",
     "text": [
      "[R10] 고등학교 급식 조회:  26%|█▊     | 48/183 [00:08<00:23,  5.74it/s]"
     ]
    },
    {
     "name": "stdout",
     "output_type": "stream",
     "text": [
      "8750447 금오고등학교\n",
      "급식 정보 조회 중: 날짜=20241030\n",
      "mealService 응답코드: 200\n",
      "급식 데이터 수: 2\n",
      "8750237 금오공업고등학교\n",
      "급식 정보 조회 중: 날짜=20241030\n"
     ]
    },
    {
     "name": "stderr",
     "output_type": "stream",
     "text": [
      "[R10] 고등학교 급식 조회:  27%|█▊     | 49/183 [00:08<00:23,  5.70it/s]"
     ]
    },
    {
     "name": "stdout",
     "output_type": "stream",
     "text": [
      "mealService 응답코드: 200\n",
      "급식 데이터 수: 3\n",
      "8750090 금천고등학교\n",
      "급식 정보 조회 중: 날짜=20241030\n",
      "mealService 응답코드: 200\n",
      "급식 데이터 수: 3\n"
     ]
    },
    {
     "name": "stderr",
     "output_type": "stream",
     "text": [
      "[R10] 고등학교 급식 조회:  28%|█▉     | 51/183 [00:08<00:22,  5.80it/s]"
     ]
    },
    {
     "name": "stdout",
     "output_type": "stream",
     "text": [
      "8750154 길원여자고등학교\n",
      "급식 정보 조회 중: 날짜=20241030\n",
      "mealService 응답코드: 200\n",
      "급식 데이터 수: 3\n",
      "8750155 김천고등학교\n",
      "급식 정보 조회 중: 날짜=20241030\n"
     ]
    },
    {
     "name": "stderr",
     "output_type": "stream",
     "text": [
      "[R10] 고등학교 급식 조회:  28%|█▉     | 52/183 [00:09<00:22,  5.91it/s]"
     ]
    },
    {
     "name": "stdout",
     "output_type": "stream",
     "text": [
      "mealService 응답코드: 200\n",
      "급식 데이터 수: 3\n",
      "8750626 김천생명과학고등학교\n",
      "급식 정보 조회 중: 날짜=20241030\n",
      "mealService 응답코드: 200\n",
      "급식 데이터 수: 2\n"
     ]
    },
    {
     "name": "stderr",
     "output_type": "stream",
     "text": [
      "[R10] 고등학교 급식 조회:  30%|██     | 54/183 [00:09<00:21,  5.91it/s]"
     ]
    },
    {
     "name": "stdout",
     "output_type": "stream",
     "text": [
      "8750092 김천여자고등학교\n",
      "급식 정보 조회 중: 날짜=20241030\n",
      "mealService 응답코드: 200\n",
      "급식 데이터 수: 3\n",
      "8750156 김천예술고등학교\n",
      "급식 정보 조회 중: 날짜=20241030\n"
     ]
    },
    {
     "name": "stderr",
     "output_type": "stream",
     "text": [
      "[R10] 고등학교 급식 조회:  30%|██     | 55/183 [00:09<00:21,  5.90it/s]"
     ]
    },
    {
     "name": "stdout",
     "output_type": "stream",
     "text": [
      "mealService 응답코드: 200\n",
      "급식 데이터 수: 3\n",
      "8750093 김천중앙고등학교\n",
      "급식 정보 조회 중: 날짜=20241030\n",
      "mealService 응답코드: 200\n",
      "급식 데이터 수: 3\n"
     ]
    },
    {
     "name": "stderr",
     "output_type": "stream",
     "text": [
      "[R10] 고등학교 급식 조회:  31%|██▏    | 57/183 [00:09<00:21,  5.76it/s]"
     ]
    },
    {
     "name": "stdout",
     "output_type": "stream",
     "text": [
      "8750159 대가야고등학교\n",
      "급식 정보 조회 중: 날짜=20241030\n",
      "mealService 응답코드: 200\n",
      "급식 데이터 수: 3\n",
      "8750594 대구가톨릭대학교사범대학부속무학고등학교\n",
      "급식 정보 조회 중: 날짜=20241030\n"
     ]
    },
    {
     "name": "stderr",
     "output_type": "stream",
     "text": [
      "[R10] 고등학교 급식 조회:  32%|██▏    | 58/183 [00:10<00:23,  5.34it/s]"
     ]
    },
    {
     "name": "stdout",
     "output_type": "stream",
     "text": [
      "mealService 응답코드: 200\n",
      "급식 데이터 수: 3\n",
      "8750160 대동고등학교\n",
      "급식 정보 조회 중: 날짜=20241030\n",
      "mealService 응답코드: 200\n",
      "급식 데이터 수: 2\n"
     ]
    },
    {
     "name": "stderr",
     "output_type": "stream",
     "text": [
      "[R10] 고등학교 급식 조회:  33%|██▎    | 60/183 [00:10<00:22,  5.41it/s]"
     ]
    },
    {
     "name": "stdout",
     "output_type": "stream",
     "text": [
      "8750161 대영고등학교\n",
      "급식 정보 조회 중: 날짜=20241030\n",
      "mealService 응답코드: 200\n",
      "급식 데이터 수: 3\n"
     ]
    },
    {
     "name": "stderr",
     "output_type": "stream",
     "text": [
      "[R10] 고등학교 급식 조회:  33%|██▎    | 61/183 [00:10<00:21,  5.57it/s]"
     ]
    },
    {
     "name": "stdout",
     "output_type": "stream",
     "text": [
      "8750162 대창고등학교\n",
      "급식 정보 조회 중: 날짜=20241030\n",
      "mealService 응답코드: 200\n",
      "급식 데이터 수: 3\n",
      "8750163 도개고등학교\n",
      "급식 정보 조회 중: 날짜=20241030\n"
     ]
    },
    {
     "name": "stderr",
     "output_type": "stream",
     "text": [
      "[R10] 고등학교 급식 조회:  34%|██▎    | 62/183 [00:10<00:21,  5.62it/s]"
     ]
    },
    {
     "name": "stdout",
     "output_type": "stream",
     "text": [
      "mealService 응답코드: 200\n",
      "급식 데이터 수: 3\n",
      "8750812 동국대학교사범대학부속선화여자고등학교\n",
      "급식 정보 조회 중: 날짜=20241030\n",
      "mealService 응답코드: 200\n",
      "급식 데이터 수: 3\n"
     ]
    },
    {
     "name": "stderr",
     "output_type": "stream",
     "text": [
      "[R10] 고등학교 급식 조회:  35%|██▍    | 64/183 [00:11<00:20,  5.70it/s]"
     ]
    },
    {
     "name": "stdout",
     "output_type": "stream",
     "text": [
      "8750095 동명고등학교\n",
      "급식 정보 조회 중: 날짜=20241030\n",
      "mealService 응답코드: 200\n",
      "급식 데이터 수: 2\n",
      "8750165 동지고등학교\n",
      "급식 정보 조회 중: 날짜=20241030\n"
     ]
    },
    {
     "name": "stderr",
     "output_type": "stream",
     "text": [
      "[R10] 고등학교 급식 조회:  36%|██▍    | 65/183 [00:11<00:20,  5.70it/s]"
     ]
    },
    {
     "name": "stdout",
     "output_type": "stream",
     "text": [
      "mealService 응답코드: 200\n",
      "급식 데이터 수: 2\n",
      "8750568 동지여자고등학교\n",
      "급식 정보 조회 중: 날짜=20241030\n",
      "mealService 응답코드: 200\n",
      "급식 데이터 수: 2\n"
     ]
    },
    {
     "name": "stderr",
     "output_type": "stream",
     "text": [
      "[R10] 고등학교 급식 조회:  37%|██▌    | 67/183 [00:11<00:19,  5.87it/s]"
     ]
    },
    {
     "name": "stdout",
     "output_type": "stream",
     "text": [
      "8750518 두호고등학교\n",
      "급식 정보 조회 중: 날짜=20241030\n",
      "mealService 응답코드: 200\n",
      "급식 데이터 수: 2\n",
      "8750762 명인고등학교\n",
      "급식 정보 조회 중: 날짜=20241030\n"
     ]
    },
    {
     "name": "stderr",
     "output_type": "stream",
     "text": [
      "[R10] 고등학교 급식 조회:  37%|██▌    | 68/183 [00:11<00:19,  5.86it/s]"
     ]
    },
    {
     "name": "stdout",
     "output_type": "stream",
     "text": [
      "mealService 응답코드: 200\n",
      "급식 데이터 수: 3\n",
      "8750166 모계고등학교\n",
      "급식 정보 조회 중: 날짜=20241030\n",
      "mealService 응답코드: 200\n",
      "급식 데이터 수: 3\n"
     ]
    },
    {
     "name": "stderr",
     "output_type": "stream",
     "text": [
      "[R10] 고등학교 급식 조회:  38%|██▋    | 70/183 [00:12<00:19,  5.81it/s]"
     ]
    },
    {
     "name": "stdout",
     "output_type": "stream",
     "text": [
      "8750167 무산고등학교\n",
      "급식 정보 조회 중: 날짜=20241030\n",
      "mealService 응답코드: 200\n",
      "급식 데이터 수: 3\n",
      "8750246 문경공업고등학교\n",
      "급식 정보 조회 중: 날짜=20241030\n"
     ]
    },
    {
     "name": "stderr",
     "output_type": "stream",
     "text": [
      "[R10] 고등학교 급식 조회:  39%|██▋    | 71/183 [00:12<00:18,  5.92it/s]"
     ]
    },
    {
     "name": "stdout",
     "output_type": "stream",
     "text": [
      "mealService 응답코드: 200\n",
      "급식 데이터 수: 3\n",
      "8750169 문경여자고등학교\n",
      "급식 정보 조회 중: 날짜=20241030\n",
      "mealService 응답코드: 200\n",
      "급식 데이터 수: 3\n"
     ]
    },
    {
     "name": "stderr",
     "output_type": "stream",
     "text": [
      "[R10] 고등학교 급식 조회:  40%|██▊    | 73/183 [00:12<00:19,  5.67it/s]"
     ]
    },
    {
     "name": "stdout",
     "output_type": "stream",
     "text": [
      "8750170 문명고등학교\n",
      "급식 정보 조회 중: 날짜=20241030\n",
      "mealService 응답코드: 200\n",
      "급식 데이터 수: 3\n",
      "8750171 문창고등학교\n",
      "급식 정보 조회 중: 날짜=20241030\n"
     ]
    },
    {
     "name": "stderr",
     "output_type": "stream",
     "text": [
      "[R10] 고등학교 급식 조회:  40%|██▊    | 74/183 [00:12<00:19,  5.55it/s]"
     ]
    },
    {
     "name": "stdout",
     "output_type": "stream",
     "text": [
      "mealService 응답코드: 200\n",
      "급식 데이터 수: 3\n",
      "8750172 문화고등학교\n",
      "급식 정보 조회 중: 날짜=20241030\n",
      "mealService 응답코드: 200\n",
      "급식 데이터 수: 3\n"
     ]
    },
    {
     "name": "stderr",
     "output_type": "stream",
     "text": [
      "[R10] 고등학교 급식 조회:  42%|██▉    | 76/183 [00:13<00:18,  5.87it/s]"
     ]
    },
    {
     "name": "stdout",
     "output_type": "stream",
     "text": [
      "8750097 봉화고등학교\n",
      "급식 정보 조회 중: 날짜=20241030\n",
      "mealService 응답코드: 200\n",
      "급식 데이터 수: 3\n",
      "8750581 북삼고등학교\n",
      "급식 정보 조회 중: 날짜=20241030\n"
     ]
    },
    {
     "name": "stderr",
     "output_type": "stream",
     "text": [
      "[R10] 고등학교 급식 조회:  42%|██▉    | 77/183 [00:13<00:18,  5.65it/s]"
     ]
    },
    {
     "name": "stdout",
     "output_type": "stream",
     "text": [
      "mealService 응답코드: 200\n",
      "급식 데이터 수: 3\n",
      "8750487 사곡고등학교\n",
      "급식 정보 조회 중: 날짜=20241030\n",
      "mealService 응답코드: 200\n",
      "급식 데이터 수: 2\n"
     ]
    },
    {
     "name": "stderr",
     "output_type": "stream",
     "text": [
      "[R10] 고등학교 급식 조회:  43%|███    | 79/183 [00:13<00:18,  5.60it/s]"
     ]
    },
    {
     "name": "stdout",
     "output_type": "stream",
     "text": [
      "8750654 사동고등학교\n",
      "급식 정보 조회 중: 날짜=20241030\n",
      "mealService 응답코드: 200\n",
      "급식 데이터 수: 2\n",
      "8750536 삼성생활예술고등학교\n",
      "급식 정보 조회 중: 날짜=20241030\n"
     ]
    },
    {
     "name": "stderr",
     "output_type": "stream",
     "text": [
      "[R10] 고등학교 급식 조회:  44%|███    | 80/183 [00:13<00:18,  5.69it/s]"
     ]
    },
    {
     "name": "stdout",
     "output_type": "stream",
     "text": [
      "mealService 응답코드: 200\n",
      "급식 데이터 수: 3\n",
      "8750486 상모고등학교\n",
      "급식 정보 조회 중: 날짜=20241030\n",
      "mealService 응답코드: 200\n",
      "급식 데이터 수: 2\n"
     ]
    },
    {
     "name": "stderr",
     "output_type": "stream",
     "text": [
      "[R10] 고등학교 급식 조회:  45%|███▏   | 82/183 [00:14<00:17,  5.70it/s]"
     ]
    },
    {
     "name": "stdout",
     "output_type": "stream",
     "text": [
      "8750544 상산전자고등학교\n",
      "급식 정보 조회 중: 날짜=20241030\n",
      "mealService 응답코드: 200\n",
      "급식 데이터 수: 2\n",
      "8750174 상주고등학교\n",
      "급식 정보 조회 중: 날짜=20241030\n"
     ]
    },
    {
     "name": "stderr",
     "output_type": "stream",
     "text": [
      "[R10] 고등학교 급식 조회:  45%|███▏   | 83/183 [00:14<00:17,  5.77it/s]"
     ]
    },
    {
     "name": "stdout",
     "output_type": "stream",
     "text": [
      "mealService 응답코드: 200\n",
      "급식 데이터 수: 3\n",
      "8750315 상주공업고등학교\n",
      "급식 정보 조회 중: 날짜=20241030\n",
      "mealService 응답코드: 200\n",
      "급식 데이터 수: 3\n"
     ]
    },
    {
     "name": "stderr",
     "output_type": "stream",
     "text": [
      "[R10] 고등학교 급식 조회:  46%|███▎   | 85/183 [00:14<00:16,  5.87it/s]"
     ]
    },
    {
     "name": "stdout",
     "output_type": "stream",
     "text": [
      "8750104 상주여자고등학교\n",
      "급식 정보 조회 중: 날짜=20241030\n",
      "mealService 응답코드: 200\n",
      "급식 데이터 수: 3\n",
      "8750806 상지미래경영고등학교\n",
      "급식 정보 조회 중: 날짜=20241030\n"
     ]
    },
    {
     "name": "stderr",
     "output_type": "stream",
     "text": [
      "[R10] 고등학교 급식 조회:  47%|███▎   | 86/183 [00:14<00:17,  5.68it/s]"
     ]
    },
    {
     "name": "stdout",
     "output_type": "stream",
     "text": [
      "mealService 응답코드: 200\n",
      "급식 데이터 수: 3\n",
      "8750637 석적고등학교\n",
      "급식 정보 조회 중: 날짜=20241030\n",
      "mealService 응답코드: 200\n",
      "급식 데이터 수: 3\n"
     ]
    },
    {
     "name": "stderr",
     "output_type": "stream",
     "text": [
      "[R10] 고등학교 급식 조회:  48%|███▎   | 87/183 [00:15<00:16,  5.77it/s]"
     ]
    },
    {
     "name": "stdout",
     "output_type": "stream",
     "text": [
      "8750449 선덕여자고등학교\n",
      "급식 정보 조회 중: 날짜=20241030\n",
      "mealService 응답코드: 200\n",
      "급식 데이터 수: 3\n"
     ]
    },
    {
     "name": "stderr",
     "output_type": "stream",
     "text": [
      "[R10] 고등학교 급식 조회:  49%|███▍   | 89/183 [00:15<00:17,  5.52it/s]"
     ]
    },
    {
     "name": "stdout",
     "output_type": "stream",
     "text": [
      "8750105 선산고등학교\n",
      "급식 정보 조회 중: 날짜=20241030\n",
      "mealService 응답코드: 200\n",
      "급식 데이터 수: 3\n",
      "8750519 선주고등학교\n",
      "급식 정보 조회 중: 날짜=20241030\n"
     ]
    },
    {
     "name": "stderr",
     "output_type": "stream",
     "text": [
      "[R10] 고등학교 급식 조회:  49%|███▍   | 90/183 [00:15<00:16,  5.60it/s]"
     ]
    },
    {
     "name": "stdout",
     "output_type": "stream",
     "text": [
      "mealService 응답코드: 200\n",
      "급식 데이터 수: 2\n",
      "8750450 성의고등학교\n",
      "급식 정보 조회 중: 날짜=20241030\n",
      "mealService 응답코드: 200\n",
      "급식 데이터 수: 3\n"
     ]
    },
    {
     "name": "stderr",
     "output_type": "stream",
     "text": [
      "[R10] 고등학교 급식 조회:  50%|███▌   | 92/183 [00:16<00:15,  5.72it/s]"
     ]
    },
    {
     "name": "stdout",
     "output_type": "stream",
     "text": [
      "8750451 성의여자고등학교\n",
      "급식 정보 조회 중: 날짜=20241030\n",
      "mealService 응답코드: 200\n",
      "급식 데이터 수: 2\n",
      "8750177 성주고등학교\n",
      "급식 정보 조회 중: 날짜=20241030\n"
     ]
    },
    {
     "name": "stderr",
     "output_type": "stream",
     "text": [
      "[R10] 고등학교 급식 조회:  51%|███▌   | 93/183 [00:16<00:15,  5.73it/s]"
     ]
    },
    {
     "name": "stdout",
     "output_type": "stream",
     "text": [
      "mealService 응답코드: 200\n",
      "급식 데이터 수: 3\n",
      "8750465 성주여자고등학교\n",
      "급식 정보 조회 중: 날짜=20241030\n",
      "mealService 응답코드: 200\n",
      "급식 데이터 수: 3\n"
     ]
    },
    {
     "name": "stderr",
     "output_type": "stream",
     "text": [
      "[R10] 고등학교 급식 조회:  52%|███▋   | 95/183 [00:16<00:15,  5.77it/s]"
     ]
    },
    {
     "name": "stdout",
     "output_type": "stream",
     "text": [
      "8750178 성창여자고등학교\n",
      "급식 정보 조회 중: 날짜=20241030\n",
      "mealService 응답코드: 200\n",
      "급식 데이터 수: 3\n",
      "8750179 성희여자고등학교\n",
      "급식 정보 조회 중: 날짜=20241030\n"
     ]
    },
    {
     "name": "stderr",
     "output_type": "stream",
     "text": [
      "[R10] 고등학교 급식 조회:  52%|███▋   | 96/183 [00:16<00:15,  5.69it/s]"
     ]
    },
    {
     "name": "stdout",
     "output_type": "stream",
     "text": [
      "mealService 응답코드: 200\n",
      "급식 데이터 수: 3\n",
      "8750180 세명고등학교\n",
      "급식 정보 조회 중: 날짜=20241030\n",
      "mealService 응답코드: 200\n",
      "급식 데이터 수: 2\n"
     ]
    },
    {
     "name": "stderr",
     "output_type": "stream",
     "text": [
      "[R10] 고등학교 급식 조회:  54%|███▋   | 98/183 [00:17<00:14,  5.76it/s]"
     ]
    },
    {
     "name": "stdout",
     "output_type": "stream",
     "text": [
      "8750541 세화고등학교\n",
      "급식 정보 조회 중: 날짜=20241030\n",
      "mealService 응답코드: 200\n",
      "급식 데이터 수: 2\n",
      "8750107 수비고등학교\n",
      "급식 정보 조회 중: 날짜=20241030\n"
     ]
    },
    {
     "name": "stderr",
     "output_type": "stream",
     "text": [
      "[R10] 고등학교 급식 조회:  54%|███▊   | 99/183 [00:17<00:14,  5.85it/s]"
     ]
    },
    {
     "name": "stdout",
     "output_type": "stream",
     "text": [
      "mealService 응답코드: 200\n",
      "급식 데이터 수: 1\n",
      "8750182 순심고등학교\n",
      "급식 정보 조회 중: 날짜=20241030\n",
      "mealService 응답코드: 200\n",
      "급식 데이터 수: 3\n"
     ]
    },
    {
     "name": "stderr",
     "output_type": "stream",
     "text": [
      "[R10] 고등학교 급식 조회:  55%|███▎  | 101/183 [00:17<00:13,  5.94it/s]"
     ]
    },
    {
     "name": "stdout",
     "output_type": "stream",
     "text": [
      "8750183 순심여자고등학교\n",
      "급식 정보 조회 중: 날짜=20241030\n",
      "mealService 응답코드: 200\n",
      "급식 데이터 수: 3\n",
      "8750184 신라고등학교\n",
      "급식 정보 조회 중: 날짜=20241030\n"
     ]
    },
    {
     "name": "stderr",
     "output_type": "stream",
     "text": [
      "[R10] 고등학교 급식 조회:  56%|███▎  | 102/183 [00:17<00:13,  5.90it/s]"
     ]
    },
    {
     "name": "stdout",
     "output_type": "stream",
     "text": [
      "mealService 응답코드: 200\n",
      "급식 데이터 수: 3\n",
      "8750323 신라공업고등학교\n",
      "급식 정보 조회 중: 날짜=20241030\n",
      "mealService 응답코드: 200\n",
      "급식 데이터 수: 3\n"
     ]
    },
    {
     "name": "stderr",
     "output_type": "stream",
     "text": [
      "[R10] 고등학교 급식 조회:  57%|███▍  | 104/183 [00:18<00:13,  5.89it/s]"
     ]
    },
    {
     "name": "stdout",
     "output_type": "stream",
     "text": [
      "8750453 안강전자고등학교\n",
      "급식 정보 조회 중: 날짜=20241030\n",
      "mealService 응답코드: 200\n",
      "급식 데이터 수: 3\n",
      "8750467 안계고등학교\n",
      "급식 정보 조회 중: 날짜=20241030\n"
     ]
    },
    {
     "name": "stderr",
     "output_type": "stream",
     "text": [
      "[R10] 고등학교 급식 조회:  57%|███▍  | 105/183 [00:18<00:13,  5.95it/s]"
     ]
    },
    {
     "name": "stdout",
     "output_type": "stream",
     "text": [
      "mealService 응답코드: 200\n",
      "급식 데이터 수: 3\n",
      "8750113 안동고등학교\n",
      "급식 정보 조회 중: 날짜=20241030\n",
      "mealService 응답코드: 200\n",
      "급식 데이터 수: 3\n"
     ]
    },
    {
     "name": "stderr",
     "output_type": "stream",
     "text": [
      "[R10] 고등학교 급식 조회:  58%|███▌  | 107/183 [00:18<00:12,  6.03it/s]"
     ]
    },
    {
     "name": "stdout",
     "output_type": "stream",
     "text": [
      "8750114 안동여자고등학교\n",
      "급식 정보 조회 중: 날짜=20241030\n",
      "mealService 응답코드: 200\n",
      "급식 데이터 수: 3\n",
      "8750186 안동중앙고등학교\n",
      "급식 정보 조회 중: 날짜=20241030\n"
     ]
    },
    {
     "name": "stderr",
     "output_type": "stream",
     "text": [
      "[R10] 고등학교 급식 조회:  59%|███▌  | 108/183 [00:18<00:12,  5.97it/s]"
     ]
    },
    {
     "name": "stdout",
     "output_type": "stream",
     "text": [
      "mealService 응답코드: 200\n",
      "급식 데이터 수: 3\n",
      "8750115 약목고등학교\n",
      "급식 정보 조회 중: 날짜=20241030\n",
      "mealService 응답코드: 200\n",
      "급식 데이터 수: 3\n"
     ]
    },
    {
     "name": "stderr",
     "output_type": "stream",
     "text": [
      "[R10] 고등학교 급식 조회:  60%|███▌  | 110/183 [00:19<00:12,  5.75it/s]"
     ]
    },
    {
     "name": "stdout",
     "output_type": "stream",
     "text": [
      "8750188 영광고등학교\n",
      "급식 정보 조회 중: 날짜=20241030\n",
      "mealService 응답코드: 200\n",
      "급식 데이터 수: 3\n",
      "8750189 영광여자고등학교\n",
      "급식 정보 조회 중: 날짜=20241030\n"
     ]
    },
    {
     "name": "stderr",
     "output_type": "stream",
     "text": [
      "[R10] 고등학교 급식 조회:  61%|███▋  | 111/183 [00:19<00:12,  5.77it/s]"
     ]
    },
    {
     "name": "stdout",
     "output_type": "stream",
     "text": [
      "mealService 응답코드: 200\n",
      "급식 데이터 수: 3\n",
      "8750190 영남삼육고등학교\n",
      "급식 정보 조회 중: 날짜=20241030\n",
      "mealService 응답코드: 200\n",
      "급식 데이터 수: 3\n"
     ]
    },
    {
     "name": "stderr",
     "output_type": "stream",
     "text": [
      "[R10] 고등학교 급식 조회:  62%|███▋  | 113/183 [00:19<00:11,  5.94it/s]"
     ]
    },
    {
     "name": "stdout",
     "output_type": "stream",
     "text": [
      "8750546 영덕고등학교\n",
      "급식 정보 조회 중: 날짜=20241030\n",
      "mealService 응답코드: 200\n",
      "급식 데이터 수: 2\n",
      "8750191 영덕여자고등학교\n",
      "급식 정보 조회 중: 날짜=20241030\n"
     ]
    },
    {
     "name": "stderr",
     "output_type": "stream",
     "text": [
      "[R10] 고등학교 급식 조회:  62%|███▋  | 114/183 [00:19<00:12,  5.71it/s]"
     ]
    },
    {
     "name": "stdout",
     "output_type": "stream",
     "text": [
      "mealService 응답코드: 200\n",
      "급식 데이터 수: 2\n",
      "8750192 영동고등학교\n",
      "급식 정보 조회 중: 날짜=20241030\n",
      "mealService 응답코드: 200\n",
      "급식 데이터 수: 3\n"
     ]
    },
    {
     "name": "stderr",
     "output_type": "stream",
     "text": [
      "[R10] 고등학교 급식 조회:  63%|███▊  | 116/183 [00:20<00:11,  5.67it/s]"
     ]
    },
    {
     "name": "stdout",
     "output_type": "stream",
     "text": [
      "8750117 영양고등학교\n",
      "급식 정보 조회 중: 날짜=20241030\n",
      "mealService 응답코드: 200\n",
      "급식 데이터 수: 3\n",
      "8750325 영양여자고등학교\n",
      "급식 정보 조회 중: 날짜=20241030\n"
     ]
    },
    {
     "name": "stderr",
     "output_type": "stream",
     "text": [
      "[R10] 고등학교 급식 조회:  64%|███▊  | 117/183 [00:20<00:11,  5.72it/s]"
     ]
    },
    {
     "name": "stdout",
     "output_type": "stream",
     "text": [
      "mealService 응답코드: 200\n",
      "급식 데이터 수: 3\n",
      "8750480 영일고등학교\n",
      "급식 정보 조회 중: 날짜=20241030\n",
      "mealService 응답코드: 200\n",
      "급식 데이터 수: 2\n"
     ]
    },
    {
     "name": "stderr",
     "output_type": "stream",
     "text": [
      "[R10] 고등학교 급식 조회:  65%|███▉  | 119/183 [00:20<00:10,  5.88it/s]"
     ]
    },
    {
     "name": "stdout",
     "output_type": "stream",
     "text": [
      "8750118 영주여자고등학교\n",
      "급식 정보 조회 중: 날짜=20241030\n",
      "mealService 응답코드: 200\n",
      "급식 데이터 수: 3\n",
      "8750456 영주제일고등학교\n",
      "급식 정보 조회 중: 날짜=20241030\n"
     ]
    },
    {
     "name": "stderr",
     "output_type": "stream",
     "text": [
      "[R10] 고등학교 급식 조회:  66%|███▉  | 120/183 [00:20<00:10,  5.94it/s]"
     ]
    },
    {
     "name": "stdout",
     "output_type": "stream",
     "text": [
      "mealService 응답코드: 200\n",
      "급식 데이터 수: 3\n",
      "8750119 영천고등학교\n",
      "급식 정보 조회 중: 날짜=20241030\n",
      "mealService 응답코드: 200\n",
      "급식 데이터 수: 3\n"
     ]
    },
    {
     "name": "stderr",
     "output_type": "stream",
     "text": [
      "[R10] 고등학교 급식 조회:  67%|████  | 122/183 [00:21<00:10,  5.93it/s]"
     ]
    },
    {
     "name": "stdout",
     "output_type": "stream",
     "text": [
      "8750525 영천성남여자고등학교\n",
      "급식 정보 조회 중: 날짜=20241030\n",
      "mealService 응답코드: 200\n",
      "급식 데이터 수: 3\n",
      "8750120 영천여자고등학교\n",
      "급식 정보 조회 중: 날짜=20241030\n"
     ]
    },
    {
     "name": "stderr",
     "output_type": "stream",
     "text": [
      "[R10] 고등학교 급식 조회:  67%|████  | 123/183 [00:21<00:10,  5.64it/s]"
     ]
    },
    {
     "name": "stdout",
     "output_type": "stream",
     "text": [
      "mealService 응답코드: 200\n",
      "급식 데이터 수: 3\n",
      "8750476 영천전자고등학교\n",
      "급식 정보 조회 중: 날짜=20241030\n",
      "mealService 응답코드: 200\n",
      "급식 데이터 수: 3\n"
     ]
    },
    {
     "name": "stderr",
     "output_type": "stream",
     "text": [
      "[R10] 고등학교 급식 조회:  68%|████  | 125/183 [00:21<00:10,  5.74it/s]"
     ]
    },
    {
     "name": "stdout",
     "output_type": "stream",
     "text": [
      "8750121 영해고등학교\n",
      "급식 정보 조회 중: 날짜=20241030\n",
      "mealService 응답코드: 200\n",
      "mealServiceDietInfo 키 없음: {'RESULT': {'CODE': 'INFO-200', 'MESSAGE': '해당하는 데이터가 없습니다.'}}\n",
      "8750768 예일메디텍고등학교\n",
      "급식 정보 조회 중: 날짜=20241030\n"
     ]
    },
    {
     "name": "stderr",
     "output_type": "stream",
     "text": [
      "[R10] 고등학교 급식 조회:  69%|████▏ | 126/183 [00:21<00:09,  5.86it/s]"
     ]
    },
    {
     "name": "stdout",
     "output_type": "stream",
     "text": [
      "mealService 응답코드: 200\n",
      "급식 데이터 수: 3\n",
      "8750122 예천여자고등학교\n",
      "급식 정보 조회 중: 날짜=20241030\n",
      "mealService 응답코드: 200\n",
      "급식 데이터 수: 3\n"
     ]
    },
    {
     "name": "stderr",
     "output_type": "stream",
     "text": [
      "[R10] 고등학교 급식 조회:  70%|████▏ | 128/183 [00:22<00:09,  5.76it/s]"
     ]
    },
    {
     "name": "stdout",
     "output_type": "stream",
     "text": [
      "8750198 오상고등학교\n",
      "급식 정보 조회 중: 날짜=20241030\n",
      "mealService 응답코드: 200\n",
      "급식 데이터 수: 3\n"
     ]
    },
    {
     "name": "stderr",
     "output_type": "stream",
     "text": [
      "[R10] 고등학교 급식 조회:  70%|████▏ | 129/183 [00:22<00:09,  5.82it/s]"
     ]
    },
    {
     "name": "stdout",
     "output_type": "stream",
     "text": [
      "8750468 오천고등학교\n",
      "급식 정보 조회 중: 날짜=20241030\n",
      "mealService 응답코드: 200\n",
      "급식 데이터 수: 2\n",
      "8750589 우석여자고등학교\n",
      "급식 정보 조회 중: 날짜=20241030\n"
     ]
    },
    {
     "name": "stderr",
     "output_type": "stream",
     "text": [
      "[R10] 고등학교 급식 조회:  71%|████▎ | 130/183 [00:22<00:09,  5.70it/s]"
     ]
    },
    {
     "name": "stdout",
     "output_type": "stream",
     "text": [
      "mealService 응답코드: 200\n",
      "급식 데이터 수: 2\n",
      "8750587 울릉고등학교\n",
      "급식 정보 조회 중: 날짜=20241030\n",
      "mealService 응답코드: 200\n",
      "급식 데이터 수: 1\n"
     ]
    },
    {
     "name": "stderr",
     "output_type": "stream",
     "text": [
      "[R10] 고등학교 급식 조회:  72%|████▎ | 132/183 [00:22<00:08,  5.75it/s]"
     ]
    },
    {
     "name": "stdout",
     "output_type": "stream",
     "text": [
      "8750419 울진고등학교\n",
      "급식 정보 조회 중: 날짜=20241030\n",
      "mealService 응답코드: 200\n",
      "급식 데이터 수: 3\n",
      "8750201 유성여자고등학교\n",
      "급식 정보 조회 중: 날짜=20241030\n"
     ]
    },
    {
     "name": "stderr",
     "output_type": "stream",
     "text": [
      "[R10] 고등학교 급식 조회:  73%|████▎ | 133/183 [00:23<00:08,  5.66it/s]"
     ]
    },
    {
     "name": "stdout",
     "output_type": "stream",
     "text": [
      "mealService 응답코드: 200\n",
      "급식 데이터 수: 2\n",
      "8750656 율곡고등학교\n",
      "급식 정보 조회 중: 날짜=20241030\n",
      "mealService 응답코드: 200\n",
      "급식 데이터 수: 3\n"
     ]
    },
    {
     "name": "stderr",
     "output_type": "stream",
     "text": [
      "[R10] 고등학교 급식 조회:  74%|████▍ | 135/183 [00:23<00:08,  5.73it/s]"
     ]
    },
    {
     "name": "stdout",
     "output_type": "stream",
     "text": [
      "8750202 의성고등학교\n",
      "급식 정보 조회 중: 날짜=20241030\n",
      "mealService 응답코드: 200\n",
      "급식 데이터 수: 3\n",
      "8750124 의성여자고등학교\n",
      "급식 정보 조회 중: 날짜=20241030\n"
     ]
    },
    {
     "name": "stderr",
     "output_type": "stream",
     "text": [
      "[R10] 고등학교 급식 조회:  74%|████▍ | 136/183 [00:23<00:08,  5.57it/s]"
     ]
    },
    {
     "name": "stdout",
     "output_type": "stream",
     "text": [
      "mealService 응답코드: 200\n",
      "급식 데이터 수: 3\n",
      "8750766 의성유니텍고등학교\n",
      "급식 정보 조회 중: 날짜=20241030\n",
      "mealService 응답코드: 200\n",
      "급식 데이터 수: 3\n"
     ]
    },
    {
     "name": "stderr",
     "output_type": "stream",
     "text": [
      "[R10] 고등학교 급식 조회:  75%|████▌ | 138/183 [00:24<00:08,  5.57it/s]"
     ]
    },
    {
     "name": "stdout",
     "output_type": "stream",
     "text": [
      "8750203 이서고등학교\n",
      "급식 정보 조회 중: 날짜=20241030\n",
      "mealService 응답코드: 200\n",
      "급식 데이터 수: 3\n"
     ]
    },
    {
     "name": "stderr",
     "output_type": "stream",
     "text": [
      "[R10] 고등학교 급식 조회:  76%|████▌ | 139/183 [00:24<00:07,  5.69it/s]"
     ]
    },
    {
     "name": "stdout",
     "output_type": "stream",
     "text": [
      "8750473 인동고등학교\n",
      "급식 정보 조회 중: 날짜=20241030\n",
      "mealService 응답코드: 200\n",
      "급식 데이터 수: 2\n",
      "8750127 점촌고등학교\n",
      "급식 정보 조회 중: 날짜=20241030\n"
     ]
    },
    {
     "name": "stderr",
     "output_type": "stream",
     "text": [
      "[R10] 고등학교 급식 조회:  77%|████▌ | 140/183 [00:24<00:07,  5.63it/s]"
     ]
    },
    {
     "name": "stdout",
     "output_type": "stream",
     "text": [
      "mealService 응답코드: 200\n",
      "급식 데이터 수: 3\n",
      "8750559 죽변고등학교\n",
      "급식 정보 조회 중: 날짜=20241030\n",
      "mealService 응답코드: 200\n",
      "급식 데이터 수: 3\n"
     ]
    },
    {
     "name": "stderr",
     "output_type": "stream",
     "text": [
      "[R10] 고등학교 급식 조회:  78%|████▋ | 142/183 [00:24<00:06,  5.86it/s]"
     ]
    },
    {
     "name": "stdout",
     "output_type": "stream",
     "text": [
      "8750205 진량고등학교\n",
      "급식 정보 조회 중: 날짜=20241030\n",
      "mealService 응답코드: 200\n",
      "급식 데이터 수: 3\n",
      "8750535 진보고등학교\n",
      "급식 정보 조회 중: 날짜=20241030\n"
     ]
    },
    {
     "name": "stderr",
     "output_type": "stream",
     "text": [
      "[R10] 고등학교 급식 조회:  78%|████▋ | 143/183 [00:24<00:06,  5.96it/s]"
     ]
    },
    {
     "name": "stdout",
     "output_type": "stream",
     "text": [
      "mealService 응답코드: 200\n",
      "급식 데이터 수: 3\n",
      "8750558 청도고등학교\n",
      "급식 정보 조회 중: 날짜=20241030\n",
      "mealService 응답코드: 200\n",
      "급식 데이터 수: 2\n"
     ]
    },
    {
     "name": "stderr",
     "output_type": "stream",
     "text": [
      "[R10] 고등학교 급식 조회:  79%|████▊ | 145/183 [00:25<00:06,  6.01it/s]"
     ]
    },
    {
     "name": "stdout",
     "output_type": "stream",
     "text": [
      "8750130 청송고등학교\n",
      "급식 정보 조회 중: 날짜=20241030\n",
      "mealService 응답코드: 200\n",
      "급식 데이터 수: 3\n",
      "8750632 청송여자고등학교\n",
      "급식 정보 조회 중: 날짜=20241030\n"
     ]
    },
    {
     "name": "stderr",
     "output_type": "stream",
     "text": [
      "[R10] 고등학교 급식 조회:  80%|████▊ | 146/183 [00:25<00:06,  5.92it/s]"
     ]
    },
    {
     "name": "stdout",
     "output_type": "stream",
     "text": [
      "mealService 응답코드: 200\n",
      "급식 데이터 수: 3\n",
      "8750655 포은고등학교\n",
      "급식 정보 조회 중: 날짜=20241030\n",
      "mealService 응답코드: 200\n",
      "mealServiceDietInfo 키 없음: {'RESULT': {'CODE': 'INFO-200', 'MESSAGE': '해당하는 데이터가 없습니다.'}}\n"
     ]
    },
    {
     "name": "stderr",
     "output_type": "stream",
     "text": [
      "[R10] 고등학교 급식 조회:  81%|████▊ | 148/183 [00:25<00:05,  5.93it/s]"
     ]
    },
    {
     "name": "stdout",
     "output_type": "stream",
     "text": [
      "8750133 포항고등학교\n",
      "급식 정보 조회 중: 날짜=20241030\n",
      "mealService 응답코드: 200\n",
      "급식 데이터 수: 2\n",
      "8750625 포항과학기술고등학교\n",
      "급식 정보 조회 중: 날짜=20241030\n"
     ]
    },
    {
     "name": "stderr",
     "output_type": "stream",
     "text": [
      "[R10] 고등학교 급식 조회:  81%|████▉ | 149/183 [00:25<00:05,  5.86it/s]"
     ]
    },
    {
     "name": "stdout",
     "output_type": "stream",
     "text": [
      "mealService 응답코드: 200\n",
      "급식 데이터 수: 3\n",
      "8750542 포항동성고등학교\n",
      "급식 정보 조회 중: 날짜=20241030\n",
      "mealService 응답코드: 200\n",
      "급식 데이터 수: 3\n"
     ]
    },
    {
     "name": "stderr",
     "output_type": "stream",
     "text": [
      "[R10] 고등학교 급식 조회:  83%|████▉ | 151/183 [00:26<00:05,  5.69it/s]"
     ]
    },
    {
     "name": "stdout",
     "output_type": "stream",
     "text": [
      "8750769 포항보건고등학교\n",
      "급식 정보 조회 중: 날짜=20241030\n",
      "mealService 응답코드: 200\n",
      "급식 데이터 수: 3\n"
     ]
    },
    {
     "name": "stderr",
     "output_type": "stream",
     "text": [
      "[R10] 고등학교 급식 조회:  83%|████▉ | 152/183 [00:26<00:05,  5.84it/s]"
     ]
    },
    {
     "name": "stdout",
     "output_type": "stream",
     "text": [
      "8750134 포항여자고등학교\n",
      "급식 정보 조회 중: 날짜=20241030\n",
      "mealService 응답코드: 200\n",
      "급식 데이터 수: 2\n",
      "8750292 포항여자전자고등학교\n",
      "급식 정보 조회 중: 날짜=20241030\n"
     ]
    },
    {
     "name": "stderr",
     "output_type": "stream",
     "text": [
      "[R10] 고등학교 급식 조회:  84%|█████ | 153/183 [00:26<00:05,  5.95it/s]"
     ]
    },
    {
     "name": "stdout",
     "output_type": "stream",
     "text": [
      "mealService 응답코드: 200\n",
      "급식 데이터 수: 1\n",
      "8750208 포항영신고등학교\n",
      "급식 정보 조회 중: 날짜=20241030\n",
      "mealService 응답코드: 200\n",
      "급식 데이터 수: 2\n"
     ]
    },
    {
     "name": "stderr",
     "output_type": "stream",
     "text": [
      "[R10] 고등학교 급식 조회:  85%|█████ | 155/183 [00:26<00:04,  5.98it/s]"
     ]
    },
    {
     "name": "stdout",
     "output_type": "stream",
     "text": [
      "8750209 포항예술고등학교\n",
      "급식 정보 조회 중: 날짜=20241030\n",
      "mealService 응답코드: 200\n",
      "급식 데이터 수: 3\n",
      "8750539 포항이동고등학교\n",
      "급식 정보 조회 중: 날짜=20241030\n"
     ]
    },
    {
     "name": "stderr",
     "output_type": "stream",
     "text": [
      "[R10] 고등학교 급식 조회:  85%|█████ | 156/183 [00:27<00:04,  5.80it/s]"
     ]
    },
    {
     "name": "stdout",
     "output_type": "stream",
     "text": [
      "mealService 응답코드: 200\n",
      "급식 데이터 수: 2\n",
      "8750534 포항장성고등학교\n",
      "급식 정보 조회 중: 날짜=20241030\n",
      "mealService 응답코드: 200\n",
      "급식 데이터 수: 2\n"
     ]
    },
    {
     "name": "stderr",
     "output_type": "stream",
     "text": [
      "[R10] 고등학교 급식 조회:  86%|█████▏| 158/183 [00:27<00:04,  5.84it/s]"
     ]
    },
    {
     "name": "stdout",
     "output_type": "stream",
     "text": [
      "8750210 포항제철고등학교\n",
      "급식 정보 조회 중: 날짜=20241030\n",
      "mealService 응답코드: 200\n",
      "mealServiceDietInfo 키 없음: {'RESULT': {'CODE': 'INFO-200', 'MESSAGE': '해당하는 데이터가 없습니다.'}}\n",
      "8750337 포항제철공업고등학교\n",
      "급식 정보 조회 중: 날짜=20241030\n"
     ]
    },
    {
     "name": "stderr",
     "output_type": "stream",
     "text": [
      "[R10] 고등학교 급식 조회:  87%|█████▏| 159/183 [00:27<00:04,  5.17it/s]"
     ]
    },
    {
     "name": "stdout",
     "output_type": "stream",
     "text": [
      "mealService 응답코드: 200\n",
      "급식 데이터 수: 3\n",
      "8750211 포항중앙고등학교\n",
      "급식 정보 조회 중: 날짜=20241030\n",
      "mealService 응답코드: 200\n",
      "급식 데이터 수: 2\n"
     ]
    },
    {
     "name": "stderr",
     "output_type": "stream",
     "text": [
      "[R10] 고등학교 급식 조회:  88%|█████▎| 161/183 [00:28<00:04,  5.36it/s]"
     ]
    },
    {
     "name": "stdout",
     "output_type": "stream",
     "text": [
      "8750212 포항중앙여자고등학교\n",
      "급식 정보 조회 중: 날짜=20241030\n",
      "mealService 응답코드: 200\n",
      "급식 데이터 수: 2\n",
      "8750670 포항흥해공업고등학교\n",
      "급식 정보 조회 중: 날짜=20241030\n"
     ]
    },
    {
     "name": "stderr",
     "output_type": "stream",
     "text": [
      "[R10] 고등학교 급식 조회:  89%|█████▎| 162/183 [00:28<00:03,  5.35it/s]"
     ]
    },
    {
     "name": "stdout",
     "output_type": "stream",
     "text": [
      "mealService 응답코드: 200\n",
      "급식 데이터 수: 1\n",
      "8750475 풍산고등학교\n",
      "급식 정보 조회 중: 날짜=20241030\n",
      "mealService 응답코드: 200\n",
      "급식 데이터 수: 3\n"
     ]
    },
    {
     "name": "stderr",
     "output_type": "stream",
     "text": [
      "[R10] 고등학교 급식 조회:  90%|█████▍| 164/183 [00:28<00:03,  5.67it/s]"
     ]
    },
    {
     "name": "stdout",
     "output_type": "stream",
     "text": [
      "8750214 하양여자고등학교\n",
      "급식 정보 조회 중: 날짜=20241030\n",
      "mealService 응답코드: 200\n",
      "급식 데이터 수: 3\n",
      "8750763 한국국제조리고등학교\n",
      "급식 정보 조회 중: 날짜=20241030\n"
     ]
    },
    {
     "name": "stderr",
     "output_type": "stream",
     "text": [
      "[R10] 고등학교 급식 조회:  90%|█████▍| 165/183 [00:28<00:03,  5.79it/s]"
     ]
    },
    {
     "name": "stdout",
     "output_type": "stream",
     "text": [
      "mealService 응답코드: 200\n",
      "급식 데이터 수: 3\n",
      "8750757 한국국제통상마이스터고등학교\n",
      "급식 정보 조회 중: 날짜=20241030\n",
      "mealService 응답코드: 200\n",
      "급식 데이터 수: 3\n"
     ]
    },
    {
     "name": "stderr",
     "output_type": "stream",
     "text": [
      "[R10] 고등학교 급식 조회:  91%|█████▍| 167/183 [00:29<00:02,  5.81it/s]"
     ]
    },
    {
     "name": "stdout",
     "output_type": "stream",
     "text": [
      "8750775 한국미래농업고등학교\n",
      "급식 정보 조회 중: 날짜=20241030\n",
      "mealService 응답코드: 200\n",
      "급식 데이터 수: 3\n",
      "8750807 한국미래산업고등학교\n",
      "급식 정보 조회 중: 날짜=20241030\n"
     ]
    },
    {
     "name": "stderr",
     "output_type": "stream",
     "text": [
      "[R10] 고등학교 급식 조회:  92%|█████▌| 168/183 [00:29<00:02,  5.91it/s]"
     ]
    },
    {
     "name": "stdout",
     "output_type": "stream",
     "text": [
      "mealService 응답코드: 200\n",
      "급식 데이터 수: 3\n",
      "8750630 한국산림과학고등학교\n",
      "급식 정보 조회 중: 날짜=20241030\n",
      "mealService 응답코드: 200\n",
      "급식 데이터 수: 3\n"
     ]
    },
    {
     "name": "stderr",
     "output_type": "stream",
     "text": [
      "[R10] 고등학교 급식 조회:  93%|█████▌| 170/183 [00:29<00:02,  5.89it/s]"
     ]
    },
    {
     "name": "stdout",
     "output_type": "stream",
     "text": [
      "8750556 한국생명과학고등학교\n",
      "급식 정보 조회 중: 날짜=20241030\n",
      "mealService 응답코드: 200\n",
      "급식 데이터 수: 3\n",
      "8750652 한국원자력마이스터고등학교\n",
      "급식 정보 조회 중: 날짜=20241030\n"
     ]
    },
    {
     "name": "stderr",
     "output_type": "stream",
     "text": [
      "[R10] 고등학교 급식 조회:  93%|█████▌| 171/183 [00:29<00:02,  5.87it/s]"
     ]
    },
    {
     "name": "stdout",
     "output_type": "stream",
     "text": [
      "mealService 응답코드: 200\n",
      "급식 데이터 수: 3\n",
      "8750830 한국조리명장고등학교\n",
      "급식 정보 조회 중: 날짜=20241030\n",
      "mealService 응답코드: 200\n",
      "mealServiceDietInfo 키 없음: {'RESULT': {'CODE': 'INFO-200', 'MESSAGE': '해당하는 데이터가 없습니다.'}}\n"
     ]
    },
    {
     "name": "stderr",
     "output_type": "stream",
     "text": [
      "[R10] 고등학교 급식 조회:  95%|█████▋| 173/183 [00:30<00:01,  5.91it/s]"
     ]
    },
    {
     "name": "stdout",
     "output_type": "stream",
     "text": [
      "8750831 한국철도고등학교\n",
      "급식 정보 조회 중: 날짜=20241030\n",
      "mealService 응답코드: 200\n",
      "mealServiceDietInfo 키 없음: {'RESULT': {'CODE': 'INFO-200', 'MESSAGE': '해당하는 데이터가 없습니다.'}}\n",
      "8750732 한국펫고등학교\n",
      "급식 정보 조회 중: 날짜=20241030\n"
     ]
    },
    {
     "name": "stderr",
     "output_type": "stream",
     "text": [
      "[R10] 고등학교 급식 조회:  95%|█████▋| 174/183 [00:30<00:01,  5.86it/s]"
     ]
    },
    {
     "name": "stdout",
     "output_type": "stream",
     "text": [
      "mealService 응답코드: 200\n",
      "급식 데이터 수: 3\n",
      "8750804 한국해양마이스터고등학교\n",
      "급식 정보 조회 중: 날짜=20241030\n",
      "mealService 응답코드: 200\n",
      "급식 데이터 수: 3\n"
     ]
    },
    {
     "name": "stderr",
     "output_type": "stream",
     "text": [
      "[R10] 고등학교 급식 조회:  96%|█████▊| 176/183 [00:30<00:01,  5.87it/s]"
     ]
    },
    {
     "name": "stdout",
     "output_type": "stream",
     "text": [
      "8750216 한일여자고등학교\n",
      "급식 정보 조회 중: 날짜=20241030\n",
      "mealService 응답코드: 200\n",
      "급식 데이터 수: 3\n",
      "8750217 함창고등학교\n",
      "급식 정보 조회 중: 날짜=20241030\n"
     ]
    },
    {
     "name": "stderr",
     "output_type": "stream",
     "text": [
      "[R10] 고등학교 급식 조회:  97%|█████▊| 177/183 [00:30<00:01,  5.93it/s]"
     ]
    },
    {
     "name": "stdout",
     "output_type": "stream",
     "text": [
      "mealService 응답코드: 200\n",
      "급식 데이터 수: 3\n",
      "8750136 현서고등학교\n",
      "급식 정보 조회 중: 날짜=20241030\n",
      "mealService 응답코드: 200\n",
      "급식 데이터 수: 3\n"
     ]
    },
    {
     "name": "stderr",
     "output_type": "stream",
     "text": [
      "[R10] 고등학교 급식 조회:  98%|█████▊| 179/183 [00:31<00:00,  5.97it/s]"
     ]
    },
    {
     "name": "stdout",
     "output_type": "stream",
     "text": [
      "8750218 현일고등학교\n",
      "급식 정보 조회 중: 날짜=20241030\n",
      "mealService 응답코드: 200\n",
      "급식 데이터 수: 3\n",
      "8750566 형곡고등학교\n",
      "급식 정보 조회 중: 날짜=20241030\n"
     ]
    },
    {
     "name": "stderr",
     "output_type": "stream",
     "text": [
      "[R10] 고등학교 급식 조회:  98%|█████▉| 180/183 [00:31<00:00,  6.05it/s]"
     ]
    },
    {
     "name": "stdout",
     "output_type": "stream",
     "text": [
      "mealService 응답코드: 200\n",
      "급식 데이터 수: 2\n",
      "8750138 화령고등학교\n",
      "급식 정보 조회 중: 날짜=20241030\n",
      "mealService 응답코드: 200\n",
      "mealServiceDietInfo 키 없음: {'RESULT': {'CODE': 'INFO-200', 'MESSAGE': '해당하는 데이터가 없습니다.'}}\n"
     ]
    },
    {
     "name": "stderr",
     "output_type": "stream",
     "text": [
      "[R10] 고등학교 급식 조회:  99%|█████▉| 182/183 [00:31<00:00,  5.75it/s]"
     ]
    },
    {
     "name": "stdout",
     "output_type": "stream",
     "text": [
      "8750669 효청보건고등학교\n",
      "급식 정보 조회 중: 날짜=20241030\n",
      "mealService 응답코드: 200\n",
      "급식 데이터 수: 3\n"
     ]
    },
    {
     "name": "stderr",
     "output_type": "stream",
     "text": [
      "[R10] 고등학교 급식 조회: 100%|██████| 183/183 [00:31<00:00,  5.76it/s]\n"
     ]
    },
    {
     "name": "stdout",
     "output_type": "stream",
     "text": [
      "8750140 후포고등학교\n",
      "급식 정보 조회 중: 날짜=20241030\n",
      "mealService 응답코드: 200\n",
      "급식 데이터 수: 3\n",
      "응답코드 : 200\n"
     ]
    },
    {
     "name": "stderr",
     "output_type": "stream",
     "text": [
      "[S10] 고등학교 급식 조회:   1%|        | 1/193 [00:00<00:31,  6.06it/s]"
     ]
    },
    {
     "name": "stdout",
     "output_type": "stream",
     "text": [
      "9010438 간디고등학교\n",
      "급식 정보 조회 중: 날짜=20241030\n",
      "mealService 응답코드: 200\n",
      "급식 데이터 수: 3\n",
      "9010079 거제고등학교\n",
      "급식 정보 조회 중: 날짜=20241030\n"
     ]
    },
    {
     "name": "stderr",
     "output_type": "stream",
     "text": [
      "[S10] 고등학교 급식 조회:   1%|        | 2/193 [00:00<00:31,  6.00it/s]"
     ]
    },
    {
     "name": "stdout",
     "output_type": "stream",
     "text": [
      "mealService 응답코드: 200\n",
      "급식 데이터 수: 1\n",
      "9010123 거제공업고등학교\n",
      "급식 정보 조회 중: 날짜=20241030\n",
      "mealService 응답코드: 200\n",
      "mealServiceDietInfo 키 없음: {'RESULT': {'CODE': 'INFO-200', 'MESSAGE': '해당하는 데이터가 없습니다.'}}\n"
     ]
    },
    {
     "name": "stderr",
     "output_type": "stream",
     "text": [
      "[S10] 고등학교 급식 조회:   2%|▏       | 4/193 [00:00<00:32,  5.84it/s]"
     ]
    },
    {
     "name": "stdout",
     "output_type": "stream",
     "text": [
      "9010480 거제상문고등학교\n",
      "급식 정보 조회 중: 날짜=20241030\n",
      "mealService 응답코드: 200\n",
      "급식 데이터 수: 2\n",
      "9010479 거제여자상업고등학교\n",
      "급식 정보 조회 중: 날짜=20241030\n"
     ]
    },
    {
     "name": "stderr",
     "output_type": "stream",
     "text": [
      "[S10] 고등학교 급식 조회:   3%|▏       | 5/193 [00:00<00:33,  5.67it/s]"
     ]
    },
    {
     "name": "stdout",
     "output_type": "stream",
     "text": [
      "mealService 응답코드: 200\n",
      "급식 데이터 수: 3\n",
      "9010323 거제옥포고등학교\n",
      "급식 정보 조회 중: 날짜=20241030\n",
      "mealService 응답코드: 200\n",
      "급식 데이터 수: 3\n"
     ]
    },
    {
     "name": "stderr",
     "output_type": "stream",
     "text": [
      "[S10] 고등학교 급식 조회:   4%|▎       | 7/193 [00:01<00:32,  5.75it/s]"
     ]
    },
    {
     "name": "stdout",
     "output_type": "stream",
     "text": [
      "9010275 거제제일고등학교\n",
      "급식 정보 조회 중: 날짜=20241030\n",
      "mealService 응답코드: 200\n",
      "급식 데이터 수: 1\n",
      "9010031 거제중앙고등학교\n",
      "급식 정보 조회 중: 날짜=20241030\n"
     ]
    },
    {
     "name": "stderr",
     "output_type": "stream",
     "text": [
      "[S10] 고등학교 급식 조회:   4%|▎       | 8/193 [00:01<00:31,  5.81it/s]"
     ]
    },
    {
     "name": "stdout",
     "output_type": "stream",
     "text": [
      "mealService 응답코드: 200\n",
      "급식 데이터 수: 2\n",
      "9010080 거창고등학교\n",
      "급식 정보 조회 중: 날짜=20241030\n",
      "mealService 응답코드: 200\n",
      "급식 데이터 수: 3\n"
     ]
    },
    {
     "name": "stderr",
     "output_type": "stream",
     "text": [
      "[S10] 고등학교 급식 조회:   5%|▎      | 10/193 [00:01<00:31,  5.87it/s]"
     ]
    },
    {
     "name": "stdout",
     "output_type": "stream",
     "text": [
      "9010081 거창대성고등학교\n",
      "급식 정보 조회 중: 날짜=20241030\n",
      "mealService 응답코드: 200\n",
      "급식 데이터 수: 3\n",
      "9010690 거창승강기고등학교\n",
      "급식 정보 조회 중: 날짜=20241030\n"
     ]
    },
    {
     "name": "stderr",
     "output_type": "stream",
     "text": [
      "[S10] 고등학교 급식 조회:   6%|▍      | 11/193 [00:01<00:31,  5.72it/s]"
     ]
    },
    {
     "name": "stdout",
     "output_type": "stream",
     "text": [
      "mealService 응답코드: 200\n",
      "급식 데이터 수: 3\n",
      "9010032 거창여자고등학교\n",
      "급식 정보 조회 중: 날짜=20241030\n",
      "mealService 응답코드: 200\n",
      "급식 데이터 수: 3\n"
     ]
    },
    {
     "name": "stderr",
     "output_type": "stream",
     "text": [
      "[S10] 고등학교 급식 조회:   7%|▍      | 13/193 [00:02<00:31,  5.69it/s]"
     ]
    },
    {
     "name": "stdout",
     "output_type": "stream",
     "text": [
      "9010240 거창중앙고등학교\n",
      "급식 정보 조회 중: 날짜=20241030\n",
      "mealService 응답코드: 200\n",
      "급식 데이터 수: 2\n",
      "9010437 경남간호고등학교\n",
      "급식 정보 조회 중: 날짜=20241030\n"
     ]
    },
    {
     "name": "stderr",
     "output_type": "stream",
     "text": [
      "[S10] 고등학교 급식 조회:   7%|▌      | 14/193 [00:02<00:32,  5.57it/s]"
     ]
    },
    {
     "name": "stdout",
     "output_type": "stream",
     "text": [
      "mealService 응답코드: 200\n",
      "급식 데이터 수: 3\n",
      "9010033 경남과학고등학교\n",
      "급식 정보 조회 중: 날짜=20241030\n",
      "mealService 응답코드: 200\n",
      "급식 데이터 수: 3\n"
     ]
    },
    {
     "name": "stderr",
     "output_type": "stream",
     "text": [
      "[S10] 고등학교 급식 조회:   8%|▌      | 16/193 [00:02<00:31,  5.61it/s]"
     ]
    },
    {
     "name": "stdout",
     "output_type": "stream",
     "text": [
      "9010334 경남관광고등학교\n",
      "급식 정보 조회 중: 날짜=20241030\n",
      "mealService 응답코드: 200\n",
      "급식 데이터 수: 1\n",
      "9010505 경남로봇고등학교\n",
      "급식 정보 조회 중: 날짜=20241030\n"
     ]
    },
    {
     "name": "stderr",
     "output_type": "stream",
     "text": [
      "[S10] 고등학교 급식 조회:   9%|▌      | 17/193 [00:03<00:32,  5.39it/s]"
     ]
    },
    {
     "name": "stdout",
     "output_type": "stream",
     "text": [
      "mealService 응답코드: 200\n",
      "급식 데이터 수: 3\n",
      "9010332 경남산업고등학교\n",
      "급식 정보 조회 중: 날짜=20241030\n",
      "mealService 응답코드: 200\n",
      "급식 데이터 수: 1\n"
     ]
    },
    {
     "name": "stderr",
     "output_type": "stream",
     "text": [
      "[S10] 고등학교 급식 조회:  10%|▋      | 19/193 [00:03<00:31,  5.51it/s]"
     ]
    },
    {
     "name": "stdout",
     "output_type": "stream",
     "text": [
      "9010082 경남예술고등학교\n",
      "급식 정보 조회 중: 날짜=20241030\n",
      "mealService 응답코드: 200\n",
      "급식 데이터 수: 3\n",
      "9010083 경남외국어고등학교\n",
      "급식 정보 조회 중: 날짜=20241030\n"
     ]
    },
    {
     "name": "stderr",
     "output_type": "stream",
     "text": [
      "[S10] 고등학교 급식 조회:  10%|▋      | 20/193 [00:03<00:31,  5.53it/s]"
     ]
    },
    {
     "name": "stdout",
     "output_type": "stream",
     "text": [
      "mealService 응답코드: 200\n",
      "급식 데이터 수: 3\n",
      "9010335 경남자동차고등학교\n",
      "급식 정보 조회 중: 날짜=20241030\n",
      "mealService 응답코드: 200\n",
      "급식 데이터 수: 3\n"
     ]
    },
    {
     "name": "stderr",
     "output_type": "stream",
     "text": [
      "[S10] 고등학교 급식 조회:  11%|▊      | 22/193 [00:03<00:29,  5.73it/s]"
     ]
    },
    {
     "name": "stdout",
     "output_type": "stream",
     "text": [
      "9010128 경남자영고등학교\n",
      "급식 정보 조회 중: 날짜=20241030\n",
      "mealService 응답코드: 200\n",
      "급식 데이터 수: 3\n",
      "9010234 경남정보고등학교\n",
      "급식 정보 조회 중: 날짜=20241030\n"
     ]
    },
    {
     "name": "stderr",
     "output_type": "stream",
     "text": [
      "[S10] 고등학교 급식 조회:  12%|▊      | 23/193 [00:04<00:29,  5.81it/s]"
     ]
    },
    {
     "name": "stdout",
     "output_type": "stream",
     "text": [
      "mealService 응답코드: 200\n",
      "mealServiceDietInfo 키 없음: {'RESULT': {'CODE': 'INFO-200', 'MESSAGE': '해당하는 데이터가 없습니다.'}}\n",
      "9010034 경남체육고등학교\n",
      "급식 정보 조회 중: 날짜=20241030\n",
      "mealService 응답코드: 200\n",
      "급식 데이터 수: 3\n"
     ]
    },
    {
     "name": "stderr",
     "output_type": "stream",
     "text": [
      "[S10] 고등학교 급식 조회:  13%|▉      | 25/193 [00:04<00:28,  5.92it/s]"
     ]
    },
    {
     "name": "stdout",
     "output_type": "stream",
     "text": [
      "9010129 경남항공고등학교\n",
      "급식 정보 조회 중: 날짜=20241030\n",
      "mealService 응답코드: 200\n",
      "급식 데이터 수: 3\n",
      "9010301 경남해양과학고등학교\n",
      "급식 정보 조회 중: 날짜=20241030\n"
     ]
    },
    {
     "name": "stderr",
     "output_type": "stream",
     "text": [
      "[S10] 고등학교 급식 조회:  13%|▉      | 26/193 [00:04<00:28,  5.80it/s]"
     ]
    },
    {
     "name": "stdout",
     "output_type": "stream",
     "text": [
      "mealService 응답코드: 200\n",
      "급식 데이터 수: 3\n",
      "9010084 경상고등학교\n",
      "급식 정보 조회 중: 날짜=20241030\n",
      "mealService 응답코드: 200\n",
      "급식 데이터 수: 3\n"
     ]
    },
    {
     "name": "stderr",
     "output_type": "stream",
     "text": [
      "[S10] 고등학교 급식 조회:  15%|█      | 28/193 [00:04<00:27,  6.00it/s]"
     ]
    },
    {
     "name": "stdout",
     "output_type": "stream",
     "text": [
      "C020714 경상국립대학교사범대학부설고등학교\n",
      "급식 정보 조회 중: 날짜=20241030\n",
      "mealService 응답코드: 200\n",
      "급식 데이터 수: 1\n",
      "9010280 경진고등학교\n",
      "급식 정보 조회 중: 날짜=20241030\n"
     ]
    },
    {
     "name": "stderr",
     "output_type": "stream",
     "text": [
      "[S10] 고등학교 급식 조회:  15%|█      | 29/193 [00:05<00:27,  5.89it/s]"
     ]
    },
    {
     "name": "stdout",
     "output_type": "stream",
     "text": [
      "mealService 응답코드: 200\n",
      "급식 데이터 수: 1\n",
      "9010085 경해여자고등학교\n",
      "급식 정보 조회 중: 날짜=20241030\n",
      "mealService 응답코드: 200\n",
      "급식 데이터 수: 2\n"
     ]
    },
    {
     "name": "stderr",
     "output_type": "stream",
     "text": [
      "[S10] 고등학교 급식 조회:  16%|█      | 31/193 [00:05<00:27,  5.83it/s]"
     ]
    },
    {
     "name": "stdout",
     "output_type": "stream",
     "text": [
      "9010160 고성고등학교\n",
      "급식 정보 조회 중: 날짜=20241030\n",
      "mealService 응답코드: 200\n",
      "급식 데이터 수: 3\n",
      "9010276 고성중앙고등학교\n",
      "급식 정보 조회 중: 날짜=20241030\n"
     ]
    },
    {
     "name": "stderr",
     "output_type": "stream",
     "text": [
      "[S10] 고등학교 급식 조회:  17%|█▏     | 32/193 [00:05<00:27,  5.89it/s]"
     ]
    },
    {
     "name": "stdout",
     "output_type": "stream",
     "text": [
      "mealService 응답코드: 200\n",
      "급식 데이터 수: 3\n",
      "9010037 곤양고등학교\n",
      "급식 정보 조회 중: 날짜=20241030\n",
      "mealService 응답코드: 200\n",
      "급식 데이터 수: 1\n"
     ]
    },
    {
     "name": "stderr",
     "output_type": "stream",
     "text": [
      "[S10] 고등학교 급식 조회:  18%|█▏     | 34/193 [00:05<00:26,  5.90it/s]"
     ]
    },
    {
     "name": "stdout",
     "output_type": "stream",
     "text": [
      "9010388 공군항공과학고등학교\n",
      "급식 정보 조회 중: 날짜=20241030\n",
      "mealService 응답코드: 200\n",
      "mealServiceDietInfo 키 없음: {'RESULT': {'CODE': 'INFO-200', 'MESSAGE': '해당하는 데이터가 없습니다.'}}\n",
      "9010516 구산고등학교\n",
      "급식 정보 조회 중: 날짜=20241030\n"
     ]
    },
    {
     "name": "stderr",
     "output_type": "stream",
     "text": [
      "[S10] 고등학교 급식 조회:  18%|█▎     | 35/193 [00:06<00:27,  5.80it/s]"
     ]
    },
    {
     "name": "stdout",
     "output_type": "stream",
     "text": [
      "mealService 응답코드: 200\n",
      "급식 데이터 수: 1\n",
      "9010086 군북고등학교\n",
      "급식 정보 조회 중: 날짜=20241030\n",
      "mealService 응답코드: 200\n",
      "급식 데이터 수: 3\n"
     ]
    },
    {
     "name": "stderr",
     "output_type": "stream",
     "text": [
      "[S10] 고등학교 급식 조회:  19%|█▎     | 37/193 [00:06<00:26,  5.98it/s]"
     ]
    },
    {
     "name": "stdout",
     "output_type": "stream",
     "text": [
      "9010038 금남고등학교\n",
      "급식 정보 조회 중: 날짜=20241030\n",
      "mealService 응답코드: 200\n",
      "급식 데이터 수: 3\n",
      "9010039 김해가야고등학교\n",
      "급식 정보 조회 중: 날짜=20241030\n"
     ]
    },
    {
     "name": "stderr",
     "output_type": "stream",
     "text": [
      "[S10] 고등학교 급식 조회:  20%|█▍     | 38/193 [00:06<00:27,  5.70it/s]"
     ]
    },
    {
     "name": "stdout",
     "output_type": "stream",
     "text": [
      "mealService 응답코드: 200\n",
      "급식 데이터 수: 2\n",
      "9010130 김해건설공업고등학교\n",
      "급식 정보 조회 중: 날짜=20241030\n",
      "mealService 응답코드: 200\n",
      "급식 데이터 수: 3\n"
     ]
    },
    {
     "name": "stderr",
     "output_type": "stream",
     "text": [
      "[S10] 고등학교 급식 조회:  21%|█▍     | 40/193 [00:06<00:26,  5.83it/s]"
     ]
    },
    {
     "name": "stdout",
     "output_type": "stream",
     "text": [
      "9010040 김해경원고등학교\n",
      "급식 정보 조회 중: 날짜=20241030\n",
      "mealService 응답코드: 200\n",
      "급식 데이터 수: 1\n",
      "9010041 김해고등학교\n",
      "급식 정보 조회 중: 날짜=20241030\n"
     ]
    },
    {
     "name": "stderr",
     "output_type": "stream",
     "text": [
      "[S10] 고등학교 급식 조회:  21%|█▍     | 41/193 [00:07<00:26,  5.67it/s]"
     ]
    },
    {
     "name": "stdout",
     "output_type": "stream",
     "text": [
      "mealService 응답코드: 200\n",
      "급식 데이터 수: 1\n",
      "9010282 김해대청고등학교\n",
      "급식 정보 조회 중: 날짜=20241030\n",
      "mealService 응답코드: 200\n",
      "급식 데이터 수: 3\n"
     ]
    },
    {
     "name": "stderr",
     "output_type": "stream",
     "text": [
      "[S10] 고등학교 급식 조회:  22%|█▌     | 43/193 [00:07<00:25,  5.78it/s]"
     ]
    },
    {
     "name": "stdout",
     "output_type": "stream",
     "text": [
      "9010281 김해분성고등학교\n",
      "급식 정보 조회 중: 날짜=20241030\n",
      "mealService 응답코드: 200\n",
      "급식 데이터 수: 1\n",
      "9010294 김해분성여자고등학교\n",
      "급식 정보 조회 중: 날짜=20241030\n"
     ]
    },
    {
     "name": "stderr",
     "output_type": "stream",
     "text": [
      "[S10] 고등학교 급식 조회:  23%|█▌     | 44/193 [00:07<00:26,  5.56it/s]"
     ]
    },
    {
     "name": "stdout",
     "output_type": "stream",
     "text": [
      "mealService 응답코드: 200\n",
      "급식 데이터 수: 1\n",
      "9010295 김해삼문고등학교\n",
      "급식 정보 조회 중: 날짜=20241030\n",
      "mealService 응답코드: 200\n",
      "급식 데이터 수: 1\n"
     ]
    },
    {
     "name": "stderr",
     "output_type": "stream",
     "text": [
      "[S10] 고등학교 급식 조회:  24%|█▋     | 46/193 [00:08<00:25,  5.70it/s]"
     ]
    },
    {
     "name": "stdout",
     "output_type": "stream",
     "text": [
      "9010346 김해삼방고등학교\n",
      "급식 정보 조회 중: 날짜=20241030\n",
      "mealService 응답코드: 200\n",
      "급식 데이터 수: 1\n"
     ]
    },
    {
     "name": "stderr",
     "output_type": "stream",
     "text": [
      "[S10] 고등학교 급식 조회:  24%|█▋     | 47/193 [00:08<00:25,  5.82it/s]"
     ]
    },
    {
     "name": "stdout",
     "output_type": "stream",
     "text": [
      "9010327 김해생명과학고등학교\n",
      "급식 정보 조회 중: 날짜=20241030\n",
      "mealService 응답코드: 200\n",
      "급식 데이터 수: 1\n",
      "9010537 김해수남고등학교\n",
      "급식 정보 조회 중: 날짜=20241030\n"
     ]
    },
    {
     "name": "stderr",
     "output_type": "stream",
     "text": [
      "[S10] 고등학교 급식 조회:  25%|█▋     | 48/193 [00:08<00:24,  5.90it/s]"
     ]
    },
    {
     "name": "stdout",
     "output_type": "stream",
     "text": [
      "mealService 응답코드: 200\n",
      "급식 데이터 수: 1\n",
      "9010042 김해여자고등학교\n",
      "급식 정보 조회 중: 날짜=20241030\n",
      "mealService 응답코드: 200\n",
      "급식 데이터 수: 1\n"
     ]
    },
    {
     "name": "stderr",
     "output_type": "stream",
     "text": [
      "[S10] 고등학교 급식 조회:  26%|█▊     | 50/193 [00:08<00:25,  5.68it/s]"
     ]
    },
    {
     "name": "stdout",
     "output_type": "stream",
     "text": [
      "9010321 김해영운고등학교\n",
      "급식 정보 조회 중: 날짜=20241030\n",
      "mealService 응답코드: 200\n",
      "급식 데이터 수: 1\n",
      "9010322 김해외국어고등학교\n",
      "급식 정보 조회 중: 날짜=20241030\n"
     ]
    },
    {
     "name": "stderr",
     "output_type": "stream",
     "text": [
      "[S10] 고등학교 급식 조회:  26%|█▊     | 51/193 [00:08<00:25,  5.56it/s]"
     ]
    },
    {
     "name": "stdout",
     "output_type": "stream",
     "text": [
      "mealService 응답코드: 200\n",
      "급식 데이터 수: 3\n",
      "9010431 김해율하고등학교\n",
      "급식 정보 조회 중: 날짜=20241030\n",
      "mealService 응답코드: 200\n",
      "급식 데이터 수: 1\n"
     ]
    },
    {
     "name": "stderr",
     "output_type": "stream",
     "text": [
      "[S10] 고등학교 급식 조회:  27%|█▉     | 53/193 [00:09<00:24,  5.71it/s]"
     ]
    },
    {
     "name": "stdout",
     "output_type": "stream",
     "text": [
      "9010462 김해임호고등학교\n",
      "급식 정보 조회 중: 날짜=20241030\n",
      "mealService 응답코드: 200\n",
      "급식 데이터 수: 1\n",
      "9010430 김해제일고등학교\n",
      "급식 정보 조회 중: 날짜=20241030\n"
     ]
    },
    {
     "name": "stderr",
     "output_type": "stream",
     "text": [
      "[S10] 고등학교 급식 조회:  28%|█▉     | 54/193 [00:09<00:24,  5.72it/s]"
     ]
    },
    {
     "name": "stdout",
     "output_type": "stream",
     "text": [
      "mealService 응답코드: 200\n",
      "급식 데이터 수: 1\n",
      "9010087 김해중앙여자고등학교\n",
      "급식 정보 조회 중: 날짜=20241030\n",
      "mealService 응답코드: 200\n",
      "급식 데이터 수: 1\n"
     ]
    },
    {
     "name": "stderr",
     "output_type": "stream",
     "text": [
      "[S10] 고등학교 급식 조회:  29%|██     | 56/193 [00:09<00:23,  5.90it/s]"
     ]
    },
    {
     "name": "stdout",
     "output_type": "stream",
     "text": [
      "9010241 김해한일여자고등학교\n",
      "급식 정보 조회 중: 날짜=20241030\n",
      "mealService 응답코드: 200\n",
      "급식 데이터 수: 2\n",
      "9010088 남지고등학교\n",
      "급식 정보 조회 중: 날짜=20241030\n"
     ]
    },
    {
     "name": "stderr",
     "output_type": "stream",
     "text": [
      "[S10] 고등학교 급식 조회:  30%|██     | 57/193 [00:09<00:23,  5.85it/s]"
     ]
    },
    {
     "name": "stdout",
     "output_type": "stream",
     "text": [
      "mealService 응답코드: 200\n",
      "급식 데이터 수: 3\n",
      "9010089 남해고등학교\n",
      "급식 정보 조회 중: 날짜=20241030\n",
      "mealService 응답코드: 200\n",
      "급식 데이터 수: 3\n"
     ]
    },
    {
     "name": "stderr",
     "output_type": "stream",
     "text": [
      "[S10] 고등학교 급식 조회:  31%|██▏    | 59/193 [00:10<00:22,  5.96it/s]"
     ]
    },
    {
     "name": "stdout",
     "output_type": "stream",
     "text": [
      "9010132 남해정보산업고등학교\n",
      "급식 정보 조회 중: 날짜=20241030\n",
      "mealService 응답코드: 200\n",
      "급식 데이터 수: 1\n",
      "9010229 남해제일고등학교\n",
      "급식 정보 조회 중: 날짜=20241030\n"
     ]
    },
    {
     "name": "stderr",
     "output_type": "stream",
     "text": [
      "[S10] 고등학교 급식 조회:  31%|██▏    | 60/193 [00:10<00:23,  5.56it/s]"
     ]
    },
    {
     "name": "stdout",
     "output_type": "stream",
     "text": [
      "mealService 응답코드: 200\n",
      "급식 데이터 수: 3\n",
      "9010090 남해해성고등학교\n",
      "급식 정보 조회 중: 날짜=20241030\n",
      "mealService 응답코드: 200\n",
      "급식 데이터 수: 3\n"
     ]
    },
    {
     "name": "stderr",
     "output_type": "stream",
     "text": [
      "[S10] 고등학교 급식 조회:  32%|██▏    | 62/193 [00:10<00:23,  5.67it/s]"
     ]
    },
    {
     "name": "stdout",
     "output_type": "stream",
     "text": [
      "9010135 단성고등학교\n",
      "급식 정보 조회 중: 날짜=20241030\n",
      "mealService 응답코드: 200\n",
      "급식 데이터 수: 1\n",
      "9010044 대곡고등학교\n",
      "급식 정보 조회 중: 날짜=20241030\n"
     ]
    },
    {
     "name": "stderr",
     "output_type": "stream",
     "text": [
      "[S10] 고등학교 급식 조회:  33%|██▎    | 63/193 [00:10<00:22,  5.73it/s]"
     ]
    },
    {
     "name": "stdout",
     "output_type": "stream",
     "text": [
      "mealService 응답코드: 200\n",
      "급식 데이터 수: 1\n",
      "9010398 대성일고등학교\n",
      "급식 정보 조회 중: 날짜=20241030\n",
      "mealService 응답코드: 200\n",
      "급식 데이터 수: 1\n"
     ]
    },
    {
     "name": "stderr",
     "output_type": "stream",
     "text": [
      "[S10] 고등학교 급식 조회:  34%|██▎    | 65/193 [00:11<00:21,  5.84it/s]"
     ]
    },
    {
     "name": "stdout",
     "output_type": "stream",
     "text": [
      "9010091 대아고등학교\n",
      "급식 정보 조회 중: 날짜=20241030\n",
      "mealService 응답코드: 200\n",
      "급식 데이터 수: 2\n",
      "9010045 덕산고등학교\n",
      "급식 정보 조회 중: 날짜=20241030\n"
     ]
    },
    {
     "name": "stderr",
     "output_type": "stream",
     "text": [
      "[S10] 고등학교 급식 조회:  34%|██▍    | 66/193 [00:11<00:21,  5.79it/s]"
     ]
    },
    {
     "name": "stdout",
     "output_type": "stream",
     "text": [
      "mealService 응답코드: 200\n",
      "급식 데이터 수: 1\n",
      "9010463 동원고등학교\n",
      "급식 정보 조회 중: 날짜=20241030\n",
      "mealService 응답코드: 200\n",
      "급식 데이터 수: 3\n"
     ]
    },
    {
     "name": "stderr",
     "output_type": "stream",
     "text": [
      "[S10] 고등학교 급식 조회:  35%|██▍    | 68/193 [00:11<00:21,  5.92it/s]"
     ]
    },
    {
     "name": "stdout",
     "output_type": "stream",
     "text": [
      "9010046 마산가포고등학교\n",
      "급식 정보 조회 중: 날짜=20241030\n",
      "mealService 응답코드: 200\n",
      "급식 데이터 수: 2\n",
      "9010047 마산고등학교\n",
      "급식 정보 조회 중: 날짜=20241030\n"
     ]
    },
    {
     "name": "stderr",
     "output_type": "stream",
     "text": [
      "[S10] 고등학교 급식 조회:  36%|██▌    | 69/193 [00:11<00:20,  5.93it/s]"
     ]
    },
    {
     "name": "stdout",
     "output_type": "stream",
     "text": [
      "mealService 응답코드: 200\n",
      "급식 데이터 수: 3\n",
      "9010165 마산공업고등학교\n",
      "급식 정보 조회 중: 날짜=20241030\n",
      "mealService 응답코드: 200\n",
      "급식 데이터 수: 1\n"
     ]
    },
    {
     "name": "stderr",
     "output_type": "stream",
     "text": [
      "[S10] 고등학교 급식 조회:  37%|██▌    | 71/193 [00:12<00:21,  5.68it/s]"
     ]
    },
    {
     "name": "stdout",
     "output_type": "stream",
     "text": [
      "9010048 마산구암고등학교\n",
      "급식 정보 조회 중: 날짜=20241030\n",
      "mealService 응답코드: 200\n",
      "급식 데이터 수: 1\n"
     ]
    },
    {
     "name": "stderr",
     "output_type": "stream",
     "text": [
      "[S10] 고등학교 급식 조회:  37%|██▌    | 72/193 [00:12<00:20,  5.77it/s]"
     ]
    },
    {
     "name": "stdout",
     "output_type": "stream",
     "text": [
      "9010296 마산내서여자고등학교\n",
      "급식 정보 조회 중: 날짜=20241030\n",
      "mealService 응답코드: 200\n",
      "급식 데이터 수: 2\n",
      "9010237 마산무학여자고등학교\n",
      "급식 정보 조회 중: 날짜=20241030\n"
     ]
    },
    {
     "name": "stderr",
     "output_type": "stream",
     "text": [
      "[S10] 고등학교 급식 조회:  38%|██▋    | 73/193 [00:12<00:20,  5.81it/s]"
     ]
    },
    {
     "name": "stdout",
     "output_type": "stream",
     "text": [
      "mealService 응답코드: 200\n",
      "급식 데이터 수: 2\n",
      "9010242 마산삼진고등학교\n",
      "급식 정보 조회 중: 날짜=20241030\n",
      "mealService 응답코드: 200\n",
      "급식 데이터 수: 3\n"
     ]
    },
    {
     "name": "stderr",
     "output_type": "stream",
     "text": [
      "[S10] 고등학교 급식 조회:  39%|██▋    | 75/193 [00:12<00:19,  5.98it/s]"
     ]
    },
    {
     "name": "stdout",
     "output_type": "stream",
     "text": [
      "9010049 마산여자고등학교\n",
      "급식 정보 조회 중: 날짜=20241030\n",
      "mealService 응답코드: 200\n",
      "급식 데이터 수: 1\n",
      "9010273 마산용마고등학교\n",
      "급식 정보 조회 중: 날짜=20241030\n"
     ]
    },
    {
     "name": "stderr",
     "output_type": "stream",
     "text": [
      "[S10] 고등학교 급식 조회:  39%|██▊    | 76/193 [00:13<00:21,  5.57it/s]"
     ]
    },
    {
     "name": "stdout",
     "output_type": "stream",
     "text": [
      "mealService 응답코드: 200\n",
      "급식 데이터 수: 2\n",
      "9010092 마산제일고등학교\n",
      "급식 정보 조회 중: 날짜=20241030\n",
      "mealService 응답코드: 200\n",
      "급식 데이터 수: 3\n"
     ]
    },
    {
     "name": "stderr",
     "output_type": "stream",
     "text": [
      "[S10] 고등학교 급식 조회:  40%|██▊    | 78/193 [00:13<00:20,  5.62it/s]"
     ]
    },
    {
     "name": "stdout",
     "output_type": "stream",
     "text": [
      "9010093 마산제일여자고등학교\n",
      "급식 정보 조회 중: 날짜=20241030\n",
      "mealService 응답코드: 200\n",
      "급식 데이터 수: 3\n",
      "9010094 마산중앙고등학교\n",
      "급식 정보 조회 중: 날짜=20241030\n"
     ]
    },
    {
     "name": "stderr",
     "output_type": "stream",
     "text": [
      "[S10] 고등학교 급식 조회:  41%|██▊    | 79/193 [00:13<00:21,  5.21it/s]"
     ]
    },
    {
     "name": "stdout",
     "output_type": "stream",
     "text": [
      "mealService 응답코드: 200\n",
      "급식 데이터 수: 3\n",
      "9010267 명덕고등학교\n",
      "급식 정보 조회 중: 날짜=20241030\n",
      "mealService 응답코드: 200\n",
      "급식 데이터 수: 3\n"
     ]
    },
    {
     "name": "stderr",
     "output_type": "stream",
     "text": [
      "[S10] 고등학교 급식 조회:  42%|██▉    | 81/193 [00:14<00:20,  5.46it/s]"
     ]
    },
    {
     "name": "stdout",
     "output_type": "stream",
     "text": [
      "9010050 명신고등학교\n",
      "급식 정보 조회 중: 날짜=20241030\n",
      "mealService 응답코드: 200\n",
      "급식 데이터 수: 1\n"
     ]
    },
    {
     "name": "stderr",
     "output_type": "stream",
     "text": [
      "[S10] 고등학교 급식 조회:  42%|██▉    | 82/193 [00:14<00:20,  5.49it/s]"
     ]
    },
    {
     "name": "stdout",
     "output_type": "stream",
     "text": [
      "9010333 물금고등학교\n",
      "급식 정보 조회 중: 날짜=20241030\n",
      "mealService 응답코드: 200\n",
      "급식 데이터 수: 1\n",
      "9010095 밀성고등학교\n",
      "급식 정보 조회 중: 날짜=20241030\n"
     ]
    },
    {
     "name": "stderr",
     "output_type": "stream",
     "text": [
      "[S10] 고등학교 급식 조회:  43%|███    | 83/193 [00:14<00:19,  5.51it/s]"
     ]
    },
    {
     "name": "stdout",
     "output_type": "stream",
     "text": [
      "mealService 응답코드: 200\n",
      "급식 데이터 수: 3\n",
      "9010329 밀성제일고등학교\n",
      "급식 정보 조회 중: 날짜=20241030\n",
      "mealService 응답코드: 200\n",
      "급식 데이터 수: 1\n"
     ]
    },
    {
     "name": "stderr",
     "output_type": "stream",
     "text": [
      "[S10] 고등학교 급식 조회:  44%|███    | 85/193 [00:14<00:19,  5.60it/s]"
     ]
    },
    {
     "name": "stdout",
     "output_type": "stream",
     "text": [
      "9010051 밀양고등학교\n",
      "급식 정보 조회 중: 날짜=20241030\n",
      "mealService 응답코드: 200\n",
      "급식 데이터 수: 3\n",
      "9010244 밀양동명고등학교\n",
      "급식 정보 조회 중: 날짜=20241030\n"
     ]
    },
    {
     "name": "stderr",
     "output_type": "stream",
     "text": [
      "[S10] 고등학교 급식 조회:  45%|███    | 86/193 [00:15<00:19,  5.47it/s]"
     ]
    },
    {
     "name": "stdout",
     "output_type": "stream",
     "text": [
      "mealService 응답코드: 200\n",
      "급식 데이터 수: 1\n",
      "9010052 밀양여자고등학교\n",
      "급식 정보 조회 중: 날짜=20241030\n",
      "mealService 응답코드: 200\n",
      "급식 데이터 수: 2\n"
     ]
    },
    {
     "name": "stderr",
     "output_type": "stream",
     "text": [
      "[S10] 고등학교 급식 조회:  46%|███▏   | 88/193 [00:15<00:18,  5.61it/s]"
     ]
    },
    {
     "name": "stdout",
     "output_type": "stream",
     "text": [
      "9010433 범어고등학교\n",
      "급식 정보 조회 중: 날짜=20241030\n",
      "mealService 응답코드: 200\n",
      "급식 데이터 수: 1\n"
     ]
    },
    {
     "name": "stderr",
     "output_type": "stream",
     "text": [
      "[S10] 고등학교 급식 조회:  46%|███▏   | 89/193 [00:15<00:18,  5.67it/s]"
     ]
    },
    {
     "name": "stdout",
     "output_type": "stream",
     "text": [
      "9010096 보광고등학교\n",
      "급식 정보 조회 중: 날짜=20241030\n",
      "mealService 응답코드: 200\n",
      "급식 데이터 수: 2\n",
      "9010097 사천고등학교\n",
      "급식 정보 조회 중: 날짜=20241030\n"
     ]
    },
    {
     "name": "stderr",
     "output_type": "stream",
     "text": [
      "[S10] 고등학교 급식 조회:  47%|███▎   | 90/193 [00:15<00:17,  5.73it/s]"
     ]
    },
    {
     "name": "stdout",
     "output_type": "stream",
     "text": [
      "mealService 응답코드: 200\n",
      "급식 데이터 수: 3\n",
      "9010306 사천여자고등학교\n",
      "급식 정보 조회 중: 날짜=20241030\n",
      "mealService 응답코드: 200\n",
      "급식 데이터 수: 1\n"
     ]
    },
    {
     "name": "stderr",
     "output_type": "stream",
     "text": [
      "[S10] 고등학교 급식 조회:  48%|███▎   | 92/193 [00:16<00:17,  5.78it/s]"
     ]
    },
    {
     "name": "stdout",
     "output_type": "stream",
     "text": [
      "9010138 산청고등학교\n",
      "급식 정보 조회 중: 날짜=20241030\n",
      "mealService 응답코드: 200\n",
      "급식 데이터 수: 3\n",
      "9010053 삼가고등학교\n",
      "급식 정보 조회 중: 날짜=20241030\n"
     ]
    },
    {
     "name": "stderr",
     "output_type": "stream",
     "text": [
      "[S10] 고등학교 급식 조회:  48%|███▎   | 93/193 [00:16<00:18,  5.50it/s]"
     ]
    },
    {
     "name": "stdout",
     "output_type": "stream",
     "text": [
      "mealService 응답코드: 200\n",
      "급식 데이터 수: 3\n",
      "9010098 삼랑진고등학교\n",
      "급식 정보 조회 중: 날짜=20241030\n",
      "mealService 응답코드: 200\n",
      "급식 데이터 수: 3\n"
     ]
    },
    {
     "name": "stderr",
     "output_type": "stream",
     "text": [
      "[S10] 고등학교 급식 조회:  49%|███▍   | 95/193 [00:16<00:17,  5.61it/s]"
     ]
    },
    {
     "name": "stdout",
     "output_type": "stream",
     "text": [
      "9010099 삼천포고등학교\n",
      "급식 정보 조회 중: 날짜=20241030\n",
      "mealService 응답코드: 200\n",
      "급식 데이터 수: 3\n"
     ]
    },
    {
     "name": "stderr",
     "output_type": "stream",
     "text": [
      "[S10] 고등학교 급식 조회:  50%|███▍   | 96/193 [00:16<00:16,  5.74it/s]"
     ]
    },
    {
     "name": "stdout",
     "output_type": "stream",
     "text": [
      "9010139 삼천포공업고등학교\n",
      "급식 정보 조회 중: 날짜=20241030\n",
      "mealService 응답코드: 200\n",
      "급식 데이터 수: 3\n",
      "9010247 삼천포여자고등학교\n",
      "급식 정보 조회 중: 날짜=20241030\n"
     ]
    },
    {
     "name": "stderr",
     "output_type": "stream",
     "text": [
      "[S10] 고등학교 급식 조회:  50%|███▌   | 97/193 [00:16<00:17,  5.36it/s]"
     ]
    },
    {
     "name": "stdout",
     "output_type": "stream",
     "text": [
      "mealService 응답코드: 200\n",
      "급식 데이터 수: 2\n",
      "9010054 삼천포중앙고등학교\n",
      "급식 정보 조회 중: 날짜=20241030\n",
      "mealService 응답코드: 200\n",
      "급식 데이터 수: 1\n"
     ]
    },
    {
     "name": "stderr",
     "output_type": "stream",
     "text": [
      "[S10] 고등학교 급식 조회:  51%|███▌   | 99/193 [00:17<00:16,  5.64it/s]"
     ]
    },
    {
     "name": "stdout",
     "output_type": "stream",
     "text": [
      "9010100 삼현여자고등학교\n",
      "급식 정보 조회 중: 날짜=20241030\n",
      "mealService 응답코드: 200\n",
      "급식 데이터 수: 2\n",
      "9010305 서상고등학교\n",
      "급식 정보 조회 중: 날짜=20241030\n"
     ]
    },
    {
     "name": "stderr",
     "output_type": "stream",
     "text": [
      "[S10] 고등학교 급식 조회:  52%|███   | 100/193 [00:17<00:16,  5.68it/s]"
     ]
    },
    {
     "name": "stdout",
     "output_type": "stream",
     "text": [
      "mealService 응답코드: 200\n",
      "급식 데이터 수: 1\n",
      "9010347 서창고등학교\n",
      "급식 정보 조회 중: 날짜=20241030\n",
      "mealService 응답코드: 200\n",
      "급식 데이터 수: 1\n"
     ]
    },
    {
     "name": "stderr",
     "output_type": "stream",
     "text": [
      "[S10] 고등학교 급식 조회:  53%|███▏  | 102/193 [00:17<00:15,  5.81it/s]"
     ]
    },
    {
     "name": "stdout",
     "output_type": "stream",
     "text": [
      "9010172 선명여자고등학교\n",
      "급식 정보 조회 중: 날짜=20241030\n",
      "mealService 응답코드: 200\n",
      "급식 데이터 수: 1\n",
      "9010101 성지여자고등학교\n",
      "급식 정보 조회 중: 날짜=20241030\n"
     ]
    },
    {
     "name": "stderr",
     "output_type": "stream",
     "text": [
      "[S10] 고등학교 급식 조회:  53%|███▏  | 103/193 [00:18<00:15,  5.63it/s]"
     ]
    },
    {
     "name": "stdout",
     "output_type": "stream",
     "text": [
      "mealService 응답코드: 200\n",
      "급식 데이터 수: 2\n",
      "9010102 세종고등학교\n",
      "급식 정보 조회 중: 날짜=20241030\n",
      "mealService 응답코드: 200\n",
      "mealServiceDietInfo 키 없음: {'RESULT': {'CODE': 'INFO-200', 'MESSAGE': '해당하는 데이터가 없습니다.'}}\n"
     ]
    },
    {
     "name": "stderr",
     "output_type": "stream",
     "text": [
      "[S10] 고등학교 급식 조회:  54%|███▎  | 105/193 [00:18<00:15,  5.66it/s]"
     ]
    },
    {
     "name": "stdout",
     "output_type": "stream",
     "text": [
      "9010056 신등고등학교\n",
      "급식 정보 조회 중: 날짜=20241030\n",
      "mealService 응답코드: 200\n",
      "급식 데이터 수: 1\n",
      "9010223 신반정보고등학교\n",
      "급식 정보 조회 중: 날짜=20241030\n"
     ]
    },
    {
     "name": "stderr",
     "output_type": "stream",
     "text": [
      "[S10] 고등학교 급식 조회:  55%|███▎  | 106/193 [00:18<00:15,  5.73it/s]"
     ]
    },
    {
     "name": "stdout",
     "output_type": "stream",
     "text": [
      "mealService 응답코드: 200\n",
      "mealServiceDietInfo 키 없음: {'RESULT': {'CODE': 'INFO-200', 'MESSAGE': '해당하는 데이터가 없습니다.'}}\n",
      "9010350 아림고등학교\n",
      "급식 정보 조회 중: 날짜=20241030\n",
      "mealService 응답코드: 200\n",
      "급식 데이터 수: 2\n"
     ]
    },
    {
     "name": "stderr",
     "output_type": "stream",
     "text": [
      "[S10] 고등학교 급식 조회:  56%|███▎  | 108/193 [00:18<00:15,  5.66it/s]"
     ]
    },
    {
     "name": "stdout",
     "output_type": "stream",
     "text": [
      "9010233 안의고등학교\n",
      "급식 정보 조회 중: 날짜=20241030\n",
      "mealService 응답코드: 200\n",
      "급식 데이터 수: 3\n",
      "9010057 야로고등학교\n",
      "급식 정보 조회 중: 날짜=20241030\n"
     ]
    },
    {
     "name": "stderr",
     "output_type": "stream",
     "text": [
      "[S10] 고등학교 급식 조회:  56%|███▍  | 109/193 [00:19<00:15,  5.54it/s]"
     ]
    },
    {
     "name": "stdout",
     "output_type": "stream",
     "text": [
      "mealService 응답코드: 200\n",
      "급식 데이터 수: 1\n",
      "9010058 양산고등학교\n",
      "급식 정보 조회 중: 날짜=20241030\n",
      "mealService 응답코드: 200\n",
      "급식 데이터 수: 3\n"
     ]
    },
    {
     "name": "stderr",
     "output_type": "stream",
     "text": [
      "[S10] 고등학교 급식 조회:  58%|███▍  | 111/193 [00:19<00:14,  5.73it/s]"
     ]
    },
    {
     "name": "stdout",
     "output_type": "stream",
     "text": [
      "9010283 양산남부고등학교\n",
      "급식 정보 조회 중: 날짜=20241030\n",
      "mealService 응답코드: 200\n",
      "급식 데이터 수: 1\n",
      "9010300 양산여자고등학교\n",
      "급식 정보 조회 중: 날짜=20241030\n"
     ]
    },
    {
     "name": "stderr",
     "output_type": "stream",
     "text": [
      "[S10] 고등학교 급식 조회:  58%|███▍  | 112/193 [00:19<00:13,  5.84it/s]"
     ]
    },
    {
     "name": "stdout",
     "output_type": "stream",
     "text": [
      "mealService 응답코드: 200\n",
      "급식 데이터 수: 2\n",
      "9010728 양산인공지능고등학교\n",
      "급식 정보 조회 중: 날짜=20241030\n",
      "mealService 응답코드: 200\n",
      "mealServiceDietInfo 키 없음: {'RESULT': {'CODE': 'INFO-200', 'MESSAGE': '해당하는 데이터가 없습니다.'}}\n"
     ]
    },
    {
     "name": "stderr",
     "output_type": "stream",
     "text": [
      "[S10] 고등학교 급식 조회:  59%|███▌  | 114/193 [00:19<00:13,  5.86it/s]"
     ]
    },
    {
     "name": "stdout",
     "output_type": "stream",
     "text": [
      "9010299 양산제일고등학교\n",
      "급식 정보 조회 중: 날짜=20241030\n",
      "mealService 응답코드: 200\n",
      "급식 데이터 수: 2\n",
      "9010432 연초고등학교\n",
      "급식 정보 조회 중: 날짜=20241030\n"
     ]
    },
    {
     "name": "stderr",
     "output_type": "stream",
     "text": [
      "[S10] 고등학교 급식 조회:  60%|███▌  | 115/193 [00:20<00:13,  5.71it/s]"
     ]
    },
    {
     "name": "stdout",
     "output_type": "stream",
     "text": [
      "mealService 응답코드: 200\n",
      "급식 데이터 수: 1\n",
      "9010060 영산고등학교\n",
      "급식 정보 조회 중: 날짜=20241030\n",
      "mealService 응답코드: 200\n",
      "급식 데이터 수: 3\n"
     ]
    },
    {
     "name": "stderr",
     "output_type": "stream",
     "text": [
      "[S10] 고등학교 급식 조회:  61%|███▋  | 117/193 [00:20<00:13,  5.77it/s]"
     ]
    },
    {
     "name": "stdout",
     "output_type": "stream",
     "text": [
      "9010061 옥종고등학교\n",
      "급식 정보 조회 중: 날짜=20241030\n",
      "mealService 응답코드: 200\n",
      "급식 데이터 수: 1\n",
      "9010106 용남고등학교\n",
      "급식 정보 조회 중: 날짜=20241030\n"
     ]
    },
    {
     "name": "stderr",
     "output_type": "stream",
     "text": [
      "[S10] 고등학교 급식 조회:  61%|███▋  | 118/193 [00:20<00:13,  5.53it/s]"
     ]
    },
    {
     "name": "stdout",
     "output_type": "stream",
     "text": [
      "mealService 응답코드: 200\n",
      "급식 데이터 수: 3\n",
      "9010221 웅상고등학교\n",
      "급식 정보 조회 중: 날짜=20241030\n",
      "mealService 응답코드: 200\n",
      "급식 데이터 수: 1\n"
     ]
    },
    {
     "name": "stderr",
     "output_type": "stream",
     "text": [
      "[S10] 고등학교 급식 조회:  62%|███▋  | 120/193 [00:21<00:12,  5.77it/s]"
     ]
    },
    {
     "name": "stdout",
     "output_type": "stream",
     "text": [
      "9010464 웅천고등학교\n",
      "급식 정보 조회 중: 날짜=20241030\n",
      "mealService 응답코드: 200\n",
      "급식 데이터 수: 2\n",
      "9010222 의령고등학교\n",
      "급식 정보 조회 중: 날짜=20241030\n"
     ]
    },
    {
     "name": "stderr",
     "output_type": "stream",
     "text": [
      "[S10] 고등학교 급식 조회:  63%|███▊  | 121/193 [00:21<00:12,  5.69it/s]"
     ]
    },
    {
     "name": "stdout",
     "output_type": "stream",
     "text": [
      "mealService 응답코드: 200\n",
      "급식 데이터 수: 3\n",
      "9010108 의령여자고등학교\n",
      "급식 정보 조회 중: 날짜=20241030\n",
      "mealService 응답코드: 200\n",
      "급식 데이터 수: 3\n"
     ]
    },
    {
     "name": "stderr",
     "output_type": "stream",
     "text": [
      "[S10] 고등학교 급식 조회:  64%|███▊  | 123/193 [00:21<00:12,  5.78it/s]"
     ]
    },
    {
     "name": "stdout",
     "output_type": "stream",
     "text": [
      "9010260 장유고등학교\n",
      "급식 정보 조회 중: 날짜=20241030\n",
      "mealService 응답코드: 200\n",
      "급식 데이터 수: 1\n",
      "9010699 증산고등학교\n",
      "급식 정보 조회 중: 날짜=20241030\n"
     ]
    },
    {
     "name": "stderr",
     "output_type": "stream",
     "text": [
      "[S10] 고등학교 급식 조회:  64%|███▊  | 124/193 [00:21<00:11,  5.87it/s]"
     ]
    },
    {
     "name": "stdout",
     "output_type": "stream",
     "text": [
      "mealService 응답코드: 200\n",
      "급식 데이터 수: 1\n",
      "9010298 지리산고등학교\n",
      "급식 정보 조회 중: 날짜=20241030\n",
      "mealService 응답코드: 200\n",
      "급식 데이터 수: 3\n"
     ]
    },
    {
     "name": "stderr",
     "output_type": "stream",
     "text": [
      "[S10] 고등학교 급식 조회:  65%|███▉  | 126/193 [00:22<00:12,  5.58it/s]"
     ]
    },
    {
     "name": "stdout",
     "output_type": "stream",
     "text": [
      "9010231 진교고등학교\n",
      "급식 정보 조회 중: 날짜=20241030\n",
      "mealService 응답코드: 200\n",
      "급식 데이터 수: 1\n"
     ]
    },
    {
     "name": "stderr",
     "output_type": "stream",
     "text": [
      "[S10] 고등학교 급식 조회:  66%|███▉  | 127/193 [00:22<00:11,  5.75it/s]"
     ]
    },
    {
     "name": "stdout",
     "output_type": "stream",
     "text": [
      "9010062 진서고등학교\n",
      "급식 정보 조회 중: 날짜=20241030\n",
      "mealService 응답코드: 200\n",
      "급식 데이터 수: 1\n",
      "9010063 진양고등학교\n",
      "급식 정보 조회 중: 날짜=20241030\n"
     ]
    },
    {
     "name": "stderr",
     "output_type": "stream",
     "text": [
      "[S10] 고등학교 급식 조회:  66%|███▉  | 128/193 [00:22<00:11,  5.79it/s]"
     ]
    },
    {
     "name": "stdout",
     "output_type": "stream",
     "text": [
      "mealService 응답코드: 200\n",
      "급식 데이터 수: 1\n",
      "9010227 진영고등학교\n",
      "급식 정보 조회 중: 날짜=20241030\n",
      "mealService 응답코드: 200\n",
      "급식 데이터 수: 1\n"
     ]
    },
    {
     "name": "stderr",
     "output_type": "stream",
     "text": [
      "[S10] 고등학교 급식 조회:  67%|████  | 130/193 [00:22<00:11,  5.69it/s]"
     ]
    },
    {
     "name": "stdout",
     "output_type": "stream",
     "text": [
      "9010226 진영제일고등학교\n",
      "급식 정보 조회 중: 날짜=20241030\n",
      "mealService 응답코드: 200\n",
      "급식 데이터 수: 1\n",
      "9010064 진주고등학교\n",
      "급식 정보 조회 중: 날짜=20241030\n"
     ]
    },
    {
     "name": "stderr",
     "output_type": "stream",
     "text": [
      "[S10] 고등학교 급식 조회:  68%|████  | 131/193 [00:22<00:10,  5.75it/s]"
     ]
    },
    {
     "name": "stdout",
     "output_type": "stream",
     "text": [
      "mealService 응답코드: 200\n",
      "급식 데이터 수: 3\n",
      "9010147 진주기계공업고등학교\n",
      "급식 정보 조회 중: 날짜=20241030\n",
      "mealService 응답코드: 200\n",
      "급식 데이터 수: 3\n"
     ]
    },
    {
     "name": "stderr",
     "output_type": "stream",
     "text": [
      "[S10] 고등학교 급식 조회:  69%|████▏ | 133/193 [00:23<00:10,  5.53it/s]"
     ]
    },
    {
     "name": "stdout",
     "output_type": "stream",
     "text": [
      "9010109 진주동명고등학교\n",
      "급식 정보 조회 중: 날짜=20241030\n",
      "mealService 응답코드: 200\n",
      "급식 데이터 수: 1\n"
     ]
    },
    {
     "name": "stderr",
     "output_type": "stream",
     "text": [
      "[S10] 고등학교 급식 조회:  69%|████▏ | 134/193 [00:23<00:10,  5.62it/s]"
     ]
    },
    {
     "name": "stdout",
     "output_type": "stream",
     "text": [
      "9010065 진주여자고등학교\n",
      "급식 정보 조회 중: 날짜=20241030\n",
      "mealService 응답코드: 200\n",
      "급식 데이터 수: 1\n",
      "9010177 진주외국어고등학교\n",
      "급식 정보 조회 중: 날짜=20241030\n"
     ]
    },
    {
     "name": "stderr",
     "output_type": "stream",
     "text": [
      "[S10] 고등학교 급식 조회:  70%|████▏ | 135/193 [00:23<00:10,  5.71it/s]"
     ]
    },
    {
     "name": "stdout",
     "output_type": "stream",
     "text": [
      "mealService 응답코드: 200\n",
      "급식 데이터 수: 3\n",
      "9010110 진주제일여자고등학교\n",
      "급식 정보 조회 중: 날짜=20241030\n",
      "mealService 응답코드: 200\n",
      "급식 데이터 수: 2\n"
     ]
    },
    {
     "name": "stderr",
     "output_type": "stream",
     "text": [
      "[S10] 고등학교 급식 조회:  71%|████▎ | 137/193 [00:23<00:09,  5.81it/s]"
     ]
    },
    {
     "name": "stdout",
     "output_type": "stream",
     "text": [
      "9010279 진주중앙고등학교\n",
      "급식 정보 조회 중: 날짜=20241030\n",
      "mealService 응답코드: 200\n",
      "급식 데이터 수: 1\n",
      "9010066 진해고등학교\n",
      "급식 정보 조회 중: 날짜=20241030\n"
     ]
    },
    {
     "name": "stderr",
     "output_type": "stream",
     "text": [
      "[S10] 고등학교 급식 조회:  72%|████▎ | 138/193 [00:24<00:09,  5.59it/s]"
     ]
    },
    {
     "name": "stdout",
     "output_type": "stream",
     "text": [
      "mealService 응답코드: 200\n",
      "급식 데이터 수: 3\n",
      "9010265 진해세화여자고등학교\n",
      "급식 정보 조회 중: 날짜=20241030\n",
      "mealService 응답코드: 200\n",
      "급식 데이터 수: 1\n"
     ]
    },
    {
     "name": "stderr",
     "output_type": "stream",
     "text": [
      "[S10] 고등학교 급식 조회:  73%|████▎ | 140/193 [00:24<00:09,  5.49it/s]"
     ]
    },
    {
     "name": "stdout",
     "output_type": "stream",
     "text": [
      "9010067 진해여자고등학교\n",
      "급식 정보 조회 중: 날짜=20241030\n",
      "mealService 응답코드: 200\n",
      "급식 데이터 수: 1\n"
     ]
    },
    {
     "name": "stderr",
     "output_type": "stream",
     "text": [
      "[S10] 고등학교 급식 조회:  73%|████▍ | 141/193 [00:24<00:09,  5.59it/s]"
     ]
    },
    {
     "name": "stdout",
     "output_type": "stream",
     "text": [
      "9010320 진해용원고등학교\n",
      "급식 정보 조회 중: 날짜=20241030\n",
      "mealService 응답코드: 200\n",
      "급식 데이터 수: 1\n",
      "9010252 진해중앙고등학교\n",
      "급식 정보 조회 중: 날짜=20241030\n"
     ]
    },
    {
     "name": "stderr",
     "output_type": "stream",
     "text": [
      "[S10] 고등학교 급식 조회:  74%|████▍ | 142/193 [00:24<00:08,  5.73it/s]"
     ]
    },
    {
     "name": "stdout",
     "output_type": "stream",
     "text": [
      "mealService 응답코드: 200\n",
      "급식 데이터 수: 1\n",
      "9010111 창녕고등학교\n",
      "급식 정보 조회 중: 날짜=20241030\n",
      "mealService 응답코드: 200\n",
      "급식 데이터 수: 3\n"
     ]
    },
    {
     "name": "stderr",
     "output_type": "stream",
     "text": [
      "[S10] 고등학교 급식 조회:  75%|████▍ | 144/193 [00:25<00:08,  5.70it/s]"
     ]
    },
    {
     "name": "stdout",
     "output_type": "stream",
     "text": [
      "9010253 창녕대성고등학교\n",
      "급식 정보 조회 중: 날짜=20241030\n",
      "mealService 응답코드: 200\n",
      "급식 데이터 수: 3\n",
      "9010570 창녕슈퍼텍고등학교\n",
      "급식 정보 조회 중: 날짜=20241030\n"
     ]
    },
    {
     "name": "stderr",
     "output_type": "stream",
     "text": [
      "[S10] 고등학교 급식 조회:  75%|████▌ | 145/193 [00:25<00:08,  5.78it/s]"
     ]
    },
    {
     "name": "stdout",
     "output_type": "stream",
     "text": [
      "mealService 응답코드: 200\n",
      "급식 데이터 수: 3\n",
      "9010254 창녕여자고등학교\n",
      "급식 정보 조회 중: 날짜=20241030\n",
      "mealService 응답코드: 200\n",
      "급식 데이터 수: 3\n"
     ]
    },
    {
     "name": "stderr",
     "output_type": "stream",
     "text": [
      "[S10] 고등학교 급식 조회:  76%|████▌ | 147/193 [00:25<00:08,  5.72it/s]"
     ]
    },
    {
     "name": "stdout",
     "output_type": "stream",
     "text": [
      "9010330 창녕옥야고등학교\n",
      "급식 정보 조회 중: 날짜=20241030\n",
      "mealService 응답코드: 200\n",
      "급식 데이터 수: 3\n",
      "9010255 창선고등학교\n",
      "급식 정보 조회 중: 날짜=20241030\n"
     ]
    },
    {
     "name": "stderr",
     "output_type": "stream",
     "text": [
      "[S10] 고등학교 급식 조회:  77%|████▌ | 148/193 [00:25<00:07,  5.69it/s]"
     ]
    },
    {
     "name": "stdout",
     "output_type": "stream",
     "text": [
      "mealService 응답코드: 200\n",
      "급식 데이터 수: 3\n",
      "9010112 창신고등학교\n",
      "급식 정보 조회 중: 날짜=20241030\n",
      "mealService 응답코드: 200\n",
      "급식 데이터 수: 3\n"
     ]
    },
    {
     "name": "stderr",
     "output_type": "stream",
     "text": [
      "[S10] 고등학교 급식 조회:  78%|████▋ | 150/193 [00:26<00:07,  5.73it/s]"
     ]
    },
    {
     "name": "stdout",
     "output_type": "stream",
     "text": [
      "9010113 창원경일고등학교\n",
      "급식 정보 조회 중: 날짜=20241030\n",
      "mealService 응답코드: 200\n",
      "급식 데이터 수: 3\n",
      "9010297 창원경일여자고등학교\n",
      "급식 정보 조회 중: 날짜=20241030\n"
     ]
    },
    {
     "name": "stderr",
     "output_type": "stream",
     "text": [
      "[S10] 고등학교 급식 조회:  78%|████▋ | 151/193 [00:26<00:07,  5.70it/s]"
     ]
    },
    {
     "name": "stdout",
     "output_type": "stream",
     "text": [
      "mealService 응답코드: 200\n",
      "급식 데이터 수: 2\n",
      "9010114 창원고등학교\n",
      "급식 정보 조회 중: 날짜=20241030\n",
      "mealService 응답코드: 200\n",
      "급식 데이터 수: 2\n"
     ]
    },
    {
     "name": "stderr",
     "output_type": "stream",
     "text": [
      "[S10] 고등학교 급식 조회:  79%|████▊ | 153/193 [00:26<00:06,  5.77it/s]"
     ]
    },
    {
     "name": "stdout",
     "output_type": "stream",
     "text": [
      "9010183 창원공업고등학교\n",
      "급식 정보 조회 중: 날짜=20241030\n",
      "mealService 응답코드: 200\n",
      "급식 데이터 수: 1\n",
      "9010429 창원과학고등학교\n",
      "급식 정보 조회 중: 날짜=20241030\n"
     ]
    },
    {
     "name": "stderr",
     "output_type": "stream",
     "text": [
      "[S10] 고등학교 급식 조회:  80%|████▊ | 154/193 [00:26<00:06,  5.78it/s]"
     ]
    },
    {
     "name": "stdout",
     "output_type": "stream",
     "text": [
      "mealService 응답코드: 200\n",
      "급식 데이터 수: 3\n",
      "9010151 창원기계공업고등학교\n",
      "급식 정보 조회 중: 날짜=20241030\n",
      "mealService 응답코드: 200\n",
      "급식 데이터 수: 3\n"
     ]
    },
    {
     "name": "stderr",
     "output_type": "stream",
     "text": [
      "[S10] 고등학교 급식 조회:  81%|████▊ | 156/193 [00:27<00:06,  5.74it/s]"
     ]
    },
    {
     "name": "stdout",
     "output_type": "stream",
     "text": [
      "9010115 창원남고등학교\n",
      "급식 정보 조회 중: 날짜=20241030\n",
      "mealService 응답코드: 200\n",
      "급식 데이터 수: 2\n",
      "9010068 창원남산고등학교\n",
      "급식 정보 조회 중: 날짜=20241030\n"
     ]
    },
    {
     "name": "stderr",
     "output_type": "stream",
     "text": [
      "[S10] 고등학교 급식 조회:  81%|████▉ | 157/193 [00:27<00:06,  5.86it/s]"
     ]
    },
    {
     "name": "stdout",
     "output_type": "stream",
     "text": [
      "mealService 응답코드: 200\n",
      "급식 데이터 수: 1\n",
      "9010116 창원대산고등학교\n",
      "급식 정보 조회 중: 날짜=20241030\n",
      "mealService 응답코드: 200\n",
      "급식 데이터 수: 3\n"
     ]
    },
    {
     "name": "stderr",
     "output_type": "stream",
     "text": [
      "[S10] 고등학교 급식 조회:  82%|████▉ | 159/193 [00:27<00:05,  5.87it/s]"
     ]
    },
    {
     "name": "stdout",
     "output_type": "stream",
     "text": [
      "9010309 창원대암고등학교\n",
      "급식 정보 조회 중: 날짜=20241030\n",
      "mealService 응답코드: 200\n",
      "급식 데이터 수: 1\n",
      "9010293 창원명곡고등학교\n",
      "급식 정보 조회 중: 날짜=20241030\n"
     ]
    },
    {
     "name": "stderr",
     "output_type": "stream",
     "text": [
      "[S10] 고등학교 급식 조회:  83%|████▉ | 160/193 [00:27<00:05,  5.73it/s]"
     ]
    },
    {
     "name": "stdout",
     "output_type": "stream",
     "text": [
      "mealService 응답코드: 200\n",
      "급식 데이터 수: 2\n",
      "9010069 창원명지여자고등학교\n",
      "급식 정보 조회 중: 날짜=20241030\n",
      "mealService 응답코드: 200\n",
      "급식 데이터 수: 1\n"
     ]
    },
    {
     "name": "stderr",
     "output_type": "stream",
     "text": [
      "[S10] 고등학교 급식 조회:  84%|█████ | 162/193 [00:28<00:05,  5.73it/s]"
     ]
    },
    {
     "name": "stdout",
     "output_type": "stream",
     "text": [
      "9010117 창원문성고등학교\n",
      "급식 정보 조회 중: 날짜=20241030\n",
      "mealService 응답코드: 200\n",
      "급식 데이터 수: 2\n"
     ]
    },
    {
     "name": "stderr",
     "output_type": "stream",
     "text": [
      "[S10] 고등학교 급식 조회:  84%|█████ | 163/193 [00:28<00:05,  5.76it/s]"
     ]
    },
    {
     "name": "stdout",
     "output_type": "stream",
     "text": [
      "9010277 창원봉림고등학교\n",
      "급식 정보 조회 중: 날짜=20241030\n",
      "mealService 응답코드: 200\n",
      "급식 데이터 수: 1\n",
      "9010698 창원북면고등학교\n",
      "급식 정보 조회 중: 날짜=20241030\n"
     ]
    },
    {
     "name": "stderr",
     "output_type": "stream",
     "text": [
      "[S10] 고등학교 급식 조회:  85%|█████ | 164/193 [00:28<00:04,  5.82it/s]"
     ]
    },
    {
     "name": "stdout",
     "output_type": "stream",
     "text": [
      "mealService 응답코드: 200\n",
      "mealServiceDietInfo 키 없음: {'RESULT': {'CODE': 'INFO-200', 'MESSAGE': '해당하는 데이터가 없습니다.'}}\n",
      "9010261 창원사파고등학교\n",
      "급식 정보 조회 중: 날짜=20241030\n",
      "mealService 응답코드: 200\n",
      "급식 데이터 수: 1\n"
     ]
    },
    {
     "name": "stderr",
     "output_type": "stream",
     "text": [
      "[S10] 고등학교 급식 조회:  86%|█████▏| 166/193 [00:29<00:04,  5.92it/s]"
     ]
    },
    {
     "name": "stdout",
     "output_type": "stream",
     "text": [
      "9010405 창원성민여자고등학교\n",
      "급식 정보 조회 중: 날짜=20241030\n",
      "mealService 응답코드: 200\n",
      "급식 데이터 수: 3\n",
      "9010278 창원신월고등학교\n",
      "급식 정보 조회 중: 날짜=20241030\n"
     ]
    },
    {
     "name": "stderr",
     "output_type": "stream",
     "text": [
      "[S10] 고등학교 급식 조회:  87%|█████▏| 167/193 [00:29<00:04,  5.82it/s]"
     ]
    },
    {
     "name": "stdout",
     "output_type": "stream",
     "text": [
      "mealService 응답코드: 200\n",
      "급식 데이터 수: 1\n",
      "9010070 창원여자고등학교\n",
      "급식 정보 조회 중: 날짜=20241030\n",
      "mealService 응답코드: 200\n",
      "급식 데이터 수: 1\n"
     ]
    },
    {
     "name": "stderr",
     "output_type": "stream",
     "text": [
      "[S10] 고등학교 급식 조회:  88%|█████▎| 169/193 [00:29<00:04,  5.77it/s]"
     ]
    },
    {
     "name": "stdout",
     "output_type": "stream",
     "text": [
      "9010262 창원용호고등학교\n",
      "급식 정보 조회 중: 날짜=20241030\n",
      "mealService 응답코드: 200\n",
      "급식 데이터 수: 1\n",
      "9010071 창원중앙고등학교\n",
      "급식 정보 조회 중: 날짜=20241030\n"
     ]
    },
    {
     "name": "stderr",
     "output_type": "stream",
     "text": [
      "[S10] 고등학교 급식 조회:  88%|█████▎| 170/193 [00:29<00:03,  5.86it/s]"
     ]
    },
    {
     "name": "stdout",
     "output_type": "stream",
     "text": [
      "mealService 응답코드: 200\n",
      "급식 데이터 수: 1\n",
      "9010072 창원중앙여자고등학교\n",
      "급식 정보 조회 중: 날짜=20241030\n",
      "mealService 응답코드: 200\n",
      "급식 데이터 수: 1\n"
     ]
    },
    {
     "name": "stderr",
     "output_type": "stream",
     "text": [
      "[S10] 고등학교 급식 조회:  89%|█████▎| 172/193 [00:30<00:03,  5.84it/s]"
     ]
    },
    {
     "name": "stdout",
     "output_type": "stream",
     "text": [
      "9010319 창원토월고등학교\n",
      "급식 정보 조회 중: 날짜=20241030\n",
      "mealService 응답코드: 200\n",
      "급식 데이터 수: 1\n",
      "9010118 철성고등학교\n",
      "급식 정보 조회 중: 날짜=20241030\n"
     ]
    },
    {
     "name": "stderr",
     "output_type": "stream",
     "text": [
      "[S10] 고등학교 급식 조회:  90%|█████▍| 173/193 [00:30<00:03,  5.89it/s]"
     ]
    },
    {
     "name": "stdout",
     "output_type": "stream",
     "text": [
      "mealService 응답코드: 200\n",
      "급식 데이터 수: 3\n",
      "9010328 초계고등학교\n",
      "급식 정보 조회 중: 날짜=20241030\n",
      "mealService 응답코드: 200\n",
      "급식 데이터 수: 3\n"
     ]
    },
    {
     "name": "stderr",
     "output_type": "stream",
     "text": [
      "[S10] 고등학교 급식 조회:  91%|█████▍| 175/193 [00:30<00:03,  5.79it/s]"
     ]
    },
    {
     "name": "stdout",
     "output_type": "stream",
     "text": [
      "9010256 충렬여자고등학교\n",
      "급식 정보 조회 중: 날짜=20241030\n",
      "mealService 응답코드: 200\n",
      "급식 데이터 수: 3\n"
     ]
    },
    {
     "name": "stderr",
     "output_type": "stream",
     "text": [
      "[S10] 고등학교 급식 조회:  91%|█████▍| 176/193 [00:30<00:02,  5.87it/s]"
     ]
    },
    {
     "name": "stdout",
     "output_type": "stream",
     "text": [
      "9010073 충무고등학교\n",
      "급식 정보 조회 중: 날짜=20241030\n",
      "mealService 응답코드: 200\n",
      "급식 데이터 수: 1\n",
      "9010119 칠원고등학교\n",
      "급식 정보 조회 중: 날짜=20241030\n"
     ]
    },
    {
     "name": "stderr",
     "output_type": "stream",
     "text": [
      "[S10] 고등학교 급식 조회:  92%|█████▌| 177/193 [00:30<00:02,  5.78it/s]"
     ]
    },
    {
     "name": "stdout",
     "output_type": "stream",
     "text": [
      "mealService 응답코드: 200\n",
      "급식 데이터 수: 3\n",
      "9010406 태봉고등학교\n",
      "급식 정보 조회 중: 날짜=20241030\n",
      "mealService 응답코드: 200\n",
      "급식 데이터 수: 3\n"
     ]
    },
    {
     "name": "stderr",
     "output_type": "stream",
     "text": [
      "[S10] 고등학교 급식 조회:  93%|█████▌| 179/193 [00:31<00:02,  5.80it/s]"
     ]
    },
    {
     "name": "stdout",
     "output_type": "stream",
     "text": [
      "9010074 통영고등학교\n",
      "급식 정보 조회 중: 날짜=20241030\n",
      "mealService 응답코드: 200\n",
      "mealServiceDietInfo 키 없음: {'RESULT': {'CODE': 'INFO-200', 'MESSAGE': '해당하는 데이터가 없습니다.'}}\n",
      "9010075 통영여자고등학교\n",
      "급식 정보 조회 중: 날짜=20241030\n"
     ]
    },
    {
     "name": "stderr",
     "output_type": "stream",
     "text": [
      "[S10] 고등학교 급식 조회:  93%|█████▌| 180/193 [00:31<00:02,  5.82it/s]"
     ]
    },
    {
     "name": "stdout",
     "output_type": "stream",
     "text": [
      "mealService 응답코드: 200\n",
      "급식 데이터 수: 1\n",
      "9010230 하동고등학교\n",
      "급식 정보 조회 중: 날짜=20241030\n",
      "mealService 응답코드: 200\n",
      "급식 데이터 수: 3\n"
     ]
    },
    {
     "name": "stderr",
     "output_type": "stream",
     "text": [
      "[S10] 고등학교 급식 조회:  94%|█████▋| 182/193 [00:31<00:01,  5.75it/s]"
     ]
    },
    {
     "name": "stdout",
     "output_type": "stream",
     "text": [
      "9010120 하동여자고등학교\n",
      "급식 정보 조회 중: 날짜=20241030\n",
      "mealService 응답코드: 200\n",
      "급식 데이터 수: 2\n"
     ]
    },
    {
     "name": "stderr",
     "output_type": "stream",
     "text": [
      "[S10] 고등학교 급식 조회:  95%|█████▋| 183/193 [00:31<00:01,  5.72it/s]"
     ]
    },
    {
     "name": "stdout",
     "output_type": "stream",
     "text": [
      "9010697 한국과학기술고등학교\n",
      "급식 정보 조회 중: 날짜=20241030\n",
      "mealService 응답코드: 200\n",
      "급식 데이터 수: 3\n",
      "9010655 한국나노마이스터고등학교\n",
      "급식 정보 조회 중: 날짜=20241030\n"
     ]
    },
    {
     "name": "stderr",
     "output_type": "stream",
     "text": [
      "[S10] 고등학교 급식 조회:  95%|█████▋| 184/193 [00:32<00:01,  5.74it/s]"
     ]
    },
    {
     "name": "stdout",
     "output_type": "stream",
     "text": [
      "mealService 응답코드: 200\n",
      "급식 데이터 수: 3\n",
      "9010531 한일여자고등학교\n",
      "급식 정보 조회 중: 날짜=20241030\n",
      "mealService 응답코드: 200\n",
      "mealServiceDietInfo 키 없음: {'RESULT': {'CODE': 'INFO-200', 'MESSAGE': '해당하는 데이터가 없습니다.'}}\n"
     ]
    },
    {
     "name": "stderr",
     "output_type": "stream",
     "text": [
      "[S10] 고등학교 급식 조회:  96%|█████▊| 186/193 [00:32<00:01,  5.84it/s]"
     ]
    },
    {
     "name": "stdout",
     "output_type": "stream",
     "text": [
      "9010224 함안고등학교\n",
      "급식 정보 조회 중: 날짜=20241030\n",
      "mealService 응답코드: 200\n",
      "급식 데이터 수: 3\n",
      "9010076 함양고등학교\n",
      "급식 정보 조회 중: 날짜=20241030\n"
     ]
    },
    {
     "name": "stderr",
     "output_type": "stream",
     "text": [
      "[S10] 고등학교 급식 조회:  97%|█████▊| 187/193 [00:32<00:01,  5.89it/s]"
     ]
    },
    {
     "name": "stdout",
     "output_type": "stream",
     "text": [
      "mealService 응답코드: 200\n",
      "급식 데이터 수: 3\n",
      "9010232 함양제일고등학교\n",
      "급식 정보 조회 중: 날짜=20241030\n",
      "mealService 응답코드: 200\n",
      "급식 데이터 수: 1\n"
     ]
    },
    {
     "name": "stderr",
     "output_type": "stream",
     "text": [
      "[S10] 고등학교 급식 조회:  98%|█████▉| 189/193 [00:32<00:00,  5.74it/s]"
     ]
    },
    {
     "name": "stdout",
     "output_type": "stream",
     "text": [
      "9010156 합천고등학교\n",
      "급식 정보 조회 중: 날짜=20241030\n",
      "mealService 응답코드: 200\n",
      "급식 데이터 수: 3\n"
     ]
    },
    {
     "name": "stderr",
     "output_type": "stream",
     "text": [
      "[S10] 고등학교 급식 조회:  98%|█████▉| 190/193 [00:33<00:00,  5.74it/s]"
     ]
    },
    {
     "name": "stdout",
     "output_type": "stream",
     "text": [
      "9010189 합천여자고등학교\n",
      "급식 정보 조회 중: 날짜=20241030\n",
      "mealService 응답코드: 200\n",
      "급식 데이터 수: 3\n",
      "9010668 합천평화고등학교\n",
      "급식 정보 조회 중: 날짜=20241030\n"
     ]
    },
    {
     "name": "stderr",
     "output_type": "stream",
     "text": [
      "[S10] 고등학교 급식 조회:  99%|█████▉| 191/193 [00:33<00:00,  5.83it/s]"
     ]
    },
    {
     "name": "stdout",
     "output_type": "stream",
     "text": [
      "mealService 응답코드: 200\n",
      "급식 데이터 수: 3\n",
      "9010077 합포고등학교\n",
      "급식 정보 조회 중: 날짜=20241030\n",
      "mealService 응답코드: 200\n",
      "급식 데이터 수: 1\n"
     ]
    },
    {
     "name": "stderr",
     "output_type": "stream",
     "text": [
      "[S10] 고등학교 급식 조회: 100%|██████| 193/193 [00:33<00:00,  5.73it/s]\n"
     ]
    },
    {
     "name": "stdout",
     "output_type": "stream",
     "text": [
      "9010121 해성고등학교\n",
      "급식 정보 조회 중: 날짜=20241030\n",
      "mealService 응답코드: 200\n",
      "급식 데이터 수: 3\n",
      "응답코드 : 200\n"
     ]
    },
    {
     "name": "stderr",
     "output_type": "stream",
     "text": [
      "[T10] 고등학교 급식 조회:   0%|                 | 0/30 [00:00<?, ?it/s]"
     ]
    },
    {
     "name": "stdout",
     "output_type": "stream",
     "text": [
      "9290076 남녕고등학교\n",
      "급식 정보 조회 중: 날짜=20241030\n",
      "mealService 응답코드: 200\n",
      "급식 데이터 수: 2\n"
     ]
    },
    {
     "name": "stderr",
     "output_type": "stream",
     "text": [
      "[T10] 고등학교 급식 조회:   7%|▌        | 2/30 [00:00<00:06,  4.65it/s]"
     ]
    },
    {
     "name": "stdout",
     "output_type": "stream",
     "text": [
      "9290073 남주고등학교\n",
      "급식 정보 조회 중: 날짜=20241030\n",
      "mealService 응답코드: 200\n",
      "급식 데이터 수: 2\n",
      "9290075 대기고등학교\n",
      "급식 정보 조회 중: 날짜=20241030\n"
     ]
    },
    {
     "name": "stderr",
     "output_type": "stream",
     "text": [
      "[T10] 고등학교 급식 조회:  10%|▉        | 3/30 [00:00<00:05,  5.10it/s]"
     ]
    },
    {
     "name": "stdout",
     "output_type": "stream",
     "text": [
      "mealService 응답코드: 200\n",
      "급식 데이터 수: 2\n",
      "9290056 대정고등학교\n",
      "급식 정보 조회 중: 날짜=20241030\n",
      "mealService 응답코드: 200\n",
      "급식 데이터 수: 2\n"
     ]
    },
    {
     "name": "stderr",
     "output_type": "stream",
     "text": [
      "[T10] 고등학교 급식 조회:  17%|█▌       | 5/30 [00:00<00:04,  5.49it/s]"
     ]
    },
    {
     "name": "stdout",
     "output_type": "stream",
     "text": [
      "9290057 대정여자고등학교\n",
      "급식 정보 조회 중: 날짜=20241030\n",
      "mealService 응답코드: 200\n",
      "급식 데이터 수: 2\n",
      "9290074 삼성여자고등학교\n",
      "급식 정보 조회 중: 날짜=20241030\n"
     ]
    },
    {
     "name": "stderr",
     "output_type": "stream",
     "text": [
      "[T10] 고등학교 급식 조회:  20%|█▊       | 6/30 [00:01<00:04,  5.69it/s]"
     ]
    },
    {
     "name": "stdout",
     "output_type": "stream",
     "text": [
      "mealService 응답코드: 200\n",
      "급식 데이터 수: 2\n",
      "9290059 서귀포고등학교\n",
      "급식 정보 조회 중: 날짜=20241030\n",
      "mealService 응답코드: 200\n",
      "급식 데이터 수: 2\n"
     ]
    },
    {
     "name": "stderr",
     "output_type": "stream",
     "text": [
      "[T10] 고등학교 급식 조회:  27%|██▍      | 8/30 [00:01<00:03,  5.71it/s]"
     ]
    },
    {
     "name": "stdout",
     "output_type": "stream",
     "text": [
      "9290060 서귀포산업과학고등학교\n",
      "급식 정보 조회 중: 날짜=20241030\n",
      "mealService 응답코드: 200\n",
      "급식 데이터 수: 3\n",
      "9290061 서귀포여자고등학교\n",
      "급식 정보 조회 중: 날짜=20241030\n"
     ]
    },
    {
     "name": "stderr",
     "output_type": "stream",
     "text": [
      "[T10] 고등학교 급식 조회:  30%|██▋      | 9/30 [00:01<00:03,  5.72it/s]"
     ]
    },
    {
     "name": "stdout",
     "output_type": "stream",
     "text": [
      "mealService 응답코드: 200\n",
      "급식 데이터 수: 2\n",
      "9290102 성산고등학교\n",
      "급식 정보 조회 중: 날짜=20241030\n",
      "mealService 응답코드: 200\n",
      "급식 데이터 수: 2\n"
     ]
    },
    {
     "name": "stderr",
     "output_type": "stream",
     "text": [
      "[T10] 고등학교 급식 조회:  37%|██▉     | 11/30 [00:02<00:03,  5.58it/s]"
     ]
    },
    {
     "name": "stdout",
     "output_type": "stream",
     "text": [
      "9290064 세화고등학교\n",
      "급식 정보 조회 중: 날짜=20241030\n",
      "mealService 응답코드: 200\n",
      "급식 데이터 수: 2\n"
     ]
    },
    {
     "name": "stderr",
     "output_type": "stream",
     "text": [
      "[T10] 고등학교 급식 조회:  40%|███▏    | 12/30 [00:02<00:03,  5.69it/s]"
     ]
    },
    {
     "name": "stdout",
     "output_type": "stream",
     "text": [
      "9290072 신성여자고등학교\n",
      "급식 정보 조회 중: 날짜=20241030\n",
      "mealService 응답코드: 200\n",
      "급식 데이터 수: 2\n",
      "9290086 애월고등학교\n",
      "급식 정보 조회 중: 날짜=20241030\n"
     ]
    },
    {
     "name": "stderr",
     "output_type": "stream",
     "text": [
      "[T10] 고등학교 급식 조회:  43%|███▍    | 13/30 [00:02<00:02,  5.69it/s]"
     ]
    },
    {
     "name": "stdout",
     "output_type": "stream",
     "text": [
      "mealService 응답코드: 200\n",
      "급식 데이터 수: 2\n",
      "9290089 영주고등학교\n",
      "급식 정보 조회 중: 날짜=20241030\n",
      "mealService 응답코드: 200\n",
      "급식 데이터 수: 1\n"
     ]
    },
    {
     "name": "stderr",
     "output_type": "stream",
     "text": [
      "[T10] 고등학교 급식 조회:  50%|████    | 15/30 [00:02<00:02,  5.77it/s]"
     ]
    },
    {
     "name": "stdout",
     "output_type": "stream",
     "text": [
      "9290069 오현고등학교\n",
      "급식 정보 조회 중: 날짜=20241030\n",
      "mealService 응답코드: 200\n",
      "급식 데이터 수: 2\n",
      "9290096 제주고등학교\n",
      "급식 정보 조회 중: 날짜=20241030\n"
     ]
    },
    {
     "name": "stderr",
     "output_type": "stream",
     "text": [
      "[T10] 고등학교 급식 조회:  53%|████▎   | 16/30 [00:02<00:02,  5.81it/s]"
     ]
    },
    {
     "name": "stdout",
     "output_type": "stream",
     "text": [
      "mealService 응답코드: 200\n",
      "급식 데이터 수: 1\n",
      "9290066 제주과학고등학교\n",
      "급식 정보 조회 중: 날짜=20241030\n",
      "mealService 응답코드: 200\n",
      "급식 데이터 수: 3\n"
     ]
    },
    {
     "name": "stderr",
     "output_type": "stream",
     "text": [
      "[T10] 고등학교 급식 조회:  60%|████▊   | 18/30 [00:03<00:02,  5.84it/s]"
     ]
    },
    {
     "name": "stdout",
     "output_type": "stream",
     "text": [
      "7003713 제주대학교사범대학부설고등학교\n",
      "급식 정보 조회 중: 날짜=20241030\n",
      "mealService 응답코드: 200\n",
      "급식 데이터 수: 2\n",
      "9290071 제주여자고등학교\n",
      "급식 정보 조회 중: 날짜=20241030\n"
     ]
    },
    {
     "name": "stderr",
     "output_type": "stream",
     "text": [
      "[T10] 고등학교 급식 조회:  63%|█████   | 19/30 [00:03<00:01,  5.88it/s]"
     ]
    },
    {
     "name": "stdout",
     "output_type": "stream",
     "text": [
      "mealService 응답코드: 200\n",
      "급식 데이터 수: 2\n",
      "9290051 제주여자상업고등학교\n",
      "급식 정보 조회 중: 날짜=20241030\n",
      "mealService 응답코드: 200\n",
      "급식 데이터 수: 1\n"
     ]
    },
    {
     "name": "stderr",
     "output_type": "stream",
     "text": [
      "[T10] 고등학교 급식 조회:  70%|█████▌  | 21/30 [00:03<00:01,  5.79it/s]"
     ]
    },
    {
     "name": "stdout",
     "output_type": "stream",
     "text": [
      "9290068 제주외국어고등학교\n",
      "급식 정보 조회 중: 날짜=20241030\n",
      "mealService 응답코드: 200\n",
      "급식 데이터 수: 3\n",
      "9290049 제주제일고등학교\n",
      "급식 정보 조회 중: 날짜=20241030\n"
     ]
    },
    {
     "name": "stderr",
     "output_type": "stream",
     "text": [
      "[T10] 고등학교 급식 조회:  73%|█████▊  | 22/30 [00:03<00:01,  5.57it/s]"
     ]
    },
    {
     "name": "stdout",
     "output_type": "stream",
     "text": [
      "mealService 응답코드: 200\n",
      "급식 데이터 수: 2\n",
      "9290088 제주중앙고등학교\n",
      "급식 정보 조회 중: 날짜=20241030\n",
      "mealService 응답코드: 200\n",
      "급식 데이터 수: 2\n"
     ]
    },
    {
     "name": "stderr",
     "output_type": "stream",
     "text": [
      "[T10] 고등학교 급식 조회:  80%|██████▍ | 24/30 [00:04<00:01,  5.63it/s]"
     ]
    },
    {
     "name": "stdout",
     "output_type": "stream",
     "text": [
      "9290050 제주중앙여자고등학교\n",
      "급식 정보 조회 중: 날짜=20241030\n",
      "mealService 응답코드: 200\n",
      "급식 데이터 수: 2\n",
      "9290128 중문고등학교\n",
      "급식 정보 조회 중: 날짜=20241030\n"
     ]
    },
    {
     "name": "stderr",
     "output_type": "stream",
     "text": [
      "[T10] 고등학교 급식 조회:  83%|██████▋ | 25/30 [00:04<00:00,  5.66it/s]"
     ]
    },
    {
     "name": "stdout",
     "output_type": "stream",
     "text": [
      "mealService 응답코드: 200\n",
      "급식 데이터 수: 1\n",
      "9290087 표선고등학교\n",
      "급식 정보 조회 중: 날짜=20241030\n",
      "mealService 응답코드: 200\n",
      "급식 데이터 수: 2\n"
     ]
    },
    {
     "name": "stderr",
     "output_type": "stream",
     "text": [
      "[T10] 고등학교 급식 조회:  90%|███████▏| 27/30 [00:04<00:00,  5.86it/s]"
     ]
    },
    {
     "name": "stdout",
     "output_type": "stream",
     "text": [
      "9290104 한국뷰티고등학교\n",
      "급식 정보 조회 중: 날짜=20241030\n",
      "mealService 응답코드: 200\n",
      "급식 데이터 수: 1\n",
      "9290055 한림고등학교\n",
      "급식 정보 조회 중: 날짜=20241030\n"
     ]
    },
    {
     "name": "stderr",
     "output_type": "stream",
     "text": [
      "[T10] 고등학교 급식 조회:  93%|███████▍| 28/30 [00:04<00:00,  5.68it/s]"
     ]
    },
    {
     "name": "stdout",
     "output_type": "stream",
     "text": [
      "mealService 응답코드: 200\n",
      "급식 데이터 수: 2\n",
      "9290054 한림공업고등학교\n",
      "급식 정보 조회 중: 날짜=20241030\n",
      "mealService 응답코드: 200\n",
      "급식 데이터 수: 2\n"
     ]
    },
    {
     "name": "stderr",
     "output_type": "stream",
     "text": [
      "[T10] 고등학교 급식 조회: 100%|████████| 30/30 [00:05<00:00,  5.64it/s]"
     ]
    },
    {
     "name": "stdout",
     "output_type": "stream",
     "text": [
      "9290103 함덕고등학교\n",
      "급식 정보 조회 중: 날짜=20241030\n",
      "mealService 응답코드: 200\n",
      "급식 데이터 수: 2\n",
      "전국 수집된 급식 행 수: 3652\n",
      "  교육청코드     학교코드      학교명      급식일자 식사명  \\\n",
      "0   B10  7010057   가락고등학교  20241030  중식   \n",
      "1   B10  7011169  가재울고등학교  20241030  중식   \n",
      "2   B10  7010117   강동고등학교  20241030  중식   \n",
      "3   B10  7010117   강동고등학교  20241030  석식   \n",
      "4   B10  7010118   강서고등학교  20241030  중식   \n",
      "\n",
      "                                                급식식단  \n",
      "0  네모유부초밥 (5)<br/>쑥갓우동 (1.2.5.6.9.13)<br/>꼬들단무지채깻...  \n",
      "1  *스팸마요덮밥 (1.2.5.6.10.13.15.16.18)<br/>*김치콩나물국 (...  \n",
      "2  흑미밥 <br/>꼬지어묵국 (1.5.6.7.18)<br/>매운돼지갈비찜 (5.6.1...  \n",
      "3  롤유부초밥 (1.2.5.6.9.13.16.18)<br/>탄탄멘 (1.2.4.5.6....  \n",
      "4  수수밥 <br/>근대된장국 (5.6.8.9.18)<br/>돼지수육 (5.6.10.1...  \n"
     ]
    },
    {
     "name": "stderr",
     "output_type": "stream",
     "text": [
      "\n"
     ]
    }
   ],
   "source": [
    "EDU_CODES = [\n",
    "    \"B10\", \"C10\", \"D10\", \"E10\", \"F10\", \"G10\", \"H10\", \"I10\", \"J10\",\n",
    "    \"K10\", \"M10\", \"N10\", \"P10\", \"Q10\", \"R10\", \"S10\", \"T10\"\n",
    "]\n",
    "API_KEY = ''\n",
    "\n",
    "all_data = []\n",
    "\n",
    "# EDU_CODES 별로 학교 코드 구한 후, 식사 정보 추출\n",
    "for EDU_CODE in EDU_CODES:\n",
    "    highschool_list = get_highschools(EDU_CODE)\n",
    "    \n",
    "    for school_code, school_name in tqdm(highschool_list, desc=f\"[{EDU_CODE}] 고등학교 급식 조회\"):\n",
    "        print(school_code, school_name)\n",
    "        meals = get_meal_info(EDU_CODE, school_code)\n",
    "        for meal in meals:\n",
    "            all_data.append({\n",
    "                \"교육청코드\": EDU_CODE,\n",
    "                \"학교코드\": school_code,\n",
    "                \"학교명\": school_name,\n",
    "                \"급식일자\": meal.get(\"MLSV_YMD\"),\n",
    "                \"식사명\": meal.get(\"MMEAL_SC_NM\"),\n",
    "                \"급식식단\": meal.get(\"DDISH_NM\")\n",
    "            })\n",
    "        time.sleep(0.1)  # 서버 부하 방지\n",
    "\n",
    "# DataFrame으로 저장\n",
    "df = pd.DataFrame(all_data)\n",
    "print(\"전국 수집된 급식 행 수:\", len(df))\n",
    "print(df.head())"
   ]
  },
  {
   "cell_type": "code",
   "execution_count": 30,
   "id": "e2bc78c7-6f81-4fcc-a5c3-11d3f07e9061",
   "metadata": {},
   "outputs": [
    {
     "name": "stdout",
     "output_type": "stream",
     "text": [
      "  교육청코드     학교코드      학교명      급식일자 식사명  \\\n",
      "0   B10  7010057   가락고등학교  20241030  중식   \n",
      "1   B10  7011169  가재울고등학교  20241030  중식   \n",
      "2   B10  7010117   강동고등학교  20241030  중식   \n",
      "3   B10  7010117   강동고등학교  20241030  석식   \n",
      "4   B10  7010118   강서고등학교  20241030  중식   \n",
      "\n",
      "                                                급식식단  \n",
      "0  네모유부초밥 (5)<br/>쑥갓우동 (1.2.5.6.9.13)<br/>꼬들단무지채깻...  \n",
      "1  *스팸마요덮밥 (1.2.5.6.10.13.15.16.18)<br/>*김치콩나물국 (...  \n",
      "2  흑미밥 <br/>꼬지어묵국 (1.5.6.7.18)<br/>매운돼지갈비찜 (5.6.1...  \n",
      "3  롤유부초밥 (1.2.5.6.9.13.16.18)<br/>탄탄멘 (1.2.4.5.6....  \n",
      "4  수수밥 <br/>근대된장국 (5.6.8.9.18)<br/>돼지수육 (5.6.10.1...  \n"
     ]
    }
   ],
   "source": [
    "# all_data['1']\n",
    "print(df.head())"
   ]
  },
  {
   "cell_type": "code",
   "execution_count": 32,
   "id": "25a55fa9-f180-44d5-9e89-936e39ee6618",
   "metadata": {},
   "outputs": [],
   "source": [
    "chunk_size = 5\n",
    "for i in range(0, len(all_data), chunk_size):\n",
    "    chunk = all_data[i:i + chunk_size]\n",
    "    print(f\"\\n📦 {i + 1} ~ {i + len(chunk)}번째 데이터:\")\n",
    "    for item in chunk:\n",
    "        print(item)"
   ]
  },
  {
   "cell_type": "code",
   "execution_count": null,
   "id": "2eef6562-3801-430c-aca0-29f8e5188aa2",
   "metadata": {},
   "outputs": [
    {
     "name": "stdout",
     "output_type": "stream",
     "text": [
      "Status Code: 200\n",
      "'aInvyHgOJDCoYEyp8AFT+AhVUCxcY6kHTN4DyE69+EMicmH70IpA5UbZ4DPDACayBsMCV4O1/06bCECxJBmmHw=='\n",
      "<OpenAPI_ServiceResponse>\n",
      "\t<cmmMsgHeader>\n",
      "\t\t<errMsg>SERVICE ERROR</errMsg>\n",
      "\t\t<returnAuthMsg>SERVICE_ACCESS_DENIED_ERROR</returnAuthMsg>\n",
      "\t\t<returnReasonCode>20</returnReasonCode>\n",
      "\t</cmmMsgHeader>\n",
      "</OpenAPI_ServiceResponse>\n"
     ]
    }
   ],
   "source": [
    "import requests\n",
    "import pandas as pd\n",
    "import xml.etree.ElementTree as ET\n",
    "\n",
    "# 인증키 (URL 인코딩 안 된 원본 그대로 사용)\n",
    "serviceKey = ''\n",
    "\n",
    "# API 엔드포인트\n",
    "url = \"http://apis.data.go.kr/1613000/RTMSDataSvcAptTradeDev/getRTMSDataSvcAptTradeDev\"\n",
    "\n",
    "# 파라미터 정의\n",
    "params = {\n",
    "    'serviceKey': serviceKey,  # 원본 그대로!\n",
    "    'pageNo': 1,\n",
    "    'numOfRows': 100,\n",
    "    'LAWD_CD': '11110',       # 서울 종로구\n",
    "    'DEAL_YMD': '201512'      # 2015년 12월\n",
    "}\n",
    "\n",
    "# API 요청\n",
    "res = requests.get(url, params=params)\n",
    "\n",
    "# 응답 상태코드 출력\n",
    "print(\"Status Code:\", res.status_code)\n",
    "\n",
    "print(repr(serviceKey))\n",
    "\n",
    "# 응답 본문 출력 (텍스트 형태로)\n",
    "print(res.text[:1000])  # 너무 길면 앞부분만 미리보기"
   ]
  },
  {
   "cell_type": "code",
   "execution_count": 71,
   "id": "6bf21fed-37f2-4300-9d87-b1d84b021d1b",
   "metadata": {},
   "outputs": [
    {
     "name": "stderr",
     "output_type": "stream",
     "text": [
      "\u001b[2mResolved \u001b[1m1 package\u001b[0m \u001b[2min 65ms\u001b[0m\u001b[0m\n",
      "\u001b[2mPrepared \u001b[1m1 package\u001b[0m \u001b[2min 11ms\u001b[0m\u001b[0m\n",
      "\u001b[2mInstalled \u001b[1m1 package\u001b[0m \u001b[2min 9ms\u001b[0m\u001b[0m\n",
      " \u001b[32m+\u001b[39m \u001b[1mxmltodict\u001b[0m\u001b[2m==0.14.2\u001b[0m\n"
     ]
    }
   ],
   "source": [
    "!uv pip install xmltodict"
   ]
  },
  {
   "cell_type": "code",
   "execution_count": null,
   "id": "46511f99-e44d-4c76-ae39-cefdcafe3c2e",
   "metadata": {},
   "outputs": [
    {
     "name": "stdout",
     "output_type": "stream",
     "text": [
      "학교명 정보 조회 오류 : HTTPSConnectionPool(host='apis.data.go.kr', port=443): Max retries exceeded with url: /1613000/RTMSDataSvcAptTrade?KEY=aInvyHgOJDCoYEyp8AFT%252BAhVUCxcY6kHTN4DyE69%252BEMicmH70IpA5UbZ4DPDACayBsMCV4O1%252F06bCECxJBmmHw%253D%253D&Type=json&sggCd=11110&umdNm=201512 (Caused by SSLError(SSLError(1, '[SSL: SSLV3_ALERT_ILLEGAL_PARAMETER] sslv3 alert illegal parameter (_ssl.c:1016)')))\n",
      "아파트 조회 불가\n"
     ]
    }
   ],
   "source": [
    "import requests\n",
    "import pandas as pd\n",
    "\n",
    "LAWD_CD = '11110'\n",
    "DEAL_YMD = '201512'\n",
    "API_KEY = ''\n",
    "\n",
    "# 단지명을 가져오는 함수\n",
    "def get_apt_name(lawd, deal):\n",
    "    url = \"https://apis.data.go.kr/1613000/RTMSDataSvcAptTrade\"\n",
    "    params = {\n",
    "        'KEY' : API_KEY,\n",
    "        'Type' : 'json',\n",
    "        'sggCd' : lawd,\n",
    "        'umdNm' : deal\n",
    "    }\n",
    "    try:\n",
    "        res = requests.get(url, params=params, timeout=5)\n",
    "        print(f\"응답코드 : {res.status_code}\")\n",
    "        if res.status_code == 200:\n",
    "            data = res.json()\n",
    "            if \"aptNm\" in data:\n",
    "                # 여기 코드가 핵심\n",
    "                name = data[\"aptNm\"]\n",
    "                print(f\"아파트명: {name}\")\n",
    "                return name\n",
    "            else:\n",
    "                print(\"해당 아파트는 존재하지 않음\", data)\n",
    "        else:\n",
    "            print(\"응답 실패:\", res.text)\n",
    "    except Exception as e:\n",
    "        print(f\"학교명 정보 조회 오류 : {e}\")\n",
    "    return \"아파트 조회 불가\"\n",
    "    \n",
    "print(get_apt_name(LAWD_CD, DEAL_YMD))"
   ]
  },
  {
   "cell_type": "code",
   "execution_count": null,
   "id": "5f75267e-5c00-45d3-a7a1-2435a777e7b9",
   "metadata": {},
   "outputs": [
    {
     "ename": "SSLError",
     "evalue": "HTTPSConnectionPool(host='apis.data.go.kr', port=443): Max retries exceeded with url: /1613000/RTMSDataSvcAptTrade?KEY=aInvyHgOJDCoYEyp8AFT%2BAhVUCxcY6kHTN4DyE69%2BEMicmH70IpA5UbZ4DPDACayBsMCV4O1%2F06bCECxJBmmHw%3D%3D&Type=json&LAWD_CD=11110&DEAL_YMD=201512 (Caused by SSLError(SSLError(1, '[SSL: SSLV3_ALERT_ILLEGAL_PARAMETER] sslv3 alert illegal parameter (_ssl.c:1016)')))",
     "output_type": "error",
     "traceback": [
      "\u001b[31m------------------------------------------------------------------------\u001b[39m",
      "\u001b[31mSSLError\u001b[39m                               Traceback (most recent call last)",
      "\u001b[36mFile \u001b[39m\u001b[32m~\\Desktop\\de_basic\\.venv\\Lib\\site-packages\\urllib3\\connectionpool.py:464\u001b[39m, in \u001b[36mHTTPConnectionPool._make_request\u001b[39m\u001b[34m(self, conn, method, url, body, headers, retries, timeout, chunked, response_conn, preload_content, decode_content, enforce_content_length)\u001b[39m\n\u001b[32m    463\u001b[39m \u001b[38;5;28;01mtry\u001b[39;00m:\n\u001b[32m--> \u001b[39m\u001b[32m464\u001b[39m     \u001b[38;5;28;43mself\u001b[39;49m\u001b[43m.\u001b[49m\u001b[43m_validate_conn\u001b[49m\u001b[43m(\u001b[49m\u001b[43mconn\u001b[49m\u001b[43m)\u001b[49m\n\u001b[32m    465\u001b[39m \u001b[38;5;28;01mexcept\u001b[39;00m (SocketTimeout, BaseSSLError) \u001b[38;5;28;01mas\u001b[39;00m e:\n",
      "\u001b[36mFile \u001b[39m\u001b[32m~\\Desktop\\de_basic\\.venv\\Lib\\site-packages\\urllib3\\connectionpool.py:1093\u001b[39m, in \u001b[36mHTTPSConnectionPool._validate_conn\u001b[39m\u001b[34m(self, conn)\u001b[39m\n\u001b[32m   1092\u001b[39m \u001b[38;5;28;01mif\u001b[39;00m conn.is_closed:\n\u001b[32m-> \u001b[39m\u001b[32m1093\u001b[39m     \u001b[43mconn\u001b[49m\u001b[43m.\u001b[49m\u001b[43mconnect\u001b[49m\u001b[43m(\u001b[49m\u001b[43m)\u001b[49m\n\u001b[32m   1095\u001b[39m \u001b[38;5;66;03m# TODO revise this, see https://github.com/urllib3/urllib3/issues/2791\u001b[39;00m\n",
      "\u001b[36mFile \u001b[39m\u001b[32m~\\Desktop\\de_basic\\.venv\\Lib\\site-packages\\urllib3\\connection.py:741\u001b[39m, in \u001b[36mHTTPSConnection.connect\u001b[39m\u001b[34m(self)\u001b[39m\n\u001b[32m    739\u001b[39m server_hostname_rm_dot = server_hostname.rstrip(\u001b[33m\"\u001b[39m\u001b[33m.\u001b[39m\u001b[33m\"\u001b[39m)\n\u001b[32m--> \u001b[39m\u001b[32m741\u001b[39m sock_and_verified = \u001b[43m_ssl_wrap_socket_and_match_hostname\u001b[49m\u001b[43m(\u001b[49m\n\u001b[32m    742\u001b[39m \u001b[43m    \u001b[49m\u001b[43msock\u001b[49m\u001b[43m=\u001b[49m\u001b[43msock\u001b[49m\u001b[43m,\u001b[49m\n\u001b[32m    743\u001b[39m \u001b[43m    \u001b[49m\u001b[43mcert_reqs\u001b[49m\u001b[43m=\u001b[49m\u001b[38;5;28;43mself\u001b[39;49m\u001b[43m.\u001b[49m\u001b[43mcert_reqs\u001b[49m\u001b[43m,\u001b[49m\n\u001b[32m    744\u001b[39m \u001b[43m    \u001b[49m\u001b[43mssl_version\u001b[49m\u001b[43m=\u001b[49m\u001b[38;5;28;43mself\u001b[39;49m\u001b[43m.\u001b[49m\u001b[43mssl_version\u001b[49m\u001b[43m,\u001b[49m\n\u001b[32m    745\u001b[39m \u001b[43m    \u001b[49m\u001b[43mssl_minimum_version\u001b[49m\u001b[43m=\u001b[49m\u001b[38;5;28;43mself\u001b[39;49m\u001b[43m.\u001b[49m\u001b[43mssl_minimum_version\u001b[49m\u001b[43m,\u001b[49m\n\u001b[32m    746\u001b[39m \u001b[43m    \u001b[49m\u001b[43mssl_maximum_version\u001b[49m\u001b[43m=\u001b[49m\u001b[38;5;28;43mself\u001b[39;49m\u001b[43m.\u001b[49m\u001b[43mssl_maximum_version\u001b[49m\u001b[43m,\u001b[49m\n\u001b[32m    747\u001b[39m \u001b[43m    \u001b[49m\u001b[43mca_certs\u001b[49m\u001b[43m=\u001b[49m\u001b[38;5;28;43mself\u001b[39;49m\u001b[43m.\u001b[49m\u001b[43mca_certs\u001b[49m\u001b[43m,\u001b[49m\n\u001b[32m    748\u001b[39m \u001b[43m    \u001b[49m\u001b[43mca_cert_dir\u001b[49m\u001b[43m=\u001b[49m\u001b[38;5;28;43mself\u001b[39;49m\u001b[43m.\u001b[49m\u001b[43mca_cert_dir\u001b[49m\u001b[43m,\u001b[49m\n\u001b[32m    749\u001b[39m \u001b[43m    \u001b[49m\u001b[43mca_cert_data\u001b[49m\u001b[43m=\u001b[49m\u001b[38;5;28;43mself\u001b[39;49m\u001b[43m.\u001b[49m\u001b[43mca_cert_data\u001b[49m\u001b[43m,\u001b[49m\n\u001b[32m    750\u001b[39m \u001b[43m    \u001b[49m\u001b[43mcert_file\u001b[49m\u001b[43m=\u001b[49m\u001b[38;5;28;43mself\u001b[39;49m\u001b[43m.\u001b[49m\u001b[43mcert_file\u001b[49m\u001b[43m,\u001b[49m\n\u001b[32m    751\u001b[39m \u001b[43m    \u001b[49m\u001b[43mkey_file\u001b[49m\u001b[43m=\u001b[49m\u001b[38;5;28;43mself\u001b[39;49m\u001b[43m.\u001b[49m\u001b[43mkey_file\u001b[49m\u001b[43m,\u001b[49m\n\u001b[32m    752\u001b[39m \u001b[43m    \u001b[49m\u001b[43mkey_password\u001b[49m\u001b[43m=\u001b[49m\u001b[38;5;28;43mself\u001b[39;49m\u001b[43m.\u001b[49m\u001b[43mkey_password\u001b[49m\u001b[43m,\u001b[49m\n\u001b[32m    753\u001b[39m \u001b[43m    \u001b[49m\u001b[43mserver_hostname\u001b[49m\u001b[43m=\u001b[49m\u001b[43mserver_hostname_rm_dot\u001b[49m\u001b[43m,\u001b[49m\n\u001b[32m    754\u001b[39m \u001b[43m    \u001b[49m\u001b[43mssl_context\u001b[49m\u001b[43m=\u001b[49m\u001b[38;5;28;43mself\u001b[39;49m\u001b[43m.\u001b[49m\u001b[43mssl_context\u001b[49m\u001b[43m,\u001b[49m\n\u001b[32m    755\u001b[39m \u001b[43m    \u001b[49m\u001b[43mtls_in_tls\u001b[49m\u001b[43m=\u001b[49m\u001b[43mtls_in_tls\u001b[49m\u001b[43m,\u001b[49m\n\u001b[32m    756\u001b[39m \u001b[43m    \u001b[49m\u001b[43massert_hostname\u001b[49m\u001b[43m=\u001b[49m\u001b[38;5;28;43mself\u001b[39;49m\u001b[43m.\u001b[49m\u001b[43massert_hostname\u001b[49m\u001b[43m,\u001b[49m\n\u001b[32m    757\u001b[39m \u001b[43m    \u001b[49m\u001b[43massert_fingerprint\u001b[49m\u001b[43m=\u001b[49m\u001b[38;5;28;43mself\u001b[39;49m\u001b[43m.\u001b[49m\u001b[43massert_fingerprint\u001b[49m\u001b[43m,\u001b[49m\n\u001b[32m    758\u001b[39m \u001b[43m\u001b[49m\u001b[43m)\u001b[49m\n\u001b[32m    759\u001b[39m \u001b[38;5;28mself\u001b[39m.sock = sock_and_verified.socket\n",
      "\u001b[36mFile \u001b[39m\u001b[32m~\\Desktop\\de_basic\\.venv\\Lib\\site-packages\\urllib3\\connection.py:920\u001b[39m, in \u001b[36m_ssl_wrap_socket_and_match_hostname\u001b[39m\u001b[34m(sock, cert_reqs, ssl_version, ssl_minimum_version, ssl_maximum_version, cert_file, key_file, key_password, ca_certs, ca_cert_dir, ca_cert_data, assert_hostname, assert_fingerprint, server_hostname, ssl_context, tls_in_tls)\u001b[39m\n\u001b[32m    918\u001b[39m         server_hostname = normalized\n\u001b[32m--> \u001b[39m\u001b[32m920\u001b[39m ssl_sock = \u001b[43mssl_wrap_socket\u001b[49m\u001b[43m(\u001b[49m\n\u001b[32m    921\u001b[39m \u001b[43m    \u001b[49m\u001b[43msock\u001b[49m\u001b[43m=\u001b[49m\u001b[43msock\u001b[49m\u001b[43m,\u001b[49m\n\u001b[32m    922\u001b[39m \u001b[43m    \u001b[49m\u001b[43mkeyfile\u001b[49m\u001b[43m=\u001b[49m\u001b[43mkey_file\u001b[49m\u001b[43m,\u001b[49m\n\u001b[32m    923\u001b[39m \u001b[43m    \u001b[49m\u001b[43mcertfile\u001b[49m\u001b[43m=\u001b[49m\u001b[43mcert_file\u001b[49m\u001b[43m,\u001b[49m\n\u001b[32m    924\u001b[39m \u001b[43m    \u001b[49m\u001b[43mkey_password\u001b[49m\u001b[43m=\u001b[49m\u001b[43mkey_password\u001b[49m\u001b[43m,\u001b[49m\n\u001b[32m    925\u001b[39m \u001b[43m    \u001b[49m\u001b[43mca_certs\u001b[49m\u001b[43m=\u001b[49m\u001b[43mca_certs\u001b[49m\u001b[43m,\u001b[49m\n\u001b[32m    926\u001b[39m \u001b[43m    \u001b[49m\u001b[43mca_cert_dir\u001b[49m\u001b[43m=\u001b[49m\u001b[43mca_cert_dir\u001b[49m\u001b[43m,\u001b[49m\n\u001b[32m    927\u001b[39m \u001b[43m    \u001b[49m\u001b[43mca_cert_data\u001b[49m\u001b[43m=\u001b[49m\u001b[43mca_cert_data\u001b[49m\u001b[43m,\u001b[49m\n\u001b[32m    928\u001b[39m \u001b[43m    \u001b[49m\u001b[43mserver_hostname\u001b[49m\u001b[43m=\u001b[49m\u001b[43mserver_hostname\u001b[49m\u001b[43m,\u001b[49m\n\u001b[32m    929\u001b[39m \u001b[43m    \u001b[49m\u001b[43mssl_context\u001b[49m\u001b[43m=\u001b[49m\u001b[43mcontext\u001b[49m\u001b[43m,\u001b[49m\n\u001b[32m    930\u001b[39m \u001b[43m    \u001b[49m\u001b[43mtls_in_tls\u001b[49m\u001b[43m=\u001b[49m\u001b[43mtls_in_tls\u001b[49m\u001b[43m,\u001b[49m\n\u001b[32m    931\u001b[39m \u001b[43m\u001b[49m\u001b[43m)\u001b[49m\n\u001b[32m    933\u001b[39m \u001b[38;5;28;01mtry\u001b[39;00m:\n",
      "\u001b[36mFile \u001b[39m\u001b[32m~\\Desktop\\de_basic\\.venv\\Lib\\site-packages\\urllib3\\util\\ssl_.py:480\u001b[39m, in \u001b[36mssl_wrap_socket\u001b[39m\u001b[34m(sock, keyfile, certfile, cert_reqs, ca_certs, server_hostname, ssl_version, ciphers, ssl_context, ca_cert_dir, key_password, ca_cert_data, tls_in_tls)\u001b[39m\n\u001b[32m    478\u001b[39m context.set_alpn_protocols(ALPN_PROTOCOLS)\n\u001b[32m--> \u001b[39m\u001b[32m480\u001b[39m ssl_sock = \u001b[43m_ssl_wrap_socket_impl\u001b[49m\u001b[43m(\u001b[49m\u001b[43msock\u001b[49m\u001b[43m,\u001b[49m\u001b[43m \u001b[49m\u001b[43mcontext\u001b[49m\u001b[43m,\u001b[49m\u001b[43m \u001b[49m\u001b[43mtls_in_tls\u001b[49m\u001b[43m,\u001b[49m\u001b[43m \u001b[49m\u001b[43mserver_hostname\u001b[49m\u001b[43m)\u001b[49m\n\u001b[32m    481\u001b[39m \u001b[38;5;28;01mreturn\u001b[39;00m ssl_sock\n",
      "\u001b[36mFile \u001b[39m\u001b[32m~\\Desktop\\de_basic\\.venv\\Lib\\site-packages\\urllib3\\util\\ssl_.py:524\u001b[39m, in \u001b[36m_ssl_wrap_socket_impl\u001b[39m\u001b[34m(sock, ssl_context, tls_in_tls, server_hostname)\u001b[39m\n\u001b[32m    522\u001b[39m     \u001b[38;5;28;01mreturn\u001b[39;00m SSLTransport(sock, ssl_context, server_hostname)\n\u001b[32m--> \u001b[39m\u001b[32m524\u001b[39m \u001b[38;5;28;01mreturn\u001b[39;00m \u001b[43mssl_context\u001b[49m\u001b[43m.\u001b[49m\u001b[43mwrap_socket\u001b[49m\u001b[43m(\u001b[49m\u001b[43msock\u001b[49m\u001b[43m,\u001b[49m\u001b[43m \u001b[49m\u001b[43mserver_hostname\u001b[49m\u001b[43m=\u001b[49m\u001b[43mserver_hostname\u001b[49m\u001b[43m)\u001b[49m\n",
      "\u001b[36mFile \u001b[39m\u001b[32m~\\AppData\\Roaming\\uv\\python\\cpython-3.11.12-windows-x86_64-none\\Lib\\ssl.py:517\u001b[39m, in \u001b[36mSSLContext.wrap_socket\u001b[39m\u001b[34m(self, sock, server_side, do_handshake_on_connect, suppress_ragged_eofs, server_hostname, session)\u001b[39m\n\u001b[32m    511\u001b[39m \u001b[38;5;28;01mdef\u001b[39;00m\u001b[38;5;250m \u001b[39m\u001b[34mwrap_socket\u001b[39m(\u001b[38;5;28mself\u001b[39m, sock, server_side=\u001b[38;5;28;01mFalse\u001b[39;00m,\n\u001b[32m    512\u001b[39m                 do_handshake_on_connect=\u001b[38;5;28;01mTrue\u001b[39;00m,\n\u001b[32m    513\u001b[39m                 suppress_ragged_eofs=\u001b[38;5;28;01mTrue\u001b[39;00m,\n\u001b[32m    514\u001b[39m                 server_hostname=\u001b[38;5;28;01mNone\u001b[39;00m, session=\u001b[38;5;28;01mNone\u001b[39;00m):\n\u001b[32m    515\u001b[39m     \u001b[38;5;66;03m# SSLSocket class handles server_hostname encoding before it calls\u001b[39;00m\n\u001b[32m    516\u001b[39m     \u001b[38;5;66;03m# ctx._wrap_socket()\u001b[39;00m\n\u001b[32m--> \u001b[39m\u001b[32m517\u001b[39m     \u001b[38;5;28;01mreturn\u001b[39;00m \u001b[38;5;28;43mself\u001b[39;49m\u001b[43m.\u001b[49m\u001b[43msslsocket_class\u001b[49m\u001b[43m.\u001b[49m\u001b[43m_create\u001b[49m\u001b[43m(\u001b[49m\n\u001b[32m    518\u001b[39m \u001b[43m        \u001b[49m\u001b[43msock\u001b[49m\u001b[43m=\u001b[49m\u001b[43msock\u001b[49m\u001b[43m,\u001b[49m\n\u001b[32m    519\u001b[39m \u001b[43m        \u001b[49m\u001b[43mserver_side\u001b[49m\u001b[43m=\u001b[49m\u001b[43mserver_side\u001b[49m\u001b[43m,\u001b[49m\n\u001b[32m    520\u001b[39m \u001b[43m        \u001b[49m\u001b[43mdo_handshake_on_connect\u001b[49m\u001b[43m=\u001b[49m\u001b[43mdo_handshake_on_connect\u001b[49m\u001b[43m,\u001b[49m\n\u001b[32m    521\u001b[39m \u001b[43m        \u001b[49m\u001b[43msuppress_ragged_eofs\u001b[49m\u001b[43m=\u001b[49m\u001b[43msuppress_ragged_eofs\u001b[49m\u001b[43m,\u001b[49m\n\u001b[32m    522\u001b[39m \u001b[43m        \u001b[49m\u001b[43mserver_hostname\u001b[49m\u001b[43m=\u001b[49m\u001b[43mserver_hostname\u001b[49m\u001b[43m,\u001b[49m\n\u001b[32m    523\u001b[39m \u001b[43m        \u001b[49m\u001b[43mcontext\u001b[49m\u001b[43m=\u001b[49m\u001b[38;5;28;43mself\u001b[39;49m\u001b[43m,\u001b[49m\n\u001b[32m    524\u001b[39m \u001b[43m        \u001b[49m\u001b[43msession\u001b[49m\u001b[43m=\u001b[49m\u001b[43msession\u001b[49m\n\u001b[32m    525\u001b[39m \u001b[43m    \u001b[49m\u001b[43m)\u001b[49m\n",
      "\u001b[36mFile \u001b[39m\u001b[32m~\\AppData\\Roaming\\uv\\python\\cpython-3.11.12-windows-x86_64-none\\Lib\\ssl.py:1104\u001b[39m, in \u001b[36mSSLSocket._create\u001b[39m\u001b[34m(cls, sock, server_side, do_handshake_on_connect, suppress_ragged_eofs, server_hostname, context, session)\u001b[39m\n\u001b[32m   1103\u001b[39m                 \u001b[38;5;28;01mraise\u001b[39;00m \u001b[38;5;167;01mValueError\u001b[39;00m(\u001b[33m\"\u001b[39m\u001b[33mdo_handshake_on_connect should not be specified for non-blocking sockets\u001b[39m\u001b[33m\"\u001b[39m)\n\u001b[32m-> \u001b[39m\u001b[32m1104\u001b[39m             \u001b[38;5;28;43mself\u001b[39;49m\u001b[43m.\u001b[49m\u001b[43mdo_handshake\u001b[49m\u001b[43m(\u001b[49m\u001b[43m)\u001b[49m\n\u001b[32m   1105\u001b[39m \u001b[38;5;28;01mexcept\u001b[39;00m:\n",
      "\u001b[36mFile \u001b[39m\u001b[32m~\\AppData\\Roaming\\uv\\python\\cpython-3.11.12-windows-x86_64-none\\Lib\\ssl.py:1382\u001b[39m, in \u001b[36mSSLSocket.do_handshake\u001b[39m\u001b[34m(self, block)\u001b[39m\n\u001b[32m   1381\u001b[39m         \u001b[38;5;28mself\u001b[39m.settimeout(\u001b[38;5;28;01mNone\u001b[39;00m)\n\u001b[32m-> \u001b[39m\u001b[32m1382\u001b[39m     \u001b[38;5;28mself\u001b[39m._sslobj.do_handshake()\n\u001b[32m   1383\u001b[39m \u001b[38;5;28;01mfinally\u001b[39;00m:\n",
      "\u001b[31mSSLError\u001b[39m: [SSL: SSLV3_ALERT_ILLEGAL_PARAMETER] sslv3 alert illegal parameter (_ssl.c:1016)",
      "\nDuring handling of the above exception, another exception occurred:\n",
      "\u001b[31mSSLError\u001b[39m                               Traceback (most recent call last)",
      "\u001b[36mFile \u001b[39m\u001b[32m~\\Desktop\\de_basic\\.venv\\Lib\\site-packages\\urllib3\\connectionpool.py:787\u001b[39m, in \u001b[36mHTTPConnectionPool.urlopen\u001b[39m\u001b[34m(self, method, url, body, headers, retries, redirect, assert_same_host, timeout, pool_timeout, release_conn, chunked, body_pos, preload_content, decode_content, **response_kw)\u001b[39m\n\u001b[32m    786\u001b[39m \u001b[38;5;66;03m# Make the request on the HTTPConnection object\u001b[39;00m\n\u001b[32m--> \u001b[39m\u001b[32m787\u001b[39m response = \u001b[38;5;28;43mself\u001b[39;49m\u001b[43m.\u001b[49m\u001b[43m_make_request\u001b[49m\u001b[43m(\u001b[49m\n\u001b[32m    788\u001b[39m \u001b[43m    \u001b[49m\u001b[43mconn\u001b[49m\u001b[43m,\u001b[49m\n\u001b[32m    789\u001b[39m \u001b[43m    \u001b[49m\u001b[43mmethod\u001b[49m\u001b[43m,\u001b[49m\n\u001b[32m    790\u001b[39m \u001b[43m    \u001b[49m\u001b[43murl\u001b[49m\u001b[43m,\u001b[49m\n\u001b[32m    791\u001b[39m \u001b[43m    \u001b[49m\u001b[43mtimeout\u001b[49m\u001b[43m=\u001b[49m\u001b[43mtimeout_obj\u001b[49m\u001b[43m,\u001b[49m\n\u001b[32m    792\u001b[39m \u001b[43m    \u001b[49m\u001b[43mbody\u001b[49m\u001b[43m=\u001b[49m\u001b[43mbody\u001b[49m\u001b[43m,\u001b[49m\n\u001b[32m    793\u001b[39m \u001b[43m    \u001b[49m\u001b[43mheaders\u001b[49m\u001b[43m=\u001b[49m\u001b[43mheaders\u001b[49m\u001b[43m,\u001b[49m\n\u001b[32m    794\u001b[39m \u001b[43m    \u001b[49m\u001b[43mchunked\u001b[49m\u001b[43m=\u001b[49m\u001b[43mchunked\u001b[49m\u001b[43m,\u001b[49m\n\u001b[32m    795\u001b[39m \u001b[43m    \u001b[49m\u001b[43mretries\u001b[49m\u001b[43m=\u001b[49m\u001b[43mretries\u001b[49m\u001b[43m,\u001b[49m\n\u001b[32m    796\u001b[39m \u001b[43m    \u001b[49m\u001b[43mresponse_conn\u001b[49m\u001b[43m=\u001b[49m\u001b[43mresponse_conn\u001b[49m\u001b[43m,\u001b[49m\n\u001b[32m    797\u001b[39m \u001b[43m    \u001b[49m\u001b[43mpreload_content\u001b[49m\u001b[43m=\u001b[49m\u001b[43mpreload_content\u001b[49m\u001b[43m,\u001b[49m\n\u001b[32m    798\u001b[39m \u001b[43m    \u001b[49m\u001b[43mdecode_content\u001b[49m\u001b[43m=\u001b[49m\u001b[43mdecode_content\u001b[49m\u001b[43m,\u001b[49m\n\u001b[32m    799\u001b[39m \u001b[43m    \u001b[49m\u001b[43m*\u001b[49m\u001b[43m*\u001b[49m\u001b[43mresponse_kw\u001b[49m\u001b[43m,\u001b[49m\n\u001b[32m    800\u001b[39m \u001b[43m\u001b[49m\u001b[43m)\u001b[49m\n\u001b[32m    802\u001b[39m \u001b[38;5;66;03m# Everything went great!\u001b[39;00m\n",
      "\u001b[36mFile \u001b[39m\u001b[32m~\\Desktop\\de_basic\\.venv\\Lib\\site-packages\\urllib3\\connectionpool.py:488\u001b[39m, in \u001b[36mHTTPConnectionPool._make_request\u001b[39m\u001b[34m(self, conn, method, url, body, headers, retries, timeout, chunked, response_conn, preload_content, decode_content, enforce_content_length)\u001b[39m\n\u001b[32m    487\u001b[39m         new_e = _wrap_proxy_error(new_e, conn.proxy.scheme)\n\u001b[32m--> \u001b[39m\u001b[32m488\u001b[39m     \u001b[38;5;28;01mraise\u001b[39;00m new_e\n\u001b[32m    490\u001b[39m \u001b[38;5;66;03m# conn.request() calls http.client.*.request, not the method in\u001b[39;00m\n\u001b[32m    491\u001b[39m \u001b[38;5;66;03m# urllib3.request. It also calls makefile (recv) on the socket.\u001b[39;00m\n",
      "\u001b[31mSSLError\u001b[39m: [SSL: SSLV3_ALERT_ILLEGAL_PARAMETER] sslv3 alert illegal parameter (_ssl.c:1016)",
      "\nThe above exception was the direct cause of the following exception:\n",
      "\u001b[31mMaxRetryError\u001b[39m                          Traceback (most recent call last)",
      "\u001b[36mFile \u001b[39m\u001b[32m~\\Desktop\\de_basic\\.venv\\Lib\\site-packages\\requests\\adapters.py:667\u001b[39m, in \u001b[36mHTTPAdapter.send\u001b[39m\u001b[34m(self, request, stream, timeout, verify, cert, proxies)\u001b[39m\n\u001b[32m    666\u001b[39m \u001b[38;5;28;01mtry\u001b[39;00m:\n\u001b[32m--> \u001b[39m\u001b[32m667\u001b[39m     resp = \u001b[43mconn\u001b[49m\u001b[43m.\u001b[49m\u001b[43murlopen\u001b[49m\u001b[43m(\u001b[49m\n\u001b[32m    668\u001b[39m \u001b[43m        \u001b[49m\u001b[43mmethod\u001b[49m\u001b[43m=\u001b[49m\u001b[43mrequest\u001b[49m\u001b[43m.\u001b[49m\u001b[43mmethod\u001b[49m\u001b[43m,\u001b[49m\n\u001b[32m    669\u001b[39m \u001b[43m        \u001b[49m\u001b[43murl\u001b[49m\u001b[43m=\u001b[49m\u001b[43murl\u001b[49m\u001b[43m,\u001b[49m\n\u001b[32m    670\u001b[39m \u001b[43m        \u001b[49m\u001b[43mbody\u001b[49m\u001b[43m=\u001b[49m\u001b[43mrequest\u001b[49m\u001b[43m.\u001b[49m\u001b[43mbody\u001b[49m\u001b[43m,\u001b[49m\n\u001b[32m    671\u001b[39m \u001b[43m        \u001b[49m\u001b[43mheaders\u001b[49m\u001b[43m=\u001b[49m\u001b[43mrequest\u001b[49m\u001b[43m.\u001b[49m\u001b[43mheaders\u001b[49m\u001b[43m,\u001b[49m\n\u001b[32m    672\u001b[39m \u001b[43m        \u001b[49m\u001b[43mredirect\u001b[49m\u001b[43m=\u001b[49m\u001b[38;5;28;43;01mFalse\u001b[39;49;00m\u001b[43m,\u001b[49m\n\u001b[32m    673\u001b[39m \u001b[43m        \u001b[49m\u001b[43massert_same_host\u001b[49m\u001b[43m=\u001b[49m\u001b[38;5;28;43;01mFalse\u001b[39;49;00m\u001b[43m,\u001b[49m\n\u001b[32m    674\u001b[39m \u001b[43m        \u001b[49m\u001b[43mpreload_content\u001b[49m\u001b[43m=\u001b[49m\u001b[38;5;28;43;01mFalse\u001b[39;49;00m\u001b[43m,\u001b[49m\n\u001b[32m    675\u001b[39m \u001b[43m        \u001b[49m\u001b[43mdecode_content\u001b[49m\u001b[43m=\u001b[49m\u001b[38;5;28;43;01mFalse\u001b[39;49;00m\u001b[43m,\u001b[49m\n\u001b[32m    676\u001b[39m \u001b[43m        \u001b[49m\u001b[43mretries\u001b[49m\u001b[43m=\u001b[49m\u001b[38;5;28;43mself\u001b[39;49m\u001b[43m.\u001b[49m\u001b[43mmax_retries\u001b[49m\u001b[43m,\u001b[49m\n\u001b[32m    677\u001b[39m \u001b[43m        \u001b[49m\u001b[43mtimeout\u001b[49m\u001b[43m=\u001b[49m\u001b[43mtimeout\u001b[49m\u001b[43m,\u001b[49m\n\u001b[32m    678\u001b[39m \u001b[43m        \u001b[49m\u001b[43mchunked\u001b[49m\u001b[43m=\u001b[49m\u001b[43mchunked\u001b[49m\u001b[43m,\u001b[49m\n\u001b[32m    679\u001b[39m \u001b[43m    \u001b[49m\u001b[43m)\u001b[49m\n\u001b[32m    681\u001b[39m \u001b[38;5;28;01mexcept\u001b[39;00m (ProtocolError, \u001b[38;5;167;01mOSError\u001b[39;00m) \u001b[38;5;28;01mas\u001b[39;00m err:\n",
      "\u001b[36mFile \u001b[39m\u001b[32m~\\Desktop\\de_basic\\.venv\\Lib\\site-packages\\urllib3\\connectionpool.py:841\u001b[39m, in \u001b[36mHTTPConnectionPool.urlopen\u001b[39m\u001b[34m(self, method, url, body, headers, retries, redirect, assert_same_host, timeout, pool_timeout, release_conn, chunked, body_pos, preload_content, decode_content, **response_kw)\u001b[39m\n\u001b[32m    839\u001b[39m     new_e = ProtocolError(\u001b[33m\"\u001b[39m\u001b[33mConnection aborted.\u001b[39m\u001b[33m\"\u001b[39m, new_e)\n\u001b[32m--> \u001b[39m\u001b[32m841\u001b[39m retries = \u001b[43mretries\u001b[49m\u001b[43m.\u001b[49m\u001b[43mincrement\u001b[49m\u001b[43m(\u001b[49m\n\u001b[32m    842\u001b[39m \u001b[43m    \u001b[49m\u001b[43mmethod\u001b[49m\u001b[43m,\u001b[49m\u001b[43m \u001b[49m\u001b[43murl\u001b[49m\u001b[43m,\u001b[49m\u001b[43m \u001b[49m\u001b[43merror\u001b[49m\u001b[43m=\u001b[49m\u001b[43mnew_e\u001b[49m\u001b[43m,\u001b[49m\u001b[43m \u001b[49m\u001b[43m_pool\u001b[49m\u001b[43m=\u001b[49m\u001b[38;5;28;43mself\u001b[39;49m\u001b[43m,\u001b[49m\u001b[43m \u001b[49m\u001b[43m_stacktrace\u001b[49m\u001b[43m=\u001b[49m\u001b[43msys\u001b[49m\u001b[43m.\u001b[49m\u001b[43mexc_info\u001b[49m\u001b[43m(\u001b[49m\u001b[43m)\u001b[49m\u001b[43m[\u001b[49m\u001b[32;43m2\u001b[39;49m\u001b[43m]\u001b[49m\n\u001b[32m    843\u001b[39m \u001b[43m\u001b[49m\u001b[43m)\u001b[49m\n\u001b[32m    844\u001b[39m retries.sleep()\n",
      "\u001b[36mFile \u001b[39m\u001b[32m~\\Desktop\\de_basic\\.venv\\Lib\\site-packages\\urllib3\\util\\retry.py:519\u001b[39m, in \u001b[36mRetry.increment\u001b[39m\u001b[34m(self, method, url, response, error, _pool, _stacktrace)\u001b[39m\n\u001b[32m    518\u001b[39m     reason = error \u001b[38;5;129;01mor\u001b[39;00m ResponseError(cause)\n\u001b[32m--> \u001b[39m\u001b[32m519\u001b[39m     \u001b[38;5;28;01mraise\u001b[39;00m MaxRetryError(_pool, url, reason) \u001b[38;5;28;01mfrom\u001b[39;00m\u001b[38;5;250m \u001b[39m\u001b[34;01mreason\u001b[39;00m  \u001b[38;5;66;03m# type: ignore[arg-type]\u001b[39;00m\n\u001b[32m    521\u001b[39m log.debug(\u001b[33m\"\u001b[39m\u001b[33mIncremented Retry for (url=\u001b[39m\u001b[33m'\u001b[39m\u001b[38;5;132;01m%s\u001b[39;00m\u001b[33m'\u001b[39m\u001b[33m): \u001b[39m\u001b[38;5;132;01m%r\u001b[39;00m\u001b[33m\"\u001b[39m, url, new_retry)\n",
      "\u001b[31mMaxRetryError\u001b[39m: HTTPSConnectionPool(host='apis.data.go.kr', port=443): Max retries exceeded with url: /1613000/RTMSDataSvcAptTrade?KEY=aInvyHgOJDCoYEyp8AFT%2BAhVUCxcY6kHTN4DyE69%2BEMicmH70IpA5UbZ4DPDACayBsMCV4O1%2F06bCECxJBmmHw%3D%3D&Type=json&LAWD_CD=11110&DEAL_YMD=201512 (Caused by SSLError(SSLError(1, '[SSL: SSLV3_ALERT_ILLEGAL_PARAMETER] sslv3 alert illegal parameter (_ssl.c:1016)')))",
      "\nDuring handling of the above exception, another exception occurred:\n",
      "\u001b[31mSSLError\u001b[39m                               Traceback (most recent call last)",
      "\u001b[36mCell\u001b[39m\u001b[36m \u001b[39m\u001b[32mIn[73]\u001b[39m\u001b[32m, line 12\u001b[39m\n\u001b[32m      4\u001b[39m url = \u001b[33m\"\u001b[39m\u001b[33mhttps://apis.data.go.kr/1613000/RTMSDataSvcAptTrade\u001b[39m\u001b[33m\"\u001b[39m\n\u001b[32m      5\u001b[39m params = {\n\u001b[32m      6\u001b[39m     \u001b[33m\"\u001b[39m\u001b[33mKEY\u001b[39m\u001b[33m\"\u001b[39m: API_KEY,\n\u001b[32m      7\u001b[39m     \u001b[33m\"\u001b[39m\u001b[33mType\u001b[39m\u001b[33m\"\u001b[39m: \u001b[33m\"\u001b[39m\u001b[33mjson\u001b[39m\u001b[33m\"\u001b[39m,\n\u001b[32m      8\u001b[39m     \u001b[33m\"\u001b[39m\u001b[33mLAWD_CD\u001b[39m\u001b[33m\"\u001b[39m: \u001b[33m\"\u001b[39m\u001b[33m11110\u001b[39m\u001b[33m\"\u001b[39m,\n\u001b[32m      9\u001b[39m     \u001b[33m\"\u001b[39m\u001b[33mDEAL_YMD\u001b[39m\u001b[33m\"\u001b[39m: \u001b[33m\"\u001b[39m\u001b[33m201512\u001b[39m\u001b[33m\"\u001b[39m\n\u001b[32m     10\u001b[39m }\n\u001b[32m---> \u001b[39m\u001b[32m12\u001b[39m res = \u001b[43mrequests\u001b[49m\u001b[43m.\u001b[49m\u001b[43mget\u001b[49m\u001b[43m(\u001b[49m\u001b[43murl\u001b[49m\u001b[43m,\u001b[49m\u001b[43m \u001b[49m\u001b[43mparams\u001b[49m\u001b[43m=\u001b[49m\u001b[43mparams\u001b[49m\u001b[43m)\u001b[49m\n\u001b[32m     13\u001b[39m \u001b[38;5;28mprint\u001b[39m(res.status_code)\n\u001b[32m     14\u001b[39m \u001b[38;5;28mprint\u001b[39m(res.text)  \u001b[38;5;66;03m# 먼저 텍스트로 확인 후 json으로 파싱\u001b[39;00m\n",
      "\u001b[36mFile \u001b[39m\u001b[32m~\\Desktop\\de_basic\\.venv\\Lib\\site-packages\\requests\\api.py:73\u001b[39m, in \u001b[36mget\u001b[39m\u001b[34m(url, params, **kwargs)\u001b[39m\n\u001b[32m     62\u001b[39m \u001b[38;5;28;01mdef\u001b[39;00m\u001b[38;5;250m \u001b[39m\u001b[34mget\u001b[39m(url, params=\u001b[38;5;28;01mNone\u001b[39;00m, **kwargs):\n\u001b[32m     63\u001b[39m \u001b[38;5;250m    \u001b[39m\u001b[33mr\u001b[39m\u001b[33;03m\"\"\"Sends a GET request.\u001b[39;00m\n\u001b[32m     64\u001b[39m \n\u001b[32m     65\u001b[39m \u001b[33;03m    :param url: URL for the new :class:`Request` object.\u001b[39;00m\n\u001b[32m   (...)\u001b[39m\u001b[32m     70\u001b[39m \u001b[33;03m    :rtype: requests.Response\u001b[39;00m\n\u001b[32m     71\u001b[39m \u001b[33;03m    \"\"\"\u001b[39;00m\n\u001b[32m---> \u001b[39m\u001b[32m73\u001b[39m     \u001b[38;5;28;01mreturn\u001b[39;00m \u001b[43mrequest\u001b[49m\u001b[43m(\u001b[49m\u001b[33;43m\"\u001b[39;49m\u001b[33;43mget\u001b[39;49m\u001b[33;43m\"\u001b[39;49m\u001b[43m,\u001b[49m\u001b[43m \u001b[49m\u001b[43murl\u001b[49m\u001b[43m,\u001b[49m\u001b[43m \u001b[49m\u001b[43mparams\u001b[49m\u001b[43m=\u001b[49m\u001b[43mparams\u001b[49m\u001b[43m,\u001b[49m\u001b[43m \u001b[49m\u001b[43m*\u001b[49m\u001b[43m*\u001b[49m\u001b[43mkwargs\u001b[49m\u001b[43m)\u001b[49m\n",
      "\u001b[36mFile \u001b[39m\u001b[32m~\\Desktop\\de_basic\\.venv\\Lib\\site-packages\\requests\\api.py:59\u001b[39m, in \u001b[36mrequest\u001b[39m\u001b[34m(method, url, **kwargs)\u001b[39m\n\u001b[32m     55\u001b[39m \u001b[38;5;66;03m# By using the 'with' statement we are sure the session is closed, thus we\u001b[39;00m\n\u001b[32m     56\u001b[39m \u001b[38;5;66;03m# avoid leaving sockets open which can trigger a ResourceWarning in some\u001b[39;00m\n\u001b[32m     57\u001b[39m \u001b[38;5;66;03m# cases, and look like a memory leak in others.\u001b[39;00m\n\u001b[32m     58\u001b[39m \u001b[38;5;28;01mwith\u001b[39;00m sessions.Session() \u001b[38;5;28;01mas\u001b[39;00m session:\n\u001b[32m---> \u001b[39m\u001b[32m59\u001b[39m     \u001b[38;5;28;01mreturn\u001b[39;00m \u001b[43msession\u001b[49m\u001b[43m.\u001b[49m\u001b[43mrequest\u001b[49m\u001b[43m(\u001b[49m\u001b[43mmethod\u001b[49m\u001b[43m=\u001b[49m\u001b[43mmethod\u001b[49m\u001b[43m,\u001b[49m\u001b[43m \u001b[49m\u001b[43murl\u001b[49m\u001b[43m=\u001b[49m\u001b[43murl\u001b[49m\u001b[43m,\u001b[49m\u001b[43m \u001b[49m\u001b[43m*\u001b[49m\u001b[43m*\u001b[49m\u001b[43mkwargs\u001b[49m\u001b[43m)\u001b[49m\n",
      "\u001b[36mFile \u001b[39m\u001b[32m~\\Desktop\\de_basic\\.venv\\Lib\\site-packages\\requests\\sessions.py:589\u001b[39m, in \u001b[36mSession.request\u001b[39m\u001b[34m(self, method, url, params, data, headers, cookies, files, auth, timeout, allow_redirects, proxies, hooks, stream, verify, cert, json)\u001b[39m\n\u001b[32m    584\u001b[39m send_kwargs = {\n\u001b[32m    585\u001b[39m     \u001b[33m\"\u001b[39m\u001b[33mtimeout\u001b[39m\u001b[33m\"\u001b[39m: timeout,\n\u001b[32m    586\u001b[39m     \u001b[33m\"\u001b[39m\u001b[33mallow_redirects\u001b[39m\u001b[33m\"\u001b[39m: allow_redirects,\n\u001b[32m    587\u001b[39m }\n\u001b[32m    588\u001b[39m send_kwargs.update(settings)\n\u001b[32m--> \u001b[39m\u001b[32m589\u001b[39m resp = \u001b[38;5;28;43mself\u001b[39;49m\u001b[43m.\u001b[49m\u001b[43msend\u001b[49m\u001b[43m(\u001b[49m\u001b[43mprep\u001b[49m\u001b[43m,\u001b[49m\u001b[43m \u001b[49m\u001b[43m*\u001b[49m\u001b[43m*\u001b[49m\u001b[43msend_kwargs\u001b[49m\u001b[43m)\u001b[49m\n\u001b[32m    591\u001b[39m \u001b[38;5;28;01mreturn\u001b[39;00m resp\n",
      "\u001b[36mFile \u001b[39m\u001b[32m~\\Desktop\\de_basic\\.venv\\Lib\\site-packages\\requests\\sessions.py:703\u001b[39m, in \u001b[36mSession.send\u001b[39m\u001b[34m(self, request, **kwargs)\u001b[39m\n\u001b[32m    700\u001b[39m start = preferred_clock()\n\u001b[32m    702\u001b[39m \u001b[38;5;66;03m# Send the request\u001b[39;00m\n\u001b[32m--> \u001b[39m\u001b[32m703\u001b[39m r = \u001b[43madapter\u001b[49m\u001b[43m.\u001b[49m\u001b[43msend\u001b[49m\u001b[43m(\u001b[49m\u001b[43mrequest\u001b[49m\u001b[43m,\u001b[49m\u001b[43m \u001b[49m\u001b[43m*\u001b[49m\u001b[43m*\u001b[49m\u001b[43mkwargs\u001b[49m\u001b[43m)\u001b[49m\n\u001b[32m    705\u001b[39m \u001b[38;5;66;03m# Total elapsed time of the request (approximately)\u001b[39;00m\n\u001b[32m    706\u001b[39m elapsed = preferred_clock() - start\n",
      "\u001b[36mFile \u001b[39m\u001b[32m~\\Desktop\\de_basic\\.venv\\Lib\\site-packages\\requests\\adapters.py:698\u001b[39m, in \u001b[36mHTTPAdapter.send\u001b[39m\u001b[34m(self, request, stream, timeout, verify, cert, proxies)\u001b[39m\n\u001b[32m    694\u001b[39m         \u001b[38;5;28;01mraise\u001b[39;00m ProxyError(e, request=request)\n\u001b[32m    696\u001b[39m     \u001b[38;5;28;01mif\u001b[39;00m \u001b[38;5;28misinstance\u001b[39m(e.reason, _SSLError):\n\u001b[32m    697\u001b[39m         \u001b[38;5;66;03m# This branch is for urllib3 v1.22 and later.\u001b[39;00m\n\u001b[32m--> \u001b[39m\u001b[32m698\u001b[39m         \u001b[38;5;28;01mraise\u001b[39;00m SSLError(e, request=request)\n\u001b[32m    700\u001b[39m     \u001b[38;5;28;01mraise\u001b[39;00m \u001b[38;5;167;01mConnectionError\u001b[39;00m(e, request=request)\n\u001b[32m    702\u001b[39m \u001b[38;5;28;01mexcept\u001b[39;00m ClosedPoolError \u001b[38;5;28;01mas\u001b[39;00m e:\n",
      "\u001b[31mSSLError\u001b[39m: HTTPSConnectionPool(host='apis.data.go.kr', port=443): Max retries exceeded with url: /1613000/RTMSDataSvcAptTrade?KEY=aInvyHgOJDCoYEyp8AFT%2BAhVUCxcY6kHTN4DyE69%2BEMicmH70IpA5UbZ4DPDACayBsMCV4O1%2F06bCECxJBmmHw%3D%3D&Type=json&LAWD_CD=11110&DEAL_YMD=201512 (Caused by SSLError(SSLError(1, '[SSL: SSLV3_ALERT_ILLEGAL_PARAMETER] sslv3 alert illegal parameter (_ssl.c:1016)')))"
     ]
    }
   ],
   "source": [
    "import requests\n",
    "\n",
    "API_KEY = \"\"\n",
    "url = \"https://apis.data.go.kr/1613000/RTMSDataSvcAptTrade\"\n",
    "params = {\n",
    "    \"KEY\": API_KEY,\n",
    "    \"Type\": \"json\",\n",
    "    \"LAWD_CD\": \"11110\",\n",
    "    \"DEAL_YMD\": \"201512\"\n",
    "}\n",
    "\n",
    "res = requests.get(url, params=params)\n",
    "print(res.status_code)\n",
    "print(res.text)  # 먼저 텍스트로 확인 후 json으로 파싱"
   ]
  },
  {
   "cell_type": "code",
   "execution_count": null,
   "id": "8a7a72b9-ae6d-4a15-8da4-0b54192178b1",
   "metadata": {},
   "outputs": [
    {
     "name": "stdout",
     "output_type": "stream",
     "text": [
      "✅ 데이터 수: 49\n",
      "  aptDong      aptNm      aptSeq bonbun bubun buildYear buyerGbn cdealDay  \\\n",
      "0    None  인왕산2차아이파크  11110-2417   0088  0000      2015     None     None   \n",
      "1    None        렉스빌   11110-973   0019  0000      2006     None     None   \n",
      "2    None         동아    11110-51   0101  0000      1995     None     None   \n",
      "3    None   경희궁파크팰리스   11110-107   0095  0000      2003     None     None   \n",
      "4    None         두산    11110-34   0232  0000      1999     None     None   \n",
      "\n",
      "  cdealType dealAmount  ... roadNmBonbun roadNmBubun roadNmCd roadNmSeq  \\\n",
      "0      None     63,400  ...        00034       00000  4100482        01   \n",
      "1      None     57,000  ...        00030       00000  4100544        01   \n",
      "2      None     44,600  ...        00147       00000  4100192        05   \n",
      "3      None    120,000  ...        00020       00000  4100135        05   \n",
      "4      None     50,000  ...        00007       00000  4100390        01   \n",
      "\n",
      "  roadNmSggCd roadNmbCd  sggCd slerGbn  umdCd umdNm  \n",
      "0       11110         0  11110    None  18700   무악동  \n",
      "1       11110         0  11110    None  17000  명륜1가  \n",
      "2       11110         0  11110    None  18000   교북동  \n",
      "3       11110         0  11110    None  11800   내수동  \n",
      "4       11110         0  11110    None  17400   창신동  \n",
      "\n",
      "[5 rows x 32 columns]\n"
     ]
    }
   ],
   "source": [
    "import requests\n",
    "import xmltodict\n",
    "import pandas as pd\n",
    "from concurrent.futures import ThreadPoolExecutor\n",
    "from tqdm import tqdm\n",
    "\n",
    "# \n",
    "SERVICE_KEY = ''\n",
    "BASE_URL = \"http://apis.data.go.kr/1613000/RTMSDataSvcAptTradeDev/getRTMSDataSvcAptTradeDev\"\n",
    "\n",
    "# 지역 코드 (서울: 11110 ~ 전국 주요 코드, 일부만 예시. 전체 원할 시 파일 제공 가능)\n",
    "REGION_CODES = [\n",
    "    \"11110\", \"11200\", \"11305\",  # 서울 일부\n",
    "    \"26110\", \"26260\",           # 부산 일부\n",
    "    \"41110\", \"41170\",           # 경기 일부\n",
    "    \"42110\",                   # 강원\n",
    "    \"43110\",                   # 충북\n",
    "    \"44130\",                   # 충남\n",
    "    \"45110\",                   # 전북\n",
    "    \"46110\",                   # 전남\n",
    "    \"47111\",                   # 대구\n",
    "    \"48121\",                   # 경남\n",
    "    \"50110\"                    # 제주\n",
    "]\n",
    "\n",
    "# 월 리스트\n",
    "months = [f\"202501\", \"202502\", \"202503\", \"202504\", \"202505\", \"202506\"]\n",
    "\n",
    "\n",
    "def fetch_data(lawd_cd, deal_ymd):\n",
    "    params = {\n",
    "        \"serviceKey\": SERVICE_KEY,\n",
    "        \"LAWD_CD\": lawd_cd,\n",
    "        \"DEAL_YMD\": deal_ymd,\n",
    "        \"numOfRows\": \"1000\",\n",
    "        \"pageNo\": \"1\"\n",
    "    }\n",
    "\n",
    "    try:\n",
    "        response = requests.get(BASE_URL, params=params)\n",
    "        if response.status_code != 200:\n",
    "            print(f\"❌ 요청 실패: {lawd_cd} / {deal_ymd} - Status Code {response.status_code}\")\n",
    "            return None\n",
    "\n",
    "        # XML → dict\n",
    "        data = xmltodict.parse(response.content)\n",
    "\n",
    "        # 응답 구조 안에 item이 없을 수 있으므로 방어적 접근\n",
    "        items = (\n",
    "            data.get(\"response\", {})\n",
    "                .get(\"body\", {})\n",
    "                .get(\"items\", {})\n",
    "                .get(\"item\", [])\n",
    "        )\n",
    "\n",
    "        # items가 비어 있으면 무시\n",
    "        if not items:\n",
    "            print(f\"⚠️ 데이터 없음: {lawd_cd} / {deal_ymd}\")\n",
    "            return None\n",
    "\n",
    "        # item이 하나일 경우 dict, 복수일 경우 list로 감\n",
    "        if isinstance(items, dict):\n",
    "            items = [items]\n",
    "\n",
    "        df = pd.DataFrame(items)\n",
    "        return df\n",
    "\n",
    "    except Exception as e:\n",
    "        print(f\"⚠️ 예외 발생: {lawd_cd} / {deal_ymd} - {e}\")\n",
    "        return None\n",
    "\n",
    "test_df = fetch_data(\"11110\", \"201512\")  # 서울 종로구 2025년 1월\n",
    "\n",
    "if test_df is not None:\n",
    "    print(\"✅ 데이터 수:\", len(test_df))\n",
    "    print(test_df.head())\n",
    "else:\n",
    "    print(\"❌ 데이터 없음\")\n"
   ]
  },
  {
   "cell_type": "code",
   "execution_count": 3,
   "id": "2c6bc889-03dc-475a-a504-f472af234a64",
   "metadata": {},
   "outputs": [
    {
     "name": "stderr",
     "output_type": "stream",
     "text": [
      " 39%|████████████▊                    | 35/90 [00:00<00:00, 162.28it/s]"
     ]
    },
    {
     "name": "stdout",
     "output_type": "stream",
     "text": [
      "[오류] 26110-202501: 'response'\n",
      "[오류] 46110-202501: 'response'\n",
      "[오류] 41170-202501: 'response'\n",
      "[오류] 11110-202501: 'response'\n",
      "[오류] 26260-202501: 'response'\n",
      "[오류] 11305-202501: 'response'\n",
      "[오류] 11200-202501: 'response'\n",
      "[오류] 42110-202501: 'response'\n",
      "[오류] 43110-202501: 'response'\n",
      "[오류] 41110-202501: 'response'\n",
      "[오류] 44130-202501: 'response'\n",
      "[오류] 45110-202501: 'response'\n",
      "[오류] 47111-202501: 'response'\n",
      "[오류] 11110-202502: 'response'\n",
      "[오류] 26110-202502: 'response'\n",
      "[오류] 11200-202502: 'response'\n",
      "[오류] 26260-202502: 'response'\n",
      "[오류] 48121-202501: 'response'\n",
      "[오류] 50110-202501: 'response'\n",
      "[오류] 42110-202502: 'response'\n",
      "[오류] 41110-202502: 'response'\n",
      "[오류] 11305-202502: 'response'\n",
      "[오류] 43110-202502: 'response'\n",
      "[오류] 45110-202502: 'response'\n",
      "[오류] 46110-202502: 'response'\n",
      "[오류] 11110-202503: 'response'\n",
      "[오류] 50110-202502: 'response'\n",
      "[오류] 44130-202502: 'response'\n",
      "[오류] 41170-202502: 'response'\n",
      "[오류] 47111-202502: 'response'\n",
      "[오류] 48121-202502: 'response'\n",
      "[오류] 11200-202503: 'response'\n",
      "[오류] 26110-202503: 'response'\n",
      "[오류] 41110-202503: 'response'\n",
      "[오류] 11305-202503: 'response'\n",
      "[오류] 41170-202503: 'response'\n",
      "[오류] 42110-202503: 'response'\n",
      "[오류] 43110-202503: 'response'\n",
      "[오류] 45110-202503: 'response'\n",
      "[오류] 47111-202503: 'response'\n",
      "[오류] 11110-202504: 'response'\n",
      "[오류] 26260-202503: 'response'\n"
     ]
    },
    {
     "name": "stderr",
     "output_type": "stream",
     "text": [
      " 60%|███████████████████▊             | 54/90 [00:00<00:00, 171.95it/s]"
     ]
    },
    {
     "name": "stdout",
     "output_type": "stream",
     "text": [
      "[오류] 46110-202503: 'response'\n",
      "[오류] 44130-202503: 'response'\n",
      "[오류] 50110-202503: 'response'\n",
      "[오류] 48121-202503: 'response'\n",
      "[오류] 11200-202504: 'response'\n",
      "[오류] 41170-202504: 'response'\n",
      "[오류] 26110-202504: 'response'\n",
      "[오류] 26260-202504: 'response'\n",
      "[오류] 11305-202504: 'response'\n",
      "[오류] 41110-202504: 'response'\n",
      "[오류] 48121-202504: 'response'\n",
      "[오류] 42110-202504: 'response'\n",
      "[오류] 44130-202504: 'response'\n",
      "[오류] 46110-202504: 'response'\n",
      "[오류] 47111-202504: 'response'\n",
      "[오류] 50110-202504: 'response'\n",
      "[오류] 11110-202505: 'response'\n",
      "[오류] 26260-202505: 'response'\n",
      "[오류] 11200-202505: 'response'\n",
      "[오류] 45110-202504: 'response'\n",
      "[오류] 43110-202504: 'response'\n",
      "[오류] 26110-202505: 'response'\n",
      "[오류] 11305-202505: 'response'\n",
      "[오류] 41170-202505: 'response'\n",
      "[오류] 44130-202505: 'response'\n",
      "[오류] 41110-202505: 'response'\n",
      "[오류] 45110-202505: 'response'\n",
      "[오류] 43110-202505: 'response'\n",
      "[오류] 42110-202505: 'response'\n",
      "[오류] 50110-202505: 'response'\n",
      "[오류] 46110-202505: 'response'\n",
      "[오류] 47111-202505: 'response'\n",
      "[오류] 48121-202505: 'response'\n",
      "[오류] 11200-202506: 'response'\n",
      "[오류] 11305-202506: 'response'\n",
      "[오류] 42110-202506: 'response'\n",
      "[오류] 43110-202506: 'response'\n",
      "[오류] 26110-202506: 'response'\n",
      "[오류] 41110-202506: 'response'\n",
      "[오류] 26260-202506: 'response'\n"
     ]
    },
    {
     "name": "stderr",
     "output_type": "stream",
     "text": [
      "100%|█████████████████████████████████| 90/90 [00:00<00:00, 184.81it/s]\n"
     ]
    },
    {
     "name": "stdout",
     "output_type": "stream",
     "text": [
      "[오류] 48121-202506: 'response'\n",
      "[오류] 47111-202506: 'response'\n",
      "[오류] 44130-202506: 'response'\n",
      "[오류] 41170-202506: 'response'\n",
      "[오류] 11110-202506: 'response'\n",
      "[오류] 45110-202506: 'response'\n",
      "[오류] 50110-202506: 'response'\n",
      "[오류] 46110-202506: 'response'\n"
     ]
    },
    {
     "ename": "ValueError",
     "evalue": "No objects to concatenate",
     "output_type": "error",
     "traceback": [
      "\u001b[31m------------------------------------------------------------------------\u001b[39m",
      "\u001b[31mValueError\u001b[39m                             Traceback (most recent call last)",
      "\u001b[36mCell\u001b[39m\u001b[36m \u001b[39m\u001b[32mIn[3]\u001b[39m\u001b[32m, line 55\u001b[39m\n\u001b[32m     52\u001b[39m             results.append(df)\n\u001b[32m     54\u001b[39m \u001b[38;5;66;03m# 데이터 병합 및 정제\u001b[39;00m\n\u001b[32m---> \u001b[39m\u001b[32m55\u001b[39m final_df = \u001b[43mpd\u001b[49m\u001b[43m.\u001b[49m\u001b[43mconcat\u001b[49m\u001b[43m(\u001b[49m\u001b[43mresults\u001b[49m\u001b[43m,\u001b[49m\u001b[43m \u001b[49m\u001b[43mignore_index\u001b[49m\u001b[43m=\u001b[49m\u001b[38;5;28;43;01mTrue\u001b[39;49;00m\u001b[43m)\u001b[49m\n\u001b[32m     56\u001b[39m \u001b[38;5;28mprint\u001b[39m(final_df.head())\n",
      "\u001b[36mFile \u001b[39m\u001b[32m~\\Desktop\\de_basic\\.venv\\Lib\\site-packages\\pandas\\core\\reshape\\concat.py:382\u001b[39m, in \u001b[36mconcat\u001b[39m\u001b[34m(objs, axis, join, ignore_index, keys, levels, names, verify_integrity, sort, copy)\u001b[39m\n\u001b[32m    379\u001b[39m \u001b[38;5;28;01melif\u001b[39;00m copy \u001b[38;5;129;01mand\u001b[39;00m using_copy_on_write():\n\u001b[32m    380\u001b[39m     copy = \u001b[38;5;28;01mFalse\u001b[39;00m\n\u001b[32m--> \u001b[39m\u001b[32m382\u001b[39m op = \u001b[43m_Concatenator\u001b[49m\u001b[43m(\u001b[49m\n\u001b[32m    383\u001b[39m \u001b[43m    \u001b[49m\u001b[43mobjs\u001b[49m\u001b[43m,\u001b[49m\n\u001b[32m    384\u001b[39m \u001b[43m    \u001b[49m\u001b[43maxis\u001b[49m\u001b[43m=\u001b[49m\u001b[43maxis\u001b[49m\u001b[43m,\u001b[49m\n\u001b[32m    385\u001b[39m \u001b[43m    \u001b[49m\u001b[43mignore_index\u001b[49m\u001b[43m=\u001b[49m\u001b[43mignore_index\u001b[49m\u001b[43m,\u001b[49m\n\u001b[32m    386\u001b[39m \u001b[43m    \u001b[49m\u001b[43mjoin\u001b[49m\u001b[43m=\u001b[49m\u001b[43mjoin\u001b[49m\u001b[43m,\u001b[49m\n\u001b[32m    387\u001b[39m \u001b[43m    \u001b[49m\u001b[43mkeys\u001b[49m\u001b[43m=\u001b[49m\u001b[43mkeys\u001b[49m\u001b[43m,\u001b[49m\n\u001b[32m    388\u001b[39m \u001b[43m    \u001b[49m\u001b[43mlevels\u001b[49m\u001b[43m=\u001b[49m\u001b[43mlevels\u001b[49m\u001b[43m,\u001b[49m\n\u001b[32m    389\u001b[39m \u001b[43m    \u001b[49m\u001b[43mnames\u001b[49m\u001b[43m=\u001b[49m\u001b[43mnames\u001b[49m\u001b[43m,\u001b[49m\n\u001b[32m    390\u001b[39m \u001b[43m    \u001b[49m\u001b[43mverify_integrity\u001b[49m\u001b[43m=\u001b[49m\u001b[43mverify_integrity\u001b[49m\u001b[43m,\u001b[49m\n\u001b[32m    391\u001b[39m \u001b[43m    \u001b[49m\u001b[43mcopy\u001b[49m\u001b[43m=\u001b[49m\u001b[43mcopy\u001b[49m\u001b[43m,\u001b[49m\n\u001b[32m    392\u001b[39m \u001b[43m    \u001b[49m\u001b[43msort\u001b[49m\u001b[43m=\u001b[49m\u001b[43msort\u001b[49m\u001b[43m,\u001b[49m\n\u001b[32m    393\u001b[39m \u001b[43m\u001b[49m\u001b[43m)\u001b[49m\n\u001b[32m    395\u001b[39m \u001b[38;5;28;01mreturn\u001b[39;00m op.get_result()\n",
      "\u001b[36mFile \u001b[39m\u001b[32m~\\Desktop\\de_basic\\.venv\\Lib\\site-packages\\pandas\\core\\reshape\\concat.py:445\u001b[39m, in \u001b[36m_Concatenator.__init__\u001b[39m\u001b[34m(self, objs, axis, join, keys, levels, names, ignore_index, verify_integrity, copy, sort)\u001b[39m\n\u001b[32m    442\u001b[39m \u001b[38;5;28mself\u001b[39m.verify_integrity = verify_integrity\n\u001b[32m    443\u001b[39m \u001b[38;5;28mself\u001b[39m.copy = copy\n\u001b[32m--> \u001b[39m\u001b[32m445\u001b[39m objs, keys = \u001b[38;5;28;43mself\u001b[39;49m\u001b[43m.\u001b[49m\u001b[43m_clean_keys_and_objs\u001b[49m\u001b[43m(\u001b[49m\u001b[43mobjs\u001b[49m\u001b[43m,\u001b[49m\u001b[43m \u001b[49m\u001b[43mkeys\u001b[49m\u001b[43m)\u001b[49m\n\u001b[32m    447\u001b[39m \u001b[38;5;66;03m# figure out what our result ndim is going to be\u001b[39;00m\n\u001b[32m    448\u001b[39m ndims = \u001b[38;5;28mself\u001b[39m._get_ndims(objs)\n",
      "\u001b[36mFile \u001b[39m\u001b[32m~\\Desktop\\de_basic\\.venv\\Lib\\site-packages\\pandas\\core\\reshape\\concat.py:507\u001b[39m, in \u001b[36m_Concatenator._clean_keys_and_objs\u001b[39m\u001b[34m(self, objs, keys)\u001b[39m\n\u001b[32m    504\u001b[39m     objs_list = \u001b[38;5;28mlist\u001b[39m(objs)\n\u001b[32m    506\u001b[39m \u001b[38;5;28;01mif\u001b[39;00m \u001b[38;5;28mlen\u001b[39m(objs_list) == \u001b[32m0\u001b[39m:\n\u001b[32m--> \u001b[39m\u001b[32m507\u001b[39m     \u001b[38;5;28;01mraise\u001b[39;00m \u001b[38;5;167;01mValueError\u001b[39;00m(\u001b[33m\"\u001b[39m\u001b[33mNo objects to concatenate\u001b[39m\u001b[33m\"\u001b[39m)\n\u001b[32m    509\u001b[39m \u001b[38;5;28;01mif\u001b[39;00m keys \u001b[38;5;129;01mis\u001b[39;00m \u001b[38;5;28;01mNone\u001b[39;00m:\n\u001b[32m    510\u001b[39m     objs_list = \u001b[38;5;28mlist\u001b[39m(com.not_none(*objs_list))\n",
      "\u001b[31mValueError\u001b[39m: No objects to concatenate"
     ]
    }
   ],
   "source": [
    "# 지역 코드 (서울: 11110 ~ 전국 주요 코드, 일부만 예시. 전체 원할 시 파일 제공 가능)\n",
    "REGION_CODES = [\n",
    "    \"11110\", \"11200\", \"11305\",  # 서울 일부\n",
    "    \"26110\", \"26260\",           # 부산 일부\n",
    "    \"41110\", \"41170\",           # 경기 일부\n",
    "    \"42110\",                   # 강원\n",
    "    \"43110\",                   # 충북\n",
    "    \"44130\",                   # 충남\n",
    "    \"45110\",                   # 전북\n",
    "    \"46110\",                   # 전남\n",
    "    \"47111\",                   # 대구\n",
    "    \"48121\",                   # 경남\n",
    "    \"50110\"                    # 제주\n",
    "]\n",
    "\n",
    "# 월 리스트\n",
    "months = [f\"202501\", \"202502\", \"202503\", \"202504\", \"202505\", \"202506\"]\n",
    "\n",
    "# 수집 함수\n",
    "def fetch_data(lawd_cd, deal_ymd):\n",
    "    params = {\n",
    "        \"serviceKey\": SERVICE_KEY,\n",
    "        \"LAWD_CD\": lawd_cd,\n",
    "        \"DEAL_YMD\": deal_ymd,\n",
    "        \"numOfRows\": \"1000\",\n",
    "        \"pageNo\": \"1\"\n",
    "    }\n",
    "    try:\n",
    "        response = requests.get(BASE_URL, params=params, timeout=10)\n",
    "        data = xmltodict.parse(response.text)\n",
    "        items = data['response']['body']['items']\n",
    "        if not items:\n",
    "            return pd.DataFrame()\n",
    "        item = items['item']\n",
    "        if isinstance(item, list):\n",
    "            return pd.DataFrame(item)\n",
    "        else:\n",
    "            return pd.DataFrame([item])\n",
    "    except Exception as e:\n",
    "        print(f\"[오류] {lawd_cd}-{deal_ymd}: {e}\")\n",
    "        return pd.DataFrame()\n",
    "\n",
    "# 병렬 처리 수집\n",
    "results = []\n",
    "with ThreadPoolExecutor(max_workers=12) as executor:\n",
    "    tasks = []\n",
    "    for ym in months:\n",
    "        for code in REGION_CODES:\n",
    "            tasks.append((code, ym))\n",
    "    for df in tqdm(executor.map(lambda x: fetch_data(*x), tasks), total=len(tasks)):\n",
    "        if not df.empty:\n",
    "            results.append(df)\n",
    "\n",
    "# 데이터 병합 및 정제\n",
    "final_df = pd.concat(results, ignore_index=True)\n",
    "print(final_df.head())\n"
   ]
  },
  {
   "cell_type": "code",
   "execution_count": null,
   "id": "10eb9a6e-5bb9-422c-8ec8-b6f826106280",
   "metadata": {},
   "outputs": [],
   "source": []
  }
 ],
 "metadata": {
  "kernelspec": {
   "display_name": "Python 3 (ipykernel)",
   "language": "python",
   "name": "python3"
  },
  "language_info": {
   "codemirror_mode": {
    "name": "ipython",
    "version": 3
   },
   "file_extension": ".py",
   "mimetype": "text/x-python",
   "name": "python",
   "nbconvert_exporter": "python",
   "pygments_lexer": "ipython3",
   "version": "3.11.12"
  }
 },
 "nbformat": 4,
 "nbformat_minor": 5
}
